{
 "cells": [
  {
   "cell_type": "markdown",
   "metadata": {},
   "source": [
    "<div class=\"row\">\n",
    "  <div class=\"column\">\n",
    "    <img src=\"./img/logo-onera.png\" width=\"200\">\n",
    "  </div>\n",
    "  <div class=\"column\">\n",
    "    <img src=\"./img/logo-ISAE_SUPAERO.png\" width=\"200\">\n",
    "  </div>\n",
    "</div>"
   ]
  },
  {
   "cell_type": "markdown",
   "metadata": {},
   "source": [
    "# Post Processing\n",
    "\n",
    "This notebook gathers all the diagrams that can be used to analyze one or several aircrafts, allowing for example to compare modified architectures with respect to a reference one.\n",
    "\n",
    "The postprocessing functions all use the generated xml files of the analysis mode or from a simple MDA. The user can manually write the name of each file in the \"name\" parameter of the functions. This name will appear in the legend of the diagram. To add an aircraft to a figure, the user simply has to call the function with the desired aircraft file by using the same figure as for the previous lines of command :\n",
    "\n",
    "*fig = plot_function(aircraft_file, name=\"\", parameters, fig=fig)*.\n",
    "\n",
    "This works for most functions.\n",
    "\n",
    "List of the diagrams :\n",
    "\n",
    "**GEOMETRY**\n",
    "- Top View of the Aircraft Geometry\n",
    "\n",
    "**AERODYNAMICS**\n",
    "- Distribution of the Lift Coefficient along the Wing (requires two xml files to work since it aims to directly compare the lift distributions)\n",
    "- Drag Breakdown\n",
    "- Non Equilibrated Aircraft Drag Polar\n",
    "- Equilibrated Aircraft Drag Polar\n",
    "\n",
    "**WEIGHT/BALANCE**\n",
    "- Course of the barycenter with the static margins highlighted\n",
    "- Mass Breakdown\n",
    "\n",
    "**PERFORMANCES**\n",
    "- Payload Range\n",
    "- Evolution Diagram (Maneuver + Gust)\n",
    "\n",
    "**LOAD ANALYSIS**\n",
    "- Force Distribution on the Wing\n",
    "- Shear Force on the Wing\n",
    "- Root Bending Moments on the Wing\n",
    "- Bending Moments on the Fuselage"
   ]
  },
  {
   "cell_type": "markdown",
   "metadata": {},
   "source": [
    "## Initialization of work environment\n",
    "\n",
    "The user has to choose here the files he wants to postprocess. He can take mda output files (in the data folder), or output files from the analysis mode (in the output folder). Since the theoretical amount of files is infinite no widget or approach has been implemented to render the choice of file user-friendly. The user has to make sure that the files he wants to analyze are processed in this cell. Once it is done their path name can be used as the input of the functions."
   ]
  },
  {
   "cell_type": "code",
   "execution_count": null,
   "metadata": {
    "scrolled": false
   },
   "outputs": [],
   "source": [
    "import os.path as pth\n",
    "import os\n",
    "import openmdao.api as om\n",
    "from fastoad import api as api_cs25\n",
    "from fastga.command import api as api_cs23\n",
    "import logging\n",
    "from fastoad.gui import VariableViewer\n",
    "import shutil\n",
    "\n",
    "# Define relative path\n",
    "current_path = os.getcwd()\n",
    "DATA_FOLDER_PATH = pth.join(current_path, \"data\")\n",
    "WORK_FOLDER_PATH = pth.join(current_path, \"workdir\")\n",
    "OUTPUT_FOLDER_PATH = pth.join(current_path, \"output\")\n",
    "\n",
    "OUTPUT_REF_FILE = pth.join(OUTPUT_FOLDER_PATH, \"output_ref.xml\")\n",
    "OUTPUT_MOD_FILE = pth.join(OUTPUT_FOLDER_PATH, \"output_mod_fuselage_tbm.xml\")\n",
    "\n",
    "# MDA Output Files\n",
    "BEECH_MDA = pth.join(DATA_FOLDER_PATH, \"output_mda_beech.xml\")\n",
    "CIRRUS_MDA = pth.join(DATA_FOLDER_PATH, \"output_mda_cirrus_sr22.xml\")\n",
    "TBM_MDA = pth.join(DATA_FOLDER_PATH, \"output_mda_tbm930.xml\")\n",
    "\n",
    "# For using all screen width\n",
    "from IPython.core.display import display, HTML\n",
    "\n",
    "display(HTML(\"<style>.container { width:80% !important; }</style>\"))"
   ]
  },
  {
   "cell_type": "code",
   "execution_count": null,
   "metadata": {},
   "outputs": [],
   "source": [
    "api_cs25.variable_viewer(BEECH_MDA)"
   ]
  },
  {
   "cell_type": "code",
   "execution_count": null,
   "metadata": {
    "scrolled": false
   },
   "outputs": [],
   "source": [
    "api_cs25.variable_viewer(OUTPUT_MOD_FILE)"
   ]
  },
  {
   "cell_type": "markdown",
   "metadata": {},
   "source": [
    "## GEOMETRY"
   ]
  },
  {
   "cell_type": "markdown",
   "metadata": {},
   "source": [
    "### Top View of the Aircraft Geometry"
   ]
  },
  {
   "cell_type": "code",
   "execution_count": null,
   "metadata": {},
   "outputs": [],
   "source": [
    "from fastga.utils.postprocessing.analysis_and_plots import aircraft_geometry_plot\n",
    "\n",
    "fig = aircraft_geometry_plot(TBM_MDA, name=\"TBM 930\", plot_nacelle=True)\n",
    "fig = aircraft_geometry_plot(\n",
    "    OUTPUT_MOD_FILE, name=\"TBM 930 with fuselage stretched by 1 meter\", fig=fig, plot_nacelle=False\n",
    ")\n",
    "fig.show()"
   ]
  },
  {
   "cell_type": "markdown",
   "metadata": {},
   "source": [
    "## AERODYNAMICS"
   ]
  },
  {
   "cell_type": "markdown",
   "metadata": {},
   "source": [
    "### Lift coefficient distribution along the wing\n",
    "\n",
    "prop_on = True : takes in account the influence of the propeller on the airflow.\n",
    "\n",
    "prop_on = False : does not take in account the influence of the propeller on the airflow.\n",
    "\n",
    "For aircrafts with engines mounted under the wing we can clearly see the impact of the propeller."
   ]
  },
  {
   "cell_type": "code",
   "execution_count": null,
   "metadata": {},
   "outputs": [],
   "source": [
    "from fastga.utils.postprocessing.analysis_and_plots import cl_wing_diagram\n",
    "\n",
    "\n",
    "prop_on = True\n",
    "\n",
    "[fig, fig1] = cl_wing_diagram(\n",
    "    TBM_MDA, OUTPUT_MOD_FILE, prop_on, name_ref=\"reference aircraft\", name_mod=\"modified aircraft\"\n",
    ")\n",
    "fig.show()\n",
    "fig1.show()"
   ]
  },
  {
   "cell_type": "markdown",
   "metadata": {},
   "source": [
    "### Drag breakdown Diagram"
   ]
  },
  {
   "cell_type": "code",
   "execution_count": null,
   "metadata": {
    "scrolled": false
   },
   "outputs": [],
   "source": [
    "from fastga.utils.postprocessing.analysis_and_plots import drag_breakdown_diagram\n",
    "\n",
    "fig = drag_breakdown_diagram(OUTPUT_MDA_FILE)\n",
    "fig.show()"
   ]
  },
  {
   "cell_type": "markdown",
   "metadata": {},
   "source": [
    "### Non Equilibrated Drag Polar\n",
    "The value displayed on the curves is the maximum ratio of the CL over the CD ie the finesse."
   ]
  },
  {
   "cell_type": "code",
   "execution_count": null,
   "metadata": {},
   "outputs": [],
   "source": [
    "from fastga.utils.postprocessing.analysis_and_plots import aircraft_polar\n",
    "\n",
    "fig = aircraft_polar(BEECH_MDA, name=\"reference aircraft\", equilibrated=False)\n",
    "# fig = aircraft_polar(OUTPUT_MOD_FILE, name='modified aircraft', equilibrated=False, fig=fig)\n",
    "fig.show()"
   ]
  },
  {
   "cell_type": "markdown",
   "metadata": {},
   "source": [
    "### Equilibrated Aircraft Drag Polar\n",
    "\n",
    "The range of (CD, CL) points is obtained with the theoretical variation of the aircraft MTOW up to the mass where the CL0_clean is reached.\n",
    "\n",
    "The displayed value of finesse for the equilibrated polar is too low. The quantity for the non-equilibrated drag polars is preferably used."
   ]
  },
  {
   "cell_type": "code",
   "execution_count": null,
   "metadata": {},
   "outputs": [],
   "source": [
    "api_cs25.variable_viewer(TBM_MDA)"
   ]
  },
  {
   "cell_type": "code",
   "execution_count": null,
   "metadata": {},
   "outputs": [],
   "source": [
    "from fastga.models.aerodynamics.components.compute_polar import _compute_equilibrated_polar\n",
    "from fastga.utils.postprocessing.analysis_and_plots import aircraft_polar\n",
    "\n",
    "TEMP_FILE = pth.join(WORK_FOLDER_PATH, \"temp.xml\")\n",
    "shutil.copy(BEECH_MDA, TEMP_FILE)\n",
    "\n",
    "\n",
    "def polar_variation(cg_ratio):\n",
    "    compute_polar_cruise = api_cs23.generate_block_analysis(\n",
    "        _compute_equilibrated_polar(low_speed_aero=False, x_cg_ratio=cg_ratio),\n",
    "        [],\n",
    "        str(TEMP_FILE),\n",
    "        True,\n",
    "    )\n",
    "\n",
    "    output = compute_polar_cruise({})\n",
    "\n",
    "    compute_polar_low_speed = api_cs23.generate_block_analysis(\n",
    "        _compute_equilibrated_polar(low_speed_aero=True, x_cg_ratio=cg_ratio),\n",
    "        [],\n",
    "        str(TEMP_FILE),\n",
    "        True,\n",
    "    )\n",
    "\n",
    "    output = compute_polar_low_speed({})\n",
    "\n",
    "    fig = aircraft_polar(TEMP_FILE, name=\"Beech 76\", equilibrated=True)\n",
    "    fig.show()"
   ]
  },
  {
   "cell_type": "code",
   "execution_count": null,
   "metadata": {
    "scrolled": false
   },
   "outputs": [],
   "source": [
    "from ipywidgets import widgets, Layout\n",
    "from fastoad.io import VariableIO\n",
    "from IPython.display import display, clear_output\n",
    "\n",
    "variables = VariableIO(TEMP_FILE).read()\n",
    "cg_aft = round(variables[\"data:weight:aircraft:CG:aft:MAC_position\"].value[0], 2)\n",
    "cg_fwd = round(variables[\"data:weight:aircraft:CG:fwd:MAC_position\"].value[0], 2)\n",
    "\n",
    "cg_choice = widgets.FloatSlider(\n",
    "    value=cg_fwd,\n",
    "    min=cg_fwd,\n",
    "    max=cg_aft,\n",
    "    step=0.01,\n",
    "    description=\"CG position (ratio of MAC):\",\n",
    "    style={\"description_width\": \"initial\"},\n",
    "    layout=Layout(width=\"30%\"),\n",
    "    disabled=False,\n",
    "    continuous_update=False,\n",
    "    orientation=\"horizontal\",\n",
    "    readout=True,\n",
    "    readout_format=\".2f\",\n",
    ")\n",
    "\n",
    "\n",
    "def eventhandler(change):\n",
    "    if change.new:\n",
    "        clear_output()\n",
    "        display(cg_choice)\n",
    "        polar_variation(cg_choice.value)\n",
    "\n",
    "\n",
    "cg_choice.observe(eventhandler, names=\"value\")\n",
    "display(cg_choice)"
   ]
  },
  {
   "cell_type": "markdown",
   "metadata": {},
   "source": [
    "## WEIGHT / BALANCE"
   ]
  },
  {
   "cell_type": "markdown",
   "metadata": {},
   "source": [
    "### Course of the barycenter\n",
    "\n",
    "\"empty CG\" refers to the aircraft barycenter without payload and without fuel."
   ]
  },
  {
   "cell_type": "code",
   "execution_count": null,
   "metadata": {
    "scrolled": false
   },
   "outputs": [],
   "source": [
    "from fastga.utils.postprocessing.analysis_and_plots import cg_lateral_diagram\n",
    "\n",
    "\n",
    "fig = cg_lateral_diagram(TBM_MDA, name=\"TBM 930\", color=\"MediumPurple\")\n",
    "fig = cg_lateral_diagram(\n",
    "    OUTPUT_MOD_FILE, name=\"TBM 930 with fuselage stretched by 1 meter\", fig=fig, color=\"LightSalmon\"\n",
    ")\n",
    "fig.show()"
   ]
  },
  {
   "cell_type": "markdown",
   "metadata": {},
   "source": [
    "### Mass breakdown"
   ]
  },
  {
   "cell_type": "code",
   "execution_count": null,
   "metadata": {},
   "outputs": [],
   "source": [
    "from fastga.utils.postprocessing.analysis_and_plots import mass_breakdown_bar_plot\n",
    "\n",
    "fig = mass_breakdown_bar_plot(TBM_MDA, name=\"TBM 930\")\n",
    "fig = mass_breakdown_bar_plot(OUTPUT_MOD_FILE, name=\"TBM 930 + 15 % wing span\", fig=fig)\n",
    "fig.show()"
   ]
  },
  {
   "cell_type": "code",
   "execution_count": null,
   "metadata": {
    "scrolled": false
   },
   "outputs": [],
   "source": [
    "from fastga.utils.postprocessing.analysis_and_plots import mass_breakdown_sun_plot\n",
    "\n",
    "fig = mass_breakdown_sun_plot(BEECH)\n",
    "# fig = mass_breakdown_sun_plot(OUTPUT_MOD_FILE, name='modified aircraft', fig=fig)\n",
    "fig.show()"
   ]
  },
  {
   "cell_type": "markdown",
   "metadata": {},
   "source": [
    "## PERFORMANCES"
   ]
  },
  {
   "cell_type": "markdown",
   "metadata": {},
   "source": [
    "### Evolution Diagram"
   ]
  },
  {
   "cell_type": "code",
   "execution_count": null,
   "metadata": {},
   "outputs": [],
   "source": [
    "from fastga.utils.postprocessing.analysis_and_plots import evolution_diagram\n",
    "\n",
    "\n",
    "fig = evolution_diagram(TBM_MDA, name=\"TBM 930\")\n",
    "# fig = evolution_diagram(OUTPUT_MOD_FILE,name='modified aircraft',fig=fig)\n",
    "fig.show()"
   ]
  },
  {
   "cell_type": "markdown",
   "metadata": {},
   "source": [
    "### Payload Range Diagram\n",
    "It can be necessary to manually compute the payload range since this process is not automatically done in the analysis because of its rather high computational time (1-2 min)."
   ]
  },
  {
   "cell_type": "code",
   "execution_count": null,
   "metadata": {
    "scrolled": false
   },
   "outputs": [],
   "source": [
    "from fastga.models.performances.payload_range import ComputePayloadRange\n",
    "\n",
    "# engine_id = \"fastga.wrapper.propulsion.basicIC_engine\"\n",
    "engine_id = \"fastga.wrapper.propulsion.basic_turboprop\"\n",
    "\n",
    "compute_payload_range = api_cs23.generate_block_analysis(\n",
    "    ComputePayloadRange(\n",
    "        propulsion_id=engine_id,\n",
    "    ),\n",
    "    [],\n",
    "    str(TBM_MDA),\n",
    "    True,\n",
    ")\n",
    "output = compute_payload_range({})"
   ]
  },
  {
   "cell_type": "code",
   "execution_count": null,
   "metadata": {
    "scrolled": false
   },
   "outputs": [],
   "source": [
    "from fastga.utils.postprocessing.analysis_and_plots import payload_range\n",
    "\n",
    "fig = payload_range(TBM_MDA, name=\"Beechcraft Model 76 Duchess\")\n",
    "# fig = payload_range(OUTPUT_MOD_FILE, name='modified aircraft', fig=fig)\n",
    "fig.show()"
   ]
  },
  {
   "cell_type": "markdown",
   "metadata": {},
   "source": [
    "## LOAD ANALYSIS"
   ]
  },
  {
   "cell_type": "markdown",
   "metadata": {},
   "source": [
    "### Force Distribution on the Wing"
   ]
  },
  {
   "cell_type": "code",
   "execution_count": null,
   "metadata": {},
   "outputs": [],
   "source": [
    "from fastga.utils.postprocessing.load_analysis.analysis_and_plots_la import (\n",
    "    force_repartition_diagram,\n",
    ")\n",
    "\n",
    "fig = force_repartition_diagram(OUTPUT_REF_FILE, name=\"reference aircraft\")\n",
    "fig.show()"
   ]
  },
  {
   "cell_type": "code",
   "execution_count": null,
   "metadata": {},
   "outputs": [],
   "source": [
    "from fastga.utils.postprocessing.load_analysis.analysis_and_plots_la import (\n",
    "    force_repartition_diagram,\n",
    ")\n",
    "\n",
    "fig = force_repartition_diagram(OUTPUT_MOD_FILE, name=\"modified aircraft\")\n",
    "fig.show()"
   ]
  },
  {
   "cell_type": "markdown",
   "metadata": {},
   "source": [
    "### Shear Force on the Wing"
   ]
  },
  {
   "cell_type": "code",
   "execution_count": null,
   "metadata": {},
   "outputs": [],
   "source": [
    "from fastga.utils.postprocessing.load_analysis.analysis_and_plots_la import shear_diagram\n",
    "\n",
    "fig2 = shear_diagram(OUTPUT_REF_FILE, name=\"reference aircraft\")\n",
    "fig2.show()"
   ]
  },
  {
   "cell_type": "code",
   "execution_count": null,
   "metadata": {},
   "outputs": [],
   "source": [
    "from fastga.utils.postprocessing.load_analysis.analysis_and_plots_la import shear_diagram\n",
    "\n",
    "fig2 = shear_diagram(OUTPUT_MOD_FILE, name=\"modified aircraft\")\n",
    "fig2.show()"
   ]
  },
  {
   "cell_type": "markdown",
   "metadata": {},
   "source": [
    "### Root Bending Moments on the Wing"
   ]
  },
  {
   "cell_type": "code",
   "execution_count": null,
   "metadata": {},
   "outputs": [],
   "source": [
    "from fastga.utils.postprocessing.load_analysis.analysis_and_plots_la import rbm_diagram\n",
    "\n",
    "fig3 = rbm_diagram(OUTPUT_REF_FILE, name=\"reference aircraft\")\n",
    "fig3.show()"
   ]
  },
  {
   "cell_type": "code",
   "execution_count": null,
   "metadata": {},
   "outputs": [],
   "source": [
    "from fastga.utils.postprocessing.load_analysis.analysis_and_plots_la import rbm_diagram\n",
    "\n",
    "fig3 = rbm_diagram(OUTPUT_MOD_FILE, name=\"modified aircraft\")\n",
    "fig3.show()"
   ]
  },
  {
   "cell_type": "markdown",
   "metadata": {},
   "source": [
    "### Bending Moments on the Fuselage"
   ]
  },
  {
   "cell_type": "code",
   "execution_count": null,
   "metadata": {},
   "outputs": [],
   "source": [
    "from fastga.utils.postprocessing.load_analysis.analysis_and_plots_la import fuselage_bending_diagram\n",
    "\n",
    "fig = fuselage_bending_diagram(TBM_MDA, name=\"reference aircraft\")\n",
    "fig = fuselage_bending_diagram(OUTPUT_MOD_FILE, name=\"modified aircraft\", fig=fig)\n",
    "fig.show()"
   ]
  },
  {
   "cell_type": "code",
   "execution_count": null,
   "metadata": {},
   "outputs": [],
   "source": []
  }
 ],
 "metadata": {
  "kernelspec": {
   "display_name": "Python 3 (ipykernel)",
   "language": "python",
   "name": "python3"
  },
  "language_info": {
   "codemirror_mode": {
    "name": "ipython",
    "version": 3
   },
   "file_extension": ".py",
   "mimetype": "text/x-python",
   "name": "python",
   "nbconvert_exporter": "python",
   "pygments_lexer": "ipython3",
   "version": "3.9.7"
  }
 },
 "nbformat": 4,
 "nbformat_minor": 4
}
