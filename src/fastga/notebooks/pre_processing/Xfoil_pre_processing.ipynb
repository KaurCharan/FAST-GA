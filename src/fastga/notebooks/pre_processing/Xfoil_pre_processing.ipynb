{
 "cells": [
  {
   "cell_type": "markdown",
   "metadata": {},
   "source": [
    "<div class=\"row\">\n",
    "  <div class=\"column\">\n",
    "    <img src=\"./img/logo-onera.png\" width=\"200\">\n",
    "  </div>\n",
    "  <div class=\"column\">\n",
    "    <img src=\"./img/logo-ISAE_SUPAERO.png\" width=\"200\">\n",
    "  </div>\n",
    "</div>"
   ]
  },
  {
   "cell_type": "markdown",
   "metadata": {},
   "source": [
    "# FAST-OAD-GA Pre-generating Xfoil results\n",
    "\n",
    "It has been observed that Xfoil would sometimes fail to converge for Reynolds number while it converge for slightly higher/lower Reynolds number. To counter this problem, it was decided to generate the results and do some post-processing to ensure the results are plausible. \n",
    "\n",
    "It is worth noting that it is not mandatory to run this notebook before launching FAST-OAD-GA but this would help filter out physically irrelevant results."
   ]
  },
  {
   "cell_type": "code",
   "execution_count": 1,
   "metadata": {
    "scrolled": true
   },
   "outputs": [
    {
     "name": "stderr",
     "output_type": "stream",
     "text": [
      "Failed to import module fastga.models.performances.unitary_tests.test_beechcraft_76.py\n",
      "Failed to import module fastga.models.aerodynamics.unitary_tests.test_functions.py\n",
      "Failed to import module fastga.models.geometry.unitary_tests.test_beechcraft_76.py\n",
      "Failed to import module fastga.models.performances.unitary_tests.test_cirrus_sr22.py\n",
      "Failed to import module fastga.models.weight.cg.unitary_tests.test_beechcraft_76.py\n",
      "Failed to import module fastga.models.weight.mass_breakdown.unitary_tests.test_cirrus_sr22.py\n",
      "Failed to import module fastga.models.aerodynamics.unitary_tests.test_cirrus_sr22.py\n",
      "Failed to import module fastga.models.weight.mass_breakdown.unitary_tests.test_beechcraft_76.py\n",
      "Failed to import module fastga.models.handling_qualities.unitary_tests.test_cirrus_sr22.py\n",
      "Failed to import module fastga.models.propulsion.fuel_propulsion.basicIC_engine.unitary_tests.test_openmdao_engine.py\n",
      "Failed to import module fastga.models.handling_qualities.unitary_tests.test_beechcraft_76.py\n",
      "Failed to import module fastga.models.load_analysis.unitary_tests.test_cirrus_sr22.py\n",
      "Failed to import module fastga.models.loops.unitary_tests.test_wing_area.py\n",
      "Failed to import module fastga.models.load_analysis.unitary_tests.test_beechcraft_76.py\n",
      "Failed to import module fastga.models.geometry.unitary_tests.test_cirrus_sr22.py\n",
      "Failed to import module fastga.models.aerodynamics.unitary_tests.test_beechcraft_76.py\n",
      "Failed to import module fastga.models.weight.cg.unitary_tests.test_cirrus_sr22.py\n"
     ]
    }
   ],
   "source": [
    "import os.path as pth\n",
    "import openmdao.api as om\n",
    "\n",
    "import logging\n",
    "import os\n",
    "import shutil\n",
    "import time\n",
    "\n",
    "from fastoad import api as api_cs25\n",
    "from fastga.command import api as api_cs23\n",
    "\n",
    "from fastoad.gui import VariableViewer\n",
    "\n",
    "import pandas as pd\n",
    "import numpy as np\n",
    "import matplotlib.pyplot as plt\n",
    "\n",
    "# Define relative path\n",
    "DATA_FOLDER_PATH = 'data'\n",
    "WORK_FOLDER_PATH = 'workdir'\n",
    "RESULT_FOLDER_PATH = 'results'\n",
    "\n",
    "# Final file names, name doesn't matter as the only used variables are the Reynolds and approach speed \n",
    "# defined as input variable later in the code\n",
    "AIRCRAFT1_FILE = pth.join(WORK_FOLDER_PATH, 'blank.xml')"
   ]
  },
  {
   "cell_type": "markdown",
   "metadata": {},
   "source": [
    "Clearing and preparing the work folder by importing the blank .xml file"
   ]
  },
  {
   "cell_type": "code",
   "execution_count": 2,
   "metadata": {},
   "outputs": [
    {
     "data": {
      "text/plain": [
       "'workdir\\\\blank.xml'"
      ]
     },
     "execution_count": 2,
     "metadata": {},
     "output_type": "execute_result"
    }
   ],
   "source": [
    "# Clear work folder\n",
    "shutil.rmtree(WORK_FOLDER_PATH, ignore_errors=True)\n",
    "os.mkdir(WORK_FOLDER_PATH)\n",
    "shutil.copy(pth.join(DATA_FOLDER_PATH, 'blank.xml'), pth.join(WORK_FOLDER_PATH, 'blank.xml'))"
   ]
  },
  {
   "cell_type": "markdown",
   "metadata": {},
   "source": [
    "Here we define a few functions that will be used later for the post treatment of the data we will get. The first one allow to delete zeros that may be present in the alpha array while the second one allows to sort a list while keeping the matching data on a second list"
   ]
  },
  {
   "cell_type": "code",
   "execution_count": 3,
   "metadata": {},
   "outputs": [],
   "source": [
    "def delete_additional_zeros(array_alpha, array_cl):\n",
    "    \"\"\"\n",
    "    Function that delete the additional zeros we had to add to fit the format imposed by OpenMDAO in both the alpha\n",
    "    and CL array simultaneously\n",
    "\n",
    "    @param array_alpha: an array with the alpha values and the additional zeros we want to delete\n",
    "    @param array_cl: the corresponding Cl array\n",
    "    @return: final_array_alpha an array containing the same alphas of the initial array but with the additional\n",
    "    zeros deleted\n",
    "    @return: final_array_CL an array containing the corresponding CL\n",
    "    \"\"\"\n",
    "\n",
    "    non_zero_array = np.where(array_alpha != 0)\n",
    "    if array_alpha[0] == 0.0:\n",
    "        valid_data_index = np.insert(non_zero_array, 0, 0)\n",
    "    else:\n",
    "        valid_data_index = non_zero_array\n",
    "\n",
    "    final_array_alpha = array_alpha[valid_data_index]\n",
    "    final_array_cl = array_cl[valid_data_index]\n",
    "\n",
    "    return final_array_alpha, final_array_cl\n",
    "\n",
    "def rearrange_data(array_alpha, array_cl):\n",
    "    \"\"\"\n",
    "    Function that rearrange the data so that the alpha array is sorted and the cl array is rearranged accordingly\n",
    "\n",
    "    @param array_alpha: an array with the alpha values in potentially the wrong order\n",
    "    @param array_cl: the corresponding Cl array\n",
    "    @return: final_array_alpha an array containing the same alphas of the initial array but sorted\n",
    "    @return: final_array_CL an array containing the corresponding CL in the corresponding position\n",
    "    \"\"\"\n",
    "\n",
    "    sorter = np.zeros((len(array_alpha), 2))\n",
    "    sorter[:, 0] = array_alpha\n",
    "    sorter[:, 1] = array_cl\n",
    "    sorted_alpha = np.sort(sorter, axis=0)\n",
    "    for alpha in sorted_alpha[:, 0]:\n",
    "        index_alpha_new = np.where(sorted_alpha[:, 0] == alpha)\n",
    "        index_alpha_orig = np.where(array_alpha == alpha)\n",
    "        sorted_alpha[index_alpha_new, 1] = array_cl[index_alpha_orig]\n",
    "\n",
    "    return sorted_alpha[:, 0], sorted_alpha[:, 1]"
   ]
  },
  {
   "cell_type": "markdown",
   "metadata": {},
   "source": [
    "We prepare the block analysis that will allows us to run xfoil multiple time at different Reynolds number"
   ]
  },
  {
   "cell_type": "code",
   "execution_count": 4,
   "metadata": {},
   "outputs": [],
   "source": [
    "from fastga.models.aerodynamics.external.xfoil.xfoil_group import XfoilGroup as Xfoil\n",
    "from fastga.models.aerodynamics.external.xfoil import resources\n",
    "\n",
    "var_inputs = [\"data:TLAR:v_approach\", \"data:Xfoil_pre_processing:reynolds\"]\n",
    "\n",
    "airfoil_file_name = \"naca23018.af\"  \n",
    "\n",
    "# Declare function\n",
    "compute_xfoil = api_cs23.generate_block_analysis(\n",
    "    Xfoil(\n",
    "        airfoil_file=airfoil_file_name,\n",
    "        compute_negative_air_angle=True,\n",
    "    ),\n",
    "    var_inputs,\n",
    "    AIRCRAFT1_FILE,\n",
    "    overwrite=True,\n",
    ")\n",
    "\n",
    "file_path = pth.join(resources.__path__[0], airfoil_file_name.replace('.af', '_20S.csv'))"
   ]
  },
  {
   "cell_type": "markdown",
   "metadata": {},
   "source": [
    "This is where we define the values of the Reynolds number and approach velocity that are required to run the Xfoil group"
   ]
  },
  {
   "cell_type": "code",
   "execution_count": 5,
   "metadata": {},
   "outputs": [
    {
     "name": "stdout",
     "output_type": "stream",
     "text": [
      "[ 500000.          793103.44827586 1086206.89655172 1379310.34482759\n",
      " 1672413.79310345 1965517.24137931 2258620.68965517 2551724.13793103\n",
      " 2844827.5862069  3137931.03448276 3431034.48275862 3724137.93103448\n",
      " 4017241.37931035 4310344.82758621 4603448.27586207 4896551.72413793\n",
      " 5189655.17241379 5482758.62068966 5775862.06896552 6068965.51724138\n",
      " 6362068.96551724 6655172.4137931  6948275.86206897 7241379.31034483\n",
      " 7534482.75862069 7827586.20689655 8120689.65517241 8413793.10344828\n",
      " 8706896.55172414 9000000.        ]\n"
     ]
    }
   ],
   "source": [
    "reynolds_array_orig = np.linspace(500000, 9000000, num = 30)\n",
    "print(reynolds_array_orig)\n",
    "\n",
    "altitude = 17000.0 # In ft \n",
    "v_approach = 250.0 #In kts"
   ]
  },
  {
   "cell_type": "markdown",
   "metadata": {},
   "source": [
    "Here we launch the multiples simulations based on the Reynolds number we define in the section above"
   ]
  },
  {
   "cell_type": "code",
   "execution_count": 6,
   "metadata": {},
   "outputs": [
    {
     "name": "stderr",
     "output_type": "stream",
     "text": [
      "D:\\fl.lutz\\FAST\\FAST-OAD\\FAST-GA\\src\\fastga\\models\\aerodynamics\\external\\xfoil\\xfoil_polar.py:524: UserWarning: genfromtxt: Empty input file: \"C:\\Users\\FL36F6~1.LUT\\AppData\\Local\\Temp\\xexnam7fm\\out\"\n",
      "  result_array = np.genfromtxt(xfoil_result_file_path, skip_header=12, dtype=dtypes)\n",
      "2D CL max not found, less than 40% of angle range computed: using default value 1.9\n",
      "D:\\fl.lutz\\FAST\\FAST-OAD\\FAST-GA\\src\\fastga\\models\\aerodynamics\\external\\xfoil\\xfoil_polar.py:524: UserWarning: genfromtxt: Empty input file: \"C:\\Users\\FL36F6~1.LUT\\AppData\\Local\\Temp\\xuq5miom7\\out\"\n",
      "  result_array = np.genfromtxt(xfoil_result_file_path, skip_header=12, dtype=dtypes)\n",
      "2D CL max not found, less than 40% of angle range computed: using default value 1.9\n"
     ]
    }
   ],
   "source": [
    "for reynolds in reynolds_array_orig:\n",
    "    inputs_dict = {\"data:TLAR:v_approach\": (v_approach, \"kn\"),\n",
    "                   \"data:Xfoil_pre_processing:reynolds\": (reynolds, None)}\n",
    "    \n",
    "    outputs_dict = compute_xfoil(inputs_dict)"
   ]
  },
  {
   "cell_type": "code",
   "execution_count": 7,
   "metadata": {},
   "outputs": [
    {
     "name": "stdout",
     "output_type": "stream",
     "text": [
      "0.4021\n"
     ]
    }
   ],
   "source": [
    "from fastoad.model_base.atmosphere import Atmosphere\n",
    "\n",
    "sos = Atmosphere(altitude, altitude_in_feet=True).speed_of_sound\n",
    "mach_run = round(float(v_approach * 0.5144 / sos), 4)\n",
    "print(mach_run)"
   ]
  },
  {
   "cell_type": "markdown",
   "metadata": {},
   "source": [
    "Here starts the post treatment of the values we obtained. Since we want to able able to simply add new values for different mach number, we must first find where are the results of this run so we can leave the rest untouched since it was already treated. We also can't simply treat the output of the block analysis since, pending an unconverged run on the negative AoA, the results won't be written in the csv and so errors can occur."
   ]
  },
  {
   "cell_type": "code",
   "execution_count": 8,
   "metadata": {},
   "outputs": [
    {
     "name": "stderr",
     "output_type": "stream",
     "text": [
      "C:\\Users\\FL36F6~1.LUT\\AppData\\Local\\Temp/ipykernel_7732/842996172.py:7: DeprecationWarning: `np.float` is a deprecated alias for the builtin `float`. To silence this warning, use `float` by itself. Doing this will not modify any behavior and is safe. If you specifically wanted the numpy scalar type, use `np.float64` here.\n",
      "Deprecated in NumPy 1.20; for more details and guidance: https://numpy.org/devdocs/release/1.20.0-notes.html#deprecations\n",
      "  mach_array = values[0].astype(np.float)\n",
      "C:\\Users\\FL36F6~1.LUT\\AppData\\Local\\Temp/ipykernel_7732/842996172.py:13: DeprecationWarning: `np.float` is a deprecated alias for the builtin `float`. To silence this warning, use `float` by itself. Doing this will not modify any behavior and is safe. If you specifically wanted the numpy scalar type, use `np.float64` here.\n",
      "Deprecated in NumPy 1.20; for more details and guidance: https://numpy.org/devdocs/release/1.20.0-notes.html#deprecations\n",
      "  reynolds_array_orig = values[1].astype(np.float)[index_run_orig]\n",
      "C:\\Users\\FL36F6~1.LUT\\AppData\\Local\\Temp/ipykernel_7732/842996172.py:14: DeprecationWarning: `np.float` is a deprecated alias for the builtin `float`. To silence this warning, use `float` by itself. Doing this will not modify any behavior and is safe. If you specifically wanted the numpy scalar type, use `np.float64` here.\n",
      "Deprecated in NumPy 1.20; for more details and guidance: https://numpy.org/devdocs/release/1.20.0-notes.html#deprecations\n",
      "  cl_max_array_orig = values[2].astype(np.float)[index_run_orig]\n",
      "C:\\Users\\FL36F6~1.LUT\\AppData\\Local\\Temp/ipykernel_7732/842996172.py:23: DeprecationWarning: `np.int` is a deprecated alias for the builtin `int`. To silence this warning, use `int` by itself. Doing this will not modify any behavior and is safe. When replacing `np.int`, you may wish to use e.g. `np.int64` or `np.int32` to specify the precision. If you wish to review your current use, check the release note link for additional information.\n",
      "Deprecated in NumPy 1.20; for more details and guidance: https://numpy.org/devdocs/release/1.20.0-notes.html#deprecations\n",
      "  index_run = index_run.astype(np.int)\n"
     ]
    },
    {
     "data": {
      "image/png": "[encoded data removed]",
      "text/plain": [
       "<Figure size 900x600 with 1 Axes>"
      ]
     },
     "metadata": {
      "needs_background": "light"
     },
     "output_type": "display_data"
    }
   ],
   "source": [
    "# First, we open the .csv file containing the results of all the run\n",
    "data_saved = pd.read_csv(file_path)\n",
    "values = data_saved.to_numpy()[:, 1:len(data_saved.to_numpy()[0])]\n",
    "\n",
    "# We then identifies to which index correspond to the current run, this is done by searching the appropriate \n",
    "# Mach number\n",
    "mach_array = values[0].astype(np.float)\n",
    "index_run_orig = np.where(mach_array == mach_run)[0]\n",
    "# print(index_run_orig)\n",
    "\n",
    "# Since we have the index corresponding to the current run, we can extract the results and prepare them for \n",
    "# post-treatment.\n",
    "reynolds_array_orig = values[1].astype(np.float)[index_run_orig]\n",
    "cl_max_array_orig = values[2].astype(np.float)[index_run_orig]\n",
    "# print(reynolds_array_orig)\n",
    "# print(cl_max_array_orig)\n",
    "# plt.plot(reynolds_array_orig, cl_max_array_orig)\n",
    "\n",
    "# At this point we have all the results of the current run, but nothing assures us that they are in the \n",
    "# right order for us to check the valdity of the results.\n",
    "reynolds_array, cl_max_array = rearrange_data(reynolds_array_orig, cl_max_array_orig)\n",
    "_, index_run = rearrange_data(reynolds_array_orig, index_run_orig)\n",
    "index_run = index_run.astype(np.int)\n",
    "plt.figure(2, figsize=(9,6), dpi= 100)\n",
    "plt.plot(reynolds_array, cl_max_array)\n",
    "plt.xlabel(\"Reynolds number [-]\")\n",
    "plt.ylabel(\"Maximum lift coefficient [-]\")\n",
    "plt.title(\"Raw results of the run\")\n",
    "plt.show()\n",
    "# print(reynolds_array)\n",
    "# print(cl_max_array)\n",
    "# print(index_run)\n",
    "\n",
    "# With this we are assured that the reynolds number are sorted so we can check the validity of the results \n",
    "# and we also kept track of which reynolds corresponds to which index in the original values array so we can \n",
    "# drop them later"
   ]
  },
  {
   "cell_type": "markdown",
   "metadata": {},
   "source": [
    "Now comes the treatment of the data,, we are going to make the assumption that the maximum lift coefficient grows with the Reynolds number. Based on this we need to check that for every Reynolds, the maximum lift coefficient is greater than for **all** the previous Reynolds number"
   ]
  },
  {
   "cell_type": "code",
   "execution_count": 9,
   "metadata": {},
   "outputs": [
    {
     "data": {
      "image/png": "[encoded data removed]",
      "text/plain": [
       "<Figure size 900x600 with 1 Axes>"
      ]
     },
     "metadata": {
      "needs_background": "light"
     },
     "output_type": "display_data"
    }
   ],
   "source": [
    "bad_cl_list = []\n",
    "bad_cl_reynolds_list = []\n",
    "not_viable_list = []\n",
    "\n",
    "viable_cl_list = []\n",
    "viable_cl_reynolds_list = []\n",
    "viable_list = []\n",
    "\n",
    "for reynolds in reynolds_array:\n",
    "    # Since the Reynolds number are sorted we can simply do the following to indetify the \"bad\" results.\n",
    "    # We miust recall however that this index doesn't correspond to the index in the full file hence the \n",
    "    # the list that stocks the bad index\n",
    "    i = int(np.where(reynolds_array == reynolds)[0])\n",
    "    not_viable = np.any(cl_max_array[i]<=cl_max_array[:i])\n",
    "    if not_viable:\n",
    "        bad_cl_list.append(cl_max_array[i])\n",
    "        bad_cl_reynolds_list.append(reynolds_array[i])\n",
    "        not_viable_list.append(index_run[i])\n",
    "    else:\n",
    "        viable_cl_list.append(cl_max_array[i])\n",
    "        viable_cl_reynolds_list.append(reynolds_array[i])\n",
    "        viable_list.append(index_run[i])\n",
    "\n",
    "# We can now plot the Reynolds number that we will delete from the list ...\n",
    "plt.figure(2, figsize=(9,6), dpi= 100)\n",
    "plt.plot(reynolds_array, cl_max_array, label=\"Raw results\")\n",
    "plt.plot(bad_cl_reynolds_list, bad_cl_list, marker='o',color='r',linestyle='', label=\"Not viable results\")\n",
    "\n",
    "bad_cl_array = np.array(bad_cl_list)\n",
    "bad_cl_reynolds_array = np.array(bad_cl_reynolds_list)\n",
    "\n",
    "# print(viable_list)\n",
    "# print(not_viable_list)\n",
    "# print('\\n Bad Reynolds')\n",
    "# print(bad_cl_reynolds_array)\n",
    "\n",
    "# And what will remain in the final file\n",
    "viable_reynolds_array = np.array(viable_cl_reynolds_list)\n",
    "viable_cl_max_array = np.array(viable_cl_list)\n",
    "\n",
    "plt.plot(viable_reynolds_array, viable_cl_max_array, label=\"Results to save\")\n",
    "plt.xlabel(\"Reynolds number [-]\")\n",
    "plt.ylabel(\"Maximum lift coefficient [-]\")\n",
    "plt.title(\"Identification of the bad simulation\")\n",
    "plt.legend()\n",
    "plt.show()"
   ]
  },
  {
   "cell_type": "markdown",
   "metadata": {},
   "source": [
    "In this next part of the code, we will delete the bad Reynolds number starting by the highest one. This is done so that we don't have to modify the index that were used to spot bad simulations. Indeed if we started from the lowest reynolds, we would have had to reduce those index by one each time we deleted a colum"
   ]
  },
  {
   "cell_type": "code",
   "execution_count": 10,
   "metadata": {},
   "outputs": [
    {
     "name": "stdout",
     "output_type": "stream",
     "text": [
      "[]\n"
     ]
    }
   ],
   "source": [
    "not_viable_list.reverse()\n",
    "print(not_viable_list)\n",
    "for i in not_viable_list:\n",
    "    values = np.delete(values, i, axis=1)"
   ]
  },
  {
   "cell_type": "markdown",
   "metadata": {},
   "source": [
    "We do a final check of the data we are going to save before writing it in the result file"
   ]
  },
  {
   "cell_type": "code",
   "execution_count": 11,
   "metadata": {},
   "outputs": [
    {
     "data": {
      "image/png": "[encoded data removed]",
      "text/plain": [
       "<Figure size 900x600 with 1 Axes>"
      ]
     },
     "metadata": {
      "needs_background": "light"
     },
     "output_type": "display_data"
    }
   ],
   "source": [
    "# Final check, we plot the processed data and the raw data to ensure that we did not delete \n",
    "# any point we didn't want to delete\n",
    "plt.figure(3, figsize=(9,6), dpi= 100)\n",
    "plt.plot(viable_cl_reynolds_list, viable_cl_list, label=\"Points to be saved\")\n",
    "\n",
    "data_saved = pd.read_csv(file_path)\n",
    "values_untouched = data_saved.to_numpy()[:, 1:len(data_saved.to_numpy()[0])]\n",
    "\n",
    "reynolds_array_untouched = np.array(values_untouched[1]).astype(float)[index_run_orig]\n",
    "cl_max_array_untouched = np.array(values_untouched[2]).astype(float)[index_run_orig]\n",
    "plt.plot(reynolds_array_untouched, cl_max_array_untouched, marker='o',color='r',linestyle='', label=\"Untouched data from the result file\")\n",
    "plt.xlabel(\"Reynolds number [-]\")\n",
    "plt.ylabel(\"Maximum lift coefficient [-]\")\n",
    "plt.title(\"Final check\")\n",
    "plt.legend()\n",
    "plt.show()"
   ]
  },
  {
   "cell_type": "markdown",
   "metadata": {},
   "source": [
    "Here we save the final results in the resources files of the fastga library in site-package and we also put a copy of it in the results folder that we created earlier so that it can easily be found to be copied anywhere we might need it."
   ]
  },
  {
   "cell_type": "code",
   "execution_count": 12,
   "metadata": {},
   "outputs": [
    {
     "data": {
      "text/plain": [
       "'results\\\\naca23018_20S_cleansed.csv'"
      ]
     },
     "execution_count": 12,
     "metadata": {},
     "output_type": "execute_result"
    }
   ],
   "source": [
    "labels = [\"mach\", \"reynolds\", \"cl_max_2d\", \"cl_min_2d\", \"alpha\", \"cl\", \"cd\", \"cdp\", \"cm\"]\n",
    "cleansed_pd = pd.DataFrame(data=values, index=labels)\n",
    "\n",
    "result_file_path = pth.join(RESULT_FOLDER_PATH, airfoil_file_name.replace('.af', '_20S_cleansed.csv'))\n",
    "\n",
    "if os.path.exists(file_path):\n",
    "    os.remove(file_path)\n",
    "    \n",
    "cleansed_pd.to_csv(file_path)\n",
    "if os.path.exists(result_file_path):\n",
    "    os.remove(result_file_path)\n",
    "    \n",
    "shutil.copy(file_path, result_file_path)"
   ]
  },
  {
   "cell_type": "code",
   "execution_count": null,
   "metadata": {},
   "outputs": [],
   "source": []
  }
 ],
 "metadata": {
  "kernelspec": {
   "display_name": "Python 3 (ipykernel)",
   "language": "python",
   "name": "python3"
  },
  "language_info": {
   "codemirror_mode": {
    "name": "ipython",
    "version": 3
   },
   "file_extension": ".py",
   "mimetype": "text/x-python",
   "name": "python",
   "nbconvert_exporter": "python",
   "pygments_lexer": "ipython3",
   "version": "3.8.10"
  }
 },
 "nbformat": 4,
 "nbformat_minor": 4
}
