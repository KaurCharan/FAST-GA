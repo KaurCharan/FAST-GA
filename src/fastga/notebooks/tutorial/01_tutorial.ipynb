{
 "cells": [
  {
   "cell_type": "markdown",
   "metadata": {},
   "source": [
    "<div class=\"row\">\n",
    "  <div class=\"column\">\n",
    "    <img src=\"./img/logo-onera.png\" width=\"200\">\n",
    "  </div>\n",
    "  <div class=\"column\">\n",
    "    <img src=\"./img/logo-ISAE_SUPAERO.png\" width=\"200\">\n",
    "  </div>\n",
    "</div>"
   ]
  },
  {
   "cell_type": "markdown",
   "metadata": {},
   "source": [
    "# FAST-OAD-GA Tutorial"
   ]
  },
  {
   "cell_type": "markdown",
   "metadata": {},
   "source": [
    "FAST-OAD-GA is an add-on package for [FAST-OAD framework](https://github.com/fast-aircraft-design/FAST-OAD) for performing rapid Overall Aircraft Design in the category General Aviation (GA). The computational core of FAST-OAD being based on the  [OpenMDAO framework](https://openmdao.org/)."
   ]
  },
  {
   "cell_type": "markdown",
   "metadata": {},
   "source": [
    "## 1. Setting up and analyzing the initial problem"
   ]
  },
  {
   "cell_type": "markdown",
   "metadata": {},
   "source": [
    "To organize our work, we propose to use two user folders `data/` and `workdir/`. For instance, in `data/` we store a XML file which describes the Beechcraft Duchess. In `workdir/`, we store files generated or modified by FAST-OAD."
   ]
  },
  {
   "cell_type": "code",
   "execution_count": 1,
   "metadata": {},
   "outputs": [
    {
     "name": "stderr",
     "output_type": "stream",
     "text": [
      "c:\\users\\fl.lutz\\anaconda3\\envs\\fast-ga\\lib\\site-packages\\fastoad\\openmdao\\variables.py:170: UserWarning: genfromtxt: Empty input file: \"<_io.TextIOWrapper name='D:\\\\fl.lutz\\\\FAST\\\\FAST-OAD\\\\FAST-GA\\\\src\\\\fastga\\\\models\\\\loops\\\\variable_descriptions.txt' encoding='utf-8'>\"\n",
      "  variable_descriptions = np.genfromtxt(\n",
      "c:\\users\\fl.lutz\\anaconda3\\envs\\fast-ga\\lib\\site-packages\\fastoad\\openmdao\\variables.py:170: UserWarning: genfromtxt: Empty input file: \"<_io.TextIOWrapper name='D:\\\\fl.lutz\\\\FAST\\\\FAST-OAD\\\\FAST-GA\\\\src\\\\fastga\\\\models\\\\performances\\\\variable_descriptions.txt' encoding='utf-8'>\"\n",
      "  variable_descriptions = np.genfromtxt(\n",
      "Failed to import module fastga.models.aerodynamics.unitary_tests.test_beechcraft_76.py\n",
      "Failed to import module fastga.models.performances.unitary_tests.test_cirrus_sr22.py\n",
      "Failed to import module fastga.models.performances.unitary_tests.test_beechcraft_76.py\n",
      "Failed to import module fastga.models.aerodynamics.unitary_tests.test_cirrus_sr22.py\n",
      "Failed to import module fastga.models.loops.unitary_tests.test_wing_area.py\n",
      "Failed to import module fastga.models.weight.mass_breakdown.unitary_tests.test_cirrus_sr22.py\n",
      "Failed to import module fastga.models.load_analysis.unitary_tests.test_beechcraft_76.py\n",
      "Failed to import module fastga.models.weight.cg.unitary_tests.test_beechcraft_76.py\n",
      "Failed to import module fastga.models.weight.cg.unitary_tests.test_cirrus_sr22.py\n",
      "Failed to import module fastga.models.propulsion.fuel_propulsion.basicIC_engine.unitary_tests.test_openmdao_engine.py\n",
      "Failed to import module fastga.models.weight.mass_breakdown.unitary_tests.test_beechcraft_76.py\n",
      "Failed to import module fastga.models.geometry.unitary_tests.test_cirrus_sr22.py\n",
      "Failed to import module fastga.models.load_analysis.unitary_tests.test_cirrus_sr22.py\n",
      "Failed to import module fastga.models.geometry.unitary_tests.test_beechcraft_76.py\n",
      "Failed to import module fastga.models.handling_qualities.unitary_tests.test_beechcraft_76.py\n",
      "Failed to import module fastga.models.handling_qualities.unitary_tests.test_cirrus_sr22.py\n"
     ]
    },
    {
     "data": {
      "text/html": [
       "<style>.container { width:95% !important; }</style>"
      ],
      "text/plain": [
       "<IPython.core.display.HTML object>"
      ]
     },
     "metadata": {},
     "output_type": "display_data"
    }
   ],
   "source": [
    "import os.path as pth\n",
    "import os\n",
    "import openmdao.api as om\n",
    "from fastoad import api as api_cs25\n",
    "from fastga.command import api as api_cs23\n",
    "import logging\n",
    "from fastoad.gui import VariableViewer\n",
    "import shutil\n",
    "\n",
    "# Define relative path\n",
    "DATA_FOLDER_PATH = 'data'\n",
    "WORK_FOLDER_PATH = 'workdir'\n",
    "\n",
    "# Remove work folder\n",
    "shutil.rmtree(WORK_FOLDER_PATH, ignore_errors=True)\n",
    "\n",
    "# Define files\n",
    "CONFIGURATION_FILE = pth.join(WORK_FOLDER_PATH, 'oad_process.yml')\n",
    "SOURCE_FILE = pth.join(DATA_FOLDER_PATH, 'beechcraft_76.xml')\n",
    "\n",
    "# For having log messages on screen\n",
    "logging.basicConfig(level=logging.INFO, format='%(levelname)-8s: %(message)s')\n",
    "\n",
    "# For using all screen width\n",
    "from IPython.core.display import display, HTML\n",
    "display(HTML(\"<style>.container { width:95% !important; }</style>\"))"
   ]
  },
  {
   "cell_type": "markdown",
   "metadata": {},
   "source": [
    "After defining a configuration file name, we can ask FAST-GA to generate a default configuration file based on the default OAD model implemented in the framework:"
   ]
  },
  {
   "cell_type": "code",
   "execution_count": 2,
   "metadata": {},
   "outputs": [
    {
     "name": "stderr",
     "output_type": "stream",
     "text": [
      "INFO    : Sample configuration written in workdir\\oad_process.yml\n"
     ]
    }
   ],
   "source": [
    "api_cs23.generate_configuration_file(CONFIGURATION_FILE, overwrite=True)"
   ]
  },
  {
   "cell_type": "markdown",
   "metadata": {},
   "source": [
    "You can now checkout the generated [configuration file](./workdir/oad_process.yml). In this configuration file, we have specified an input file name 'problem_inputs.xml'. We can ask FAST-OAD to generate the inputs of the default model with the CeRAS parameters as default values:"
   ]
  },
  {
   "cell_type": "code",
   "execution_count": 3,
   "metadata": {
    "scrolled": false
   },
   "outputs": [
    {
     "name": "stderr",
     "output_type": "stream",
     "text": [
      "INFO    : Problem inputs written in D:\\fl.lutz\\FAST\\FAST-OAD\\FAST-GA\\src\\fastga\\notebooks\\tutorial\\workdir\\problem_inputs.xml\n"
     ]
    },
    {
     "data": {
      "text/plain": [
       "'D:\\\\fl.lutz\\\\FAST\\\\FAST-OAD\\\\FAST-GA\\\\src\\\\fastga\\\\notebooks\\\\tutorial\\\\workdir\\\\problem_inputs.xml'"
      ]
     },
     "execution_count": 3,
     "metadata": {},
     "output_type": "execute_result"
    }
   ],
   "source": [
    "api_cs25.generate_inputs(CONFIGURATION_FILE, SOURCE_FILE, overwrite=True)"
   ]
  },
  {
   "cell_type": "markdown",
   "metadata": {},
   "source": [
    "You can now checkout the generated [input file](./workdir/problem_inputs.xml). As shown previously in the user file architecture, the values in this file can be modified by the user and will be considered by FAST-OAD when executing a computational process."
   ]
  },
  {
   "cell_type": "markdown",
   "metadata": {},
   "source": [
    "A useful feature that FAST-OAD provides is to list the outputs of the model defined in the configuration file:"
   ]
  },
  {
   "cell_type": "code",
   "execution_count": 4,
   "metadata": {},
   "outputs": [
    {
     "data": {
      "text/html": [
       "<table border=\"1\" class=\"dataframe\">\n",
       "  <thead>\n",
       "    <tr style=\"text-align: right;\">\n",
       "      <th>NAME</th>\n",
       "      <th>I/O</th>\n",
       "      <th>DESCRIPTION</th>\n",
       "    </tr>\n",
       "  </thead>\n",
       "  <tbody>\n",
       "    <tr>\n",
       "      <td>data:TLAR:NPAX_design</td>\n",
       "      <td>IN</td>\n",
       "      <td></td>\n",
       "    </tr>\n",
       "    <tr>\n",
       "      <td>data:TLAR:luggage_mass_design</td>\n",
       "      <td>IN</td>\n",
       "      <td></td>\n",
       "    </tr>\n",
       "    <tr>\n",
       "      <td>data:TLAR:range</td>\n",
       "      <td>IN</td>\n",
       "      <td>top-level requirement: design range</td>\n",
       "    </tr>\n",
       "    <tr>\n",
       "      <td>data:TLAR:v_approach</td>\n",
       "      <td>IN</td>\n",
       "      <td></td>\n",
       "    </tr>\n",
       "    <tr>\n",
       "      <td>data:TLAR:v_cruise</td>\n",
       "      <td>IN</td>\n",
       "      <td></td>\n",
       "    </tr>\n",
       "    <tr>\n",
       "      <td>data:TLAR:v_limit</td>\n",
       "      <td>IN</td>\n",
       "      <td></td>\n",
       "    </tr>\n",
       "    <tr>\n",
       "      <td>data:TLAR:v_max_sl</td>\n",
       "      <td>IN</td>\n",
       "      <td></td>\n",
       "    </tr>\n",
       "    <tr>\n",
       "      <td>data:aerodynamics:propeller:mach</td>\n",
       "      <td>IN</td>\n",
       "      <td>mach number used to compute the polar of the airfoil used in the propeller computation</td>\n",
       "    </tr>\n",
       "    <tr>\n",
       "      <td>data:aerodynamics:propeller:reynolds</td>\n",
       "      <td>IN</td>\n",
       "      <td>reynolds number used to compute the polar of the airfoil used in the propeller computation</td>\n",
       "    </tr>\n",
       "    <tr>\n",
       "      <td>data:geometry:cabin:aisle_width</td>\n",
       "      <td>IN</td>\n",
       "      <td>width of aisles</td>\n",
       "    </tr>\n",
       "    <tr>\n",
       "      <td>data:geometry:cabin:luggage:mass_max</td>\n",
       "      <td>IN</td>\n",
       "      <td></td>\n",
       "    </tr>\n",
       "    <tr>\n",
       "      <td>data:geometry:cabin:seats:passenger:NPAX_max</td>\n",
       "      <td>IN</td>\n",
       "      <td></td>\n",
       "    </tr>\n",
       "    <tr>\n",
       "      <td>data:geometry:cabin:seats:passenger:count_by_row</td>\n",
       "      <td>IN</td>\n",
       "      <td></td>\n",
       "    </tr>\n",
       "    <tr>\n",
       "      <td>data:geometry:cabin:seats:passenger:length</td>\n",
       "      <td>IN</td>\n",
       "      <td></td>\n",
       "    </tr>\n",
       "    <tr>\n",
       "      <td>data:geometry:cabin:seats:passenger:width</td>\n",
       "      <td>IN</td>\n",
       "      <td></td>\n",
       "    </tr>\n",
       "    <tr>\n",
       "      <td>data:geometry:cabin:seats:pilot:length</td>\n",
       "      <td>IN</td>\n",
       "      <td></td>\n",
       "    </tr>\n",
       "    <tr>\n",
       "      <td>data:geometry:cabin:seats:pilot:width</td>\n",
       "      <td>IN</td>\n",
       "      <td></td>\n",
       "    </tr>\n",
       "    <tr>\n",
       "      <td>data:geometry:flap:chord_ratio</td>\n",
       "      <td>IN</td>\n",
       "      <td>mean value of (flap chord)/(section chord)</td>\n",
       "    </tr>\n",
       "    <tr>\n",
       "      <td>data:geometry:flap:span_ratio</td>\n",
       "      <td>IN</td>\n",
       "      <td>ratio (width of flaps)/(total span)</td>\n",
       "    </tr>\n",
       "    <tr>\n",
       "      <td>data:geometry:flap_type</td>\n",
       "      <td>IN</td>\n",
       "      <td></td>\n",
       "    </tr>\n",
       "    <tr>\n",
       "      <td>data:geometry:has_T_tail</td>\n",
       "      <td>IN</td>\n",
       "      <td>0=horizontal tail is attached to fuselage / 1=horizontal tail is attached to top of vertical tail</td>\n",
       "    </tr>\n",
       "    <tr>\n",
       "      <td>data:geometry:horizontal_tail:MAC:at25percent:x:from_wingMAC25</td>\n",
       "      <td>IN</td>\n",
       "      <td>distance along X between 25% MAC of wing and 25% MAC of horizontal tail</td>\n",
       "    </tr>\n",
       "    <tr>\n",
       "      <td>data:geometry:horizontal_tail:aspect_ratio</td>\n",
       "      <td>IN</td>\n",
       "      <td>aspect ratio of horizontal tail</td>\n",
       "    </tr>\n",
       "    <tr>\n",
       "      <td>data:geometry:horizontal_tail:elevator_chord_ratio</td>\n",
       "      <td>IN</td>\n",
       "      <td></td>\n",
       "    </tr>\n",
       "    <tr>\n",
       "      <td>data:geometry:horizontal_tail:sweep_25</td>\n",
       "      <td>IN</td>\n",
       "      <td>sweep angle at 25% chord of horizontal tail</td>\n",
       "    </tr>\n",
       "    <tr>\n",
       "      <td>data:geometry:horizontal_tail:taper_ratio</td>\n",
       "      <td>IN</td>\n",
       "      <td>taper ratio of horizontal tail</td>\n",
       "    </tr>\n",
       "    <tr>\n",
       "      <td>data:geometry:horizontal_tail:thickness_ratio</td>\n",
       "      <td>IN</td>\n",
       "      <td>thickness ratio of horizontal tail</td>\n",
       "    </tr>\n",
       "    <tr>\n",
       "      <td>data:geometry:landing_gear:type</td>\n",
       "      <td>IN</td>\n",
       "      <td></td>\n",
       "    </tr>\n",
       "    <tr>\n",
       "      <td>data:geometry:propeller:blades_number</td>\n",
       "      <td>IN</td>\n",
       "      <td></td>\n",
       "    </tr>\n",
       "    <tr>\n",
       "      <td>data:geometry:propeller:chord_vect</td>\n",
       "      <td>IN</td>\n",
       "      <td></td>\n",
       "    </tr>\n",
       "    <tr>\n",
       "      <td>data:geometry:propeller:depth</td>\n",
       "      <td>IN</td>\n",
       "      <td></td>\n",
       "    </tr>\n",
       "    <tr>\n",
       "      <td>data:geometry:propeller:diameter</td>\n",
       "      <td>IN</td>\n",
       "      <td></td>\n",
       "    </tr>\n",
       "    <tr>\n",
       "      <td>data:geometry:propeller:hub_diameter</td>\n",
       "      <td>IN</td>\n",
       "      <td></td>\n",
       "    </tr>\n",
       "    <tr>\n",
       "      <td>data:geometry:propeller:radius_ratio_vect</td>\n",
       "      <td>IN</td>\n",
       "      <td></td>\n",
       "    </tr>\n",
       "    <tr>\n",
       "      <td>data:geometry:propeller:sweep_vect</td>\n",
       "      <td>IN</td>\n",
       "      <td></td>\n",
       "    </tr>\n",
       "    <tr>\n",
       "      <td>data:geometry:propeller:twist_vect</td>\n",
       "      <td>IN</td>\n",
       "      <td></td>\n",
       "    </tr>\n",
       "    <tr>\n",
       "      <td>data:geometry:propulsion:count</td>\n",
       "      <td>IN</td>\n",
       "      <td></td>\n",
       "    </tr>\n",
       "    <tr>\n",
       "      <td>data:geometry:propulsion:layout</td>\n",
       "      <td>IN</td>\n",
       "      <td>position of engines (1=under the wing / 2=rear fuselage)</td>\n",
       "    </tr>\n",
       "    <tr>\n",
       "      <td>data:geometry:propulsion:y_ratio</td>\n",
       "      <td>IN</td>\n",
       "      <td></td>\n",
       "    </tr>\n",
       "    <tr>\n",
       "      <td>data:geometry:vertical_tail:aspect_ratio</td>\n",
       "      <td>IN</td>\n",
       "      <td>aspect ratio of vertical tail</td>\n",
       "    </tr>\n",
       "    <tr>\n",
       "      <td>data:geometry:vertical_tail:max_thickness:x_ratio</td>\n",
       "      <td>IN</td>\n",
       "      <td></td>\n",
       "    </tr>\n",
       "    <tr>\n",
       "      <td>data:geometry:vertical_tail:rudder:chord_ratio</td>\n",
       "      <td>IN</td>\n",
       "      <td></td>\n",
       "    </tr>\n",
       "    <tr>\n",
       "      <td>data:geometry:vertical_tail:rudder:max_deflection</td>\n",
       "      <td>IN</td>\n",
       "      <td></td>\n",
       "    </tr>\n",
       "    <tr>\n",
       "      <td>data:geometry:vertical_tail:sweep_25</td>\n",
       "      <td>IN</td>\n",
       "      <td>sweep angle at 25% chord of vertical tail</td>\n",
       "    </tr>\n",
       "    <tr>\n",
       "      <td>data:geometry:vertical_tail:taper_ratio</td>\n",
       "      <td>IN</td>\n",
       "      <td>taper ratio of vertical tail</td>\n",
       "    </tr>\n",
       "    <tr>\n",
       "      <td>data:geometry:vertical_tail:thickness_ratio</td>\n",
       "      <td>IN</td>\n",
       "      <td>thickness ratio of vertical tail</td>\n",
       "    </tr>\n",
       "    <tr>\n",
       "      <td>data:geometry:wing:aspect_ratio</td>\n",
       "      <td>IN</td>\n",
       "      <td>wing aspect ratio</td>\n",
       "    </tr>\n",
       "    <tr>\n",
       "      <td>data:geometry:wing:kink:span_ratio</td>\n",
       "      <td>IN</td>\n",
       "      <td>ratio (Y-position of kink)/(semi-span)</td>\n",
       "    </tr>\n",
       "    <tr>\n",
       "      <td>data:geometry:wing:sweep_25</td>\n",
       "      <td>IN</td>\n",
       "      <td>sweep angle at 25% chord of wing</td>\n",
       "    </tr>\n",
       "    <tr>\n",
       "      <td>data:geometry:wing:taper_ratio</td>\n",
       "      <td>IN</td>\n",
       "      <td>taper ratio of wing</td>\n",
       "    </tr>\n",
       "    <tr>\n",
       "      <td>data:geometry:wing:thickness_ratio</td>\n",
       "      <td>IN</td>\n",
       "      <td>mean thickness ratio of wing</td>\n",
       "    </tr>\n",
       "    <tr>\n",
       "      <td>data:handling_qualities:static_margin:target</td>\n",
       "      <td>IN</td>\n",
       "      <td></td>\n",
       "    </tr>\n",
       "    <tr>\n",
       "      <td>data:mission:sizing:cs23:sizing_factor_ultimate</td>\n",
       "      <td>IN</td>\n",
       "      <td></td>\n",
       "    </tr>\n",
       "    <tr>\n",
       "      <td>data:mission:sizing:holding:fuel</td>\n",
       "      <td>IN</td>\n",
       "      <td>mass of consumed fuel during holding phase in sizing mission</td>\n",
       "    </tr>\n",
       "    <tr>\n",
       "      <td>data:mission:sizing:landing:elevator_angle</td>\n",
       "      <td>IN</td>\n",
       "      <td></td>\n",
       "    </tr>\n",
       "    <tr>\n",
       "      <td>data:mission:sizing:landing:flap_angle</td>\n",
       "      <td>IN</td>\n",
       "      <td>flap angle during landing phase in sizing mission</td>\n",
       "    </tr>\n",
       "    <tr>\n",
       "      <td>data:mission:sizing:landing:target_sideslip</td>\n",
       "      <td>IN</td>\n",
       "      <td></td>\n",
       "    </tr>\n",
       "    <tr>\n",
       "      <td>data:mission:sizing:main_route:climb:climb_rate:cruise_level</td>\n",
       "      <td>IN</td>\n",
       "      <td></td>\n",
       "    </tr>\n",
       "    <tr>\n",
       "      <td>data:mission:sizing:main_route:climb:climb_rate:sea_level</td>\n",
       "      <td>IN</td>\n",
       "      <td></td>\n",
       "    </tr>\n",
       "    <tr>\n",
       "      <td>data:mission:sizing:main_route:cruise:altitude</td>\n",
       "      <td>IN</td>\n",
       "      <td>altitude during cruise phase in sizing mission</td>\n",
       "    </tr>\n",
       "    <tr>\n",
       "      <td>data:mission:sizing:main_route:descent:descent_rate</td>\n",
       "      <td>IN</td>\n",
       "      <td></td>\n",
       "    </tr>\n",
       "    <tr>\n",
       "      <td>data:mission:sizing:main_route:reserve:duration</td>\n",
       "      <td>IN</td>\n",
       "      <td></td>\n",
       "    </tr>\n",
       "    <tr>\n",
       "      <td>data:mission:sizing:takeoff:elevator_angle</td>\n",
       "      <td>IN</td>\n",
       "      <td></td>\n",
       "    </tr>\n",
       "    <tr>\n",
       "      <td>data:mission:sizing:takeoff:flap_angle</td>\n",
       "      <td>IN</td>\n",
       "      <td>flap angle during takeoff phase in sizing mission</td>\n",
       "    </tr>\n",
       "    <tr>\n",
       "      <td>data:mission:sizing:takeoff:friction_coefficient_no_brake</td>\n",
       "      <td>IN</td>\n",
       "      <td>ground friction coefficient with no brake in sizing mission</td>\n",
       "    </tr>\n",
       "    <tr>\n",
       "      <td>data:mission:sizing:takeoff:thrust_rate</td>\n",
       "      <td>IN</td>\n",
       "      <td></td>\n",
       "    </tr>\n",
       "    <tr>\n",
       "      <td>data:mission:sizing:taxi_in:duration</td>\n",
       "      <td>IN</td>\n",
       "      <td>duration of taxi-in phase in sizing mission</td>\n",
       "    </tr>\n",
       "    <tr>\n",
       "      <td>data:mission:sizing:taxi_in:speed</td>\n",
       "      <td>IN</td>\n",
       "      <td>speed during taxi-in phase in sizing mission</td>\n",
       "    </tr>\n",
       "    <tr>\n",
       "      <td>data:mission:sizing:taxi_in:thrust_rate</td>\n",
       "      <td>IN</td>\n",
       "      <td>thrust rate (between 0.0 and 1.0) during taxi-in phase in sizing mission</td>\n",
       "    </tr>\n",
       "    <tr>\n",
       "      <td>data:mission:sizing:taxi_out:duration</td>\n",
       "      <td>IN</td>\n",
       "      <td>duration of taxi-out phase in sizing mission</td>\n",
       "    </tr>\n",
       "    <tr>\n",
       "      <td>data:mission:sizing:taxi_out:speed</td>\n",
       "      <td>IN</td>\n",
       "      <td>speed during taxi-out phase in sizing mission</td>\n",
       "    </tr>\n",
       "    <tr>\n",
       "      <td>data:mission:sizing:taxi_out:thrust_rate</td>\n",
       "      <td>IN</td>\n",
       "      <td>thrust rate (between 0.0 and 1.0) during taxi-out phase in sizing mission</td>\n",
       "    </tr>\n",
       "    <tr>\n",
       "      <td>data:propulsion:IC_engine:fuel_type</td>\n",
       "      <td>IN</td>\n",
       "      <td></td>\n",
       "    </tr>\n",
       "    <tr>\n",
       "      <td>data:propulsion:IC_engine:max_power</td>\n",
       "      <td>IN</td>\n",
       "      <td></td>\n",
       "    </tr>\n",
       "    <tr>\n",
       "      <td>data:propulsion:IC_engine:strokes_nb</td>\n",
       "      <td>IN</td>\n",
       "      <td></td>\n",
       "    </tr>\n",
       "    <tr>\n",
       "      <td>data:weight:airframe:fuselage:k_factor</td>\n",
       "      <td>IN</td>\n",
       "      <td></td>\n",
       "    </tr>\n",
       "    <tr>\n",
       "      <td>data:weight:airframe:horizontal_tail:k_factor</td>\n",
       "      <td>IN</td>\n",
       "      <td></td>\n",
       "    </tr>\n",
       "    <tr>\n",
       "      <td>data:weight:airframe:vertical_tail:k_factor</td>\n",
       "      <td>IN</td>\n",
       "      <td></td>\n",
       "    </tr>\n",
       "    <tr>\n",
       "      <td>data:weight:airframe:wing:k_factor</td>\n",
       "      <td>IN</td>\n",
       "      <td></td>\n",
       "    </tr>\n",
       "    <tr>\n",
       "      <td>data:weight:propulsion:tank:mass</td>\n",
       "      <td>IN</td>\n",
       "      <td>Mass of the propulsion system_inp_data:weight:propulsion:tank:mass</td>\n",
       "    </tr>\n",
       "    <tr>\n",
       "      <td>settings:handling_qualities:rudder:safety_margin</td>\n",
       "      <td>IN</td>\n",
       "      <td>Ratio of the total rudder deflection not used in the computation of the VT area to leave a safety margin</td>\n",
       "    </tr>\n",
       "    <tr>\n",
       "      <td>settings:weight:aircraft:CG:aft:MAC_position:margin</td>\n",
       "      <td>IN</td>\n",
       "      <td>Added margin for getting most aft CG position, as ratio of mean aerodynamic chord</td>\n",
       "    </tr>\n",
       "    <tr>\n",
       "      <td>settings:weight:aircraft:CG:fwd:MAC_position:margin</td>\n",
       "      <td>IN</td>\n",
       "      <td>Added margin for getting most fwd CG position, as ratio of mean aerodynamic chord</td>\n",
       "    </tr>\n",
       "    <tr>\n",
       "      <td>settings:weight:aircraft:CG:range</td>\n",
       "      <td>IN</td>\n",
       "      <td>distance between front position and aft position of CG, as ratio of mean aerodynamic chord (allows to have front position of CG, as currently, FAST-OAD estimates only the aft position of CG)</td>\n",
       "    </tr>\n",
       "    <tr>\n",
       "      <td>settings:weight:aircraft:payload:design_mass_per_passenger</td>\n",
       "      <td>IN</td>\n",
       "      <td>Design value of mass per passenger</td>\n",
       "    </tr>\n",
       "    <tr>\n",
       "      <td>settings:weight:aircraft:payload:max_mass_per_passenger</td>\n",
       "      <td>IN</td>\n",
       "      <td>Maximum value of mass per passenger</td>\n",
       "    </tr>\n",
       "    <tr>\n",
       "      <td>settings:weight:airframe:landing_gear:front:weight_ratio</td>\n",
       "      <td>IN</td>\n",
       "      <td>part of aircraft weight that is supported by front landing gear</td>\n",
       "    </tr>\n",
       "    <tr>\n",
       "      <td>data:aerodynamics:aircraft:cruise:CD0</td>\n",
       "      <td>OUT</td>\n",
       "      <td>profile drag coefficient for whole aircraft w.r.t. data:aerodynamics:aircraft:cruise:CL</td>\n",
       "    </tr>\n",
       "    <tr>\n",
       "      <td>data:aerodynamics:aircraft:cruise:L_D_max</td>\n",
       "      <td>OUT</td>\n",
       "      <td>max lift/drag ratio in cruise conditions</td>\n",
       "    </tr>\n",
       "    <tr>\n",
       "      <td>data:aerodynamics:aircraft:cruise:optimal_CD</td>\n",
       "      <td>OUT</td>\n",
       "      <td>drag coefficient at maximum lift/drag ratio in cruise conditions</td>\n",
       "    </tr>\n",
       "    <tr>\n",
       "      <td>data:aerodynamics:aircraft:cruise:optimal_CL</td>\n",
       "      <td>OUT</td>\n",
       "      <td>lift coefficient at maximum lift/drag ratio in cruise conditions</td>\n",
       "    </tr>\n",
       "    <tr>\n",
       "      <td>data:aerodynamics:aircraft:cruise:optimal_alpha</td>\n",
       "      <td>OUT</td>\n",
       "      <td>wing angle of attack at maximum lift/drag ratio in cruise conditions</td>\n",
       "    </tr>\n",
       "    <tr>\n",
       "      <td>data:aerodynamics:aircraft:landing:CL_max</td>\n",
       "      <td>OUT</td>\n",
       "      <td>maximum lift coefficient in landing conditions</td>\n",
       "    </tr>\n",
       "    <tr>\n",
       "      <td>data:aerodynamics:aircraft:low_speed:CD0</td>\n",
       "      <td>OUT</td>\n",
       "      <td>profile drag coefficient for whole aircraft in low speed conditions (no high-lift) w.r.t. data:aerodynamics:aircraft:low_speed:CL</td>\n",
       "    </tr>\n",
       "    <tr>\n",
       "      <td>data:aerodynamics:aircraft:mach_interpolation:CL_alpha_vector</td>\n",
       "      <td>OUT</td>\n",
       "      <td></td>\n",
       "    </tr>\n",
       "    <tr>\n",
       "      <td>data:aerodynamics:aircraft:mach_interpolation:mach_vector</td>\n",
       "      <td>OUT</td>\n",
       "      <td></td>\n",
       "    </tr>\n",
       "    <tr>\n",
       "      <td>data:aerodynamics:aircraft:takeoff:CL_max</td>\n",
       "      <td>OUT</td>\n",
       "      <td>maximum lift coefficient during take-off</td>\n",
       "    </tr>\n",
       "    <tr>\n",
       "      <td>data:aerodynamics:cruise:mach</td>\n",
       "      <td>OUT</td>\n",
       "      <td>mach number representative of high speed aerodynamics</td>\n",
       "    </tr>\n",
       "    <tr>\n",
       "      <td>data:aerodynamics:cruise:neutral_point:free_elevator_factor</td>\n",
       "      <td>OUT</td>\n",
       "      <td>free elevator factor for computation of stick free static margin in high speed</td>\n",
       "    </tr>\n",
       "    <tr>\n",
       "      <td>data:aerodynamics:cruise:neutral_point:stick_fixed:x</td>\n",
       "      <td>OUT</td>\n",
       "      <td>distance between the leading edge of the wing at the MAC and the stick fixed aerodynamic center</td>\n",
       "    </tr>\n",
       "    <tr>\n",
       "      <td>data:aerodynamics:cruise:neutral_point:stick_free:x</td>\n",
       "      <td>OUT</td>\n",
       "      <td>distance between the leading edge of the wing at the MAC and the stick free aerodynamic center</td>\n",
       "    </tr>\n",
       "    <tr>\n",
       "      <td>data:aerodynamics:cruise:unit_reynolds</td>\n",
       "      <td>OUT</td>\n",
       "      <td>unitary reynolds number representative of high speed aerodynamics</td>\n",
       "    </tr>\n",
       "    <tr>\n",
       "      <td>data:aerodynamics:elevator:low_speed:CD_delta</td>\n",
       "      <td>OUT</td>\n",
       "      <td></td>\n",
       "    </tr>\n",
       "    <tr>\n",
       "      <td>data:aerodynamics:elevator:low_speed:CL_delta</td>\n",
       "      <td>OUT</td>\n",
       "      <td>derivative of horizontal tail lift coefficient with respect to elevator command</td>\n",
       "    </tr>\n",
       "    <tr>\n",
       "      <td>data:aerodynamics:flaps:landing:CD</td>\n",
       "      <td>OUT</td>\n",
       "      <td></td>\n",
       "    </tr>\n",
       "    <tr>\n",
       "      <td>data:aerodynamics:flaps:landing:CL</td>\n",
       "      <td>OUT</td>\n",
       "      <td></td>\n",
       "    </tr>\n",
       "    <tr>\n",
       "      <td>data:aerodynamics:flaps:landing:CL_max</td>\n",
       "      <td>OUT</td>\n",
       "      <td></td>\n",
       "    </tr>\n",
       "    <tr>\n",
       "      <td>data:aerodynamics:flaps:landing:CM</td>\n",
       "      <td>OUT</td>\n",
       "      <td></td>\n",
       "    </tr>\n",
       "    <tr>\n",
       "      <td>data:aerodynamics:flaps:takeoff:CD</td>\n",
       "      <td>OUT</td>\n",
       "      <td></td>\n",
       "    </tr>\n",
       "    <tr>\n",
       "      <td>data:aerodynamics:flaps:takeoff:CL</td>\n",
       "      <td>OUT</td>\n",
       "      <td></td>\n",
       "    </tr>\n",
       "    <tr>\n",
       "      <td>data:aerodynamics:flaps:takeoff:CL_max</td>\n",
       "      <td>OUT</td>\n",
       "      <td></td>\n",
       "    </tr>\n",
       "    <tr>\n",
       "      <td>data:aerodynamics:flaps:takeoff:CM</td>\n",
       "      <td>OUT</td>\n",
       "      <td></td>\n",
       "    </tr>\n",
       "    <tr>\n",
       "      <td>data:aerodynamics:fuselage:cruise:CD0</td>\n",
       "      <td>OUT</td>\n",
       "      <td>profile drag coefficient for fuselage w.r.t. data:aerodynamics:aircraft:cruise:CL</td>\n",
       "    </tr>\n",
       "    <tr>\n",
       "      <td>data:aerodynamics:fuselage:cruise:CnBeta</td>\n",
       "      <td>OUT</td>\n",
       "      <td>derivative of yawing moment against sideslip angle for fuselage in cruise conditions</td>\n",
       "    </tr>\n",
       "    <tr>\n",
       "      <td>data:aerodynamics:fuselage:low_speed:CD0</td>\n",
       "      <td>OUT</td>\n",
       "      <td>profile drag coefficient for fuselage w.r.t. data:aerodynamics:aircraft:low_speed:CL</td>\n",
       "    </tr>\n",
       "    <tr>\n",
       "      <td>data:aerodynamics:horizontal_tail:MAC:low_speed:reynolds</td>\n",
       "      <td>OUT</td>\n",
       "      <td>reynolds number at the horizontal tail mean aerodynamic chord in low speed conditions</td>\n",
       "    </tr>\n",
       "    <tr>\n",
       "      <td>data:aerodynamics:horizontal_tail:airfoil:CL_alpha</td>\n",
       "      <td>OUT</td>\n",
       "      <td>horizontal tail airfoil lift curve slope</td>\n",
       "    </tr>\n",
       "    <tr>\n",
       "      <td>data:aerodynamics:horizontal_tail:cruise:CD0</td>\n",
       "      <td>OUT</td>\n",
       "      <td>profile drag coefficient for horizontal tail in cruise conditions</td>\n",
       "    </tr>\n",
       "    <tr>\n",
       "      <td>data:aerodynamics:horizontal_tail:cruise:CDp</td>\n",
       "      <td>OUT</td>\n",
       "      <td></td>\n",
       "    </tr>\n",
       "    <tr>\n",
       "      <td>data:aerodynamics:horizontal_tail:cruise:CL</td>\n",
       "      <td>OUT</td>\n",
       "      <td></td>\n",
       "    </tr>\n",
       "    <tr>\n",
       "      <td>data:aerodynamics:horizontal_tail:cruise:CL0</td>\n",
       "      <td>OUT</td>\n",
       "      <td>lift coefficient of the horizontal tail when aircraft AOA is null in cruise conditions</td>\n",
       "    </tr>\n",
       "    <tr>\n",
       "      <td>data:aerodynamics:horizontal_tail:cruise:CL_alpha</td>\n",
       "      <td>OUT</td>\n",
       "      <td>derivative of lift coefficient of horizontal tail with respect to local angle of attack in cruise conditions</td>\n",
       "    </tr>\n",
       "    <tr>\n",
       "      <td>data:aerodynamics:horizontal_tail:cruise:CL_alpha_isolated</td>\n",
       "      <td>OUT</td>\n",
       "      <td>derivative of lift coefficient of horizontal tail with respect to local angle of attack in cruise conditions</td>\n",
       "    </tr>\n",
       "    <tr>\n",
       "      <td>data:aerodynamics:horizontal_tail:cruise:hinge_moment:CH_alpha</td>\n",
       "      <td>OUT</td>\n",
       "      <td>derivative of 3D hinge moment coefficient with respect to the local angle of attack in cruise conditions</td>\n",
       "    </tr>\n",
       "    <tr>\n",
       "      <td>data:aerodynamics:horizontal_tail:cruise:hinge_moment:CH_alpha_2D</td>\n",
       "      <td>OUT</td>\n",
       "      <td>derivative of 2D hinge moment coefficient with respect to the local angle of attack in cruise conditions</td>\n",
       "    </tr>\n",
       "    <tr>\n",
       "      <td>data:aerodynamics:horizontal_tail:cruise:hinge_moment:CH_delta</td>\n",
       "      <td>OUT</td>\n",
       "      <td>derivative of 3D hinge moment coefficient with respect to elevator deflection in cruise conditions</td>\n",
       "    </tr>\n",
       "    <tr>\n",
       "      <td>data:aerodynamics:horizontal_tail:cruise:hinge_moment:CH_delta_2D</td>\n",
       "      <td>OUT</td>\n",
       "      <td>derivative of 2D hinge moment coefficient with respect to elevator deflection in cruise conditions</td>\n",
       "    </tr>\n",
       "    <tr>\n",
       "      <td>data:aerodynamics:horizontal_tail:cruise:induced_drag_coefficient</td>\n",
       "      <td>OUT</td>\n",
       "      <td>coefficient to multiply by the lift coefficient squared to get induced drag in cruise conditions</td>\n",
       "    </tr>\n",
       "    <tr>\n",
       "      <td>data:aerodynamics:horizontal_tail:cruise:reynolds</td>\n",
       "      <td>OUT</td>\n",
       "      <td></td>\n",
       "    </tr>\n",
       "    <tr>\n",
       "      <td>data:aerodynamics:horizontal_tail:efficiency</td>\n",
       "      <td>OUT</td>\n",
       "      <td>ratio of dynamic pressure at the tail with respect to the free stream dynamic pressure</td>\n",
       "    </tr>\n",
       "    <tr>\n",
       "      <td>data:aerodynamics:horizontal_tail:low_speed:CD0</td>\n",
       "      <td>OUT</td>\n",
       "      <td>profile drag coefficient for horizontal tail in low speed conditions</td>\n",
       "    </tr>\n",
       "    <tr>\n",
       "      <td>data:aerodynamics:horizontal_tail:low_speed:CDp</td>\n",
       "      <td>OUT</td>\n",
       "      <td></td>\n",
       "    </tr>\n",
       "    <tr>\n",
       "      <td>data:aerodynamics:horizontal_tail:low_speed:CL</td>\n",
       "      <td>OUT</td>\n",
       "      <td></td>\n",
       "    </tr>\n",
       "    <tr>\n",
       "      <td>data:aerodynamics:horizontal_tail:low_speed:CL0</td>\n",
       "      <td>OUT</td>\n",
       "      <td>lift coefficient of the horizontal tail when aircraft AOA is null in low speed conditions</td>\n",
       "    </tr>\n",
       "    <tr>\n",
       "      <td>data:aerodynamics:horizontal_tail:low_speed:CL_alpha</td>\n",
       "      <td>OUT</td>\n",
       "      <td>derivative of lift coefficient of horizontal tail with respect to aircraft angle of attack in low speed conditions</td>\n",
       "    </tr>\n",
       "    <tr>\n",
       "      <td>data:aerodynamics:horizontal_tail:low_speed:CL_alpha_isolated</td>\n",
       "      <td>OUT</td>\n",
       "      <td>derivative of lift coefficient of horizontal tail with respect to local angle of attack in low speed conditions</td>\n",
       "    </tr>\n",
       "    <tr>\n",
       "      <td>data:aerodynamics:horizontal_tail:low_speed:CL_max_clean</td>\n",
       "      <td>OUT</td>\n",
       "      <td>maximum horizontal tail lift coefficient in low speed altitude</td>\n",
       "    </tr>\n",
       "    <tr>\n",
       "      <td>data:aerodynamics:horizontal_tail:low_speed:CL_min_clean</td>\n",
       "      <td>OUT</td>\n",
       "      <td>minimum horizontal tail lift coefficient in low speed altitude</td>\n",
       "    </tr>\n",
       "    <tr>\n",
       "      <td>data:aerodynamics:horizontal_tail:low_speed:CL_ref</td>\n",
       "      <td>OUT</td>\n",
       "      <td>reference horizontal tail lift coefficient corresponding to the lift repartition in CL_vector</td>\n",
       "    </tr>\n",
       "    <tr>\n",
       "      <td>data:aerodynamics:horizontal_tail:low_speed:CL_vector</td>\n",
       "      <td>OUT</td>\n",
       "      <td>horizontal tail lift coefficient repartition along the span corresponding to the lift coefficient in CL_ref</td>\n",
       "    </tr>\n",
       "    <tr>\n",
       "      <td>data:aerodynamics:horizontal_tail:low_speed:Y_vector</td>\n",
       "      <td>OUT</td>\n",
       "      <td>point along the span at which the lift repartition on the horizontal tail is sampled</td>\n",
       "    </tr>\n",
       "    <tr>\n",
       "      <td>data:aerodynamics:horizontal_tail:low_speed:clean:alpha_aircraft_max</td>\n",
       "      <td>OUT</td>\n",
       "      <td>positive aircraft angle of attack that gives a stalled horizontal tail</td>\n",
       "    </tr>\n",
       "    <tr>\n",
       "      <td>data:aerodynamics:horizontal_tail:low_speed:clean:alpha_aircraft_min</td>\n",
       "      <td>OUT</td>\n",
       "      <td>negative aircraft angle of attack that gives a stalled horizontal tail</td>\n",
       "    </tr>\n",
       "    <tr>\n",
       "      <td>data:aerodynamics:horizontal_tail:low_speed:induced_drag_coefficient</td>\n",
       "      <td>OUT</td>\n",
       "      <td>coefficient to multiply by the lift coefficient squared to get induced drag in cruise conditions</td>\n",
       "    </tr>\n",
       "    <tr>\n",
       "      <td>data:aerodynamics:horizontal_tail:low_speed:reynolds</td>\n",
       "      <td>OUT</td>\n",
       "      <td></td>\n",
       "    </tr>\n",
       "    <tr>\n",
       "      <td>data:aerodynamics:horizontal_tail:low_speed:root:CL_max_2D</td>\n",
       "      <td>OUT</td>\n",
       "      <td>maximum lift coefficient at the root section of the horizontal tail given with respect to the horizontal tail surface</td>\n",
       "    </tr>\n",
       "    <tr>\n",
       "      <td>data:aerodynamics:horizontal_tail:low_speed:root:CL_min_2D</td>\n",
       "      <td>OUT</td>\n",
       "      <td>minimum lift coefficient at the root section of the horizontal tail given with respect to the horizontal tail surface</td>\n",
       "    </tr>\n",
       "    <tr>\n",
       "      <td>data:aerodynamics:horizontal_tail:low_speed:tip:CL_max_2D</td>\n",
       "      <td>OUT</td>\n",
       "      <td>maximum lift coefficient at the tip section of the horizontal tail given with respect to the horizontal tail surface</td>\n",
       "    </tr>\n",
       "    <tr>\n",
       "      <td>data:aerodynamics:horizontal_tail:low_speed:tip:CL_min_2D</td>\n",
       "      <td>OUT</td>\n",
       "      <td>minimum lift coefficient at the tip section of the horizontal tail given with respect to the horizontal tail surface</td>\n",
       "    </tr>\n",
       "    <tr>\n",
       "      <td>data:aerodynamics:horizontal_tail:root:low_speed:reynolds</td>\n",
       "      <td>OUT</td>\n",
       "      <td>reynolds number at the horizontal tail root section in low speed conditions</td>\n",
       "    </tr>\n",
       "    <tr>\n",
       "      <td>data:aerodynamics:horizontal_tail:tip:low_speed:reynolds</td>\n",
       "      <td>OUT</td>\n",
       "      <td>reynolds number at the horizontal tail tip section in low speed conditions</td>\n",
       "    </tr>\n",
       "    <tr>\n",
       "      <td>data:aerodynamics:landing_gear:cruise:CD0</td>\n",
       "      <td>OUT</td>\n",
       "      <td>profile drag coefficient for landing gears in cruise conditions</td>\n",
       "    </tr>\n",
       "    <tr>\n",
       "      <td>data:aerodynamics:landing_gear:low_speed:CD0</td>\n",
       "      <td>OUT</td>\n",
       "      <td>profile drag coefficient for landing gears in low speed conditions</td>\n",
       "    </tr>\n",
       "    <tr>\n",
       "      <td>data:aerodynamics:low_speed:mach</td>\n",
       "      <td>OUT</td>\n",
       "      <td>mach number representative of low speed aerodynamics</td>\n",
       "    </tr>\n",
       "    <tr>\n",
       "      <td>data:aerodynamics:low_speed:unit_reynolds</td>\n",
       "      <td>OUT</td>\n",
       "      <td>unitary reynolds number representative of low speed aerodynamics</td>\n",
       "    </tr>\n",
       "    <tr>\n",
       "      <td>data:aerodynamics:nacelles:cruise:CD0</td>\n",
       "      <td>OUT</td>\n",
       "      <td>profile drag coefficient for nacelles in cruise conditions</td>\n",
       "    </tr>\n",
       "    <tr>\n",
       "      <td>data:aerodynamics:nacelles:low_speed:CD0</td>\n",
       "      <td>OUT</td>\n",
       "      <td>profile drag coefficient for nacelles in low speed conditions</td>\n",
       "    </tr>\n",
       "    <tr>\n",
       "      <td>data:aerodynamics:other:cruise:CD0</td>\n",
       "      <td>OUT</td>\n",
       "      <td>profile drag coefficient for other systems in cruise conditions</td>\n",
       "    </tr>\n",
       "    <tr>\n",
       "      <td>data:aerodynamics:other:low_speed:CD0</td>\n",
       "      <td>OUT</td>\n",
       "      <td>profile drag coefficient for other systems in low speed conditions</td>\n",
       "    </tr>\n",
       "    <tr>\n",
       "      <td>data:aerodynamics:propeller:cruise_level:efficiency</td>\n",
       "      <td>OUT</td>\n",
       "      <td>2D matrix containing the efficiencies of the propeller in different speed conditions and for different thrust requirement at cruise level</td>\n",
       "    </tr>\n",
       "    <tr>\n",
       "      <td>data:aerodynamics:propeller:cruise_level:speed</td>\n",
       "      <td>OUT</td>\n",
       "      <td>speed at which the efficiencies of the propeller at cruise level are computed</td>\n",
       "    </tr>\n",
       "    <tr>\n",
       "      <td>data:aerodynamics:propeller:cruise_level:thrust</td>\n",
       "      <td>OUT</td>\n",
       "      <td>thrust produced by the propeller at cruise level and for which the efficiencies are given</td>\n",
       "    </tr>\n",
       "    <tr>\n",
       "      <td>data:aerodynamics:propeller:cruise_level:thrust_limit</td>\n",
       "      <td>OUT</td>\n",
       "      <td>maximum thrust output of the propeller at cruise level for varying velocities</td>\n",
       "    </tr>\n",
       "    <tr>\n",
       "      <td>data:aerodynamics:propeller:sea_level:efficiency</td>\n",
       "      <td>OUT</td>\n",
       "      <td>2D matrix containing the efficiencies of the propeller in different speed conditions and for different thrust requirement at sea level</td>\n",
       "    </tr>\n",
       "    <tr>\n",
       "      <td>data:aerodynamics:propeller:sea_level:speed</td>\n",
       "      <td>OUT</td>\n",
       "      <td>speed at which the efficiencies of the propeller at sea level are computed</td>\n",
       "    </tr>\n",
       "    <tr>\n",
       "      <td>data:aerodynamics:propeller:sea_level:thrust</td>\n",
       "      <td>OUT</td>\n",
       "      <td>thrust produced by the propeller at sea level and for which the efficiencies are given</td>\n",
       "    </tr>\n",
       "    <tr>\n",
       "      <td>data:aerodynamics:propeller:sea_level:thrust_limit</td>\n",
       "      <td>OUT</td>\n",
       "      <td>maximum thrust output of the propeller at sea level for varying velocities</td>\n",
       "    </tr>\n",
       "    <tr>\n",
       "      <td>data:aerodynamics:rudder:low_speed:Cy_delta_r</td>\n",
       "      <td>OUT</td>\n",
       "      <td></td>\n",
       "    </tr>\n",
       "    <tr>\n",
       "      <td>data:aerodynamics:vertical_tail:MAC:low_speed:reynolds</td>\n",
       "      <td>OUT</td>\n",
       "      <td></td>\n",
       "    </tr>\n",
       "    <tr>\n",
       "      <td>data:aerodynamics:vertical_tail:airfoil:CL_alpha</td>\n",
       "      <td>OUT</td>\n",
       "      <td>horizontal tail airfoil lift curve slope</td>\n",
       "    </tr>\n",
       "    <tr>\n",
       "      <td>data:aerodynamics:vertical_tail:cruise:CD0</td>\n",
       "      <td>OUT</td>\n",
       "      <td>profile drag coefficient for vertical tail in cruise conditions</td>\n",
       "    </tr>\n",
       "    <tr>\n",
       "      <td>data:aerodynamics:vertical_tail:cruise:CL_alpha</td>\n",
       "      <td>OUT</td>\n",
       "      <td>derivative of lift coefficient of horizontal tail with respect to local \"angle of attack\" in cruise conditions</td>\n",
       "    </tr>\n",
       "    <tr>\n",
       "      <td>data:aerodynamics:vertical_tail:k_ar_effective</td>\n",
       "      <td>OUT</td>\n",
       "      <td>coefficient to multiply the vertical tail aspect ratio to get the effective aspect ratio which includes fuselage and horizontal tail end-plate effect</td>\n",
       "    </tr>\n",
       "    <tr>\n",
       "      <td>data:aerodynamics:vertical_tail:low_speed:CD0</td>\n",
       "      <td>OUT</td>\n",
       "      <td>profile drag coefficient for vertical tail in low speed conditions</td>\n",
       "    </tr>\n",
       "    <tr>\n",
       "      <td>data:aerodynamics:vertical_tail:low_speed:CL_alpha</td>\n",
       "      <td>OUT</td>\n",
       "      <td></td>\n",
       "    </tr>\n",
       "    <tr>\n",
       "      <td>data:aerodynamics:wing:MAC:low_speed:reynolds</td>\n",
       "      <td>OUT</td>\n",
       "      <td></td>\n",
       "    </tr>\n",
       "    <tr>\n",
       "      <td>data:aerodynamics:wing:airfoil:CL_alpha</td>\n",
       "      <td>OUT</td>\n",
       "      <td></td>\n",
       "    </tr>\n",
       "    <tr>\n",
       "      <td>data:aerodynamics:wing:cruise:CD0</td>\n",
       "      <td>OUT</td>\n",
       "      <td>profile drag coefficient for wing w.r.t. data:aerodynamics:aircraft:cruise:CL</td>\n",
       "    </tr>\n",
       "    <tr>\n",
       "      <td>data:aerodynamics:wing:cruise:CDp</td>\n",
       "      <td>OUT</td>\n",
       "      <td></td>\n",
       "    </tr>\n",
       "    <tr>\n",
       "      <td>data:aerodynamics:wing:cruise:CL</td>\n",
       "      <td>OUT</td>\n",
       "      <td></td>\n",
       "    </tr>\n",
       "    <tr>\n",
       "      <td>data:aerodynamics:wing:cruise:CL0_clean</td>\n",
       "      <td>OUT</td>\n",
       "      <td></td>\n",
       "    </tr>\n",
       "    <tr>\n",
       "      <td>data:aerodynamics:wing:cruise:CL_alpha</td>\n",
       "      <td>OUT</td>\n",
       "      <td></td>\n",
       "    </tr>\n",
       "    <tr>\n",
       "      <td>data:aerodynamics:wing:cruise:CM0_clean</td>\n",
       "      <td>OUT</td>\n",
       "      <td></td>\n",
       "    </tr>\n",
       "    <tr>\n",
       "      <td>data:aerodynamics:wing:cruise:induced_drag_coefficient</td>\n",
       "      <td>OUT</td>\n",
       "      <td></td>\n",
       "    </tr>\n",
       "    <tr>\n",
       "      <td>data:aerodynamics:wing:cruise:reynolds</td>\n",
       "      <td>OUT</td>\n",
       "      <td>Reynolds number based on wing mean aerodynamic chord in cruise conditions</td>\n",
       "    </tr>\n",
       "    <tr>\n",
       "      <td>data:aerodynamics:wing:low_speed:CD0</td>\n",
       "      <td>OUT</td>\n",
       "      <td>profile drag coefficient for wing w.r.t. data:aerodynamics:aircraft:low_speed:CL</td>\n",
       "    </tr>\n",
       "    <tr>\n",
       "      <td>data:aerodynamics:wing:low_speed:CDp</td>\n",
       "      <td>OUT</td>\n",
       "      <td></td>\n",
       "    </tr>\n",
       "    <tr>\n",
       "      <td>data:aerodynamics:wing:low_speed:CL</td>\n",
       "      <td>OUT</td>\n",
       "      <td></td>\n",
       "    </tr>\n",
       "    <tr>\n",
       "      <td>data:aerodynamics:wing:low_speed:CL0_clean</td>\n",
       "      <td>OUT</td>\n",
       "      <td></td>\n",
       "    </tr>\n",
       "    <tr>\n",
       "      <td>data:aerodynamics:wing:low_speed:CL_alpha</td>\n",
       "      <td>OUT</td>\n",
       "      <td></td>\n",
       "    </tr>\n",
       "    <tr>\n",
       "      <td>data:aerodynamics:wing:low_speed:CL_max_clean</td>\n",
       "      <td>OUT</td>\n",
       "      <td>wing maximum lift coefficient for positive angle of attack</td>\n",
       "    </tr>\n",
       "    <tr>\n",
       "      <td>data:aerodynamics:wing:low_speed:CL_min_clean</td>\n",
       "      <td>OUT</td>\n",
       "      <td>wing maximum lift coefficient for negative angle of attack</td>\n",
       "    </tr>\n",
       "    <tr>\n",
       "      <td>data:aerodynamics:wing:low_speed:CL_vector</td>\n",
       "      <td>OUT</td>\n",
       "      <td></td>\n",
       "    </tr>\n",
       "    <tr>\n",
       "      <td>data:aerodynamics:wing:low_speed:CM0_clean</td>\n",
       "      <td>OUT</td>\n",
       "      <td></td>\n",
       "    </tr>\n",
       "    <tr>\n",
       "      <td>data:aerodynamics:wing:low_speed:Y_vector</td>\n",
       "      <td>OUT</td>\n",
       "      <td></td>\n",
       "    </tr>\n",
       "    <tr>\n",
       "      <td>data:aerodynamics:wing:low_speed:chord_vector</td>\n",
       "      <td>OUT</td>\n",
       "      <td></td>\n",
       "    </tr>\n",
       "    <tr>\n",
       "      <td>data:aerodynamics:wing:low_speed:induced_drag_coefficient</td>\n",
       "      <td>OUT</td>\n",
       "      <td></td>\n",
       "    </tr>\n",
       "    <tr>\n",
       "      <td>data:aerodynamics:wing:low_speed:reynolds</td>\n",
       "      <td>OUT</td>\n",
       "      <td>Reynolds number based on wing mean aerodynamic chord in low speed conditions</td>\n",
       "    </tr>\n",
       "    <tr>\n",
       "      <td>data:aerodynamics:wing:low_speed:root:CL_max_2D</td>\n",
       "      <td>OUT</td>\n",
       "      <td>wing root chord airfoil maximum lift coefficient for positive angle of attack</td>\n",
       "    </tr>\n",
       "    <tr>\n",
       "      <td>data:aerodynamics:wing:low_speed:root:CL_min_2D</td>\n",
       "      <td>OUT</td>\n",
       "      <td>wing root chord airfoil maximum lift coefficient for negative angle of attack</td>\n",
       "    </tr>\n",
       "    <tr>\n",
       "      <td>data:aerodynamics:wing:low_speed:tip:CL_max_2D</td>\n",
       "      <td>OUT</td>\n",
       "      <td>wing tip chord airfoil maximum lift coefficient for positive angle of attack</td>\n",
       "    </tr>\n",
       "    <tr>\n",
       "      <td>data:aerodynamics:wing:low_speed:tip:CL_min_2D</td>\n",
       "      <td>OUT</td>\n",
       "      <td>wing tip chord airfoil maximum lift coefficient for negative angle of attack</td>\n",
       "    </tr>\n",
       "    <tr>\n",
       "      <td>data:aerodynamics:wing:root:low_speed:reynolds</td>\n",
       "      <td>OUT</td>\n",
       "      <td>wing root chord reynolds in low speed conditions</td>\n",
       "    </tr>\n",
       "    <tr>\n",
       "      <td>data:aerodynamics:wing:tip:low_speed:reynolds</td>\n",
       "      <td>OUT</td>\n",
       "      <td>wing tip chord reynolds in low speed conditions</td>\n",
       "    </tr>\n",
       "    <tr>\n",
       "      <td>data:constraints:horizontal_tail:landing</td>\n",
       "      <td>OUT</td>\n",
       "      <td>margin on the horizontal tail area with respect to the landing constraint</td>\n",
       "    </tr>\n",
       "    <tr>\n",
       "      <td>data:constraints:horizontal_tail:takeoff_rotation</td>\n",
       "      <td>OUT</td>\n",
       "      <td>margin on the horizontal tail area with respect to the takeoff rotation constraint</td>\n",
       "    </tr>\n",
       "    <tr>\n",
       "      <td>data:constraints:vertical_tail:crosswind_landing</td>\n",
       "      <td>OUT</td>\n",
       "      <td>margin on the vertical tail area with respect to the constraint due to crosswind landing</td>\n",
       "    </tr>\n",
       "    <tr>\n",
       "      <td>data:constraints:vertical_tail:engine_out_climb</td>\n",
       "      <td>OUT</td>\n",
       "      <td>margin on the vertical tail area with respect to the climb with one engine out condition</td>\n",
       "    </tr>\n",
       "    <tr>\n",
       "      <td>data:constraints:vertical_tail:engine_out_landing</td>\n",
       "      <td>OUT</td>\n",
       "      <td>margin on the vertical tail area with respect to the landing with one engine out condition</td>\n",
       "    </tr>\n",
       "    <tr>\n",
       "      <td>data:constraints:vertical_tail:engine_out_takeoff</td>\n",
       "      <td>OUT</td>\n",
       "      <td>margin on the vertical tail area with respect to the takeoff with one engine out condition</td>\n",
       "    </tr>\n",
       "    <tr>\n",
       "      <td>data:constraints:vertical_tail:target_cruise_stability</td>\n",
       "      <td>OUT</td>\n",
       "      <td>margin on the vertical tail area with respect to the cruise stability constraint</td>\n",
       "    </tr>\n",
       "    <tr>\n",
       "      <td>data:constraints:wing:additional_CL_capacity</td>\n",
       "      <td>OUT</td>\n",
       "      <td></td>\n",
       "    </tr>\n",
       "    <tr>\n",
       "      <td>data:constraints:wing:additional_fuel_capacity</td>\n",
       "      <td>OUT</td>\n",
       "      <td></td>\n",
       "    </tr>\n",
       "    <tr>\n",
       "      <td>data:geometry:aircraft:wet_area</td>\n",
       "      <td>OUT</td>\n",
       "      <td>aircraft total wet area</td>\n",
       "    </tr>\n",
       "    <tr>\n",
       "      <td>data:geometry:cabin:NPAX</td>\n",
       "      <td>OUT</td>\n",
       "      <td></td>\n",
       "    </tr>\n",
       "    <tr>\n",
       "      <td>data:geometry:cabin:length</td>\n",
       "      <td>OUT</td>\n",
       "      <td>cabin length</td>\n",
       "    </tr>\n",
       "    <tr>\n",
       "      <td>data:geometry:fuselage:PAX_length</td>\n",
       "      <td>OUT</td>\n",
       "      <td>length of passenger-dedicated zone</td>\n",
       "    </tr>\n",
       "    <tr>\n",
       "      <td>data:geometry:fuselage:front_length</td>\n",
       "      <td>OUT</td>\n",
       "      <td>length of front non-cylindrical part of the fuselage</td>\n",
       "    </tr>\n",
       "    <tr>\n",
       "      <td>data:geometry:fuselage:length</td>\n",
       "      <td>OUT</td>\n",
       "      <td>total fuselage length</td>\n",
       "    </tr>\n",
       "    <tr>\n",
       "      <td>data:geometry:fuselage:luggage_length</td>\n",
       "      <td>OUT</td>\n",
       "      <td></td>\n",
       "    </tr>\n",
       "    <tr>\n",
       "      <td>data:geometry:fuselage:maximum_height</td>\n",
       "      <td>OUT</td>\n",
       "      <td>maximum fuselage height</td>\n",
       "    </tr>\n",
       "    <tr>\n",
       "      <td>data:geometry:fuselage:maximum_width</td>\n",
       "      <td>OUT</td>\n",
       "      <td>maximum fuselage width</td>\n",
       "    </tr>\n",
       "    <tr>\n",
       "      <td>data:geometry:fuselage:rear_length</td>\n",
       "      <td>OUT</td>\n",
       "      <td>length of rear non-cylindrical part of the fuselage</td>\n",
       "    </tr>\n",
       "    <tr>\n",
       "      <td>data:geometry:fuselage:wet_area</td>\n",
       "      <td>OUT</td>\n",
       "      <td>fuselage wet area</td>\n",
       "    </tr>\n",
       "    <tr>\n",
       "      <td>data:geometry:horizontal_tail:MAC:at25percent:x:local</td>\n",
       "      <td>OUT</td>\n",
       "      <td>X-position of the 25% of mean aerodynamic chord of horizontal tail w.r.t. leading edge of root chord</td>\n",
       "    </tr>\n",
       "    <tr>\n",
       "      <td>data:geometry:horizontal_tail:MAC:length</td>\n",
       "      <td>OUT</td>\n",
       "      <td>mean aerodynamic chord length of horizontal tail</td>\n",
       "    </tr>\n",
       "    <tr>\n",
       "      <td>data:geometry:horizontal_tail:MAC:y</td>\n",
       "      <td>OUT</td>\n",
       "      <td>Y-position of mean aerodynamic chord of horizontal tail</td>\n",
       "    </tr>\n",
       "    <tr>\n",
       "      <td>data:geometry:horizontal_tail:area</td>\n",
       "      <td>OUT</td>\n",
       "      <td>horizontal tail area</td>\n",
       "    </tr>\n",
       "    <tr>\n",
       "      <td>data:geometry:horizontal_tail:root:chord</td>\n",
       "      <td>OUT</td>\n",
       "      <td>chord length at root of horizontal tail</td>\n",
       "    </tr>\n",
       "    <tr>\n",
       "      <td>data:geometry:horizontal_tail:span</td>\n",
       "      <td>OUT</td>\n",
       "      <td>horizontal tail span</td>\n",
       "    </tr>\n",
       "    <tr>\n",
       "      <td>data:geometry:horizontal_tail:sweep_0</td>\n",
       "      <td>OUT</td>\n",
       "      <td>sweep angle at leading edge of horizontal tail</td>\n",
       "    </tr>\n",
       "    <tr>\n",
       "      <td>data:geometry:horizontal_tail:sweep_100</td>\n",
       "      <td>OUT</td>\n",
       "      <td>sweep angle at trailing edge of horizontal tail</td>\n",
       "    </tr>\n",
       "    <tr>\n",
       "      <td>data:geometry:horizontal_tail:tip:chord</td>\n",
       "      <td>OUT</td>\n",
       "      <td>chord length at tip of horizontal tail</td>\n",
       "    </tr>\n",
       "    <tr>\n",
       "      <td>data:geometry:horizontal_tail:wet_area</td>\n",
       "      <td>OUT</td>\n",
       "      <td>wet area of horizontal tail</td>\n",
       "    </tr>\n",
       "    <tr>\n",
       "      <td>data:geometry:horizontal_tail:z:from_wingMAC25</td>\n",
       "      <td>OUT</td>\n",
       "      <td>Z-position of the horizontal tail w.r.t. 25% MAC of wing Z-position</td>\n",
       "    </tr>\n",
       "    <tr>\n",
       "      <td>data:geometry:landing_gear:height</td>\n",
       "      <td>OUT</td>\n",
       "      <td>height of landing gear</td>\n",
       "    </tr>\n",
       "    <tr>\n",
       "      <td>data:geometry:plane:length</td>\n",
       "      <td>OUT</td>\n",
       "      <td></td>\n",
       "    </tr>\n",
       "    <tr>\n",
       "      <td>data:geometry:propulsion:nacelle:height</td>\n",
       "      <td>OUT</td>\n",
       "      <td></td>\n",
       "    </tr>\n",
       "    <tr>\n",
       "      <td>data:geometry:propulsion:nacelle:length</td>\n",
       "      <td>OUT</td>\n",
       "      <td>nacelle length</td>\n",
       "    </tr>\n",
       "    <tr>\n",
       "      <td>data:geometry:propulsion:nacelle:wet_area</td>\n",
       "      <td>OUT</td>\n",
       "      <td></td>\n",
       "    </tr>\n",
       "    <tr>\n",
       "      <td>data:geometry:propulsion:nacelle:width</td>\n",
       "      <td>OUT</td>\n",
       "      <td></td>\n",
       "    </tr>\n",
       "    <tr>\n",
       "      <td>data:geometry:propulsion:nacelle:y</td>\n",
       "      <td>OUT</td>\n",
       "      <td>Y-position of nacelle center</td>\n",
       "    </tr>\n",
       "    <tr>\n",
       "      <td>data:geometry:propulsion:propeller:depth</td>\n",
       "      <td>OUT</td>\n",
       "      <td></td>\n",
       "    </tr>\n",
       "    <tr>\n",
       "      <td>data:geometry:propulsion:propeller:diameter</td>\n",
       "      <td>OUT</td>\n",
       "      <td></td>\n",
       "    </tr>\n",
       "    <tr>\n",
       "      <td>data:geometry:vertical_tail:MAC:at25percent:x:from_wingMAC25</td>\n",
       "      <td>OUT</td>\n",
       "      <td>distance along X between 25% MAC of wing and 25% MAC of vertical tail</td>\n",
       "    </tr>\n",
       "    <tr>\n",
       "      <td>data:geometry:vertical_tail:MAC:at25percent:x:local</td>\n",
       "      <td>OUT</td>\n",
       "      <td>X-position of the 25% of mean aerodynamic chord of vertical tail w.r.t. leading edge of root chord</td>\n",
       "    </tr>\n",
       "    <tr>\n",
       "      <td>data:geometry:vertical_tail:MAC:length</td>\n",
       "      <td>OUT</td>\n",
       "      <td>mean aerodynamic chord length of vertical tail</td>\n",
       "    </tr>\n",
       "    <tr>\n",
       "      <td>data:geometry:vertical_tail:MAC:z</td>\n",
       "      <td>OUT</td>\n",
       "      <td>Z-position of mean aerodynamic chord of vertical tail</td>\n",
       "    </tr>\n",
       "    <tr>\n",
       "      <td>data:geometry:vertical_tail:area</td>\n",
       "      <td>OUT</td>\n",
       "      <td>vertical tail area</td>\n",
       "    </tr>\n",
       "    <tr>\n",
       "      <td>data:geometry:vertical_tail:root:chord</td>\n",
       "      <td>OUT</td>\n",
       "      <td>chord length at root of vertical tail</td>\n",
       "    </tr>\n",
       "    <tr>\n",
       "      <td>data:geometry:vertical_tail:span</td>\n",
       "      <td>OUT</td>\n",
       "      <td>vertical tail span</td>\n",
       "    </tr>\n",
       "    <tr>\n",
       "      <td>data:geometry:vertical_tail:sweep_0</td>\n",
       "      <td>OUT</td>\n",
       "      <td>sweep angle at leading edge of vertical tail</td>\n",
       "    </tr>\n",
       "    <tr>\n",
       "      <td>data:geometry:vertical_tail:sweep_100</td>\n",
       "      <td>OUT</td>\n",
       "      <td>sweep angle at trailing edge of vertical tail</td>\n",
       "    </tr>\n",
       "    <tr>\n",
       "      <td>data:geometry:vertical_tail:tip:chord</td>\n",
       "      <td>OUT</td>\n",
       "      <td>chord length at tip of vertical tail</td>\n",
       "    </tr>\n",
       "    <tr>\n",
       "      <td>data:geometry:vertical_tail:wet_area</td>\n",
       "      <td>OUT</td>\n",
       "      <td>wet area of vertical tail</td>\n",
       "    </tr>\n",
       "    <tr>\n",
       "      <td>data:geometry:wing:MAC:at25percent:x</td>\n",
       "      <td>OUT</td>\n",
       "      <td>X-position of the 25% of mean aerodynamic chord of wing w.r.t. aircraft nose (drives position of wing along fuselage)</td>\n",
       "    </tr>\n",
       "    <tr>\n",
       "      <td>data:geometry:wing:MAC:leading_edge:x:local</td>\n",
       "      <td>OUT</td>\n",
       "      <td>X-position of leading edge of mean aerodynamic chord w.r.t. leading edge of root chord</td>\n",
       "    </tr>\n",
       "    <tr>\n",
       "      <td>data:geometry:wing:MAC:length</td>\n",
       "      <td>OUT</td>\n",
       "      <td>length of mean aerodynamic chord of wing</td>\n",
       "    </tr>\n",
       "    <tr>\n",
       "      <td>data:geometry:wing:MAC:y</td>\n",
       "      <td>OUT</td>\n",
       "      <td>Y-position of mean aerodynamic chord of wing</td>\n",
       "    </tr>\n",
       "    <tr>\n",
       "      <td>data:geometry:wing:area</td>\n",
       "      <td>OUT</td>\n",
       "      <td>wing reference area</td>\n",
       "    </tr>\n",
       "    <tr>\n",
       "      <td>data:geometry:wing:b_50</td>\n",
       "      <td>OUT</td>\n",
       "      <td>actual length between root and tip along 50% of chord</td>\n",
       "    </tr>\n",
       "    <tr>\n",
       "      <td>data:geometry:wing:kink:chord</td>\n",
       "      <td>OUT</td>\n",
       "      <td>chord length at wing kink</td>\n",
       "    </tr>\n",
       "    <tr>\n",
       "      <td>data:geometry:wing:kink:leading_edge:x:local</td>\n",
       "      <td>OUT</td>\n",
       "      <td>X-position of leading edge at wing kink w.r.t. leading edge of root chord</td>\n",
       "    </tr>\n",
       "    <tr>\n",
       "      <td>data:geometry:wing:kink:thickness_ratio</td>\n",
       "      <td>OUT</td>\n",
       "      <td>thickness ratio at wing kink</td>\n",
       "    </tr>\n",
       "    <tr>\n",
       "      <td>data:geometry:wing:kink:y</td>\n",
       "      <td>OUT</td>\n",
       "      <td>Y-position of wing kink</td>\n",
       "    </tr>\n",
       "    <tr>\n",
       "      <td>data:geometry:wing:outer_area</td>\n",
       "      <td>OUT</td>\n",
       "      <td>wing area outside of fuselage</td>\n",
       "    </tr>\n",
       "    <tr>\n",
       "      <td>data:geometry:wing:root:chord</td>\n",
       "      <td>OUT</td>\n",
       "      <td>chord length at wing root</td>\n",
       "    </tr>\n",
       "    <tr>\n",
       "      <td>data:geometry:wing:root:thickness_ratio</td>\n",
       "      <td>OUT</td>\n",
       "      <td>thickness ratio at wing root</td>\n",
       "    </tr>\n",
       "    <tr>\n",
       "      <td>data:geometry:wing:root:virtual_chord</td>\n",
       "      <td>OUT</td>\n",
       "      <td>virtual chord length at wing root if sweep angle of trailing edge of outer wing part was on the whole wing (no kink)</td>\n",
       "    </tr>\n",
       "    <tr>\n",
       "      <td>data:geometry:wing:root:y</td>\n",
       "      <td>OUT</td>\n",
       "      <td>Y-position of wing root</td>\n",
       "    </tr>\n",
       "    <tr>\n",
       "      <td>data:geometry:wing:span</td>\n",
       "      <td>OUT</td>\n",
       "      <td>wing span</td>\n",
       "    </tr>\n",
       "    <tr>\n",
       "      <td>data:geometry:wing:sweep_0</td>\n",
       "      <td>OUT</td>\n",
       "      <td>sweep angle at leading edge of wing</td>\n",
       "    </tr>\n",
       "    <tr>\n",
       "      <td>data:geometry:wing:sweep_100_inner</td>\n",
       "      <td>OUT</td>\n",
       "      <td>sweep angle at trailing edge of wing (inner side of the kink)</td>\n",
       "    </tr>\n",
       "    <tr>\n",
       "      <td>data:geometry:wing:sweep_100_outer</td>\n",
       "      <td>OUT</td>\n",
       "      <td>sweep angle at trailing edge of wing (outer side of the kink)</td>\n",
       "    </tr>\n",
       "    <tr>\n",
       "      <td>data:geometry:wing:tip:chord</td>\n",
       "      <td>OUT</td>\n",
       "      <td>chord length at wing tip</td>\n",
       "    </tr>\n",
       "    <tr>\n",
       "      <td>data:geometry:wing:tip:leading_edge:x:local</td>\n",
       "      <td>OUT</td>\n",
       "      <td>X-position of leading edge at wing tip w.r.t. leading edge of root chord</td>\n",
       "    </tr>\n",
       "    <tr>\n",
       "      <td>data:geometry:wing:tip:thickness_ratio</td>\n",
       "      <td>OUT</td>\n",
       "      <td>thickness ratio at wing tip</td>\n",
       "    </tr>\n",
       "    <tr>\n",
       "      <td>data:geometry:wing:tip:y</td>\n",
       "      <td>OUT</td>\n",
       "      <td>Y-position of wing tip</td>\n",
       "    </tr>\n",
       "    <tr>\n",
       "      <td>data:geometry:wing:wet_area</td>\n",
       "      <td>OUT</td>\n",
       "      <td>wet area of wing</td>\n",
       "    </tr>\n",
       "    <tr>\n",
       "      <td>data:handling_qualities:stick_fixed_static_margin</td>\n",
       "      <td>OUT</td>\n",
       "      <td>stick fixed static margin</td>\n",
       "    </tr>\n",
       "    <tr>\n",
       "      <td>data:handling_qualities:stick_free_static_margin</td>\n",
       "      <td>OUT</td>\n",
       "      <td>stick free static margin</td>\n",
       "    </tr>\n",
       "    <tr>\n",
       "      <td>data:mission:sizing:fuel</td>\n",
       "      <td>OUT</td>\n",
       "      <td>consumed fuel mass during whole mission</td>\n",
       "    </tr>\n",
       "    <tr>\n",
       "      <td>data:mission:sizing:initial_climb:fuel</td>\n",
       "      <td>OUT</td>\n",
       "      <td>mass of consumed fuel during initial climb phase in sizing mission</td>\n",
       "    </tr>\n",
       "    <tr>\n",
       "      <td>data:mission:sizing:main_route:climb:distance</td>\n",
       "      <td>OUT</td>\n",
       "      <td>covered ground distance during climb phase</td>\n",
       "    </tr>\n",
       "    <tr>\n",
       "      <td>data:mission:sizing:main_route:climb:duration</td>\n",
       "      <td>OUT</td>\n",
       "      <td>duration of climb phase in sizing mission</td>\n",
       "    </tr>\n",
       "    <tr>\n",
       "      <td>data:mission:sizing:main_route:climb:fuel</td>\n",
       "      <td>OUT</td>\n",
       "      <td>mass of consumed fuel during climb phase in sizing mission</td>\n",
       "    </tr>\n",
       "    <tr>\n",
       "      <td>data:mission:sizing:main_route:climb:v_cas</td>\n",
       "      <td>OUT</td>\n",
       "      <td></td>\n",
       "    </tr>\n",
       "    <tr>\n",
       "      <td>data:mission:sizing:main_route:cruise:distance</td>\n",
       "      <td>OUT</td>\n",
       "      <td>covered ground distance during cruise phase</td>\n",
       "    </tr>\n",
       "    <tr>\n",
       "      <td>data:mission:sizing:main_route:cruise:duration</td>\n",
       "      <td>OUT</td>\n",
       "      <td>duration of cruise phase in sizing mission</td>\n",
       "    </tr>\n",
       "    <tr>\n",
       "      <td>data:mission:sizing:main_route:cruise:fuel</td>\n",
       "      <td>OUT</td>\n",
       "      <td>mass of consumed fuel during cruise phase in sizing mission</td>\n",
       "    </tr>\n",
       "    <tr>\n",
       "      <td>data:mission:sizing:main_route:descent:distance</td>\n",
       "      <td>OUT</td>\n",
       "      <td>covered ground distance during descent phase</td>\n",
       "    </tr>\n",
       "    <tr>\n",
       "      <td>data:mission:sizing:main_route:descent:duration</td>\n",
       "      <td>OUT</td>\n",
       "      <td>duration of descent phase in sizing mission</td>\n",
       "    </tr>\n",
       "    <tr>\n",
       "      <td>data:mission:sizing:main_route:descent:fuel</td>\n",
       "      <td>OUT</td>\n",
       "      <td>mass of consumed fuel during descent phase in sizing mission</td>\n",
       "    </tr>\n",
       "    <tr>\n",
       "      <td>data:mission:sizing:main_route:reserve:fuel</td>\n",
       "      <td>OUT</td>\n",
       "      <td></td>\n",
       "    </tr>\n",
       "    <tr>\n",
       "      <td>data:mission:sizing:takeoff:TOFL</td>\n",
       "      <td>OUT</td>\n",
       "      <td>TakeOff Field Length in sizing mission</td>\n",
       "    </tr>\n",
       "    <tr>\n",
       "      <td>data:mission:sizing:takeoff:V2</td>\n",
       "      <td>OUT</td>\n",
       "      <td>safety speed before reaching 35 feet height in sizing mission</td>\n",
       "    </tr>\n",
       "    <tr>\n",
       "      <td>data:mission:sizing:takeoff:VLOF</td>\n",
       "      <td>OUT</td>\n",
       "      <td>lift-off speed in sizing mission</td>\n",
       "    </tr>\n",
       "    <tr>\n",
       "      <td>data:mission:sizing:takeoff:VR</td>\n",
       "      <td>OUT</td>\n",
       "      <td>rotation speed in sizing mission</td>\n",
       "    </tr>\n",
       "    <tr>\n",
       "      <td>data:mission:sizing:takeoff:climb_gradient</td>\n",
       "      <td>OUT</td>\n",
       "      <td></td>\n",
       "    </tr>\n",
       "    <tr>\n",
       "      <td>data:mission:sizing:takeoff:duration</td>\n",
       "      <td>OUT</td>\n",
       "      <td>duration of takeoff phase in sizing mission</td>\n",
       "    </tr>\n",
       "    <tr>\n",
       "      <td>data:mission:sizing:takeoff:fuel</td>\n",
       "      <td>OUT</td>\n",
       "      <td>mass of consumed fuel during takeoff phase in sizing mission</td>\n",
       "    </tr>\n",
       "    <tr>\n",
       "      <td>data:mission:sizing:takeoff:ground_roll</td>\n",
       "      <td>OUT</td>\n",
       "      <td></td>\n",
       "    </tr>\n",
       "    <tr>\n",
       "      <td>data:mission:sizing:taxi_in:fuel</td>\n",
       "      <td>OUT</td>\n",
       "      <td>mass of consumed fuel during taxi-in phase in sizing mission</td>\n",
       "    </tr>\n",
       "    <tr>\n",
       "      <td>data:mission:sizing:taxi_out:fuel</td>\n",
       "      <td>OUT</td>\n",
       "      <td>mass of consumed fuel during taxi-out phase in sizing mission</td>\n",
       "    </tr>\n",
       "    <tr>\n",
       "      <td>data:weight:aircraft:CG:aft:MAC_position</td>\n",
       "      <td>OUT</td>\n",
       "      <td>most aft X-position of center of gravity as ratio of mean aerodynamic chord</td>\n",
       "    </tr>\n",
       "    <tr>\n",
       "      <td>data:weight:aircraft:CG:aft:x</td>\n",
       "      <td>OUT</td>\n",
       "      <td>most aft X-position of aircraft center of gravity</td>\n",
       "    </tr>\n",
       "    <tr>\n",
       "      <td>data:weight:aircraft:CG:flight_condition:max:MAC_position</td>\n",
       "      <td>OUT</td>\n",
       "      <td></td>\n",
       "    </tr>\n",
       "    <tr>\n",
       "      <td>data:weight:aircraft:CG:flight_condition:min:MAC_position</td>\n",
       "      <td>OUT</td>\n",
       "      <td></td>\n",
       "    </tr>\n",
       "    <tr>\n",
       "      <td>data:weight:aircraft:CG:fwd:MAC_position</td>\n",
       "      <td>OUT</td>\n",
       "      <td></td>\n",
       "    </tr>\n",
       "    <tr>\n",
       "      <td>data:weight:aircraft:CG:fwd:x</td>\n",
       "      <td>OUT</td>\n",
       "      <td></td>\n",
       "    </tr>\n",
       "    <tr>\n",
       "      <td>data:weight:aircraft:CG:ground_condition:max:MAC_position</td>\n",
       "      <td>OUT</td>\n",
       "      <td></td>\n",
       "    </tr>\n",
       "    <tr>\n",
       "      <td>data:weight:aircraft:CG:ground_condition:min:MAC_position</td>\n",
       "      <td>OUT</td>\n",
       "      <td></td>\n",
       "    </tr>\n",
       "    <tr>\n",
       "      <td>data:weight:aircraft:MFW</td>\n",
       "      <td>OUT</td>\n",
       "      <td>maximum fuel weight</td>\n",
       "    </tr>\n",
       "    <tr>\n",
       "      <td>data:weight:aircraft:MLW</td>\n",
       "      <td>OUT</td>\n",
       "      <td>maximum landing weight</td>\n",
       "    </tr>\n",
       "    <tr>\n",
       "      <td>data:weight:aircraft:MTOW</td>\n",
       "      <td>OUT</td>\n",
       "      <td>maximum takeoff weight</td>\n",
       "    </tr>\n",
       "    <tr>\n",
       "      <td>data:weight:aircraft:MZFW</td>\n",
       "      <td>OUT</td>\n",
       "      <td>maximum zero fuel weight</td>\n",
       "    </tr>\n",
       "    <tr>\n",
       "      <td>data:weight:aircraft:OWE</td>\n",
       "      <td>OUT</td>\n",
       "      <td>Mass of aircraft</td>\n",
       "    </tr>\n",
       "    <tr>\n",
       "      <td>data:weight:aircraft:ZFW</td>\n",
       "      <td>OUT</td>\n",
       "      <td>aircraft mass with payload, without fuel</td>\n",
       "    </tr>\n",
       "    <tr>\n",
       "      <td>data:weight:aircraft:empty:CG:MAC_position</td>\n",
       "      <td>OUT</td>\n",
       "      <td>X-position of center of gravity as ratio of mean aerodynamic chord for empty aircraft</td>\n",
       "    </tr>\n",
       "    <tr>\n",
       "      <td>data:weight:aircraft:in_flight_variation:fixed_mass_comp:equivalent_moment</td>\n",
       "      <td>OUT</td>\n",
       "      <td></td>\n",
       "    </tr>\n",
       "    <tr>\n",
       "      <td>data:weight:aircraft:in_flight_variation:fixed_mass_comp:mass</td>\n",
       "      <td>OUT</td>\n",
       "      <td></td>\n",
       "    </tr>\n",
       "    <tr>\n",
       "      <td>data:weight:aircraft:max_payload</td>\n",
       "      <td>OUT</td>\n",
       "      <td>max payload weight</td>\n",
       "    </tr>\n",
       "    <tr>\n",
       "      <td>data:weight:aircraft:payload</td>\n",
       "      <td>OUT</td>\n",
       "      <td>design payload weight</td>\n",
       "    </tr>\n",
       "    <tr>\n",
       "      <td>data:weight:aircraft_empty:CG:x</td>\n",
       "      <td>OUT</td>\n",
       "      <td>X-position center of gravity of empty aircraft</td>\n",
       "    </tr>\n",
       "    <tr>\n",
       "      <td>data:weight:aircraft_empty:CG:z</td>\n",
       "      <td>OUT</td>\n",
       "      <td></td>\n",
       "    </tr>\n",
       "    <tr>\n",
       "      <td>data:weight:aircraft_empty:mass</td>\n",
       "      <td>OUT</td>\n",
       "      <td>mass of empty aircraft (=OWE - mass of crew)</td>\n",
       "    </tr>\n",
       "    <tr>\n",
       "      <td>data:weight:airframe:flight_controls:CG:x</td>\n",
       "      <td>OUT</td>\n",
       "      <td>flight controls (A4): X-position of center of gravity</td>\n",
       "    </tr>\n",
       "    <tr>\n",
       "      <td>data:weight:airframe:flight_controls:mass</td>\n",
       "      <td>OUT</td>\n",
       "      <td>flight controls (A4): total mass</td>\n",
       "    </tr>\n",
       "    <tr>\n",
       "      <td>data:weight:airframe:fuselage:CG:x</td>\n",
       "      <td>OUT</td>\n",
       "      <td>fuselage (A2): X-position of center of gravity</td>\n",
       "    </tr>\n",
       "    <tr>\n",
       "      <td>data:weight:airframe:fuselage:mass</td>\n",
       "      <td>OUT</td>\n",
       "      <td>fuselage (A2): total mass</td>\n",
       "    </tr>\n",
       "    <tr>\n",
       "      <td>data:weight:airframe:horizontal_tail:CG:x</td>\n",
       "      <td>OUT</td>\n",
       "      <td>horizontal tail (A31): X-position of center of gravity</td>\n",
       "    </tr>\n",
       "    <tr>\n",
       "      <td>data:weight:airframe:horizontal_tail:mass</td>\n",
       "      <td>OUT</td>\n",
       "      <td>horizontal tail (A31): mass</td>\n",
       "    </tr>\n",
       "    <tr>\n",
       "      <td>data:weight:airframe:landing_gear:front:CG:x</td>\n",
       "      <td>OUT</td>\n",
       "      <td>front landing gear (A52): X-position of center of gravity</td>\n",
       "    </tr>\n",
       "    <tr>\n",
       "      <td>data:weight:airframe:landing_gear:front:mass</td>\n",
       "      <td>OUT</td>\n",
       "      <td>front landing gear (A52): mass</td>\n",
       "    </tr>\n",
       "    <tr>\n",
       "      <td>data:weight:airframe:landing_gear:main:CG:x</td>\n",
       "      <td>OUT</td>\n",
       "      <td>main landing gear (A51): X-position of center of gravity</td>\n",
       "    </tr>\n",
       "    <tr>\n",
       "      <td>data:weight:airframe:landing_gear:main:mass</td>\n",
       "      <td>OUT</td>\n",
       "      <td>main landing gear (A51): mass</td>\n",
       "    </tr>\n",
       "    <tr>\n",
       "      <td>data:weight:airframe:mass</td>\n",
       "      <td>OUT</td>\n",
       "      <td>Mass of airframe</td>\n",
       "    </tr>\n",
       "    <tr>\n",
       "      <td>data:weight:airframe:vertical_tail:CG:x</td>\n",
       "      <td>OUT</td>\n",
       "      <td>vertical tail (A32): X-position of center of gravity</td>\n",
       "    </tr>\n",
       "    <tr>\n",
       "      <td>data:weight:airframe:vertical_tail:mass</td>\n",
       "      <td>OUT</td>\n",
       "      <td>vertical tail (A32): mass</td>\n",
       "    </tr>\n",
       "    <tr>\n",
       "      <td>data:weight:airframe:wing:CG:x</td>\n",
       "      <td>OUT</td>\n",
       "      <td>wing (A1): X-position of center of gravity</td>\n",
       "    </tr>\n",
       "    <tr>\n",
       "      <td>data:weight:airframe:wing:mass</td>\n",
       "      <td>OUT</td>\n",
       "      <td>wing (A1): total mass</td>\n",
       "    </tr>\n",
       "    <tr>\n",
       "      <td>data:weight:furniture:mass</td>\n",
       "      <td>OUT</td>\n",
       "      <td>Mass of aircraft furniture</td>\n",
       "    </tr>\n",
       "    <tr>\n",
       "      <td>data:weight:furniture:passenger_seats:CG:x</td>\n",
       "      <td>OUT</td>\n",
       "      <td>passenger seats (D2): X-position of center of gravity</td>\n",
       "    </tr>\n",
       "    <tr>\n",
       "      <td>data:weight:furniture:passenger_seats:mass</td>\n",
       "      <td>OUT</td>\n",
       "      <td>passenger seats (D2): mass</td>\n",
       "    </tr>\n",
       "    <tr>\n",
       "      <td>data:weight:payload:PAX:CG:x</td>\n",
       "      <td>OUT</td>\n",
       "      <td>passengers: X-position of center of gravity</td>\n",
       "    </tr>\n",
       "    <tr>\n",
       "      <td>data:weight:payload:front_fret:CG:x</td>\n",
       "      <td>OUT</td>\n",
       "      <td>front fret: X-position of center of gravity</td>\n",
       "    </tr>\n",
       "    <tr>\n",
       "      <td>data:weight:payload:rear_fret:CG:x</td>\n",
       "      <td>OUT</td>\n",
       "      <td>rear fret: X-position of center of gravity</td>\n",
       "    </tr>\n",
       "    <tr>\n",
       "      <td>data:weight:propulsion:engine:CG:x</td>\n",
       "      <td>OUT</td>\n",
       "      <td>engine (B1): X-position of center of gravity</td>\n",
       "    </tr>\n",
       "    <tr>\n",
       "      <td>data:weight:propulsion:engine:CG:z</td>\n",
       "      <td>OUT</td>\n",
       "      <td></td>\n",
       "    </tr>\n",
       "    <tr>\n",
       "      <td>data:weight:propulsion:engine:mass</td>\n",
       "      <td>OUT</td>\n",
       "      <td>engine (B1): mass</td>\n",
       "    </tr>\n",
       "    <tr>\n",
       "      <td>data:weight:propulsion:fuel_lines:CG:x</td>\n",
       "      <td>OUT</td>\n",
       "      <td>fuel lines (B2): X-position of center of gravity</td>\n",
       "    </tr>\n",
       "    <tr>\n",
       "      <td>data:weight:propulsion:fuel_lines:mass</td>\n",
       "      <td>OUT</td>\n",
       "      <td>fuel lines (B2): mass</td>\n",
       "    </tr>\n",
       "    <tr>\n",
       "      <td>data:weight:propulsion:mass</td>\n",
       "      <td>OUT</td>\n",
       "      <td>Mass of the propulsion system</td>\n",
       "    </tr>\n",
       "    <tr>\n",
       "      <td>data:weight:propulsion:tank:CG:x</td>\n",
       "      <td>OUT</td>\n",
       "      <td></td>\n",
       "    </tr>\n",
       "    <tr>\n",
       "      <td>data:weight:propulsion:unusable_fuel:mass</td>\n",
       "      <td>OUT</td>\n",
       "      <td></td>\n",
       "    </tr>\n",
       "    <tr>\n",
       "      <td>data:weight:systems:life_support:air_conditioning:CG:x</td>\n",
       "      <td>OUT</td>\n",
       "      <td>air conditioning (C2): X-position of center of gravity</td>\n",
       "    </tr>\n",
       "    <tr>\n",
       "      <td>data:weight:systems:life_support:air_conditioning:mass</td>\n",
       "      <td>OUT</td>\n",
       "      <td>air conditioning (C2): mass</td>\n",
       "    </tr>\n",
       "    <tr>\n",
       "      <td>data:weight:systems:life_support:de_icing:mass</td>\n",
       "      <td>OUT</td>\n",
       "      <td>de-icing system mass</td>\n",
       "    </tr>\n",
       "    <tr>\n",
       "      <td>data:weight:systems:life_support:fixed_oxygen:mass</td>\n",
       "      <td>OUT</td>\n",
       "      <td>oxygen system mass</td>\n",
       "    </tr>\n",
       "    <tr>\n",
       "      <td>data:weight:systems:life_support:insulation:mass</td>\n",
       "      <td>OUT</td>\n",
       "      <td>insulation (C21): mass</td>\n",
       "    </tr>\n",
       "    <tr>\n",
       "      <td>data:weight:systems:life_support:internal_lighting:mass</td>\n",
       "      <td>OUT</td>\n",
       "      <td>lightning mass</td>\n",
       "    </tr>\n",
       "    <tr>\n",
       "      <td>data:weight:systems:life_support:seat_installation:mass</td>\n",
       "      <td>OUT</td>\n",
       "      <td>life support embeded in seat mass</td>\n",
       "    </tr>\n",
       "    <tr>\n",
       "      <td>data:weight:systems:life_support:security_kits:mass</td>\n",
       "      <td>OUT</td>\n",
       "      <td>sekurity kits mass</td>\n",
       "    </tr>\n",
       "    <tr>\n",
       "      <td>data:weight:systems:mass</td>\n",
       "      <td>OUT</td>\n",
       "      <td>Mass of aircraft systems</td>\n",
       "    </tr>\n",
       "    <tr>\n",
       "      <td>data:weight:systems:navigation:CG:x</td>\n",
       "      <td>OUT</td>\n",
       "      <td>navigation (C3): X-position of center of gravity</td>\n",
       "    </tr>\n",
       "    <tr>\n",
       "      <td>data:weight:systems:navigation:mass</td>\n",
       "      <td>OUT</td>\n",
       "      <td>navigation (C3): mass</td>\n",
       "    </tr>\n",
       "    <tr>\n",
       "      <td>data:weight:systems:power:electric_systems:CG:x</td>\n",
       "      <td>OUT</td>\n",
       "      <td>power (C1): X-position of center of gravity</td>\n",
       "    </tr>\n",
       "    <tr>\n",
       "      <td>data:weight:systems:power:electric_systems:mass</td>\n",
       "      <td>OUT</td>\n",
       "      <td>power (C1): mass</td>\n",
       "    </tr>\n",
       "    <tr>\n",
       "      <td>data:weight:systems:power:hydraulic_systems:CG:x</td>\n",
       "      <td>OUT</td>\n",
       "      <td>power (C1): X-position of center of gravity</td>\n",
       "    </tr>\n",
       "    <tr>\n",
       "      <td>data:weight:systems:power:hydraulic_systems:mass</td>\n",
       "      <td>OUT</td>\n",
       "      <td>power (C1): mass</td>\n",
       "    </tr>\n",
       "    <tr>\n",
       "      <td>xfoil:horizontal_tail:CL</td>\n",
       "      <td>OUT</td>\n",
       "      <td></td>\n",
       "    </tr>\n",
       "    <tr>\n",
       "      <td>xfoil:horizontal_tail:alpha</td>\n",
       "      <td>OUT</td>\n",
       "      <td></td>\n",
       "    </tr>\n",
       "    <tr>\n",
       "      <td>xfoil:vertical_tail:CL</td>\n",
       "      <td>OUT</td>\n",
       "      <td></td>\n",
       "    </tr>\n",
       "    <tr>\n",
       "      <td>xfoil:vertical_tail:alpha</td>\n",
       "      <td>OUT</td>\n",
       "      <td></td>\n",
       "    </tr>\n",
       "    <tr>\n",
       "      <td>xfoil:wing:CL</td>\n",
       "      <td>OUT</td>\n",
       "      <td></td>\n",
       "    </tr>\n",
       "    <tr>\n",
       "      <td>xfoil:wing:alpha</td>\n",
       "      <td>OUT</td>\n",
       "      <td></td>\n",
       "    </tr>\n",
       "  </tbody>\n",
       "</table>"
      ],
      "text/plain": [
       "<IPython.core.display.HTML object>"
      ]
     },
     "metadata": {},
     "output_type": "display_data"
    }
   ],
   "source": [
    "api_cs25.list_variables(CONFIGURATION_FILE)"
   ]
  },
  {
   "cell_type": "markdown",
   "metadata": {},
   "source": [
    "Another useful feature is to list the modules of the model defined in the configuration file:"
   ]
  },
  {
   "cell_type": "code",
   "execution_count": 5,
   "metadata": {},
   "outputs": [
    {
     "data": {
      "text/html": [
       "<table>\n",
       "<tbody>\n",
       "<tr><td>AVAILABLE MODULE IDENTIFIERS                           </td><td>MODULE PATH                                                                                                                  </td></tr>\n",
       "<tr><td>fastga.aerodynamics.highspeed.legacy                   </td><td>D:\\fl.lutz\\FAST\\FAST-OAD\\FAST-GA\\src\\fastga\\models\\aerodynamics\\aerodynamics_high_speed.py                                   </td></tr>\n",
       "<tr><td>fastga.aerodynamics.legacy                             </td><td>D:\\fl.lutz\\FAST\\FAST-OAD\\FAST-GA\\src\\fastga\\models\\aerodynamics\\aerodynamics.py                                              </td></tr>\n",
       "<tr><td>fastga.aerodynamics.load_factor                        </td><td>D:\\fl.lutz\\FAST\\FAST-OAD\\FAST-GA\\src\\fastga\\models\\aerodynamics\\load_factor.py                                               </td></tr>\n",
       "<tr><td>fastga.aerodynamics.lowspeed.legacy                    </td><td>D:\\fl.lutz\\FAST\\FAST-OAD\\FAST-GA\\src\\fastga\\models\\aerodynamics\\aerodynamics_low_speed.py                                    </td></tr>\n",
       "<tr><td>fastga.aerodynamics.propeller                          </td><td>D:\\fl.lutz\\FAST\\FAST-OAD\\FAST-GA\\src\\fastga\\models\\aerodynamics\\components\\compute_propeller_aero.py                         </td></tr>\n",
       "<tr><td>fastga.geometry.alternate                              </td><td>D:\\fl.lutz\\FAST\\FAST-OAD\\FAST-GA\\src\\fastga\\models\\geometry\\geometry.py                                                      </td></tr>\n",
       "<tr><td>fastga.geometry.legacy                                 </td><td>D:\\fl.lutz\\FAST\\FAST-OAD\\FAST-GA\\src\\fastga\\models\\geometry\\geometry.py                                                      </td></tr>\n",
       "<tr><td>fastga.handling_qualities.all_handling_qualities       </td><td>D:\\fl.lutz\\FAST\\FAST-OAD\\FAST-GA\\src\\fastga\\models\\handling_qualities\\handling_qualities.py                                  </td></tr>\n",
       "<tr><td>fastga.handling_qualities.static_margin                </td><td>D:\\fl.lutz\\FAST\\FAST-OAD\\FAST-GA\\src\\fastga\\models\\handling_qualities\\compute_static_margin.py                               </td></tr>\n",
       "<tr><td>fastga.handling_qualities.tail_sizing                  </td><td>D:\\fl.lutz\\FAST\\FAST-OAD\\FAST-GA\\src\\fastga\\models\\handling_qualities\\tail_sizing\\update_tail_areas.py                       </td></tr>\n",
       "<tr><td>fastga.loads.legacy                                    </td><td>D:\\fl.lutz\\FAST\\FAST-OAD\\FAST-GA\\src\\fastga\\models\\load_analysis\\loads.py                                                    </td></tr>\n",
       "<tr><td>fastga.loop.mtow                                       </td><td>D:\\fl.lutz\\FAST\\FAST-OAD\\FAST-GA\\src\\fastga\\models\\weight\\mass_breakdown\\update_mtow.py                                      </td></tr>\n",
       "<tr><td>fastga.loop.wing_area                                  </td><td>D:\\fl.lutz\\FAST\\FAST-OAD\\FAST-GA\\src\\fastga\\models\\loops\\update_wing_area.py                                                 </td></tr>\n",
       "<tr><td>fastga.loop.wing_position                              </td><td>D:\\fl.lutz\\FAST\\FAST-OAD\\FAST-GA\\src\\fastga\\models\\loops\\update_wing_position.py                                             </td></tr>\n",
       "<tr><td>fastga.performances.mission                            </td><td>D:\\fl.lutz\\FAST\\FAST-OAD\\FAST-GA\\src\\fastga\\models\\performances\\mission.py                                                   </td></tr>\n",
       "<tr><td>fastga.weight.legacy                                   </td><td>D:\\fl.lutz\\FAST\\FAST-OAD\\FAST-GA\\src\\fastga\\models\\weight\\weight.py                                                          </td></tr>\n",
       "<tr><td>fastoad.aerodynamics.highspeed.legacy                  </td><td>c:\\users\\fl.lutz\\anaconda3\\envs\\fast-ga\\lib\\site-packages\\fastoad\\models\\aerodynamics\\aerodynamics_high_speed.py             </td></tr>\n",
       "<tr><td>fastoad.aerodynamics.landing.legacy                    </td><td>c:\\users\\fl.lutz\\anaconda3\\envs\\fast-ga\\lib\\site-packages\\fastoad\\models\\aerodynamics\\aerodynamics_landing.py                </td></tr>\n",
       "<tr><td>fastoad.aerodynamics.lowspeed.legacy                   </td><td>c:\\users\\fl.lutz\\anaconda3\\envs\\fast-ga\\lib\\site-packages\\fastoad\\models\\aerodynamics\\aerodynamics_low_speed.py              </td></tr>\n",
       "<tr><td>fastoad.aerodynamics.takeoff.legacy                    </td><td>c:\\users\\fl.lutz\\anaconda3\\envs\\fast-ga\\lib\\site-packages\\fastoad\\models\\aerodynamics\\aerodynamics_takeoff.py                </td></tr>\n",
       "<tr><td>fastoad.geometry.legacy                                </td><td>c:\\users\\fl.lutz\\anaconda3\\envs\\fast-ga\\lib\\site-packages\\fastoad\\models\\geometry\\geometry.py                                </td></tr>\n",
       "<tr><td>fastoad.handling_qualities.static_margin               </td><td>c:\\users\\fl.lutz\\anaconda3\\envs\\fast-ga\\lib\\site-packages\\fastoad\\models\\handling_qualities\\compute_static_margin.py         </td></tr>\n",
       "<tr><td>fastoad.handling_qualities.tail_sizing                 </td><td>c:\\users\\fl.lutz\\anaconda3\\envs\\fast-ga\\lib\\site-packages\\fastoad\\models\\handling_qualities\\tail_sizing\\compute_tail_areas.py</td></tr>\n",
       "<tr><td>fastoad.loop.wing_area                                 </td><td>c:\\users\\fl.lutz\\anaconda3\\envs\\fast-ga\\lib\\site-packages\\fastoad\\models\\loops\\compute_wing_area.py                          </td></tr>\n",
       "<tr><td>fastoad.loop.wing_position                             </td><td>c:\\users\\fl.lutz\\anaconda3\\envs\\fast-ga\\lib\\site-packages\\fastoad\\models\\loops\\compute_wing_position.py                      </td></tr>\n",
       "<tr><td>fastoad.mass_performances.compute_MTOW                 </td><td>c:\\users\\fl.lutz\\anaconda3\\envs\\fast-ga\\lib\\site-packages\\fastoad\\models\\performances\\mission\\openmdao\\link_mtow.py          </td></tr>\n",
       "<tr><td>fastoad.performances.mission                           </td><td>c:\\users\\fl.lutz\\anaconda3\\envs\\fast-ga\\lib\\site-packages\\fastoad\\models\\performances\\mission\\openmdao\\mission.py            </td></tr>\n",
       "<tr><td>fastoad.weight.legacy                                  </td><td>c:\\users\\fl.lutz\\anaconda3\\envs\\fast-ga\\lib\\site-packages\\fastoad\\models\\weight\\weight.py                                    </td></tr>\n",
       "<tr><td>AVAILABLE PROPULSION WRAPPER IDENTIFIERS               </td><td>MODULE PATH                                                                                                                  </td></tr>\n",
       "<tr><td>fastga.wrapper.propulsion.basicIC_engine               </td><td>D:\\fl.lutz\\FAST\\FAST-OAD\\FAST-GA\\src\\fastga\\models\\propulsion\\fuel_propulsion\\basicIC_engine\\openmdao.py                     </td></tr>\n",
       "<tr><td>fastoad.wrapper.propulsion.rubber_engine               </td><td>c:\\users\\fl.lutz\\anaconda3\\envs\\fast-ga\\lib\\site-packages\\fastoad\\models\\propulsion\\fuel_propulsion\\rubber_engine\\openmdao.py</td></tr>\n",
       "<tr><td>test.wrapper.aerodynamics.beechcraft.dummy_engine      </td><td>D:\\fl.lutz\\FAST\\FAST-OAD\\FAST-GA\\src\\fastga\\models\\aerodynamics\\unitary_tests\\dummy_engines.py                               </td></tr>\n",
       "<tr><td>test.wrapper.aerodynamics.cirrus.dummy_engine          </td><td>D:\\fl.lutz\\FAST\\FAST-OAD\\FAST-GA\\src\\fastga\\models\\aerodynamics\\unitary_tests\\dummy_engines.py                               </td></tr>\n",
       "<tr><td>test.wrapper.cg.beechcraft.dummy_engine                </td><td>D:\\fl.lutz\\FAST\\FAST-OAD\\FAST-GA\\src\\fastga\\models\\weight\\cg\\unitary_tests\\dummy_engines.py                                  </td></tr>\n",
       "<tr><td>test.wrapper.cg.cirrus.dummy_engine                    </td><td>D:\\fl.lutz\\FAST\\FAST-OAD\\FAST-GA\\src\\fastga\\models\\weight\\cg\\unitary_tests\\dummy_engines.py                                  </td></tr>\n",
       "<tr><td>test.wrapper.geometry.beechcraft.dummy_engine          </td><td>D:\\fl.lutz\\FAST\\FAST-OAD\\FAST-GA\\src\\fastga\\models\\geometry\\unitary_tests\\dummy_engines.py                                   </td></tr>\n",
       "<tr><td>test.wrapper.geometry.cirrus.dummy_engine              </td><td>D:\\fl.lutz\\FAST\\FAST-OAD\\FAST-GA\\src\\fastga\\models\\geometry\\unitary_tests\\dummy_engines.py                                   </td></tr>\n",
       "<tr><td>test.wrapper.handling_qualities.beechcraft.dummy_engine</td><td>D:\\fl.lutz\\FAST\\FAST-OAD\\FAST-GA\\src\\fastga\\models\\handling_qualities\\unitary_tests\\dummy_engines.py                         </td></tr>\n",
       "<tr><td>test.wrapper.handling_qualities.cirrus.dummy_engine    </td><td>D:\\fl.lutz\\FAST\\FAST-OAD\\FAST-GA\\src\\fastga\\models\\handling_qualities\\unitary_tests\\dummy_engines.py                         </td></tr>\n",
       "<tr><td>test.wrapper.load_analysis.beechcraft.dummy_engine     </td><td>D:\\fl.lutz\\FAST\\FAST-OAD\\FAST-GA\\src\\fastga\\models\\load_analysis\\unitary_tests\\dummy_engines.py                              </td></tr>\n",
       "<tr><td>test.wrapper.load_analysis.cirrus.dummy_engine         </td><td>D:\\fl.lutz\\FAST\\FAST-OAD\\FAST-GA\\src\\fastga\\models\\load_analysis\\unitary_tests\\dummy_engines.py                              </td></tr>\n",
       "<tr><td>test.wrapper.mass_breakdown.beechcraft.dummy_engine    </td><td>D:\\fl.lutz\\FAST\\FAST-OAD\\FAST-GA\\src\\fastga\\models\\weight\\mass_breakdown\\unitary_tests\\dummy_engines.py                      </td></tr>\n",
       "<tr><td>test.wrapper.mass_breakdown.cirrus.dummy_engine        </td><td>D:\\fl.lutz\\FAST\\FAST-OAD\\FAST-GA\\src\\fastga\\models\\weight\\mass_breakdown\\unitary_tests\\dummy_engines.py                      </td></tr>\n",
       "<tr><td>test.wrapper.performances.beechcraft.dummy_engine      </td><td>D:\\fl.lutz\\FAST\\FAST-OAD\\FAST-GA\\src\\fastga\\models\\performances\\unitary_tests\\dummy_engines.py                               </td></tr>\n",
       "<tr><td>test.wrapper.performances.cirrus.dummy_engine          </td><td>D:\\fl.lutz\\FAST\\FAST-OAD\\FAST-GA\\src\\fastga\\models\\performances\\unitary_tests\\dummy_engines.py                               </td></tr>\n",
       "</tbody>\n",
       "</table>"
      ],
      "text/plain": [
       "<IPython.core.display.HTML object>"
      ]
     },
     "metadata": {},
     "output_type": "display_data"
    }
   ],
   "source": [
    "api_cs25.list_modules(CONFIGURATION_FILE)"
   ]
  },
  {
   "cell_type": "markdown",
   "metadata": {},
   "source": [
    "Another useful feature is the [N2 diagram](http://openmdao.org/twodocs/versions/latest/basic_guide/make_n2.html) visualization available in OpenMDAO to see the structure of the model:"
   ]
  },
  {
   "cell_type": "code",
   "execution_count": 6,
   "metadata": {},
   "outputs": [
    {
     "name": "stderr",
     "output_type": "stream",
     "text": [
      "INFO    : N2 diagram written in D:\\fl.lutz\\FAST\\FAST-OAD\\FAST-GA\\src\\fastga\\notebooks\\tutorial\\workdir\\n2.html\n"
     ]
    },
    {
     "data": {
      "text/html": [
       "\n",
       "        <iframe\n",
       "            width=\"100%\"\n",
       "            height=\"500px\"\n",
       "            src=\"workdir\\n2.html\"\n",
       "            frameborder=\"0\"\n",
       "            allowfullscreen\n",
       "        ></iframe>\n",
       "        "
      ],
      "text/plain": [
       "<IPython.lib.display.IFrame at 0x1b4fd0c7370>"
      ]
     },
     "execution_count": 6,
     "metadata": {},
     "output_type": "execute_result"
    }
   ],
   "source": [
    "N2_FILE = pth.join(WORK_FOLDER_PATH, 'n2.html')\n",
    "api_cs25.write_n2(CONFIGURATION_FILE, N2_FILE, overwrite=True)\n",
    "from IPython.display import IFrame\n",
    "IFrame(src=N2_FILE, width='100%', height='500px')"
   ]
  },
  {
   "cell_type": "markdown",
   "metadata": {},
   "source": [
    "Alternatively, you can create a [WhatsOpt](https://github.com/OneraHub/WhatsOpt-Doc#whatsopt-documentation) account to generate the XDSM of the problem. If your account is created, you may uncomment next lines and run them (this should take ~ 1 min):"
   ]
  },
  {
   "cell_type": "code",
   "execution_count": null,
   "metadata": {},
   "outputs": [],
   "source": [
    "# XDSM_FILE = pth.join(WORK_FOLDER_PATH, 'xdsm.html')\n",
    "# api_cs25.write_xdsm(CONFIGURATION_FILE, XDSM_FILE, overwrite=True)\n",
    "# from IPython.display import IFrame\n",
    "# IFrame(src=XDSM_FILE, width='100%', height='500px')"
   ]
  },
  {
   "cell_type": "markdown",
   "metadata": {},
   "source": [
    "## 2. Running your first MDA"
   ]
  },
  {
   "cell_type": "markdown",
   "metadata": {},
   "source": [
    "### Beechcraft\n",
    "Here we run an MDA, that is solving the multidisciplinary couplings using the different nested solvers in the model, without running the optimization problem even if it is defined in the configuration file."
   ]
  },
  {
   "cell_type": "code",
   "execution_count": 7,
   "metadata": {},
   "outputs": [
    {
     "name": "stderr",
     "output_type": "stream",
     "text": [
      "c:\\users\\fl.lutz\\anaconda3\\envs\\fast-ga\\lib\\site-packages\\scipy\\optimize\\minpack.py:175: RuntimeWarning: The iteration is not making good progress, as measured by the \n",
      "  improvement from the last five Jacobian evaluations.\n",
      "  warnings.warn(msg, RuntimeWarning)\n"
     ]
    },
    {
     "name": "stdout",
     "output_type": "stream",
     "text": [
      "\n",
      "===============\n",
      "aircraft_sizing\n",
      "===============\n"
     ]
    },
    {
     "name": "stderr",
     "output_type": "stream",
     "text": [
      "WARNING : Airfoil lift coefficient to theoretical lift coefficient ratio value outside of the range in Roskam's book, value clipped\n",
      "WARNING : Airfoil lift coefficient to theoretical lift coefficient ratio value outside of the range in Roskam's book, value clipped\n",
      "WARNING : Airfoil lift slope ratio value outside of the range in Roskam's book, value clipped\n",
      "WARNING : Chord ratio value outside of the range in Roskam's book, value clipped\n",
      "WARNING : Chord ratio value outside of the range in Roskam's book, value clipped\n",
      "WARNING : Chord ratio value outside of the range in Roskam's book, value clipped\n",
      "WARNING : Chord ratio value outside of the range in Roskam's book, value clipped\n",
      "INFO    : Entering mission computation\n",
      "INFO    : Entering mission computation\n",
      "INFO    : Entering mission computation\n",
      "WARNING : Looping on wing area with new value equal to [14.03086421]\n"
     ]
    },
    {
     "name": "stdout",
     "output_type": "stream",
     "text": [
      "NL: NLBGS 1 ; 12869313.4 1\n"
     ]
    },
    {
     "name": "stderr",
     "output_type": "stream",
     "text": [
      "WARNING : Chord ratio value outside of the range in Roskam's book, value clipped\n",
      "WARNING : Chord ratio value outside of the range in Roskam's book, value clipped\n",
      "WARNING : Chord ratio value outside of the range in Roskam's book, value clipped\n",
      "WARNING : Chord ratio value outside of the range in Roskam's book, value clipped\n",
      "INFO    : Entering mission computation\n",
      "INFO    : Entering mission computation\n",
      "INFO    : Entering mission computation\n",
      "WARNING : Looping on wing area with new value equal to [12.30205852]\n"
     ]
    },
    {
     "name": "stdout",
     "output_type": "stream",
     "text": [
      "NL: NLBGS 2 ; 4661321.03 0.36220433\n"
     ]
    },
    {
     "name": "stderr",
     "output_type": "stream",
     "text": [
      "WARNING : Chord ratio value outside of the range in Roskam's book, value clipped\n",
      "WARNING : Chord ratio value outside of the range in Roskam's book, value clipped\n",
      "WARNING : Chord ratio value outside of the range in Roskam's book, value clipped\n",
      "WARNING : Chord ratio value outside of the range in Roskam's book, value clipped\n",
      "INFO    : Entering mission computation\n",
      "INFO    : Entering mission computation\n",
      "INFO    : Entering mission computation\n",
      "WARNING : Looping on wing area with new value equal to [14.45562993]\n"
     ]
    },
    {
     "name": "stdout",
     "output_type": "stream",
     "text": [
      "NL: NLBGS 3 ; 2410158.06 0.18727946\n"
     ]
    },
    {
     "name": "stderr",
     "output_type": "stream",
     "text": [
      "WARNING : Chord ratio value outside of the range in Roskam's book, value clipped\n",
      "WARNING : Chord ratio value outside of the range in Roskam's book, value clipped\n",
      "WARNING : Chord ratio value outside of the range in Roskam's book, value clipped\n",
      "WARNING : Chord ratio value outside of the range in Roskam's book, value clipped\n",
      "INFO    : Entering mission computation\n",
      "INFO    : Entering mission computation\n",
      "INFO    : Entering mission computation\n",
      "WARNING : Looping on wing area with new value equal to [14.80302023]\n",
      "WARNING : Area ratio value outside of the range in Roskam's book, value clipped\n"
     ]
    },
    {
     "name": "stdout",
     "output_type": "stream",
     "text": [
      "NL: NLBGS 4 ; 1162485.33 0.0903300193\n"
     ]
    },
    {
     "name": "stderr",
     "output_type": "stream",
     "text": [
      "WARNING : Chord ratio value outside of the range in Roskam's book, value clipped\n",
      "WARNING : Chord ratio value outside of the range in Roskam's book, value clipped\n",
      "WARNING : Chord ratio value outside of the range in Roskam's book, value clipped\n",
      "WARNING : Chord ratio value outside of the range in Roskam's book, value clipped\n",
      "WARNING : Area ratio value outside of the range in Roskam's book, value clipped\n",
      "INFO    : Entering mission computation\n",
      "INFO    : Entering mission computation\n",
      "INFO    : Entering mission computation\n",
      "WARNING : Looping on wing area with new value equal to [15.07126258]\n",
      "WARNING : Area ratio value outside of the range in Roskam's book, value clipped\n"
     ]
    },
    {
     "name": "stdout",
     "output_type": "stream",
     "text": [
      "NL: NLBGS 5 ; 1142833.87 0.0888030182\n"
     ]
    },
    {
     "name": "stderr",
     "output_type": "stream",
     "text": [
      "WARNING : Chord ratio value outside of the range in Roskam's book, value clipped\n",
      "WARNING : Chord ratio value outside of the range in Roskam's book, value clipped\n",
      "WARNING : Chord ratio value outside of the range in Roskam's book, value clipped\n",
      "WARNING : Chord ratio value outside of the range in Roskam's book, value clipped\n",
      "WARNING : Area ratio value outside of the range in Roskam's book, value clipped\n",
      "INFO    : Entering mission computation\n",
      "INFO    : Entering mission computation\n",
      "INFO    : Entering mission computation\n",
      "WARNING : Looping on wing area with new value equal to [15.33359985]\n",
      "WARNING : Area ratio value outside of the range in Roskam's book, value clipped\n"
     ]
    },
    {
     "name": "stdout",
     "output_type": "stream",
     "text": [
      "NL: NLBGS 6 ; 381465.143 0.0296414526\n"
     ]
    },
    {
     "name": "stderr",
     "output_type": "stream",
     "text": [
      "WARNING : Chord ratio value outside of the range in Roskam's book, value clipped\n",
      "WARNING : Chord ratio value outside of the range in Roskam's book, value clipped\n",
      "WARNING : Chord ratio value outside of the range in Roskam's book, value clipped\n",
      "WARNING : Chord ratio value outside of the range in Roskam's book, value clipped\n",
      "WARNING : Area ratio value outside of the range in Roskam's book, value clipped\n",
      "INFO    : Entering mission computation\n",
      "INFO    : Entering mission computation\n",
      "INFO    : Entering mission computation\n",
      "WARNING : Looping on wing area with new value equal to [15.50078957]\n",
      "WARNING : Area ratio value outside of the range in Roskam's book, value clipped\n"
     ]
    },
    {
     "name": "stdout",
     "output_type": "stream",
     "text": [
      "NL: NLBGS 7 ; 148104.281 0.0115083281\n"
     ]
    },
    {
     "name": "stderr",
     "output_type": "stream",
     "text": [
      "WARNING : Chord ratio value outside of the range in Roskam's book, value clipped\n",
      "WARNING : Chord ratio value outside of the range in Roskam's book, value clipped\n",
      "WARNING : Chord ratio value outside of the range in Roskam's book, value clipped\n",
      "WARNING : Chord ratio value outside of the range in Roskam's book, value clipped\n",
      "WARNING : Area ratio value outside of the range in Roskam's book, value clipped\n",
      "INFO    : Entering mission computation\n",
      "INFO    : Entering mission computation\n",
      "INFO    : Entering mission computation\n",
      "WARNING : Looping on wing area with new value equal to [15.58837592]\n",
      "WARNING : Area ratio value outside of the range in Roskam's book, value clipped\n"
     ]
    },
    {
     "name": "stdout",
     "output_type": "stream",
     "text": [
      "NL: NLBGS 8 ; 98062.8723 0.00761989932\n"
     ]
    },
    {
     "name": "stderr",
     "output_type": "stream",
     "text": [
      "WARNING : Chord ratio value outside of the range in Roskam's book, value clipped\n",
      "WARNING : Chord ratio value outside of the range in Roskam's book, value clipped\n",
      "WARNING : Chord ratio value outside of the range in Roskam's book, value clipped\n",
      "WARNING : Chord ratio value outside of the range in Roskam's book, value clipped\n",
      "WARNING : Area ratio value outside of the range in Roskam's book, value clipped\n",
      "INFO    : Entering mission computation\n",
      "INFO    : Entering mission computation\n",
      "INFO    : Entering mission computation\n",
      "WARNING : Looping on wing area with new value equal to [15.63168513]\n",
      "WARNING : Area ratio value outside of the range in Roskam's book, value clipped\n"
     ]
    },
    {
     "name": "stdout",
     "output_type": "stream",
     "text": [
      "NL: NLBGS 9 ; 56716.7958 0.00440713456\n"
     ]
    },
    {
     "name": "stderr",
     "output_type": "stream",
     "text": [
      "WARNING : Chord ratio value outside of the range in Roskam's book, value clipped\n",
      "WARNING : Chord ratio value outside of the range in Roskam's book, value clipped\n",
      "WARNING : Chord ratio value outside of the range in Roskam's book, value clipped\n",
      "WARNING : Chord ratio value outside of the range in Roskam's book, value clipped\n",
      "WARNING : Area ratio value outside of the range in Roskam's book, value clipped\n",
      "INFO    : Entering mission computation\n",
      "INFO    : Entering mission computation\n",
      "INFO    : Entering mission computation\n",
      "WARNING : Looping on wing area with new value equal to [15.65689297]\n",
      "WARNING : Area ratio value outside of the range in Roskam's book, value clipped\n"
     ]
    },
    {
     "name": "stdout",
     "output_type": "stream",
     "text": [
      "NL: NLBGS 10 ; 27045.755 0.00210156939\n"
     ]
    },
    {
     "name": "stderr",
     "output_type": "stream",
     "text": [
      "WARNING : Chord ratio value outside of the range in Roskam's book, value clipped\n",
      "WARNING : Chord ratio value outside of the range in Roskam's book, value clipped\n",
      "WARNING : Chord ratio value outside of the range in Roskam's book, value clipped\n",
      "WARNING : Chord ratio value outside of the range in Roskam's book, value clipped\n",
      "WARNING : Area ratio value outside of the range in Roskam's book, value clipped\n",
      "INFO    : Entering mission computation\n",
      "INFO    : Entering mission computation\n",
      "INFO    : Entering mission computation\n",
      "WARNING : Looping on wing area with new value equal to [15.67158748]\n"
     ]
    },
    {
     "name": "stdout",
     "output_type": "stream",
     "text": [
      "NL: NLBGS 11 ; 11957.8699 0.00092917699\n",
      "NL: NLBGS Converged\n"
     ]
    },
    {
     "name": "stderr",
     "output_type": "stream",
     "text": [
      "INFO    : Computation finished after 451.26 seconds\n",
      "INFO    : Problem outputs written in D:\\fl.lutz\\FAST\\FAST-OAD\\FAST-GA\\src\\fastga\\notebooks\\tutorial\\workdir\\problem_outputs.xml\n"
     ]
    }
   ],
   "source": [
    "eval_problem = api_cs25.evaluate_problem(CONFIGURATION_FILE, overwrite=True)"
   ]
  },
  {
   "cell_type": "markdown",
   "metadata": {},
   "source": [
    "Let's save these results. We will use them in the next workbook, that shows some post-processing utilities."
   ]
  },
  {
   "cell_type": "code",
   "execution_count": 8,
   "metadata": {},
   "outputs": [
    {
     "data": {
      "text/plain": [
       "'workdir\\\\problem_outputs_Beechcraft_800nm_mda.xml'"
      ]
     },
     "execution_count": 8,
     "metadata": {},
     "output_type": "execute_result"
    }
   ],
   "source": [
    "OUTPUT_FILE = pth.join(WORK_FOLDER_PATH, 'problem_outputs.xml')\n",
    "Beechcraft_OUTPUT_FILE = pth.join(WORK_FOLDER_PATH, 'problem_outputs_Beechcraft_800nm_mda.xml')\n",
    "shutil.copy(OUTPUT_FILE, Beechcraft_OUTPUT_FILE)"
   ]
  },
  {
   "cell_type": "markdown",
   "metadata": {},
   "source": [
    "The `variable-viewer` provides a way to inspect the content of the XML file. The dropdown lists above the table allow to filter the displayed variable."
   ]
  },
  {
   "cell_type": "code",
   "execution_count": 9,
   "metadata": {},
   "outputs": [
    {
     "data": {
      "application/vnd.jupyter.widget-view+json": {
       "model_id": "9d7b5872abdf4502b0dd961988ffca10",
       "version_major": 2,
       "version_minor": 0
      },
      "text/plain": [
       "VBox(children=(HBox(children=(Button(description='Load', icon='upload', style=ButtonStyle(), tooltip='Load the…"
      ]
     },
     "metadata": {},
     "output_type": "display_data"
    }
   ],
   "source": [
    "api_cs25.variable_viewer(OUTPUT_FILE)"
   ]
  },
  {
   "cell_type": "markdown",
   "metadata": {},
   "source": [
    "In particular, you may inspect the `data:handling_qualities:static_margin` variable.\n",
    "You will see that its value is equal to the value we set as the target meaning the MDA process converged correctly."
   ]
  },
  {
   "cell_type": "markdown",
   "metadata": {},
   "source": [
    "### Beechcraft for 1000 nm range\n",
    "Here we run an MDA but we change one of the Top Level Aircraft Requirement (TLAR): the range. We choose a 1000 nm range instead of 800 nm for the Beechcraft. For that we use the `VariableViewer` tool on the input file to change the range (do not forget to save!). Just like this:\n",
    "![variable_viewer](./img/variable_viewer_change_range.gif)"
   ]
  },
  {
   "cell_type": "code",
   "execution_count": 10,
   "metadata": {
    "scrolled": true
   },
   "outputs": [
    {
     "data": {
      "application/vnd.jupyter.widget-view+json": {
       "model_id": "8a716fe7c9144db6aa4d84492f295895",
       "version_major": 2,
       "version_minor": 0
      },
      "text/plain": [
       "VBox(children=(HBox(children=(Button(description='Load', icon='upload', style=ButtonStyle(), tooltip='Load the…"
      ]
     },
     "metadata": {},
     "output_type": "display_data"
    }
   ],
   "source": [
    "INPUT_FILE = pth.join(WORK_FOLDER_PATH, 'problem_inputs.xml')\n",
    "api_cs25.variable_viewer(INPUT_FILE)"
   ]
  },
  {
   "cell_type": "markdown",
   "metadata": {},
   "source": [
    "Now that the range has been changed, we run again the MDA."
   ]
  },
  {
   "cell_type": "code",
   "execution_count": 11,
   "metadata": {},
   "outputs": [
    {
     "name": "stderr",
     "output_type": "stream",
     "text": [
      "c:\\users\\fl.lutz\\anaconda3\\envs\\fast-ga\\lib\\site-packages\\scipy\\optimize\\minpack.py:175: RuntimeWarning: The iteration is not making good progress, as measured by the \n",
      "  improvement from the last five Jacobian evaluations.\n",
      "  warnings.warn(msg, RuntimeWarning)\n",
      "WARNING : Airfoil lift coefficient to theoretical lift coefficient ratio value outside of the range in Roskam's book, value clipped\n",
      "WARNING : Airfoil lift coefficient to theoretical lift coefficient ratio value outside of the range in Roskam's book, value clipped\n",
      "WARNING : Airfoil lift slope ratio value outside of the range in Roskam's book, value clipped\n"
     ]
    },
    {
     "name": "stdout",
     "output_type": "stream",
     "text": [
      "\n",
      "===============\n",
      "aircraft_sizing\n",
      "===============\n"
     ]
    },
    {
     "name": "stderr",
     "output_type": "stream",
     "text": [
      "WARNING : Chord ratio value outside of the range in Roskam's book, value clipped\n",
      "WARNING : Chord ratio value outside of the range in Roskam's book, value clipped\n",
      "WARNING : Chord ratio value outside of the range in Roskam's book, value clipped\n",
      "WARNING : Chord ratio value outside of the range in Roskam's book, value clipped\n",
      "INFO    : Entering mission computation\n",
      "INFO    : Entering mission computation\n",
      "INFO    : Entering mission computation\n",
      "WARNING : Looping on wing area with new value equal to [14.03086421]\n"
     ]
    },
    {
     "name": "stdout",
     "output_type": "stream",
     "text": [
      "NL: NLBGS 1 ; 12914287.7 1\n"
     ]
    },
    {
     "name": "stderr",
     "output_type": "stream",
     "text": [
      "WARNING : Chord ratio value outside of the range in Roskam's book, value clipped\n",
      "WARNING : Chord ratio value outside of the range in Roskam's book, value clipped\n",
      "WARNING : Chord ratio value outside of the range in Roskam's book, value clipped\n",
      "WARNING : Chord ratio value outside of the range in Roskam's book, value clipped\n",
      "INFO    : Entering mission computation\n",
      "INFO    : Entering mission computation\n",
      "INFO    : Entering mission computation\n",
      "WARNING : Looping on wing area with new value equal to [12.30205852]\n"
     ]
    },
    {
     "name": "stdout",
     "output_type": "stream",
     "text": [
      "NL: NLBGS 2 ; 4661319.89 0.360942857\n"
     ]
    },
    {
     "name": "stderr",
     "output_type": "stream",
     "text": [
      "WARNING : Chord ratio value outside of the range in Roskam's book, value clipped\n",
      "WARNING : Chord ratio value outside of the range in Roskam's book, value clipped\n",
      "WARNING : Chord ratio value outside of the range in Roskam's book, value clipped\n",
      "WARNING : Chord ratio value outside of the range in Roskam's book, value clipped\n",
      "INFO    : Entering mission computation\n",
      "INFO    : Entering mission computation\n",
      "INFO    : Entering mission computation\n",
      "WARNING : Looping on wing area with new value equal to [14.85003728]\n"
     ]
    },
    {
     "name": "stdout",
     "output_type": "stream",
     "text": [
      "NL: NLBGS 3 ; 2423262.73 0.187641997\n"
     ]
    },
    {
     "name": "stderr",
     "output_type": "stream",
     "text": [
      "WARNING : Chord ratio value outside of the range in Roskam's book, value clipped\n",
      "WARNING : Chord ratio value outside of the range in Roskam's book, value clipped\n",
      "WARNING : Chord ratio value outside of the range in Roskam's book, value clipped\n",
      "WARNING : Chord ratio value outside of the range in Roskam's book, value clipped\n",
      "INFO    : Entering mission computation\n",
      "INFO    : Entering mission computation\n",
      "INFO    : Entering mission computation\n",
      "WARNING : Looping on wing area with new value equal to [15.2206983]\n",
      "WARNING : Area ratio value outside of the range in Roskam's book, value clipped\n"
     ]
    },
    {
     "name": "stdout",
     "output_type": "stream",
     "text": [
      "NL: NLBGS 4 ; 1240563.12 0.0960612893\n"
     ]
    },
    {
     "name": "stderr",
     "output_type": "stream",
     "text": [
      "WARNING : Chord ratio value outside of the range in Roskam's book, value clipped\n",
      "WARNING : Chord ratio value outside of the range in Roskam's book, value clipped\n",
      "WARNING : Chord ratio value outside of the range in Roskam's book, value clipped\n",
      "WARNING : Chord ratio value outside of the range in Roskam's book, value clipped\n",
      "WARNING : Area ratio value outside of the range in Roskam's book, value clipped\n",
      "INFO    : Entering mission computation\n",
      "INFO    : Entering mission computation\n",
      "INFO    : Entering mission computation\n",
      "WARNING : Looping on wing area with new value equal to [15.61941562]\n",
      "WARNING : Area ratio value outside of the range in Roskam's book, value clipped\n"
     ]
    },
    {
     "name": "stdout",
     "output_type": "stream",
     "text": [
      "NL: NLBGS 5 ; 1300916.56 0.100734674\n"
     ]
    },
    {
     "name": "stderr",
     "output_type": "stream",
     "text": [
      "WARNING : Chord ratio value outside of the range in Roskam's book, value clipped\n",
      "WARNING : Chord ratio value outside of the range in Roskam's book, value clipped\n",
      "WARNING : Chord ratio value outside of the range in Roskam's book, value clipped\n",
      "WARNING : Chord ratio value outside of the range in Roskam's book, value clipped\n",
      "WARNING : Area ratio value outside of the range in Roskam's book, value clipped\n",
      "INFO    : Entering mission computation\n",
      "INFO    : Entering mission computation\n",
      "INFO    : Entering mission computation\n",
      "WARNING : Looping on wing area with new value equal to [15.91994418]\n",
      "WARNING : Area ratio value outside of the range in Roskam's book, value clipped\n"
     ]
    },
    {
     "name": "stdout",
     "output_type": "stream",
     "text": [
      "NL: NLBGS 6 ; 372540.24 0.0288471381\n"
     ]
    },
    {
     "name": "stderr",
     "output_type": "stream",
     "text": [
      "WARNING : Chord ratio value outside of the range in Roskam's book, value clipped\n",
      "WARNING : Chord ratio value outside of the range in Roskam's book, value clipped\n",
      "WARNING : Chord ratio value outside of the range in Roskam's book, value clipped\n",
      "WARNING : Chord ratio value outside of the range in Roskam's book, value clipped\n",
      "WARNING : Area ratio value outside of the range in Roskam's book, value clipped\n",
      "INFO    : Entering mission computation\n",
      "INFO    : Entering mission computation\n",
      "INFO    : Entering mission computation\n",
      "WARNING : Looping on wing area with new value equal to [16.12105175]\n",
      "WARNING : Area ratio value outside of the range in Roskam's book, value clipped\n"
     ]
    },
    {
     "name": "stdout",
     "output_type": "stream",
     "text": [
      "NL: NLBGS 7 ; 189412.887 0.0146669248\n"
     ]
    },
    {
     "name": "stderr",
     "output_type": "stream",
     "text": [
      "WARNING : Chord ratio value outside of the range in Roskam's book, value clipped\n",
      "WARNING : Chord ratio value outside of the range in Roskam's book, value clipped\n",
      "WARNING : Chord ratio value outside of the range in Roskam's book, value clipped\n",
      "WARNING : Chord ratio value outside of the range in Roskam's book, value clipped\n",
      "WARNING : Area ratio value outside of the range in Roskam's book, value clipped\n",
      "INFO    : Entering mission computation\n",
      "INFO    : Entering mission computation\n",
      "INFO    : Entering mission computation\n",
      "WARNING : Looping on wing area with new value equal to [16.23327695]\n",
      "WARNING : Area ratio value outside of the range in Roskam's book, value clipped\n"
     ]
    },
    {
     "name": "stdout",
     "output_type": "stream",
     "text": [
      "NL: NLBGS 8 ; 117718.075 0.00911533625\n"
     ]
    },
    {
     "name": "stderr",
     "output_type": "stream",
     "text": [
      "WARNING : Chord ratio value outside of the range in Roskam's book, value clipped\n",
      "WARNING : Chord ratio value outside of the range in Roskam's book, value clipped\n",
      "WARNING : Chord ratio value outside of the range in Roskam's book, value clipped\n",
      "WARNING : Chord ratio value outside of the range in Roskam's book, value clipped\n",
      "WARNING : Area ratio value outside of the range in Roskam's book, value clipped\n",
      "INFO    : Entering mission computation\n",
      "INFO    : Entering mission computation\n",
      "INFO    : Entering mission computation\n",
      "WARNING : Looping on wing area with new value equal to [16.29553909]\n",
      "WARNING : Area ratio value outside of the range in Roskam's book, value clipped\n"
     ]
    },
    {
     "name": "stdout",
     "output_type": "stream",
     "text": [
      "NL: NLBGS 9 ; 69901.1802 0.00541270119\n"
     ]
    },
    {
     "name": "stderr",
     "output_type": "stream",
     "text": [
      "WARNING : Chord ratio value outside of the range in Roskam's book, value clipped\n",
      "WARNING : Chord ratio value outside of the range in Roskam's book, value clipped\n",
      "WARNING : Chord ratio value outside of the range in Roskam's book, value clipped\n",
      "WARNING : Chord ratio value outside of the range in Roskam's book, value clipped\n",
      "WARNING : Area ratio value outside of the range in Roskam's book, value clipped\n",
      "INFO    : Entering mission computation\n",
      "INFO    : Entering mission computation\n",
      "INFO    : Entering mission computation\n",
      "WARNING : Looping on wing area with new value equal to [16.32684447]\n",
      "WARNING : Area ratio value outside of the range in Roskam's book, value clipped\n"
     ]
    },
    {
     "name": "stdout",
     "output_type": "stream",
     "text": [
      "NL: NLBGS 10 ; 36156.3845 0.00279971961\n"
     ]
    },
    {
     "name": "stderr",
     "output_type": "stream",
     "text": [
      "WARNING : Chord ratio value outside of the range in Roskam's book, value clipped\n",
      "WARNING : Chord ratio value outside of the range in Roskam's book, value clipped\n",
      "WARNING : Chord ratio value outside of the range in Roskam's book, value clipped\n",
      "WARNING : Chord ratio value outside of the range in Roskam's book, value clipped\n",
      "WARNING : Area ratio value outside of the range in Roskam's book, value clipped\n",
      "INFO    : Entering mission computation\n",
      "INFO    : Entering mission computation\n",
      "INFO    : Entering mission computation\n",
      "WARNING : Looping on wing area with new value equal to [16.34565282]\n",
      "WARNING : Area ratio value outside of the range in Roskam's book, value clipped\n"
     ]
    },
    {
     "name": "stdout",
     "output_type": "stream",
     "text": [
      "NL: NLBGS 11 ; 17584.8254 0.00136165663\n"
     ]
    },
    {
     "name": "stderr",
     "output_type": "stream",
     "text": [
      "WARNING : Chord ratio value outside of the range in Roskam's book, value clipped\n",
      "WARNING : Chord ratio value outside of the range in Roskam's book, value clipped\n",
      "WARNING : Chord ratio value outside of the range in Roskam's book, value clipped\n",
      "WARNING : Chord ratio value outside of the range in Roskam's book, value clipped\n",
      "WARNING : Area ratio value outside of the range in Roskam's book, value clipped\n",
      "INFO    : Entering mission computation\n",
      "INFO    : Entering mission computation\n",
      "INFO    : Entering mission computation\n",
      "WARNING : Looping on wing area with new value equal to [16.35163936]\n"
     ]
    },
    {
     "name": "stdout",
     "output_type": "stream",
     "text": [
      "NL: NLBGS 12 ; 8890.89325 0.000688454019\n",
      "NL: NLBGS Converged\n"
     ]
    },
    {
     "name": "stderr",
     "output_type": "stream",
     "text": [
      "INFO    : Computation finished after 453.97 seconds\n",
      "INFO    : Problem outputs written in D:\\fl.lutz\\FAST\\FAST-OAD\\FAST-GA\\src\\fastga\\notebooks\\tutorial\\workdir\\problem_outputs.xml\n"
     ]
    }
   ],
   "source": [
    "eval_problem = api_cs25.evaluate_problem(CONFIGURATION_FILE, overwrite=True)"
   ]
  },
  {
   "cell_type": "markdown",
   "metadata": {},
   "source": [
    "Let's save again these new results, for post-processing them in next notebook."
   ]
  },
  {
   "cell_type": "code",
   "execution_count": 12,
   "metadata": {},
   "outputs": [
    {
     "data": {
      "text/plain": [
       "'workdir\\\\problem_outputs_Beechcraft_1000nm_mda.xml'"
      ]
     },
     "execution_count": 12,
     "metadata": {},
     "output_type": "execute_result"
    }
   ],
   "source": [
    "OUTPUT_FILE = pth.join(WORK_FOLDER_PATH, 'problem_outputs.xml')\n",
    "Beechcraft_1000nm_OUTPUT_FILE = pth.join(WORK_FOLDER_PATH, 'problem_outputs_Beechcraft_1000nm_mda.xml')\n",
    "shutil.copy(OUTPUT_FILE, Beechcraft_1000nm_OUTPUT_FILE)"
   ]
  },
  {
   "cell_type": "markdown",
   "metadata": {},
   "source": [
    "## 3. Running your first MDO\n",
    "\n",
    "## Beechcraft 800 nm optimization\n",
    "\n",
    "As seen earlier, the current aircraft configuration is estimated with a fixed distance between the wing aerodynamic center and the horizontal tail aerodynamic center. We will unlock this parameter using a simple optimization problem that will move horizontal tail position in order to minimize the mission consumption. \n",
    "\n",
    "The default configuration file defines this optimization problem that aims at:\n",
    "- minimizing the fuel consumption for the mission (objective),\n",
    "- with respect to the distance between the wing and the tail aerodynamic center (design variables): by extension the horizontal tail to wing distance,\n",
    "- subject to no additional constraint.\n",
    "\n",
    "However, running the MDO with the propeller performance estimation will take a very long time. Consequently, and since the propeller won't change from one MDO loop to another, we decided to use a different .yml file for the probleme definition and reuse the propeller performance map computed in the MDA's hence why the input file will be the output file of a previous MDA.\n",
    "\n",
    "*(This run should take approximately 20 minutes)*"
   ]
  },
  {
   "cell_type": "code",
   "execution_count": 13,
   "metadata": {},
   "outputs": [
    {
     "data": {
      "text/plain": [
       "'workdir\\\\oad_process_mdo.yml'"
      ]
     },
     "execution_count": 13,
     "metadata": {},
     "output_type": "execute_result"
    }
   ],
   "source": [
    "CONFIGURATION_FILE_MDO = pth.join(WORK_FOLDER_PATH, 'oad_process_mdo.yml')\n",
    "SOURCE_FILE_MDO = pth.join(WORK_FOLDER_PATH, 'problem_outputs_Beechcraft_800nm_mda.xml')\n",
    "shutil.copy(pth.join(DATA_FOLDER_PATH, 'fastga_mdo.yml'), CONFIGURATION_FILE_MDO)"
   ]
  },
  {
   "cell_type": "code",
   "execution_count": 14,
   "metadata": {},
   "outputs": [
    {
     "name": "stderr",
     "output_type": "stream",
     "text": [
      "INFO    : Problem inputs written in D:\\fl.lutz\\FAST\\FAST-OAD\\FAST-GA\\src\\fastga\\notebooks\\tutorial\\workdir\\problem_inputs.xml\n"
     ]
    },
    {
     "data": {
      "text/plain": [
       "'D:\\\\fl.lutz\\\\FAST\\\\FAST-OAD\\\\FAST-GA\\\\src\\\\fastga\\\\notebooks\\\\tutorial\\\\workdir\\\\problem_inputs.xml'"
      ]
     },
     "execution_count": 14,
     "metadata": {},
     "output_type": "execute_result"
    }
   ],
   "source": [
    "# Set back the inputs from the reference Beechcraft 800 nm\n",
    "api_cs25.generate_inputs(CONFIGURATION_FILE_MDO, SOURCE_FILE_MDO, overwrite=True)"
   ]
  },
  {
   "cell_type": "markdown",
   "metadata": {},
   "source": [
    "To visualize and edit the optimization problem definition (present in the configuration file .toml) you can use the `optimization_viewer` tool. If design variables or constraints have active bounds they are yellow whereas they are red if they are violated. Modifiying the `Initial Value` will modify the input file defined in the configuration file .toml whereas `Value` corresponds to the value found in the output file defined in the configuration file (here it is the 800 nm MDA run)."
   ]
  },
  {
   "cell_type": "code",
   "execution_count": 15,
   "metadata": {},
   "outputs": [
    {
     "data": {
      "application/vnd.jupyter.widget-view+json": {
       "model_id": "e91cd2f2e8994341b202bfb23b7b5b6e",
       "version_major": 2,
       "version_minor": 0
      },
      "text/plain": [
       "VBox(children=(HBox(children=(Button(description='Load', icon='upload', style=ButtonStyle(), tooltip='Load the…"
      ]
     },
     "metadata": {},
     "output_type": "display_data"
    }
   ],
   "source": [
    "api_cs25.optimization_viewer(CONFIGURATION_FILE_MDO)"
   ]
  },
  {
   "cell_type": "code",
   "execution_count": 16,
   "metadata": {
    "jupyter": {
     "outputs_hidden": true
    }
   },
   "outputs": [
    {
     "name": "stderr",
     "output_type": "stream",
     "text": [
      "WARNING : Airfoil lift coefficient to theoretical lift coefficient ratio value outside of the range in Roskam's book, value clipped\n",
      "WARNING : Airfoil lift coefficient to theoretical lift coefficient ratio value outside of the range in Roskam's book, value clipped\n",
      "WARNING : Airfoil lift slope ratio value outside of the range in Roskam's book, value clipped\n",
      "WARNING : Chord ratio value outside of the range in Roskam's book, value clipped\n",
      "WARNING : Chord ratio value outside of the range in Roskam's book, value clipped\n",
      "WARNING : Chord ratio value outside of the range in Roskam's book, value clipped\n",
      "WARNING : Chord ratio value outside of the range in Roskam's book, value clipped\n",
      "INFO    : Entering mission computation\n",
      "INFO    : Entering mission computation\n",
      "INFO    : Entering mission computation\n",
      "WARNING : Looping on wing area with new value equal to [14.03086421]\n"
     ]
    },
    {
     "name": "stdout",
     "output_type": "stream",
     "text": [
      "NL: NLBGS 1 ; 12869153.8 1\n"
     ]
    },
    {
     "name": "stderr",
     "output_type": "stream",
     "text": [
      "WARNING : Chord ratio value outside of the range in Roskam's book, value clipped\n",
      "WARNING : Chord ratio value outside of the range in Roskam's book, value clipped\n",
      "WARNING : Chord ratio value outside of the range in Roskam's book, value clipped\n",
      "WARNING : Chord ratio value outside of the range in Roskam's book, value clipped\n",
      "INFO    : Entering mission computation\n",
      "INFO    : Entering mission computation\n",
      "INFO    : Entering mission computation\n",
      "WARNING : Looping on wing area with new value equal to [12.53752339]\n",
      "WARNING : Ratio of span on fuselage depth outside of the range in Roskam's book, value clipped\n"
     ]
    },
    {
     "name": "stdout",
     "output_type": "stream",
     "text": [
      "NL: NLBGS 2 ; 4976334.55 0.386687007\n"
     ]
    },
    {
     "name": "stderr",
     "output_type": "stream",
     "text": [
      "WARNING : Chord ratio value outside of the range in Roskam's book, value clipped\n",
      "WARNING : Chord ratio value outside of the range in Roskam's book, value clipped\n",
      "WARNING : Chord ratio value outside of the range in Roskam's book, value clipped\n",
      "WARNING : Chord ratio value outside of the range in Roskam's book, value clipped\n",
      "WARNING : Ratio of span on fuselage depth outside of the range in Roskam's book, value clipped\n",
      "INFO    : Entering mission computation\n",
      "INFO    : Entering mission computation\n",
      "INFO    : Entering mission computation\n",
      "WARNING : Looping on wing area with new value equal to [14.60832426]\n",
      "WARNING : Ratio of span on fuselage depth outside of the range in Roskam's book, value clipped\n"
     ]
    },
    {
     "name": "stdout",
     "output_type": "stream",
     "text": [
      "NL: NLBGS 3 ; 1907604.81 0.148230789\n"
     ]
    },
    {
     "name": "stderr",
     "output_type": "stream",
     "text": [
      "WARNING : Chord ratio value outside of the range in Roskam's book, value clipped\n",
      "WARNING : Chord ratio value outside of the range in Roskam's book, value clipped\n",
      "WARNING : Chord ratio value outside of the range in Roskam's book, value clipped\n",
      "WARNING : Chord ratio value outside of the range in Roskam's book, value clipped\n",
      "WARNING : Ratio of span on fuselage depth outside of the range in Roskam's book, value clipped\n",
      "INFO    : Entering mission computation\n",
      "INFO    : Entering mission computation\n",
      "INFO    : Entering mission computation\n",
      "WARNING : Looping on wing area with new value equal to [15.00515742]\n",
      "WARNING : Ratio of span on fuselage depth outside of the range in Roskam's book, value clipped\n",
      "WARNING : Area ratio value outside of the range in Roskam's book, value clipped\n"
     ]
    },
    {
     "name": "stdout",
     "output_type": "stream",
     "text": [
      "NL: NLBGS 4 ; 1226676.41 0.0953191198\n"
     ]
    },
    {
     "name": "stderr",
     "output_type": "stream",
     "text": [
      "WARNING : Chord ratio value outside of the range in Roskam's book, value clipped\n",
      "WARNING : Chord ratio value outside of the range in Roskam's book, value clipped\n",
      "WARNING : Chord ratio value outside of the range in Roskam's book, value clipped\n",
      "WARNING : Chord ratio value outside of the range in Roskam's book, value clipped\n",
      "WARNING : Ratio of span on fuselage depth outside of the range in Roskam's book, value clipped\n",
      "WARNING : Area ratio value outside of the range in Roskam's book, value clipped\n",
      "INFO    : Entering mission computation\n",
      "INFO    : Entering mission computation\n",
      "INFO    : Entering mission computation\n",
      "WARNING : Looping on wing area with new value equal to [15.34248406]\n",
      "WARNING : Ratio of span on fuselage depth outside of the range in Roskam's book, value clipped\n",
      "WARNING : Area ratio value outside of the range in Roskam's book, value clipped\n"
     ]
    },
    {
     "name": "stdout",
     "output_type": "stream",
     "text": [
      "NL: NLBGS 5 ; 1103696.94 0.0857629774\n"
     ]
    },
    {
     "name": "stderr",
     "output_type": "stream",
     "text": [
      "WARNING : Chord ratio value outside of the range in Roskam's book, value clipped\n",
      "WARNING : Chord ratio value outside of the range in Roskam's book, value clipped\n",
      "WARNING : Chord ratio value outside of the range in Roskam's book, value clipped\n",
      "WARNING : Chord ratio value outside of the range in Roskam's book, value clipped\n",
      "WARNING : Ratio of span on fuselage depth outside of the range in Roskam's book, value clipped\n",
      "WARNING : Area ratio value outside of the range in Roskam's book, value clipped\n",
      "INFO    : Entering mission computation\n",
      "INFO    : Entering mission computation\n",
      "INFO    : Entering mission computation\n",
      "WARNING : Looping on wing area with new value equal to [15.6144189]\n",
      "WARNING : Ratio of span on fuselage depth outside of the range in Roskam's book, value clipped\n",
      "WARNING : Area ratio value outside of the range in Roskam's book, value clipped\n"
     ]
    },
    {
     "name": "stdout",
     "output_type": "stream",
     "text": [
      "NL: NLBGS 6 ; 365130.749 0.0283725531\n"
     ]
    },
    {
     "name": "stderr",
     "output_type": "stream",
     "text": [
      "WARNING : Chord ratio value outside of the range in Roskam's book, value clipped\n",
      "WARNING : Chord ratio value outside of the range in Roskam's book, value clipped\n",
      "WARNING : Chord ratio value outside of the range in Roskam's book, value clipped\n",
      "WARNING : Chord ratio value outside of the range in Roskam's book, value clipped\n",
      "WARNING : Ratio of span on fuselage depth outside of the range in Roskam's book, value clipped\n",
      "WARNING : Area ratio value outside of the range in Roskam's book, value clipped\n",
      "INFO    : Entering mission computation\n",
      "INFO    : Entering mission computation\n",
      "INFO    : Entering mission computation\n",
      "WARNING : Looping on wing area with new value equal to [15.78174515]\n",
      "WARNING : Ratio of span on fuselage depth outside of the range in Roskam's book, value clipped\n",
      "WARNING : Area ratio value outside of the range in Roskam's book, value clipped\n"
     ]
    },
    {
     "name": "stdout",
     "output_type": "stream",
     "text": [
      "NL: NLBGS 7 ; 145190.926 0.0112820881\n"
     ]
    },
    {
     "name": "stderr",
     "output_type": "stream",
     "text": [
      "WARNING : Chord ratio value outside of the range in Roskam's book, value clipped\n",
      "WARNING : Chord ratio value outside of the range in Roskam's book, value clipped\n",
      "WARNING : Chord ratio value outside of the range in Roskam's book, value clipped\n",
      "WARNING : Chord ratio value outside of the range in Roskam's book, value clipped\n",
      "WARNING : Ratio of span on fuselage depth outside of the range in Roskam's book, value clipped\n",
      "WARNING : Area ratio value outside of the range in Roskam's book, value clipped\n",
      "INFO    : Entering mission computation\n",
      "INFO    : Entering mission computation\n",
      "INFO    : Entering mission computation\n",
      "WARNING : Looping on wing area with new value equal to [15.86261572]\n",
      "WARNING : Ratio of span on fuselage depth outside of the range in Roskam's book, value clipped\n",
      "WARNING : Area ratio value outside of the range in Roskam's book, value clipped\n"
     ]
    },
    {
     "name": "stdout",
     "output_type": "stream",
     "text": [
      "NL: NLBGS 8 ; 82779.7403 0.0064324152\n"
     ]
    },
    {
     "name": "stderr",
     "output_type": "stream",
     "text": [
      "WARNING : Chord ratio value outside of the range in Roskam's book, value clipped\n",
      "WARNING : Chord ratio value outside of the range in Roskam's book, value clipped\n",
      "WARNING : Chord ratio value outside of the range in Roskam's book, value clipped\n",
      "WARNING : Chord ratio value outside of the range in Roskam's book, value clipped\n",
      "WARNING : Ratio of span on fuselage depth outside of the range in Roskam's book, value clipped\n",
      "WARNING : Area ratio value outside of the range in Roskam's book, value clipped\n",
      "INFO    : Entering mission computation\n",
      "INFO    : Entering mission computation\n",
      "INFO    : Entering mission computation\n",
      "WARNING : Looping on wing area with new value equal to [15.90471996]\n",
      "WARNING : Ratio of span on fuselage depth outside of the range in Roskam's book, value clipped\n",
      "WARNING : Area ratio value outside of the range in Roskam's book, value clipped\n"
     ]
    },
    {
     "name": "stdout",
     "output_type": "stream",
     "text": [
      "NL: NLBGS 9 ; 43551.5554 0.00338418176\n"
     ]
    },
    {
     "name": "stderr",
     "output_type": "stream",
     "text": [
      "WARNING : Chord ratio value outside of the range in Roskam's book, value clipped\n",
      "WARNING : Chord ratio value outside of the range in Roskam's book, value clipped\n",
      "WARNING : Chord ratio value outside of the range in Roskam's book, value clipped\n",
      "WARNING : Chord ratio value outside of the range in Roskam's book, value clipped\n",
      "WARNING : Ratio of span on fuselage depth outside of the range in Roskam's book, value clipped\n",
      "WARNING : Area ratio value outside of the range in Roskam's book, value clipped\n",
      "INFO    : Entering mission computation\n",
      "INFO    : Entering mission computation\n",
      "INFO    : Entering mission computation\n",
      "WARNING : Looping on wing area with new value equal to [15.92685106]\n",
      "WARNING : Ratio of span on fuselage depth outside of the range in Roskam's book, value clipped\n",
      "WARNING : Area ratio value outside of the range in Roskam's book, value clipped\n"
     ]
    },
    {
     "name": "stdout",
     "output_type": "stream",
     "text": [
      "NL: NLBGS 10 ; 19342.3059 0.0015029975\n"
     ]
    },
    {
     "name": "stderr",
     "output_type": "stream",
     "text": [
      "WARNING : Chord ratio value outside of the range in Roskam's book, value clipped\n",
      "WARNING : Chord ratio value outside of the range in Roskam's book, value clipped\n",
      "WARNING : Chord ratio value outside of the range in Roskam's book, value clipped\n",
      "WARNING : Chord ratio value outside of the range in Roskam's book, value clipped\n",
      "WARNING : Ratio of span on fuselage depth outside of the range in Roskam's book, value clipped\n",
      "WARNING : Area ratio value outside of the range in Roskam's book, value clipped\n",
      "INFO    : Entering mission computation\n",
      "INFO    : Entering mission computation\n",
      "INFO    : Entering mission computation\n",
      "WARNING : Looping on wing area with new value equal to [15.93673434]\n"
     ]
    },
    {
     "name": "stdout",
     "output_type": "stream",
     "text": [
      "NL: NLBGS 11 ; 9032.11928 0.000701842518\n",
      "NL: NLBGS Converged\n"
     ]
    },
    {
     "name": "stderr",
     "output_type": "stream",
     "text": [
      "WARNING : Ratio of span on fuselage depth outside of the range in Roskam's book, value clipped\n",
      "WARNING : Area ratio value outside of the range in Roskam's book, value clipped\n",
      "WARNING : Chord ratio value outside of the range in Roskam's book, value clipped\n",
      "WARNING : Chord ratio value outside of the range in Roskam's book, value clipped\n",
      "WARNING : Chord ratio value outside of the range in Roskam's book, value clipped\n",
      "WARNING : Chord ratio value outside of the range in Roskam's book, value clipped\n",
      "WARNING : Ratio of span on fuselage depth outside of the range in Roskam's book, value clipped\n",
      "WARNING : Area ratio value outside of the range in Roskam's book, value clipped\n",
      "INFO    : Entering mission computation\n",
      "INFO    : Entering mission computation\n",
      "INFO    : Entering mission computation\n",
      "WARNING : Looping on wing area with new value equal to [15.94101839]\n",
      "WARNING : Ratio of span on fuselage depth outside of the range in Roskam's book, value clipped\n",
      "WARNING : Area ratio value outside of the range in Roskam's book, value clipped\n"
     ]
    },
    {
     "name": "stdout",
     "output_type": "stream",
     "text": [
      "NL: NLBGS 1 ; 4223.89779 1\n"
     ]
    },
    {
     "name": "stderr",
     "output_type": "stream",
     "text": [
      "WARNING : Chord ratio value outside of the range in Roskam's book, value clipped\n",
      "WARNING : Chord ratio value outside of the range in Roskam's book, value clipped\n",
      "WARNING : Chord ratio value outside of the range in Roskam's book, value clipped\n",
      "WARNING : Chord ratio value outside of the range in Roskam's book, value clipped\n",
      "WARNING : Ratio of span on fuselage depth outside of the range in Roskam's book, value clipped\n",
      "WARNING : Area ratio value outside of the range in Roskam's book, value clipped\n",
      "INFO    : Entering mission computation\n",
      "INFO    : Entering mission computation\n",
      "INFO    : Entering mission computation\n",
      "WARNING : Looping on wing area with new value equal to [15.94269701]\n",
      "WARNING : Ratio of span on fuselage depth outside of the range in Roskam's book, value clipped\n",
      "WARNING : Area ratio value outside of the range in Roskam's book, value clipped\n"
     ]
    },
    {
     "name": "stdout",
     "output_type": "stream",
     "text": [
      "NL: NLBGS 2 ; 1644.55342 0.389344985\n"
     ]
    },
    {
     "name": "stderr",
     "output_type": "stream",
     "text": [
      "WARNING : Chord ratio value outside of the range in Roskam's book, value clipped\n",
      "WARNING : Chord ratio value outside of the range in Roskam's book, value clipped\n",
      "WARNING : Chord ratio value outside of the range in Roskam's book, value clipped\n",
      "WARNING : Chord ratio value outside of the range in Roskam's book, value clipped\n",
      "WARNING : Ratio of span on fuselage depth outside of the range in Roskam's book, value clipped\n",
      "WARNING : Area ratio value outside of the range in Roskam's book, value clipped\n",
      "INFO    : Entering mission computation\n",
      "INFO    : Entering mission computation\n",
      "INFO    : Entering mission computation\n",
      "WARNING : Looping on wing area with new value equal to [15.94322684]\n",
      "WARNING : Ratio of span on fuselage depth outside of the range in Roskam's book, value clipped\n",
      "WARNING : Area ratio value outside of the range in Roskam's book, value clipped\n"
     ]
    },
    {
     "name": "stdout",
     "output_type": "stream",
     "text": [
      "NL: NLBGS 3 ; 745.882696 0.17658635\n"
     ]
    },
    {
     "name": "stderr",
     "output_type": "stream",
     "text": [
      "WARNING : Chord ratio value outside of the range in Roskam's book, value clipped\n",
      "WARNING : Chord ratio value outside of the range in Roskam's book, value clipped\n",
      "WARNING : Chord ratio value outside of the range in Roskam's book, value clipped\n",
      "WARNING : Chord ratio value outside of the range in Roskam's book, value clipped\n",
      "WARNING : Ratio of span on fuselage depth outside of the range in Roskam's book, value clipped\n",
      "WARNING : Area ratio value outside of the range in Roskam's book, value clipped\n",
      "INFO    : Entering mission computation\n",
      "INFO    : Entering mission computation\n",
      "INFO    : Entering mission computation\n",
      "WARNING : Looping on wing area with new value equal to [15.94329473]\n",
      "WARNING : Ratio of span on fuselage depth outside of the range in Roskam's book, value clipped\n",
      "WARNING : Area ratio value outside of the range in Roskam's book, value clipped\n"
     ]
    },
    {
     "name": "stdout",
     "output_type": "stream",
     "text": [
      "NL: NLBGS 4 ; 430.248807 0.10186061\n"
     ]
    },
    {
     "name": "stderr",
     "output_type": "stream",
     "text": [
      "WARNING : Chord ratio value outside of the range in Roskam's book, value clipped\n",
      "WARNING : Chord ratio value outside of the range in Roskam's book, value clipped\n",
      "WARNING : Chord ratio value outside of the range in Roskam's book, value clipped\n",
      "WARNING : Chord ratio value outside of the range in Roskam's book, value clipped\n",
      "WARNING : Ratio of span on fuselage depth outside of the range in Roskam's book, value clipped\n",
      "WARNING : Area ratio value outside of the range in Roskam's book, value clipped\n",
      "INFO    : Entering mission computation\n",
      "INFO    : Entering mission computation\n",
      "INFO    : Entering mission computation\n",
      "WARNING : Looping on wing area with new value equal to [15.94318769]\n",
      "WARNING : Ratio of span on fuselage depth outside of the range in Roskam's book, value clipped\n",
      "WARNING : Area ratio value outside of the range in Roskam's book, value clipped\n"
     ]
    },
    {
     "name": "stdout",
     "output_type": "stream",
     "text": [
      "NL: NLBGS 5 ; 284.363688 0.0673225779\n"
     ]
    },
    {
     "name": "stderr",
     "output_type": "stream",
     "text": [
      "WARNING : Chord ratio value outside of the range in Roskam's book, value clipped\n",
      "WARNING : Chord ratio value outside of the range in Roskam's book, value clipped\n",
      "WARNING : Chord ratio value outside of the range in Roskam's book, value clipped\n",
      "WARNING : Chord ratio value outside of the range in Roskam's book, value clipped\n",
      "WARNING : Ratio of span on fuselage depth outside of the range in Roskam's book, value clipped\n",
      "WARNING : Area ratio value outside of the range in Roskam's book, value clipped\n",
      "INFO    : Entering mission computation\n",
      "INFO    : Entering mission computation\n",
      "INFO    : Entering mission computation\n",
      "WARNING : Looping on wing area with new value equal to [15.94307771]\n",
      "WARNING : Ratio of span on fuselage depth outside of the range in Roskam's book, value clipped\n",
      "WARNING : Area ratio value outside of the range in Roskam's book, value clipped\n"
     ]
    },
    {
     "name": "stdout",
     "output_type": "stream",
     "text": [
      "NL: NLBGS 6 ; 192.671042 0.0456145133\n"
     ]
    },
    {
     "name": "stderr",
     "output_type": "stream",
     "text": [
      "WARNING : Chord ratio value outside of the range in Roskam's book, value clipped\n",
      "WARNING : Chord ratio value outside of the range in Roskam's book, value clipped\n",
      "WARNING : Chord ratio value outside of the range in Roskam's book, value clipped\n",
      "WARNING : Chord ratio value outside of the range in Roskam's book, value clipped\n",
      "WARNING : Ratio of span on fuselage depth outside of the range in Roskam's book, value clipped\n",
      "WARNING : Area ratio value outside of the range in Roskam's book, value clipped\n",
      "INFO    : Entering mission computation\n",
      "INFO    : Entering mission computation\n",
      "INFO    : Entering mission computation\n",
      "WARNING : Looping on wing area with new value equal to [15.94298713]\n",
      "WARNING : Ratio of span on fuselage depth outside of the range in Roskam's book, value clipped\n",
      "WARNING : Area ratio value outside of the range in Roskam's book, value clipped\n"
     ]
    },
    {
     "name": "stdout",
     "output_type": "stream",
     "text": [
      "NL: NLBGS 7 ; 132.307061 0.0313234522\n"
     ]
    },
    {
     "name": "stderr",
     "output_type": "stream",
     "text": [
      "WARNING : Chord ratio value outside of the range in Roskam's book, value clipped\n",
      "WARNING : Chord ratio value outside of the range in Roskam's book, value clipped\n",
      "WARNING : Chord ratio value outside of the range in Roskam's book, value clipped\n",
      "WARNING : Chord ratio value outside of the range in Roskam's book, value clipped\n",
      "WARNING : Ratio of span on fuselage depth outside of the range in Roskam's book, value clipped\n",
      "WARNING : Area ratio value outside of the range in Roskam's book, value clipped\n",
      "INFO    : Entering mission computation\n",
      "INFO    : Entering mission computation\n",
      "INFO    : Entering mission computation\n",
      "WARNING : Looping on wing area with new value equal to [15.94292397]\n",
      "WARNING : Ratio of span on fuselage depth outside of the range in Roskam's book, value clipped\n",
      "WARNING : Area ratio value outside of the range in Roskam's book, value clipped\n"
     ]
    },
    {
     "name": "stdout",
     "output_type": "stream",
     "text": [
      "NL: NLBGS 8 ; 79.756529 0.0188822109\n"
     ]
    },
    {
     "name": "stderr",
     "output_type": "stream",
     "text": [
      "WARNING : Chord ratio value outside of the range in Roskam's book, value clipped\n",
      "WARNING : Chord ratio value outside of the range in Roskam's book, value clipped\n",
      "WARNING : Chord ratio value outside of the range in Roskam's book, value clipped\n",
      "WARNING : Chord ratio value outside of the range in Roskam's book, value clipped\n",
      "WARNING : Ratio of span on fuselage depth outside of the range in Roskam's book, value clipped\n",
      "WARNING : Area ratio value outside of the range in Roskam's book, value clipped\n",
      "INFO    : Entering mission computation\n",
      "INFO    : Entering mission computation\n",
      "INFO    : Entering mission computation\n",
      "WARNING : Looping on wing area with new value equal to [15.94288345]\n",
      "WARNING : Ratio of span on fuselage depth outside of the range in Roskam's book, value clipped\n",
      "WARNING : Area ratio value outside of the range in Roskam's book, value clipped\n"
     ]
    },
    {
     "name": "stdout",
     "output_type": "stream",
     "text": [
      "NL: NLBGS 9 ; 47.068308 0.011143335\n"
     ]
    },
    {
     "name": "stderr",
     "output_type": "stream",
     "text": [
      "WARNING : Chord ratio value outside of the range in Roskam's book, value clipped\n",
      "WARNING : Chord ratio value outside of the range in Roskam's book, value clipped\n",
      "WARNING : Chord ratio value outside of the range in Roskam's book, value clipped\n",
      "WARNING : Chord ratio value outside of the range in Roskam's book, value clipped\n",
      "WARNING : Ratio of span on fuselage depth outside of the range in Roskam's book, value clipped\n",
      "WARNING : Area ratio value outside of the range in Roskam's book, value clipped\n",
      "INFO    : Entering mission computation\n",
      "INFO    : Entering mission computation\n",
      "INFO    : Entering mission computation\n",
      "WARNING : Looping on wing area with new value equal to [15.94285909]\n",
      "WARNING : Ratio of span on fuselage depth outside of the range in Roskam's book, value clipped\n",
      "WARNING : Area ratio value outside of the range in Roskam's book, value clipped\n"
     ]
    },
    {
     "name": "stdout",
     "output_type": "stream",
     "text": [
      "NL: NLBGS 10 ; 26.7538303 0.00633391989\n"
     ]
    },
    {
     "name": "stderr",
     "output_type": "stream",
     "text": [
      "WARNING : Chord ratio value outside of the range in Roskam's book, value clipped\n",
      "WARNING : Chord ratio value outside of the range in Roskam's book, value clipped\n",
      "WARNING : Chord ratio value outside of the range in Roskam's book, value clipped\n",
      "WARNING : Chord ratio value outside of the range in Roskam's book, value clipped\n",
      "WARNING : Ratio of span on fuselage depth outside of the range in Roskam's book, value clipped\n",
      "WARNING : Area ratio value outside of the range in Roskam's book, value clipped\n",
      "INFO    : Entering mission computation\n",
      "INFO    : Entering mission computation\n",
      "INFO    : Entering mission computation\n",
      "WARNING : Looping on wing area with new value equal to [15.94284511]\n",
      "WARNING : Ratio of span on fuselage depth outside of the range in Roskam's book, value clipped\n",
      "WARNING : Area ratio value outside of the range in Roskam's book, value clipped\n"
     ]
    },
    {
     "name": "stdout",
     "output_type": "stream",
     "text": [
      "NL: NLBGS 11 ; 14.6540182 0.00346931174\n"
     ]
    },
    {
     "name": "stderr",
     "output_type": "stream",
     "text": [
      "WARNING : Chord ratio value outside of the range in Roskam's book, value clipped\n",
      "WARNING : Chord ratio value outside of the range in Roskam's book, value clipped\n",
      "WARNING : Chord ratio value outside of the range in Roskam's book, value clipped\n",
      "WARNING : Chord ratio value outside of the range in Roskam's book, value clipped\n",
      "WARNING : Ratio of span on fuselage depth outside of the range in Roskam's book, value clipped\n",
      "WARNING : Area ratio value outside of the range in Roskam's book, value clipped\n",
      "INFO    : Entering mission computation\n",
      "INFO    : Entering mission computation\n",
      "INFO    : Entering mission computation\n",
      "WARNING : Looping on wing area with new value equal to [15.94283746]\n",
      "WARNING : Ratio of span on fuselage depth outside of the range in Roskam's book, value clipped\n",
      "WARNING : Area ratio value outside of the range in Roskam's book, value clipped\n"
     ]
    },
    {
     "name": "stdout",
     "output_type": "stream",
     "text": [
      "NL: NLBGS 12 ; 7.73239239 0.00183062961\n"
     ]
    },
    {
     "name": "stderr",
     "output_type": "stream",
     "text": [
      "WARNING : Chord ratio value outside of the range in Roskam's book, value clipped\n",
      "WARNING : Chord ratio value outside of the range in Roskam's book, value clipped\n",
      "WARNING : Chord ratio value outside of the range in Roskam's book, value clipped\n",
      "WARNING : Chord ratio value outside of the range in Roskam's book, value clipped\n",
      "WARNING : Ratio of span on fuselage depth outside of the range in Roskam's book, value clipped\n",
      "WARNING : Area ratio value outside of the range in Roskam's book, value clipped\n",
      "INFO    : Entering mission computation\n",
      "INFO    : Entering mission computation\n",
      "INFO    : Entering mission computation\n",
      "WARNING : Looping on wing area with new value equal to [15.94283323]\n"
     ]
    },
    {
     "name": "stdout",
     "output_type": "stream",
     "text": [
      "NL: NLBGS 13 ; 4.03540894 0.000955375612\n",
      "NL: NLBGS Converged\n"
     ]
    },
    {
     "name": "stderr",
     "output_type": "stream",
     "text": [
      "WARNING : Ratio of span on fuselage depth outside of the range in Roskam's book, value clipped\n",
      "WARNING : Area ratio value outside of the range in Roskam's book, value clipped\n",
      "WARNING : Chord ratio value outside of the range in Roskam's book, value clipped\n",
      "WARNING : Chord ratio value outside of the range in Roskam's book, value clipped\n",
      "WARNING : Chord ratio value outside of the range in Roskam's book, value clipped\n",
      "WARNING : Chord ratio value outside of the range in Roskam's book, value clipped\n",
      "WARNING : Ratio of span on fuselage depth outside of the range in Roskam's book, value clipped\n",
      "WARNING : Area ratio value outside of the range in Roskam's book, value clipped\n",
      "INFO    : Entering mission computation\n",
      "INFO    : Entering mission computation\n",
      "INFO    : Entering mission computation\n",
      "WARNING : Looping on wing area with new value equal to [15.94283123]\n",
      "WARNING : Ratio of span on fuselage depth outside of the range in Roskam's book, value clipped\n",
      "WARNING : Area ratio value outside of the range in Roskam's book, value clipped\n"
     ]
    },
    {
     "name": "stdout",
     "output_type": "stream",
     "text": [
      "NL: NLBGS 1 ; 685.373426 1\n"
     ]
    },
    {
     "name": "stderr",
     "output_type": "stream",
     "text": [
      "WARNING : Chord ratio value outside of the range in Roskam's book, value clipped\n",
      "WARNING : Chord ratio value outside of the range in Roskam's book, value clipped\n",
      "WARNING : Chord ratio value outside of the range in Roskam's book, value clipped\n",
      "WARNING : Chord ratio value outside of the range in Roskam's book, value clipped\n",
      "WARNING : Ratio of span on fuselage depth outside of the range in Roskam's book, value clipped\n",
      "WARNING : Area ratio value outside of the range in Roskam's book, value clipped\n",
      "INFO    : Entering mission computation\n",
      "INFO    : Entering mission computation\n",
      "INFO    : Entering mission computation\n",
      "WARNING : Looping on wing area with new value equal to [16.14427246]\n",
      "WARNING : Ratio of span on fuselage depth outside of the range in Roskam's book, value clipped\n",
      "WARNING : Area ratio value outside of the range in Roskam's book, value clipped\n"
     ]
    },
    {
     "name": "stdout",
     "output_type": "stream",
     "text": [
      "NL: NLBGS 2 ; 510126.704 744.304761\n"
     ]
    },
    {
     "name": "stderr",
     "output_type": "stream",
     "text": [
      "WARNING : Chord ratio value outside of the range in Roskam's book, value clipped\n",
      "WARNING : Chord ratio value outside of the range in Roskam's book, value clipped\n",
      "WARNING : Chord ratio value outside of the range in Roskam's book, value clipped\n",
      "WARNING : Chord ratio value outside of the range in Roskam's book, value clipped\n",
      "WARNING : Ratio of span on fuselage depth outside of the range in Roskam's book, value clipped\n",
      "WARNING : Area ratio value outside of the range in Roskam's book, value clipped\n",
      "INFO    : Entering mission computation\n",
      "INFO    : Entering mission computation\n",
      "INFO    : Entering mission computation\n",
      "WARNING : Looping on wing area with new value equal to [16.14542938]\n",
      "WARNING : Ratio of span on fuselage depth outside of the range in Roskam's book, value clipped\n",
      "WARNING : Area ratio value outside of the range in Roskam's book, value clipped\n"
     ]
    },
    {
     "name": "stdout",
     "output_type": "stream",
     "text": [
      "NL: NLBGS 3 ; 66874.3689 97.5736238\n"
     ]
    },
    {
     "name": "stderr",
     "output_type": "stream",
     "text": [
      "WARNING : Chord ratio value outside of the range in Roskam's book, value clipped\n",
      "WARNING : Chord ratio value outside of the range in Roskam's book, value clipped\n",
      "WARNING : Chord ratio value outside of the range in Roskam's book, value clipped\n",
      "WARNING : Chord ratio value outside of the range in Roskam's book, value clipped\n",
      "WARNING : Ratio of span on fuselage depth outside of the range in Roskam's book, value clipped\n",
      "WARNING : Area ratio value outside of the range in Roskam's book, value clipped\n",
      "INFO    : Entering mission computation\n",
      "INFO    : Entering mission computation\n",
      "INFO    : Entering mission computation\n",
      "WARNING : Looping on wing area with new value equal to [16.17052826]\n",
      "WARNING : Ratio of span on fuselage depth outside of the range in Roskam's book, value clipped\n",
      "WARNING : Area ratio value outside of the range in Roskam's book, value clipped\n"
     ]
    },
    {
     "name": "stdout",
     "output_type": "stream",
     "text": [
      "NL: NLBGS 4 ; 114632.084 167.25493\n"
     ]
    },
    {
     "name": "stderr",
     "output_type": "stream",
     "text": [
      "WARNING : Chord ratio value outside of the range in Roskam's book, value clipped\n",
      "WARNING : Chord ratio value outside of the range in Roskam's book, value clipped\n",
      "WARNING : Chord ratio value outside of the range in Roskam's book, value clipped\n",
      "WARNING : Chord ratio value outside of the range in Roskam's book, value clipped\n",
      "WARNING : Ratio of span on fuselage depth outside of the range in Roskam's book, value clipped\n",
      "WARNING : Area ratio value outside of the range in Roskam's book, value clipped\n",
      "INFO    : Entering mission computation\n",
      "INFO    : Entering mission computation\n",
      "INFO    : Entering mission computation\n",
      "WARNING : Looping on wing area with new value equal to [16.19964353]\n",
      "WARNING : Ratio of span on fuselage depth outside of the range in Roskam's book, value clipped\n",
      "WARNING : Area ratio value outside of the range in Roskam's book, value clipped\n"
     ]
    },
    {
     "name": "stdout",
     "output_type": "stream",
     "text": [
      "NL: NLBGS 5 ; 39908.1372 58.2283113\n"
     ]
    },
    {
     "name": "stderr",
     "output_type": "stream",
     "text": [
      "WARNING : Chord ratio value outside of the range in Roskam's book, value clipped\n",
      "WARNING : Chord ratio value outside of the range in Roskam's book, value clipped\n",
      "WARNING : Chord ratio value outside of the range in Roskam's book, value clipped\n",
      "WARNING : Chord ratio value outside of the range in Roskam's book, value clipped\n",
      "WARNING : Ratio of span on fuselage depth outside of the range in Roskam's book, value clipped\n",
      "WARNING : Area ratio value outside of the range in Roskam's book, value clipped\n",
      "INFO    : Entering mission computation\n",
      "INFO    : Entering mission computation\n",
      "INFO    : Entering mission computation\n",
      "WARNING : Looping on wing area with new value equal to [16.22001699]\n",
      "WARNING : Ratio of span on fuselage depth outside of the range in Roskam's book, value clipped\n",
      "WARNING : Area ratio value outside of the range in Roskam's book, value clipped\n"
     ]
    },
    {
     "name": "stdout",
     "output_type": "stream",
     "text": [
      "NL: NLBGS 6 ; 22766.1197 33.217103\n"
     ]
    },
    {
     "name": "stderr",
     "output_type": "stream",
     "text": [
      "WARNING : Chord ratio value outside of the range in Roskam's book, value clipped\n",
      "WARNING : Chord ratio value outside of the range in Roskam's book, value clipped\n",
      "WARNING : Chord ratio value outside of the range in Roskam's book, value clipped\n",
      "WARNING : Chord ratio value outside of the range in Roskam's book, value clipped\n",
      "WARNING : Ratio of span on fuselage depth outside of the range in Roskam's book, value clipped\n",
      "WARNING : Area ratio value outside of the range in Roskam's book, value clipped\n",
      "INFO    : Entering mission computation\n",
      "INFO    : Entering mission computation\n",
      "INFO    : Entering mission computation\n",
      "WARNING : Looping on wing area with new value equal to [16.23271354]\n",
      "WARNING : Ratio of span on fuselage depth outside of the range in Roskam's book, value clipped\n",
      "WARNING : Area ratio value outside of the range in Roskam's book, value clipped\n"
     ]
    },
    {
     "name": "stdout",
     "output_type": "stream",
     "text": [
      "NL: NLBGS 7 ; 15017.0707 21.9107864\n"
     ]
    },
    {
     "name": "stderr",
     "output_type": "stream",
     "text": [
      "WARNING : Chord ratio value outside of the range in Roskam's book, value clipped\n",
      "WARNING : Chord ratio value outside of the range in Roskam's book, value clipped\n",
      "WARNING : Chord ratio value outside of the range in Roskam's book, value clipped\n",
      "WARNING : Chord ratio value outside of the range in Roskam's book, value clipped\n",
      "WARNING : Ratio of span on fuselage depth outside of the range in Roskam's book, value clipped\n",
      "WARNING : Area ratio value outside of the range in Roskam's book, value clipped\n",
      "INFO    : Entering mission computation\n",
      "INFO    : Entering mission computation\n",
      "INFO    : Entering mission computation\n",
      "WARNING : Looping on wing area with new value equal to [16.24054558]\n",
      "WARNING : Ratio of span on fuselage depth outside of the range in Roskam's book, value clipped\n",
      "WARNING : Area ratio value outside of the range in Roskam's book, value clipped\n"
     ]
    },
    {
     "name": "stdout",
     "output_type": "stream",
     "text": [
      "NL: NLBGS 8 ; 8835.61171 12.8916754\n"
     ]
    },
    {
     "name": "stderr",
     "output_type": "stream",
     "text": [
      "WARNING : Chord ratio value outside of the range in Roskam's book, value clipped\n",
      "WARNING : Chord ratio value outside of the range in Roskam's book, value clipped\n",
      "WARNING : Chord ratio value outside of the range in Roskam's book, value clipped\n",
      "WARNING : Chord ratio value outside of the range in Roskam's book, value clipped\n",
      "WARNING : Ratio of span on fuselage depth outside of the range in Roskam's book, value clipped\n",
      "WARNING : Area ratio value outside of the range in Roskam's book, value clipped\n",
      "INFO    : Entering mission computation\n",
      "INFO    : Entering mission computation\n",
      "INFO    : Entering mission computation\n",
      "WARNING : Looping on wing area with new value equal to [16.24465359]\n",
      "WARNING : Ratio of span on fuselage depth outside of the range in Roskam's book, value clipped\n",
      "WARNING : Area ratio value outside of the range in Roskam's book, value clipped\n"
     ]
    },
    {
     "name": "stdout",
     "output_type": "stream",
     "text": [
      "NL: NLBGS 9 ; 4848.00404 7.07352204\n"
     ]
    },
    {
     "name": "stderr",
     "output_type": "stream",
     "text": [
      "WARNING : Chord ratio value outside of the range in Roskam's book, value clipped\n",
      "WARNING : Chord ratio value outside of the range in Roskam's book, value clipped\n",
      "WARNING : Chord ratio value outside of the range in Roskam's book, value clipped\n",
      "WARNING : Chord ratio value outside of the range in Roskam's book, value clipped\n",
      "WARNING : Ratio of span on fuselage depth outside of the range in Roskam's book, value clipped\n",
      "WARNING : Area ratio value outside of the range in Roskam's book, value clipped\n",
      "INFO    : Entering mission computation\n",
      "INFO    : Entering mission computation\n",
      "INFO    : Entering mission computation\n",
      "WARNING : Looping on wing area with new value equal to [16.24714775]\n",
      "WARNING : Ratio of span on fuselage depth outside of the range in Roskam's book, value clipped\n",
      "WARNING : Area ratio value outside of the range in Roskam's book, value clipped\n"
     ]
    },
    {
     "name": "stdout",
     "output_type": "stream",
     "text": [
      "NL: NLBGS 10 ; 2280.68572 3.32765414\n"
     ]
    },
    {
     "name": "stderr",
     "output_type": "stream",
     "text": [
      "WARNING : Chord ratio value outside of the range in Roskam's book, value clipped\n",
      "WARNING : Chord ratio value outside of the range in Roskam's book, value clipped\n",
      "WARNING : Chord ratio value outside of the range in Roskam's book, value clipped\n",
      "WARNING : Chord ratio value outside of the range in Roskam's book, value clipped\n",
      "WARNING : Ratio of span on fuselage depth outside of the range in Roskam's book, value clipped\n",
      "WARNING : Area ratio value outside of the range in Roskam's book, value clipped\n",
      "INFO    : Entering mission computation\n",
      "INFO    : Entering mission computation\n",
      "INFO    : Entering mission computation\n",
      "WARNING : Looping on wing area with new value equal to [16.24839599]\n",
      "WARNING : Ratio of span on fuselage depth outside of the range in Roskam's book, value clipped\n",
      "WARNING : Area ratio value outside of the range in Roskam's book, value clipped\n"
     ]
    },
    {
     "name": "stdout",
     "output_type": "stream",
     "text": [
      "NL: NLBGS 11 ; 1270.35903 1.85352828\n"
     ]
    },
    {
     "name": "stderr",
     "output_type": "stream",
     "text": [
      "WARNING : Chord ratio value outside of the range in Roskam's book, value clipped\n",
      "WARNING : Chord ratio value outside of the range in Roskam's book, value clipped\n",
      "WARNING : Chord ratio value outside of the range in Roskam's book, value clipped\n",
      "WARNING : Chord ratio value outside of the range in Roskam's book, value clipped\n",
      "WARNING : Ratio of span on fuselage depth outside of the range in Roskam's book, value clipped\n",
      "WARNING : Area ratio value outside of the range in Roskam's book, value clipped\n",
      "INFO    : Entering mission computation\n",
      "INFO    : Entering mission computation\n",
      "INFO    : Entering mission computation\n",
      "WARNING : Looping on wing area with new value equal to [16.24907468]\n",
      "WARNING : Ratio of span on fuselage depth outside of the range in Roskam's book, value clipped\n",
      "WARNING : Area ratio value outside of the range in Roskam's book, value clipped\n"
     ]
    },
    {
     "name": "stdout",
     "output_type": "stream",
     "text": [
      "NL: NLBGS 12 ; 668.193216 0.974933067\n"
     ]
    },
    {
     "name": "stderr",
     "output_type": "stream",
     "text": [
      "WARNING : Chord ratio value outside of the range in Roskam's book, value clipped\n",
      "WARNING : Chord ratio value outside of the range in Roskam's book, value clipped\n",
      "WARNING : Chord ratio value outside of the range in Roskam's book, value clipped\n",
      "WARNING : Chord ratio value outside of the range in Roskam's book, value clipped\n",
      "WARNING : Ratio of span on fuselage depth outside of the range in Roskam's book, value clipped\n",
      "WARNING : Area ratio value outside of the range in Roskam's book, value clipped\n",
      "INFO    : Entering mission computation\n",
      "INFO    : Entering mission computation\n",
      "INFO    : Entering mission computation\n",
      "WARNING : Looping on wing area with new value equal to [16.24941463]\n",
      "WARNING : Ratio of span on fuselage depth outside of the range in Roskam's book, value clipped\n",
      "WARNING : Area ratio value outside of the range in Roskam's book, value clipped\n"
     ]
    },
    {
     "name": "stdout",
     "output_type": "stream",
     "text": [
      "NL: NLBGS 13 ; 306.069158 0.44657284\n"
     ]
    },
    {
     "name": "stderr",
     "output_type": "stream",
     "text": [
      "WARNING : Chord ratio value outside of the range in Roskam's book, value clipped\n",
      "WARNING : Chord ratio value outside of the range in Roskam's book, value clipped\n",
      "WARNING : Chord ratio value outside of the range in Roskam's book, value clipped\n",
      "WARNING : Chord ratio value outside of the range in Roskam's book, value clipped\n",
      "WARNING : Ratio of span on fuselage depth outside of the range in Roskam's book, value clipped\n",
      "WARNING : Area ratio value outside of the range in Roskam's book, value clipped\n",
      "INFO    : Entering mission computation\n",
      "INFO    : Entering mission computation\n",
      "INFO    : Entering mission computation\n",
      "WARNING : Looping on wing area with new value equal to [16.24957722]\n",
      "WARNING : Ratio of span on fuselage depth outside of the range in Roskam's book, value clipped\n",
      "WARNING : Area ratio value outside of the range in Roskam's book, value clipped\n"
     ]
    },
    {
     "name": "stdout",
     "output_type": "stream",
     "text": [
      "NL: NLBGS 14 ; 141.255514 0.206100075\n"
     ]
    },
    {
     "name": "stderr",
     "output_type": "stream",
     "text": [
      "WARNING : Chord ratio value outside of the range in Roskam's book, value clipped\n",
      "WARNING : Chord ratio value outside of the range in Roskam's book, value clipped\n",
      "WARNING : Chord ratio value outside of the range in Roskam's book, value clipped\n",
      "WARNING : Chord ratio value outside of the range in Roskam's book, value clipped\n",
      "WARNING : Ratio of span on fuselage depth outside of the range in Roskam's book, value clipped\n",
      "WARNING : Area ratio value outside of the range in Roskam's book, value clipped\n",
      "INFO    : Entering mission computation\n",
      "INFO    : Entering mission computation\n",
      "INFO    : Entering mission computation\n",
      "WARNING : Looping on wing area with new value equal to [16.24964844]\n",
      "WARNING : Ratio of span on fuselage depth outside of the range in Roskam's book, value clipped\n",
      "WARNING : Area ratio value outside of the range in Roskam's book, value clipped\n"
     ]
    },
    {
     "name": "stdout",
     "output_type": "stream",
     "text": [
      "NL: NLBGS 15 ; 61.2151723 0.0893165244\n"
     ]
    },
    {
     "name": "stderr",
     "output_type": "stream",
     "text": [
      "WARNING : Chord ratio value outside of the range in Roskam's book, value clipped\n",
      "WARNING : Chord ratio value outside of the range in Roskam's book, value clipped\n",
      "WARNING : Chord ratio value outside of the range in Roskam's book, value clipped\n",
      "WARNING : Chord ratio value outside of the range in Roskam's book, value clipped\n",
      "WARNING : Ratio of span on fuselage depth outside of the range in Roskam's book, value clipped\n",
      "WARNING : Area ratio value outside of the range in Roskam's book, value clipped\n",
      "INFO    : Entering mission computation\n",
      "INFO    : Entering mission computation\n",
      "INFO    : Entering mission computation\n",
      "WARNING : Looping on wing area with new value equal to [16.24967596]\n",
      "WARNING : Ratio of span on fuselage depth outside of the range in Roskam's book, value clipped\n",
      "WARNING : Area ratio value outside of the range in Roskam's book, value clipped\n"
     ]
    },
    {
     "name": "stdout",
     "output_type": "stream",
     "text": [
      "NL: NLBGS 16 ; 25.7144541 0.0375188957\n"
     ]
    },
    {
     "name": "stderr",
     "output_type": "stream",
     "text": [
      "WARNING : Chord ratio value outside of the range in Roskam's book, value clipped\n",
      "WARNING : Chord ratio value outside of the range in Roskam's book, value clipped\n",
      "WARNING : Chord ratio value outside of the range in Roskam's book, value clipped\n",
      "WARNING : Chord ratio value outside of the range in Roskam's book, value clipped\n",
      "WARNING : Ratio of span on fuselage depth outside of the range in Roskam's book, value clipped\n",
      "WARNING : Area ratio value outside of the range in Roskam's book, value clipped\n",
      "INFO    : Entering mission computation\n",
      "INFO    : Entering mission computation\n",
      "INFO    : Entering mission computation\n",
      "WARNING : Looping on wing area with new value equal to [16.24968421]\n",
      "WARNING : Ratio of span on fuselage depth outside of the range in Roskam's book, value clipped\n",
      "WARNING : Area ratio value outside of the range in Roskam's book, value clipped\n"
     ]
    },
    {
     "name": "stdout",
     "output_type": "stream",
     "text": [
      "NL: NLBGS 17 ; 12.531122 0.0182836414\n"
     ]
    },
    {
     "name": "stderr",
     "output_type": "stream",
     "text": [
      "WARNING : Chord ratio value outside of the range in Roskam's book, value clipped\n",
      "WARNING : Chord ratio value outside of the range in Roskam's book, value clipped\n",
      "WARNING : Chord ratio value outside of the range in Roskam's book, value clipped\n",
      "WARNING : Chord ratio value outside of the range in Roskam's book, value clipped\n",
      "WARNING : Ratio of span on fuselage depth outside of the range in Roskam's book, value clipped\n",
      "WARNING : Area ratio value outside of the range in Roskam's book, value clipped\n",
      "INFO    : Entering mission computation\n",
      "INFO    : Entering mission computation\n",
      "INFO    : Entering mission computation\n",
      "WARNING : Looping on wing area with new value equal to [16.2495385]\n",
      "WARNING : Ratio of span on fuselage depth outside of the range in Roskam's book, value clipped\n",
      "WARNING : Area ratio value outside of the range in Roskam's book, value clipped\n"
     ]
    },
    {
     "name": "stdout",
     "output_type": "stream",
     "text": [
      "NL: NLBGS 18 ; 8.51398603 0.0124224046\n"
     ]
    },
    {
     "name": "stderr",
     "output_type": "stream",
     "text": [
      "WARNING : Chord ratio value outside of the range in Roskam's book, value clipped\n",
      "WARNING : Chord ratio value outside of the range in Roskam's book, value clipped\n",
      "WARNING : Chord ratio value outside of the range in Roskam's book, value clipped\n",
      "WARNING : Chord ratio value outside of the range in Roskam's book, value clipped\n",
      "WARNING : Ratio of span on fuselage depth outside of the range in Roskam's book, value clipped\n",
      "WARNING : Area ratio value outside of the range in Roskam's book, value clipped\n",
      "INFO    : Entering mission computation\n",
      "INFO    : Entering mission computation\n",
      "INFO    : Entering mission computation\n",
      "WARNING : Looping on wing area with new value equal to [16.24950617]\n",
      "WARNING : Ratio of span on fuselage depth outside of the range in Roskam's book, value clipped\n",
      "WARNING : Area ratio value outside of the range in Roskam's book, value clipped\n"
     ]
    },
    {
     "name": "stdout",
     "output_type": "stream",
     "text": [
      "NL: NLBGS 19 ; 46.0389468 0.0671735219\n"
     ]
    },
    {
     "name": "stderr",
     "output_type": "stream",
     "text": [
      "WARNING : Chord ratio value outside of the range in Roskam's book, value clipped\n",
      "WARNING : Chord ratio value outside of the range in Roskam's book, value clipped\n",
      "WARNING : Chord ratio value outside of the range in Roskam's book, value clipped\n",
      "WARNING : Chord ratio value outside of the range in Roskam's book, value clipped\n",
      "WARNING : Ratio of span on fuselage depth outside of the range in Roskam's book, value clipped\n",
      "WARNING : Area ratio value outside of the range in Roskam's book, value clipped\n",
      "INFO    : Entering mission computation\n",
      "INFO    : Entering mission computation\n",
      "INFO    : Entering mission computation\n",
      "WARNING : Looping on wing area with new value equal to [16.24947933]\n",
      "WARNING : Ratio of span on fuselage depth outside of the range in Roskam's book, value clipped\n",
      "WARNING : Area ratio value outside of the range in Roskam's book, value clipped\n"
     ]
    },
    {
     "name": "stdout",
     "output_type": "stream",
     "text": [
      "NL: NLBGS 20 ; 47.0115816 0.068592653\n"
     ]
    },
    {
     "name": "stderr",
     "output_type": "stream",
     "text": [
      "WARNING : Chord ratio value outside of the range in Roskam's book, value clipped\n",
      "WARNING : Chord ratio value outside of the range in Roskam's book, value clipped\n",
      "WARNING : Chord ratio value outside of the range in Roskam's book, value clipped\n",
      "WARNING : Chord ratio value outside of the range in Roskam's book, value clipped\n",
      "WARNING : Ratio of span on fuselage depth outside of the range in Roskam's book, value clipped\n",
      "WARNING : Area ratio value outside of the range in Roskam's book, value clipped\n",
      "INFO    : Entering mission computation\n",
      "INFO    : Entering mission computation\n",
      "INFO    : Entering mission computation\n",
      "WARNING : Looping on wing area with new value equal to [16.24946416]\n",
      "WARNING : Ratio of span on fuselage depth outside of the range in Roskam's book, value clipped\n",
      "WARNING : Area ratio value outside of the range in Roskam's book, value clipped\n"
     ]
    },
    {
     "name": "stdout",
     "output_type": "stream",
     "text": [
      "NL: NLBGS 21 ; 16.3755675 0.0238929128\n"
     ]
    },
    {
     "name": "stderr",
     "output_type": "stream",
     "text": [
      "WARNING : Chord ratio value outside of the range in Roskam's book, value clipped\n",
      "WARNING : Chord ratio value outside of the range in Roskam's book, value clipped\n",
      "WARNING : Chord ratio value outside of the range in Roskam's book, value clipped\n",
      "WARNING : Chord ratio value outside of the range in Roskam's book, value clipped\n",
      "WARNING : Ratio of span on fuselage depth outside of the range in Roskam's book, value clipped\n",
      "WARNING : Area ratio value outside of the range in Roskam's book, value clipped\n",
      "INFO    : Entering mission computation\n",
      "INFO    : Entering mission computation\n",
      "INFO    : Entering mission computation\n",
      "WARNING : Looping on wing area with new value equal to [16.24960046]\n",
      "WARNING : Ratio of span on fuselage depth outside of the range in Roskam's book, value clipped\n",
      "WARNING : Area ratio value outside of the range in Roskam's book, value clipped\n"
     ]
    },
    {
     "name": "stdout",
     "output_type": "stream",
     "text": [
      "NL: NLBGS 22 ; 9.11496385 0.0132992665\n"
     ]
    },
    {
     "name": "stderr",
     "output_type": "stream",
     "text": [
      "WARNING : Chord ratio value outside of the range in Roskam's book, value clipped\n",
      "WARNING : Chord ratio value outside of the range in Roskam's book, value clipped\n",
      "WARNING : Chord ratio value outside of the range in Roskam's book, value clipped\n",
      "WARNING : Chord ratio value outside of the range in Roskam's book, value clipped\n",
      "WARNING : Ratio of span on fuselage depth outside of the range in Roskam's book, value clipped\n",
      "WARNING : Area ratio value outside of the range in Roskam's book, value clipped\n",
      "INFO    : Entering mission computation\n",
      "INFO    : Entering mission computation\n",
      "INFO    : Entering mission computation\n",
      "WARNING : Looping on wing area with new value equal to [16.24962575]\n",
      "WARNING : Ratio of span on fuselage depth outside of the range in Roskam's book, value clipped\n",
      "WARNING : Area ratio value outside of the range in Roskam's book, value clipped\n"
     ]
    },
    {
     "name": "stdout",
     "output_type": "stream",
     "text": [
      "NL: NLBGS 23 ; 43.5514474 0.0635441144\n"
     ]
    },
    {
     "name": "stderr",
     "output_type": "stream",
     "text": [
      "WARNING : Chord ratio value outside of the range in Roskam's book, value clipped\n",
      "WARNING : Chord ratio value outside of the range in Roskam's book, value clipped\n",
      "WARNING : Chord ratio value outside of the range in Roskam's book, value clipped\n",
      "WARNING : Chord ratio value outside of the range in Roskam's book, value clipped\n",
      "WARNING : Ratio of span on fuselage depth outside of the range in Roskam's book, value clipped\n",
      "WARNING : Area ratio value outside of the range in Roskam's book, value clipped\n",
      "INFO    : Entering mission computation\n",
      "INFO    : Entering mission computation\n",
      "INFO    : Entering mission computation\n",
      "WARNING : Looping on wing area with new value equal to [16.2496476]\n"
     ]
    },
    {
     "name": "stdout",
     "output_type": "stream",
     "text": [
      "NL: NLBGS 24 ; 40.467852 0.059044968\n"
     ]
    },
    {
     "name": "stderr",
     "output_type": "stream",
     "text": [
      "WARNING : Ratio of span on fuselage depth outside of the range in Roskam's book, value clipped\n",
      "WARNING : Area ratio value outside of the range in Roskam's book, value clipped\n",
      "WARNING : Chord ratio value outside of the range in Roskam's book, value clipped\n",
      "WARNING : Chord ratio value outside of the range in Roskam's book, value clipped\n",
      "WARNING : Chord ratio value outside of the range in Roskam's book, value clipped\n",
      "WARNING : Chord ratio value outside of the range in Roskam's book, value clipped\n",
      "WARNING : Ratio of span on fuselage depth outside of the range in Roskam's book, value clipped\n",
      "WARNING : Area ratio value outside of the range in Roskam's book, value clipped\n",
      "INFO    : Entering mission computation\n",
      "INFO    : Entering mission computation\n",
      "INFO    : Entering mission computation\n",
      "WARNING : Looping on wing area with new value equal to [16.24965962]\n",
      "WARNING : Ratio of span on fuselage depth outside of the range in Roskam's book, value clipped\n",
      "WARNING : Area ratio value outside of the range in Roskam's book, value clipped\n"
     ]
    },
    {
     "name": "stdout",
     "output_type": "stream",
     "text": [
      "NL: NLBGS 25 ; 12.5988237 0.0183824222\n"
     ]
    },
    {
     "name": "stderr",
     "output_type": "stream",
     "text": [
      "WARNING : Chord ratio value outside of the range in Roskam's book, value clipped\n",
      "WARNING : Chord ratio value outside of the range in Roskam's book, value clipped\n",
      "WARNING : Chord ratio value outside of the range in Roskam's book, value clipped\n",
      "WARNING : Chord ratio value outside of the range in Roskam's book, value clipped\n",
      "WARNING : Ratio of span on fuselage depth outside of the range in Roskam's book, value clipped\n",
      "WARNING : Area ratio value outside of the range in Roskam's book, value clipped\n",
      "INFO    : Entering mission computation\n",
      "INFO    : Entering mission computation\n",
      "INFO    : Entering mission computation\n",
      "WARNING : Looping on wing area with new value equal to [16.24952116]\n",
      "WARNING : Ratio of span on fuselage depth outside of the range in Roskam's book, value clipped\n",
      "WARNING : Area ratio value outside of the range in Roskam's book, value clipped\n"
     ]
    },
    {
     "name": "stdout",
     "output_type": "stream",
     "text": [
      "NL: NLBGS 26 ; 6.94184692 0.0101285615\n"
     ]
    },
    {
     "name": "stderr",
     "output_type": "stream",
     "text": [
      "WARNING : Chord ratio value outside of the range in Roskam's book, value clipped\n",
      "WARNING : Chord ratio value outside of the range in Roskam's book, value clipped\n",
      "WARNING : Chord ratio value outside of the range in Roskam's book, value clipped\n",
      "WARNING : Chord ratio value outside of the range in Roskam's book, value clipped\n",
      "WARNING : Ratio of span on fuselage depth outside of the range in Roskam's book, value clipped\n",
      "WARNING : Area ratio value outside of the range in Roskam's book, value clipped\n",
      "INFO    : Entering mission computation\n",
      "INFO    : Entering mission computation\n",
      "INFO    : Entering mission computation\n",
      "WARNING : Looping on wing area with new value equal to [16.24949463]\n",
      "WARNING : Ratio of span on fuselage depth outside of the range in Roskam's book, value clipped\n",
      "WARNING : Area ratio value outside of the range in Roskam's book, value clipped\n"
     ]
    },
    {
     "name": "stdout",
     "output_type": "stream",
     "text": [
      "NL: NLBGS 27 ; 44.0568949 0.0642815919\n"
     ]
    },
    {
     "name": "stderr",
     "output_type": "stream",
     "text": [
      "WARNING : Chord ratio value outside of the range in Roskam's book, value clipped\n",
      "WARNING : Chord ratio value outside of the range in Roskam's book, value clipped\n",
      "WARNING : Chord ratio value outside of the range in Roskam's book, value clipped\n",
      "WARNING : Chord ratio value outside of the range in Roskam's book, value clipped\n",
      "WARNING : Ratio of span on fuselage depth outside of the range in Roskam's book, value clipped\n",
      "WARNING : Area ratio value outside of the range in Roskam's book, value clipped\n",
      "INFO    : Entering mission computation\n",
      "INFO    : Entering mission computation\n",
      "INFO    : Entering mission computation\n",
      "WARNING : Looping on wing area with new value equal to [16.24947237]\n",
      "WARNING : Ratio of span on fuselage depth outside of the range in Roskam's book, value clipped\n",
      "WARNING : Area ratio value outside of the range in Roskam's book, value clipped\n"
     ]
    },
    {
     "name": "stdout",
     "output_type": "stream",
     "text": [
      "NL: NLBGS 28 ; 41.1787357 0.0600821889\n"
     ]
    },
    {
     "name": "stderr",
     "output_type": "stream",
     "text": [
      "WARNING : Chord ratio value outside of the range in Roskam's book, value clipped\n",
      "WARNING : Chord ratio value outside of the range in Roskam's book, value clipped\n",
      "WARNING : Chord ratio value outside of the range in Roskam's book, value clipped\n",
      "WARNING : Chord ratio value outside of the range in Roskam's book, value clipped\n",
      "WARNING : Ratio of span on fuselage depth outside of the range in Roskam's book, value clipped\n",
      "WARNING : Area ratio value outside of the range in Roskam's book, value clipped\n",
      "INFO    : Entering mission computation\n",
      "INFO    : Entering mission computation\n",
      "INFO    : Entering mission computation\n",
      "WARNING : Looping on wing area with new value equal to [16.24960568]\n",
      "WARNING : Ratio of span on fuselage depth outside of the range in Roskam's book, value clipped\n",
      "WARNING : Area ratio value outside of the range in Roskam's book, value clipped\n"
     ]
    },
    {
     "name": "stdout",
     "output_type": "stream",
     "text": [
      "NL: NLBGS 29 ; 13.0364356 0.0190209236\n"
     ]
    },
    {
     "name": "stderr",
     "output_type": "stream",
     "text": [
      "WARNING : Chord ratio value outside of the range in Roskam's book, value clipped\n",
      "WARNING : Chord ratio value outside of the range in Roskam's book, value clipped\n",
      "WARNING : Chord ratio value outside of the range in Roskam's book, value clipped\n",
      "WARNING : Chord ratio value outside of the range in Roskam's book, value clipped\n",
      "WARNING : Ratio of span on fuselage depth outside of the range in Roskam's book, value clipped\n",
      "WARNING : Area ratio value outside of the range in Roskam's book, value clipped\n",
      "INFO    : Entering mission computation\n",
      "INFO    : Entering mission computation\n",
      "INFO    : Entering mission computation\n",
      "WARNING : Looping on wing area with new value equal to [16.2496281]\n",
      "WARNING : Ratio of span on fuselage depth outside of the range in Roskam's book, value clipped\n",
      "WARNING : Area ratio value outside of the range in Roskam's book, value clipped\n"
     ]
    },
    {
     "name": "stdout",
     "output_type": "stream",
     "text": [
      "NL: NLBGS 30 ; 43.0029629 0.0627438433\n"
     ]
    },
    {
     "name": "stderr",
     "output_type": "stream",
     "text": [
      "WARNING : Chord ratio value outside of the range in Roskam's book, value clipped\n",
      "WARNING : Chord ratio value outside of the range in Roskam's book, value clipped\n",
      "WARNING : Chord ratio value outside of the range in Roskam's book, value clipped\n",
      "WARNING : Chord ratio value outside of the range in Roskam's book, value clipped\n",
      "WARNING : Ratio of span on fuselage depth outside of the range in Roskam's book, value clipped\n",
      "WARNING : Area ratio value outside of the range in Roskam's book, value clipped\n",
      "INFO    : Entering mission computation\n",
      "INFO    : Entering mission computation\n",
      "INFO    : Entering mission computation\n",
      "WARNING : Looping on wing area with new value equal to [16.24964896]\n",
      "WARNING : Ratio of span on fuselage depth outside of the range in Roskam's book, value clipped\n",
      "WARNING : Area ratio value outside of the range in Roskam's book, value clipped\n"
     ]
    },
    {
     "name": "stdout",
     "output_type": "stream",
     "text": [
      "NL: NLBGS 31 ; 39.8554287 0.0581514065\n"
     ]
    },
    {
     "name": "stderr",
     "output_type": "stream",
     "text": [
      "WARNING : Chord ratio value outside of the range in Roskam's book, value clipped\n",
      "WARNING : Chord ratio value outside of the range in Roskam's book, value clipped\n",
      "WARNING : Chord ratio value outside of the range in Roskam's book, value clipped\n",
      "WARNING : Chord ratio value outside of the range in Roskam's book, value clipped\n",
      "WARNING : Ratio of span on fuselage depth outside of the range in Roskam's book, value clipped\n",
      "WARNING : Area ratio value outside of the range in Roskam's book, value clipped\n",
      "INFO    : Entering mission computation\n",
      "INFO    : Entering mission computation\n",
      "INFO    : Entering mission computation\n",
      "WARNING : Looping on wing area with new value equal to [16.24966026]\n",
      "WARNING : Ratio of span on fuselage depth outside of the range in Roskam's book, value clipped\n",
      "WARNING : Area ratio value outside of the range in Roskam's book, value clipped\n"
     ]
    },
    {
     "name": "stdout",
     "output_type": "stream",
     "text": [
      "NL: NLBGS 32 ; 11.805154 0.0172244117\n"
     ]
    },
    {
     "name": "stderr",
     "output_type": "stream",
     "text": [
      "WARNING : Chord ratio value outside of the range in Roskam's book, value clipped\n",
      "WARNING : Chord ratio value outside of the range in Roskam's book, value clipped\n",
      "WARNING : Chord ratio value outside of the range in Roskam's book, value clipped\n",
      "WARNING : Chord ratio value outside of the range in Roskam's book, value clipped\n",
      "WARNING : Ratio of span on fuselage depth outside of the range in Roskam's book, value clipped\n",
      "WARNING : Area ratio value outside of the range in Roskam's book, value clipped\n",
      "INFO    : Entering mission computation\n",
      "INFO    : Entering mission computation\n",
      "INFO    : Entering mission computation\n",
      "WARNING : Looping on wing area with new value equal to [16.24952146]\n",
      "WARNING : Ratio of span on fuselage depth outside of the range in Roskam's book, value clipped\n",
      "WARNING : Area ratio value outside of the range in Roskam's book, value clipped\n"
     ]
    },
    {
     "name": "stdout",
     "output_type": "stream",
     "text": [
      "NL: NLBGS 33 ; 6.51711785 0.00950885693\n"
     ]
    },
    {
     "name": "stderr",
     "output_type": "stream",
     "text": [
      "WARNING : Chord ratio value outside of the range in Roskam's book, value clipped\n",
      "WARNING : Chord ratio value outside of the range in Roskam's book, value clipped\n",
      "WARNING : Chord ratio value outside of the range in Roskam's book, value clipped\n",
      "WARNING : Chord ratio value outside of the range in Roskam's book, value clipped\n",
      "WARNING : Ratio of span on fuselage depth outside of the range in Roskam's book, value clipped\n",
      "WARNING : Area ratio value outside of the range in Roskam's book, value clipped\n",
      "INFO    : Entering mission computation\n",
      "INFO    : Entering mission computation\n",
      "INFO    : Entering mission computation\n",
      "WARNING : Looping on wing area with new value equal to [16.24949474]\n",
      "WARNING : Ratio of span on fuselage depth outside of the range in Roskam's book, value clipped\n",
      "WARNING : Area ratio value outside of the range in Roskam's book, value clipped\n"
     ]
    },
    {
     "name": "stdout",
     "output_type": "stream",
     "text": [
      "NL: NLBGS 34 ; 44.1731378 0.0644511971\n"
     ]
    },
    {
     "name": "stderr",
     "output_type": "stream",
     "text": [
      "WARNING : Chord ratio value outside of the range in Roskam's book, value clipped\n",
      "WARNING : Chord ratio value outside of the range in Roskam's book, value clipped\n",
      "WARNING : Chord ratio value outside of the range in Roskam's book, value clipped\n",
      "WARNING : Chord ratio value outside of the range in Roskam's book, value clipped\n",
      "WARNING : Ratio of span on fuselage depth outside of the range in Roskam's book, value clipped\n",
      "WARNING : Area ratio value outside of the range in Roskam's book, value clipped\n",
      "INFO    : Entering mission computation\n",
      "INFO    : Entering mission computation\n",
      "INFO    : Entering mission computation\n",
      "WARNING : Looping on wing area with new value equal to [16.24947241]\n",
      "WARNING : Ratio of span on fuselage depth outside of the range in Roskam's book, value clipped\n",
      "WARNING : Area ratio value outside of the range in Roskam's book, value clipped\n"
     ]
    },
    {
     "name": "stdout",
     "output_type": "stream",
     "text": [
      "NL: NLBGS 35 ; 41.1948027 0.0601056317\n"
     ]
    },
    {
     "name": "stderr",
     "output_type": "stream",
     "text": [
      "WARNING : Chord ratio value outside of the range in Roskam's book, value clipped\n",
      "WARNING : Chord ratio value outside of the range in Roskam's book, value clipped\n",
      "WARNING : Chord ratio value outside of the range in Roskam's book, value clipped\n",
      "WARNING : Chord ratio value outside of the range in Roskam's book, value clipped\n",
      "WARNING : Ratio of span on fuselage depth outside of the range in Roskam's book, value clipped\n",
      "WARNING : Area ratio value outside of the range in Roskam's book, value clipped\n",
      "INFO    : Entering mission computation\n",
      "INFO    : Entering mission computation\n",
      "INFO    : Entering mission computation\n",
      "WARNING : Looping on wing area with new value equal to [16.24960569]\n",
      "WARNING : Ratio of span on fuselage depth outside of the range in Roskam's book, value clipped\n",
      "WARNING : Area ratio value outside of the range in Roskam's book, value clipped\n"
     ]
    },
    {
     "name": "stdout",
     "output_type": "stream",
     "text": [
      "NL: NLBGS 36 ; 13.060572 0.01905614\n"
     ]
    },
    {
     "name": "stderr",
     "output_type": "stream",
     "text": [
      "WARNING : Chord ratio value outside of the range in Roskam's book, value clipped\n",
      "WARNING : Chord ratio value outside of the range in Roskam's book, value clipped\n",
      "WARNING : Chord ratio value outside of the range in Roskam's book, value clipped\n",
      "WARNING : Chord ratio value outside of the range in Roskam's book, value clipped\n",
      "WARNING : Ratio of span on fuselage depth outside of the range in Roskam's book, value clipped\n",
      "WARNING : Area ratio value outside of the range in Roskam's book, value clipped\n",
      "INFO    : Entering mission computation\n",
      "INFO    : Entering mission computation\n",
      "INFO    : Entering mission computation\n",
      "WARNING : Looping on wing area with new value equal to [16.2496281]\n",
      "WARNING : Ratio of span on fuselage depth outside of the range in Roskam's book, value clipped\n",
      "WARNING : Area ratio value outside of the range in Roskam's book, value clipped\n"
     ]
    },
    {
     "name": "stdout",
     "output_type": "stream",
     "text": [
      "NL: NLBGS 37 ; 42.9946884 0.0627317703\n"
     ]
    },
    {
     "name": "stderr",
     "output_type": "stream",
     "text": [
      "WARNING : Chord ratio value outside of the range in Roskam's book, value clipped\n",
      "WARNING : Chord ratio value outside of the range in Roskam's book, value clipped\n",
      "WARNING : Chord ratio value outside of the range in Roskam's book, value clipped\n",
      "WARNING : Chord ratio value outside of the range in Roskam's book, value clipped\n",
      "WARNING : Ratio of span on fuselage depth outside of the range in Roskam's book, value clipped\n",
      "WARNING : Area ratio value outside of the range in Roskam's book, value clipped\n",
      "INFO    : Entering mission computation\n",
      "INFO    : Entering mission computation\n",
      "INFO    : Entering mission computation\n",
      "WARNING : Looping on wing area with new value equal to [16.24964896]\n",
      "WARNING : Ratio of span on fuselage depth outside of the range in Roskam's book, value clipped\n",
      "WARNING : Area ratio value outside of the range in Roskam's book, value clipped\n"
     ]
    },
    {
     "name": "stdout",
     "output_type": "stream",
     "text": [
      "NL: NLBGS 38 ; 39.8588269 0.0581563646\n"
     ]
    },
    {
     "name": "stderr",
     "output_type": "stream",
     "text": [
      "WARNING : Chord ratio value outside of the range in Roskam's book, value clipped\n",
      "WARNING : Chord ratio value outside of the range in Roskam's book, value clipped\n",
      "WARNING : Chord ratio value outside of the range in Roskam's book, value clipped\n",
      "WARNING : Chord ratio value outside of the range in Roskam's book, value clipped\n",
      "WARNING : Ratio of span on fuselage depth outside of the range in Roskam's book, value clipped\n",
      "WARNING : Area ratio value outside of the range in Roskam's book, value clipped\n",
      "INFO    : Entering mission computation\n",
      "INFO    : Entering mission computation\n",
      "INFO    : Entering mission computation\n",
      "WARNING : Looping on wing area with new value equal to [16.24966026]\n",
      "WARNING : Ratio of span on fuselage depth outside of the range in Roskam's book, value clipped\n",
      "WARNING : Area ratio value outside of the range in Roskam's book, value clipped\n"
     ]
    },
    {
     "name": "stdout",
     "output_type": "stream",
     "text": [
      "NL: NLBGS 39 ; 11.8077976 0.0172282688\n"
     ]
    },
    {
     "name": "stderr",
     "output_type": "stream",
     "text": [
      "WARNING : Chord ratio value outside of the range in Roskam's book, value clipped\n",
      "WARNING : Chord ratio value outside of the range in Roskam's book, value clipped\n",
      "WARNING : Chord ratio value outside of the range in Roskam's book, value clipped\n",
      "WARNING : Chord ratio value outside of the range in Roskam's book, value clipped\n",
      "WARNING : Ratio of span on fuselage depth outside of the range in Roskam's book, value clipped\n",
      "WARNING : Area ratio value outside of the range in Roskam's book, value clipped\n",
      "INFO    : Entering mission computation\n",
      "INFO    : Entering mission computation\n",
      "INFO    : Entering mission computation\n",
      "WARNING : Looping on wing area with new value equal to [16.24952146]\n",
      "WARNING : Ratio of span on fuselage depth outside of the range in Roskam's book, value clipped\n",
      "WARNING : Area ratio value outside of the range in Roskam's book, value clipped\n"
     ]
    },
    {
     "name": "stdout",
     "output_type": "stream",
     "text": [
      "NL: NLBGS 40 ; 6.51973108 0.00951266978\n"
     ]
    },
    {
     "name": "stderr",
     "output_type": "stream",
     "text": [
      "WARNING : Chord ratio value outside of the range in Roskam's book, value clipped\n",
      "WARNING : Chord ratio value outside of the range in Roskam's book, value clipped\n",
      "WARNING : Chord ratio value outside of the range in Roskam's book, value clipped\n",
      "WARNING : Chord ratio value outside of the range in Roskam's book, value clipped\n",
      "WARNING : Ratio of span on fuselage depth outside of the range in Roskam's book, value clipped\n",
      "WARNING : Area ratio value outside of the range in Roskam's book, value clipped\n",
      "INFO    : Entering mission computation\n",
      "INFO    : Entering mission computation\n",
      "INFO    : Entering mission computation\n",
      "WARNING : Looping on wing area with new value equal to [16.24949474]\n",
      "WARNING : Ratio of span on fuselage depth outside of the range in Roskam's book, value clipped\n",
      "WARNING : Area ratio value outside of the range in Roskam's book, value clipped\n"
     ]
    },
    {
     "name": "stdout",
     "output_type": "stream",
     "text": [
      "NL: NLBGS 41 ; 44.1726029 0.0644504167\n"
     ]
    },
    {
     "name": "stderr",
     "output_type": "stream",
     "text": [
      "WARNING : Chord ratio value outside of the range in Roskam's book, value clipped\n",
      "WARNING : Chord ratio value outside of the range in Roskam's book, value clipped\n",
      "WARNING : Chord ratio value outside of the range in Roskam's book, value clipped\n",
      "WARNING : Chord ratio value outside of the range in Roskam's book, value clipped\n",
      "WARNING : Ratio of span on fuselage depth outside of the range in Roskam's book, value clipped\n",
      "WARNING : Area ratio value outside of the range in Roskam's book, value clipped\n",
      "INFO    : Entering mission computation\n",
      "INFO    : Entering mission computation\n",
      "INFO    : Entering mission computation\n",
      "WARNING : Looping on wing area with new value equal to [16.24947241]\n",
      "WARNING : Ratio of span on fuselage depth outside of the range in Roskam's book, value clipped\n",
      "WARNING : Area ratio value outside of the range in Roskam's book, value clipped\n"
     ]
    },
    {
     "name": "stdout",
     "output_type": "stream",
     "text": [
      "NL: NLBGS 42 ; 41.1933654 0.0601035346\n"
     ]
    },
    {
     "name": "stderr",
     "output_type": "stream",
     "text": [
      "WARNING : Chord ratio value outside of the range in Roskam's book, value clipped\n",
      "WARNING : Chord ratio value outside of the range in Roskam's book, value clipped\n",
      "WARNING : Chord ratio value outside of the range in Roskam's book, value clipped\n",
      "WARNING : Chord ratio value outside of the range in Roskam's book, value clipped\n",
      "WARNING : Ratio of span on fuselage depth outside of the range in Roskam's book, value clipped\n",
      "WARNING : Area ratio value outside of the range in Roskam's book, value clipped\n",
      "INFO    : Entering mission computation\n",
      "INFO    : Entering mission computation\n",
      "INFO    : Entering mission computation\n",
      "WARNING : Looping on wing area with new value equal to [16.24960569]\n",
      "WARNING : Ratio of span on fuselage depth outside of the range in Roskam's book, value clipped\n",
      "WARNING : Area ratio value outside of the range in Roskam's book, value clipped\n"
     ]
    },
    {
     "name": "stdout",
     "output_type": "stream",
     "text": [
      "NL: NLBGS 43 ; 13.0614142 0.0190573689\n"
     ]
    },
    {
     "name": "stderr",
     "output_type": "stream",
     "text": [
      "WARNING : Chord ratio value outside of the range in Roskam's book, value clipped\n",
      "WARNING : Chord ratio value outside of the range in Roskam's book, value clipped\n",
      "WARNING : Chord ratio value outside of the range in Roskam's book, value clipped\n",
      "WARNING : Chord ratio value outside of the range in Roskam's book, value clipped\n",
      "WARNING : Ratio of span on fuselage depth outside of the range in Roskam's book, value clipped\n",
      "WARNING : Area ratio value outside of the range in Roskam's book, value clipped\n",
      "INFO    : Entering mission computation\n",
      "INFO    : Entering mission computation\n",
      "INFO    : Entering mission computation\n",
      "WARNING : Looping on wing area with new value equal to [16.24962811]\n",
      "WARNING : Ratio of span on fuselage depth outside of the range in Roskam's book, value clipped\n",
      "WARNING : Area ratio value outside of the range in Roskam's book, value clipped\n"
     ]
    },
    {
     "name": "stdout",
     "output_type": "stream",
     "text": [
      "NL: NLBGS 44 ; 42.9956781 0.0627332144\n"
     ]
    },
    {
     "name": "stderr",
     "output_type": "stream",
     "text": [
      "WARNING : Chord ratio value outside of the range in Roskam's book, value clipped\n",
      "WARNING : Chord ratio value outside of the range in Roskam's book, value clipped\n",
      "WARNING : Chord ratio value outside of the range in Roskam's book, value clipped\n",
      "WARNING : Chord ratio value outside of the range in Roskam's book, value clipped\n",
      "WARNING : Ratio of span on fuselage depth outside of the range in Roskam's book, value clipped\n",
      "WARNING : Area ratio value outside of the range in Roskam's book, value clipped\n",
      "INFO    : Entering mission computation\n",
      "INFO    : Entering mission computation\n",
      "INFO    : Entering mission computation\n",
      "WARNING : Looping on wing area with new value equal to [16.24964895]\n",
      "WARNING : Ratio of span on fuselage depth outside of the range in Roskam's book, value clipped\n",
      "WARNING : Area ratio value outside of the range in Roskam's book, value clipped\n"
     ]
    },
    {
     "name": "stdout",
     "output_type": "stream",
     "text": [
      "NL: NLBGS 45 ; 39.8596906 0.0581576248\n"
     ]
    },
    {
     "name": "stderr",
     "output_type": "stream",
     "text": [
      "WARNING : Chord ratio value outside of the range in Roskam's book, value clipped\n",
      "WARNING : Chord ratio value outside of the range in Roskam's book, value clipped\n",
      "WARNING : Chord ratio value outside of the range in Roskam's book, value clipped\n",
      "WARNING : Chord ratio value outside of the range in Roskam's book, value clipped\n",
      "WARNING : Ratio of span on fuselage depth outside of the range in Roskam's book, value clipped\n",
      "WARNING : Area ratio value outside of the range in Roskam's book, value clipped\n",
      "INFO    : Entering mission computation\n",
      "INFO    : Entering mission computation\n",
      "INFO    : Entering mission computation\n",
      "WARNING : Looping on wing area with new value equal to [16.24966026]\n",
      "WARNING : Ratio of span on fuselage depth outside of the range in Roskam's book, value clipped\n",
      "WARNING : Area ratio value outside of the range in Roskam's book, value clipped\n"
     ]
    },
    {
     "name": "stdout",
     "output_type": "stream",
     "text": [
      "NL: NLBGS 46 ; 11.8078982 0.0172284155\n"
     ]
    },
    {
     "name": "stderr",
     "output_type": "stream",
     "text": [
      "WARNING : Chord ratio value outside of the range in Roskam's book, value clipped\n",
      "WARNING : Chord ratio value outside of the range in Roskam's book, value clipped\n",
      "WARNING : Chord ratio value outside of the range in Roskam's book, value clipped\n",
      "WARNING : Chord ratio value outside of the range in Roskam's book, value clipped\n",
      "WARNING : Ratio of span on fuselage depth outside of the range in Roskam's book, value clipped\n",
      "WARNING : Area ratio value outside of the range in Roskam's book, value clipped\n",
      "INFO    : Entering mission computation\n",
      "INFO    : Entering mission computation\n",
      "INFO    : Entering mission computation\n",
      "WARNING : Looping on wing area with new value equal to [16.24952146]\n",
      "WARNING : Ratio of span on fuselage depth outside of the range in Roskam's book, value clipped\n",
      "WARNING : Area ratio value outside of the range in Roskam's book, value clipped\n"
     ]
    },
    {
     "name": "stdout",
     "output_type": "stream",
     "text": [
      "NL: NLBGS 47 ; 6.51945868 0.00951227233\n"
     ]
    },
    {
     "name": "stderr",
     "output_type": "stream",
     "text": [
      "WARNING : Chord ratio value outside of the range in Roskam's book, value clipped\n",
      "WARNING : Chord ratio value outside of the range in Roskam's book, value clipped\n",
      "WARNING : Chord ratio value outside of the range in Roskam's book, value clipped\n",
      "WARNING : Chord ratio value outside of the range in Roskam's book, value clipped\n",
      "WARNING : Ratio of span on fuselage depth outside of the range in Roskam's book, value clipped\n",
      "WARNING : Area ratio value outside of the range in Roskam's book, value clipped\n",
      "INFO    : Entering mission computation\n",
      "INFO    : Entering mission computation\n",
      "INFO    : Entering mission computation\n",
      "WARNING : Looping on wing area with new value equal to [16.24949474]\n",
      "WARNING : Ratio of span on fuselage depth outside of the range in Roskam's book, value clipped\n",
      "WARNING : Area ratio value outside of the range in Roskam's book, value clipped\n"
     ]
    },
    {
     "name": "stdout",
     "output_type": "stream",
     "text": [
      "NL: NLBGS 48 ; 44.1738535 0.0644522414\n"
     ]
    },
    {
     "name": "stderr",
     "output_type": "stream",
     "text": [
      "WARNING : Chord ratio value outside of the range in Roskam's book, value clipped\n",
      "WARNING : Chord ratio value outside of the range in Roskam's book, value clipped\n",
      "WARNING : Chord ratio value outside of the range in Roskam's book, value clipped\n",
      "WARNING : Chord ratio value outside of the range in Roskam's book, value clipped\n",
      "WARNING : Ratio of span on fuselage depth outside of the range in Roskam's book, value clipped\n",
      "WARNING : Area ratio value outside of the range in Roskam's book, value clipped\n",
      "INFO    : Entering mission computation\n",
      "INFO    : Entering mission computation\n",
      "INFO    : Entering mission computation\n",
      "WARNING : Looping on wing area with new value equal to [16.24947241]\n",
      "WARNING : Ratio of span on fuselage depth outside of the range in Roskam's book, value clipped\n",
      "WARNING : Area ratio value outside of the range in Roskam's book, value clipped\n"
     ]
    },
    {
     "name": "stdout",
     "output_type": "stream",
     "text": [
      "NL: NLBGS 49 ; 41.1941272 0.0601046461\n"
     ]
    },
    {
     "name": "stderr",
     "output_type": "stream",
     "text": [
      "WARNING : Chord ratio value outside of the range in Roskam's book, value clipped\n",
      "WARNING : Chord ratio value outside of the range in Roskam's book, value clipped\n",
      "WARNING : Chord ratio value outside of the range in Roskam's book, value clipped\n",
      "WARNING : Chord ratio value outside of the range in Roskam's book, value clipped\n",
      "WARNING : Ratio of span on fuselage depth outside of the range in Roskam's book, value clipped\n",
      "WARNING : Area ratio value outside of the range in Roskam's book, value clipped\n",
      "INFO    : Entering mission computation\n",
      "INFO    : Entering mission computation\n",
      "INFO    : Entering mission computation\n",
      "WARNING : Looping on wing area with new value equal to [16.24960569]\n"
     ]
    },
    {
     "name": "stdout",
     "output_type": "stream",
     "text": [
      "NL: NLBGS 50 ; 13.0605762 0.0190561461\n",
      "NL: NLBGSSolver 'NL: NLBGS' on system '' failed to converge in 50 iterations.\n"
     ]
    },
    {
     "name": "stderr",
     "output_type": "stream",
     "text": [
      "WARNING : Ratio of span on fuselage depth outside of the range in Roskam's book, value clipped\n",
      "WARNING : Area ratio value outside of the range in Roskam's book, value clipped\n",
      "WARNING : Chord ratio value outside of the range in Roskam's book, value clipped\n",
      "WARNING : Chord ratio value outside of the range in Roskam's book, value clipped\n",
      "WARNING : Chord ratio value outside of the range in Roskam's book, value clipped\n",
      "WARNING : Chord ratio value outside of the range in Roskam's book, value clipped\n",
      "WARNING : Ratio of span on fuselage depth outside of the range in Roskam's book, value clipped\n",
      "WARNING : Area ratio value outside of the range in Roskam's book, value clipped\n",
      "INFO    : Entering mission computation\n",
      "INFO    : Entering mission computation\n",
      "INFO    : Entering mission computation\n",
      "WARNING : Looping on wing area with new value equal to [16.2496281]\n",
      "WARNING : Ratio of span on fuselage depth outside of the range in Roskam's book, value clipped\n",
      "WARNING : Area ratio value outside of the range in Roskam's book, value clipped\n"
     ]
    },
    {
     "name": "stdout",
     "output_type": "stream",
     "text": [
      "NL: NLBGS 1 ; 1475.56724 1\n"
     ]
    },
    {
     "name": "stderr",
     "output_type": "stream",
     "text": [
      "WARNING : Chord ratio value outside of the range in Roskam's book, value clipped\n",
      "WARNING : Chord ratio value outside of the range in Roskam's book, value clipped\n",
      "WARNING : Chord ratio value outside of the range in Roskam's book, value clipped\n",
      "WARNING : Chord ratio value outside of the range in Roskam's book, value clipped\n",
      "WARNING : Ratio of span on fuselage depth outside of the range in Roskam's book, value clipped\n",
      "WARNING : Area ratio value outside of the range in Roskam's book, value clipped\n",
      "INFO    : Entering mission computation\n",
      "INFO    : Entering mission computation\n",
      "INFO    : Entering mission computation\n",
      "WARNING : Looping on wing area with new value equal to [15.84469637]\n",
      "WARNING : Ratio of span on fuselage depth outside of the range in Roskam's book, value clipped\n",
      "WARNING : Area ratio value outside of the range in Roskam's book, value clipped\n"
     ]
    },
    {
     "name": "stdout",
     "output_type": "stream",
     "text": [
      "NL: NLBGS 2 ; 1214771.93 823.257586\n"
     ]
    },
    {
     "name": "stderr",
     "output_type": "stream",
     "text": [
      "WARNING : Chord ratio value outside of the range in Roskam's book, value clipped\n",
      "WARNING : Chord ratio value outside of the range in Roskam's book, value clipped\n",
      "WARNING : Chord ratio value outside of the range in Roskam's book, value clipped\n",
      "WARNING : Chord ratio value outside of the range in Roskam's book, value clipped\n",
      "WARNING : Ratio of span on fuselage depth outside of the range in Roskam's book, value clipped\n",
      "WARNING : Area ratio value outside of the range in Roskam's book, value clipped\n",
      "INFO    : Entering mission computation\n",
      "INFO    : Entering mission computation\n",
      "INFO    : Entering mission computation\n",
      "WARNING : Looping on wing area with new value equal to [15.8870157]\n",
      "WARNING : Ratio of span on fuselage depth outside of the range in Roskam's book, value clipped\n",
      "WARNING : Area ratio value outside of the range in Roskam's book, value clipped\n"
     ]
    },
    {
     "name": "stdout",
     "output_type": "stream",
     "text": [
      "NL: NLBGS 3 ; 132198.014 89.5913182\n"
     ]
    },
    {
     "name": "stderr",
     "output_type": "stream",
     "text": [
      "WARNING : Chord ratio value outside of the range in Roskam's book, value clipped\n",
      "WARNING : Chord ratio value outside of the range in Roskam's book, value clipped\n",
      "WARNING : Chord ratio value outside of the range in Roskam's book, value clipped\n",
      "WARNING : Chord ratio value outside of the range in Roskam's book, value clipped\n",
      "WARNING : Ratio of span on fuselage depth outside of the range in Roskam's book, value clipped\n",
      "WARNING : Area ratio value outside of the range in Roskam's book, value clipped\n",
      "INFO    : Entering mission computation\n",
      "INFO    : Entering mission computation\n",
      "INFO    : Entering mission computation\n",
      "WARNING : Looping on wing area with new value equal to [15.86803096]\n",
      "WARNING : Area ratio value outside of the range in Roskam's book, value clipped\n"
     ]
    },
    {
     "name": "stdout",
     "output_type": "stream",
     "text": [
      "NL: NLBGS 4 ; 229490.767 155.527149\n"
     ]
    },
    {
     "name": "stderr",
     "output_type": "stream",
     "text": [
      "WARNING : Chord ratio value outside of the range in Roskam's book, value clipped\n",
      "WARNING : Chord ratio value outside of the range in Roskam's book, value clipped\n",
      "WARNING : Chord ratio value outside of the range in Roskam's book, value clipped\n",
      "WARNING : Chord ratio value outside of the range in Roskam's book, value clipped\n",
      "WARNING : Area ratio value outside of the range in Roskam's book, value clipped\n",
      "INFO    : Entering mission computation\n",
      "INFO    : Entering mission computation\n",
      "INFO    : Entering mission computation\n",
      "WARNING : Looping on wing area with new value equal to [15.8216539]\n",
      "WARNING : Area ratio value outside of the range in Roskam's book, value clipped\n"
     ]
    },
    {
     "name": "stdout",
     "output_type": "stream",
     "text": [
      "NL: NLBGS 5 ; 73026.5156 49.4904694\n"
     ]
    },
    {
     "name": "stderr",
     "output_type": "stream",
     "text": [
      "WARNING : Chord ratio value outside of the range in Roskam's book, value clipped\n",
      "WARNING : Chord ratio value outside of the range in Roskam's book, value clipped\n",
      "WARNING : Chord ratio value outside of the range in Roskam's book, value clipped\n",
      "WARNING : Chord ratio value outside of the range in Roskam's book, value clipped\n",
      "WARNING : Area ratio value outside of the range in Roskam's book, value clipped\n",
      "INFO    : Entering mission computation\n",
      "INFO    : Entering mission computation\n",
      "INFO    : Entering mission computation\n",
      "WARNING : Looping on wing area with new value equal to [15.78535326]\n",
      "WARNING : Area ratio value outside of the range in Roskam's book, value clipped\n"
     ]
    },
    {
     "name": "stdout",
     "output_type": "stream",
     "text": [
      "NL: NLBGS 6 ; 37685.9359 25.5399651\n"
     ]
    },
    {
     "name": "stderr",
     "output_type": "stream",
     "text": [
      "WARNING : Chord ratio value outside of the range in Roskam's book, value clipped\n",
      "WARNING : Chord ratio value outside of the range in Roskam's book, value clipped\n",
      "WARNING : Chord ratio value outside of the range in Roskam's book, value clipped\n",
      "WARNING : Chord ratio value outside of the range in Roskam's book, value clipped\n",
      "WARNING : Area ratio value outside of the range in Roskam's book, value clipped\n",
      "INFO    : Entering mission computation\n",
      "INFO    : Entering mission computation\n",
      "INFO    : Entering mission computation\n",
      "WARNING : Looping on wing area with new value equal to [15.76326608]\n",
      "WARNING : Area ratio value outside of the range in Roskam's book, value clipped\n"
     ]
    },
    {
     "name": "stdout",
     "output_type": "stream",
     "text": [
      "NL: NLBGS 7 ; 28152.5695 19.0791505\n"
     ]
    },
    {
     "name": "stderr",
     "output_type": "stream",
     "text": [
      "WARNING : Chord ratio value outside of the range in Roskam's book, value clipped\n",
      "WARNING : Chord ratio value outside of the range in Roskam's book, value clipped\n",
      "WARNING : Chord ratio value outside of the range in Roskam's book, value clipped\n",
      "WARNING : Chord ratio value outside of the range in Roskam's book, value clipped\n",
      "WARNING : Area ratio value outside of the range in Roskam's book, value clipped\n",
      "INFO    : Entering mission computation\n",
      "INFO    : Entering mission computation\n",
      "INFO    : Entering mission computation\n",
      "WARNING : Looping on wing area with new value equal to [15.74941267]\n",
      "WARNING : Area ratio value outside of the range in Roskam's book, value clipped\n"
     ]
    },
    {
     "name": "stdout",
     "output_type": "stream",
     "text": [
      "NL: NLBGS 8 ; 17949.958 12.1647848\n"
     ]
    },
    {
     "name": "stderr",
     "output_type": "stream",
     "text": [
      "WARNING : Chord ratio value outside of the range in Roskam's book, value clipped\n",
      "WARNING : Chord ratio value outside of the range in Roskam's book, value clipped\n",
      "WARNING : Chord ratio value outside of the range in Roskam's book, value clipped\n",
      "WARNING : Chord ratio value outside of the range in Roskam's book, value clipped\n",
      "WARNING : Area ratio value outside of the range in Roskam's book, value clipped\n",
      "INFO    : Entering mission computation\n",
      "INFO    : Entering mission computation\n",
      "INFO    : Entering mission computation\n",
      "WARNING : Looping on wing area with new value equal to [15.74115044]\n",
      "WARNING : Area ratio value outside of the range in Roskam's book, value clipped\n"
     ]
    },
    {
     "name": "stdout",
     "output_type": "stream",
     "text": [
      "NL: NLBGS 9 ; 9829.07699 6.66121929\n"
     ]
    },
    {
     "name": "stderr",
     "output_type": "stream",
     "text": [
      "WARNING : Chord ratio value outside of the range in Roskam's book, value clipped\n",
      "WARNING : Chord ratio value outside of the range in Roskam's book, value clipped\n",
      "WARNING : Chord ratio value outside of the range in Roskam's book, value clipped\n",
      "WARNING : Chord ratio value outside of the range in Roskam's book, value clipped\n",
      "WARNING : Area ratio value outside of the range in Roskam's book, value clipped\n",
      "INFO    : Entering mission computation\n",
      "INFO    : Entering mission computation\n",
      "INFO    : Entering mission computation\n",
      "WARNING : Looping on wing area with new value equal to [15.73645556]\n",
      "WARNING : Area ratio value outside of the range in Roskam's book, value clipped\n"
     ]
    },
    {
     "name": "stdout",
     "output_type": "stream",
     "text": [
      "NL: NLBGS 10 ; 5284.05339 3.58103191\n"
     ]
    },
    {
     "name": "stderr",
     "output_type": "stream",
     "text": [
      "WARNING : Chord ratio value outside of the range in Roskam's book, value clipped\n",
      "WARNING : Chord ratio value outside of the range in Roskam's book, value clipped\n",
      "WARNING : Chord ratio value outside of the range in Roskam's book, value clipped\n",
      "WARNING : Chord ratio value outside of the range in Roskam's book, value clipped\n",
      "WARNING : Area ratio value outside of the range in Roskam's book, value clipped\n",
      "INFO    : Entering mission computation\n",
      "INFO    : Entering mission computation\n",
      "INFO    : Entering mission computation\n",
      "WARNING : Looping on wing area with new value equal to [15.73404192]\n",
      "WARNING : Area ratio value outside of the range in Roskam's book, value clipped\n"
     ]
    },
    {
     "name": "stdout",
     "output_type": "stream",
     "text": [
      "NL: NLBGS 11 ; 2761.58303 1.87153994\n"
     ]
    },
    {
     "name": "stderr",
     "output_type": "stream",
     "text": [
      "WARNING : Chord ratio value outside of the range in Roskam's book, value clipped\n",
      "WARNING : Chord ratio value outside of the range in Roskam's book, value clipped\n",
      "WARNING : Chord ratio value outside of the range in Roskam's book, value clipped\n",
      "WARNING : Chord ratio value outside of the range in Roskam's book, value clipped\n",
      "WARNING : Area ratio value outside of the range in Roskam's book, value clipped\n",
      "INFO    : Entering mission computation\n",
      "INFO    : Entering mission computation\n",
      "INFO    : Entering mission computation\n",
      "WARNING : Looping on wing area with new value equal to [15.73272414]\n",
      "WARNING : Area ratio value outside of the range in Roskam's book, value clipped\n"
     ]
    },
    {
     "name": "stdout",
     "output_type": "stream",
     "text": [
      "NL: NLBGS 12 ; 1363.41717 0.923995282\n"
     ]
    },
    {
     "name": "stderr",
     "output_type": "stream",
     "text": [
      "WARNING : Chord ratio value outside of the range in Roskam's book, value clipped\n",
      "WARNING : Chord ratio value outside of the range in Roskam's book, value clipped\n",
      "WARNING : Chord ratio value outside of the range in Roskam's book, value clipped\n",
      "WARNING : Chord ratio value outside of the range in Roskam's book, value clipped\n",
      "WARNING : Area ratio value outside of the range in Roskam's book, value clipped\n",
      "INFO    : Entering mission computation\n",
      "INFO    : Entering mission computation\n",
      "INFO    : Entering mission computation\n",
      "WARNING : Looping on wing area with new value equal to [15.73215072]\n",
      "WARNING : Area ratio value outside of the range in Roskam's book, value clipped\n"
     ]
    },
    {
     "name": "stdout",
     "output_type": "stream",
     "text": [
      "NL: NLBGS 13 ; 630.709203 0.42743508\n"
     ]
    },
    {
     "name": "stderr",
     "output_type": "stream",
     "text": [
      "WARNING : Chord ratio value outside of the range in Roskam's book, value clipped\n",
      "WARNING : Chord ratio value outside of the range in Roskam's book, value clipped\n",
      "WARNING : Chord ratio value outside of the range in Roskam's book, value clipped\n",
      "WARNING : Chord ratio value outside of the range in Roskam's book, value clipped\n",
      "WARNING : Area ratio value outside of the range in Roskam's book, value clipped\n",
      "INFO    : Entering mission computation\n",
      "INFO    : Entering mission computation\n",
      "INFO    : Entering mission computation\n",
      "WARNING : Looping on wing area with new value equal to [15.73186571]\n",
      "WARNING : Area ratio value outside of the range in Roskam's book, value clipped\n"
     ]
    },
    {
     "name": "stdout",
     "output_type": "stream",
     "text": [
      "NL: NLBGS 14 ; 278.355535 0.18864307\n"
     ]
    },
    {
     "name": "stderr",
     "output_type": "stream",
     "text": [
      "WARNING : Chord ratio value outside of the range in Roskam's book, value clipped\n",
      "WARNING : Chord ratio value outside of the range in Roskam's book, value clipped\n",
      "WARNING : Chord ratio value outside of the range in Roskam's book, value clipped\n",
      "WARNING : Chord ratio value outside of the range in Roskam's book, value clipped\n",
      "WARNING : Area ratio value outside of the range in Roskam's book, value clipped\n",
      "INFO    : Entering mission computation\n",
      "INFO    : Entering mission computation\n",
      "INFO    : Entering mission computation\n",
      "WARNING : Looping on wing area with new value equal to [15.73175078]\n",
      "WARNING : Area ratio value outside of the range in Roskam's book, value clipped\n"
     ]
    },
    {
     "name": "stdout",
     "output_type": "stream",
     "text": [
      "NL: NLBGS 15 ; 112.49923 0.0762413442\n"
     ]
    },
    {
     "name": "stderr",
     "output_type": "stream",
     "text": [
      "WARNING : Chord ratio value outside of the range in Roskam's book, value clipped\n",
      "WARNING : Chord ratio value outside of the range in Roskam's book, value clipped\n",
      "WARNING : Chord ratio value outside of the range in Roskam's book, value clipped\n",
      "WARNING : Chord ratio value outside of the range in Roskam's book, value clipped\n",
      "WARNING : Area ratio value outside of the range in Roskam's book, value clipped\n",
      "INFO    : Entering mission computation\n",
      "INFO    : Entering mission computation\n",
      "INFO    : Entering mission computation\n",
      "WARNING : Looping on wing area with new value equal to [15.73171116]\n",
      "WARNING : Area ratio value outside of the range in Roskam's book, value clipped\n"
     ]
    },
    {
     "name": "stdout",
     "output_type": "stream",
     "text": [
      "NL: NLBGS 16 ; 48.8068432 0.0330766649\n"
     ]
    },
    {
     "name": "stderr",
     "output_type": "stream",
     "text": [
      "WARNING : Chord ratio value outside of the range in Roskam's book, value clipped\n",
      "WARNING : Chord ratio value outside of the range in Roskam's book, value clipped\n",
      "WARNING : Chord ratio value outside of the range in Roskam's book, value clipped\n",
      "WARNING : Chord ratio value outside of the range in Roskam's book, value clipped\n",
      "WARNING : Area ratio value outside of the range in Roskam's book, value clipped\n",
      "INFO    : Entering mission computation\n",
      "INFO    : Entering mission computation\n",
      "INFO    : Entering mission computation\n",
      "WARNING : Looping on wing area with new value equal to [15.73170426]\n",
      "WARNING : Area ratio value outside of the range in Roskam's book, value clipped\n"
     ]
    },
    {
     "name": "stdout",
     "output_type": "stream",
     "text": [
      "NL: NLBGS 17 ; 26.0938509 0.0176839456\n"
     ]
    },
    {
     "name": "stderr",
     "output_type": "stream",
     "text": [
      "WARNING : Chord ratio value outside of the range in Roskam's book, value clipped\n",
      "WARNING : Chord ratio value outside of the range in Roskam's book, value clipped\n",
      "WARNING : Chord ratio value outside of the range in Roskam's book, value clipped\n",
      "WARNING : Chord ratio value outside of the range in Roskam's book, value clipped\n",
      "WARNING : Area ratio value outside of the range in Roskam's book, value clipped\n",
      "INFO    : Entering mission computation\n",
      "INFO    : Entering mission computation\n",
      "INFO    : Entering mission computation\n",
      "WARNING : Looping on wing area with new value equal to [15.73170825]\n",
      "WARNING : Area ratio value outside of the range in Roskam's book, value clipped\n"
     ]
    },
    {
     "name": "stdout",
     "output_type": "stream",
     "text": [
      "NL: NLBGS 18 ; 18.1690072 0.0123132357\n"
     ]
    },
    {
     "name": "stderr",
     "output_type": "stream",
     "text": [
      "WARNING : Chord ratio value outside of the range in Roskam's book, value clipped\n",
      "WARNING : Chord ratio value outside of the range in Roskam's book, value clipped\n",
      "WARNING : Chord ratio value outside of the range in Roskam's book, value clipped\n",
      "WARNING : Chord ratio value outside of the range in Roskam's book, value clipped\n",
      "WARNING : Area ratio value outside of the range in Roskam's book, value clipped\n",
      "INFO    : Entering mission computation\n",
      "INFO    : Entering mission computation\n",
      "INFO    : Entering mission computation\n",
      "WARNING : Looping on wing area with new value equal to [15.731715]\n",
      "WARNING : Area ratio value outside of the range in Roskam's book, value clipped\n"
     ]
    },
    {
     "name": "stdout",
     "output_type": "stream",
     "text": [
      "NL: NLBGS 19 ; 13.5817014 0.00920439338\n"
     ]
    },
    {
     "name": "stderr",
     "output_type": "stream",
     "text": [
      "WARNING : Chord ratio value outside of the range in Roskam's book, value clipped\n",
      "WARNING : Chord ratio value outside of the range in Roskam's book, value clipped\n",
      "WARNING : Chord ratio value outside of the range in Roskam's book, value clipped\n",
      "WARNING : Chord ratio value outside of the range in Roskam's book, value clipped\n",
      "WARNING : Area ratio value outside of the range in Roskam's book, value clipped\n",
      "INFO    : Entering mission computation\n",
      "INFO    : Entering mission computation\n",
      "INFO    : Entering mission computation\n",
      "WARNING : Looping on wing area with new value equal to [15.73172093]\n",
      "WARNING : Area ratio value outside of the range in Roskam's book, value clipped\n"
     ]
    },
    {
     "name": "stdout",
     "output_type": "stream",
     "text": [
      "NL: NLBGS 20 ; 9.20483085 0.00623816426\n"
     ]
    },
    {
     "name": "stderr",
     "output_type": "stream",
     "text": [
      "WARNING : Chord ratio value outside of the range in Roskam's book, value clipped\n",
      "WARNING : Chord ratio value outside of the range in Roskam's book, value clipped\n",
      "WARNING : Chord ratio value outside of the range in Roskam's book, value clipped\n",
      "WARNING : Chord ratio value outside of the range in Roskam's book, value clipped\n",
      "WARNING : Area ratio value outside of the range in Roskam's book, value clipped\n",
      "INFO    : Entering mission computation\n",
      "INFO    : Entering mission computation\n",
      "INFO    : Entering mission computation\n",
      "WARNING : Looping on wing area with new value equal to [15.73172531]\n",
      "WARNING : Area ratio value outside of the range in Roskam's book, value clipped\n"
     ]
    },
    {
     "name": "stdout",
     "output_type": "stream",
     "text": [
      "NL: NLBGS 21 ; 5.98428553 0.00405558307\n"
     ]
    },
    {
     "name": "stderr",
     "output_type": "stream",
     "text": [
      "WARNING : Chord ratio value outside of the range in Roskam's book, value clipped\n",
      "WARNING : Chord ratio value outside of the range in Roskam's book, value clipped\n",
      "WARNING : Chord ratio value outside of the range in Roskam's book, value clipped\n",
      "WARNING : Chord ratio value outside of the range in Roskam's book, value clipped\n",
      "WARNING : Area ratio value outside of the range in Roskam's book, value clipped\n",
      "INFO    : Entering mission computation\n",
      "INFO    : Entering mission computation\n",
      "INFO    : Entering mission computation\n",
      "WARNING : Looping on wing area with new value equal to [15.73172833]\n",
      "WARNING : Area ratio value outside of the range in Roskam's book, value clipped\n"
     ]
    },
    {
     "name": "stdout",
     "output_type": "stream",
     "text": [
      "NL: NLBGS 22 ; 3.74500261 0.00253800877\n"
     ]
    },
    {
     "name": "stderr",
     "output_type": "stream",
     "text": [
      "WARNING : Chord ratio value outside of the range in Roskam's book, value clipped\n",
      "WARNING : Chord ratio value outside of the range in Roskam's book, value clipped\n",
      "WARNING : Chord ratio value outside of the range in Roskam's book, value clipped\n",
      "WARNING : Chord ratio value outside of the range in Roskam's book, value clipped\n",
      "WARNING : Area ratio value outside of the range in Roskam's book, value clipped\n",
      "INFO    : Entering mission computation\n",
      "INFO    : Entering mission computation\n",
      "INFO    : Entering mission computation\n",
      "WARNING : Looping on wing area with new value equal to [15.73173022]\n",
      "WARNING : Area ratio value outside of the range in Roskam's book, value clipped\n"
     ]
    },
    {
     "name": "stdout",
     "output_type": "stream",
     "text": [
      "NL: NLBGS 23 ; 2.19808384 0.00148965345\n"
     ]
    },
    {
     "name": "stderr",
     "output_type": "stream",
     "text": [
      "WARNING : Chord ratio value outside of the range in Roskam's book, value clipped\n",
      "WARNING : Chord ratio value outside of the range in Roskam's book, value clipped\n",
      "WARNING : Chord ratio value outside of the range in Roskam's book, value clipped\n",
      "WARNING : Chord ratio value outside of the range in Roskam's book, value clipped\n",
      "WARNING : Area ratio value outside of the range in Roskam's book, value clipped\n",
      "INFO    : Entering mission computation\n",
      "INFO    : Entering mission computation\n",
      "INFO    : Entering mission computation\n",
      "WARNING : Looping on wing area with new value equal to [15.73173122]\n"
     ]
    },
    {
     "name": "stdout",
     "output_type": "stream",
     "text": [
      "NL: NLBGS 24 ; 1.23187921 0.000834851288\n",
      "NL: NLBGS Converged\n"
     ]
    },
    {
     "name": "stderr",
     "output_type": "stream",
     "text": [
      "WARNING : Ratio of span on fuselage depth outside of the range in Roskam's book, value clipped\n",
      "WARNING : Area ratio value outside of the range in Roskam's book, value clipped\n",
      "WARNING : Chord ratio value outside of the range in Roskam's book, value clipped\n",
      "WARNING : Chord ratio value outside of the range in Roskam's book, value clipped\n",
      "WARNING : Chord ratio value outside of the range in Roskam's book, value clipped\n",
      "WARNING : Chord ratio value outside of the range in Roskam's book, value clipped\n",
      "WARNING : Ratio of span on fuselage depth outside of the range in Roskam's book, value clipped\n",
      "WARNING : Area ratio value outside of the range in Roskam's book, value clipped\n",
      "INFO    : Entering mission computation\n",
      "INFO    : Entering mission computation\n",
      "INFO    : Entering mission computation\n",
      "WARNING : Looping on wing area with new value equal to [15.73173187]\n",
      "WARNING : Ratio of span on fuselage depth outside of the range in Roskam's book, value clipped\n",
      "WARNING : Area ratio value outside of the range in Roskam's book, value clipped\n"
     ]
    },
    {
     "name": "stdout",
     "output_type": "stream",
     "text": [
      "NL: NLBGS 1 ; 407.971626 1\n"
     ]
    },
    {
     "name": "stderr",
     "output_type": "stream",
     "text": [
      "WARNING : Chord ratio value outside of the range in Roskam's book, value clipped\n",
      "WARNING : Chord ratio value outside of the range in Roskam's book, value clipped\n",
      "WARNING : Chord ratio value outside of the range in Roskam's book, value clipped\n",
      "WARNING : Chord ratio value outside of the range in Roskam's book, value clipped\n",
      "WARNING : Ratio of span on fuselage depth outside of the range in Roskam's book, value clipped\n",
      "WARNING : Area ratio value outside of the range in Roskam's book, value clipped\n",
      "INFO    : Entering mission computation\n",
      "INFO    : Entering mission computation\n",
      "INFO    : Entering mission computation\n",
      "WARNING : Looping on wing area with new value equal to [15.83065883]\n",
      "WARNING : Ratio of span on fuselage depth outside of the range in Roskam's book, value clipped\n",
      "WARNING : Area ratio value outside of the range in Roskam's book, value clipped\n"
     ]
    },
    {
     "name": "stdout",
     "output_type": "stream",
     "text": [
      "NL: NLBGS 2 ; 365016.493 894.71049\n"
     ]
    },
    {
     "name": "stderr",
     "output_type": "stream",
     "text": [
      "WARNING : Chord ratio value outside of the range in Roskam's book, value clipped\n",
      "WARNING : Chord ratio value outside of the range in Roskam's book, value clipped\n",
      "WARNING : Chord ratio value outside of the range in Roskam's book, value clipped\n",
      "WARNING : Chord ratio value outside of the range in Roskam's book, value clipped\n",
      "WARNING : Ratio of span on fuselage depth outside of the range in Roskam's book, value clipped\n",
      "WARNING : Area ratio value outside of the range in Roskam's book, value clipped\n",
      "INFO    : Entering mission computation\n",
      "INFO    : Entering mission computation\n",
      "INFO    : Entering mission computation\n",
      "WARNING : Looping on wing area with new value equal to [15.80850096]\n",
      "WARNING : Ratio of span on fuselage depth outside of the range in Roskam's book, value clipped\n",
      "WARNING : Area ratio value outside of the range in Roskam's book, value clipped\n"
     ]
    },
    {
     "name": "stdout",
     "output_type": "stream",
     "text": [
      "NL: NLBGS 3 ; 38951.9989 95.4772254\n"
     ]
    },
    {
     "name": "stderr",
     "output_type": "stream",
     "text": [
      "WARNING : Chord ratio value outside of the range in Roskam's book, value clipped\n",
      "WARNING : Chord ratio value outside of the range in Roskam's book, value clipped\n",
      "WARNING : Chord ratio value outside of the range in Roskam's book, value clipped\n",
      "WARNING : Chord ratio value outside of the range in Roskam's book, value clipped\n",
      "WARNING : Ratio of span on fuselage depth outside of the range in Roskam's book, value clipped\n",
      "WARNING : Area ratio value outside of the range in Roskam's book, value clipped\n",
      "INFO    : Entering mission computation\n",
      "INFO    : Entering mission computation\n",
      "INFO    : Entering mission computation\n",
      "WARNING : Looping on wing area with new value equal to [15.80478395]\n",
      "WARNING : Ratio of span on fuselage depth outside of the range in Roskam's book, value clipped\n",
      "WARNING : Area ratio value outside of the range in Roskam's book, value clipped\n"
     ]
    },
    {
     "name": "stdout",
     "output_type": "stream",
     "text": [
      "NL: NLBGS 4 ; 55223.1377 135.360241\n"
     ]
    },
    {
     "name": "stderr",
     "output_type": "stream",
     "text": [
      "WARNING : Chord ratio value outside of the range in Roskam's book, value clipped\n",
      "WARNING : Chord ratio value outside of the range in Roskam's book, value clipped\n",
      "WARNING : Chord ratio value outside of the range in Roskam's book, value clipped\n",
      "WARNING : Chord ratio value outside of the range in Roskam's book, value clipped\n",
      "WARNING : Ratio of span on fuselage depth outside of the range in Roskam's book, value clipped\n",
      "WARNING : Area ratio value outside of the range in Roskam's book, value clipped\n",
      "INFO    : Entering mission computation\n",
      "INFO    : Entering mission computation\n",
      "INFO    : Entering mission computation\n",
      "WARNING : Looping on wing area with new value equal to [15.81095777]\n",
      "WARNING : Ratio of span on fuselage depth outside of the range in Roskam's book, value clipped\n",
      "WARNING : Area ratio value outside of the range in Roskam's book, value clipped\n"
     ]
    },
    {
     "name": "stdout",
     "output_type": "stream",
     "text": [
      "NL: NLBGS 5 ; 14045.6505 34.4280082\n"
     ]
    },
    {
     "name": "stderr",
     "output_type": "stream",
     "text": [
      "WARNING : Chord ratio value outside of the range in Roskam's book, value clipped\n",
      "WARNING : Chord ratio value outside of the range in Roskam's book, value clipped\n",
      "WARNING : Chord ratio value outside of the range in Roskam's book, value clipped\n",
      "WARNING : Chord ratio value outside of the range in Roskam's book, value clipped\n",
      "WARNING : Ratio of span on fuselage depth outside of the range in Roskam's book, value clipped\n",
      "WARNING : Area ratio value outside of the range in Roskam's book, value clipped\n",
      "INFO    : Entering mission computation\n",
      "INFO    : Entering mission computation\n",
      "INFO    : Entering mission computation\n",
      "WARNING : Looping on wing area with new value equal to [15.8170121]\n",
      "WARNING : Ratio of span on fuselage depth outside of the range in Roskam's book, value clipped\n",
      "WARNING : Area ratio value outside of the range in Roskam's book, value clipped\n"
     ]
    },
    {
     "name": "stdout",
     "output_type": "stream",
     "text": [
      "NL: NLBGS 6 ; 5792.77921 14.1989757\n"
     ]
    },
    {
     "name": "stderr",
     "output_type": "stream",
     "text": [
      "WARNING : Chord ratio value outside of the range in Roskam's book, value clipped\n",
      "WARNING : Chord ratio value outside of the range in Roskam's book, value clipped\n",
      "WARNING : Chord ratio value outside of the range in Roskam's book, value clipped\n",
      "WARNING : Chord ratio value outside of the range in Roskam's book, value clipped\n",
      "WARNING : Ratio of span on fuselage depth outside of the range in Roskam's book, value clipped\n",
      "WARNING : Area ratio value outside of the range in Roskam's book, value clipped\n",
      "INFO    : Entering mission computation\n",
      "INFO    : Entering mission computation\n",
      "INFO    : Entering mission computation\n",
      "WARNING : Looping on wing area with new value equal to [15.8207492]\n",
      "WARNING : Ratio of span on fuselage depth outside of the range in Roskam's book, value clipped\n",
      "WARNING : Area ratio value outside of the range in Roskam's book, value clipped\n"
     ]
    },
    {
     "name": "stdout",
     "output_type": "stream",
     "text": [
      "NL: NLBGS 7 ; 4717.77356 11.5639747\n"
     ]
    },
    {
     "name": "stderr",
     "output_type": "stream",
     "text": [
      "WARNING : Chord ratio value outside of the range in Roskam's book, value clipped\n",
      "WARNING : Chord ratio value outside of the range in Roskam's book, value clipped\n",
      "WARNING : Chord ratio value outside of the range in Roskam's book, value clipped\n",
      "WARNING : Chord ratio value outside of the range in Roskam's book, value clipped\n",
      "WARNING : Ratio of span on fuselage depth outside of the range in Roskam's book, value clipped\n",
      "WARNING : Area ratio value outside of the range in Roskam's book, value clipped\n",
      "INFO    : Entering mission computation\n",
      "INFO    : Entering mission computation\n",
      "INFO    : Entering mission computation\n",
      "WARNING : Looping on wing area with new value equal to [15.82316909]\n",
      "WARNING : Ratio of span on fuselage depth outside of the range in Roskam's book, value clipped\n",
      "WARNING : Area ratio value outside of the range in Roskam's book, value clipped\n"
     ]
    },
    {
     "name": "stdout",
     "output_type": "stream",
     "text": [
      "NL: NLBGS 8 ; 3209.71175 7.86748771\n"
     ]
    },
    {
     "name": "stderr",
     "output_type": "stream",
     "text": [
      "WARNING : Chord ratio value outside of the range in Roskam's book, value clipped\n",
      "WARNING : Chord ratio value outside of the range in Roskam's book, value clipped\n",
      "WARNING : Chord ratio value outside of the range in Roskam's book, value clipped\n",
      "WARNING : Chord ratio value outside of the range in Roskam's book, value clipped\n",
      "WARNING : Ratio of span on fuselage depth outside of the range in Roskam's book, value clipped\n",
      "WARNING : Area ratio value outside of the range in Roskam's book, value clipped\n",
      "INFO    : Entering mission computation\n",
      "INFO    : Entering mission computation\n",
      "INFO    : Entering mission computation\n",
      "WARNING : Looping on wing area with new value equal to [15.82470139]\n",
      "WARNING : Ratio of span on fuselage depth outside of the range in Roskam's book, value clipped\n",
      "WARNING : Area ratio value outside of the range in Roskam's book, value clipped\n"
     ]
    },
    {
     "name": "stdout",
     "output_type": "stream",
     "text": [
      "NL: NLBGS 9 ; 1771.01546 4.34102606\n"
     ]
    },
    {
     "name": "stderr",
     "output_type": "stream",
     "text": [
      "WARNING : Chord ratio value outside of the range in Roskam's book, value clipped\n",
      "WARNING : Chord ratio value outside of the range in Roskam's book, value clipped\n",
      "WARNING : Chord ratio value outside of the range in Roskam's book, value clipped\n",
      "WARNING : Chord ratio value outside of the range in Roskam's book, value clipped\n",
      "WARNING : Ratio of span on fuselage depth outside of the range in Roskam's book, value clipped\n",
      "WARNING : Area ratio value outside of the range in Roskam's book, value clipped\n",
      "INFO    : Entering mission computation\n",
      "INFO    : Entering mission computation\n",
      "INFO    : Entering mission computation\n",
      "WARNING : Looping on wing area with new value equal to [15.82560795]\n",
      "WARNING : Ratio of span on fuselage depth outside of the range in Roskam's book, value clipped\n",
      "WARNING : Area ratio value outside of the range in Roskam's book, value clipped\n"
     ]
    },
    {
     "name": "stdout",
     "output_type": "stream",
     "text": [
      "NL: NLBGS 10 ; 971.358691 2.38094669\n"
     ]
    },
    {
     "name": "stderr",
     "output_type": "stream",
     "text": [
      "WARNING : Chord ratio value outside of the range in Roskam's book, value clipped\n",
      "WARNING : Chord ratio value outside of the range in Roskam's book, value clipped\n",
      "WARNING : Chord ratio value outside of the range in Roskam's book, value clipped\n",
      "WARNING : Chord ratio value outside of the range in Roskam's book, value clipped\n",
      "WARNING : Ratio of span on fuselage depth outside of the range in Roskam's book, value clipped\n",
      "WARNING : Area ratio value outside of the range in Roskam's book, value clipped\n",
      "INFO    : Entering mission computation\n",
      "INFO    : Entering mission computation\n",
      "INFO    : Entering mission computation\n",
      "WARNING : Looping on wing area with new value equal to [15.82607007]\n",
      "WARNING : Ratio of span on fuselage depth outside of the range in Roskam's book, value clipped\n",
      "WARNING : Area ratio value outside of the range in Roskam's book, value clipped\n"
     ]
    },
    {
     "name": "stdout",
     "output_type": "stream",
     "text": [
      "NL: NLBGS 11 ; 534.005595 1.30892827\n"
     ]
    },
    {
     "name": "stderr",
     "output_type": "stream",
     "text": [
      "WARNING : Chord ratio value outside of the range in Roskam's book, value clipped\n",
      "WARNING : Chord ratio value outside of the range in Roskam's book, value clipped\n",
      "WARNING : Chord ratio value outside of the range in Roskam's book, value clipped\n",
      "WARNING : Chord ratio value outside of the range in Roskam's book, value clipped\n",
      "WARNING : Ratio of span on fuselage depth outside of the range in Roskam's book, value clipped\n",
      "WARNING : Area ratio value outside of the range in Roskam's book, value clipped\n",
      "INFO    : Entering mission computation\n",
      "INFO    : Entering mission computation\n",
      "INFO    : Entering mission computation\n",
      "WARNING : Looping on wing area with new value equal to [15.8263154]\n",
      "WARNING : Ratio of span on fuselage depth outside of the range in Roskam's book, value clipped\n",
      "WARNING : Area ratio value outside of the range in Roskam's book, value clipped\n"
     ]
    },
    {
     "name": "stdout",
     "output_type": "stream",
     "text": [
      "NL: NLBGS 12 ; 275.284903 0.674764827\n"
     ]
    },
    {
     "name": "stderr",
     "output_type": "stream",
     "text": [
      "WARNING : Chord ratio value outside of the range in Roskam's book, value clipped\n",
      "WARNING : Chord ratio value outside of the range in Roskam's book, value clipped\n",
      "WARNING : Chord ratio value outside of the range in Roskam's book, value clipped\n",
      "WARNING : Chord ratio value outside of the range in Roskam's book, value clipped\n",
      "WARNING : Ratio of span on fuselage depth outside of the range in Roskam's book, value clipped\n",
      "WARNING : Area ratio value outside of the range in Roskam's book, value clipped\n",
      "INFO    : Entering mission computation\n",
      "INFO    : Entering mission computation\n",
      "INFO    : Entering mission computation\n",
      "WARNING : Looping on wing area with new value equal to [15.82644758]\n",
      "WARNING : Ratio of span on fuselage depth outside of the range in Roskam's book, value clipped\n",
      "WARNING : Area ratio value outside of the range in Roskam's book, value clipped\n"
     ]
    },
    {
     "name": "stdout",
     "output_type": "stream",
     "text": [
      "NL: NLBGS 13 ; 126.647861 0.310433013\n"
     ]
    },
    {
     "name": "stderr",
     "output_type": "stream",
     "text": [
      "WARNING : Chord ratio value outside of the range in Roskam's book, value clipped\n",
      "WARNING : Chord ratio value outside of the range in Roskam's book, value clipped\n",
      "WARNING : Chord ratio value outside of the range in Roskam's book, value clipped\n",
      "WARNING : Chord ratio value outside of the range in Roskam's book, value clipped\n",
      "WARNING : Ratio of span on fuselage depth outside of the range in Roskam's book, value clipped\n",
      "WARNING : Area ratio value outside of the range in Roskam's book, value clipped\n",
      "INFO    : Entering mission computation\n",
      "INFO    : Entering mission computation\n",
      "INFO    : Entering mission computation\n",
      "WARNING : Looping on wing area with new value equal to [15.82651215]\n",
      "WARNING : Ratio of span on fuselage depth outside of the range in Roskam's book, value clipped\n",
      "WARNING : Area ratio value outside of the range in Roskam's book, value clipped\n"
     ]
    },
    {
     "name": "stdout",
     "output_type": "stream",
     "text": [
      "NL: NLBGS 14 ; 59.7768461 0.146522068\n"
     ]
    },
    {
     "name": "stderr",
     "output_type": "stream",
     "text": [
      "WARNING : Chord ratio value outside of the range in Roskam's book, value clipped\n",
      "WARNING : Chord ratio value outside of the range in Roskam's book, value clipped\n",
      "WARNING : Chord ratio value outside of the range in Roskam's book, value clipped\n",
      "WARNING : Chord ratio value outside of the range in Roskam's book, value clipped\n",
      "WARNING : Ratio of span on fuselage depth outside of the range in Roskam's book, value clipped\n",
      "WARNING : Area ratio value outside of the range in Roskam's book, value clipped\n",
      "INFO    : Entering mission computation\n",
      "INFO    : Entering mission computation\n",
      "INFO    : Entering mission computation\n",
      "WARNING : Looping on wing area with new value equal to [15.82654227]\n",
      "WARNING : Ratio of span on fuselage depth outside of the range in Roskam's book, value clipped\n",
      "WARNING : Area ratio value outside of the range in Roskam's book, value clipped\n"
     ]
    },
    {
     "name": "stdout",
     "output_type": "stream",
     "text": [
      "NL: NLBGS 15 ; 28.2611672 0.0692723841\n"
     ]
    },
    {
     "name": "stderr",
     "output_type": "stream",
     "text": [
      "WARNING : Chord ratio value outside of the range in Roskam's book, value clipped\n",
      "WARNING : Chord ratio value outside of the range in Roskam's book, value clipped\n",
      "WARNING : Chord ratio value outside of the range in Roskam's book, value clipped\n",
      "WARNING : Chord ratio value outside of the range in Roskam's book, value clipped\n",
      "WARNING : Ratio of span on fuselage depth outside of the range in Roskam's book, value clipped\n",
      "WARNING : Area ratio value outside of the range in Roskam's book, value clipped\n",
      "INFO    : Entering mission computation\n",
      "INFO    : Entering mission computation\n",
      "INFO    : Entering mission computation\n",
      "WARNING : Looping on wing area with new value equal to [15.82655522]\n",
      "WARNING : Ratio of span on fuselage depth outside of the range in Roskam's book, value clipped\n",
      "WARNING : Area ratio value outside of the range in Roskam's book, value clipped\n"
     ]
    },
    {
     "name": "stdout",
     "output_type": "stream",
     "text": [
      "NL: NLBGS 16 ; 12.3442353 0.030257583\n"
     ]
    },
    {
     "name": "stderr",
     "output_type": "stream",
     "text": [
      "WARNING : Chord ratio value outside of the range in Roskam's book, value clipped\n",
      "WARNING : Chord ratio value outside of the range in Roskam's book, value clipped\n",
      "WARNING : Chord ratio value outside of the range in Roskam's book, value clipped\n",
      "WARNING : Chord ratio value outside of the range in Roskam's book, value clipped\n",
      "WARNING : Ratio of span on fuselage depth outside of the range in Roskam's book, value clipped\n",
      "WARNING : Area ratio value outside of the range in Roskam's book, value clipped\n",
      "INFO    : Entering mission computation\n",
      "INFO    : Entering mission computation\n",
      "INFO    : Entering mission computation\n",
      "WARNING : Looping on wing area with new value equal to [15.82656026]\n",
      "WARNING : Ratio of span on fuselage depth outside of the range in Roskam's book, value clipped\n",
      "WARNING : Area ratio value outside of the range in Roskam's book, value clipped\n"
     ]
    },
    {
     "name": "stdout",
     "output_type": "stream",
     "text": [
      "NL: NLBGS 17 ; 5.12325722 0.0125578763\n"
     ]
    },
    {
     "name": "stderr",
     "output_type": "stream",
     "text": [
      "WARNING : Chord ratio value outside of the range in Roskam's book, value clipped\n",
      "WARNING : Chord ratio value outside of the range in Roskam's book, value clipped\n",
      "WARNING : Chord ratio value outside of the range in Roskam's book, value clipped\n",
      "WARNING : Chord ratio value outside of the range in Roskam's book, value clipped\n",
      "WARNING : Ratio of span on fuselage depth outside of the range in Roskam's book, value clipped\n",
      "WARNING : Area ratio value outside of the range in Roskam's book, value clipped\n",
      "INFO    : Entering mission computation\n",
      "INFO    : Entering mission computation\n",
      "INFO    : Entering mission computation\n",
      "WARNING : Looping on wing area with new value equal to [15.82656192]\n",
      "WARNING : Ratio of span on fuselage depth outside of the range in Roskam's book, value clipped\n",
      "WARNING : Area ratio value outside of the range in Roskam's book, value clipped\n"
     ]
    },
    {
     "name": "stdout",
     "output_type": "stream",
     "text": [
      "NL: NLBGS 18 ; 2.27809419 0.00558395252\n"
     ]
    },
    {
     "name": "stderr",
     "output_type": "stream",
     "text": [
      "WARNING : Chord ratio value outside of the range in Roskam's book, value clipped\n",
      "WARNING : Chord ratio value outside of the range in Roskam's book, value clipped\n",
      "WARNING : Chord ratio value outside of the range in Roskam's book, value clipped\n",
      "WARNING : Chord ratio value outside of the range in Roskam's book, value clipped\n",
      "WARNING : Ratio of span on fuselage depth outside of the range in Roskam's book, value clipped\n",
      "WARNING : Area ratio value outside of the range in Roskam's book, value clipped\n",
      "INFO    : Entering mission computation\n",
      "INFO    : Entering mission computation\n",
      "INFO    : Entering mission computation\n",
      "WARNING : Looping on wing area with new value equal to [15.82656198]\n",
      "WARNING : Ratio of span on fuselage depth outside of the range in Roskam's book, value clipped\n",
      "WARNING : Area ratio value outside of the range in Roskam's book, value clipped\n"
     ]
    },
    {
     "name": "stdout",
     "output_type": "stream",
     "text": [
      "NL: NLBGS 19 ; 1.4272525 0.0034984112\n"
     ]
    },
    {
     "name": "stderr",
     "output_type": "stream",
     "text": [
      "WARNING : Chord ratio value outside of the range in Roskam's book, value clipped\n",
      "WARNING : Chord ratio value outside of the range in Roskam's book, value clipped\n",
      "WARNING : Chord ratio value outside of the range in Roskam's book, value clipped\n",
      "WARNING : Chord ratio value outside of the range in Roskam's book, value clipped\n",
      "WARNING : Ratio of span on fuselage depth outside of the range in Roskam's book, value clipped\n",
      "WARNING : Area ratio value outside of the range in Roskam's book, value clipped\n",
      "INFO    : Entering mission computation\n",
      "INFO    : Entering mission computation\n",
      "INFO    : Entering mission computation\n",
      "WARNING : Looping on wing area with new value equal to [15.82656171]\n",
      "WARNING : Ratio of span on fuselage depth outside of the range in Roskam's book, value clipped\n",
      "WARNING : Area ratio value outside of the range in Roskam's book, value clipped\n"
     ]
    },
    {
     "name": "stdout",
     "output_type": "stream",
     "text": [
      "NL: NLBGS 20 ; 0.736999525 0.00180649702\n"
     ]
    },
    {
     "name": "stderr",
     "output_type": "stream",
     "text": [
      "WARNING : Chord ratio value outside of the range in Roskam's book, value clipped\n",
      "WARNING : Chord ratio value outside of the range in Roskam's book, value clipped\n",
      "WARNING : Chord ratio value outside of the range in Roskam's book, value clipped\n",
      "WARNING : Chord ratio value outside of the range in Roskam's book, value clipped\n",
      "WARNING : Ratio of span on fuselage depth outside of the range in Roskam's book, value clipped\n",
      "WARNING : Area ratio value outside of the range in Roskam's book, value clipped\n",
      "INFO    : Entering mission computation\n",
      "INFO    : Entering mission computation\n",
      "INFO    : Entering mission computation\n",
      "WARNING : Looping on wing area with new value equal to [15.82656149]\n",
      "WARNING : Ratio of span on fuselage depth outside of the range in Roskam's book, value clipped\n",
      "WARNING : Area ratio value outside of the range in Roskam's book, value clipped\n"
     ]
    },
    {
     "name": "stdout",
     "output_type": "stream",
     "text": [
      "NL: NLBGS 21 ; 0.697958183 0.0017108008\n"
     ]
    },
    {
     "name": "stderr",
     "output_type": "stream",
     "text": [
      "WARNING : Chord ratio value outside of the range in Roskam's book, value clipped\n",
      "WARNING : Chord ratio value outside of the range in Roskam's book, value clipped\n",
      "WARNING : Chord ratio value outside of the range in Roskam's book, value clipped\n",
      "WARNING : Chord ratio value outside of the range in Roskam's book, value clipped\n",
      "WARNING : Ratio of span on fuselage depth outside of the range in Roskam's book, value clipped\n",
      "WARNING : Area ratio value outside of the range in Roskam's book, value clipped\n",
      "INFO    : Entering mission computation\n",
      "INFO    : Entering mission computation\n",
      "INFO    : Entering mission computation\n",
      "WARNING : Looping on wing area with new value equal to [15.8265612]\n",
      "WARNING : Ratio of span on fuselage depth outside of the range in Roskam's book, value clipped\n",
      "WARNING : Area ratio value outside of the range in Roskam's book, value clipped\n"
     ]
    },
    {
     "name": "stdout",
     "output_type": "stream",
     "text": [
      "NL: NLBGS 22 ; 0.535212489 0.00131188655\n"
     ]
    },
    {
     "name": "stderr",
     "output_type": "stream",
     "text": [
      "WARNING : Chord ratio value outside of the range in Roskam's book, value clipped\n",
      "WARNING : Chord ratio value outside of the range in Roskam's book, value clipped\n",
      "WARNING : Chord ratio value outside of the range in Roskam's book, value clipped\n",
      "WARNING : Chord ratio value outside of the range in Roskam's book, value clipped\n",
      "WARNING : Ratio of span on fuselage depth outside of the range in Roskam's book, value clipped\n",
      "WARNING : Area ratio value outside of the range in Roskam's book, value clipped\n",
      "INFO    : Entering mission computation\n",
      "INFO    : Entering mission computation\n",
      "INFO    : Entering mission computation\n",
      "WARNING : Looping on wing area with new value equal to [15.82656099]\n"
     ]
    },
    {
     "name": "stdout",
     "output_type": "stream",
     "text": [
      "NL: NLBGS 23 ; 0.248880966 0.000610044792\n",
      "NL: NLBGS Converged\n"
     ]
    },
    {
     "name": "stderr",
     "output_type": "stream",
     "text": [
      "WARNING : Ratio of span on fuselage depth outside of the range in Roskam's book, value clipped\n",
      "WARNING : Area ratio value outside of the range in Roskam's book, value clipped\n",
      "WARNING : Chord ratio value outside of the range in Roskam's book, value clipped\n",
      "WARNING : Chord ratio value outside of the range in Roskam's book, value clipped\n",
      "WARNING : Chord ratio value outside of the range in Roskam's book, value clipped\n",
      "WARNING : Chord ratio value outside of the range in Roskam's book, value clipped\n",
      "WARNING : Ratio of span on fuselage depth outside of the range in Roskam's book, value clipped\n",
      "WARNING : Area ratio value outside of the range in Roskam's book, value clipped\n",
      "INFO    : Entering mission computation\n",
      "INFO    : Entering mission computation\n",
      "INFO    : Entering mission computation\n",
      "WARNING : Looping on wing area with new value equal to [15.82656086]\n",
      "WARNING : Ratio of span on fuselage depth outside of the range in Roskam's book, value clipped\n",
      "WARNING : Area ratio value outside of the range in Roskam's book, value clipped\n"
     ]
    },
    {
     "name": "stdout",
     "output_type": "stream",
     "text": [
      "NL: NLBGS 1 ; 548.300963 1\n"
     ]
    },
    {
     "name": "stderr",
     "output_type": "stream",
     "text": [
      "WARNING : Chord ratio value outside of the range in Roskam's book, value clipped\n",
      "WARNING : Chord ratio value outside of the range in Roskam's book, value clipped\n",
      "WARNING : Chord ratio value outside of the range in Roskam's book, value clipped\n",
      "WARNING : Chord ratio value outside of the range in Roskam's book, value clipped\n",
      "WARNING : Ratio of span on fuselage depth outside of the range in Roskam's book, value clipped\n",
      "WARNING : Area ratio value outside of the range in Roskam's book, value clipped\n",
      "INFO    : Entering mission computation\n",
      "INFO    : Entering mission computation\n",
      "INFO    : Entering mission computation\n",
      "WARNING : Looping on wing area with new value equal to [15.97624087]\n",
      "WARNING : Ratio of span on fuselage depth outside of the range in Roskam's book, value clipped\n",
      "WARNING : Area ratio value outside of the range in Roskam's book, value clipped\n"
     ]
    },
    {
     "name": "stdout",
     "output_type": "stream",
     "text": [
      "NL: NLBGS 2 ; 451170.889 822.852629\n"
     ]
    },
    {
     "name": "stderr",
     "output_type": "stream",
     "text": [
      "WARNING : Chord ratio value outside of the range in Roskam's book, value clipped\n",
      "WARNING : Chord ratio value outside of the range in Roskam's book, value clipped\n",
      "WARNING : Chord ratio value outside of the range in Roskam's book, value clipped\n",
      "WARNING : Chord ratio value outside of the range in Roskam's book, value clipped\n",
      "WARNING : Ratio of span on fuselage depth outside of the range in Roskam's book, value clipped\n",
      "WARNING : Area ratio value outside of the range in Roskam's book, value clipped\n",
      "INFO    : Entering mission computation\n",
      "INFO    : Entering mission computation\n",
      "INFO    : Entering mission computation\n",
      "WARNING : Looping on wing area with new value equal to [15.96355732]\n",
      "WARNING : Ratio of span on fuselage depth outside of the range in Roskam's book, value clipped\n",
      "WARNING : Area ratio value outside of the range in Roskam's book, value clipped\n"
     ]
    },
    {
     "name": "stdout",
     "output_type": "stream",
     "text": [
      "NL: NLBGS 3 ; 49866.9582 90.94815\n"
     ]
    },
    {
     "name": "stderr",
     "output_type": "stream",
     "text": [
      "WARNING : Chord ratio value outside of the range in Roskam's book, value clipped\n",
      "WARNING : Chord ratio value outside of the range in Roskam's book, value clipped\n",
      "WARNING : Chord ratio value outside of the range in Roskam's book, value clipped\n",
      "WARNING : Chord ratio value outside of the range in Roskam's book, value clipped\n",
      "WARNING : Ratio of span on fuselage depth outside of the range in Roskam's book, value clipped\n",
      "WARNING : Area ratio value outside of the range in Roskam's book, value clipped\n",
      "INFO    : Entering mission computation\n",
      "INFO    : Entering mission computation\n",
      "INFO    : Entering mission computation\n",
      "WARNING : Looping on wing area with new value equal to [15.96996467]\n",
      "WARNING : Ratio of span on fuselage depth outside of the range in Roskam's book, value clipped\n",
      "WARNING : Area ratio value outside of the range in Roskam's book, value clipped\n"
     ]
    },
    {
     "name": "stdout",
     "output_type": "stream",
     "text": [
      "NL: NLBGS 4 ; 75810.9344 138.265186\n"
     ]
    },
    {
     "name": "stderr",
     "output_type": "stream",
     "text": [
      "WARNING : Chord ratio value outside of the range in Roskam's book, value clipped\n",
      "WARNING : Chord ratio value outside of the range in Roskam's book, value clipped\n",
      "WARNING : Chord ratio value outside of the range in Roskam's book, value clipped\n",
      "WARNING : Chord ratio value outside of the range in Roskam's book, value clipped\n",
      "WARNING : Ratio of span on fuselage depth outside of the range in Roskam's book, value clipped\n",
      "WARNING : Area ratio value outside of the range in Roskam's book, value clipped\n",
      "INFO    : Entering mission computation\n",
      "INFO    : Entering mission computation\n",
      "INFO    : Entering mission computation\n",
      "WARNING : Looping on wing area with new value equal to [15.98269909]\n",
      "WARNING : Ratio of span on fuselage depth outside of the range in Roskam's book, value clipped\n",
      "WARNING : Area ratio value outside of the range in Roskam's book, value clipped\n"
     ]
    },
    {
     "name": "stdout",
     "output_type": "stream",
     "text": [
      "NL: NLBGS 5 ; 20684.0503 37.7238992\n"
     ]
    },
    {
     "name": "stderr",
     "output_type": "stream",
     "text": [
      "WARNING : Chord ratio value outside of the range in Roskam's book, value clipped\n",
      "WARNING : Chord ratio value outside of the range in Roskam's book, value clipped\n",
      "WARNING : Chord ratio value outside of the range in Roskam's book, value clipped\n",
      "WARNING : Chord ratio value outside of the range in Roskam's book, value clipped\n",
      "WARNING : Ratio of span on fuselage depth outside of the range in Roskam's book, value clipped\n",
      "WARNING : Area ratio value outside of the range in Roskam's book, value clipped\n",
      "INFO    : Entering mission computation\n",
      "INFO    : Entering mission computation\n",
      "INFO    : Entering mission computation\n",
      "WARNING : Looping on wing area with new value equal to [15.99293219]\n",
      "WARNING : Ratio of span on fuselage depth outside of the range in Roskam's book, value clipped\n",
      "WARNING : Area ratio value outside of the range in Roskam's book, value clipped\n"
     ]
    },
    {
     "name": "stdout",
     "output_type": "stream",
     "text": [
      "NL: NLBGS 6 ; 10844.6895 19.7787168\n"
     ]
    },
    {
     "name": "stderr",
     "output_type": "stream",
     "text": [
      "WARNING : Chord ratio value outside of the range in Roskam's book, value clipped\n",
      "WARNING : Chord ratio value outside of the range in Roskam's book, value clipped\n",
      "WARNING : Chord ratio value outside of the range in Roskam's book, value clipped\n",
      "WARNING : Chord ratio value outside of the range in Roskam's book, value clipped\n",
      "WARNING : Ratio of span on fuselage depth outside of the range in Roskam's book, value clipped\n",
      "WARNING : Area ratio value outside of the range in Roskam's book, value clipped\n",
      "INFO    : Entering mission computation\n",
      "INFO    : Entering mission computation\n",
      "INFO    : Entering mission computation\n",
      "WARNING : Looping on wing area with new value equal to [15.99928284]\n",
      "WARNING : Ratio of span on fuselage depth outside of the range in Roskam's book, value clipped\n",
      "WARNING : Area ratio value outside of the range in Roskam's book, value clipped\n"
     ]
    },
    {
     "name": "stdout",
     "output_type": "stream",
     "text": [
      "NL: NLBGS 7 ; 7907.49529 14.4218154\n"
     ]
    },
    {
     "name": "stderr",
     "output_type": "stream",
     "text": [
      "WARNING : Chord ratio value outside of the range in Roskam's book, value clipped\n",
      "WARNING : Chord ratio value outside of the range in Roskam's book, value clipped\n",
      "WARNING : Chord ratio value outside of the range in Roskam's book, value clipped\n",
      "WARNING : Chord ratio value outside of the range in Roskam's book, value clipped\n",
      "WARNING : Ratio of span on fuselage depth outside of the range in Roskam's book, value clipped\n",
      "WARNING : Area ratio value outside of the range in Roskam's book, value clipped\n",
      "INFO    : Entering mission computation\n",
      "INFO    : Entering mission computation\n",
      "INFO    : Entering mission computation\n",
      "WARNING : Looping on wing area with new value equal to [16.00337802]\n",
      "WARNING : Ratio of span on fuselage depth outside of the range in Roskam's book, value clipped\n",
      "WARNING : Area ratio value outside of the range in Roskam's book, value clipped\n"
     ]
    },
    {
     "name": "stdout",
     "output_type": "stream",
     "text": [
      "NL: NLBGS 8 ; 5027.80385 9.16978847\n"
     ]
    },
    {
     "name": "stderr",
     "output_type": "stream",
     "text": [
      "WARNING : Chord ratio value outside of the range in Roskam's book, value clipped\n",
      "WARNING : Chord ratio value outside of the range in Roskam's book, value clipped\n",
      "WARNING : Chord ratio value outside of the range in Roskam's book, value clipped\n",
      "WARNING : Chord ratio value outside of the range in Roskam's book, value clipped\n",
      "WARNING : Ratio of span on fuselage depth outside of the range in Roskam's book, value clipped\n",
      "WARNING : Area ratio value outside of the range in Roskam's book, value clipped\n",
      "INFO    : Entering mission computation\n",
      "INFO    : Entering mission computation\n",
      "INFO    : Entering mission computation\n",
      "WARNING : Looping on wing area with new value equal to [16.005944]\n",
      "WARNING : Ratio of span on fuselage depth outside of the range in Roskam's book, value clipped\n",
      "WARNING : Area ratio value outside of the range in Roskam's book, value clipped\n"
     ]
    },
    {
     "name": "stdout",
     "output_type": "stream",
     "text": [
      "NL: NLBGS 9 ; 2803.94895 5.11388661\n"
     ]
    },
    {
     "name": "stderr",
     "output_type": "stream",
     "text": [
      "WARNING : Chord ratio value outside of the range in Roskam's book, value clipped\n",
      "WARNING : Chord ratio value outside of the range in Roskam's book, value clipped\n",
      "WARNING : Chord ratio value outside of the range in Roskam's book, value clipped\n",
      "WARNING : Chord ratio value outside of the range in Roskam's book, value clipped\n",
      "WARNING : Ratio of span on fuselage depth outside of the range in Roskam's book, value clipped\n",
      "WARNING : Area ratio value outside of the range in Roskam's book, value clipped\n",
      "INFO    : Entering mission computation\n",
      "INFO    : Entering mission computation\n",
      "INFO    : Entering mission computation\n",
      "WARNING : Looping on wing area with new value equal to [16.00743009]\n",
      "WARNING : Ratio of span on fuselage depth outside of the range in Roskam's book, value clipped\n",
      "WARNING : Area ratio value outside of the range in Roskam's book, value clipped\n"
     ]
    },
    {
     "name": "stdout",
     "output_type": "stream",
     "text": [
      "NL: NLBGS 10 ; 1573.08811 2.86902306\n"
     ]
    },
    {
     "name": "stderr",
     "output_type": "stream",
     "text": [
      "WARNING : Chord ratio value outside of the range in Roskam's book, value clipped\n",
      "WARNING : Chord ratio value outside of the range in Roskam's book, value clipped\n",
      "WARNING : Chord ratio value outside of the range in Roskam's book, value clipped\n",
      "WARNING : Chord ratio value outside of the range in Roskam's book, value clipped\n",
      "WARNING : Ratio of span on fuselage depth outside of the range in Roskam's book, value clipped\n",
      "WARNING : Area ratio value outside of the range in Roskam's book, value clipped\n",
      "INFO    : Entering mission computation\n",
      "INFO    : Entering mission computation\n",
      "INFO    : Entering mission computation\n",
      "WARNING : Looping on wing area with new value equal to [16.0082707]\n",
      "WARNING : Ratio of span on fuselage depth outside of the range in Roskam's book, value clipped\n",
      "WARNING : Area ratio value outside of the range in Roskam's book, value clipped\n"
     ]
    },
    {
     "name": "stdout",
     "output_type": "stream",
     "text": [
      "NL: NLBGS 11 ; 867.316551 1.58182569\n"
     ]
    },
    {
     "name": "stderr",
     "output_type": "stream",
     "text": [
      "WARNING : Chord ratio value outside of the range in Roskam's book, value clipped\n",
      "WARNING : Chord ratio value outside of the range in Roskam's book, value clipped\n",
      "WARNING : Chord ratio value outside of the range in Roskam's book, value clipped\n",
      "WARNING : Chord ratio value outside of the range in Roskam's book, value clipped\n",
      "WARNING : Ratio of span on fuselage depth outside of the range in Roskam's book, value clipped\n",
      "WARNING : Area ratio value outside of the range in Roskam's book, value clipped\n",
      "INFO    : Entering mission computation\n",
      "INFO    : Entering mission computation\n",
      "INFO    : Entering mission computation\n",
      "WARNING : Looping on wing area with new value equal to [16.00872866]\n",
      "WARNING : Ratio of span on fuselage depth outside of the range in Roskam's book, value clipped\n",
      "WARNING : Area ratio value outside of the range in Roskam's book, value clipped\n"
     ]
    },
    {
     "name": "stdout",
     "output_type": "stream",
     "text": [
      "NL: NLBGS 12 ; 452.896585 0.82599998\n"
     ]
    },
    {
     "name": "stderr",
     "output_type": "stream",
     "text": [
      "WARNING : Chord ratio value outside of the range in Roskam's book, value clipped\n",
      "WARNING : Chord ratio value outside of the range in Roskam's book, value clipped\n",
      "WARNING : Chord ratio value outside of the range in Roskam's book, value clipped\n",
      "WARNING : Chord ratio value outside of the range in Roskam's book, value clipped\n",
      "WARNING : Ratio of span on fuselage depth outside of the range in Roskam's book, value clipped\n",
      "WARNING : Area ratio value outside of the range in Roskam's book, value clipped\n",
      "INFO    : Entering mission computation\n",
      "INFO    : Entering mission computation\n",
      "INFO    : Entering mission computation\n",
      "WARNING : Looping on wing area with new value equal to [16.00896919]\n",
      "WARNING : Ratio of span on fuselage depth outside of the range in Roskam's book, value clipped\n",
      "WARNING : Area ratio value outside of the range in Roskam's book, value clipped\n"
     ]
    },
    {
     "name": "stdout",
     "output_type": "stream",
     "text": [
      "NL: NLBGS 13 ; 228.683586 0.417076754\n"
     ]
    },
    {
     "name": "stderr",
     "output_type": "stream",
     "text": [
      "WARNING : Chord ratio value outside of the range in Roskam's book, value clipped\n",
      "WARNING : Chord ratio value outside of the range in Roskam's book, value clipped\n",
      "WARNING : Chord ratio value outside of the range in Roskam's book, value clipped\n",
      "WARNING : Chord ratio value outside of the range in Roskam's book, value clipped\n",
      "WARNING : Ratio of span on fuselage depth outside of the range in Roskam's book, value clipped\n",
      "WARNING : Area ratio value outside of the range in Roskam's book, value clipped\n",
      "INFO    : Entering mission computation\n",
      "INFO    : Entering mission computation\n",
      "INFO    : Entering mission computation\n",
      "WARNING : Looping on wing area with new value equal to [16.00908965]\n",
      "WARNING : Ratio of span on fuselage depth outside of the range in Roskam's book, value clipped\n",
      "WARNING : Area ratio value outside of the range in Roskam's book, value clipped\n"
     ]
    },
    {
     "name": "stdout",
     "output_type": "stream",
     "text": [
      "NL: NLBGS 14 ; 110.515294 0.201559547\n"
     ]
    },
    {
     "name": "stderr",
     "output_type": "stream",
     "text": [
      "WARNING : Chord ratio value outside of the range in Roskam's book, value clipped\n",
      "WARNING : Chord ratio value outside of the range in Roskam's book, value clipped\n",
      "WARNING : Chord ratio value outside of the range in Roskam's book, value clipped\n",
      "WARNING : Chord ratio value outside of the range in Roskam's book, value clipped\n",
      "WARNING : Ratio of span on fuselage depth outside of the range in Roskam's book, value clipped\n",
      "WARNING : Area ratio value outside of the range in Roskam's book, value clipped\n",
      "INFO    : Entering mission computation\n",
      "INFO    : Entering mission computation\n",
      "INFO    : Entering mission computation\n",
      "WARNING : Looping on wing area with new value equal to [16.00842431]\n",
      "WARNING : Ratio of span on fuselage depth outside of the range in Roskam's book, value clipped\n",
      "WARNING : Area ratio value outside of the range in Roskam's book, value clipped\n"
     ]
    },
    {
     "name": "stdout",
     "output_type": "stream",
     "text": [
      "NL: NLBGS 15 ; 50.7826812 0.09261826\n"
     ]
    },
    {
     "name": "stderr",
     "output_type": "stream",
     "text": [
      "WARNING : Chord ratio value outside of the range in Roskam's book, value clipped\n",
      "WARNING : Chord ratio value outside of the range in Roskam's book, value clipped\n",
      "WARNING : Chord ratio value outside of the range in Roskam's book, value clipped\n",
      "WARNING : Chord ratio value outside of the range in Roskam's book, value clipped\n",
      "WARNING : Ratio of span on fuselage depth outside of the range in Roskam's book, value clipped\n",
      "WARNING : Area ratio value outside of the range in Roskam's book, value clipped\n",
      "INFO    : Entering mission computation\n",
      "INFO    : Entering mission computation\n",
      "INFO    : Entering mission computation\n",
      "WARNING : Looping on wing area with new value equal to [16.00829073]\n",
      "WARNING : Ratio of span on fuselage depth outside of the range in Roskam's book, value clipped\n",
      "WARNING : Area ratio value outside of the range in Roskam's book, value clipped\n"
     ]
    },
    {
     "name": "stdout",
     "output_type": "stream",
     "text": [
      "NL: NLBGS 16 ; 212.83618 0.388174004\n"
     ]
    },
    {
     "name": "stderr",
     "output_type": "stream",
     "text": [
      "WARNING : Chord ratio value outside of the range in Roskam's book, value clipped\n",
      "WARNING : Chord ratio value outside of the range in Roskam's book, value clipped\n",
      "WARNING : Chord ratio value outside of the range in Roskam's book, value clipped\n",
      "WARNING : Chord ratio value outside of the range in Roskam's book, value clipped\n",
      "WARNING : Ratio of span on fuselage depth outside of the range in Roskam's book, value clipped\n",
      "WARNING : Area ratio value outside of the range in Roskam's book, value clipped\n",
      "INFO    : Entering mission computation\n",
      "INFO    : Entering mission computation\n",
      "INFO    : Entering mission computation\n",
      "WARNING : Looping on wing area with new value equal to [16.00817889]\n",
      "WARNING : Ratio of span on fuselage depth outside of the range in Roskam's book, value clipped\n",
      "WARNING : Area ratio value outside of the range in Roskam's book, value clipped\n"
     ]
    },
    {
     "name": "stdout",
     "output_type": "stream",
     "text": [
      "NL: NLBGS 17 ; 213.63501 0.389630923\n"
     ]
    },
    {
     "name": "stderr",
     "output_type": "stream",
     "text": [
      "WARNING : Chord ratio value outside of the range in Roskam's book, value clipped\n",
      "WARNING : Chord ratio value outside of the range in Roskam's book, value clipped\n",
      "WARNING : Chord ratio value outside of the range in Roskam's book, value clipped\n",
      "WARNING : Chord ratio value outside of the range in Roskam's book, value clipped\n",
      "WARNING : Ratio of span on fuselage depth outside of the range in Roskam's book, value clipped\n",
      "WARNING : Area ratio value outside of the range in Roskam's book, value clipped\n",
      "INFO    : Entering mission computation\n",
      "INFO    : Entering mission computation\n",
      "INFO    : Entering mission computation\n",
      "WARNING : Looping on wing area with new value equal to [16.00811317]\n",
      "WARNING : Ratio of span on fuselage depth outside of the range in Roskam's book, value clipped\n",
      "WARNING : Area ratio value outside of the range in Roskam's book, value clipped\n"
     ]
    },
    {
     "name": "stdout",
     "output_type": "stream",
     "text": [
      "NL: NLBGS 18 ; 71.9807111 0.131279563\n"
     ]
    },
    {
     "name": "stderr",
     "output_type": "stream",
     "text": [
      "WARNING : Chord ratio value outside of the range in Roskam's book, value clipped\n",
      "WARNING : Chord ratio value outside of the range in Roskam's book, value clipped\n",
      "WARNING : Chord ratio value outside of the range in Roskam's book, value clipped\n",
      "WARNING : Chord ratio value outside of the range in Roskam's book, value clipped\n",
      "WARNING : Ratio of span on fuselage depth outside of the range in Roskam's book, value clipped\n",
      "WARNING : Area ratio value outside of the range in Roskam's book, value clipped\n",
      "INFO    : Entering mission computation\n",
      "INFO    : Entering mission computation\n",
      "INFO    : Entering mission computation\n",
      "WARNING : Looping on wing area with new value equal to [16.00807193]\n",
      "WARNING : Ratio of span on fuselage depth outside of the range in Roskam's book, value clipped\n",
      "WARNING : Area ratio value outside of the range in Roskam's book, value clipped\n"
     ]
    },
    {
     "name": "stdout",
     "output_type": "stream",
     "text": [
      "NL: NLBGS 19 ; 39.6942829 0.0723950633\n"
     ]
    },
    {
     "name": "stderr",
     "output_type": "stream",
     "text": [
      "WARNING : Chord ratio value outside of the range in Roskam's book, value clipped\n",
      "WARNING : Chord ratio value outside of the range in Roskam's book, value clipped\n",
      "WARNING : Chord ratio value outside of the range in Roskam's book, value clipped\n",
      "WARNING : Chord ratio value outside of the range in Roskam's book, value clipped\n",
      "WARNING : Ratio of span on fuselage depth outside of the range in Roskam's book, value clipped\n",
      "WARNING : Area ratio value outside of the range in Roskam's book, value clipped\n",
      "INFO    : Entering mission computation\n",
      "INFO    : Entering mission computation\n",
      "INFO    : Entering mission computation\n",
      "WARNING : Looping on wing area with new value equal to [16.00877281]\n",
      "WARNING : Ratio of span on fuselage depth outside of the range in Roskam's book, value clipped\n",
      "WARNING : Area ratio value outside of the range in Roskam's book, value clipped\n"
     ]
    },
    {
     "name": "stdout",
     "output_type": "stream",
     "text": [
      "NL: NLBGS 20 ; 21.4029393 0.0390350204\n"
     ]
    },
    {
     "name": "stderr",
     "output_type": "stream",
     "text": [
      "WARNING : Chord ratio value outside of the range in Roskam's book, value clipped\n",
      "WARNING : Chord ratio value outside of the range in Roskam's book, value clipped\n",
      "WARNING : Chord ratio value outside of the range in Roskam's book, value clipped\n",
      "WARNING : Chord ratio value outside of the range in Roskam's book, value clipped\n",
      "WARNING : Ratio of span on fuselage depth outside of the range in Roskam's book, value clipped\n",
      "WARNING : Area ratio value outside of the range in Roskam's book, value clipped\n",
      "INFO    : Entering mission computation\n",
      "INFO    : Entering mission computation\n",
      "INFO    : Entering mission computation\n",
      "WARNING : Looping on wing area with new value equal to [16.00891996]\n",
      "WARNING : Ratio of span on fuselage depth outside of the range in Roskam's book, value clipped\n",
      "WARNING : Area ratio value outside of the range in Roskam's book, value clipped\n"
     ]
    },
    {
     "name": "stdout",
     "output_type": "stream",
     "text": [
      "NL: NLBGS 21 ; 224.045459 0.408617664\n"
     ]
    },
    {
     "name": "stderr",
     "output_type": "stream",
     "text": [
      "WARNING : Chord ratio value outside of the range in Roskam's book, value clipped\n",
      "WARNING : Chord ratio value outside of the range in Roskam's book, value clipped\n",
      "WARNING : Chord ratio value outside of the range in Roskam's book, value clipped\n",
      "WARNING : Chord ratio value outside of the range in Roskam's book, value clipped\n",
      "WARNING : Ratio of span on fuselage depth outside of the range in Roskam's book, value clipped\n",
      "WARNING : Area ratio value outside of the range in Roskam's book, value clipped\n",
      "INFO    : Entering mission computation\n",
      "INFO    : Entering mission computation\n",
      "INFO    : Entering mission computation\n",
      "WARNING : Looping on wing area with new value equal to [16.0090355]\n",
      "WARNING : Ratio of span on fuselage depth outside of the range in Roskam's book, value clipped\n",
      "WARNING : Area ratio value outside of the range in Roskam's book, value clipped\n"
     ]
    },
    {
     "name": "stdout",
     "output_type": "stream",
     "text": [
      "NL: NLBGS 22 ; 211.187306 0.385166761\n"
     ]
    },
    {
     "name": "stderr",
     "output_type": "stream",
     "text": [
      "WARNING : Chord ratio value outside of the range in Roskam's book, value clipped\n",
      "WARNING : Chord ratio value outside of the range in Roskam's book, value clipped\n",
      "WARNING : Chord ratio value outside of the range in Roskam's book, value clipped\n",
      "WARNING : Chord ratio value outside of the range in Roskam's book, value clipped\n",
      "WARNING : Ratio of span on fuselage depth outside of the range in Roskam's book, value clipped\n",
      "WARNING : Area ratio value outside of the range in Roskam's book, value clipped\n",
      "INFO    : Entering mission computation\n",
      "INFO    : Entering mission computation\n",
      "INFO    : Entering mission computation\n",
      "WARNING : Looping on wing area with new value equal to [16.00837835]\n",
      "WARNING : Ratio of span on fuselage depth outside of the range in Roskam's book, value clipped\n",
      "WARNING : Area ratio value outside of the range in Roskam's book, value clipped\n"
     ]
    },
    {
     "name": "stdout",
     "output_type": "stream",
     "text": [
      "NL: NLBGS 23 ; 69.1231745 0.126067943\n"
     ]
    },
    {
     "name": "stderr",
     "output_type": "stream",
     "text": [
      "WARNING : Chord ratio value outside of the range in Roskam's book, value clipped\n",
      "WARNING : Chord ratio value outside of the range in Roskam's book, value clipped\n",
      "WARNING : Chord ratio value outside of the range in Roskam's book, value clipped\n",
      "WARNING : Chord ratio value outside of the range in Roskam's book, value clipped\n",
      "WARNING : Ratio of span on fuselage depth outside of the range in Roskam's book, value clipped\n",
      "WARNING : Area ratio value outside of the range in Roskam's book, value clipped\n",
      "INFO    : Entering mission computation\n",
      "INFO    : Entering mission computation\n",
      "INFO    : Entering mission computation\n",
      "WARNING : Looping on wing area with new value equal to [16.0082596]\n",
      "WARNING : Ratio of span on fuselage depth outside of the range in Roskam's book, value clipped\n",
      "WARNING : Area ratio value outside of the range in Roskam's book, value clipped\n"
     ]
    },
    {
     "name": "stdout",
     "output_type": "stream",
     "text": [
      "NL: NLBGS 24 ; 213.655526 0.389668341\n"
     ]
    },
    {
     "name": "stderr",
     "output_type": "stream",
     "text": [
      "WARNING : Chord ratio value outside of the range in Roskam's book, value clipped\n",
      "WARNING : Chord ratio value outside of the range in Roskam's book, value clipped\n",
      "WARNING : Chord ratio value outside of the range in Roskam's book, value clipped\n",
      "WARNING : Chord ratio value outside of the range in Roskam's book, value clipped\n",
      "WARNING : Ratio of span on fuselage depth outside of the range in Roskam's book, value clipped\n",
      "WARNING : Area ratio value outside of the range in Roskam's book, value clipped\n",
      "INFO    : Entering mission computation\n",
      "INFO    : Entering mission computation\n",
      "INFO    : Entering mission computation\n",
      "WARNING : Looping on wing area with new value equal to [16.00815839]\n",
      "WARNING : Ratio of span on fuselage depth outside of the range in Roskam's book, value clipped\n",
      "WARNING : Area ratio value outside of the range in Roskam's book, value clipped\n"
     ]
    },
    {
     "name": "stdout",
     "output_type": "stream",
     "text": [
      "NL: NLBGS 25 ; 199.155767 0.363223449\n"
     ]
    },
    {
     "name": "stderr",
     "output_type": "stream",
     "text": [
      "WARNING : Chord ratio value outside of the range in Roskam's book, value clipped\n",
      "WARNING : Chord ratio value outside of the range in Roskam's book, value clipped\n",
      "WARNING : Chord ratio value outside of the range in Roskam's book, value clipped\n",
      "WARNING : Chord ratio value outside of the range in Roskam's book, value clipped\n",
      "WARNING : Ratio of span on fuselage depth outside of the range in Roskam's book, value clipped\n",
      "WARNING : Area ratio value outside of the range in Roskam's book, value clipped\n",
      "INFO    : Entering mission computation\n",
      "INFO    : Entering mission computation\n",
      "INFO    : Entering mission computation\n",
      "WARNING : Looping on wing area with new value equal to [16.00810046]\n",
      "WARNING : Ratio of span on fuselage depth outside of the range in Roskam's book, value clipped\n",
      "WARNING : Area ratio value outside of the range in Roskam's book, value clipped\n"
     ]
    },
    {
     "name": "stdout",
     "output_type": "stream",
     "text": [
      "NL: NLBGS 26 ; 61.8070974 0.112724765\n"
     ]
    },
    {
     "name": "stderr",
     "output_type": "stream",
     "text": [
      "WARNING : Chord ratio value outside of the range in Roskam's book, value clipped\n",
      "WARNING : Chord ratio value outside of the range in Roskam's book, value clipped\n",
      "WARNING : Chord ratio value outside of the range in Roskam's book, value clipped\n",
      "WARNING : Chord ratio value outside of the range in Roskam's book, value clipped\n",
      "WARNING : Ratio of span on fuselage depth outside of the range in Roskam's book, value clipped\n",
      "WARNING : Area ratio value outside of the range in Roskam's book, value clipped\n",
      "INFO    : Entering mission computation\n",
      "INFO    : Entering mission computation\n",
      "INFO    : Entering mission computation\n",
      "WARNING : Looping on wing area with new value equal to [16.00806436]\n",
      "WARNING : Ratio of span on fuselage depth outside of the range in Roskam's book, value clipped\n",
      "WARNING : Area ratio value outside of the range in Roskam's book, value clipped\n"
     ]
    },
    {
     "name": "stdout",
     "output_type": "stream",
     "text": [
      "NL: NLBGS 27 ; 33.4460229 0.0609993874\n"
     ]
    },
    {
     "name": "stderr",
     "output_type": "stream",
     "text": [
      "WARNING : Chord ratio value outside of the range in Roskam's book, value clipped\n",
      "WARNING : Chord ratio value outside of the range in Roskam's book, value clipped\n",
      "WARNING : Chord ratio value outside of the range in Roskam's book, value clipped\n",
      "WARNING : Chord ratio value outside of the range in Roskam's book, value clipped\n",
      "WARNING : Ratio of span on fuselage depth outside of the range in Roskam's book, value clipped\n",
      "WARNING : Area ratio value outside of the range in Roskam's book, value clipped\n",
      "INFO    : Entering mission computation\n",
      "INFO    : Entering mission computation\n",
      "INFO    : Entering mission computation\n",
      "WARNING : Looping on wing area with new value equal to [16.00876845]\n",
      "WARNING : Ratio of span on fuselage depth outside of the range in Roskam's book, value clipped\n",
      "WARNING : Area ratio value outside of the range in Roskam's book, value clipped\n"
     ]
    },
    {
     "name": "stdout",
     "output_type": "stream",
     "text": [
      "NL: NLBGS 28 ; 17.8617247 0.032576497\n"
     ]
    },
    {
     "name": "stderr",
     "output_type": "stream",
     "text": [
      "WARNING : Chord ratio value outside of the range in Roskam's book, value clipped\n",
      "WARNING : Chord ratio value outside of the range in Roskam's book, value clipped\n",
      "WARNING : Chord ratio value outside of the range in Roskam's book, value clipped\n",
      "WARNING : Chord ratio value outside of the range in Roskam's book, value clipped\n",
      "WARNING : Ratio of span on fuselage depth outside of the range in Roskam's book, value clipped\n",
      "WARNING : Area ratio value outside of the range in Roskam's book, value clipped\n",
      "INFO    : Entering mission computation\n",
      "INFO    : Entering mission computation\n",
      "INFO    : Entering mission computation\n",
      "WARNING : Looping on wing area with new value equal to [16.00891762]\n",
      "WARNING : Ratio of span on fuselage depth outside of the range in Roskam's book, value clipped\n",
      "WARNING : Area ratio value outside of the range in Roskam's book, value clipped\n"
     ]
    },
    {
     "name": "stdout",
     "output_type": "stream",
     "text": [
      "NL: NLBGS 29 ; 224.860371 0.410103913\n"
     ]
    },
    {
     "name": "stderr",
     "output_type": "stream",
     "text": [
      "WARNING : Chord ratio value outside of the range in Roskam's book, value clipped\n",
      "WARNING : Chord ratio value outside of the range in Roskam's book, value clipped\n",
      "WARNING : Chord ratio value outside of the range in Roskam's book, value clipped\n",
      "WARNING : Chord ratio value outside of the range in Roskam's book, value clipped\n",
      "WARNING : Ratio of span on fuselage depth outside of the range in Roskam's book, value clipped\n",
      "WARNING : Area ratio value outside of the range in Roskam's book, value clipped\n",
      "INFO    : Entering mission computation\n",
      "INFO    : Entering mission computation\n",
      "INFO    : Entering mission computation\n",
      "WARNING : Looping on wing area with new value equal to [16.00903432]\n",
      "WARNING : Ratio of span on fuselage depth outside of the range in Roskam's book, value clipped\n",
      "WARNING : Area ratio value outside of the range in Roskam's book, value clipped\n"
     ]
    },
    {
     "name": "stdout",
     "output_type": "stream",
     "text": [
      "NL: NLBGS 30 ; 212.389421 0.387359197\n"
     ]
    },
    {
     "name": "stderr",
     "output_type": "stream",
     "text": [
      "WARNING : Chord ratio value outside of the range in Roskam's book, value clipped\n",
      "WARNING : Chord ratio value outside of the range in Roskam's book, value clipped\n",
      "WARNING : Chord ratio value outside of the range in Roskam's book, value clipped\n",
      "WARNING : Chord ratio value outside of the range in Roskam's book, value clipped\n",
      "WARNING : Ratio of span on fuselage depth outside of the range in Roskam's book, value clipped\n",
      "WARNING : Area ratio value outside of the range in Roskam's book, value clipped\n",
      "INFO    : Entering mission computation\n",
      "INFO    : Entering mission computation\n",
      "INFO    : Entering mission computation\n",
      "WARNING : Looping on wing area with new value equal to [16.00837769]\n",
      "WARNING : Ratio of span on fuselage depth outside of the range in Roskam's book, value clipped\n",
      "WARNING : Area ratio value outside of the range in Roskam's book, value clipped\n"
     ]
    },
    {
     "name": "stdout",
     "output_type": "stream",
     "text": [
      "NL: NLBGS 31 ; 69.8112487 0.127322864\n"
     ]
    },
    {
     "name": "stderr",
     "output_type": "stream",
     "text": [
      "WARNING : Chord ratio value outside of the range in Roskam's book, value clipped\n",
      "WARNING : Chord ratio value outside of the range in Roskam's book, value clipped\n",
      "WARNING : Chord ratio value outside of the range in Roskam's book, value clipped\n",
      "WARNING : Chord ratio value outside of the range in Roskam's book, value clipped\n",
      "WARNING : Ratio of span on fuselage depth outside of the range in Roskam's book, value clipped\n",
      "WARNING : Area ratio value outside of the range in Roskam's book, value clipped\n",
      "INFO    : Entering mission computation\n",
      "INFO    : Entering mission computation\n",
      "INFO    : Entering mission computation\n",
      "WARNING : Looping on wing area with new value equal to [16.0082593]\n",
      "WARNING : Ratio of span on fuselage depth outside of the range in Roskam's book, value clipped\n",
      "WARNING : Area ratio value outside of the range in Roskam's book, value clipped\n"
     ]
    },
    {
     "name": "stdout",
     "output_type": "stream",
     "text": [
      "NL: NLBGS 32 ; 213.539997 0.389457637\n"
     ]
    },
    {
     "name": "stderr",
     "output_type": "stream",
     "text": [
      "WARNING : Chord ratio value outside of the range in Roskam's book, value clipped\n",
      "WARNING : Chord ratio value outside of the range in Roskam's book, value clipped\n",
      "WARNING : Chord ratio value outside of the range in Roskam's book, value clipped\n",
      "WARNING : Chord ratio value outside of the range in Roskam's book, value clipped\n",
      "WARNING : Ratio of span on fuselage depth outside of the range in Roskam's book, value clipped\n",
      "WARNING : Area ratio value outside of the range in Roskam's book, value clipped\n",
      "INFO    : Entering mission computation\n",
      "INFO    : Entering mission computation\n",
      "INFO    : Entering mission computation\n",
      "WARNING : Looping on wing area with new value equal to [16.00815826]\n",
      "WARNING : Ratio of span on fuselage depth outside of the range in Roskam's book, value clipped\n",
      "WARNING : Area ratio value outside of the range in Roskam's book, value clipped\n"
     ]
    },
    {
     "name": "stdout",
     "output_type": "stream",
     "text": [
      "NL: NLBGS 33 ; 199.05132 0.363032957\n"
     ]
    },
    {
     "name": "stderr",
     "output_type": "stream",
     "text": [
      "WARNING : Chord ratio value outside of the range in Roskam's book, value clipped\n",
      "WARNING : Chord ratio value outside of the range in Roskam's book, value clipped\n",
      "WARNING : Chord ratio value outside of the range in Roskam's book, value clipped\n",
      "WARNING : Chord ratio value outside of the range in Roskam's book, value clipped\n",
      "WARNING : Ratio of span on fuselage depth outside of the range in Roskam's book, value clipped\n",
      "WARNING : Area ratio value outside of the range in Roskam's book, value clipped\n",
      "INFO    : Entering mission computation\n",
      "INFO    : Entering mission computation\n",
      "INFO    : Entering mission computation\n",
      "WARNING : Looping on wing area with new value equal to [16.0081004]\n",
      "WARNING : Ratio of span on fuselage depth outside of the range in Roskam's book, value clipped\n",
      "WARNING : Area ratio value outside of the range in Roskam's book, value clipped\n"
     ]
    },
    {
     "name": "stdout",
     "output_type": "stream",
     "text": [
      "NL: NLBGS 34 ; 61.7311612 0.112586272\n"
     ]
    },
    {
     "name": "stderr",
     "output_type": "stream",
     "text": [
      "WARNING : Chord ratio value outside of the range in Roskam's book, value clipped\n",
      "WARNING : Chord ratio value outside of the range in Roskam's book, value clipped\n",
      "WARNING : Chord ratio value outside of the range in Roskam's book, value clipped\n",
      "WARNING : Chord ratio value outside of the range in Roskam's book, value clipped\n",
      "WARNING : Ratio of span on fuselage depth outside of the range in Roskam's book, value clipped\n",
      "WARNING : Area ratio value outside of the range in Roskam's book, value clipped\n",
      "INFO    : Entering mission computation\n",
      "INFO    : Entering mission computation\n",
      "INFO    : Entering mission computation\n",
      "WARNING : Looping on wing area with new value equal to [16.00806434]\n",
      "WARNING : Ratio of span on fuselage depth outside of the range in Roskam's book, value clipped\n",
      "WARNING : Area ratio value outside of the range in Roskam's book, value clipped\n"
     ]
    },
    {
     "name": "stdout",
     "output_type": "stream",
     "text": [
      "NL: NLBGS 35 ; 33.4160648 0.0609447494\n"
     ]
    },
    {
     "name": "stderr",
     "output_type": "stream",
     "text": [
      "WARNING : Chord ratio value outside of the range in Roskam's book, value clipped\n",
      "WARNING : Chord ratio value outside of the range in Roskam's book, value clipped\n",
      "WARNING : Chord ratio value outside of the range in Roskam's book, value clipped\n",
      "WARNING : Chord ratio value outside of the range in Roskam's book, value clipped\n",
      "WARNING : Ratio of span on fuselage depth outside of the range in Roskam's book, value clipped\n",
      "WARNING : Area ratio value outside of the range in Roskam's book, value clipped\n",
      "INFO    : Entering mission computation\n",
      "INFO    : Entering mission computation\n",
      "INFO    : Entering mission computation\n",
      "WARNING : Looping on wing area with new value equal to [16.00876845]\n",
      "WARNING : Ratio of span on fuselage depth outside of the range in Roskam's book, value clipped\n",
      "WARNING : Area ratio value outside of the range in Roskam's book, value clipped\n"
     ]
    },
    {
     "name": "stdout",
     "output_type": "stream",
     "text": [
      "NL: NLBGS 36 ; 17.8539064 0.0325622379\n"
     ]
    },
    {
     "name": "stderr",
     "output_type": "stream",
     "text": [
      "WARNING : Chord ratio value outside of the range in Roskam's book, value clipped\n",
      "WARNING : Chord ratio value outside of the range in Roskam's book, value clipped\n",
      "WARNING : Chord ratio value outside of the range in Roskam's book, value clipped\n",
      "WARNING : Chord ratio value outside of the range in Roskam's book, value clipped\n",
      "WARNING : Ratio of span on fuselage depth outside of the range in Roskam's book, value clipped\n",
      "WARNING : Area ratio value outside of the range in Roskam's book, value clipped\n",
      "INFO    : Entering mission computation\n",
      "INFO    : Entering mission computation\n",
      "INFO    : Entering mission computation\n",
      "WARNING : Looping on wing area with new value equal to [16.00891762]\n",
      "WARNING : Ratio of span on fuselage depth outside of the range in Roskam's book, value clipped\n",
      "WARNING : Area ratio value outside of the range in Roskam's book, value clipped\n"
     ]
    },
    {
     "name": "stdout",
     "output_type": "stream",
     "text": [
      "NL: NLBGS 37 ; 224.867522 0.410116957\n"
     ]
    },
    {
     "name": "stderr",
     "output_type": "stream",
     "text": [
      "WARNING : Chord ratio value outside of the range in Roskam's book, value clipped\n",
      "WARNING : Chord ratio value outside of the range in Roskam's book, value clipped\n",
      "WARNING : Chord ratio value outside of the range in Roskam's book, value clipped\n",
      "WARNING : Chord ratio value outside of the range in Roskam's book, value clipped\n",
      "WARNING : Ratio of span on fuselage depth outside of the range in Roskam's book, value clipped\n",
      "WARNING : Area ratio value outside of the range in Roskam's book, value clipped\n",
      "INFO    : Entering mission computation\n",
      "INFO    : Entering mission computation\n",
      "INFO    : Entering mission computation\n",
      "WARNING : Looping on wing area with new value equal to [16.00903432]\n",
      "WARNING : Ratio of span on fuselage depth outside of the range in Roskam's book, value clipped\n",
      "WARNING : Area ratio value outside of the range in Roskam's book, value clipped\n"
     ]
    },
    {
     "name": "stdout",
     "output_type": "stream",
     "text": [
      "NL: NLBGS 38 ; 212.388422 0.387357376\n"
     ]
    },
    {
     "name": "stderr",
     "output_type": "stream",
     "text": [
      "WARNING : Chord ratio value outside of the range in Roskam's book, value clipped\n",
      "WARNING : Chord ratio value outside of the range in Roskam's book, value clipped\n",
      "WARNING : Chord ratio value outside of the range in Roskam's book, value clipped\n",
      "WARNING : Chord ratio value outside of the range in Roskam's book, value clipped\n",
      "WARNING : Ratio of span on fuselage depth outside of the range in Roskam's book, value clipped\n",
      "WARNING : Area ratio value outside of the range in Roskam's book, value clipped\n",
      "INFO    : Entering mission computation\n",
      "INFO    : Entering mission computation\n",
      "INFO    : Entering mission computation\n",
      "WARNING : Looping on wing area with new value equal to [16.00837769]\n",
      "WARNING : Ratio of span on fuselage depth outside of the range in Roskam's book, value clipped\n",
      "WARNING : Area ratio value outside of the range in Roskam's book, value clipped\n"
     ]
    },
    {
     "name": "stdout",
     "output_type": "stream",
     "text": [
      "NL: NLBGS 39 ; 69.8094629 0.127319607\n"
     ]
    },
    {
     "name": "stderr",
     "output_type": "stream",
     "text": [
      "WARNING : Chord ratio value outside of the range in Roskam's book, value clipped\n",
      "WARNING : Chord ratio value outside of the range in Roskam's book, value clipped\n",
      "WARNING : Chord ratio value outside of the range in Roskam's book, value clipped\n",
      "WARNING : Chord ratio value outside of the range in Roskam's book, value clipped\n",
      "WARNING : Ratio of span on fuselage depth outside of the range in Roskam's book, value clipped\n",
      "WARNING : Area ratio value outside of the range in Roskam's book, value clipped\n",
      "INFO    : Entering mission computation\n",
      "INFO    : Entering mission computation\n",
      "INFO    : Entering mission computation\n",
      "WARNING : Looping on wing area with new value equal to [16.00825931]\n",
      "WARNING : Ratio of span on fuselage depth outside of the range in Roskam's book, value clipped\n",
      "WARNING : Area ratio value outside of the range in Roskam's book, value clipped\n"
     ]
    },
    {
     "name": "stdout",
     "output_type": "stream",
     "text": [
      "NL: NLBGS 40 ; 213.541843 0.389461003\n"
     ]
    },
    {
     "name": "stderr",
     "output_type": "stream",
     "text": [
      "WARNING : Chord ratio value outside of the range in Roskam's book, value clipped\n",
      "WARNING : Chord ratio value outside of the range in Roskam's book, value clipped\n",
      "WARNING : Chord ratio value outside of the range in Roskam's book, value clipped\n",
      "WARNING : Chord ratio value outside of the range in Roskam's book, value clipped\n",
      "WARNING : Ratio of span on fuselage depth outside of the range in Roskam's book, value clipped\n",
      "WARNING : Area ratio value outside of the range in Roskam's book, value clipped\n",
      "INFO    : Entering mission computation\n",
      "INFO    : Entering mission computation\n",
      "INFO    : Entering mission computation\n",
      "WARNING : Looping on wing area with new value equal to [16.00815825]\n",
      "WARNING : Ratio of span on fuselage depth outside of the range in Roskam's book, value clipped\n",
      "WARNING : Area ratio value outside of the range in Roskam's book, value clipped\n"
     ]
    },
    {
     "name": "stdout",
     "output_type": "stream",
     "text": [
      "NL: NLBGS 41 ; 199.05406 0.363037954\n"
     ]
    },
    {
     "name": "stderr",
     "output_type": "stream",
     "text": [
      "WARNING : Chord ratio value outside of the range in Roskam's book, value clipped\n",
      "WARNING : Chord ratio value outside of the range in Roskam's book, value clipped\n",
      "WARNING : Chord ratio value outside of the range in Roskam's book, value clipped\n",
      "WARNING : Chord ratio value outside of the range in Roskam's book, value clipped\n",
      "WARNING : Ratio of span on fuselage depth outside of the range in Roskam's book, value clipped\n",
      "WARNING : Area ratio value outside of the range in Roskam's book, value clipped\n",
      "INFO    : Entering mission computation\n",
      "INFO    : Entering mission computation\n",
      "INFO    : Entering mission computation\n",
      "WARNING : Looping on wing area with new value equal to [16.00810041]\n",
      "WARNING : Ratio of span on fuselage depth outside of the range in Roskam's book, value clipped\n",
      "WARNING : Area ratio value outside of the range in Roskam's book, value clipped\n"
     ]
    },
    {
     "name": "stdout",
     "output_type": "stream",
     "text": [
      "NL: NLBGS 42 ; 61.7316226 0.112587113\n"
     ]
    },
    {
     "name": "stderr",
     "output_type": "stream",
     "text": [
      "WARNING : Chord ratio value outside of the range in Roskam's book, value clipped\n",
      "WARNING : Chord ratio value outside of the range in Roskam's book, value clipped\n",
      "WARNING : Chord ratio value outside of the range in Roskam's book, value clipped\n",
      "WARNING : Chord ratio value outside of the range in Roskam's book, value clipped\n",
      "WARNING : Ratio of span on fuselage depth outside of the range in Roskam's book, value clipped\n",
      "WARNING : Area ratio value outside of the range in Roskam's book, value clipped\n",
      "INFO    : Entering mission computation\n",
      "INFO    : Entering mission computation\n",
      "INFO    : Entering mission computation\n",
      "WARNING : Looping on wing area with new value equal to [16.00806435]\n",
      "WARNING : Ratio of span on fuselage depth outside of the range in Roskam's book, value clipped\n",
      "WARNING : Area ratio value outside of the range in Roskam's book, value clipped\n"
     ]
    },
    {
     "name": "stdout",
     "output_type": "stream",
     "text": [
      "NL: NLBGS 43 ; 33.4173719 0.0609471333\n"
     ]
    },
    {
     "name": "stderr",
     "output_type": "stream",
     "text": [
      "WARNING : Chord ratio value outside of the range in Roskam's book, value clipped\n",
      "WARNING : Chord ratio value outside of the range in Roskam's book, value clipped\n",
      "WARNING : Chord ratio value outside of the range in Roskam's book, value clipped\n",
      "WARNING : Chord ratio value outside of the range in Roskam's book, value clipped\n",
      "WARNING : Ratio of span on fuselage depth outside of the range in Roskam's book, value clipped\n",
      "WARNING : Area ratio value outside of the range in Roskam's book, value clipped\n",
      "INFO    : Entering mission computation\n",
      "INFO    : Entering mission computation\n",
      "INFO    : Entering mission computation\n",
      "WARNING : Looping on wing area with new value equal to [16.00876845]\n",
      "WARNING : Ratio of span on fuselage depth outside of the range in Roskam's book, value clipped\n",
      "WARNING : Area ratio value outside of the range in Roskam's book, value clipped\n"
     ]
    },
    {
     "name": "stdout",
     "output_type": "stream",
     "text": [
      "NL: NLBGS 44 ; 17.8514019 0.0325576702\n"
     ]
    },
    {
     "name": "stderr",
     "output_type": "stream",
     "text": [
      "WARNING : Chord ratio value outside of the range in Roskam's book, value clipped\n",
      "WARNING : Chord ratio value outside of the range in Roskam's book, value clipped\n",
      "WARNING : Chord ratio value outside of the range in Roskam's book, value clipped\n",
      "WARNING : Chord ratio value outside of the range in Roskam's book, value clipped\n",
      "WARNING : Ratio of span on fuselage depth outside of the range in Roskam's book, value clipped\n",
      "WARNING : Area ratio value outside of the range in Roskam's book, value clipped\n",
      "INFO    : Entering mission computation\n",
      "INFO    : Entering mission computation\n",
      "INFO    : Entering mission computation\n",
      "WARNING : Looping on wing area with new value equal to [16.00891762]\n",
      "WARNING : Ratio of span on fuselage depth outside of the range in Roskam's book, value clipped\n",
      "WARNING : Area ratio value outside of the range in Roskam's book, value clipped\n"
     ]
    },
    {
     "name": "stdout",
     "output_type": "stream",
     "text": [
      "NL: NLBGS 45 ; 224.864622 0.410111667\n"
     ]
    },
    {
     "name": "stderr",
     "output_type": "stream",
     "text": [
      "WARNING : Chord ratio value outside of the range in Roskam's book, value clipped\n",
      "WARNING : Chord ratio value outside of the range in Roskam's book, value clipped\n",
      "WARNING : Chord ratio value outside of the range in Roskam's book, value clipped\n",
      "WARNING : Chord ratio value outside of the range in Roskam's book, value clipped\n",
      "WARNING : Ratio of span on fuselage depth outside of the range in Roskam's book, value clipped\n",
      "WARNING : Area ratio value outside of the range in Roskam's book, value clipped\n",
      "INFO    : Entering mission computation\n",
      "INFO    : Entering mission computation\n",
      "INFO    : Entering mission computation\n",
      "WARNING : Looping on wing area with new value equal to [16.00903432]\n",
      "WARNING : Ratio of span on fuselage depth outside of the range in Roskam's book, value clipped\n",
      "WARNING : Area ratio value outside of the range in Roskam's book, value clipped\n"
     ]
    },
    {
     "name": "stdout",
     "output_type": "stream",
     "text": [
      "NL: NLBGS 46 ; 212.386412 0.387353709\n"
     ]
    },
    {
     "name": "stderr",
     "output_type": "stream",
     "text": [
      "WARNING : Chord ratio value outside of the range in Roskam's book, value clipped\n",
      "WARNING : Chord ratio value outside of the range in Roskam's book, value clipped\n",
      "WARNING : Chord ratio value outside of the range in Roskam's book, value clipped\n",
      "WARNING : Chord ratio value outside of the range in Roskam's book, value clipped\n",
      "WARNING : Ratio of span on fuselage depth outside of the range in Roskam's book, value clipped\n",
      "WARNING : Area ratio value outside of the range in Roskam's book, value clipped\n",
      "INFO    : Entering mission computation\n",
      "INFO    : Entering mission computation\n",
      "INFO    : Entering mission computation\n",
      "WARNING : Looping on wing area with new value equal to [16.00837769]\n",
      "WARNING : Ratio of span on fuselage depth outside of the range in Roskam's book, value clipped\n",
      "WARNING : Area ratio value outside of the range in Roskam's book, value clipped\n"
     ]
    },
    {
     "name": "stdout",
     "output_type": "stream",
     "text": [
      "NL: NLBGS 47 ; 69.8084381 0.127317737\n"
     ]
    },
    {
     "name": "stderr",
     "output_type": "stream",
     "text": [
      "WARNING : Chord ratio value outside of the range in Roskam's book, value clipped\n",
      "WARNING : Chord ratio value outside of the range in Roskam's book, value clipped\n",
      "WARNING : Chord ratio value outside of the range in Roskam's book, value clipped\n",
      "WARNING : Chord ratio value outside of the range in Roskam's book, value clipped\n",
      "WARNING : Ratio of span on fuselage depth outside of the range in Roskam's book, value clipped\n",
      "WARNING : Area ratio value outside of the range in Roskam's book, value clipped\n",
      "INFO    : Entering mission computation\n",
      "INFO    : Entering mission computation\n",
      "INFO    : Entering mission computation\n",
      "WARNING : Looping on wing area with new value equal to [16.00825931]\n",
      "WARNING : Ratio of span on fuselage depth outside of the range in Roskam's book, value clipped\n",
      "WARNING : Area ratio value outside of the range in Roskam's book, value clipped\n"
     ]
    },
    {
     "name": "stdout",
     "output_type": "stream",
     "text": [
      "NL: NLBGS 48 ; 213.541536 0.389460443\n"
     ]
    },
    {
     "name": "stderr",
     "output_type": "stream",
     "text": [
      "WARNING : Chord ratio value outside of the range in Roskam's book, value clipped\n",
      "WARNING : Chord ratio value outside of the range in Roskam's book, value clipped\n",
      "WARNING : Chord ratio value outside of the range in Roskam's book, value clipped\n",
      "WARNING : Chord ratio value outside of the range in Roskam's book, value clipped\n",
      "WARNING : Ratio of span on fuselage depth outside of the range in Roskam's book, value clipped\n",
      "WARNING : Area ratio value outside of the range in Roskam's book, value clipped\n",
      "INFO    : Entering mission computation\n",
      "INFO    : Entering mission computation\n",
      "INFO    : Entering mission computation\n",
      "WARNING : Looping on wing area with new value equal to [16.00815826]\n",
      "WARNING : Ratio of span on fuselage depth outside of the range in Roskam's book, value clipped\n",
      "WARNING : Area ratio value outside of the range in Roskam's book, value clipped\n"
     ]
    },
    {
     "name": "stdout",
     "output_type": "stream",
     "text": [
      "NL: NLBGS 49 ; 199.053999 0.363037843\n"
     ]
    },
    {
     "name": "stderr",
     "output_type": "stream",
     "text": [
      "WARNING : Chord ratio value outside of the range in Roskam's book, value clipped\n",
      "WARNING : Chord ratio value outside of the range in Roskam's book, value clipped\n",
      "WARNING : Chord ratio value outside of the range in Roskam's book, value clipped\n",
      "WARNING : Chord ratio value outside of the range in Roskam's book, value clipped\n",
      "WARNING : Ratio of span on fuselage depth outside of the range in Roskam's book, value clipped\n",
      "WARNING : Area ratio value outside of the range in Roskam's book, value clipped\n",
      "INFO    : Entering mission computation\n",
      "INFO    : Entering mission computation\n",
      "INFO    : Entering mission computation\n",
      "WARNING : Looping on wing area with new value equal to [16.0081004]\n"
     ]
    },
    {
     "name": "stdout",
     "output_type": "stream",
     "text": [
      "NL: NLBGS 50 ; 61.7295702 0.11258337\n",
      "NL: NLBGSSolver 'NL: NLBGS' on system '' failed to converge in 50 iterations.\n"
     ]
    },
    {
     "name": "stderr",
     "output_type": "stream",
     "text": [
      "WARNING : Ratio of span on fuselage depth outside of the range in Roskam's book, value clipped\n",
      "WARNING : Area ratio value outside of the range in Roskam's book, value clipped\n",
      "WARNING : Chord ratio value outside of the range in Roskam's book, value clipped\n",
      "WARNING : Chord ratio value outside of the range in Roskam's book, value clipped\n",
      "WARNING : Chord ratio value outside of the range in Roskam's book, value clipped\n",
      "WARNING : Chord ratio value outside of the range in Roskam's book, value clipped\n",
      "WARNING : Ratio of span on fuselage depth outside of the range in Roskam's book, value clipped\n",
      "WARNING : Area ratio value outside of the range in Roskam's book, value clipped\n",
      "INFO    : Entering mission computation\n",
      "INFO    : Entering mission computation\n",
      "INFO    : Entering mission computation\n",
      "WARNING : Looping on wing area with new value equal to [16.00806434]\n",
      "WARNING : Ratio of span on fuselage depth outside of the range in Roskam's book, value clipped\n",
      "WARNING : Area ratio value outside of the range in Roskam's book, value clipped\n"
     ]
    },
    {
     "name": "stdout",
     "output_type": "stream",
     "text": [
      "NL: NLBGS 1 ; 251.085638 1\n"
     ]
    },
    {
     "name": "stderr",
     "output_type": "stream",
     "text": [
      "WARNING : Chord ratio value outside of the range in Roskam's book, value clipped\n",
      "WARNING : Chord ratio value outside of the range in Roskam's book, value clipped\n",
      "WARNING : Chord ratio value outside of the range in Roskam's book, value clipped\n",
      "WARNING : Chord ratio value outside of the range in Roskam's book, value clipped\n",
      "WARNING : Ratio of span on fuselage depth outside of the range in Roskam's book, value clipped\n",
      "WARNING : Area ratio value outside of the range in Roskam's book, value clipped\n",
      "INFO    : Entering mission computation\n",
      "INFO    : Entering mission computation\n",
      "INFO    : Entering mission computation\n",
      "WARNING : Looping on wing area with new value equal to [15.9384026]\n",
      "WARNING : Ratio of span on fuselage depth outside of the range in Roskam's book, value clipped\n",
      "WARNING : Area ratio value outside of the range in Roskam's book, value clipped\n"
     ]
    },
    {
     "name": "stdout",
     "output_type": "stream",
     "text": [
      "NL: NLBGS 2 ; 199541.876 794.716409\n"
     ]
    },
    {
     "name": "stderr",
     "output_type": "stream",
     "text": [
      "WARNING : Chord ratio value outside of the range in Roskam's book, value clipped\n",
      "WARNING : Chord ratio value outside of the range in Roskam's book, value clipped\n",
      "WARNING : Chord ratio value outside of the range in Roskam's book, value clipped\n",
      "WARNING : Chord ratio value outside of the range in Roskam's book, value clipped\n",
      "WARNING : Ratio of span on fuselage depth outside of the range in Roskam's book, value clipped\n",
      "WARNING : Area ratio value outside of the range in Roskam's book, value clipped\n",
      "INFO    : Entering mission computation\n",
      "INFO    : Entering mission computation\n",
      "INFO    : Entering mission computation\n",
      "WARNING : Looping on wing area with new value equal to [15.94373011]\n",
      "WARNING : Ratio of span on fuselage depth outside of the range in Roskam's book, value clipped\n",
      "WARNING : Area ratio value outside of the range in Roskam's book, value clipped\n"
     ]
    },
    {
     "name": "stdout",
     "output_type": "stream",
     "text": [
      "NL: NLBGS 3 ; 22888.4309 91.1578661\n"
     ]
    },
    {
     "name": "stderr",
     "output_type": "stream",
     "text": [
      "WARNING : Chord ratio value outside of the range in Roskam's book, value clipped\n",
      "WARNING : Chord ratio value outside of the range in Roskam's book, value clipped\n",
      "WARNING : Chord ratio value outside of the range in Roskam's book, value clipped\n",
      "WARNING : Chord ratio value outside of the range in Roskam's book, value clipped\n",
      "WARNING : Ratio of span on fuselage depth outside of the range in Roskam's book, value clipped\n",
      "WARNING : Area ratio value outside of the range in Roskam's book, value clipped\n",
      "INFO    : Entering mission computation\n",
      "INFO    : Entering mission computation\n",
      "INFO    : Entering mission computation\n",
      "WARNING : Looping on wing area with new value equal to [15.94198181]\n",
      "WARNING : Ratio of span on fuselage depth outside of the range in Roskam's book, value clipped\n",
      "WARNING : Area ratio value outside of the range in Roskam's book, value clipped\n"
     ]
    },
    {
     "name": "stdout",
     "output_type": "stream",
     "text": [
      "NL: NLBGS 4 ; 37513.0646 149.403466\n"
     ]
    },
    {
     "name": "stderr",
     "output_type": "stream",
     "text": [
      "WARNING : Chord ratio value outside of the range in Roskam's book, value clipped\n",
      "WARNING : Chord ratio value outside of the range in Roskam's book, value clipped\n",
      "WARNING : Chord ratio value outside of the range in Roskam's book, value clipped\n",
      "WARNING : Chord ratio value outside of the range in Roskam's book, value clipped\n",
      "WARNING : Ratio of span on fuselage depth outside of the range in Roskam's book, value clipped\n",
      "WARNING : Area ratio value outside of the range in Roskam's book, value clipped\n",
      "INFO    : Entering mission computation\n",
      "INFO    : Entering mission computation\n",
      "INFO    : Entering mission computation\n",
      "WARNING : Looping on wing area with new value equal to [15.93261868]\n",
      "WARNING : Ratio of span on fuselage depth outside of the range in Roskam's book, value clipped\n",
      "WARNING : Area ratio value outside of the range in Roskam's book, value clipped\n"
     ]
    },
    {
     "name": "stdout",
     "output_type": "stream",
     "text": [
      "NL: NLBGS 5 ; 11388.119 45.3555172\n"
     ]
    },
    {
     "name": "stderr",
     "output_type": "stream",
     "text": [
      "WARNING : Chord ratio value outside of the range in Roskam's book, value clipped\n",
      "WARNING : Chord ratio value outside of the range in Roskam's book, value clipped\n",
      "WARNING : Chord ratio value outside of the range in Roskam's book, value clipped\n",
      "WARNING : Chord ratio value outside of the range in Roskam's book, value clipped\n",
      "WARNING : Ratio of span on fuselage depth outside of the range in Roskam's book, value clipped\n",
      "WARNING : Area ratio value outside of the range in Roskam's book, value clipped\n",
      "INFO    : Entering mission computation\n",
      "INFO    : Entering mission computation\n",
      "INFO    : Entering mission computation\n",
      "WARNING : Looping on wing area with new value equal to [15.92688447]\n",
      "WARNING : Ratio of span on fuselage depth outside of the range in Roskam's book, value clipped\n",
      "WARNING : Area ratio value outside of the range in Roskam's book, value clipped\n"
     ]
    },
    {
     "name": "stdout",
     "output_type": "stream",
     "text": [
      "NL: NLBGS 6 ; 5321.53354 21.1940977\n"
     ]
    },
    {
     "name": "stderr",
     "output_type": "stream",
     "text": [
      "WARNING : Chord ratio value outside of the range in Roskam's book, value clipped\n",
      "WARNING : Chord ratio value outside of the range in Roskam's book, value clipped\n",
      "WARNING : Chord ratio value outside of the range in Roskam's book, value clipped\n",
      "WARNING : Chord ratio value outside of the range in Roskam's book, value clipped\n",
      "WARNING : Ratio of span on fuselage depth outside of the range in Roskam's book, value clipped\n",
      "WARNING : Area ratio value outside of the range in Roskam's book, value clipped\n",
      "INFO    : Entering mission computation\n",
      "INFO    : Entering mission computation\n",
      "INFO    : Entering mission computation\n",
      "WARNING : Looping on wing area with new value equal to [15.92333428]\n",
      "WARNING : Ratio of span on fuselage depth outside of the range in Roskam's book, value clipped\n",
      "WARNING : Area ratio value outside of the range in Roskam's book, value clipped\n"
     ]
    },
    {
     "name": "stdout",
     "output_type": "stream",
     "text": [
      "NL: NLBGS 7 ; 4434.80753 17.6625297\n"
     ]
    },
    {
     "name": "stderr",
     "output_type": "stream",
     "text": [
      "WARNING : Chord ratio value outside of the range in Roskam's book, value clipped\n",
      "WARNING : Chord ratio value outside of the range in Roskam's book, value clipped\n",
      "WARNING : Chord ratio value outside of the range in Roskam's book, value clipped\n",
      "WARNING : Chord ratio value outside of the range in Roskam's book, value clipped\n",
      "WARNING : Ratio of span on fuselage depth outside of the range in Roskam's book, value clipped\n",
      "WARNING : Area ratio value outside of the range in Roskam's book, value clipped\n",
      "INFO    : Entering mission computation\n",
      "INFO    : Entering mission computation\n",
      "INFO    : Entering mission computation\n",
      "WARNING : Looping on wing area with new value equal to [15.92118121]\n",
      "WARNING : Ratio of span on fuselage depth outside of the range in Roskam's book, value clipped\n",
      "WARNING : Area ratio value outside of the range in Roskam's book, value clipped\n"
     ]
    },
    {
     "name": "stdout",
     "output_type": "stream",
     "text": [
      "NL: NLBGS 8 ; 2565.09413 10.216013\n"
     ]
    },
    {
     "name": "stderr",
     "output_type": "stream",
     "text": [
      "WARNING : Chord ratio value outside of the range in Roskam's book, value clipped\n",
      "WARNING : Chord ratio value outside of the range in Roskam's book, value clipped\n",
      "WARNING : Chord ratio value outside of the range in Roskam's book, value clipped\n",
      "WARNING : Chord ratio value outside of the range in Roskam's book, value clipped\n",
      "WARNING : Ratio of span on fuselage depth outside of the range in Roskam's book, value clipped\n",
      "WARNING : Area ratio value outside of the range in Roskam's book, value clipped\n",
      "INFO    : Entering mission computation\n",
      "INFO    : Entering mission computation\n",
      "INFO    : Entering mission computation\n",
      "WARNING : Looping on wing area with new value equal to [15.91991715]\n",
      "WARNING : Ratio of span on fuselage depth outside of the range in Roskam's book, value clipped\n",
      "WARNING : Area ratio value outside of the range in Roskam's book, value clipped\n"
     ]
    },
    {
     "name": "stdout",
     "output_type": "stream",
     "text": [
      "NL: NLBGS 9 ; 1372.46147 5.46610901\n"
     ]
    },
    {
     "name": "stderr",
     "output_type": "stream",
     "text": [
      "WARNING : Chord ratio value outside of the range in Roskam's book, value clipped\n",
      "WARNING : Chord ratio value outside of the range in Roskam's book, value clipped\n",
      "WARNING : Chord ratio value outside of the range in Roskam's book, value clipped\n",
      "WARNING : Chord ratio value outside of the range in Roskam's book, value clipped\n",
      "WARNING : Ratio of span on fuselage depth outside of the range in Roskam's book, value clipped\n",
      "WARNING : Area ratio value outside of the range in Roskam's book, value clipped\n",
      "INFO    : Entering mission computation\n",
      "INFO    : Entering mission computation\n",
      "INFO    : Entering mission computation\n",
      "WARNING : Looping on wing area with new value equal to [15.9192047]\n",
      "WARNING : Ratio of span on fuselage depth outside of the range in Roskam's book, value clipped\n",
      "WARNING : Area ratio value outside of the range in Roskam's book, value clipped\n"
     ]
    },
    {
     "name": "stdout",
     "output_type": "stream",
     "text": [
      "NL: NLBGS 10 ; 731.663149 2.91399841\n"
     ]
    },
    {
     "name": "stderr",
     "output_type": "stream",
     "text": [
      "WARNING : Chord ratio value outside of the range in Roskam's book, value clipped\n",
      "WARNING : Chord ratio value outside of the range in Roskam's book, value clipped\n",
      "WARNING : Chord ratio value outside of the range in Roskam's book, value clipped\n",
      "WARNING : Chord ratio value outside of the range in Roskam's book, value clipped\n",
      "WARNING : Ratio of span on fuselage depth outside of the range in Roskam's book, value clipped\n",
      "WARNING : Area ratio value outside of the range in Roskam's book, value clipped\n",
      "INFO    : Entering mission computation\n",
      "INFO    : Entering mission computation\n",
      "INFO    : Entering mission computation\n",
      "WARNING : Looping on wing area with new value equal to [15.91882295]\n",
      "WARNING : Ratio of span on fuselage depth outside of the range in Roskam's book, value clipped\n",
      "WARNING : Area ratio value outside of the range in Roskam's book, value clipped\n"
     ]
    },
    {
     "name": "stdout",
     "output_type": "stream",
     "text": [
      "NL: NLBGS 11 ; 737.887498 2.93878815\n"
     ]
    },
    {
     "name": "stderr",
     "output_type": "stream",
     "text": [
      "WARNING : Chord ratio value outside of the range in Roskam's book, value clipped\n",
      "WARNING : Chord ratio value outside of the range in Roskam's book, value clipped\n",
      "WARNING : Chord ratio value outside of the range in Roskam's book, value clipped\n",
      "WARNING : Chord ratio value outside of the range in Roskam's book, value clipped\n",
      "WARNING : Ratio of span on fuselage depth outside of the range in Roskam's book, value clipped\n",
      "WARNING : Area ratio value outside of the range in Roskam's book, value clipped\n",
      "INFO    : Entering mission computation\n",
      "INFO    : Entering mission computation\n",
      "INFO    : Entering mission computation\n",
      "WARNING : Looping on wing area with new value equal to [15.91862315]\n",
      "WARNING : Ratio of span on fuselage depth outside of the range in Roskam's book, value clipped\n",
      "WARNING : Area ratio value outside of the range in Roskam's book, value clipped\n"
     ]
    },
    {
     "name": "stdout",
     "output_type": "stream",
     "text": [
      "NL: NLBGS 12 ; 172.950623 0.688811294\n"
     ]
    },
    {
     "name": "stderr",
     "output_type": "stream",
     "text": [
      "WARNING : Chord ratio value outside of the range in Roskam's book, value clipped\n",
      "WARNING : Chord ratio value outside of the range in Roskam's book, value clipped\n",
      "WARNING : Chord ratio value outside of the range in Roskam's book, value clipped\n",
      "WARNING : Chord ratio value outside of the range in Roskam's book, value clipped\n",
      "WARNING : Ratio of span on fuselage depth outside of the range in Roskam's book, value clipped\n",
      "WARNING : Area ratio value outside of the range in Roskam's book, value clipped\n",
      "INFO    : Entering mission computation\n",
      "INFO    : Entering mission computation\n",
      "INFO    : Entering mission computation\n",
      "WARNING : Looping on wing area with new value equal to [15.91853054]\n",
      "WARNING : Ratio of span on fuselage depth outside of the range in Roskam's book, value clipped\n",
      "WARNING : Area ratio value outside of the range in Roskam's book, value clipped\n"
     ]
    },
    {
     "name": "stdout",
     "output_type": "stream",
     "text": [
      "NL: NLBGS 13 ; 72.3157673 0.288012361\n"
     ]
    },
    {
     "name": "stderr",
     "output_type": "stream",
     "text": [
      "WARNING : Chord ratio value outside of the range in Roskam's book, value clipped\n",
      "WARNING : Chord ratio value outside of the range in Roskam's book, value clipped\n",
      "WARNING : Chord ratio value outside of the range in Roskam's book, value clipped\n",
      "WARNING : Chord ratio value outside of the range in Roskam's book, value clipped\n",
      "WARNING : Ratio of span on fuselage depth outside of the range in Roskam's book, value clipped\n",
      "WARNING : Area ratio value outside of the range in Roskam's book, value clipped\n",
      "INFO    : Entering mission computation\n",
      "INFO    : Entering mission computation\n",
      "INFO    : Entering mission computation\n",
      "WARNING : Looping on wing area with new value equal to [15.91850151]\n",
      "WARNING : Ratio of span on fuselage depth outside of the range in Roskam's book, value clipped\n",
      "WARNING : Area ratio value outside of the range in Roskam's book, value clipped\n"
     ]
    },
    {
     "name": "stdout",
     "output_type": "stream",
     "text": [
      "NL: NLBGS 14 ; 36.8029538 0.146575304\n"
     ]
    },
    {
     "name": "stderr",
     "output_type": "stream",
     "text": [
      "WARNING : Chord ratio value outside of the range in Roskam's book, value clipped\n",
      "WARNING : Chord ratio value outside of the range in Roskam's book, value clipped\n",
      "WARNING : Chord ratio value outside of the range in Roskam's book, value clipped\n",
      "WARNING : Chord ratio value outside of the range in Roskam's book, value clipped\n",
      "WARNING : Ratio of span on fuselage depth outside of the range in Roskam's book, value clipped\n",
      "WARNING : Area ratio value outside of the range in Roskam's book, value clipped\n",
      "INFO    : Entering mission computation\n",
      "INFO    : Entering mission computation\n",
      "INFO    : Entering mission computation\n",
      "WARNING : Looping on wing area with new value equal to [15.91849499]\n",
      "WARNING : Ratio of span on fuselage depth outside of the range in Roskam's book, value clipped\n",
      "WARNING : Area ratio value outside of the range in Roskam's book, value clipped\n"
     ]
    },
    {
     "name": "stdout",
     "output_type": "stream",
     "text": [
      "NL: NLBGS 15 ; 15.8223122 0.0630156002\n"
     ]
    },
    {
     "name": "stderr",
     "output_type": "stream",
     "text": [
      "WARNING : Chord ratio value outside of the range in Roskam's book, value clipped\n",
      "WARNING : Chord ratio value outside of the range in Roskam's book, value clipped\n",
      "WARNING : Chord ratio value outside of the range in Roskam's book, value clipped\n",
      "WARNING : Chord ratio value outside of the range in Roskam's book, value clipped\n",
      "WARNING : Ratio of span on fuselage depth outside of the range in Roskam's book, value clipped\n",
      "WARNING : Area ratio value outside of the range in Roskam's book, value clipped\n",
      "INFO    : Entering mission computation\n",
      "INFO    : Entering mission computation\n",
      "INFO    : Entering mission computation\n",
      "WARNING : Looping on wing area with new value equal to [15.91849618]\n",
      "WARNING : Ratio of span on fuselage depth outside of the range in Roskam's book, value clipped\n",
      "WARNING : Area ratio value outside of the range in Roskam's book, value clipped\n"
     ]
    },
    {
     "name": "stdout",
     "output_type": "stream",
     "text": [
      "NL: NLBGS 16 ; 10.384788 0.041359546\n"
     ]
    },
    {
     "name": "stderr",
     "output_type": "stream",
     "text": [
      "WARNING : Chord ratio value outside of the range in Roskam's book, value clipped\n",
      "WARNING : Chord ratio value outside of the range in Roskam's book, value clipped\n",
      "WARNING : Chord ratio value outside of the range in Roskam's book, value clipped\n",
      "WARNING : Chord ratio value outside of the range in Roskam's book, value clipped\n",
      "WARNING : Ratio of span on fuselage depth outside of the range in Roskam's book, value clipped\n",
      "WARNING : Area ratio value outside of the range in Roskam's book, value clipped\n",
      "INFO    : Entering mission computation\n",
      "INFO    : Entering mission computation\n",
      "INFO    : Entering mission computation\n",
      "WARNING : Looping on wing area with new value equal to [15.91849921]\n",
      "WARNING : Ratio of span on fuselage depth outside of the range in Roskam's book, value clipped\n",
      "WARNING : Area ratio value outside of the range in Roskam's book, value clipped\n"
     ]
    },
    {
     "name": "stdout",
     "output_type": "stream",
     "text": [
      "NL: NLBGS 17 ; 7.2676715 0.0289449909\n"
     ]
    },
    {
     "name": "stderr",
     "output_type": "stream",
     "text": [
      "WARNING : Chord ratio value outside of the range in Roskam's book, value clipped\n",
      "WARNING : Chord ratio value outside of the range in Roskam's book, value clipped\n",
      "WARNING : Chord ratio value outside of the range in Roskam's book, value clipped\n",
      "WARNING : Chord ratio value outside of the range in Roskam's book, value clipped\n",
      "WARNING : Ratio of span on fuselage depth outside of the range in Roskam's book, value clipped\n",
      "WARNING : Area ratio value outside of the range in Roskam's book, value clipped\n",
      "INFO    : Entering mission computation\n",
      "INFO    : Entering mission computation\n",
      "INFO    : Entering mission computation\n",
      "WARNING : Looping on wing area with new value equal to [15.9185023]\n",
      "WARNING : Ratio of span on fuselage depth outside of the range in Roskam's book, value clipped\n",
      "WARNING : Area ratio value outside of the range in Roskam's book, value clipped\n"
     ]
    },
    {
     "name": "stdout",
     "output_type": "stream",
     "text": [
      "NL: NLBGS 18 ; 4.85847584 0.0193498756\n"
     ]
    },
    {
     "name": "stderr",
     "output_type": "stream",
     "text": [
      "WARNING : Chord ratio value outside of the range in Roskam's book, value clipped\n",
      "WARNING : Chord ratio value outside of the range in Roskam's book, value clipped\n",
      "WARNING : Chord ratio value outside of the range in Roskam's book, value clipped\n",
      "WARNING : Chord ratio value outside of the range in Roskam's book, value clipped\n",
      "WARNING : Ratio of span on fuselage depth outside of the range in Roskam's book, value clipped\n",
      "WARNING : Area ratio value outside of the range in Roskam's book, value clipped\n",
      "INFO    : Entering mission computation\n",
      "INFO    : Entering mission computation\n",
      "INFO    : Entering mission computation\n",
      "WARNING : Looping on wing area with new value equal to [15.91850462]\n",
      "WARNING : Ratio of span on fuselage depth outside of the range in Roskam's book, value clipped\n",
      "WARNING : Area ratio value outside of the range in Roskam's book, value clipped\n"
     ]
    },
    {
     "name": "stdout",
     "output_type": "stream",
     "text": [
      "NL: NLBGS 19 ; 2.96183397 0.0117961107\n"
     ]
    },
    {
     "name": "stderr",
     "output_type": "stream",
     "text": [
      "WARNING : Chord ratio value outside of the range in Roskam's book, value clipped\n",
      "WARNING : Chord ratio value outside of the range in Roskam's book, value clipped\n",
      "WARNING : Chord ratio value outside of the range in Roskam's book, value clipped\n",
      "WARNING : Chord ratio value outside of the range in Roskam's book, value clipped\n",
      "WARNING : Ratio of span on fuselage depth outside of the range in Roskam's book, value clipped\n",
      "WARNING : Area ratio value outside of the range in Roskam's book, value clipped\n",
      "INFO    : Entering mission computation\n",
      "INFO    : Entering mission computation\n",
      "INFO    : Entering mission computation\n",
      "WARNING : Looping on wing area with new value equal to [15.91850603]\n",
      "WARNING : Ratio of span on fuselage depth outside of the range in Roskam's book, value clipped\n",
      "WARNING : Area ratio value outside of the range in Roskam's book, value clipped\n"
     ]
    },
    {
     "name": "stdout",
     "output_type": "stream",
     "text": [
      "NL: NLBGS 20 ; 1.84714405 0.00735662967\n"
     ]
    },
    {
     "name": "stderr",
     "output_type": "stream",
     "text": [
      "WARNING : Chord ratio value outside of the range in Roskam's book, value clipped\n",
      "WARNING : Chord ratio value outside of the range in Roskam's book, value clipped\n",
      "WARNING : Chord ratio value outside of the range in Roskam's book, value clipped\n",
      "WARNING : Chord ratio value outside of the range in Roskam's book, value clipped\n",
      "WARNING : Ratio of span on fuselage depth outside of the range in Roskam's book, value clipped\n",
      "WARNING : Area ratio value outside of the range in Roskam's book, value clipped\n",
      "INFO    : Entering mission computation\n",
      "INFO    : Entering mission computation\n",
      "INFO    : Entering mission computation\n",
      "WARNING : Looping on wing area with new value equal to [15.91850701]\n",
      "WARNING : Ratio of span on fuselage depth outside of the range in Roskam's book, value clipped\n",
      "WARNING : Area ratio value outside of the range in Roskam's book, value clipped\n"
     ]
    },
    {
     "name": "stdout",
     "output_type": "stream",
     "text": [
      "NL: NLBGS 21 ; 1.22248552 0.00486879909\n"
     ]
    },
    {
     "name": "stderr",
     "output_type": "stream",
     "text": [
      "WARNING : Chord ratio value outside of the range in Roskam's book, value clipped\n",
      "WARNING : Chord ratio value outside of the range in Roskam's book, value clipped\n",
      "WARNING : Chord ratio value outside of the range in Roskam's book, value clipped\n",
      "WARNING : Chord ratio value outside of the range in Roskam's book, value clipped\n",
      "WARNING : Ratio of span on fuselage depth outside of the range in Roskam's book, value clipped\n",
      "WARNING : Area ratio value outside of the range in Roskam's book, value clipped\n",
      "INFO    : Entering mission computation\n",
      "INFO    : Entering mission computation\n",
      "INFO    : Entering mission computation\n",
      "WARNING : Looping on wing area with new value equal to [15.91850759]\n",
      "WARNING : Ratio of span on fuselage depth outside of the range in Roskam's book, value clipped\n",
      "WARNING : Area ratio value outside of the range in Roskam's book, value clipped\n"
     ]
    },
    {
     "name": "stdout",
     "output_type": "stream",
     "text": [
      "NL: NLBGS 22 ; 0.499041646 0.00198753561\n"
     ]
    },
    {
     "name": "stderr",
     "output_type": "stream",
     "text": [
      "WARNING : Chord ratio value outside of the range in Roskam's book, value clipped\n",
      "WARNING : Chord ratio value outside of the range in Roskam's book, value clipped\n",
      "WARNING : Chord ratio value outside of the range in Roskam's book, value clipped\n",
      "WARNING : Chord ratio value outside of the range in Roskam's book, value clipped\n",
      "WARNING : Ratio of span on fuselage depth outside of the range in Roskam's book, value clipped\n",
      "WARNING : Area ratio value outside of the range in Roskam's book, value clipped\n",
      "INFO    : Entering mission computation\n",
      "INFO    : Entering mission computation\n",
      "INFO    : Entering mission computation\n",
      "WARNING : Looping on wing area with new value equal to [15.91850791]\n",
      "WARNING : Ratio of span on fuselage depth outside of the range in Roskam's book, value clipped\n",
      "WARNING : Area ratio value outside of the range in Roskam's book, value clipped\n"
     ]
    },
    {
     "name": "stdout",
     "output_type": "stream",
     "text": [
      "NL: NLBGS 23 ; 0.336343992 0.00133955887\n"
     ]
    },
    {
     "name": "stderr",
     "output_type": "stream",
     "text": [
      "WARNING : Chord ratio value outside of the range in Roskam's book, value clipped\n",
      "WARNING : Chord ratio value outside of the range in Roskam's book, value clipped\n",
      "WARNING : Chord ratio value outside of the range in Roskam's book, value clipped\n",
      "WARNING : Chord ratio value outside of the range in Roskam's book, value clipped\n",
      "WARNING : Ratio of span on fuselage depth outside of the range in Roskam's book, value clipped\n",
      "WARNING : Area ratio value outside of the range in Roskam's book, value clipped\n",
      "INFO    : Entering mission computation\n",
      "INFO    : Entering mission computation\n",
      "INFO    : Entering mission computation\n",
      "WARNING : Looping on wing area with new value equal to [15.91850809]\n"
     ]
    },
    {
     "name": "stdout",
     "output_type": "stream",
     "text": [
      "NL: NLBGS 24 ; 0.191639269 0.000763242658\n",
      "NL: NLBGS Converged\n"
     ]
    },
    {
     "name": "stderr",
     "output_type": "stream",
     "text": [
      "WARNING : Ratio of span on fuselage depth outside of the range in Roskam's book, value clipped\n",
      "WARNING : Area ratio value outside of the range in Roskam's book, value clipped\n",
      "WARNING : Chord ratio value outside of the range in Roskam's book, value clipped\n",
      "WARNING : Chord ratio value outside of the range in Roskam's book, value clipped\n",
      "WARNING : Chord ratio value outside of the range in Roskam's book, value clipped\n",
      "WARNING : Chord ratio value outside of the range in Roskam's book, value clipped\n",
      "WARNING : Ratio of span on fuselage depth outside of the range in Roskam's book, value clipped\n",
      "WARNING : Area ratio value outside of the range in Roskam's book, value clipped\n",
      "INFO    : Entering mission computation\n",
      "INFO    : Entering mission computation\n",
      "INFO    : Entering mission computation\n",
      "WARNING : Looping on wing area with new value equal to [15.91850818]\n",
      "WARNING : Ratio of span on fuselage depth outside of the range in Roskam's book, value clipped\n",
      "WARNING : Area ratio value outside of the range in Roskam's book, value clipped\n"
     ]
    },
    {
     "name": "stdout",
     "output_type": "stream",
     "text": [
      "NL: NLBGS 1 ; 147.332917 1\n"
     ]
    },
    {
     "name": "stderr",
     "output_type": "stream",
     "text": [
      "WARNING : Chord ratio value outside of the range in Roskam's book, value clipped\n",
      "WARNING : Chord ratio value outside of the range in Roskam's book, value clipped\n",
      "WARNING : Chord ratio value outside of the range in Roskam's book, value clipped\n",
      "WARNING : Chord ratio value outside of the range in Roskam's book, value clipped\n",
      "WARNING : Ratio of span on fuselage depth outside of the range in Roskam's book, value clipped\n",
      "WARNING : Area ratio value outside of the range in Roskam's book, value clipped\n",
      "INFO    : Entering mission computation\n",
      "INFO    : Entering mission computation\n",
      "INFO    : Entering mission computation\n",
      "WARNING : Looping on wing area with new value equal to [15.95857915]\n",
      "WARNING : Ratio of span on fuselage depth outside of the range in Roskam's book, value clipped\n",
      "WARNING : Area ratio value outside of the range in Roskam's book, value clipped\n"
     ]
    },
    {
     "name": "stdout",
     "output_type": "stream",
     "text": [
      "NL: NLBGS 2 ; 115899.139 786.647962\n"
     ]
    },
    {
     "name": "stderr",
     "output_type": "stream",
     "text": [
      "WARNING : Chord ratio value outside of the range in Roskam's book, value clipped\n",
      "WARNING : Chord ratio value outside of the range in Roskam's book, value clipped\n",
      "WARNING : Chord ratio value outside of the range in Roskam's book, value clipped\n",
      "WARNING : Chord ratio value outside of the range in Roskam's book, value clipped\n",
      "WARNING : Ratio of span on fuselage depth outside of the range in Roskam's book, value clipped\n",
      "WARNING : Area ratio value outside of the range in Roskam's book, value clipped\n",
      "INFO    : Entering mission computation\n",
      "INFO    : Entering mission computation\n",
      "INFO    : Entering mission computation\n",
      "WARNING : Looping on wing area with new value equal to [15.95438751]\n",
      "WARNING : Ratio of span on fuselage depth outside of the range in Roskam's book, value clipped\n",
      "WARNING : Area ratio value outside of the range in Roskam's book, value clipped\n"
     ]
    },
    {
     "name": "stdout",
     "output_type": "stream",
     "text": [
      "NL: NLBGS 3 ; 13709.9607 93.0542954\n"
     ]
    },
    {
     "name": "stderr",
     "output_type": "stream",
     "text": [
      "WARNING : Chord ratio value outside of the range in Roskam's book, value clipped\n",
      "WARNING : Chord ratio value outside of the range in Roskam's book, value clipped\n",
      "WARNING : Chord ratio value outside of the range in Roskam's book, value clipped\n",
      "WARNING : Chord ratio value outside of the range in Roskam's book, value clipped\n",
      "WARNING : Ratio of span on fuselage depth outside of the range in Roskam's book, value clipped\n",
      "WARNING : Area ratio value outside of the range in Roskam's book, value clipped\n",
      "INFO    : Entering mission computation\n",
      "INFO    : Entering mission computation\n",
      "INFO    : Entering mission computation\n",
      "WARNING : Looping on wing area with new value equal to [15.9569612]\n",
      "WARNING : Ratio of span on fuselage depth outside of the range in Roskam's book, value clipped\n",
      "WARNING : Area ratio value outside of the range in Roskam's book, value clipped\n"
     ]
    },
    {
     "name": "stdout",
     "output_type": "stream",
     "text": [
      "NL: NLBGS 4 ; 21175.9604 143.728645\n"
     ]
    },
    {
     "name": "stderr",
     "output_type": "stream",
     "text": [
      "WARNING : Chord ratio value outside of the range in Roskam's book, value clipped\n",
      "WARNING : Chord ratio value outside of the range in Roskam's book, value clipped\n",
      "WARNING : Chord ratio value outside of the range in Roskam's book, value clipped\n",
      "WARNING : Chord ratio value outside of the range in Roskam's book, value clipped\n",
      "WARNING : Ratio of span on fuselage depth outside of the range in Roskam's book, value clipped\n",
      "WARNING : Area ratio value outside of the range in Roskam's book, value clipped\n",
      "INFO    : Entering mission computation\n",
      "INFO    : Entering mission computation\n",
      "INFO    : Entering mission computation\n",
      "WARNING : Looping on wing area with new value equal to [15.96063718]\n",
      "WARNING : Ratio of span on fuselage depth outside of the range in Roskam's book, value clipped\n",
      "WARNING : Area ratio value outside of the range in Roskam's book, value clipped\n"
     ]
    },
    {
     "name": "stdout",
     "output_type": "stream",
     "text": [
      "NL: NLBGS 5 ; 5958.34039 40.4413387\n"
     ]
    },
    {
     "name": "stderr",
     "output_type": "stream",
     "text": [
      "WARNING : Chord ratio value outside of the range in Roskam's book, value clipped\n",
      "WARNING : Chord ratio value outside of the range in Roskam's book, value clipped\n",
      "WARNING : Chord ratio value outside of the range in Roskam's book, value clipped\n",
      "WARNING : Chord ratio value outside of the range in Roskam's book, value clipped\n",
      "WARNING : Ratio of span on fuselage depth outside of the range in Roskam's book, value clipped\n",
      "WARNING : Area ratio value outside of the range in Roskam's book, value clipped\n",
      "INFO    : Entering mission computation\n",
      "INFO    : Entering mission computation\n",
      "INFO    : Entering mission computation\n",
      "WARNING : Looping on wing area with new value equal to [15.96363676]\n",
      "WARNING : Ratio of span on fuselage depth outside of the range in Roskam's book, value clipped\n",
      "WARNING : Area ratio value outside of the range in Roskam's book, value clipped\n"
     ]
    },
    {
     "name": "stdout",
     "output_type": "stream",
     "text": [
      "NL: NLBGS 6 ; 3026.37681 20.5410772\n"
     ]
    },
    {
     "name": "stderr",
     "output_type": "stream",
     "text": [
      "WARNING : Chord ratio value outside of the range in Roskam's book, value clipped\n",
      "WARNING : Chord ratio value outside of the range in Roskam's book, value clipped\n",
      "WARNING : Chord ratio value outside of the range in Roskam's book, value clipped\n",
      "WARNING : Chord ratio value outside of the range in Roskam's book, value clipped\n",
      "WARNING : Ratio of span on fuselage depth outside of the range in Roskam's book, value clipped\n",
      "WARNING : Area ratio value outside of the range in Roskam's book, value clipped\n",
      "INFO    : Entering mission computation\n",
      "INFO    : Entering mission computation\n",
      "INFO    : Entering mission computation\n",
      "WARNING : Looping on wing area with new value equal to [15.96539282]\n",
      "WARNING : Ratio of span on fuselage depth outside of the range in Roskam's book, value clipped\n",
      "WARNING : Area ratio value outside of the range in Roskam's book, value clipped\n"
     ]
    },
    {
     "name": "stdout",
     "output_type": "stream",
     "text": [
      "NL: NLBGS 7 ; 2009.23037 13.6373488\n"
     ]
    },
    {
     "name": "stderr",
     "output_type": "stream",
     "text": [
      "WARNING : Chord ratio value outside of the range in Roskam's book, value clipped\n",
      "WARNING : Chord ratio value outside of the range in Roskam's book, value clipped\n",
      "WARNING : Chord ratio value outside of the range in Roskam's book, value clipped\n",
      "WARNING : Chord ratio value outside of the range in Roskam's book, value clipped\n",
      "WARNING : Ratio of span on fuselage depth outside of the range in Roskam's book, value clipped\n",
      "WARNING : Area ratio value outside of the range in Roskam's book, value clipped\n",
      "INFO    : Entering mission computation\n",
      "INFO    : Entering mission computation\n",
      "INFO    : Entering mission computation\n",
      "WARNING : Looping on wing area with new value equal to [15.9664681]\n",
      "WARNING : Ratio of span on fuselage depth outside of the range in Roskam's book, value clipped\n",
      "WARNING : Area ratio value outside of the range in Roskam's book, value clipped\n"
     ]
    },
    {
     "name": "stdout",
     "output_type": "stream",
     "text": [
      "NL: NLBGS 8 ; 1255.56229 8.52194013\n"
     ]
    },
    {
     "name": "stderr",
     "output_type": "stream",
     "text": [
      "WARNING : Chord ratio value outside of the range in Roskam's book, value clipped\n",
      "WARNING : Chord ratio value outside of the range in Roskam's book, value clipped\n",
      "WARNING : Chord ratio value outside of the range in Roskam's book, value clipped\n",
      "WARNING : Chord ratio value outside of the range in Roskam's book, value clipped\n",
      "WARNING : Ratio of span on fuselage depth outside of the range in Roskam's book, value clipped\n",
      "WARNING : Area ratio value outside of the range in Roskam's book, value clipped\n",
      "INFO    : Entering mission computation\n",
      "INFO    : Entering mission computation\n",
      "INFO    : Entering mission computation\n",
      "WARNING : Looping on wing area with new value equal to [15.96706884]\n",
      "WARNING : Ratio of span on fuselage depth outside of the range in Roskam's book, value clipped\n",
      "WARNING : Area ratio value outside of the range in Roskam's book, value clipped\n"
     ]
    },
    {
     "name": "stdout",
     "output_type": "stream",
     "text": [
      "NL: NLBGS 9 ; 667.55138 4.53090454\n"
     ]
    },
    {
     "name": "stderr",
     "output_type": "stream",
     "text": [
      "WARNING : Chord ratio value outside of the range in Roskam's book, value clipped\n",
      "WARNING : Chord ratio value outside of the range in Roskam's book, value clipped\n",
      "WARNING : Chord ratio value outside of the range in Roskam's book, value clipped\n",
      "WARNING : Chord ratio value outside of the range in Roskam's book, value clipped\n",
      "WARNING : Ratio of span on fuselage depth outside of the range in Roskam's book, value clipped\n",
      "WARNING : Area ratio value outside of the range in Roskam's book, value clipped\n",
      "INFO    : Entering mission computation\n",
      "INFO    : Entering mission computation\n",
      "INFO    : Entering mission computation\n",
      "WARNING : Looping on wing area with new value equal to [15.96741462]\n",
      "WARNING : Ratio of span on fuselage depth outside of the range in Roskam's book, value clipped\n",
      "WARNING : Area ratio value outside of the range in Roskam's book, value clipped\n"
     ]
    },
    {
     "name": "stdout",
     "output_type": "stream",
     "text": [
      "NL: NLBGS 10 ; 348.239778 2.36362509\n"
     ]
    },
    {
     "name": "stderr",
     "output_type": "stream",
     "text": [
      "WARNING : Chord ratio value outside of the range in Roskam's book, value clipped\n",
      "WARNING : Chord ratio value outside of the range in Roskam's book, value clipped\n",
      "WARNING : Chord ratio value outside of the range in Roskam's book, value clipped\n",
      "WARNING : Chord ratio value outside of the range in Roskam's book, value clipped\n",
      "WARNING : Ratio of span on fuselage depth outside of the range in Roskam's book, value clipped\n",
      "WARNING : Area ratio value outside of the range in Roskam's book, value clipped\n",
      "INFO    : Entering mission computation\n",
      "INFO    : Entering mission computation\n",
      "INFO    : Entering mission computation\n",
      "WARNING : Looping on wing area with new value equal to [15.96759729]\n",
      "WARNING : Ratio of span on fuselage depth outside of the range in Roskam's book, value clipped\n",
      "WARNING : Area ratio value outside of the range in Roskam's book, value clipped\n"
     ]
    },
    {
     "name": "stdout",
     "output_type": "stream",
     "text": [
      "NL: NLBGS 11 ; 175.399456 1.19049741\n"
     ]
    },
    {
     "name": "stderr",
     "output_type": "stream",
     "text": [
      "WARNING : Chord ratio value outside of the range in Roskam's book, value clipped\n",
      "WARNING : Chord ratio value outside of the range in Roskam's book, value clipped\n",
      "WARNING : Chord ratio value outside of the range in Roskam's book, value clipped\n",
      "WARNING : Chord ratio value outside of the range in Roskam's book, value clipped\n",
      "WARNING : Ratio of span on fuselage depth outside of the range in Roskam's book, value clipped\n",
      "WARNING : Area ratio value outside of the range in Roskam's book, value clipped\n",
      "INFO    : Entering mission computation\n",
      "INFO    : Entering mission computation\n",
      "INFO    : Entering mission computation\n",
      "WARNING : Looping on wing area with new value equal to [15.96769096]\n",
      "WARNING : Ratio of span on fuselage depth outside of the range in Roskam's book, value clipped\n",
      "WARNING : Area ratio value outside of the range in Roskam's book, value clipped\n"
     ]
    },
    {
     "name": "stdout",
     "output_type": "stream",
     "text": [
      "NL: NLBGS 12 ; 88.7011198 0.602045503\n"
     ]
    },
    {
     "name": "stderr",
     "output_type": "stream",
     "text": [
      "WARNING : Chord ratio value outside of the range in Roskam's book, value clipped\n",
      "WARNING : Chord ratio value outside of the range in Roskam's book, value clipped\n",
      "WARNING : Chord ratio value outside of the range in Roskam's book, value clipped\n",
      "WARNING : Chord ratio value outside of the range in Roskam's book, value clipped\n",
      "WARNING : Ratio of span on fuselage depth outside of the range in Roskam's book, value clipped\n",
      "WARNING : Area ratio value outside of the range in Roskam's book, value clipped\n",
      "INFO    : Entering mission computation\n",
      "INFO    : Entering mission computation\n",
      "INFO    : Entering mission computation\n",
      "WARNING : Looping on wing area with new value equal to [15.96773671]\n",
      "WARNING : Ratio of span on fuselage depth outside of the range in Roskam's book, value clipped\n",
      "WARNING : Area ratio value outside of the range in Roskam's book, value clipped\n"
     ]
    },
    {
     "name": "stdout",
     "output_type": "stream",
     "text": [
      "NL: NLBGS 13 ; 42.3722956 0.28759558\n"
     ]
    },
    {
     "name": "stderr",
     "output_type": "stream",
     "text": [
      "WARNING : Chord ratio value outside of the range in Roskam's book, value clipped\n",
      "WARNING : Chord ratio value outside of the range in Roskam's book, value clipped\n",
      "WARNING : Chord ratio value outside of the range in Roskam's book, value clipped\n",
      "WARNING : Chord ratio value outside of the range in Roskam's book, value clipped\n",
      "WARNING : Ratio of span on fuselage depth outside of the range in Roskam's book, value clipped\n",
      "WARNING : Area ratio value outside of the range in Roskam's book, value clipped\n",
      "INFO    : Entering mission computation\n",
      "INFO    : Entering mission computation\n",
      "INFO    : Entering mission computation\n",
      "WARNING : Looping on wing area with new value equal to [15.96775827]\n",
      "WARNING : Ratio of span on fuselage depth outside of the range in Roskam's book, value clipped\n",
      "WARNING : Area ratio value outside of the range in Roskam's book, value clipped\n"
     ]
    },
    {
     "name": "stdout",
     "output_type": "stream",
     "text": [
      "NL: NLBGS 14 ; 19.3274715 0.131182304\n"
     ]
    },
    {
     "name": "stderr",
     "output_type": "stream",
     "text": [
      "WARNING : Chord ratio value outside of the range in Roskam's book, value clipped\n",
      "WARNING : Chord ratio value outside of the range in Roskam's book, value clipped\n",
      "WARNING : Chord ratio value outside of the range in Roskam's book, value clipped\n",
      "WARNING : Chord ratio value outside of the range in Roskam's book, value clipped\n",
      "WARNING : Ratio of span on fuselage depth outside of the range in Roskam's book, value clipped\n",
      "WARNING : Area ratio value outside of the range in Roskam's book, value clipped\n",
      "INFO    : Entering mission computation\n",
      "INFO    : Entering mission computation\n",
      "INFO    : Entering mission computation\n",
      "WARNING : Looping on wing area with new value equal to [15.96776758]\n",
      "WARNING : Ratio of span on fuselage depth outside of the range in Roskam's book, value clipped\n",
      "WARNING : Area ratio value outside of the range in Roskam's book, value clipped\n"
     ]
    },
    {
     "name": "stdout",
     "output_type": "stream",
     "text": [
      "NL: NLBGS 15 ; 8.39696506 0.0569931367\n"
     ]
    },
    {
     "name": "stderr",
     "output_type": "stream",
     "text": [
      "WARNING : Chord ratio value outside of the range in Roskam's book, value clipped\n",
      "WARNING : Chord ratio value outside of the range in Roskam's book, value clipped\n",
      "WARNING : Chord ratio value outside of the range in Roskam's book, value clipped\n",
      "WARNING : Chord ratio value outside of the range in Roskam's book, value clipped\n",
      "WARNING : Ratio of span on fuselage depth outside of the range in Roskam's book, value clipped\n",
      "WARNING : Area ratio value outside of the range in Roskam's book, value clipped\n",
      "INFO    : Entering mission computation\n",
      "INFO    : Entering mission computation\n",
      "INFO    : Entering mission computation\n",
      "WARNING : Looping on wing area with new value equal to [15.96777129]\n",
      "WARNING : Ratio of span on fuselage depth outside of the range in Roskam's book, value clipped\n",
      "WARNING : Area ratio value outside of the range in Roskam's book, value clipped\n"
     ]
    },
    {
     "name": "stdout",
     "output_type": "stream",
     "text": [
      "NL: NLBGS 16 ; 3.5416301 0.0240382814\n"
     ]
    },
    {
     "name": "stderr",
     "output_type": "stream",
     "text": [
      "WARNING : Chord ratio value outside of the range in Roskam's book, value clipped\n",
      "WARNING : Chord ratio value outside of the range in Roskam's book, value clipped\n",
      "WARNING : Chord ratio value outside of the range in Roskam's book, value clipped\n",
      "WARNING : Chord ratio value outside of the range in Roskam's book, value clipped\n",
      "WARNING : Ratio of span on fuselage depth outside of the range in Roskam's book, value clipped\n",
      "WARNING : Area ratio value outside of the range in Roskam's book, value clipped\n",
      "INFO    : Entering mission computation\n",
      "INFO    : Entering mission computation\n",
      "INFO    : Entering mission computation\n",
      "WARNING : Looping on wing area with new value equal to [15.96777255]\n",
      "WARNING : Ratio of span on fuselage depth outside of the range in Roskam's book, value clipped\n",
      "WARNING : Area ratio value outside of the range in Roskam's book, value clipped\n"
     ]
    },
    {
     "name": "stdout",
     "output_type": "stream",
     "text": [
      "NL: NLBGS 17 ; 1.57597317 0.0106966807\n"
     ]
    },
    {
     "name": "stderr",
     "output_type": "stream",
     "text": [
      "WARNING : Chord ratio value outside of the range in Roskam's book, value clipped\n",
      "WARNING : Chord ratio value outside of the range in Roskam's book, value clipped\n",
      "WARNING : Chord ratio value outside of the range in Roskam's book, value clipped\n",
      "WARNING : Chord ratio value outside of the range in Roskam's book, value clipped\n",
      "WARNING : Ratio of span on fuselage depth outside of the range in Roskam's book, value clipped\n",
      "WARNING : Area ratio value outside of the range in Roskam's book, value clipped\n",
      "INFO    : Entering mission computation\n",
      "INFO    : Entering mission computation\n",
      "INFO    : Entering mission computation\n",
      "WARNING : Looping on wing area with new value equal to [15.96777262]\n",
      "WARNING : Ratio of span on fuselage depth outside of the range in Roskam's book, value clipped\n",
      "WARNING : Area ratio value outside of the range in Roskam's book, value clipped\n"
     ]
    },
    {
     "name": "stdout",
     "output_type": "stream",
     "text": [
      "NL: NLBGS 18 ; 0.926617406 0.0062892762\n"
     ]
    },
    {
     "name": "stderr",
     "output_type": "stream",
     "text": [
      "WARNING : Chord ratio value outside of the range in Roskam's book, value clipped\n",
      "WARNING : Chord ratio value outside of the range in Roskam's book, value clipped\n",
      "WARNING : Chord ratio value outside of the range in Roskam's book, value clipped\n",
      "WARNING : Chord ratio value outside of the range in Roskam's book, value clipped\n",
      "WARNING : Ratio of span on fuselage depth outside of the range in Roskam's book, value clipped\n",
      "WARNING : Area ratio value outside of the range in Roskam's book, value clipped\n",
      "INFO    : Entering mission computation\n",
      "INFO    : Entering mission computation\n",
      "INFO    : Entering mission computation\n",
      "WARNING : Looping on wing area with new value equal to [15.96777249]\n",
      "WARNING : Ratio of span on fuselage depth outside of the range in Roskam's book, value clipped\n",
      "WARNING : Area ratio value outside of the range in Roskam's book, value clipped\n"
     ]
    },
    {
     "name": "stdout",
     "output_type": "stream",
     "text": [
      "NL: NLBGS 19 ; 0.353891075 0.00240198242\n"
     ]
    },
    {
     "name": "stderr",
     "output_type": "stream",
     "text": [
      "WARNING : Chord ratio value outside of the range in Roskam's book, value clipped\n",
      "WARNING : Chord ratio value outside of the range in Roskam's book, value clipped\n",
      "WARNING : Chord ratio value outside of the range in Roskam's book, value clipped\n",
      "WARNING : Chord ratio value outside of the range in Roskam's book, value clipped\n",
      "WARNING : Ratio of span on fuselage depth outside of the range in Roskam's book, value clipped\n",
      "WARNING : Area ratio value outside of the range in Roskam's book, value clipped\n",
      "INFO    : Entering mission computation\n",
      "INFO    : Entering mission computation\n",
      "WARNING : Looping on wing area with new value equal to [15.9677723]\n",
      "WARNING : Ratio of span on fuselage depth outside of the range in Roskam's book, value clipped\n",
      "WARNING : Area ratio value outside of the range in Roskam's book, value clipped\n"
     ]
    },
    {
     "name": "stdout",
     "output_type": "stream",
     "text": [
      "NL: NLBGS 20 ; 0.436091622 0.00295990626\n"
     ]
    },
    {
     "name": "stderr",
     "output_type": "stream",
     "text": [
      "WARNING : Chord ratio value outside of the range in Roskam's book, value clipped\n",
      "WARNING : Chord ratio value outside of the range in Roskam's book, value clipped\n",
      "WARNING : Chord ratio value outside of the range in Roskam's book, value clipped\n",
      "WARNING : Chord ratio value outside of the range in Roskam's book, value clipped\n",
      "WARNING : Ratio of span on fuselage depth outside of the range in Roskam's book, value clipped\n",
      "WARNING : Area ratio value outside of the range in Roskam's book, value clipped\n",
      "INFO    : Entering mission computation\n",
      "INFO    : Entering mission computation\n",
      "INFO    : Entering mission computation\n",
      "WARNING : Looping on wing area with new value equal to [15.96777213]\n",
      "WARNING : Ratio of span on fuselage depth outside of the range in Roskam's book, value clipped\n",
      "WARNING : Area ratio value outside of the range in Roskam's book, value clipped\n"
     ]
    },
    {
     "name": "stdout",
     "output_type": "stream",
     "text": [
      "NL: NLBGS 21 ; 0.294028202 0.00199567218\n"
     ]
    },
    {
     "name": "stderr",
     "output_type": "stream",
     "text": [
      "WARNING : Chord ratio value outside of the range in Roskam's book, value clipped\n",
      "WARNING : Chord ratio value outside of the range in Roskam's book, value clipped\n",
      "WARNING : Chord ratio value outside of the range in Roskam's book, value clipped\n",
      "WARNING : Chord ratio value outside of the range in Roskam's book, value clipped\n",
      "WARNING : Ratio of span on fuselage depth outside of the range in Roskam's book, value clipped\n",
      "WARNING : Area ratio value outside of the range in Roskam's book, value clipped\n",
      "INFO    : Entering mission computation\n",
      "INFO    : Entering mission computation\n",
      "INFO    : Entering mission computation\n",
      "WARNING : Looping on wing area with new value equal to [15.96777216]\n",
      "WARNING : Ratio of span on fuselage depth outside of the range in Roskam's book, value clipped\n",
      "WARNING : Area ratio value outside of the range in Roskam's book, value clipped\n"
     ]
    },
    {
     "name": "stdout",
     "output_type": "stream",
     "text": [
      "NL: NLBGS 22 ; 0.174493658 0.00118434944\n"
     ]
    },
    {
     "name": "stderr",
     "output_type": "stream",
     "text": [
      "WARNING : Chord ratio value outside of the range in Roskam's book, value clipped\n",
      "WARNING : Chord ratio value outside of the range in Roskam's book, value clipped\n",
      "WARNING : Chord ratio value outside of the range in Roskam's book, value clipped\n",
      "WARNING : Chord ratio value outside of the range in Roskam's book, value clipped\n",
      "WARNING : Ratio of span on fuselage depth outside of the range in Roskam's book, value clipped\n",
      "WARNING : Area ratio value outside of the range in Roskam's book, value clipped\n",
      "INFO    : Entering mission computation\n",
      "INFO    : Entering mission computation\n",
      "INFO    : Entering mission computation\n",
      "INFO    : Entering mission computation\n",
      "WARNING : Looping on wing area with new value equal to [15.96777206]\n",
      "WARNING : Ratio of span on fuselage depth outside of the range in Roskam's book, value clipped\n",
      "WARNING : Area ratio value outside of the range in Roskam's book, value clipped\n"
     ]
    },
    {
     "name": "stdout",
     "output_type": "stream",
     "text": [
      "NL: NLBGS 23 ; 0.183020499 0.0012422241\n"
     ]
    },
    {
     "name": "stderr",
     "output_type": "stream",
     "text": [
      "WARNING : Chord ratio value outside of the range in Roskam's book, value clipped\n",
      "WARNING : Chord ratio value outside of the range in Roskam's book, value clipped\n",
      "WARNING : Chord ratio value outside of the range in Roskam's book, value clipped\n",
      "WARNING : Chord ratio value outside of the range in Roskam's book, value clipped\n",
      "WARNING : Ratio of span on fuselage depth outside of the range in Roskam's book, value clipped\n",
      "WARNING : Area ratio value outside of the range in Roskam's book, value clipped\n",
      "INFO    : Entering mission computation\n",
      "INFO    : Entering mission computation\n",
      "INFO    : Entering mission computation\n",
      "INFO    : Entering mission computation\n",
      "INFO    : Entering mission computation\n",
      "INFO    : Entering mission computation\n",
      "INFO    : Entering mission computation\n",
      "INFO    : Entering mission computation\n",
      "INFO    : Entering mission computation\n",
      "INFO    : Entering mission computation\n",
      "INFO    : Entering mission computation\n",
      "INFO    : Entering mission computation\n",
      "INFO    : Entering mission computation\n",
      "INFO    : Entering mission computation\n",
      "INFO    : Entering mission computation\n",
      "INFO    : Entering mission computation\n",
      "INFO    : Entering mission computation\n",
      "INFO    : Entering mission computation\n",
      "INFO    : Entering mission computation\n",
      "INFO    : Entering mission computation\n",
      "INFO    : Entering mission computation\n",
      "INFO    : Entering mission computation\n",
      "INFO    : Entering mission computation\n",
      "INFO    : Entering mission computation\n",
      "INFO    : Entering mission computation\n",
      "INFO    : Entering mission computation\n",
      "INFO    : Entering mission computation\n",
      "INFO    : Entering mission computation\n",
      "INFO    : Entering mission computation\n",
      "INFO    : Entering mission computation\n",
      "INFO    : Entering mission computation\n",
      "INFO    : Entering mission computation\n",
      "INFO    : Entering mission computation\n",
      "INFO    : Entering mission computation\n",
      "INFO    : Entering mission computation\n",
      "INFO    : Entering mission computation\n",
      "INFO    : Entering mission computation\n",
      "INFO    : Entering mission computation\n",
      "INFO    : Entering mission computation\n",
      "INFO    : Entering mission computation\n",
      "INFO    : Entering mission computation\n",
      "INFO    : Entering mission computation\n",
      "INFO    : Entering mission computation\n",
      "INFO    : Entering mission computation\n",
      "INFO    : Entering mission computation\n",
      "INFO    : Entering mission computation\n",
      "INFO    : Entering mission computation\n",
      "INFO    : Entering mission computation\n",
      "INFO    : Entering mission computation\n",
      "INFO    : Entering mission computation\n",
      "INFO    : Entering mission computation\n",
      "INFO    : Entering mission computation\n",
      "INFO    : Entering mission computation\n",
      "INFO    : Entering mission computation\n",
      "INFO    : Entering mission computation\n",
      "INFO    : Entering mission computation\n",
      "INFO    : Entering mission computation\n",
      "INFO    : Entering mission computation\n",
      "INFO    : Entering mission computation\n",
      "INFO    : Entering mission computation\n",
      "INFO    : Entering mission computation\n",
      "INFO    : Entering mission computation\n",
      "INFO    : Entering mission computation\n",
      "INFO    : Entering mission computation\n",
      "INFO    : Entering mission computation\n",
      "INFO    : Entering mission computation\n",
      "INFO    : Entering mission computation\n",
      "INFO    : Entering mission computation\n",
      "INFO    : Entering mission computation\n",
      "INFO    : Entering mission computation\n",
      "INFO    : Entering mission computation\n",
      "INFO    : Entering mission computation\n",
      "INFO    : Entering mission computation\n",
      "INFO    : Entering mission computation\n",
      "INFO    : Entering mission computation\n",
      "INFO    : Entering mission computation\n",
      "INFO    : Entering mission computation\n",
      "INFO    : Entering mission computation\n",
      "INFO    : Entering mission computation\n",
      "INFO    : Entering mission computation\n",
      "INFO    : Entering mission computation\n",
      "INFO    : Entering mission computation\n",
      "INFO    : Entering mission computation\n",
      "INFO    : Entering mission computation\n",
      "INFO    : Entering mission computation\n",
      "INFO    : Entering mission computation\n",
      "INFO    : Entering mission computation\n",
      "INFO    : Entering mission computation\n",
      "INFO    : Entering mission computation\n",
      "INFO    : Entering mission computation\n",
      "INFO    : Entering mission computation\n",
      "INFO    : Entering mission computation\n",
      "INFO    : Entering mission computation\n",
      "INFO    : Entering mission computation\n",
      "INFO    : Entering mission computation\n",
      "INFO    : Entering mission computation\n",
      "INFO    : Entering mission computation\n",
      "INFO    : Entering mission computation\n",
      "INFO    : Entering mission computation\n",
      "INFO    : Entering mission computation\n",
      "WARNING : Looping on wing area with new value equal to [15.96777203]\n"
     ]
    },
    {
     "name": "stdout",
     "output_type": "stream",
     "text": [
      "|  NL: NLBGSSolver 'NL: NLBGS' on system 'performance' failed to converge in 100 iterations.\n",
      "NL: NLBGS 24 ; 0.0317209904 0.000215301449\n",
      "NL: NLBGS Converged\n"
     ]
    },
    {
     "name": "stderr",
     "output_type": "stream",
     "text": [
      "WARNING : Ratio of span on fuselage depth outside of the range in Roskam's book, value clipped\n",
      "WARNING : Area ratio value outside of the range in Roskam's book, value clipped\n",
      "WARNING : Chord ratio value outside of the range in Roskam's book, value clipped\n",
      "WARNING : Chord ratio value outside of the range in Roskam's book, value clipped\n",
      "WARNING : Chord ratio value outside of the range in Roskam's book, value clipped\n",
      "WARNING : Chord ratio value outside of the range in Roskam's book, value clipped\n",
      "WARNING : Ratio of span on fuselage depth outside of the range in Roskam's book, value clipped\n",
      "WARNING : Area ratio value outside of the range in Roskam's book, value clipped\n",
      "INFO    : Entering mission computation\n",
      "INFO    : Entering mission computation\n",
      "INFO    : Entering mission computation\n",
      "WARNING : Looping on wing area with new value equal to [15.967772]\n",
      "WARNING : Ratio of span on fuselage depth outside of the range in Roskam's book, value clipped\n",
      "WARNING : Area ratio value outside of the range in Roskam's book, value clipped\n"
     ]
    },
    {
     "name": "stdout",
     "output_type": "stream",
     "text": [
      "NL: NLBGS 1 ; 73.3912705 1\n"
     ]
    },
    {
     "name": "stderr",
     "output_type": "stream",
     "text": [
      "WARNING : Chord ratio value outside of the range in Roskam's book, value clipped\n",
      "WARNING : Chord ratio value outside of the range in Roskam's book, value clipped\n",
      "WARNING : Chord ratio value outside of the range in Roskam's book, value clipped\n",
      "WARNING : Chord ratio value outside of the range in Roskam's book, value clipped\n",
      "WARNING : Ratio of span on fuselage depth outside of the range in Roskam's book, value clipped\n",
      "WARNING : Area ratio value outside of the range in Roskam's book, value clipped\n",
      "INFO    : Entering mission computation\n",
      "INFO    : Entering mission computation\n",
      "INFO    : Entering mission computation\n",
      "WARNING : Looping on wing area with new value equal to [15.98786542]\n",
      "WARNING : Ratio of span on fuselage depth outside of the range in Roskam's book, value clipped\n",
      "WARNING : Area ratio value outside of the range in Roskam's book, value clipped\n"
     ]
    },
    {
     "name": "stdout",
     "output_type": "stream",
     "text": [
      "NL: NLBGS 2 ; 55650.6416 758.27331\n"
     ]
    },
    {
     "name": "stderr",
     "output_type": "stream",
     "text": [
      "WARNING : Chord ratio value outside of the range in Roskam's book, value clipped\n",
      "WARNING : Chord ratio value outside of the range in Roskam's book, value clipped\n",
      "WARNING : Chord ratio value outside of the range in Roskam's book, value clipped\n",
      "WARNING : Chord ratio value outside of the range in Roskam's book, value clipped\n",
      "WARNING : Ratio of span on fuselage depth outside of the range in Roskam's book, value clipped\n",
      "WARNING : Area ratio value outside of the range in Roskam's book, value clipped\n",
      "INFO    : Entering mission computation\n",
      "INFO    : Entering mission computation\n",
      "INFO    : Entering mission computation\n",
      "WARNING : Looping on wing area with new value equal to [15.98610833]\n",
      "WARNING : Ratio of span on fuselage depth outside of the range in Roskam's book, value clipped\n",
      "WARNING : Area ratio value outside of the range in Roskam's book, value clipped\n"
     ]
    },
    {
     "name": "stdout",
     "output_type": "stream",
     "text": [
      "NL: NLBGS 3 ; 6532.9056 89.0147502\n"
     ]
    },
    {
     "name": "stderr",
     "output_type": "stream",
     "text": [
      "WARNING : Chord ratio value outside of the range in Roskam's book, value clipped\n",
      "WARNING : Chord ratio value outside of the range in Roskam's book, value clipped\n",
      "WARNING : Chord ratio value outside of the range in Roskam's book, value clipped\n",
      "WARNING : Chord ratio value outside of the range in Roskam's book, value clipped\n",
      "WARNING : Ratio of span on fuselage depth outside of the range in Roskam's book, value clipped\n",
      "WARNING : Area ratio value outside of the range in Roskam's book, value clipped\n",
      "INFO    : Entering mission computation\n",
      "INFO    : Entering mission computation\n",
      "INFO    : Entering mission computation\n",
      "WARNING : Looping on wing area with new value equal to [15.98807081]\n",
      "WARNING : Ratio of span on fuselage depth outside of the range in Roskam's book, value clipped\n",
      "WARNING : Area ratio value outside of the range in Roskam's book, value clipped\n"
     ]
    },
    {
     "name": "stdout",
     "output_type": "stream",
     "text": [
      "NL: NLBGS 4 ; 10167.1011 138.532839\n"
     ]
    },
    {
     "name": "stderr",
     "output_type": "stream",
     "text": [
      "WARNING : Chord ratio value outside of the range in Roskam's book, value clipped\n",
      "WARNING : Chord ratio value outside of the range in Roskam's book, value clipped\n",
      "WARNING : Chord ratio value outside of the range in Roskam's book, value clipped\n",
      "WARNING : Chord ratio value outside of the range in Roskam's book, value clipped\n",
      "WARNING : Ratio of span on fuselage depth outside of the range in Roskam's book, value clipped\n",
      "WARNING : Area ratio value outside of the range in Roskam's book, value clipped\n",
      "INFO    : Entering mission computation\n",
      "INFO    : Entering mission computation\n",
      "INFO    : Entering mission computation\n",
      "WARNING : Looping on wing area with new value equal to [15.98999541]\n",
      "WARNING : Ratio of span on fuselage depth outside of the range in Roskam's book, value clipped\n",
      "WARNING : Area ratio value outside of the range in Roskam's book, value clipped\n"
     ]
    },
    {
     "name": "stdout",
     "output_type": "stream",
     "text": [
      "NL: NLBGS 5 ; 2661.34089 36.2623629\n"
     ]
    },
    {
     "name": "stderr",
     "output_type": "stream",
     "text": [
      "WARNING : Chord ratio value outside of the range in Roskam's book, value clipped\n",
      "WARNING : Chord ratio value outside of the range in Roskam's book, value clipped\n",
      "WARNING : Chord ratio value outside of the range in Roskam's book, value clipped\n",
      "WARNING : Chord ratio value outside of the range in Roskam's book, value clipped\n",
      "WARNING : Ratio of span on fuselage depth outside of the range in Roskam's book, value clipped\n",
      "WARNING : Area ratio value outside of the range in Roskam's book, value clipped\n",
      "INFO    : Entering mission computation\n",
      "INFO    : Entering mission computation\n",
      "INFO    : Entering mission computation\n",
      "WARNING : Looping on wing area with new value equal to [15.99164746]\n",
      "WARNING : Ratio of span on fuselage depth outside of the range in Roskam's book, value clipped\n",
      "WARNING : Area ratio value outside of the range in Roskam's book, value clipped\n"
     ]
    },
    {
     "name": "stdout",
     "output_type": "stream",
     "text": [
      "NL: NLBGS 6 ; 1760.17007 23.983371\n"
     ]
    },
    {
     "name": "stderr",
     "output_type": "stream",
     "text": [
      "WARNING : Chord ratio value outside of the range in Roskam's book, value clipped\n",
      "WARNING : Chord ratio value outside of the range in Roskam's book, value clipped\n",
      "WARNING : Chord ratio value outside of the range in Roskam's book, value clipped\n",
      "WARNING : Chord ratio value outside of the range in Roskam's book, value clipped\n",
      "WARNING : Ratio of span on fuselage depth outside of the range in Roskam's book, value clipped\n",
      "WARNING : Area ratio value outside of the range in Roskam's book, value clipped\n",
      "INFO    : Entering mission computation\n",
      "INFO    : Entering mission computation\n",
      "INFO    : Entering mission computation\n",
      "WARNING : Looping on wing area with new value equal to [15.99262105]\n",
      "WARNING : Ratio of span on fuselage depth outside of the range in Roskam's book, value clipped\n",
      "WARNING : Area ratio value outside of the range in Roskam's book, value clipped\n"
     ]
    },
    {
     "name": "stdout",
     "output_type": "stream",
     "text": [
      "NL: NLBGS 7 ; 1179.35544 16.069424\n"
     ]
    },
    {
     "name": "stderr",
     "output_type": "stream",
     "text": [
      "WARNING : Chord ratio value outside of the range in Roskam's book, value clipped\n",
      "WARNING : Chord ratio value outside of the range in Roskam's book, value clipped\n",
      "WARNING : Chord ratio value outside of the range in Roskam's book, value clipped\n",
      "WARNING : Chord ratio value outside of the range in Roskam's book, value clipped\n",
      "WARNING : Ratio of span on fuselage depth outside of the range in Roskam's book, value clipped\n",
      "WARNING : Area ratio value outside of the range in Roskam's book, value clipped\n",
      "INFO    : Entering mission computation\n",
      "INFO    : Entering mission computation\n",
      "INFO    : Entering mission computation\n",
      "WARNING : Looping on wing area with new value equal to [15.99324919]\n",
      "WARNING : Ratio of span on fuselage depth outside of the range in Roskam's book, value clipped\n",
      "WARNING : Area ratio value outside of the range in Roskam's book, value clipped\n"
     ]
    },
    {
     "name": "stdout",
     "output_type": "stream",
     "text": [
      "NL: NLBGS 8 ; 764.005393 10.4100309\n"
     ]
    },
    {
     "name": "stderr",
     "output_type": "stream",
     "text": [
      "WARNING : Chord ratio value outside of the range in Roskam's book, value clipped\n",
      "WARNING : Chord ratio value outside of the range in Roskam's book, value clipped\n",
      "WARNING : Chord ratio value outside of the range in Roskam's book, value clipped\n",
      "WARNING : Chord ratio value outside of the range in Roskam's book, value clipped\n",
      "WARNING : Ratio of span on fuselage depth outside of the range in Roskam's book, value clipped\n",
      "WARNING : Area ratio value outside of the range in Roskam's book, value clipped\n",
      "INFO    : Entering mission computation\n",
      "INFO    : Entering mission computation\n",
      "INFO    : Entering mission computation\n",
      "WARNING : Looping on wing area with new value equal to [15.99362874]\n",
      "WARNING : Ratio of span on fuselage depth outside of the range in Roskam's book, value clipped\n",
      "WARNING : Area ratio value outside of the range in Roskam's book, value clipped\n"
     ]
    },
    {
     "name": "stdout",
     "output_type": "stream",
     "text": [
      "NL: NLBGS 9 ; 417.727423 5.69178624\n"
     ]
    },
    {
     "name": "stderr",
     "output_type": "stream",
     "text": [
      "WARNING : Chord ratio value outside of the range in Roskam's book, value clipped\n",
      "WARNING : Chord ratio value outside of the range in Roskam's book, value clipped\n",
      "WARNING : Chord ratio value outside of the range in Roskam's book, value clipped\n",
      "WARNING : Chord ratio value outside of the range in Roskam's book, value clipped\n",
      "WARNING : Ratio of span on fuselage depth outside of the range in Roskam's book, value clipped\n",
      "WARNING : Area ratio value outside of the range in Roskam's book, value clipped\n",
      "INFO    : Entering mission computation\n",
      "INFO    : Entering mission computation\n",
      "INFO    : Entering mission computation\n",
      "WARNING : Looping on wing area with new value equal to [15.99385013]\n",
      "WARNING : Ratio of span on fuselage depth outside of the range in Roskam's book, value clipped\n",
      "WARNING : Area ratio value outside of the range in Roskam's book, value clipped\n"
     ]
    },
    {
     "name": "stdout",
     "output_type": "stream",
     "text": [
      "NL: NLBGS 10 ; 232.584629 3.16910482\n"
     ]
    },
    {
     "name": "stderr",
     "output_type": "stream",
     "text": [
      "WARNING : Chord ratio value outside of the range in Roskam's book, value clipped\n",
      "WARNING : Chord ratio value outside of the range in Roskam's book, value clipped\n",
      "WARNING : Chord ratio value outside of the range in Roskam's book, value clipped\n",
      "WARNING : Chord ratio value outside of the range in Roskam's book, value clipped\n",
      "WARNING : Ratio of span on fuselage depth outside of the range in Roskam's book, value clipped\n",
      "WARNING : Area ratio value outside of the range in Roskam's book, value clipped\n",
      "INFO    : Entering mission computation\n",
      "INFO    : Entering mission computation\n",
      "INFO    : Entering mission computation\n",
      "WARNING : Looping on wing area with new value equal to [15.99397337]\n",
      "WARNING : Ratio of span on fuselage depth outside of the range in Roskam's book, value clipped\n",
      "WARNING : Area ratio value outside of the range in Roskam's book, value clipped\n"
     ]
    },
    {
     "name": "stdout",
     "output_type": "stream",
     "text": [
      "NL: NLBGS 11 ; 125.512455 1.71018234\n"
     ]
    },
    {
     "name": "stderr",
     "output_type": "stream",
     "text": [
      "WARNING : Chord ratio value outside of the range in Roskam's book, value clipped\n",
      "WARNING : Chord ratio value outside of the range in Roskam's book, value clipped\n",
      "WARNING : Chord ratio value outside of the range in Roskam's book, value clipped\n",
      "WARNING : Chord ratio value outside of the range in Roskam's book, value clipped\n",
      "WARNING : Ratio of span on fuselage depth outside of the range in Roskam's book, value clipped\n",
      "WARNING : Area ratio value outside of the range in Roskam's book, value clipped\n",
      "INFO    : Entering mission computation\n",
      "INFO    : Entering mission computation\n",
      "INFO    : Entering mission computation\n",
      "WARNING : Looping on wing area with new value equal to [15.9939985]\n",
      "WARNING : Ratio of span on fuselage depth outside of the range in Roskam's book, value clipped\n",
      "WARNING : Area ratio value outside of the range in Roskam's book, value clipped\n"
     ]
    },
    {
     "name": "stdout",
     "output_type": "stream",
     "text": [
      "NL: NLBGS 12 ; 65.4644957 0.891992948\n"
     ]
    },
    {
     "name": "stderr",
     "output_type": "stream",
     "text": [
      "WARNING : Chord ratio value outside of the range in Roskam's book, value clipped\n",
      "WARNING : Chord ratio value outside of the range in Roskam's book, value clipped\n",
      "WARNING : Chord ratio value outside of the range in Roskam's book, value clipped\n",
      "WARNING : Chord ratio value outside of the range in Roskam's book, value clipped\n",
      "WARNING : Ratio of span on fuselage depth outside of the range in Roskam's book, value clipped\n",
      "WARNING : Area ratio value outside of the range in Roskam's book, value clipped\n",
      "INFO    : Entering mission computation\n",
      "INFO    : Entering mission computation\n",
      "INFO    : Entering mission computation\n",
      "WARNING : Looping on wing area with new value equal to [15.99402388]\n",
      "WARNING : Ratio of span on fuselage depth outside of the range in Roskam's book, value clipped\n",
      "WARNING : Area ratio value outside of the range in Roskam's book, value clipped\n"
     ]
    },
    {
     "name": "stdout",
     "output_type": "stream",
     "text": [
      "NL: NLBGS 13 ; 26.77977 0.364890399\n"
     ]
    },
    {
     "name": "stderr",
     "output_type": "stream",
     "text": [
      "WARNING : Chord ratio value outside of the range in Roskam's book, value clipped\n",
      "WARNING : Chord ratio value outside of the range in Roskam's book, value clipped\n",
      "WARNING : Chord ratio value outside of the range in Roskam's book, value clipped\n",
      "WARNING : Chord ratio value outside of the range in Roskam's book, value clipped\n",
      "WARNING : Ratio of span on fuselage depth outside of the range in Roskam's book, value clipped\n",
      "WARNING : Area ratio value outside of the range in Roskam's book, value clipped\n",
      "INFO    : Entering mission computation\n",
      "INFO    : Entering mission computation\n",
      "INFO    : Entering mission computation\n",
      "WARNING : Looping on wing area with new value equal to [15.99403399]\n",
      "WARNING : Ratio of span on fuselage depth outside of the range in Roskam's book, value clipped\n",
      "WARNING : Area ratio value outside of the range in Roskam's book, value clipped\n"
     ]
    },
    {
     "name": "stdout",
     "output_type": "stream",
     "text": [
      "NL: NLBGS 14 ; 8.73652187 0.119040341\n"
     ]
    },
    {
     "name": "stderr",
     "output_type": "stream",
     "text": [
      "WARNING : Chord ratio value outside of the range in Roskam's book, value clipped\n",
      "WARNING : Chord ratio value outside of the range in Roskam's book, value clipped\n",
      "WARNING : Chord ratio value outside of the range in Roskam's book, value clipped\n",
      "WARNING : Chord ratio value outside of the range in Roskam's book, value clipped\n",
      "WARNING : Ratio of span on fuselage depth outside of the range in Roskam's book, value clipped\n",
      "WARNING : Area ratio value outside of the range in Roskam's book, value clipped\n",
      "INFO    : Entering mission computation\n",
      "INFO    : Entering mission computation\n",
      "INFO    : Entering mission computation\n",
      "WARNING : Looping on wing area with new value equal to [15.99403803]\n",
      "WARNING : Ratio of span on fuselage depth outside of the range in Roskam's book, value clipped\n",
      "WARNING : Area ratio value outside of the range in Roskam's book, value clipped\n"
     ]
    },
    {
     "name": "stdout",
     "output_type": "stream",
     "text": [
      "NL: NLBGS 15 ; 3.78558548 0.0515808687\n"
     ]
    },
    {
     "name": "stderr",
     "output_type": "stream",
     "text": [
      "WARNING : Chord ratio value outside of the range in Roskam's book, value clipped\n",
      "WARNING : Chord ratio value outside of the range in Roskam's book, value clipped\n",
      "WARNING : Chord ratio value outside of the range in Roskam's book, value clipped\n",
      "WARNING : Chord ratio value outside of the range in Roskam's book, value clipped\n",
      "WARNING : Ratio of span on fuselage depth outside of the range in Roskam's book, value clipped\n",
      "WARNING : Area ratio value outside of the range in Roskam's book, value clipped\n",
      "INFO    : Entering mission computation\n",
      "INFO    : Entering mission computation\n",
      "INFO    : Entering mission computation\n",
      "WARNING : Looping on wing area with new value equal to [15.99403898]\n",
      "WARNING : Ratio of span on fuselage depth outside of the range in Roskam's book, value clipped\n",
      "WARNING : Area ratio value outside of the range in Roskam's book, value clipped\n"
     ]
    },
    {
     "name": "stdout",
     "output_type": "stream",
     "text": [
      "NL: NLBGS 16 ; 1.85715993 0.0253049159\n"
     ]
    },
    {
     "name": "stderr",
     "output_type": "stream",
     "text": [
      "WARNING : Chord ratio value outside of the range in Roskam's book, value clipped\n",
      "WARNING : Chord ratio value outside of the range in Roskam's book, value clipped\n",
      "WARNING : Chord ratio value outside of the range in Roskam's book, value clipped\n",
      "WARNING : Chord ratio value outside of the range in Roskam's book, value clipped\n",
      "WARNING : Ratio of span on fuselage depth outside of the range in Roskam's book, value clipped\n",
      "WARNING : Area ratio value outside of the range in Roskam's book, value clipped\n",
      "INFO    : Entering mission computation\n",
      "INFO    : Entering mission computation\n",
      "INFO    : Entering mission computation\n",
      "WARNING : Looping on wing area with new value equal to [15.99403904]\n",
      "WARNING : Ratio of span on fuselage depth outside of the range in Roskam's book, value clipped\n",
      "WARNING : Area ratio value outside of the range in Roskam's book, value clipped\n"
     ]
    },
    {
     "name": "stdout",
     "output_type": "stream",
     "text": [
      "NL: NLBGS 17 ; 1.16565476 0.015882744\n"
     ]
    },
    {
     "name": "stderr",
     "output_type": "stream",
     "text": [
      "WARNING : Chord ratio value outside of the range in Roskam's book, value clipped\n",
      "WARNING : Chord ratio value outside of the range in Roskam's book, value clipped\n",
      "WARNING : Chord ratio value outside of the range in Roskam's book, value clipped\n",
      "WARNING : Chord ratio value outside of the range in Roskam's book, value clipped\n",
      "WARNING : Ratio of span on fuselage depth outside of the range in Roskam's book, value clipped\n",
      "WARNING : Area ratio value outside of the range in Roskam's book, value clipped\n",
      "INFO    : Entering mission computation\n",
      "INFO    : Entering mission computation\n",
      "INFO    : Entering mission computation\n",
      "WARNING : Looping on wing area with new value equal to [15.99403872]\n",
      "WARNING : Ratio of span on fuselage depth outside of the range in Roskam's book, value clipped\n",
      "WARNING : Area ratio value outside of the range in Roskam's book, value clipped\n"
     ]
    },
    {
     "name": "stdout",
     "output_type": "stream",
     "text": [
      "NL: NLBGS 18 ; 0.872278781 0.0118853206\n"
     ]
    },
    {
     "name": "stderr",
     "output_type": "stream",
     "text": [
      "WARNING : Chord ratio value outside of the range in Roskam's book, value clipped\n",
      "WARNING : Chord ratio value outside of the range in Roskam's book, value clipped\n",
      "WARNING : Chord ratio value outside of the range in Roskam's book, value clipped\n",
      "WARNING : Chord ratio value outside of the range in Roskam's book, value clipped\n",
      "WARNING : Ratio of span on fuselage depth outside of the range in Roskam's book, value clipped\n",
      "WARNING : Area ratio value outside of the range in Roskam's book, value clipped\n",
      "INFO    : Entering mission computation\n",
      "INFO    : Entering mission computation\n",
      "INFO    : Entering mission computation\n",
      "WARNING : Looping on wing area with new value equal to [15.99403834]\n",
      "WARNING : Ratio of span on fuselage depth outside of the range in Roskam's book, value clipped\n",
      "WARNING : Area ratio value outside of the range in Roskam's book, value clipped\n"
     ]
    },
    {
     "name": "stdout",
     "output_type": "stream",
     "text": [
      "NL: NLBGS 19 ; 0.703769107 0.00958927544\n"
     ]
    },
    {
     "name": "stderr",
     "output_type": "stream",
     "text": [
      "WARNING : Chord ratio value outside of the range in Roskam's book, value clipped\n",
      "WARNING : Chord ratio value outside of the range in Roskam's book, value clipped\n",
      "WARNING : Chord ratio value outside of the range in Roskam's book, value clipped\n",
      "WARNING : Chord ratio value outside of the range in Roskam's book, value clipped\n",
      "WARNING : Ratio of span on fuselage depth outside of the range in Roskam's book, value clipped\n",
      "WARNING : Area ratio value outside of the range in Roskam's book, value clipped\n",
      "INFO    : Entering mission computation\n",
      "INFO    : Entering mission computation\n",
      "INFO    : Entering mission computation\n",
      "WARNING : Looping on wing area with new value equal to [15.99403803]\n",
      "WARNING : Ratio of span on fuselage depth outside of the range in Roskam's book, value clipped\n",
      "WARNING : Area ratio value outside of the range in Roskam's book, value clipped\n"
     ]
    },
    {
     "name": "stdout",
     "output_type": "stream",
     "text": [
      "NL: NLBGS 20 ; 0.484162809 0.00659700814\n"
     ]
    },
    {
     "name": "stderr",
     "output_type": "stream",
     "text": [
      "WARNING : Chord ratio value outside of the range in Roskam's book, value clipped\n",
      "WARNING : Chord ratio value outside of the range in Roskam's book, value clipped\n",
      "WARNING : Chord ratio value outside of the range in Roskam's book, value clipped\n",
      "WARNING : Chord ratio value outside of the range in Roskam's book, value clipped\n",
      "WARNING : Ratio of span on fuselage depth outside of the range in Roskam's book, value clipped\n",
      "WARNING : Area ratio value outside of the range in Roskam's book, value clipped\n",
      "INFO    : Entering mission computation\n",
      "INFO    : Entering mission computation\n",
      "INFO    : Entering mission computation\n",
      "INFO    : Entering mission computation\n",
      "WARNING : Looping on wing area with new value equal to [15.99403781]\n",
      "WARNING : Ratio of span on fuselage depth outside of the range in Roskam's book, value clipped\n",
      "WARNING : Area ratio value outside of the range in Roskam's book, value clipped\n"
     ]
    },
    {
     "name": "stdout",
     "output_type": "stream",
     "text": [
      "NL: NLBGS 21 ; 0.306049455 0.00417010706\n"
     ]
    },
    {
     "name": "stderr",
     "output_type": "stream",
     "text": [
      "WARNING : Chord ratio value outside of the range in Roskam's book, value clipped\n",
      "WARNING : Chord ratio value outside of the range in Roskam's book, value clipped\n",
      "WARNING : Chord ratio value outside of the range in Roskam's book, value clipped\n",
      "WARNING : Chord ratio value outside of the range in Roskam's book, value clipped\n",
      "WARNING : Ratio of span on fuselage depth outside of the range in Roskam's book, value clipped\n",
      "WARNING : Area ratio value outside of the range in Roskam's book, value clipped\n",
      "INFO    : Entering mission computation\n",
      "INFO    : Entering mission computation\n",
      "INFO    : Entering mission computation\n",
      "INFO    : Entering mission computation\n",
      "WARNING : Looping on wing area with new value equal to [15.99403766]\n",
      "WARNING : Ratio of span on fuselage depth outside of the range in Roskam's book, value clipped\n",
      "WARNING : Area ratio value outside of the range in Roskam's book, value clipped\n"
     ]
    },
    {
     "name": "stdout",
     "output_type": "stream",
     "text": [
      "NL: NLBGS 22 ; 0.184206683 0.00250992634\n"
     ]
    },
    {
     "name": "stderr",
     "output_type": "stream",
     "text": [
      "WARNING : Chord ratio value outside of the range in Roskam's book, value clipped\n",
      "WARNING : Chord ratio value outside of the range in Roskam's book, value clipped\n",
      "WARNING : Chord ratio value outside of the range in Roskam's book, value clipped\n",
      "WARNING : Chord ratio value outside of the range in Roskam's book, value clipped\n",
      "WARNING : Ratio of span on fuselage depth outside of the range in Roskam's book, value clipped\n",
      "WARNING : Area ratio value outside of the range in Roskam's book, value clipped\n",
      "INFO    : Entering mission computation\n",
      "INFO    : Entering mission computation\n",
      "INFO    : Entering mission computation\n",
      "WARNING : Looping on wing area with new value equal to [15.99403757]\n",
      "WARNING : Ratio of span on fuselage depth outside of the range in Roskam's book, value clipped\n",
      "WARNING : Area ratio value outside of the range in Roskam's book, value clipped\n"
     ]
    },
    {
     "name": "stdout",
     "output_type": "stream",
     "text": [
      "NL: NLBGS 23 ; 0.0822951164 0.00112132023\n"
     ]
    },
    {
     "name": "stderr",
     "output_type": "stream",
     "text": [
      "WARNING : Chord ratio value outside of the range in Roskam's book, value clipped\n",
      "WARNING : Chord ratio value outside of the range in Roskam's book, value clipped\n",
      "WARNING : Chord ratio value outside of the range in Roskam's book, value clipped\n",
      "WARNING : Chord ratio value outside of the range in Roskam's book, value clipped\n",
      "WARNING : Ratio of span on fuselage depth outside of the range in Roskam's book, value clipped\n",
      "WARNING : Area ratio value outside of the range in Roskam's book, value clipped\n",
      "INFO    : Entering mission computation\n",
      "INFO    : Entering mission computation\n",
      "INFO    : Entering mission computation\n",
      "WARNING : Looping on wing area with new value equal to [15.99403752]\n",
      "WARNING : Ratio of span on fuselage depth outside of the range in Roskam's book, value clipped\n",
      "WARNING : Area ratio value outside of the range in Roskam's book, value clipped\n"
     ]
    },
    {
     "name": "stdout",
     "output_type": "stream",
     "text": [
      "NL: NLBGS 24 ; 0.211856145 0.00288666681\n"
     ]
    },
    {
     "name": "stderr",
     "output_type": "stream",
     "text": [
      "WARNING : Chord ratio value outside of the range in Roskam's book, value clipped\n",
      "WARNING : Chord ratio value outside of the range in Roskam's book, value clipped\n",
      "WARNING : Chord ratio value outside of the range in Roskam's book, value clipped\n",
      "WARNING : Chord ratio value outside of the range in Roskam's book, value clipped\n",
      "WARNING : Ratio of span on fuselage depth outside of the range in Roskam's book, value clipped\n",
      "WARNING : Area ratio value outside of the range in Roskam's book, value clipped\n",
      "INFO    : Entering mission computation\n",
      "INFO    : Entering mission computation\n",
      "INFO    : Entering mission computation\n",
      "INFO    : Entering mission computation\n",
      "INFO    : Entering mission computation\n",
      "WARNING : Looping on wing area with new value equal to [15.99403748]\n",
      "WARNING : Ratio of span on fuselage depth outside of the range in Roskam's book, value clipped\n",
      "WARNING : Area ratio value outside of the range in Roskam's book, value clipped\n"
     ]
    },
    {
     "name": "stdout",
     "output_type": "stream",
     "text": [
      "NL: NLBGS 25 ; 0.116135665 0.00158241796\n"
     ]
    },
    {
     "name": "stderr",
     "output_type": "stream",
     "text": [
      "WARNING : Chord ratio value outside of the range in Roskam's book, value clipped\n",
      "WARNING : Chord ratio value outside of the range in Roskam's book, value clipped\n",
      "WARNING : Chord ratio value outside of the range in Roskam's book, value clipped\n",
      "WARNING : Chord ratio value outside of the range in Roskam's book, value clipped\n",
      "WARNING : Ratio of span on fuselage depth outside of the range in Roskam's book, value clipped\n",
      "WARNING : Area ratio value outside of the range in Roskam's book, value clipped\n",
      "INFO    : Entering mission computation\n",
      "INFO    : Entering mission computation\n",
      "INFO    : Entering mission computation\n",
      "INFO    : Entering mission computation\n",
      "INFO    : Entering mission computation\n",
      "INFO    : Entering mission computation\n",
      "INFO    : Entering mission computation\n",
      "INFO    : Entering mission computation\n",
      "INFO    : Entering mission computation\n",
      "INFO    : Entering mission computation\n",
      "INFO    : Entering mission computation\n",
      "INFO    : Entering mission computation\n",
      "INFO    : Entering mission computation\n",
      "INFO    : Entering mission computation\n",
      "INFO    : Entering mission computation\n",
      "INFO    : Entering mission computation\n",
      "INFO    : Entering mission computation\n",
      "INFO    : Entering mission computation\n",
      "INFO    : Entering mission computation\n",
      "INFO    : Entering mission computation\n",
      "INFO    : Entering mission computation\n",
      "INFO    : Entering mission computation\n",
      "INFO    : Entering mission computation\n",
      "INFO    : Entering mission computation\n",
      "INFO    : Entering mission computation\n",
      "INFO    : Entering mission computation\n",
      "INFO    : Entering mission computation\n",
      "INFO    : Entering mission computation\n",
      "INFO    : Entering mission computation\n",
      "INFO    : Entering mission computation\n",
      "INFO    : Entering mission computation\n",
      "INFO    : Entering mission computation\n",
      "INFO    : Entering mission computation\n",
      "INFO    : Entering mission computation\n",
      "INFO    : Entering mission computation\n",
      "INFO    : Entering mission computation\n",
      "INFO    : Entering mission computation\n",
      "INFO    : Entering mission computation\n",
      "INFO    : Entering mission computation\n",
      "INFO    : Entering mission computation\n",
      "INFO    : Entering mission computation\n",
      "INFO    : Entering mission computation\n",
      "INFO    : Entering mission computation\n",
      "INFO    : Entering mission computation\n",
      "INFO    : Entering mission computation\n",
      "INFO    : Entering mission computation\n",
      "INFO    : Entering mission computation\n",
      "INFO    : Entering mission computation\n",
      "INFO    : Entering mission computation\n",
      "INFO    : Entering mission computation\n",
      "INFO    : Entering mission computation\n",
      "INFO    : Entering mission computation\n",
      "INFO    : Entering mission computation\n",
      "INFO    : Entering mission computation\n",
      "INFO    : Entering mission computation\n",
      "INFO    : Entering mission computation\n",
      "INFO    : Entering mission computation\n",
      "INFO    : Entering mission computation\n",
      "INFO    : Entering mission computation\n",
      "INFO    : Entering mission computation\n",
      "INFO    : Entering mission computation\n",
      "INFO    : Entering mission computation\n",
      "INFO    : Entering mission computation\n",
      "INFO    : Entering mission computation\n",
      "INFO    : Entering mission computation\n",
      "INFO    : Entering mission computation\n",
      "INFO    : Entering mission computation\n",
      "INFO    : Entering mission computation\n",
      "INFO    : Entering mission computation\n",
      "INFO    : Entering mission computation\n",
      "INFO    : Entering mission computation\n",
      "INFO    : Entering mission computation\n",
      "INFO    : Entering mission computation\n",
      "INFO    : Entering mission computation\n",
      "INFO    : Entering mission computation\n",
      "INFO    : Entering mission computation\n",
      "INFO    : Entering mission computation\n",
      "INFO    : Entering mission computation\n",
      "INFO    : Entering mission computation\n",
      "INFO    : Entering mission computation\n",
      "INFO    : Entering mission computation\n",
      "INFO    : Entering mission computation\n",
      "INFO    : Entering mission computation\n",
      "INFO    : Entering mission computation\n",
      "INFO    : Entering mission computation\n",
      "INFO    : Entering mission computation\n",
      "INFO    : Entering mission computation\n",
      "INFO    : Entering mission computation\n",
      "INFO    : Entering mission computation\n",
      "INFO    : Entering mission computation\n",
      "INFO    : Entering mission computation\n",
      "INFO    : Entering mission computation\n",
      "INFO    : Entering mission computation\n",
      "INFO    : Entering mission computation\n",
      "INFO    : Entering mission computation\n",
      "INFO    : Entering mission computation\n",
      "INFO    : Entering mission computation\n",
      "INFO    : Entering mission computation\n",
      "INFO    : Entering mission computation\n",
      "INFO    : Entering mission computation\n",
      "WARNING : Looping on wing area with new value equal to [15.99403747]\n"
     ]
    },
    {
     "name": "stdout",
     "output_type": "stream",
     "text": [
      "|  NL: NLBGSSolver 'NL: NLBGS' on system 'performance' failed to converge in 100 iterations.\n",
      "NL: NLBGS 26 ; 0.0146843258 0.00020008273\n",
      "NL: NLBGS Converged\n",
      "Optimization Complete\n",
      "-----------------------------------\n"
     ]
    },
    {
     "name": "stderr",
     "output_type": "stream",
     "text": [
      "INFO    : Computation finished after 4921.73 seconds\n",
      "INFO    : Problem outputs written in D:\\fl.lutz\\FAST\\FAST-OAD\\FAST-GA\\src\\fastga\\notebooks\\tutorial\\workdir\\problem_outputs.xml\n"
     ]
    }
   ],
   "source": [
    "optim_problem = api_cs25.optimize_problem(CONFIGURATION_FILE_MDO, overwrite=True)"
   ]
  },
  {
   "cell_type": "markdown",
   "metadata": {},
   "source": [
    "Let's save these results:"
   ]
  },
  {
   "cell_type": "code",
   "execution_count": 17,
   "metadata": {},
   "outputs": [
    {
     "data": {
      "text/plain": [
       "'workdir\\\\problem_outputs_Beechcraft_800nm_mdo.xml'"
      ]
     },
     "execution_count": 17,
     "metadata": {},
     "output_type": "execute_result"
    }
   ],
   "source": [
    "OUTPUT_FILE = pth.join(WORK_FOLDER_PATH, 'problem_outputs.xml')\n",
    "CeRAS_OPT_OUTPUT_FILE = pth.join(WORK_FOLDER_PATH, 'problem_outputs_Beechcraft_800nm_mdo.xml')\n",
    "shutil.copy(OUTPUT_FILE, CeRAS_OPT_OUTPUT_FILE)"
   ]
  },
  {
   "cell_type": "markdown",
   "metadata": {},
   "source": [
    "The `optimizer_viewer` offers a convenient summary of the optimization result:"
   ]
  },
  {
   "cell_type": "code",
   "execution_count": 18,
   "metadata": {},
   "outputs": [
    {
     "data": {
      "application/vnd.jupyter.widget-view+json": {
       "model_id": "89998e018f204523b70fc171a2fb83e8",
       "version_major": 2,
       "version_minor": 0
      },
      "text/plain": [
       "VBox(children=(HBox(children=(Button(description='Load', icon='upload', style=ButtonStyle(), tooltip='Load the…"
      ]
     },
     "metadata": {},
     "output_type": "display_data"
    }
   ],
   "source": [
    "api_cs25.optimization_viewer(CONFIGURATION_FILE_MDO)"
   ]
  },
  {
   "cell_type": "markdown",
   "metadata": {},
   "source": [
    "You can use the `VariableViewer` tool to see the optimization results for all variables of the system by loading the .xml output file:"
   ]
  },
  {
   "cell_type": "code",
   "execution_count": 19,
   "metadata": {},
   "outputs": [
    {
     "data": {
      "application/vnd.jupyter.widget-view+json": {
       "model_id": "d0e99ce15db748e8b14d08139b6bb8e2",
       "version_major": 2,
       "version_minor": 0
      },
      "text/plain": [
       "VBox(children=(HBox(children=(Button(description='Load', icon='upload', style=ButtonStyle(), tooltip='Load the…"
      ]
     },
     "metadata": {},
     "output_type": "display_data"
    }
   ],
   "source": [
    "RESULT_FILE = pth.join(WORK_FOLDER_PATH, 'problem_outputs.xml')\n",
    "api_cs25.variable_viewer(RESULT_FILE)"
   ]
  },
  {
   "cell_type": "code",
   "execution_count": null,
   "metadata": {},
   "outputs": [],
   "source": []
  }
 ],
 "metadata": {
  "kernelspec": {
   "display_name": "Python 3",
   "language": "python",
   "name": "python3"
  },
  "language_info": {
   "codemirror_mode": {
    "name": "ipython",
    "version": 3
   },
   "file_extension": ".py",
   "mimetype": "text/x-python",
   "name": "python",
   "nbconvert_exporter": "python",
   "pygments_lexer": "ipython3",
   "version": "3.8.10"
  }
 },
 "nbformat": 4,
 "nbformat_minor": 4
}
