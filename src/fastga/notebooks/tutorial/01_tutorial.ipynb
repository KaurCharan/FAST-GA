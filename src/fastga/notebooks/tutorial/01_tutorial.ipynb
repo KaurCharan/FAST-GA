{
 "cells": [
  {
   "cell_type": "markdown",
   "metadata": {},
   "source": [
    "<div class=\"row\">\n",
    "  <div class=\"column\">\n",
    "    <img src=\"./img/logo-onera.png\" width=\"200\">\n",
    "  </div>\n",
    "  <div class=\"column\">\n",
    "    <img src=\"./img/logo-ISAE_SUPAERO.png\" width=\"200\">\n",
    "  </div>\n",
    "</div>"
   ]
  },
  {
   "cell_type": "markdown",
   "metadata": {},
   "source": [
    "# FAST-OAD-GA Tutorial"
   ]
  },
  {
   "cell_type": "markdown",
   "metadata": {},
   "source": [
    "FAST-OAD-GA is an add-on package for [FAST-OAD framework](https://github.com/fast-aircraft-design/FAST-OAD) for performing rapid Overall Aircraft Design in the category General Aviation (GA). The computational core of FAST-OAD being based on the  [OpenMDAO framework](https://openmdao.org/)."
   ]
  },
  {
   "cell_type": "markdown",
   "metadata": {},
   "source": [
    "## 1. Setting up and analyzing the initial problem"
   ]
  },
  {
   "cell_type": "markdown",
   "metadata": {},
   "source": [
    "To organize our work, we propose to use two user folders `data/` and `workdir/`. For instance, in `data/` we store a XML file which describes the Beechcraft Duchess. In `workdir/`, we store files generated or modified by FAST-OAD."
   ]
  },
  {
   "cell_type": "code",
   "execution_count": 1,
   "metadata": {},
   "outputs": [
    {
     "name": "stderr",
     "output_type": "stream",
     "text": [
      "Failed to import module fastga.models.weight.cg.unitary_tests.test_cirrus_sr22.py\n",
      "Failed to import module fastga.models.loops.unitary_tests.test_wing_area.py\n",
      "Failed to import module fastga.models.aerodynamics.unitary_tests.test_cirrus_sr22.py\n",
      "Failed to import module fastga.models.weight.mass_breakdown.unitary_tests.test_beechcraft_76.py\n",
      "Failed to import module fastga.models.geometry.unitary_tests.test_beechcraft_76.py\n",
      "Failed to import module fastga.models.load_analysis.unitary_tests.test_beechcraft_76.py\n",
      "Failed to import module fastga.models.performances.unitary_tests.test_beechcraft_76.py\n",
      "Failed to import module fastga.models.aerodynamics.unitary_tests.test_beechcraft_76.py\n",
      "Failed to import module fastga.models.geometry.unitary_tests.test_cirrus_sr22.py\n",
      "Failed to import module fastga.models.weight.mass_breakdown.unitary_tests.test_cirrus_sr22.py\n",
      "Failed to import module fastga.models.load_analysis.unitary_tests.test_cirrus_sr22.py\n",
      "Failed to import module fastga.models.handling_qualities.unitary_tests.test_cirrus_sr22.py\n",
      "Failed to import module fastga.models.handling_qualities.unitary_tests.test_beechcraft_76.py\n",
      "Failed to import module fastga.models.performances.unitary_tests.test_cirrus_sr22.py\n",
      "Failed to import module fastga.models.propulsion.fuel_propulsion.basicIC_engine.unitary_tests.test_openmdao_engine.py\n",
      "Failed to import module fastga.models.weight.cg.unitary_tests.test_beechcraft_76.py\n"
     ]
    },
    {
     "data": {
      "text/html": [
       "<style>.container { width:95% !important; }</style>"
      ],
      "text/plain": [
       "<IPython.core.display.HTML object>"
      ]
     },
     "metadata": {},
     "output_type": "display_data"
    }
   ],
   "source": [
    "import os.path as pth\n",
    "import os\n",
    "import openmdao.api as om\n",
    "from fastoad import api as api_cs25\n",
    "from fastga.command import api as api_cs23\n",
    "import logging\n",
    "from fastoad.gui import VariableViewer\n",
    "import shutil\n",
    "\n",
    "# Define relative path\n",
    "DATA_FOLDER_PATH = 'data'\n",
    "WORK_FOLDER_PATH = 'workdir'\n",
    "\n",
    "# Remove work folder\n",
    "shutil.rmtree(WORK_FOLDER_PATH, ignore_errors=True)\n",
    "\n",
    "# Define files\n",
    "CONFIGURATION_FILE = pth.join(WORK_FOLDER_PATH, 'oad_process.yml')\n",
    "SOURCE_FILE = pth.join(DATA_FOLDER_PATH, 'beechcraft_76.xml')\n",
    "\n",
    "# For having log messages on screen\n",
    "logging.basicConfig(level=logging.INFO, format='%(levelname)-8s: %(message)s')\n",
    "\n",
    "# For using all screen width\n",
    "from IPython.core.display import display, HTML\n",
    "display(HTML(\"<style>.container { width:95% !important; }</style>\"))"
   ]
  },
  {
   "cell_type": "markdown",
   "metadata": {},
   "source": [
    "After defining a configuration file name, we can ask FAST-GA to generate a default configuration file based on the default OAD model implemented in the framework:"
   ]
  },
  {
   "cell_type": "code",
   "execution_count": 2,
   "metadata": {},
   "outputs": [
    {
     "name": "stderr",
     "output_type": "stream",
     "text": [
      "INFO    : Sample configuration written in workdir\\oad_process.yml\n"
     ]
    }
   ],
   "source": [
    "api_cs23.generate_configuration_file(CONFIGURATION_FILE, overwrite=True)"
   ]
  },
  {
   "cell_type": "markdown",
   "metadata": {},
   "source": [
    "You can now checkout the generated [configuration file](./workdir/oad_process.toml). In this configuration file, we have specified an input file name 'problem_inputs.xml'. We can ask FAST-OAD to generate the inputs of the default model with the CeRAS parameters as default values:"
   ]
  },
  {
   "cell_type": "code",
   "execution_count": 3,
   "metadata": {
    "scrolled": false
   },
   "outputs": [
    {
     "name": "stderr",
     "output_type": "stream",
     "text": [
      "INFO    : Problem inputs written in D:\\fl.lutz\\FAST\\FAST-OAD\\FAST-GA\\src\\fastga\\notebooks\\tutorial\\workdir\\problem_inputs.xml\n"
     ]
    },
    {
     "data": {
      "text/plain": [
       "'D:\\\\fl.lutz\\\\FAST\\\\FAST-OAD\\\\FAST-GA\\\\src\\\\fastga\\\\notebooks\\\\tutorial\\\\workdir\\\\problem_inputs.xml'"
      ]
     },
     "execution_count": 3,
     "metadata": {},
     "output_type": "execute_result"
    }
   ],
   "source": [
    "api_cs25.generate_inputs(CONFIGURATION_FILE, SOURCE_FILE, overwrite=True)"
   ]
  },
  {
   "cell_type": "markdown",
   "metadata": {},
   "source": [
    "You can now checkout the generated [input file](./workdir/problem_inputs.xml). As shown previously in the user file architecture, the values in this file can be modified by the user and will be considered by FAST-OAD when executing a computational process."
   ]
  },
  {
   "cell_type": "markdown",
   "metadata": {},
   "source": [
    "A useful feature that FAST-OAD provides is to list the outputs of the model defined in the configuration file:"
   ]
  },
  {
   "cell_type": "code",
   "execution_count": 4,
   "metadata": {},
   "outputs": [
    {
     "data": {
      "text/html": [
       "<table border=\"1\" class=\"dataframe\">\n",
       "  <thead>\n",
       "    <tr style=\"text-align: right;\">\n",
       "      <th>NAME</th>\n",
       "      <th>I/O</th>\n",
       "      <th>DESCRIPTION</th>\n",
       "    </tr>\n",
       "  </thead>\n",
       "  <tbody>\n",
       "    <tr>\n",
       "      <td>data:TLAR:NPAX_design</td>\n",
       "      <td>IN</td>\n",
       "      <td></td>\n",
       "    </tr>\n",
       "    <tr>\n",
       "      <td>data:TLAR:luggage_mass_design</td>\n",
       "      <td>IN</td>\n",
       "      <td></td>\n",
       "    </tr>\n",
       "    <tr>\n",
       "      <td>data:TLAR:range</td>\n",
       "      <td>IN</td>\n",
       "      <td>top-level requirement: design range</td>\n",
       "    </tr>\n",
       "    <tr>\n",
       "      <td>data:TLAR:v_approach</td>\n",
       "      <td>IN</td>\n",
       "      <td></td>\n",
       "    </tr>\n",
       "    <tr>\n",
       "      <td>data:TLAR:v_cruise</td>\n",
       "      <td>IN</td>\n",
       "      <td></td>\n",
       "    </tr>\n",
       "    <tr>\n",
       "      <td>data:TLAR:v_limit</td>\n",
       "      <td>IN</td>\n",
       "      <td></td>\n",
       "    </tr>\n",
       "    <tr>\n",
       "      <td>data:TLAR:v_max_sl</td>\n",
       "      <td>IN</td>\n",
       "      <td></td>\n",
       "    </tr>\n",
       "    <tr>\n",
       "      <td>data:aerodynamics:propeller:mach</td>\n",
       "      <td>IN</td>\n",
       "      <td></td>\n",
       "    </tr>\n",
       "    <tr>\n",
       "      <td>data:aerodynamics:propeller:reynolds</td>\n",
       "      <td>IN</td>\n",
       "      <td></td>\n",
       "    </tr>\n",
       "    <tr>\n",
       "      <td>data:geometry:cabin:aisle_width</td>\n",
       "      <td>IN</td>\n",
       "      <td>width of aisles</td>\n",
       "    </tr>\n",
       "    <tr>\n",
       "      <td>data:geometry:cabin:luggage:mass_max</td>\n",
       "      <td>IN</td>\n",
       "      <td></td>\n",
       "    </tr>\n",
       "    <tr>\n",
       "      <td>data:geometry:cabin:seats:passenger:NPAX_max</td>\n",
       "      <td>IN</td>\n",
       "      <td></td>\n",
       "    </tr>\n",
       "    <tr>\n",
       "      <td>data:geometry:cabin:seats:passenger:count_by_row</td>\n",
       "      <td>IN</td>\n",
       "      <td></td>\n",
       "    </tr>\n",
       "    <tr>\n",
       "      <td>data:geometry:cabin:seats:passenger:length</td>\n",
       "      <td>IN</td>\n",
       "      <td></td>\n",
       "    </tr>\n",
       "    <tr>\n",
       "      <td>data:geometry:cabin:seats:passenger:width</td>\n",
       "      <td>IN</td>\n",
       "      <td></td>\n",
       "    </tr>\n",
       "    <tr>\n",
       "      <td>data:geometry:cabin:seats:pilot:length</td>\n",
       "      <td>IN</td>\n",
       "      <td></td>\n",
       "    </tr>\n",
       "    <tr>\n",
       "      <td>data:geometry:cabin:seats:pilot:width</td>\n",
       "      <td>IN</td>\n",
       "      <td></td>\n",
       "    </tr>\n",
       "    <tr>\n",
       "      <td>data:geometry:flap:chord_ratio</td>\n",
       "      <td>IN</td>\n",
       "      <td>mean value of (flap chord)/(section chord)</td>\n",
       "    </tr>\n",
       "    <tr>\n",
       "      <td>data:geometry:flap:span_ratio</td>\n",
       "      <td>IN</td>\n",
       "      <td>ratio (width of flaps)/(total span)</td>\n",
       "    </tr>\n",
       "    <tr>\n",
       "      <td>data:geometry:flap_type</td>\n",
       "      <td>IN</td>\n",
       "      <td></td>\n",
       "    </tr>\n",
       "    <tr>\n",
       "      <td>data:geometry:has_T_tail</td>\n",
       "      <td>IN</td>\n",
       "      <td>0=horizontal tail is attached to fuselage / 1=horizontal tail is attached to top of vertical tail</td>\n",
       "    </tr>\n",
       "    <tr>\n",
       "      <td>data:geometry:horizontal_tail:MAC:at25percent:x:from_wingMAC25</td>\n",
       "      <td>IN</td>\n",
       "      <td>distance along X between 25% MAC of wing and 25% MAC of horizontal tail</td>\n",
       "    </tr>\n",
       "    <tr>\n",
       "      <td>data:geometry:horizontal_tail:elevator_chord_ratio</td>\n",
       "      <td>IN</td>\n",
       "      <td></td>\n",
       "    </tr>\n",
       "    <tr>\n",
       "      <td>data:geometry:horizontal_tail:sweep_25</td>\n",
       "      <td>IN</td>\n",
       "      <td>sweep angle at 25% chord of horizontal tail</td>\n",
       "    </tr>\n",
       "    <tr>\n",
       "      <td>data:geometry:horizontal_tail:taper_ratio</td>\n",
       "      <td>IN</td>\n",
       "      <td>taper ratio of horizontal tail</td>\n",
       "    </tr>\n",
       "    <tr>\n",
       "      <td>data:geometry:horizontal_tail:thickness_ratio</td>\n",
       "      <td>IN</td>\n",
       "      <td>thickness ratio of horizontal tail</td>\n",
       "    </tr>\n",
       "    <tr>\n",
       "      <td>data:geometry:landing_gear:type</td>\n",
       "      <td>IN</td>\n",
       "      <td></td>\n",
       "    </tr>\n",
       "    <tr>\n",
       "      <td>data:geometry:propeller:blades_number</td>\n",
       "      <td>IN</td>\n",
       "      <td></td>\n",
       "    </tr>\n",
       "    <tr>\n",
       "      <td>data:geometry:propeller:chord_vect</td>\n",
       "      <td>IN</td>\n",
       "      <td></td>\n",
       "    </tr>\n",
       "    <tr>\n",
       "      <td>data:geometry:propeller:depth</td>\n",
       "      <td>IN</td>\n",
       "      <td></td>\n",
       "    </tr>\n",
       "    <tr>\n",
       "      <td>data:geometry:propeller:diameter</td>\n",
       "      <td>IN</td>\n",
       "      <td></td>\n",
       "    </tr>\n",
       "    <tr>\n",
       "      <td>data:geometry:propeller:hub_diameter</td>\n",
       "      <td>IN</td>\n",
       "      <td></td>\n",
       "    </tr>\n",
       "    <tr>\n",
       "      <td>data:geometry:propeller:radius_ratio_vect</td>\n",
       "      <td>IN</td>\n",
       "      <td></td>\n",
       "    </tr>\n",
       "    <tr>\n",
       "      <td>data:geometry:propeller:sweep_vect</td>\n",
       "      <td>IN</td>\n",
       "      <td></td>\n",
       "    </tr>\n",
       "    <tr>\n",
       "      <td>data:geometry:propeller:twist_vect</td>\n",
       "      <td>IN</td>\n",
       "      <td></td>\n",
       "    </tr>\n",
       "    <tr>\n",
       "      <td>data:geometry:propulsion:count</td>\n",
       "      <td>IN</td>\n",
       "      <td></td>\n",
       "    </tr>\n",
       "    <tr>\n",
       "      <td>data:geometry:propulsion:layout</td>\n",
       "      <td>IN</td>\n",
       "      <td>position of engines (1=under the wing / 2=rear fuselage)</td>\n",
       "    </tr>\n",
       "    <tr>\n",
       "      <td>data:geometry:propulsion:y_ratio</td>\n",
       "      <td>IN</td>\n",
       "      <td></td>\n",
       "    </tr>\n",
       "    <tr>\n",
       "      <td>data:geometry:vertical_tail:aspect_ratio</td>\n",
       "      <td>IN</td>\n",
       "      <td>aspect ratio of vertical tail</td>\n",
       "    </tr>\n",
       "    <tr>\n",
       "      <td>data:geometry:vertical_tail:max_thickness:x_ratio</td>\n",
       "      <td>IN</td>\n",
       "      <td></td>\n",
       "    </tr>\n",
       "    <tr>\n",
       "      <td>data:geometry:vertical_tail:rudder:chord_ratio</td>\n",
       "      <td>IN</td>\n",
       "      <td></td>\n",
       "    </tr>\n",
       "    <tr>\n",
       "      <td>data:geometry:vertical_tail:rudder:max_deflection</td>\n",
       "      <td>IN</td>\n",
       "      <td></td>\n",
       "    </tr>\n",
       "    <tr>\n",
       "      <td>data:geometry:vertical_tail:sweep_25</td>\n",
       "      <td>IN</td>\n",
       "      <td>sweep angle at 25% chord of vertical tail</td>\n",
       "    </tr>\n",
       "    <tr>\n",
       "      <td>data:geometry:vertical_tail:taper_ratio</td>\n",
       "      <td>IN</td>\n",
       "      <td>taper ratio of vertical tail</td>\n",
       "    </tr>\n",
       "    <tr>\n",
       "      <td>data:geometry:vertical_tail:thickness_ratio</td>\n",
       "      <td>IN</td>\n",
       "      <td>thickness ratio of vertical tail</td>\n",
       "    </tr>\n",
       "    <tr>\n",
       "      <td>data:geometry:wing:aspect_ratio</td>\n",
       "      <td>IN</td>\n",
       "      <td>wing aspect ratio</td>\n",
       "    </tr>\n",
       "    <tr>\n",
       "      <td>data:geometry:wing:kink:span_ratio</td>\n",
       "      <td>IN</td>\n",
       "      <td>ratio (Y-position of kink)/(semi-span)</td>\n",
       "    </tr>\n",
       "    <tr>\n",
       "      <td>data:geometry:wing:sweep_25</td>\n",
       "      <td>IN</td>\n",
       "      <td>sweep angle at 25% chord of wing</td>\n",
       "    </tr>\n",
       "    <tr>\n",
       "      <td>data:geometry:wing:taper_ratio</td>\n",
       "      <td>IN</td>\n",
       "      <td>taper ratio of wing</td>\n",
       "    </tr>\n",
       "    <tr>\n",
       "      <td>data:geometry:wing:thickness_ratio</td>\n",
       "      <td>IN</td>\n",
       "      <td>mean thickness ratio of wing</td>\n",
       "    </tr>\n",
       "    <tr>\n",
       "      <td>data:handling_qualities:static_margin:target</td>\n",
       "      <td>IN</td>\n",
       "      <td></td>\n",
       "    </tr>\n",
       "    <tr>\n",
       "      <td>data:mission:sizing:cs23:sizing_factor_ultimate</td>\n",
       "      <td>IN</td>\n",
       "      <td></td>\n",
       "    </tr>\n",
       "    <tr>\n",
       "      <td>data:mission:sizing:holding:fuel</td>\n",
       "      <td>IN</td>\n",
       "      <td>mass of consumed fuel during holding phase in sizing mission</td>\n",
       "    </tr>\n",
       "    <tr>\n",
       "      <td>data:mission:sizing:landing:elevator_angle</td>\n",
       "      <td>IN</td>\n",
       "      <td></td>\n",
       "    </tr>\n",
       "    <tr>\n",
       "      <td>data:mission:sizing:landing:flap_angle</td>\n",
       "      <td>IN</td>\n",
       "      <td>flap angle during landing phase in sizing mission</td>\n",
       "    </tr>\n",
       "    <tr>\n",
       "      <td>data:mission:sizing:landing:target_sideslip</td>\n",
       "      <td>IN</td>\n",
       "      <td></td>\n",
       "    </tr>\n",
       "    <tr>\n",
       "      <td>data:mission:sizing:main_route:climb:thrust_rate</td>\n",
       "      <td>IN</td>\n",
       "      <td></td>\n",
       "    </tr>\n",
       "    <tr>\n",
       "      <td>data:mission:sizing:main_route:cruise:altitude</td>\n",
       "      <td>IN</td>\n",
       "      <td>altitude during cruise phase in sizing mission</td>\n",
       "    </tr>\n",
       "    <tr>\n",
       "      <td>data:mission:sizing:main_route:descent:descent_rate</td>\n",
       "      <td>IN</td>\n",
       "      <td></td>\n",
       "    </tr>\n",
       "    <tr>\n",
       "      <td>data:mission:sizing:main_route:reserve:duration</td>\n",
       "      <td>IN</td>\n",
       "      <td></td>\n",
       "    </tr>\n",
       "    <tr>\n",
       "      <td>data:mission:sizing:takeoff:elevator_angle</td>\n",
       "      <td>IN</td>\n",
       "      <td></td>\n",
       "    </tr>\n",
       "    <tr>\n",
       "      <td>data:mission:sizing:takeoff:flap_angle</td>\n",
       "      <td>IN</td>\n",
       "      <td>flap angle during takeoff phase in sizing mission</td>\n",
       "    </tr>\n",
       "    <tr>\n",
       "      <td>data:mission:sizing:takeoff:friction_coefficient_no_brake</td>\n",
       "      <td>IN</td>\n",
       "      <td>ground friction coefficient with no brake in sizing mission</td>\n",
       "    </tr>\n",
       "    <tr>\n",
       "      <td>data:mission:sizing:takeoff:thrust_rate</td>\n",
       "      <td>IN</td>\n",
       "      <td></td>\n",
       "    </tr>\n",
       "    <tr>\n",
       "      <td>data:mission:sizing:taxi_in:duration</td>\n",
       "      <td>IN</td>\n",
       "      <td>duration of taxi-in phase in sizing mission</td>\n",
       "    </tr>\n",
       "    <tr>\n",
       "      <td>data:mission:sizing:taxi_in:speed</td>\n",
       "      <td>IN</td>\n",
       "      <td>speed during taxi-in phase in sizing mission</td>\n",
       "    </tr>\n",
       "    <tr>\n",
       "      <td>data:mission:sizing:taxi_in:thrust_rate</td>\n",
       "      <td>IN</td>\n",
       "      <td>thrust rate (between 0.0 and 1.0) during taxi-in phase in sizing mission</td>\n",
       "    </tr>\n",
       "    <tr>\n",
       "      <td>data:mission:sizing:taxi_out:duration</td>\n",
       "      <td>IN</td>\n",
       "      <td>duration of taxi-out phase in sizing mission</td>\n",
       "    </tr>\n",
       "    <tr>\n",
       "      <td>data:mission:sizing:taxi_out:speed</td>\n",
       "      <td>IN</td>\n",
       "      <td>speed during taxi-out phase in sizing mission</td>\n",
       "    </tr>\n",
       "    <tr>\n",
       "      <td>data:mission:sizing:taxi_out:thrust_rate</td>\n",
       "      <td>IN</td>\n",
       "      <td>thrust rate (between 0.0 and 1.0) during taxi-out phase in sizing mission</td>\n",
       "    </tr>\n",
       "    <tr>\n",
       "      <td>data:propulsion:IC_engine:fuel_type</td>\n",
       "      <td>IN</td>\n",
       "      <td></td>\n",
       "    </tr>\n",
       "    <tr>\n",
       "      <td>data:propulsion:IC_engine:max_power</td>\n",
       "      <td>IN</td>\n",
       "      <td></td>\n",
       "    </tr>\n",
       "    <tr>\n",
       "      <td>data:propulsion:IC_engine:strokes_nb</td>\n",
       "      <td>IN</td>\n",
       "      <td></td>\n",
       "    </tr>\n",
       "    <tr>\n",
       "      <td>data:weight:propulsion:tank:mass</td>\n",
       "      <td>IN</td>\n",
       "      <td>Mass of the propulsion system_inp_data:weight:propulsion:tank:mass</td>\n",
       "    </tr>\n",
       "    <tr>\n",
       "      <td>settings:handling_qualities:rudder:safety_margin</td>\n",
       "      <td>IN</td>\n",
       "      <td>Ratio of the total rudder deflection not used in the computation of the VT area to leave a safety margin</td>\n",
       "    </tr>\n",
       "    <tr>\n",
       "      <td>settings:weight:aircraft:CG:aft:MAC_position:margin</td>\n",
       "      <td>IN</td>\n",
       "      <td>Added margin for getting most aft CG position, as ratio of mean aerodynamic chord</td>\n",
       "    </tr>\n",
       "    <tr>\n",
       "      <td>settings:weight:aircraft:CG:fwd:MAC_position:margin</td>\n",
       "      <td>IN</td>\n",
       "      <td>Added margin for getting most fwd CG position, as ratio of mean aerodynamic chord</td>\n",
       "    </tr>\n",
       "    <tr>\n",
       "      <td>settings:weight:aircraft:CG:range</td>\n",
       "      <td>IN</td>\n",
       "      <td>distance between front position and aft position of CG, as ratio of mean aerodynamic chord (allows to have front position of CG, as currently, FAST-OAD estimates only the aft position of CG)</td>\n",
       "    </tr>\n",
       "    <tr>\n",
       "      <td>settings:weight:aircraft:payload:design_mass_per_passenger</td>\n",
       "      <td>IN</td>\n",
       "      <td>Design value of mass per passenger</td>\n",
       "    </tr>\n",
       "    <tr>\n",
       "      <td>settings:weight:aircraft:payload:max_mass_per_passenger</td>\n",
       "      <td>IN</td>\n",
       "      <td>Maximum value of mass per passenger</td>\n",
       "    </tr>\n",
       "    <tr>\n",
       "      <td>settings:weight:airframe:landing_gear:front:weight_ratio</td>\n",
       "      <td>IN</td>\n",
       "      <td>part of aircraft weight that is supported by front landing gear</td>\n",
       "    </tr>\n",
       "    <tr>\n",
       "      <td>data:aerodynamics:aircraft:cruise:CD0</td>\n",
       "      <td>OUT</td>\n",
       "      <td>profile drag coefficient for whole aircraft w.r.t. data:aerodynamics:aircraft:cruise:CL</td>\n",
       "    </tr>\n",
       "    <tr>\n",
       "      <td>data:aerodynamics:aircraft:cruise:L_D_max</td>\n",
       "      <td>OUT</td>\n",
       "      <td>max lift/drag ratio in cruise conditions</td>\n",
       "    </tr>\n",
       "    <tr>\n",
       "      <td>data:aerodynamics:aircraft:cruise:optimal_CD</td>\n",
       "      <td>OUT</td>\n",
       "      <td>drag coefficient at maximum lift/drag ratio in cruise conditions</td>\n",
       "    </tr>\n",
       "    <tr>\n",
       "      <td>data:aerodynamics:aircraft:cruise:optimal_CL</td>\n",
       "      <td>OUT</td>\n",
       "      <td>lift coefficient at maximum lift/drag ratio in cruise conditions</td>\n",
       "    </tr>\n",
       "    <tr>\n",
       "      <td>data:aerodynamics:aircraft:cruise:optimal_alpha</td>\n",
       "      <td>OUT</td>\n",
       "      <td></td>\n",
       "    </tr>\n",
       "    <tr>\n",
       "      <td>data:aerodynamics:aircraft:landing:CL_max</td>\n",
       "      <td>OUT</td>\n",
       "      <td>maximum lift coefficient in landing conditions</td>\n",
       "    </tr>\n",
       "    <tr>\n",
       "      <td>data:aerodynamics:aircraft:low_speed:CD0</td>\n",
       "      <td>OUT</td>\n",
       "      <td>profile drag coefficient for whole aircraft in low speed conditions (no high-lift) w.r.t. data:aerodynamics:aircraft:low_speed:CL</td>\n",
       "    </tr>\n",
       "    <tr>\n",
       "      <td>data:aerodynamics:aircraft:mach_interpolation:CL_alpha_vector</td>\n",
       "      <td>OUT</td>\n",
       "      <td></td>\n",
       "    </tr>\n",
       "    <tr>\n",
       "      <td>data:aerodynamics:aircraft:mach_interpolation:mach_vector</td>\n",
       "      <td>OUT</td>\n",
       "      <td></td>\n",
       "    </tr>\n",
       "    <tr>\n",
       "      <td>data:aerodynamics:aircraft:takeoff:CL_max</td>\n",
       "      <td>OUT</td>\n",
       "      <td></td>\n",
       "    </tr>\n",
       "    <tr>\n",
       "      <td>data:aerodynamics:cruise:mach</td>\n",
       "      <td>OUT</td>\n",
       "      <td>mach number representative of high speed aerodynamics</td>\n",
       "    </tr>\n",
       "    <tr>\n",
       "      <td>data:aerodynamics:cruise:neutral_point:free_elevator_factor</td>\n",
       "      <td>OUT</td>\n",
       "      <td>free elevator factor for computation of stick free static margin in high speed</td>\n",
       "    </tr>\n",
       "    <tr>\n",
       "      <td>data:aerodynamics:cruise:neutral_point:stick_fixed:x</td>\n",
       "      <td>OUT</td>\n",
       "      <td>distance between the leading edge of the wing at the MAC and the stick fixed aerodynamic center</td>\n",
       "    </tr>\n",
       "    <tr>\n",
       "      <td>data:aerodynamics:cruise:neutral_point:stick_free:x</td>\n",
       "      <td>OUT</td>\n",
       "      <td>distance between the leading edge of the wing at the MAC and the stick free aerodynamic center</td>\n",
       "    </tr>\n",
       "    <tr>\n",
       "      <td>data:aerodynamics:cruise:unit_reynolds</td>\n",
       "      <td>OUT</td>\n",
       "      <td>unitary reynolds number representative of high speed aerodynamics</td>\n",
       "    </tr>\n",
       "    <tr>\n",
       "      <td>data:aerodynamics:elevator:low_speed:CD_delta</td>\n",
       "      <td>OUT</td>\n",
       "      <td></td>\n",
       "    </tr>\n",
       "    <tr>\n",
       "      <td>data:aerodynamics:elevator:low_speed:CL_delta</td>\n",
       "      <td>OUT</td>\n",
       "      <td>derivative of horizontal tail lift coefficient with respect to elevator command</td>\n",
       "    </tr>\n",
       "    <tr>\n",
       "      <td>data:aerodynamics:flaps:landing:CD</td>\n",
       "      <td>OUT</td>\n",
       "      <td></td>\n",
       "    </tr>\n",
       "    <tr>\n",
       "      <td>data:aerodynamics:flaps:landing:CL</td>\n",
       "      <td>OUT</td>\n",
       "      <td></td>\n",
       "    </tr>\n",
       "    <tr>\n",
       "      <td>data:aerodynamics:flaps:landing:CL_max</td>\n",
       "      <td>OUT</td>\n",
       "      <td></td>\n",
       "    </tr>\n",
       "    <tr>\n",
       "      <td>data:aerodynamics:flaps:landing:CM</td>\n",
       "      <td>OUT</td>\n",
       "      <td></td>\n",
       "    </tr>\n",
       "    <tr>\n",
       "      <td>data:aerodynamics:flaps:takeoff:CD</td>\n",
       "      <td>OUT</td>\n",
       "      <td></td>\n",
       "    </tr>\n",
       "    <tr>\n",
       "      <td>data:aerodynamics:flaps:takeoff:CL</td>\n",
       "      <td>OUT</td>\n",
       "      <td></td>\n",
       "    </tr>\n",
       "    <tr>\n",
       "      <td>data:aerodynamics:flaps:takeoff:CL_max</td>\n",
       "      <td>OUT</td>\n",
       "      <td></td>\n",
       "    </tr>\n",
       "    <tr>\n",
       "      <td>data:aerodynamics:flaps:takeoff:CM</td>\n",
       "      <td>OUT</td>\n",
       "      <td></td>\n",
       "    </tr>\n",
       "    <tr>\n",
       "      <td>data:aerodynamics:fuselage:cruise:CD0</td>\n",
       "      <td>OUT</td>\n",
       "      <td>profile drag coefficient for fuselage w.r.t. data:aerodynamics:aircraft:cruise:CL</td>\n",
       "    </tr>\n",
       "    <tr>\n",
       "      <td>data:aerodynamics:fuselage:cruise:CnBeta</td>\n",
       "      <td>OUT</td>\n",
       "      <td>derivative of yawing moment against sideslip angle for fuselage in cruise conditions</td>\n",
       "    </tr>\n",
       "    <tr>\n",
       "      <td>data:aerodynamics:fuselage:low_speed:CD0</td>\n",
       "      <td>OUT</td>\n",
       "      <td>profile drag coefficient for fuselage w.r.t. data:aerodynamics:aircraft:low_speed:CL</td>\n",
       "    </tr>\n",
       "    <tr>\n",
       "      <td>data:aerodynamics:horizontal_tail:MAC:low_speed:reynolds</td>\n",
       "      <td>OUT</td>\n",
       "      <td></td>\n",
       "    </tr>\n",
       "    <tr>\n",
       "      <td>data:aerodynamics:horizontal_tail:airfoil:CL_alpha</td>\n",
       "      <td>OUT</td>\n",
       "      <td>horizontal tail airfoil lift curve slope</td>\n",
       "    </tr>\n",
       "    <tr>\n",
       "      <td>data:aerodynamics:horizontal_tail:cruise:CD0</td>\n",
       "      <td>OUT</td>\n",
       "      <td>profile drag coefficient for horizontal tail in cruise conditions</td>\n",
       "    </tr>\n",
       "    <tr>\n",
       "      <td>data:aerodynamics:horizontal_tail:cruise:CDp</td>\n",
       "      <td>OUT</td>\n",
       "      <td></td>\n",
       "    </tr>\n",
       "    <tr>\n",
       "      <td>data:aerodynamics:horizontal_tail:cruise:CL</td>\n",
       "      <td>OUT</td>\n",
       "      <td></td>\n",
       "    </tr>\n",
       "    <tr>\n",
       "      <td>data:aerodynamics:horizontal_tail:cruise:CL0</td>\n",
       "      <td>OUT</td>\n",
       "      <td>lift coefficient of the horizontal tail when aircraft AOA is null in cruise conditions</td>\n",
       "    </tr>\n",
       "    <tr>\n",
       "      <td>data:aerodynamics:horizontal_tail:cruise:CL_alpha</td>\n",
       "      <td>OUT</td>\n",
       "      <td>derivative of lift coefficient of horizontal tail with respect to local angle of attack in cruise conditions</td>\n",
       "    </tr>\n",
       "    <tr>\n",
       "      <td>data:aerodynamics:horizontal_tail:cruise:CL_alpha_isolated</td>\n",
       "      <td>OUT</td>\n",
       "      <td>derivative of lift coefficient of horizontal tail with respect to local angle of attack in cruise conditions</td>\n",
       "    </tr>\n",
       "    <tr>\n",
       "      <td>data:aerodynamics:horizontal_tail:cruise:hinge_moment:CH_alpha</td>\n",
       "      <td>OUT</td>\n",
       "      <td>derivative of 3D hinge moment coefficient with respect to the local angle of attack in cruise conditions</td>\n",
       "    </tr>\n",
       "    <tr>\n",
       "      <td>data:aerodynamics:horizontal_tail:cruise:hinge_moment:CH_alpha_2D</td>\n",
       "      <td>OUT</td>\n",
       "      <td>derivative of 2D hinge moment coefficient with respect to the local angle of attack in cruise conditions</td>\n",
       "    </tr>\n",
       "    <tr>\n",
       "      <td>data:aerodynamics:horizontal_tail:cruise:hinge_moment:CH_delta</td>\n",
       "      <td>OUT</td>\n",
       "      <td>derivative of 3D hinge moment coefficient with respect to elevator deflection in cruise conditions</td>\n",
       "    </tr>\n",
       "    <tr>\n",
       "      <td>data:aerodynamics:horizontal_tail:cruise:hinge_moment:CH_delta_2D</td>\n",
       "      <td>OUT</td>\n",
       "      <td>derivative of 2D hinge moment coefficient with respect to elevator deflection in cruise conditions</td>\n",
       "    </tr>\n",
       "    <tr>\n",
       "      <td>data:aerodynamics:horizontal_tail:cruise:induced_drag_coefficient</td>\n",
       "      <td>OUT</td>\n",
       "      <td>coefficient to multiply by the lift coefficient squared to get induced drag in cruise conditions</td>\n",
       "    </tr>\n",
       "    <tr>\n",
       "      <td>data:aerodynamics:horizontal_tail:cruise:reynolds</td>\n",
       "      <td>OUT</td>\n",
       "      <td></td>\n",
       "    </tr>\n",
       "    <tr>\n",
       "      <td>data:aerodynamics:horizontal_tail:efficiency</td>\n",
       "      <td>OUT</td>\n",
       "      <td>ratio between the dynamic pressure at the tail and the free stream dynamic pressure</td>\n",
       "    </tr>\n",
       "    <tr>\n",
       "      <td>data:aerodynamics:horizontal_tail:low_speed:CD0</td>\n",
       "      <td>OUT</td>\n",
       "      <td>profile drag coefficient for horizontal tail in low speed conditions</td>\n",
       "    </tr>\n",
       "    <tr>\n",
       "      <td>data:aerodynamics:horizontal_tail:low_speed:CDp</td>\n",
       "      <td>OUT</td>\n",
       "      <td></td>\n",
       "    </tr>\n",
       "    <tr>\n",
       "      <td>data:aerodynamics:horizontal_tail:low_speed:CL</td>\n",
       "      <td>OUT</td>\n",
       "      <td></td>\n",
       "    </tr>\n",
       "    <tr>\n",
       "      <td>data:aerodynamics:horizontal_tail:low_speed:CL0</td>\n",
       "      <td>OUT</td>\n",
       "      <td>lift coefficient of the horizontal tail when aircraft AOA is null in low speed conditions</td>\n",
       "    </tr>\n",
       "    <tr>\n",
       "      <td>data:aerodynamics:horizontal_tail:low_speed:CL_alpha</td>\n",
       "      <td>OUT</td>\n",
       "      <td>derivative of lift coefficient of horizontal tail with respect to aircraft angle of attack in low speed conditions</td>\n",
       "    </tr>\n",
       "    <tr>\n",
       "      <td>data:aerodynamics:horizontal_tail:low_speed:CL_alpha_isolated</td>\n",
       "      <td>OUT</td>\n",
       "      <td>derivative of lift coefficient of horizontal tail with respect to local angle of attack in low speed conditions</td>\n",
       "    </tr>\n",
       "    <tr>\n",
       "      <td>data:aerodynamics:horizontal_tail:low_speed:CL_max_clean</td>\n",
       "      <td>OUT</td>\n",
       "      <td>maximum horizontal tail lift coefficient in low speed altitude</td>\n",
       "    </tr>\n",
       "    <tr>\n",
       "      <td>data:aerodynamics:horizontal_tail:low_speed:CL_min_clean</td>\n",
       "      <td>OUT</td>\n",
       "      <td>minimum horizontal tail lift coefficient in low speed altitude</td>\n",
       "    </tr>\n",
       "    <tr>\n",
       "      <td>data:aerodynamics:horizontal_tail:low_speed:CL_ref</td>\n",
       "      <td>OUT</td>\n",
       "      <td>reference horizontal tail lift coefficient corresponding to the lift repartition in CL_vector</td>\n",
       "    </tr>\n",
       "    <tr>\n",
       "      <td>data:aerodynamics:horizontal_tail:low_speed:CL_vector</td>\n",
       "      <td>OUT</td>\n",
       "      <td>horizontal tail lift coefficient repartition along the span corresponding to the lift coefficient in CL_ref</td>\n",
       "    </tr>\n",
       "    <tr>\n",
       "      <td>data:aerodynamics:horizontal_tail:low_speed:Y_vector</td>\n",
       "      <td>OUT</td>\n",
       "      <td></td>\n",
       "    </tr>\n",
       "    <tr>\n",
       "      <td>data:aerodynamics:horizontal_tail:low_speed:clean:alpha_aircraft_max</td>\n",
       "      <td>OUT</td>\n",
       "      <td></td>\n",
       "    </tr>\n",
       "    <tr>\n",
       "      <td>data:aerodynamics:horizontal_tail:low_speed:clean:alpha_aircraft_min</td>\n",
       "      <td>OUT</td>\n",
       "      <td></td>\n",
       "    </tr>\n",
       "    <tr>\n",
       "      <td>data:aerodynamics:horizontal_tail:low_speed:induced_drag_coefficient</td>\n",
       "      <td>OUT</td>\n",
       "      <td></td>\n",
       "    </tr>\n",
       "    <tr>\n",
       "      <td>data:aerodynamics:horizontal_tail:low_speed:reynolds</td>\n",
       "      <td>OUT</td>\n",
       "      <td></td>\n",
       "    </tr>\n",
       "    <tr>\n",
       "      <td>data:aerodynamics:horizontal_tail:low_speed:root:CL_max_2D</td>\n",
       "      <td>OUT</td>\n",
       "      <td></td>\n",
       "    </tr>\n",
       "    <tr>\n",
       "      <td>data:aerodynamics:horizontal_tail:low_speed:root:CL_min_2D</td>\n",
       "      <td>OUT</td>\n",
       "      <td></td>\n",
       "    </tr>\n",
       "    <tr>\n",
       "      <td>data:aerodynamics:horizontal_tail:low_speed:tip:CL_max_2D</td>\n",
       "      <td>OUT</td>\n",
       "      <td></td>\n",
       "    </tr>\n",
       "    <tr>\n",
       "      <td>data:aerodynamics:horizontal_tail:low_speed:tip:CL_min_2D</td>\n",
       "      <td>OUT</td>\n",
       "      <td></td>\n",
       "    </tr>\n",
       "    <tr>\n",
       "      <td>data:aerodynamics:horizontal_tail:root:low_speed:reynolds</td>\n",
       "      <td>OUT</td>\n",
       "      <td></td>\n",
       "    </tr>\n",
       "    <tr>\n",
       "      <td>data:aerodynamics:horizontal_tail:tip:low_speed:reynolds</td>\n",
       "      <td>OUT</td>\n",
       "      <td></td>\n",
       "    </tr>\n",
       "    <tr>\n",
       "      <td>data:aerodynamics:landing_gear:cruise:CD0</td>\n",
       "      <td>OUT</td>\n",
       "      <td></td>\n",
       "    </tr>\n",
       "    <tr>\n",
       "      <td>data:aerodynamics:landing_gear:low_speed:CD0</td>\n",
       "      <td>OUT</td>\n",
       "      <td></td>\n",
       "    </tr>\n",
       "    <tr>\n",
       "      <td>data:aerodynamics:low_speed:mach</td>\n",
       "      <td>OUT</td>\n",
       "      <td></td>\n",
       "    </tr>\n",
       "    <tr>\n",
       "      <td>data:aerodynamics:low_speed:unit_reynolds</td>\n",
       "      <td>OUT</td>\n",
       "      <td></td>\n",
       "    </tr>\n",
       "    <tr>\n",
       "      <td>data:aerodynamics:nacelles:cruise:CD0</td>\n",
       "      <td>OUT</td>\n",
       "      <td>profile drag coefficient for nacelles in cruise conditions</td>\n",
       "    </tr>\n",
       "    <tr>\n",
       "      <td>data:aerodynamics:nacelles:low_speed:CD0</td>\n",
       "      <td>OUT</td>\n",
       "      <td>profile drag coefficient for nacelles in low speed conditions</td>\n",
       "    </tr>\n",
       "    <tr>\n",
       "      <td>data:aerodynamics:other:cruise:CD0</td>\n",
       "      <td>OUT</td>\n",
       "      <td></td>\n",
       "    </tr>\n",
       "    <tr>\n",
       "      <td>data:aerodynamics:other:low_speed:CD0</td>\n",
       "      <td>OUT</td>\n",
       "      <td></td>\n",
       "    </tr>\n",
       "    <tr>\n",
       "      <td>data:aerodynamics:propeller:cruise_level:efficiency</td>\n",
       "      <td>OUT</td>\n",
       "      <td></td>\n",
       "    </tr>\n",
       "    <tr>\n",
       "      <td>data:aerodynamics:propeller:cruise_level:speed</td>\n",
       "      <td>OUT</td>\n",
       "      <td></td>\n",
       "    </tr>\n",
       "    <tr>\n",
       "      <td>data:aerodynamics:propeller:cruise_level:thrust</td>\n",
       "      <td>OUT</td>\n",
       "      <td></td>\n",
       "    </tr>\n",
       "    <tr>\n",
       "      <td>data:aerodynamics:propeller:cruise_level:thrust_limit</td>\n",
       "      <td>OUT</td>\n",
       "      <td></td>\n",
       "    </tr>\n",
       "    <tr>\n",
       "      <td>data:aerodynamics:propeller:sea_level:efficiency</td>\n",
       "      <td>OUT</td>\n",
       "      <td></td>\n",
       "    </tr>\n",
       "    <tr>\n",
       "      <td>data:aerodynamics:propeller:sea_level:speed</td>\n",
       "      <td>OUT</td>\n",
       "      <td></td>\n",
       "    </tr>\n",
       "    <tr>\n",
       "      <td>data:aerodynamics:propeller:sea_level:thrust</td>\n",
       "      <td>OUT</td>\n",
       "      <td></td>\n",
       "    </tr>\n",
       "    <tr>\n",
       "      <td>data:aerodynamics:propeller:sea_level:thrust_limit</td>\n",
       "      <td>OUT</td>\n",
       "      <td></td>\n",
       "    </tr>\n",
       "    <tr>\n",
       "      <td>data:aerodynamics:rudder:low_speed:Cy_delta_r</td>\n",
       "      <td>OUT</td>\n",
       "      <td></td>\n",
       "    </tr>\n",
       "    <tr>\n",
       "      <td>data:aerodynamics:vertical_tail:MAC:low_speed:reynolds</td>\n",
       "      <td>OUT</td>\n",
       "      <td></td>\n",
       "    </tr>\n",
       "    <tr>\n",
       "      <td>data:aerodynamics:vertical_tail:airfoil:CL_alpha</td>\n",
       "      <td>OUT</td>\n",
       "      <td></td>\n",
       "    </tr>\n",
       "    <tr>\n",
       "      <td>data:aerodynamics:vertical_tail:cruise:CD0</td>\n",
       "      <td>OUT</td>\n",
       "      <td>profile drag coefficient for vertical tail in cruise conditions</td>\n",
       "    </tr>\n",
       "    <tr>\n",
       "      <td>data:aerodynamics:vertical_tail:cruise:CL_alpha</td>\n",
       "      <td>OUT</td>\n",
       "      <td>derivative of lift coefficient of horizontal tail with respect to local \"angle of attack\" in cruise conditions</td>\n",
       "    </tr>\n",
       "    <tr>\n",
       "      <td>data:aerodynamics:vertical_tail:k_ar_effective</td>\n",
       "      <td>OUT</td>\n",
       "      <td></td>\n",
       "    </tr>\n",
       "    <tr>\n",
       "      <td>data:aerodynamics:vertical_tail:low_speed:CD0</td>\n",
       "      <td>OUT</td>\n",
       "      <td>profile drag coefficient for vertical tail in low speed conditions</td>\n",
       "    </tr>\n",
       "    <tr>\n",
       "      <td>data:aerodynamics:vertical_tail:low_speed:CL_alpha</td>\n",
       "      <td>OUT</td>\n",
       "      <td></td>\n",
       "    </tr>\n",
       "    <tr>\n",
       "      <td>data:aerodynamics:wing:MAC:low_speed:reynolds</td>\n",
       "      <td>OUT</td>\n",
       "      <td></td>\n",
       "    </tr>\n",
       "    <tr>\n",
       "      <td>data:aerodynamics:wing:airfoil:CL_alpha</td>\n",
       "      <td>OUT</td>\n",
       "      <td></td>\n",
       "    </tr>\n",
       "    <tr>\n",
       "      <td>data:aerodynamics:wing:cruise:CD0</td>\n",
       "      <td>OUT</td>\n",
       "      <td>profile drag coefficient for wing w.r.t. data:aerodynamics:aircraft:cruise:CL</td>\n",
       "    </tr>\n",
       "    <tr>\n",
       "      <td>data:aerodynamics:wing:cruise:CDp</td>\n",
       "      <td>OUT</td>\n",
       "      <td></td>\n",
       "    </tr>\n",
       "    <tr>\n",
       "      <td>data:aerodynamics:wing:cruise:CL</td>\n",
       "      <td>OUT</td>\n",
       "      <td></td>\n",
       "    </tr>\n",
       "    <tr>\n",
       "      <td>data:aerodynamics:wing:cruise:CL0_clean</td>\n",
       "      <td>OUT</td>\n",
       "      <td></td>\n",
       "    </tr>\n",
       "    <tr>\n",
       "      <td>data:aerodynamics:wing:cruise:CL_alpha</td>\n",
       "      <td>OUT</td>\n",
       "      <td></td>\n",
       "    </tr>\n",
       "    <tr>\n",
       "      <td>data:aerodynamics:wing:cruise:CM0_clean</td>\n",
       "      <td>OUT</td>\n",
       "      <td></td>\n",
       "    </tr>\n",
       "    <tr>\n",
       "      <td>data:aerodynamics:wing:cruise:induced_drag_coefficient</td>\n",
       "      <td>OUT</td>\n",
       "      <td></td>\n",
       "    </tr>\n",
       "    <tr>\n",
       "      <td>data:aerodynamics:wing:cruise:reynolds</td>\n",
       "      <td>OUT</td>\n",
       "      <td>Reynolds number based on wing mean aerodynamic chord in cruise conditions</td>\n",
       "    </tr>\n",
       "    <tr>\n",
       "      <td>data:aerodynamics:wing:low_speed:CD0</td>\n",
       "      <td>OUT</td>\n",
       "      <td>profile drag coefficient for wing w.r.t. data:aerodynamics:aircraft:low_speed:CL</td>\n",
       "    </tr>\n",
       "    <tr>\n",
       "      <td>data:aerodynamics:wing:low_speed:CDp</td>\n",
       "      <td>OUT</td>\n",
       "      <td></td>\n",
       "    </tr>\n",
       "    <tr>\n",
       "      <td>data:aerodynamics:wing:low_speed:CL</td>\n",
       "      <td>OUT</td>\n",
       "      <td></td>\n",
       "    </tr>\n",
       "    <tr>\n",
       "      <td>data:aerodynamics:wing:low_speed:CL0_clean</td>\n",
       "      <td>OUT</td>\n",
       "      <td></td>\n",
       "    </tr>\n",
       "    <tr>\n",
       "      <td>data:aerodynamics:wing:low_speed:CL_alpha</td>\n",
       "      <td>OUT</td>\n",
       "      <td></td>\n",
       "    </tr>\n",
       "    <tr>\n",
       "      <td>data:aerodynamics:wing:low_speed:CL_max_clean</td>\n",
       "      <td>OUT</td>\n",
       "      <td></td>\n",
       "    </tr>\n",
       "    <tr>\n",
       "      <td>data:aerodynamics:wing:low_speed:CL_min_clean</td>\n",
       "      <td>OUT</td>\n",
       "      <td></td>\n",
       "    </tr>\n",
       "    <tr>\n",
       "      <td>data:aerodynamics:wing:low_speed:CL_vector</td>\n",
       "      <td>OUT</td>\n",
       "      <td></td>\n",
       "    </tr>\n",
       "    <tr>\n",
       "      <td>data:aerodynamics:wing:low_speed:CM0_clean</td>\n",
       "      <td>OUT</td>\n",
       "      <td></td>\n",
       "    </tr>\n",
       "    <tr>\n",
       "      <td>data:aerodynamics:wing:low_speed:Y_vector</td>\n",
       "      <td>OUT</td>\n",
       "      <td></td>\n",
       "    </tr>\n",
       "    <tr>\n",
       "      <td>data:aerodynamics:wing:low_speed:chord_vector</td>\n",
       "      <td>OUT</td>\n",
       "      <td></td>\n",
       "    </tr>\n",
       "    <tr>\n",
       "      <td>data:aerodynamics:wing:low_speed:induced_drag_coefficient</td>\n",
       "      <td>OUT</td>\n",
       "      <td></td>\n",
       "    </tr>\n",
       "    <tr>\n",
       "      <td>data:aerodynamics:wing:low_speed:reynolds</td>\n",
       "      <td>OUT</td>\n",
       "      <td>Reynolds number based on wing mean aerodynamic chord in low speed conditions</td>\n",
       "    </tr>\n",
       "    <tr>\n",
       "      <td>data:aerodynamics:wing:low_speed:root:CL_max_2D</td>\n",
       "      <td>OUT</td>\n",
       "      <td></td>\n",
       "    </tr>\n",
       "    <tr>\n",
       "      <td>data:aerodynamics:wing:low_speed:root:CL_min_2D</td>\n",
       "      <td>OUT</td>\n",
       "      <td></td>\n",
       "    </tr>\n",
       "    <tr>\n",
       "      <td>data:aerodynamics:wing:low_speed:tip:CL_max_2D</td>\n",
       "      <td>OUT</td>\n",
       "      <td></td>\n",
       "    </tr>\n",
       "    <tr>\n",
       "      <td>data:aerodynamics:wing:low_speed:tip:CL_min_2D</td>\n",
       "      <td>OUT</td>\n",
       "      <td></td>\n",
       "    </tr>\n",
       "    <tr>\n",
       "      <td>data:aerodynamics:wing:root:low_speed:reynolds</td>\n",
       "      <td>OUT</td>\n",
       "      <td></td>\n",
       "    </tr>\n",
       "    <tr>\n",
       "      <td>data:aerodynamics:wing:tip:low_speed:reynolds</td>\n",
       "      <td>OUT</td>\n",
       "      <td></td>\n",
       "    </tr>\n",
       "    <tr>\n",
       "      <td>data:constraints:horizontal_tail:landing</td>\n",
       "      <td>OUT</td>\n",
       "      <td></td>\n",
       "    </tr>\n",
       "    <tr>\n",
       "      <td>data:constraints:horizontal_tail:takeoff_rotation</td>\n",
       "      <td>OUT</td>\n",
       "      <td></td>\n",
       "    </tr>\n",
       "    <tr>\n",
       "      <td>data:constraints:vertical_tail:crosswind_landing</td>\n",
       "      <td>OUT</td>\n",
       "      <td></td>\n",
       "    </tr>\n",
       "    <tr>\n",
       "      <td>data:constraints:vertical_tail:engine_out_climb</td>\n",
       "      <td>OUT</td>\n",
       "      <td></td>\n",
       "    </tr>\n",
       "    <tr>\n",
       "      <td>data:constraints:vertical_tail:engine_out_landing</td>\n",
       "      <td>OUT</td>\n",
       "      <td></td>\n",
       "    </tr>\n",
       "    <tr>\n",
       "      <td>data:constraints:vertical_tail:engine_out_takeoff</td>\n",
       "      <td>OUT</td>\n",
       "      <td></td>\n",
       "    </tr>\n",
       "    <tr>\n",
       "      <td>data:constraints:vertical_tail:target_cruise_stability</td>\n",
       "      <td>OUT</td>\n",
       "      <td></td>\n",
       "    </tr>\n",
       "    <tr>\n",
       "      <td>data:constraints:wing:additional_CL_capacity</td>\n",
       "      <td>OUT</td>\n",
       "      <td></td>\n",
       "    </tr>\n",
       "    <tr>\n",
       "      <td>data:constraints:wing:additional_fuel_capacity</td>\n",
       "      <td>OUT</td>\n",
       "      <td></td>\n",
       "    </tr>\n",
       "    <tr>\n",
       "      <td>data:geometry:aircraft:wet_area</td>\n",
       "      <td>OUT</td>\n",
       "      <td></td>\n",
       "    </tr>\n",
       "    <tr>\n",
       "      <td>data:geometry:cabin:NPAX</td>\n",
       "      <td>OUT</td>\n",
       "      <td></td>\n",
       "    </tr>\n",
       "    <tr>\n",
       "      <td>data:geometry:cabin:length</td>\n",
       "      <td>OUT</td>\n",
       "      <td>cabin length</td>\n",
       "    </tr>\n",
       "    <tr>\n",
       "      <td>data:geometry:fuselage:PAX_length</td>\n",
       "      <td>OUT</td>\n",
       "      <td>length of passenger-dedicated zone</td>\n",
       "    </tr>\n",
       "    <tr>\n",
       "      <td>data:geometry:fuselage:front_length</td>\n",
       "      <td>OUT</td>\n",
       "      <td>length of front non-cylindrical part of the fuselage</td>\n",
       "    </tr>\n",
       "    <tr>\n",
       "      <td>data:geometry:fuselage:length</td>\n",
       "      <td>OUT</td>\n",
       "      <td>total fuselage length</td>\n",
       "    </tr>\n",
       "    <tr>\n",
       "      <td>data:geometry:fuselage:luggage_length</td>\n",
       "      <td>OUT</td>\n",
       "      <td></td>\n",
       "    </tr>\n",
       "    <tr>\n",
       "      <td>data:geometry:fuselage:maximum_height</td>\n",
       "      <td>OUT</td>\n",
       "      <td>maximum fuselage height</td>\n",
       "    </tr>\n",
       "    <tr>\n",
       "      <td>data:geometry:fuselage:maximum_width</td>\n",
       "      <td>OUT</td>\n",
       "      <td>maximum fuselage width</td>\n",
       "    </tr>\n",
       "    <tr>\n",
       "      <td>data:geometry:fuselage:rear_length</td>\n",
       "      <td>OUT</td>\n",
       "      <td>length of rear non-cylindrical part of the fuselage</td>\n",
       "    </tr>\n",
       "    <tr>\n",
       "      <td>data:geometry:fuselage:wet_area</td>\n",
       "      <td>OUT</td>\n",
       "      <td></td>\n",
       "    </tr>\n",
       "    <tr>\n",
       "      <td>data:geometry:horizontal_tail:MAC:at25percent:x:local</td>\n",
       "      <td>OUT</td>\n",
       "      <td>X-position of the 25% of mean aerodynamic chord of horizontal tail w.r.t. leading edge of root chord</td>\n",
       "    </tr>\n",
       "    <tr>\n",
       "      <td>data:geometry:horizontal_tail:MAC:length</td>\n",
       "      <td>OUT</td>\n",
       "      <td>mean aerodynamic chord length of horizontal tail</td>\n",
       "    </tr>\n",
       "    <tr>\n",
       "      <td>data:geometry:horizontal_tail:MAC:y</td>\n",
       "      <td>OUT</td>\n",
       "      <td>Y-position of mean aerodynamic chord of horizontal tail</td>\n",
       "    </tr>\n",
       "    <tr>\n",
       "      <td>data:geometry:horizontal_tail:area</td>\n",
       "      <td>OUT</td>\n",
       "      <td>horizontal tail area</td>\n",
       "    </tr>\n",
       "    <tr>\n",
       "      <td>data:geometry:horizontal_tail:aspect_ratio</td>\n",
       "      <td>OUT</td>\n",
       "      <td>aspect ratio of horizontal tail</td>\n",
       "    </tr>\n",
       "    <tr>\n",
       "      <td>data:geometry:horizontal_tail:root:chord</td>\n",
       "      <td>OUT</td>\n",
       "      <td>chord length at root of horizontal tail</td>\n",
       "    </tr>\n",
       "    <tr>\n",
       "      <td>data:geometry:horizontal_tail:span</td>\n",
       "      <td>OUT</td>\n",
       "      <td>horizontal tail span</td>\n",
       "    </tr>\n",
       "    <tr>\n",
       "      <td>data:geometry:horizontal_tail:sweep_0</td>\n",
       "      <td>OUT</td>\n",
       "      <td>sweep angle at leading edge of horizontal tail</td>\n",
       "    </tr>\n",
       "    <tr>\n",
       "      <td>data:geometry:horizontal_tail:sweep_100</td>\n",
       "      <td>OUT</td>\n",
       "      <td>sweep angle at trailing edge of horizontal tail</td>\n",
       "    </tr>\n",
       "    <tr>\n",
       "      <td>data:geometry:horizontal_tail:tip:chord</td>\n",
       "      <td>OUT</td>\n",
       "      <td>chord length at tip of horizontal tail</td>\n",
       "    </tr>\n",
       "    <tr>\n",
       "      <td>data:geometry:horizontal_tail:wet_area</td>\n",
       "      <td>OUT</td>\n",
       "      <td></td>\n",
       "    </tr>\n",
       "    <tr>\n",
       "      <td>data:geometry:horizontal_tail:z:from_wingMAC25</td>\n",
       "      <td>OUT</td>\n",
       "      <td></td>\n",
       "    </tr>\n",
       "    <tr>\n",
       "      <td>data:geometry:landing_gear:height</td>\n",
       "      <td>OUT</td>\n",
       "      <td>height of landing gear</td>\n",
       "    </tr>\n",
       "    <tr>\n",
       "      <td>data:geometry:plane:length</td>\n",
       "      <td>OUT</td>\n",
       "      <td></td>\n",
       "    </tr>\n",
       "    <tr>\n",
       "      <td>data:geometry:propulsion:nacelle:height</td>\n",
       "      <td>OUT</td>\n",
       "      <td></td>\n",
       "    </tr>\n",
       "    <tr>\n",
       "      <td>data:geometry:propulsion:nacelle:length</td>\n",
       "      <td>OUT</td>\n",
       "      <td>nacelle length</td>\n",
       "    </tr>\n",
       "    <tr>\n",
       "      <td>data:geometry:propulsion:nacelle:wet_area</td>\n",
       "      <td>OUT</td>\n",
       "      <td></td>\n",
       "    </tr>\n",
       "    <tr>\n",
       "      <td>data:geometry:propulsion:nacelle:width</td>\n",
       "      <td>OUT</td>\n",
       "      <td></td>\n",
       "    </tr>\n",
       "    <tr>\n",
       "      <td>data:geometry:propulsion:nacelle:y</td>\n",
       "      <td>OUT</td>\n",
       "      <td>Y-position of nacelle center</td>\n",
       "    </tr>\n",
       "    <tr>\n",
       "      <td>data:geometry:propulsion:propeller:depth</td>\n",
       "      <td>OUT</td>\n",
       "      <td></td>\n",
       "    </tr>\n",
       "    <tr>\n",
       "      <td>data:geometry:propulsion:propeller:diameter</td>\n",
       "      <td>OUT</td>\n",
       "      <td></td>\n",
       "    </tr>\n",
       "    <tr>\n",
       "      <td>data:geometry:vertical_tail:MAC:at25percent:x:from_wingMAC25</td>\n",
       "      <td>OUT</td>\n",
       "      <td>distance along X between 25% MAC of wing and 25% MAC of vertical tail</td>\n",
       "    </tr>\n",
       "    <tr>\n",
       "      <td>data:geometry:vertical_tail:MAC:at25percent:x:local</td>\n",
       "      <td>OUT</td>\n",
       "      <td>X-position of the 25% of mean aerodynamic chord of vertical tail w.r.t. leading edge of root chord</td>\n",
       "    </tr>\n",
       "    <tr>\n",
       "      <td>data:geometry:vertical_tail:MAC:length</td>\n",
       "      <td>OUT</td>\n",
       "      <td>mean aerodynamic chord length of vertical tail</td>\n",
       "    </tr>\n",
       "    <tr>\n",
       "      <td>data:geometry:vertical_tail:MAC:z</td>\n",
       "      <td>OUT</td>\n",
       "      <td>Z-position of mean aerodynamic chord of vertical tail</td>\n",
       "    </tr>\n",
       "    <tr>\n",
       "      <td>data:geometry:vertical_tail:area</td>\n",
       "      <td>OUT</td>\n",
       "      <td>vertical tail area</td>\n",
       "    </tr>\n",
       "    <tr>\n",
       "      <td>data:geometry:vertical_tail:root:chord</td>\n",
       "      <td>OUT</td>\n",
       "      <td>chord length at root of vertical tail</td>\n",
       "    </tr>\n",
       "    <tr>\n",
       "      <td>data:geometry:vertical_tail:span</td>\n",
       "      <td>OUT</td>\n",
       "      <td>vertical tail span</td>\n",
       "    </tr>\n",
       "    <tr>\n",
       "      <td>data:geometry:vertical_tail:sweep_0</td>\n",
       "      <td>OUT</td>\n",
       "      <td>sweep angle at leading edge of vertical tail</td>\n",
       "    </tr>\n",
       "    <tr>\n",
       "      <td>data:geometry:vertical_tail:sweep_100</td>\n",
       "      <td>OUT</td>\n",
       "      <td>sweep angle at trailing edge of vertical tail</td>\n",
       "    </tr>\n",
       "    <tr>\n",
       "      <td>data:geometry:vertical_tail:tip:chord</td>\n",
       "      <td>OUT</td>\n",
       "      <td>chord length at tip of vertical tail</td>\n",
       "    </tr>\n",
       "    <tr>\n",
       "      <td>data:geometry:vertical_tail:wet_area</td>\n",
       "      <td>OUT</td>\n",
       "      <td></td>\n",
       "    </tr>\n",
       "    <tr>\n",
       "      <td>data:geometry:wing:MAC:at25percent:x</td>\n",
       "      <td>OUT</td>\n",
       "      <td>X-position of the 25% of mean aerodynamic chord of wing w.r.t. aircraft nose (drives position of wing along fuselage)</td>\n",
       "    </tr>\n",
       "    <tr>\n",
       "      <td>data:geometry:wing:MAC:leading_edge:x:local</td>\n",
       "      <td>OUT</td>\n",
       "      <td>X-position of leading edge of mean aerodynamic chord w.r.t. leading edge of root chord</td>\n",
       "    </tr>\n",
       "    <tr>\n",
       "      <td>data:geometry:wing:MAC:length</td>\n",
       "      <td>OUT</td>\n",
       "      <td>length of mean aerodynamic chord of wing</td>\n",
       "    </tr>\n",
       "    <tr>\n",
       "      <td>data:geometry:wing:MAC:y</td>\n",
       "      <td>OUT</td>\n",
       "      <td>Y-position of mean aerodynamic chord of wing</td>\n",
       "    </tr>\n",
       "    <tr>\n",
       "      <td>data:geometry:wing:area</td>\n",
       "      <td>OUT</td>\n",
       "      <td>wing reference area</td>\n",
       "    </tr>\n",
       "    <tr>\n",
       "      <td>data:geometry:wing:b_50</td>\n",
       "      <td>OUT</td>\n",
       "      <td>actual length between root and tip along 50% of chord</td>\n",
       "    </tr>\n",
       "    <tr>\n",
       "      <td>data:geometry:wing:kink:chord</td>\n",
       "      <td>OUT</td>\n",
       "      <td>chord length at wing kink</td>\n",
       "    </tr>\n",
       "    <tr>\n",
       "      <td>data:geometry:wing:kink:leading_edge:x:local</td>\n",
       "      <td>OUT</td>\n",
       "      <td>X-position of leading edge at wing kink w.r.t. leading edge of root chord</td>\n",
       "    </tr>\n",
       "    <tr>\n",
       "      <td>data:geometry:wing:kink:thickness_ratio</td>\n",
       "      <td>OUT</td>\n",
       "      <td>thickness ratio at wing kink</td>\n",
       "    </tr>\n",
       "    <tr>\n",
       "      <td>data:geometry:wing:kink:y</td>\n",
       "      <td>OUT</td>\n",
       "      <td>Y-position of wing kink</td>\n",
       "    </tr>\n",
       "    <tr>\n",
       "      <td>data:geometry:wing:outer_area</td>\n",
       "      <td>OUT</td>\n",
       "      <td>wing area outside of fuselage</td>\n",
       "    </tr>\n",
       "    <tr>\n",
       "      <td>data:geometry:wing:root:chord</td>\n",
       "      <td>OUT</td>\n",
       "      <td>chord length at wing root</td>\n",
       "    </tr>\n",
       "    <tr>\n",
       "      <td>data:geometry:wing:root:thickness_ratio</td>\n",
       "      <td>OUT</td>\n",
       "      <td>thickness ratio at wing root</td>\n",
       "    </tr>\n",
       "    <tr>\n",
       "      <td>data:geometry:wing:root:virtual_chord</td>\n",
       "      <td>OUT</td>\n",
       "      <td>virtual chord length at wing root if sweep angle of trailing edge of outer wing part was on the whole wing (no kink)</td>\n",
       "    </tr>\n",
       "    <tr>\n",
       "      <td>data:geometry:wing:root:y</td>\n",
       "      <td>OUT</td>\n",
       "      <td>Y-position of wing root</td>\n",
       "    </tr>\n",
       "    <tr>\n",
       "      <td>data:geometry:wing:span</td>\n",
       "      <td>OUT</td>\n",
       "      <td>wing span</td>\n",
       "    </tr>\n",
       "    <tr>\n",
       "      <td>data:geometry:wing:sweep_0</td>\n",
       "      <td>OUT</td>\n",
       "      <td>sweep angle at leading edge of wing</td>\n",
       "    </tr>\n",
       "    <tr>\n",
       "      <td>data:geometry:wing:sweep_100_inner</td>\n",
       "      <td>OUT</td>\n",
       "      <td>sweep angle at trailing edge of wing (inner side of the kink)</td>\n",
       "    </tr>\n",
       "    <tr>\n",
       "      <td>data:geometry:wing:sweep_100_outer</td>\n",
       "      <td>OUT</td>\n",
       "      <td>sweep angle at trailing edge of wing (outer side of the kink)</td>\n",
       "    </tr>\n",
       "    <tr>\n",
       "      <td>data:geometry:wing:tip:chord</td>\n",
       "      <td>OUT</td>\n",
       "      <td>chord length at wing tip</td>\n",
       "    </tr>\n",
       "    <tr>\n",
       "      <td>data:geometry:wing:tip:leading_edge:x:local</td>\n",
       "      <td>OUT</td>\n",
       "      <td>X-position of leading edge at wing tip w.r.t. leading edge of root chord</td>\n",
       "    </tr>\n",
       "    <tr>\n",
       "      <td>data:geometry:wing:tip:thickness_ratio</td>\n",
       "      <td>OUT</td>\n",
       "      <td>thickness ratio at wing tip</td>\n",
       "    </tr>\n",
       "    <tr>\n",
       "      <td>data:geometry:wing:tip:y</td>\n",
       "      <td>OUT</td>\n",
       "      <td>Y-position of wing tip</td>\n",
       "    </tr>\n",
       "    <tr>\n",
       "      <td>data:geometry:wing:wet_area</td>\n",
       "      <td>OUT</td>\n",
       "      <td></td>\n",
       "    </tr>\n",
       "    <tr>\n",
       "      <td>data:handling_qualities:stick_fixed_static_margin</td>\n",
       "      <td>OUT</td>\n",
       "      <td></td>\n",
       "    </tr>\n",
       "    <tr>\n",
       "      <td>data:handling_qualities:stick_free_static_margin</td>\n",
       "      <td>OUT</td>\n",
       "      <td></td>\n",
       "    </tr>\n",
       "    <tr>\n",
       "      <td>data:mission:sizing:fuel</td>\n",
       "      <td>OUT</td>\n",
       "      <td>consumed fuel mass during whole mission</td>\n",
       "    </tr>\n",
       "    <tr>\n",
       "      <td>data:mission:sizing:initial_climb:fuel</td>\n",
       "      <td>OUT</td>\n",
       "      <td>mass of consumed fuel during initial climb phase in sizing mission</td>\n",
       "    </tr>\n",
       "    <tr>\n",
       "      <td>data:mission:sizing:main_route:climb:distance</td>\n",
       "      <td>OUT</td>\n",
       "      <td>covered ground distance during climb phase</td>\n",
       "    </tr>\n",
       "    <tr>\n",
       "      <td>data:mission:sizing:main_route:climb:duration</td>\n",
       "      <td>OUT</td>\n",
       "      <td>duration of climb phase in sizing mission</td>\n",
       "    </tr>\n",
       "    <tr>\n",
       "      <td>data:mission:sizing:main_route:climb:fuel</td>\n",
       "      <td>OUT</td>\n",
       "      <td>mass of consumed fuel during climb phase in sizing mission</td>\n",
       "    </tr>\n",
       "    <tr>\n",
       "      <td>data:mission:sizing:main_route:climb:v_cas</td>\n",
       "      <td>OUT</td>\n",
       "      <td></td>\n",
       "    </tr>\n",
       "    <tr>\n",
       "      <td>data:mission:sizing:main_route:cruise:distance</td>\n",
       "      <td>OUT</td>\n",
       "      <td>covered ground distance during cruise phase</td>\n",
       "    </tr>\n",
       "    <tr>\n",
       "      <td>data:mission:sizing:main_route:cruise:duration</td>\n",
       "      <td>OUT</td>\n",
       "      <td>duration of cruise phase in sizing mission</td>\n",
       "    </tr>\n",
       "    <tr>\n",
       "      <td>data:mission:sizing:main_route:cruise:fuel</td>\n",
       "      <td>OUT</td>\n",
       "      <td>mass of consumed fuel during cruise phase in sizing mission</td>\n",
       "    </tr>\n",
       "    <tr>\n",
       "      <td>data:mission:sizing:main_route:descent:distance</td>\n",
       "      <td>OUT</td>\n",
       "      <td>covered ground distance during descent phase</td>\n",
       "    </tr>\n",
       "    <tr>\n",
       "      <td>data:mission:sizing:main_route:descent:duration</td>\n",
       "      <td>OUT</td>\n",
       "      <td>duration of descent phase in sizing mission</td>\n",
       "    </tr>\n",
       "    <tr>\n",
       "      <td>data:mission:sizing:main_route:descent:fuel</td>\n",
       "      <td>OUT</td>\n",
       "      <td>mass of consumed fuel during descent phase in sizing mission</td>\n",
       "    </tr>\n",
       "    <tr>\n",
       "      <td>data:mission:sizing:main_route:reserve:fuel</td>\n",
       "      <td>OUT</td>\n",
       "      <td></td>\n",
       "    </tr>\n",
       "    <tr>\n",
       "      <td>data:mission:sizing:takeoff:TOFL</td>\n",
       "      <td>OUT</td>\n",
       "      <td>TakeOff Field Length in sizing mission</td>\n",
       "    </tr>\n",
       "    <tr>\n",
       "      <td>data:mission:sizing:takeoff:V2</td>\n",
       "      <td>OUT</td>\n",
       "      <td>safety speed before reaching 35 feet height in sizing mission</td>\n",
       "    </tr>\n",
       "    <tr>\n",
       "      <td>data:mission:sizing:takeoff:VLOF</td>\n",
       "      <td>OUT</td>\n",
       "      <td>lift-off speed in sizing mission</td>\n",
       "    </tr>\n",
       "    <tr>\n",
       "      <td>data:mission:sizing:takeoff:VR</td>\n",
       "      <td>OUT</td>\n",
       "      <td>rotation speed in sizing mission</td>\n",
       "    </tr>\n",
       "    <tr>\n",
       "      <td>data:mission:sizing:takeoff:duration</td>\n",
       "      <td>OUT</td>\n",
       "      <td>duration of takeoff phase in sizing mission</td>\n",
       "    </tr>\n",
       "    <tr>\n",
       "      <td>data:mission:sizing:takeoff:fuel</td>\n",
       "      <td>OUT</td>\n",
       "      <td>mass of consumed fuel during takeoff phase in sizing mission</td>\n",
       "    </tr>\n",
       "    <tr>\n",
       "      <td>data:mission:sizing:taxi_in:fuel</td>\n",
       "      <td>OUT</td>\n",
       "      <td>mass of consumed fuel during taxi-in phase in sizing mission</td>\n",
       "    </tr>\n",
       "    <tr>\n",
       "      <td>data:mission:sizing:taxi_out:fuel</td>\n",
       "      <td>OUT</td>\n",
       "      <td>mass of consumed fuel during taxi-out phase in sizing mission</td>\n",
       "    </tr>\n",
       "    <tr>\n",
       "      <td>data:weight:aircraft:CG:aft:MAC_position</td>\n",
       "      <td>OUT</td>\n",
       "      <td>most aft X-position of center of gravity as ratio of mean aerodynamic chord</td>\n",
       "    </tr>\n",
       "    <tr>\n",
       "      <td>data:weight:aircraft:CG:aft:x</td>\n",
       "      <td>OUT</td>\n",
       "      <td>most aft X-position of aircraft center of gravity</td>\n",
       "    </tr>\n",
       "    <tr>\n",
       "      <td>data:weight:aircraft:CG:flight_condition:max:MAC_position</td>\n",
       "      <td>OUT</td>\n",
       "      <td></td>\n",
       "    </tr>\n",
       "    <tr>\n",
       "      <td>data:weight:aircraft:CG:flight_condition:min:MAC_position</td>\n",
       "      <td>OUT</td>\n",
       "      <td></td>\n",
       "    </tr>\n",
       "    <tr>\n",
       "      <td>data:weight:aircraft:CG:fwd:MAC_position</td>\n",
       "      <td>OUT</td>\n",
       "      <td></td>\n",
       "    </tr>\n",
       "    <tr>\n",
       "      <td>data:weight:aircraft:CG:fwd:x</td>\n",
       "      <td>OUT</td>\n",
       "      <td></td>\n",
       "    </tr>\n",
       "    <tr>\n",
       "      <td>data:weight:aircraft:CG:ground_condition:max:MAC_position</td>\n",
       "      <td>OUT</td>\n",
       "      <td></td>\n",
       "    </tr>\n",
       "    <tr>\n",
       "      <td>data:weight:aircraft:CG:ground_condition:min:MAC_position</td>\n",
       "      <td>OUT</td>\n",
       "      <td></td>\n",
       "    </tr>\n",
       "    <tr>\n",
       "      <td>data:weight:aircraft:MFW</td>\n",
       "      <td>OUT</td>\n",
       "      <td>maximum fuel weight</td>\n",
       "    </tr>\n",
       "    <tr>\n",
       "      <td>data:weight:aircraft:MLW</td>\n",
       "      <td>OUT</td>\n",
       "      <td>maximum landing weight</td>\n",
       "    </tr>\n",
       "    <tr>\n",
       "      <td>data:weight:aircraft:MTOW</td>\n",
       "      <td>OUT</td>\n",
       "      <td>maximum takeoff weight</td>\n",
       "    </tr>\n",
       "    <tr>\n",
       "      <td>data:weight:aircraft:MZFW</td>\n",
       "      <td>OUT</td>\n",
       "      <td>maximum zero fuel weight</td>\n",
       "    </tr>\n",
       "    <tr>\n",
       "      <td>data:weight:aircraft:OWE</td>\n",
       "      <td>OUT</td>\n",
       "      <td>Mass of aircraft</td>\n",
       "    </tr>\n",
       "    <tr>\n",
       "      <td>data:weight:aircraft:ZFW</td>\n",
       "      <td>OUT</td>\n",
       "      <td></td>\n",
       "    </tr>\n",
       "    <tr>\n",
       "      <td>data:weight:aircraft:empty:CG:MAC_position</td>\n",
       "      <td>OUT</td>\n",
       "      <td>X-position of center of gravity as ratio of mean aerodynamic chord for empty aircraft</td>\n",
       "    </tr>\n",
       "    <tr>\n",
       "      <td>data:weight:aircraft:in_flight_variation:fixed_mass_comp:equivalent_moment</td>\n",
       "      <td>OUT</td>\n",
       "      <td></td>\n",
       "    </tr>\n",
       "    <tr>\n",
       "      <td>data:weight:aircraft:in_flight_variation:fixed_mass_comp:mass</td>\n",
       "      <td>OUT</td>\n",
       "      <td></td>\n",
       "    </tr>\n",
       "    <tr>\n",
       "      <td>data:weight:aircraft:max_payload</td>\n",
       "      <td>OUT</td>\n",
       "      <td>max payload weight</td>\n",
       "    </tr>\n",
       "    <tr>\n",
       "      <td>data:weight:aircraft:payload</td>\n",
       "      <td>OUT</td>\n",
       "      <td>design payload weight</td>\n",
       "    </tr>\n",
       "    <tr>\n",
       "      <td>data:weight:aircraft_empty:CG:x</td>\n",
       "      <td>OUT</td>\n",
       "      <td>X-position center of gravity of empty aircraft</td>\n",
       "    </tr>\n",
       "    <tr>\n",
       "      <td>data:weight:aircraft_empty:CG:z</td>\n",
       "      <td>OUT</td>\n",
       "      <td></td>\n",
       "    </tr>\n",
       "    <tr>\n",
       "      <td>data:weight:aircraft_empty:mass</td>\n",
       "      <td>OUT</td>\n",
       "      <td>mass of empty aircraft (=OWE - mass of crew)</td>\n",
       "    </tr>\n",
       "    <tr>\n",
       "      <td>data:weight:airframe:flight_controls:CG:x</td>\n",
       "      <td>OUT</td>\n",
       "      <td>flight controls (A4): X-position of center of gravity</td>\n",
       "    </tr>\n",
       "    <tr>\n",
       "      <td>data:weight:airframe:flight_controls:mass</td>\n",
       "      <td>OUT</td>\n",
       "      <td>flight controls (A4): total mass</td>\n",
       "    </tr>\n",
       "    <tr>\n",
       "      <td>data:weight:airframe:fuselage:CG:x</td>\n",
       "      <td>OUT</td>\n",
       "      <td>fuselage (A2): X-position of center of gravity</td>\n",
       "    </tr>\n",
       "    <tr>\n",
       "      <td>data:weight:airframe:fuselage:mass</td>\n",
       "      <td>OUT</td>\n",
       "      <td>fuselage (A2): total mass</td>\n",
       "    </tr>\n",
       "    <tr>\n",
       "      <td>data:weight:airframe:horizontal_tail:CG:x</td>\n",
       "      <td>OUT</td>\n",
       "      <td>horizontal tail (A31): X-position of center of gravity</td>\n",
       "    </tr>\n",
       "    <tr>\n",
       "      <td>data:weight:airframe:horizontal_tail:mass</td>\n",
       "      <td>OUT</td>\n",
       "      <td>horizontal tail (A31): mass</td>\n",
       "    </tr>\n",
       "    <tr>\n",
       "      <td>data:weight:airframe:landing_gear:front:CG:x</td>\n",
       "      <td>OUT</td>\n",
       "      <td>front landing gear (A52): X-position of center of gravity</td>\n",
       "    </tr>\n",
       "    <tr>\n",
       "      <td>data:weight:airframe:landing_gear:front:mass</td>\n",
       "      <td>OUT</td>\n",
       "      <td>front landing gear (A52): mass</td>\n",
       "    </tr>\n",
       "    <tr>\n",
       "      <td>data:weight:airframe:landing_gear:main:CG:x</td>\n",
       "      <td>OUT</td>\n",
       "      <td>main landing gear (A51): X-position of center of gravity</td>\n",
       "    </tr>\n",
       "    <tr>\n",
       "      <td>data:weight:airframe:landing_gear:main:mass</td>\n",
       "      <td>OUT</td>\n",
       "      <td>main landing gear (A51): mass</td>\n",
       "    </tr>\n",
       "    <tr>\n",
       "      <td>data:weight:airframe:mass</td>\n",
       "      <td>OUT</td>\n",
       "      <td>Mass of airframe</td>\n",
       "    </tr>\n",
       "    <tr>\n",
       "      <td>data:weight:airframe:vertical_tail:CG:x</td>\n",
       "      <td>OUT</td>\n",
       "      <td>vertical tail (A32): X-position of center of gravity</td>\n",
       "    </tr>\n",
       "    <tr>\n",
       "      <td>data:weight:airframe:vertical_tail:mass</td>\n",
       "      <td>OUT</td>\n",
       "      <td>vertical tail (A32): mass</td>\n",
       "    </tr>\n",
       "    <tr>\n",
       "      <td>data:weight:airframe:wing:CG:x</td>\n",
       "      <td>OUT</td>\n",
       "      <td>wing (A1): X-position of center of gravity</td>\n",
       "    </tr>\n",
       "    <tr>\n",
       "      <td>data:weight:airframe:wing:mass</td>\n",
       "      <td>OUT</td>\n",
       "      <td>wing (A1): total mass</td>\n",
       "    </tr>\n",
       "    <tr>\n",
       "      <td>data:weight:furniture:mass</td>\n",
       "      <td>OUT</td>\n",
       "      <td>Mass of aircraft furniture</td>\n",
       "    </tr>\n",
       "    <tr>\n",
       "      <td>data:weight:furniture:passenger_seats:CG:x</td>\n",
       "      <td>OUT</td>\n",
       "      <td>passenger seats (D2): X-position of center of gravity</td>\n",
       "    </tr>\n",
       "    <tr>\n",
       "      <td>data:weight:furniture:passenger_seats:mass</td>\n",
       "      <td>OUT</td>\n",
       "      <td>passenger seats (D2): mass</td>\n",
       "    </tr>\n",
       "    <tr>\n",
       "      <td>data:weight:payload:PAX:CG:x</td>\n",
       "      <td>OUT</td>\n",
       "      <td>passengers: X-position of center of gravity</td>\n",
       "    </tr>\n",
       "    <tr>\n",
       "      <td>data:weight:payload:front_fret:CG:x</td>\n",
       "      <td>OUT</td>\n",
       "      <td>front fret: X-position of center of gravity</td>\n",
       "    </tr>\n",
       "    <tr>\n",
       "      <td>data:weight:payload:rear_fret:CG:x</td>\n",
       "      <td>OUT</td>\n",
       "      <td>rear fret: X-position of center of gravity</td>\n",
       "    </tr>\n",
       "    <tr>\n",
       "      <td>data:weight:propulsion:engine:CG:x</td>\n",
       "      <td>OUT</td>\n",
       "      <td>engine (B1): X-position of center of gravity</td>\n",
       "    </tr>\n",
       "    <tr>\n",
       "      <td>data:weight:propulsion:engine:CG:z</td>\n",
       "      <td>OUT</td>\n",
       "      <td></td>\n",
       "    </tr>\n",
       "    <tr>\n",
       "      <td>data:weight:propulsion:engine:mass</td>\n",
       "      <td>OUT</td>\n",
       "      <td>engine (B1): mass</td>\n",
       "    </tr>\n",
       "    <tr>\n",
       "      <td>data:weight:propulsion:fuel_lines:CG:x</td>\n",
       "      <td>OUT</td>\n",
       "      <td>fuel lines (B2): X-position of center of gravity</td>\n",
       "    </tr>\n",
       "    <tr>\n",
       "      <td>data:weight:propulsion:fuel_lines:mass</td>\n",
       "      <td>OUT</td>\n",
       "      <td>fuel lines (B2): mass</td>\n",
       "    </tr>\n",
       "    <tr>\n",
       "      <td>data:weight:propulsion:mass</td>\n",
       "      <td>OUT</td>\n",
       "      <td>Mass of the propulsion system</td>\n",
       "    </tr>\n",
       "    <tr>\n",
       "      <td>data:weight:propulsion:tank:CG:x</td>\n",
       "      <td>OUT</td>\n",
       "      <td></td>\n",
       "    </tr>\n",
       "    <tr>\n",
       "      <td>data:weight:propulsion:unusable_fuel:mass</td>\n",
       "      <td>OUT</td>\n",
       "      <td></td>\n",
       "    </tr>\n",
       "    <tr>\n",
       "      <td>data:weight:systems:life_support:air_conditioning:CG:x</td>\n",
       "      <td>OUT</td>\n",
       "      <td>air conditioning (C2): X-position of center of gravity</td>\n",
       "    </tr>\n",
       "    <tr>\n",
       "      <td>data:weight:systems:life_support:air_conditioning:mass</td>\n",
       "      <td>OUT</td>\n",
       "      <td>air conditioning (C2): mass</td>\n",
       "    </tr>\n",
       "    <tr>\n",
       "      <td>data:weight:systems:life_support:de_icing:mass</td>\n",
       "      <td>OUT</td>\n",
       "      <td></td>\n",
       "    </tr>\n",
       "    <tr>\n",
       "      <td>data:weight:systems:life_support:fixed_oxygen:mass</td>\n",
       "      <td>OUT</td>\n",
       "      <td></td>\n",
       "    </tr>\n",
       "    <tr>\n",
       "      <td>data:weight:systems:life_support:insulation:mass</td>\n",
       "      <td>OUT</td>\n",
       "      <td>insulation (C21): mass</td>\n",
       "    </tr>\n",
       "    <tr>\n",
       "      <td>data:weight:systems:life_support:internal_lighting:mass</td>\n",
       "      <td>OUT</td>\n",
       "      <td></td>\n",
       "    </tr>\n",
       "    <tr>\n",
       "      <td>data:weight:systems:life_support:seat_installation:mass</td>\n",
       "      <td>OUT</td>\n",
       "      <td></td>\n",
       "    </tr>\n",
       "    <tr>\n",
       "      <td>data:weight:systems:life_support:security_kits:mass</td>\n",
       "      <td>OUT</td>\n",
       "      <td></td>\n",
       "    </tr>\n",
       "    <tr>\n",
       "      <td>data:weight:systems:mass</td>\n",
       "      <td>OUT</td>\n",
       "      <td>Mass of aircraft systems</td>\n",
       "    </tr>\n",
       "    <tr>\n",
       "      <td>data:weight:systems:navigation:CG:x</td>\n",
       "      <td>OUT</td>\n",
       "      <td>navigation (C3): X-position of center of gravity</td>\n",
       "    </tr>\n",
       "    <tr>\n",
       "      <td>data:weight:systems:navigation:mass</td>\n",
       "      <td>OUT</td>\n",
       "      <td>navigation (C3): mass</td>\n",
       "    </tr>\n",
       "    <tr>\n",
       "      <td>data:weight:systems:power:electric_systems:CG:x</td>\n",
       "      <td>OUT</td>\n",
       "      <td>power (C1): X-position of center of gravity</td>\n",
       "    </tr>\n",
       "    <tr>\n",
       "      <td>data:weight:systems:power:electric_systems:mass</td>\n",
       "      <td>OUT</td>\n",
       "      <td>power (C1): mass</td>\n",
       "    </tr>\n",
       "    <tr>\n",
       "      <td>data:weight:systems:power:hydraulic_systems:CG:x</td>\n",
       "      <td>OUT</td>\n",
       "      <td>power (C1): X-position of center of gravity</td>\n",
       "    </tr>\n",
       "    <tr>\n",
       "      <td>data:weight:systems:power:hydraulic_systems:mass</td>\n",
       "      <td>OUT</td>\n",
       "      <td>power (C1): mass</td>\n",
       "    </tr>\n",
       "    <tr>\n",
       "      <td>xfoil:horizontal_tail:CL</td>\n",
       "      <td>OUT</td>\n",
       "      <td></td>\n",
       "    </tr>\n",
       "    <tr>\n",
       "      <td>xfoil:horizontal_tail:alpha</td>\n",
       "      <td>OUT</td>\n",
       "      <td></td>\n",
       "    </tr>\n",
       "    <tr>\n",
       "      <td>xfoil:vertical_tail:CL</td>\n",
       "      <td>OUT</td>\n",
       "      <td></td>\n",
       "    </tr>\n",
       "    <tr>\n",
       "      <td>xfoil:vertical_tail:alpha</td>\n",
       "      <td>OUT</td>\n",
       "      <td></td>\n",
       "    </tr>\n",
       "    <tr>\n",
       "      <td>xfoil:wing:CL</td>\n",
       "      <td>OUT</td>\n",
       "      <td></td>\n",
       "    </tr>\n",
       "    <tr>\n",
       "      <td>xfoil:wing:alpha</td>\n",
       "      <td>OUT</td>\n",
       "      <td></td>\n",
       "    </tr>\n",
       "  </tbody>\n",
       "</table>"
      ],
      "text/plain": [
       "<IPython.core.display.HTML object>"
      ]
     },
     "metadata": {},
     "output_type": "display_data"
    }
   ],
   "source": [
    "api_cs25.list_variables(CONFIGURATION_FILE)"
   ]
  },
  {
   "cell_type": "markdown",
   "metadata": {},
   "source": [
    "Another useful feature is to list the modules of the model defined in the configuration file:"
   ]
  },
  {
   "cell_type": "code",
   "execution_count": 5,
   "metadata": {},
   "outputs": [
    {
     "data": {
      "text/html": [
       "<table>\n",
       "<tbody>\n",
       "<tr><td>AVAILABLE MODULE IDENTIFIERS                           </td><td>MODULE PATH                                                                                                                  </td></tr>\n",
       "<tr><td>fastga.aerodynamics.highspeed.legacy                   </td><td>D:\\fl.lutz\\FAST\\FAST-OAD\\FAST-GA\\src\\fastga\\models\\aerodynamics\\aerodynamics_high_speed.py                                   </td></tr>\n",
       "<tr><td>fastga.aerodynamics.lowspeed.legacy                    </td><td>D:\\fl.lutz\\FAST\\FAST-OAD\\FAST-GA\\src\\fastga\\models\\aerodynamics\\aerodynamics_low_speed.py                                    </td></tr>\n",
       "<tr><td>fastga.aerodynamics.propeller                          </td><td>D:\\fl.lutz\\FAST\\FAST-OAD\\FAST-GA\\src\\fastga\\models\\aerodynamics\\components\\compute_propeller_aero.py                         </td></tr>\n",
       "<tr><td>fastga.geometry.alternate                              </td><td>D:\\fl.lutz\\FAST\\FAST-OAD\\FAST-GA\\src\\fastga\\models\\geometry\\geometry.py                                                      </td></tr>\n",
       "<tr><td>fastga.geometry.legacy                                 </td><td>D:\\fl.lutz\\FAST\\FAST-OAD\\FAST-GA\\src\\fastga\\models\\geometry\\geometry.py                                                      </td></tr>\n",
       "<tr><td>fastga.handling_qualities.all_handling_qualities       </td><td>D:\\fl.lutz\\FAST\\FAST-OAD\\FAST-GA\\src\\fastga\\models\\handling_qualities\\handling_qualities.py                                  </td></tr>\n",
       "<tr><td>fastga.handling_qualities.static_margin                </td><td>D:\\fl.lutz\\FAST\\FAST-OAD\\FAST-GA\\src\\fastga\\models\\handling_qualities\\compute_static_margin.py                               </td></tr>\n",
       "<tr><td>fastga.handling_qualities.tail_sizing                  </td><td>D:\\fl.lutz\\FAST\\FAST-OAD\\FAST-GA\\src\\fastga\\models\\handling_qualities\\tail_sizing\\update_tail_areas.py                       </td></tr>\n",
       "<tr><td>fastga.loads.legacy                                    </td><td>D:\\fl.lutz\\FAST\\FAST-OAD\\FAST-GA\\src\\fastga\\models\\load_analysis\\loads.py                                                    </td></tr>\n",
       "<tr><td>fastga.loop.mtow                                       </td><td>D:\\fl.lutz\\FAST\\FAST-OAD\\FAST-GA\\src\\fastga\\models\\weight\\mass_breakdown\\update_mtow.py                                      </td></tr>\n",
       "<tr><td>fastga.loop.wing_area                                  </td><td>D:\\fl.lutz\\FAST\\FAST-OAD\\FAST-GA\\src\\fastga\\models\\loops\\update_wing_area.py                                                 </td></tr>\n",
       "<tr><td>fastga.loop.wing_position                              </td><td>D:\\fl.lutz\\FAST\\FAST-OAD\\FAST-GA\\src\\fastga\\models\\loops\\update_wing_position.py                                             </td></tr>\n",
       "<tr><td>fastga.performances.mission                            </td><td>D:\\fl.lutz\\FAST\\FAST-OAD\\FAST-GA\\src\\fastga\\models\\performances\\mission.py                                                   </td></tr>\n",
       "<tr><td>fastga.weight.legacy                                   </td><td>D:\\fl.lutz\\FAST\\FAST-OAD\\FAST-GA\\src\\fastga\\models\\weight\\weight.py                                                          </td></tr>\n",
       "<tr><td>fastoad.aerodynamics.highspeed.legacy                  </td><td>c:\\users\\fl.lutz\\anaconda3\\envs\\fast-ga\\lib\\site-packages\\fastoad\\models\\aerodynamics\\aerodynamics_high_speed.py             </td></tr>\n",
       "<tr><td>fastoad.aerodynamics.landing.legacy                    </td><td>c:\\users\\fl.lutz\\anaconda3\\envs\\fast-ga\\lib\\site-packages\\fastoad\\models\\aerodynamics\\aerodynamics_landing.py                </td></tr>\n",
       "<tr><td>fastoad.aerodynamics.lowspeed.legacy                   </td><td>c:\\users\\fl.lutz\\anaconda3\\envs\\fast-ga\\lib\\site-packages\\fastoad\\models\\aerodynamics\\aerodynamics_low_speed.py              </td></tr>\n",
       "<tr><td>fastoad.aerodynamics.takeoff.legacy                    </td><td>c:\\users\\fl.lutz\\anaconda3\\envs\\fast-ga\\lib\\site-packages\\fastoad\\models\\aerodynamics\\aerodynamics_takeoff.py                </td></tr>\n",
       "<tr><td>fastoad.geometry.legacy                                </td><td>c:\\users\\fl.lutz\\anaconda3\\envs\\fast-ga\\lib\\site-packages\\fastoad\\models\\geometry\\geometry.py                                </td></tr>\n",
       "<tr><td>fastoad.handling_qualities.static_margin               </td><td>c:\\users\\fl.lutz\\anaconda3\\envs\\fast-ga\\lib\\site-packages\\fastoad\\models\\handling_qualities\\compute_static_margin.py         </td></tr>\n",
       "<tr><td>fastoad.handling_qualities.tail_sizing                 </td><td>c:\\users\\fl.lutz\\anaconda3\\envs\\fast-ga\\lib\\site-packages\\fastoad\\models\\handling_qualities\\tail_sizing\\compute_tail_areas.py</td></tr>\n",
       "<tr><td>fastoad.loop.wing_area                                 </td><td>c:\\users\\fl.lutz\\anaconda3\\envs\\fast-ga\\lib\\site-packages\\fastoad\\models\\loops\\compute_wing_area.py                          </td></tr>\n",
       "<tr><td>fastoad.loop.wing_position                             </td><td>c:\\users\\fl.lutz\\anaconda3\\envs\\fast-ga\\lib\\site-packages\\fastoad\\models\\loops\\compute_wing_position.py                      </td></tr>\n",
       "<tr><td>fastoad.mass_performances.compute_MTOW                 </td><td>c:\\users\\fl.lutz\\anaconda3\\envs\\fast-ga\\lib\\site-packages\\fastoad\\models\\performances\\mission\\openmdao\\link_mtow.py          </td></tr>\n",
       "<tr><td>fastoad.performances.mission                           </td><td>c:\\users\\fl.lutz\\anaconda3\\envs\\fast-ga\\lib\\site-packages\\fastoad\\models\\performances\\mission\\openmdao\\mission.py            </td></tr>\n",
       "<tr><td>fastoad.weight.legacy                                  </td><td>c:\\users\\fl.lutz\\anaconda3\\envs\\fast-ga\\lib\\site-packages\\fastoad\\models\\weight\\weight.py                                    </td></tr>\n",
       "<tr><td>AVAILABLE PROPULSION WRAPPER IDENTIFIERS               </td><td>MODULE PATH                                                                                                                  </td></tr>\n",
       "<tr><td>fastga.wrapper.propulsion.basicIC_engine               </td><td>D:\\fl.lutz\\FAST\\FAST-OAD\\FAST-GA\\src\\fastga\\models\\propulsion\\fuel_propulsion\\basicIC_engine\\openmdao.py                     </td></tr>\n",
       "<tr><td>fastoad.wrapper.propulsion.rubber_engine               </td><td>c:\\users\\fl.lutz\\anaconda3\\envs\\fast-ga\\lib\\site-packages\\fastoad\\models\\propulsion\\fuel_propulsion\\rubber_engine\\openmdao.py</td></tr>\n",
       "<tr><td>test.wrapper.aerodynamics.beechcraft.dummy_engine      </td><td>D:\\fl.lutz\\FAST\\FAST-OAD\\FAST-GA\\src\\fastga\\models\\aerodynamics\\unitary_tests\\dummy_engines.py                               </td></tr>\n",
       "<tr><td>test.wrapper.aerodynamics.cirrus.dummy_engine          </td><td>D:\\fl.lutz\\FAST\\FAST-OAD\\FAST-GA\\src\\fastga\\models\\aerodynamics\\unitary_tests\\dummy_engines.py                               </td></tr>\n",
       "<tr><td>test.wrapper.cg.beechcraft.dummy_engine                </td><td>D:\\fl.lutz\\FAST\\FAST-OAD\\FAST-GA\\src\\fastga\\models\\weight\\cg\\unitary_tests\\dummy_engines.py                                  </td></tr>\n",
       "<tr><td>test.wrapper.cg.cirrus.dummy_engine                    </td><td>D:\\fl.lutz\\FAST\\FAST-OAD\\FAST-GA\\src\\fastga\\models\\weight\\cg\\unitary_tests\\dummy_engines.py                                  </td></tr>\n",
       "<tr><td>test.wrapper.geometry.beechcraft.dummy_engine          </td><td>D:\\fl.lutz\\FAST\\FAST-OAD\\FAST-GA\\src\\fastga\\models\\geometry\\unitary_tests\\dummy_engines.py                                   </td></tr>\n",
       "<tr><td>test.wrapper.geometry.cirrus.dummy_engine              </td><td>D:\\fl.lutz\\FAST\\FAST-OAD\\FAST-GA\\src\\fastga\\models\\geometry\\unitary_tests\\dummy_engines.py                                   </td></tr>\n",
       "<tr><td>test.wrapper.handling_qualities.beechcraft.dummy_engine</td><td>D:\\fl.lutz\\FAST\\FAST-OAD\\FAST-GA\\src\\fastga\\models\\handling_qualities\\unitary_tests\\dummy_engines.py                         </td></tr>\n",
       "<tr><td>test.wrapper.handling_qualities.cirrus.dummy_engine    </td><td>D:\\fl.lutz\\FAST\\FAST-OAD\\FAST-GA\\src\\fastga\\models\\handling_qualities\\unitary_tests\\dummy_engines.py                         </td></tr>\n",
       "<tr><td>test.wrapper.load_analysis.beechcraft.dummy_engine     </td><td>D:\\fl.lutz\\FAST\\FAST-OAD\\FAST-GA\\src\\fastga\\models\\load_analysis\\unitary_tests\\dummy_engines.py                              </td></tr>\n",
       "<tr><td>test.wrapper.load_analysis.cirrus.dummy_engine         </td><td>D:\\fl.lutz\\FAST\\FAST-OAD\\FAST-GA\\src\\fastga\\models\\load_analysis\\unitary_tests\\dummy_engines.py                              </td></tr>\n",
       "<tr><td>test.wrapper.mass_breakdown.beechcraft.dummy_engine    </td><td>D:\\fl.lutz\\FAST\\FAST-OAD\\FAST-GA\\src\\fastga\\models\\weight\\mass_breakdown\\unitary_tests\\dummy_engines.py                      </td></tr>\n",
       "<tr><td>test.wrapper.mass_breakdown.cirrus.dummy_engine        </td><td>D:\\fl.lutz\\FAST\\FAST-OAD\\FAST-GA\\src\\fastga\\models\\weight\\mass_breakdown\\unitary_tests\\dummy_engines.py                      </td></tr>\n",
       "<tr><td>test.wrapper.performances.beechcraft.dummy_engine      </td><td>D:\\fl.lutz\\FAST\\FAST-OAD\\FAST-GA\\src\\fastga\\models\\performances\\unitary_tests\\dummy_engines.py                               </td></tr>\n",
       "<tr><td>test.wrapper.performances.cirrus.dummy_engine          </td><td>D:\\fl.lutz\\FAST\\FAST-OAD\\FAST-GA\\src\\fastga\\models\\performances\\unitary_tests\\dummy_engines.py                               </td></tr>\n",
       "</tbody>\n",
       "</table>"
      ],
      "text/plain": [
       "<IPython.core.display.HTML object>"
      ]
     },
     "metadata": {},
     "output_type": "display_data"
    }
   ],
   "source": [
    "api_cs25.list_modules(CONFIGURATION_FILE)"
   ]
  },
  {
   "cell_type": "markdown",
   "metadata": {},
   "source": [
    "Another useful feature is the [N2 diagram](http://openmdao.org/twodocs/versions/latest/basic_guide/make_n2.html) visualization available in OpenMDAO to see the structure of the model:"
   ]
  },
  {
   "cell_type": "code",
   "execution_count": 6,
   "metadata": {},
   "outputs": [
    {
     "name": "stderr",
     "output_type": "stream",
     "text": [
      "INFO    : N2 diagram written in D:\\fl.lutz\\FAST\\FAST-OAD\\FAST-GA\\src\\fastga\\notebooks\\tutorial\\workdir\\n2.html\n"
     ]
    },
    {
     "data": {
      "text/html": [
       "\n",
       "        <iframe\n",
       "            width=\"100%\"\n",
       "            height=\"500px\"\n",
       "            src=\"workdir\\n2.html\"\n",
       "            frameborder=\"0\"\n",
       "            allowfullscreen\n",
       "        ></iframe>\n",
       "        "
      ],
      "text/plain": [
       "<IPython.lib.display.IFrame at 0x1c4d0739fd0>"
      ]
     },
     "execution_count": 6,
     "metadata": {},
     "output_type": "execute_result"
    }
   ],
   "source": [
    "N2_FILE = pth.join(WORK_FOLDER_PATH, 'n2.html')\n",
    "api_cs25.write_n2(CONFIGURATION_FILE, N2_FILE, overwrite=True)\n",
    "from IPython.display import IFrame\n",
    "IFrame(src=N2_FILE, width='100%', height='500px')"
   ]
  },
  {
   "cell_type": "markdown",
   "metadata": {},
   "source": [
    "Alternatively, you can create a [WhatsOpt](https://github.com/OneraHub/WhatsOpt-Doc#whatsopt-documentation) account to generate the XDSM of the problem. If your account is created, you may uncomment next lines and run them (this should take ~ 1 min):"
   ]
  },
  {
   "cell_type": "code",
   "execution_count": null,
   "metadata": {},
   "outputs": [],
   "source": [
    "XDSM_FILE = pth.join(WORK_FOLDER_PATH, 'xdsm.html')\n",
    "api_cs25.write_xdsm(CONFIGURATION_FILE, XDSM_FILE, overwrite=True)\n",
    "from IPython.display import IFrame\n",
    "IFrame(src=XDSM_FILE, width='100%', height='500px')"
   ]
  },
  {
   "cell_type": "markdown",
   "metadata": {},
   "source": [
    "## 2. Running your first MDA"
   ]
  },
  {
   "cell_type": "markdown",
   "metadata": {},
   "source": [
    "### Beechcraft\n",
    "Here we run an MDA, that is solving the multidisciplinary couplings using the different nested solvers in the model, without running the optimization problem even if it is defined in the configuration file."
   ]
  },
  {
   "cell_type": "code",
   "execution_count": 7,
   "metadata": {},
   "outputs": [
    {
     "name": "stderr",
     "output_type": "stream",
     "text": [
      "D:\\fl.lutz\\FAST\\FAST-OAD\\FAST-GA\\src\\fastga\\models\\aerodynamics\\components\\compute_propeller_aero.py:361: UserWarning: Propeller not working in propulsive mode!\n",
      "  warnings.warn(\"Propeller not working in propulsive mode!\")\n",
      "D:\\fl.lutz\\FAST\\FAST-OAD\\FAST-GA\\src\\fastga\\models\\aerodynamics\\components\\compute_propeller_aero.py:349: UserWarning: Propeller element out of calculated polars: contribution canceled!\n",
      "  warnings.warn(\"Propeller element out of calculated polars: contribution canceled!\")\n",
      "c:\\users\\fl.lutz\\anaconda3\\envs\\fast-ga\\lib\\site-packages\\scipy\\optimize\\minpack.py:175: RuntimeWarning: The iteration is not making good progress, as measured by the \n",
      "  improvement from the last five Jacobian evaluations.\n",
      "  warnings.warn(msg, RuntimeWarning)\n",
      "c:\\users\\fl.lutz\\anaconda3\\envs\\fast-ga\\lib\\site-packages\\scipy\\optimize\\minpack.py:175: RuntimeWarning: The iteration is not making good progress, as measured by the \n",
      "  improvement from the last ten iterations.\n",
      "  warnings.warn(msg, RuntimeWarning)\n"
     ]
    },
    {
     "name": "stdout",
     "output_type": "stream",
     "text": [
      "\n",
      "===============\n",
      "aircraft_sizing\n",
      "===============\n"
     ]
    },
    {
     "name": "stderr",
     "output_type": "stream",
     "text": [
      "D:\\fl.lutz\\FAST\\FAST-OAD\\FAST-GA\\src\\fastga\\models\\aerodynamics\\external\\vlm\\vlm.py:414: RuntimeWarning: invalid value encountered in double_scalars\n",
      "  htp_e = cl_htp ** 2 / (math.pi * aspect_ratio * cdi_htp)\n",
      "WARNING : Airfoil lift coefficient to theoretical lift coefficient ratio value outside of the range in Roskam's book, value clipped\n",
      "WARNING : Airfoil lift coefficient to theoretical lift coefficient ratio value outside of the range in Roskam's book, value clipped\n",
      "WARNING : Airfoil lift slope ratio value outside of the range in Roskam's book, value clipped\n",
      "D:\\fl.lutz\\FAST\\FAST-OAD\\FAST-GA\\src\\fastga\\models\\aerodynamics\\external\\vlm\\vlm.py:414: RuntimeWarning: invalid value encountered in double_scalars\n",
      "  htp_e = cl_htp ** 2 / (math.pi * aspect_ratio * cdi_htp)\n",
      "WARNING : Looping on wing area with new value equal to [13.29996099]\n"
     ]
    },
    {
     "name": "stdout",
     "output_type": "stream",
     "text": [
      "NL: NLBGS 1 ; 12257205.4 1\n"
     ]
    },
    {
     "name": "stderr",
     "output_type": "stream",
     "text": [
      "WARNING : Looping on wing area with new value equal to [11.41827124]\n"
     ]
    },
    {
     "name": "stdout",
     "output_type": "stream",
     "text": [
      "NL: NLBGS 2 ; 4233566.23 0.345394084\n"
     ]
    },
    {
     "name": "stderr",
     "output_type": "stream",
     "text": [
      "WARNING : Area ratio value outside of the range in Roskam's book, value clipped\n",
      "WARNING : Area ratio value outside of the range in Roskam's book, value clipped\n",
      "WARNING : Looping on wing area with new value equal to [13.17259939]\n"
     ]
    },
    {
     "name": "stdout",
     "output_type": "stream",
     "text": [
      "NL: NLBGS 3 ; 11091125.6 0.904865768\n"
     ]
    },
    {
     "name": "stderr",
     "output_type": "stream",
     "text": [
      "WARNING : Looping on wing area with new value equal to [14.1904321]\n"
     ]
    },
    {
     "name": "stdout",
     "output_type": "stream",
     "text": [
      "NL: NLBGS 4 ; 8758539.59 0.714562521\n"
     ]
    },
    {
     "name": "stderr",
     "output_type": "stream",
     "text": [
      "WARNING : Looping on wing area with new value equal to [14.02952447]\n",
      "WARNING : Area ratio value outside of the range in Roskam's book, value clipped\n"
     ]
    },
    {
     "name": "stdout",
     "output_type": "stream",
     "text": [
      "NL: NLBGS 5 ; 998671.861 0.0814763095\n"
     ]
    },
    {
     "name": "stderr",
     "output_type": "stream",
     "text": [
      "WARNING : Area ratio value outside of the range in Roskam's book, value clipped\n",
      "WARNING : Looping on wing area with new value equal to [13.69956237]\n",
      "WARNING : Area ratio value outside of the range in Roskam's book, value clipped\n"
     ]
    },
    {
     "name": "stdout",
     "output_type": "stream",
     "text": [
      "NL: NLBGS 6 ; 2288130.02 0.186676321\n"
     ]
    },
    {
     "name": "stderr",
     "output_type": "stream",
     "text": [
      "WARNING : Area ratio value outside of the range in Roskam's book, value clipped\n",
      "WARNING : Looping on wing area with new value equal to [13.89034772]\n",
      "WARNING : Area ratio value outside of the range in Roskam's book, value clipped\n"
     ]
    },
    {
     "name": "stdout",
     "output_type": "stream",
     "text": [
      "NL: NLBGS 7 ; 552071.584 0.0450405754\n"
     ]
    },
    {
     "name": "stderr",
     "output_type": "stream",
     "text": [
      "WARNING : Area ratio value outside of the range in Roskam's book, value clipped\n",
      "WARNING : Looping on wing area with new value equal to [13.97047454]\n",
      "WARNING : Area ratio value outside of the range in Roskam's book, value clipped\n"
     ]
    },
    {
     "name": "stdout",
     "output_type": "stream",
     "text": [
      "NL: NLBGS 8 ; 82566.0855 0.00673612645\n"
     ]
    },
    {
     "name": "stderr",
     "output_type": "stream",
     "text": [
      "WARNING : Area ratio value outside of the range in Roskam's book, value clipped\n",
      "WARNING : Looping on wing area with new value equal to [14.00461001]\n",
      "WARNING : Area ratio value outside of the range in Roskam's book, value clipped\n"
     ]
    },
    {
     "name": "stdout",
     "output_type": "stream",
     "text": [
      "NL: NLBGS 9 ; 146666.477 0.0119657355\n"
     ]
    },
    {
     "name": "stderr",
     "output_type": "stream",
     "text": [
      "WARNING : Area ratio value outside of the range in Roskam's book, value clipped\n",
      "WARNING : Looping on wing area with new value equal to [14.05332137]\n",
      "WARNING : Area ratio value outside of the range in Roskam's book, value clipped\n"
     ]
    },
    {
     "name": "stdout",
     "output_type": "stream",
     "text": [
      "NL: NLBGS 10 ; 54534.086 0.00444914515\n"
     ]
    },
    {
     "name": "stderr",
     "output_type": "stream",
     "text": [
      "WARNING : Area ratio value outside of the range in Roskam's book, value clipped\n",
      "WARNING : Looping on wing area with new value equal to [14.08736337]\n",
      "WARNING : Area ratio value outside of the range in Roskam's book, value clipped\n"
     ]
    },
    {
     "name": "stdout",
     "output_type": "stream",
     "text": [
      "NL: NLBGS 11 ; 24750.8906 0.00201929312\n"
     ]
    },
    {
     "name": "stderr",
     "output_type": "stream",
     "text": [
      "WARNING : Area ratio value outside of the range in Roskam's book, value clipped\n",
      "WARNING : Looping on wing area with new value equal to [14.10704023]\n",
      "WARNING : Area ratio value outside of the range in Roskam's book, value clipped\n"
     ]
    },
    {
     "name": "stdout",
     "output_type": "stream",
     "text": [
      "NL: NLBGS 12 ; 20325.9706 0.00165828751\n"
     ]
    },
    {
     "name": "stderr",
     "output_type": "stream",
     "text": [
      "WARNING : Area ratio value outside of the range in Roskam's book, value clipped\n",
      "WARNING : Looping on wing area with new value equal to [14.1186746]\n"
     ]
    },
    {
     "name": "stdout",
     "output_type": "stream",
     "text": [
      "NL: NLBGS 13 ; 11849.7979 0.000966761798\n",
      "NL: NLBGS Converged\n"
     ]
    },
    {
     "name": "stderr",
     "output_type": "stream",
     "text": [
      "INFO    : Computation finished after 338.57 seconds\n",
      "INFO    : Problem outputs written in D:\\fl.lutz\\FAST\\FAST-OAD\\FAST-GA\\src\\fastga\\notebooks\\tutorial\\workdir\\problem_outputs.xml\n"
     ]
    }
   ],
   "source": [
    "eval_problem = api_cs25.evaluate_problem(CONFIGURATION_FILE, overwrite=True)"
   ]
  },
  {
   "cell_type": "markdown",
   "metadata": {},
   "source": [
    "Let's save these results. We will use them in the next workbook, that shows some post-processing utilities."
   ]
  },
  {
   "cell_type": "code",
   "execution_count": 8,
   "metadata": {},
   "outputs": [
    {
     "data": {
      "text/plain": [
       "'workdir\\\\problem_outputs_Beechcraft_800nm_mda.xml'"
      ]
     },
     "execution_count": 8,
     "metadata": {},
     "output_type": "execute_result"
    }
   ],
   "source": [
    "OUTPUT_FILE = pth.join(WORK_FOLDER_PATH, 'problem_outputs.xml')\n",
    "Beechcraft_OUTPUT_FILE = pth.join(WORK_FOLDER_PATH, 'problem_outputs_Beechcraft_800nm_mda.xml')\n",
    "shutil.copy(OUTPUT_FILE, Beechcraft_OUTPUT_FILE)"
   ]
  },
  {
   "cell_type": "markdown",
   "metadata": {},
   "source": [
    "The `variable-viewer` provides a way to inspect the content of the XML file. The dropdown lists above the table allow to filter the displayed variable."
   ]
  },
  {
   "cell_type": "code",
   "execution_count": 9,
   "metadata": {},
   "outputs": [
    {
     "data": {
      "application/vnd.jupyter.widget-view+json": {
       "model_id": "731d2088335c47c29132f114c6fae562",
       "version_major": 2,
       "version_minor": 0
      },
      "text/plain": [
       "VBox(children=(HBox(children=(Button(description='Load', icon='upload', style=ButtonStyle(), tooltip='Load the…"
      ]
     },
     "metadata": {},
     "output_type": "display_data"
    }
   ],
   "source": [
    "api_cs25.variable_viewer(OUTPUT_FILE)"
   ]
  },
  {
   "cell_type": "markdown",
   "metadata": {},
   "source": [
    "In particular, you may inspect the `data:handling_qualities:static_margin` variable.\n",
    "You will see that its value is slightly negative, which means that the current aircraft configuration is estimated as unstable. We will see later how we can correct this point."
   ]
  },
  {
   "cell_type": "markdown",
   "metadata": {},
   "source": [
    "### Beechcraft for 1000 nm range\n",
    "Here we run an MDA but we change one of the Top Level Aircraft Requirement (TLAR): the range. We choose a 1000 nm range instead of 800 nm for the Beechcraft. For that we use the `VariableViewer` tool on the input file to change the range (do not forget to save!). Just like this:\n",
    "![variable_viewer](./img/variable_viewer_change_range.gif)"
   ]
  },
  {
   "cell_type": "code",
   "execution_count": 10,
   "metadata": {
    "scrolled": true
   },
   "outputs": [
    {
     "data": {
      "application/vnd.jupyter.widget-view+json": {
       "model_id": "e941994eb85342cb8220e3e692d9ad5e",
       "version_major": 2,
       "version_minor": 0
      },
      "text/plain": [
       "VBox(children=(HBox(children=(Button(description='Load', icon='upload', style=ButtonStyle(), tooltip='Load the…"
      ]
     },
     "metadata": {},
     "output_type": "display_data"
    }
   ],
   "source": [
    "INPUT_FILE = pth.join(WORK_FOLDER_PATH, 'problem_inputs.xml')\n",
    "api_cs25.variable_viewer(INPUT_FILE)"
   ]
  },
  {
   "cell_type": "markdown",
   "metadata": {},
   "source": [
    "Now that the range has been changed, we run again the MDA."
   ]
  },
  {
   "cell_type": "code",
   "execution_count": 12,
   "metadata": {},
   "outputs": [
    {
     "name": "stderr",
     "output_type": "stream",
     "text": [
      "D:\\fl.lutz\\FAST\\FAST-OAD\\FAST-GA\\src\\fastga\\models\\aerodynamics\\components\\compute_propeller_aero.py:361: UserWarning: Propeller not working in propulsive mode!\n",
      "  warnings.warn(\"Propeller not working in propulsive mode!\")\n",
      "D:\\fl.lutz\\FAST\\FAST-OAD\\FAST-GA\\src\\fastga\\models\\aerodynamics\\components\\compute_propeller_aero.py:349: UserWarning: Propeller element out of calculated polars: contribution canceled!\n",
      "  warnings.warn(\"Propeller element out of calculated polars: contribution canceled!\")\n",
      "c:\\users\\fl.lutz\\anaconda3\\envs\\fast-ga\\lib\\site-packages\\scipy\\optimize\\minpack.py:175: RuntimeWarning: The iteration is not making good progress, as measured by the \n",
      "  improvement from the last five Jacobian evaluations.\n",
      "  warnings.warn(msg, RuntimeWarning)\n",
      "c:\\users\\fl.lutz\\anaconda3\\envs\\fast-ga\\lib\\site-packages\\scipy\\optimize\\minpack.py:175: RuntimeWarning: The iteration is not making good progress, as measured by the \n",
      "  improvement from the last ten iterations.\n",
      "  warnings.warn(msg, RuntimeWarning)\n",
      "WARNING : Airfoil lift coefficient to theoretical lift coefficient ratio value outside of the range in Roskam's book, value clipped\n",
      "WARNING : Airfoil lift coefficient to theoretical lift coefficient ratio value outside of the range in Roskam's book, value clipped\n",
      "WARNING : Airfoil lift slope ratio value outside of the range in Roskam's book, value clipped\n"
     ]
    },
    {
     "name": "stdout",
     "output_type": "stream",
     "text": [
      "\n",
      "===============\n",
      "aircraft_sizing\n",
      "===============\n"
     ]
    },
    {
     "name": "stderr",
     "output_type": "stream",
     "text": [
      "WARNING : Looping on wing area with new value equal to [13.29996099]\n"
     ]
    },
    {
     "name": "stdout",
     "output_type": "stream",
     "text": [
      "NL: NLBGS 1 ; 12304635.3 1\n"
     ]
    },
    {
     "name": "stderr",
     "output_type": "stream",
     "text": [
      "WARNING : Airfoil lift slope ratio value outside of the range in Roskam's book, value clipped\n",
      "WARNING : Airfoil lift slope ratio value outside of the range in Roskam's book, value clipped\n",
      "WARNING : Looping on wing area with new value equal to [11.41827124]\n",
      "WARNING : Area ratio value outside of the range in Roskam's book, value clipped\n",
      "WARNING : Airfoil lift coefficient to theoretical lift coefficient ratio value outside of the range in Roskam's book, value clipped\n",
      "WARNING : Airfoil lift coefficient to theoretical lift coefficient ratio value outside of the range in Roskam's book, value clipped\n",
      "WARNING : Airfoil lift slope ratio value outside of the range in Roskam's book, value clipped\n"
     ]
    },
    {
     "name": "stdout",
     "output_type": "stream",
     "text": [
      "NL: NLBGS 2 ; 4233300.17 0.344041094\n"
     ]
    },
    {
     "name": "stderr",
     "output_type": "stream",
     "text": [
      "WARNING : Area ratio value outside of the range in Roskam's book, value clipped\n",
      "WARNING : Looping on wing area with new value equal to [13.5825341]\n"
     ]
    },
    {
     "name": "stdout",
     "output_type": "stream",
     "text": [
      "NL: NLBGS 3 ; 10884884.5 0.884616587\n"
     ]
    },
    {
     "name": "stderr",
     "output_type": "stream",
     "text": [
      "WARNING : Looping on wing area with new value equal to [14.60282689]\n"
     ]
    },
    {
     "name": "stdout",
     "output_type": "stream",
     "text": [
      "NL: NLBGS 4 ; 8553127.67 0.695114279\n"
     ]
    },
    {
     "name": "stderr",
     "output_type": "stream",
     "text": [
      "WARNING : Looping on wing area with new value equal to [14.63210108]\n",
      "WARNING : Area ratio value outside of the range in Roskam's book, value clipped\n"
     ]
    },
    {
     "name": "stdout",
     "output_type": "stream",
     "text": [
      "NL: NLBGS 5 ; 1007099.9 0.0818471968\n"
     ]
    },
    {
     "name": "stderr",
     "output_type": "stream",
     "text": [
      "WARNING : Area ratio value outside of the range in Roskam's book, value clipped\n",
      "WARNING : Looping on wing area with new value equal to [14.25235567]\n",
      "WARNING : Area ratio value outside of the range in Roskam's book, value clipped\n"
     ]
    },
    {
     "name": "stdout",
     "output_type": "stream",
     "text": [
      "NL: NLBGS 6 ; 1948758.89 0.158375998\n"
     ]
    },
    {
     "name": "stderr",
     "output_type": "stream",
     "text": [
      "WARNING : Area ratio value outside of the range in Roskam's book, value clipped\n",
      "WARNING : Looping on wing area with new value equal to [14.43771967]\n",
      "WARNING : Area ratio value outside of the range in Roskam's book, value clipped\n"
     ]
    },
    {
     "name": "stdout",
     "output_type": "stream",
     "text": [
      "NL: NLBGS 7 ; 161044.79 0.0130881401\n"
     ]
    },
    {
     "name": "stderr",
     "output_type": "stream",
     "text": [
      "WARNING : Area ratio value outside of the range in Roskam's book, value clipped\n",
      "WARNING : Looping on wing area with new value equal to [14.57541248]\n",
      "WARNING : Area ratio value outside of the range in Roskam's book, value clipped\n"
     ]
    },
    {
     "name": "stdout",
     "output_type": "stream",
     "text": [
      "NL: NLBGS 8 ; 67099.4973 0.00545318864\n"
     ]
    },
    {
     "name": "stderr",
     "output_type": "stream",
     "text": [
      "WARNING : Area ratio value outside of the range in Roskam's book, value clipped\n",
      "WARNING : Looping on wing area with new value equal to [14.63752577]\n",
      "WARNING : Area ratio value outside of the range in Roskam's book, value clipped\n"
     ]
    },
    {
     "name": "stdout",
     "output_type": "stream",
     "text": [
      "NL: NLBGS 9 ; 116462.352 0.00946491701\n"
     ]
    },
    {
     "name": "stderr",
     "output_type": "stream",
     "text": [
      "WARNING : Area ratio value outside of the range in Roskam's book, value clipped\n",
      "WARNING : Looping on wing area with new value equal to [14.69037388]\n",
      "WARNING : Area ratio value outside of the range in Roskam's book, value clipped\n"
     ]
    },
    {
     "name": "stdout",
     "output_type": "stream",
     "text": [
      "NL: NLBGS 10 ; 76829.6119 0.00624395687\n"
     ]
    },
    {
     "name": "stderr",
     "output_type": "stream",
     "text": [
      "WARNING : Area ratio value outside of the range in Roskam's book, value clipped\n",
      "WARNING : Looping on wing area with new value equal to [14.72982871]\n",
      "WARNING : Area ratio value outside of the range in Roskam's book, value clipped\n"
     ]
    },
    {
     "name": "stdout",
     "output_type": "stream",
     "text": [
      "NL: NLBGS 11 ; 33806.6796 0.00274747515\n"
     ]
    },
    {
     "name": "stderr",
     "output_type": "stream",
     "text": [
      "WARNING : Area ratio value outside of the range in Roskam's book, value clipped\n",
      "WARNING : Looping on wing area with new value equal to [14.75362662]\n",
      "WARNING : Area ratio value outside of the range in Roskam's book, value clipped\n"
     ]
    },
    {
     "name": "stdout",
     "output_type": "stream",
     "text": [
      "NL: NLBGS 12 ; 20391.3325 0.00165720739\n"
     ]
    },
    {
     "name": "stderr",
     "output_type": "stream",
     "text": [
      "WARNING : Area ratio value outside of the range in Roskam's book, value clipped\n",
      "WARNING : Looping on wing area with new value equal to [14.76676318]\n",
      "WARNING : Area ratio value outside of the range in Roskam's book, value clipped\n"
     ]
    },
    {
     "name": "stdout",
     "output_type": "stream",
     "text": [
      "NL: NLBGS 13 ; 12519.6779 0.00101747655\n"
     ]
    },
    {
     "name": "stderr",
     "output_type": "stream",
     "text": [
      "WARNING : Area ratio value outside of the range in Roskam's book, value clipped\n",
      "WARNING : Looping on wing area with new value equal to [14.77402273]\n",
      "WARNING : Area ratio value outside of the range in Roskam's book, value clipped\n"
     ]
    },
    {
     "name": "stdout",
     "output_type": "stream",
     "text": [
      "NL: NLBGS 14 ; 6702.98864 0.000544753135\n"
     ]
    },
    {
     "name": "stderr",
     "output_type": "stream",
     "text": [
      "WARNING : Area ratio value outside of the range in Roskam's book, value clipped\n",
      "WARNING : Looping on wing area with new value equal to [14.77785214]\n",
      "WARNING : Area ratio value outside of the range in Roskam's book, value clipped\n"
     ]
    },
    {
     "name": "stdout",
     "output_type": "stream",
     "text": [
      "NL: NLBGS 15 ; 3332.58011 0.000270839406\n"
     ]
    },
    {
     "name": "stderr",
     "output_type": "stream",
     "text": [
      "WARNING : Area ratio value outside of the range in Roskam's book, value clipped\n",
      "WARNING : Looping on wing area with new value equal to [14.77971329]\n",
      "WARNING : Area ratio value outside of the range in Roskam's book, value clipped\n"
     ]
    },
    {
     "name": "stdout",
     "output_type": "stream",
     "text": [
      "NL: NLBGS 16 ; 1647.1682 0.000133865667\n"
     ]
    },
    {
     "name": "stderr",
     "output_type": "stream",
     "text": [
      "WARNING : Area ratio value outside of the range in Roskam's book, value clipped\n",
      "WARNING : Looping on wing area with new value equal to [14.78053697]\n"
     ]
    },
    {
     "name": "stdout",
     "output_type": "stream",
     "text": [
      "NL: NLBGS 17 ; 779.615998 6.33595373e-05\n",
      "NL: NLBGS Converged\n"
     ]
    },
    {
     "name": "stderr",
     "output_type": "stream",
     "text": [
      "INFO    : Computation finished after 293.26 seconds\n",
      "INFO    : Problem outputs written in D:\\fl.lutz\\FAST\\FAST-OAD\\FAST-GA\\src\\fastga\\notebooks\\tutorial\\workdir\\problem_outputs.xml\n"
     ]
    }
   ],
   "source": [
    "eval_problem = api_cs25.evaluate_problem(CONFIGURATION_FILE, overwrite=True)"
   ]
  },
  {
   "cell_type": "markdown",
   "metadata": {},
   "source": [
    "Let's save again these new results, for post-processing them in next notebook."
   ]
  },
  {
   "cell_type": "code",
   "execution_count": 13,
   "metadata": {},
   "outputs": [
    {
     "data": {
      "text/plain": [
       "'workdir\\\\problem_outputs_Beechcraft_1000nm_mda.xml'"
      ]
     },
     "execution_count": 13,
     "metadata": {},
     "output_type": "execute_result"
    }
   ],
   "source": [
    "OUTPUT_FILE = pth.join(WORK_FOLDER_PATH, 'problem_outputs.xml')\n",
    "Beechcraft_1000nm_OUTPUT_FILE = pth.join(WORK_FOLDER_PATH, 'problem_outputs_Beechcraft_1000nm_mda.xml')\n",
    "shutil.copy(OUTPUT_FILE, Beechcraft_1000nm_OUTPUT_FILE)"
   ]
  },
  {
   "cell_type": "markdown",
   "metadata": {},
   "source": [
    "## 3. Running your first MDO\n",
    "\n",
    "## Beechcraft 800 nm optimization\n",
    "\n",
    "As seen earlier, the current aircraft configuration is estimated with a fixed rear length (and thus fuselage length). We will unlock this parameter using a simple optimization problem that will move horizontal tail position in order to minimize the mission consumption. \n",
    "\n",
    "The default configuration file defines this optimization problem that aims at:\n",
    "- minimizing the fuel consumption for the mission (objective),\n",
    "- with respect to the rear fusellage length (design variables): by extension the horizontal tail to wing distance,\n",
    "- subject to no additional constraint.\n",
    "\n",
    "However, running the MDO with the propeller performance estimation will take a very long time. Consequently, and since the propeller won't change from oone MDO loop to another, we decided to use a different .yml file for the probleme definition and reuse the propeller performance map computed in the MDA's hence why the input file will be the output file of a previous MDA.\n",
    "\n",
    "*(This run should take approximately 20 minutes)*"
   ]
  },
  {
   "cell_type": "code",
   "execution_count": 14,
   "metadata": {},
   "outputs": [
    {
     "data": {
      "text/plain": [
       "'workdir\\\\oad_process_mdo.yml'"
      ]
     },
     "execution_count": 14,
     "metadata": {},
     "output_type": "execute_result"
    }
   ],
   "source": [
    "CONFIGURATION_FILE_MDO = pth.join(WORK_FOLDER_PATH, 'oad_process_mdo.yml')\n",
    "SOURCE_FILE_MDO = pth.join(WORK_FOLDER_PATH, 'problem_outputs_Beechcraft_800nm_mda.xml')\n",
    "shutil.copy(pth.join(DATA_FOLDER_PATH, 'fastga_mdo.yml'), CONFIGURATION_FILE_MDO)"
   ]
  },
  {
   "cell_type": "code",
   "execution_count": 15,
   "metadata": {},
   "outputs": [
    {
     "name": "stderr",
     "output_type": "stream",
     "text": [
      "INFO    : Problem inputs written in D:\\fl.lutz\\FAST\\FAST-OAD\\FAST-GA\\src\\fastga\\notebooks\\tutorial\\workdir\\problem_inputs.xml\n"
     ]
    },
    {
     "data": {
      "text/plain": [
       "'D:\\\\fl.lutz\\\\FAST\\\\FAST-OAD\\\\FAST-GA\\\\src\\\\fastga\\\\notebooks\\\\tutorial\\\\workdir\\\\problem_inputs.xml'"
      ]
     },
     "execution_count": 15,
     "metadata": {},
     "output_type": "execute_result"
    }
   ],
   "source": [
    "# Set back the inputs from the reference Beechcraft 800 nm\n",
    "api_cs25.generate_inputs(CONFIGURATION_FILE_MDO, SOURCE_FILE_MDO, overwrite=True)"
   ]
  },
  {
   "cell_type": "markdown",
   "metadata": {},
   "source": [
    "To visualize and edit the optimization problem definition (present in the configuration file .toml) you can use the `optimization_viewer` tool. If design variables or constraints have active bounds they are yellow whereas they are red if they are violated. Modifiying the `Initial Value` will modify the input file defined in the configuration file .toml whereas `Value` corresponds to the value found in the output file defined in the configuration file (here it is the 800 nm MDA run)."
   ]
  },
  {
   "cell_type": "code",
   "execution_count": 16,
   "metadata": {},
   "outputs": [
    {
     "data": {
      "application/vnd.jupyter.widget-view+json": {
       "model_id": "d9e4ce9693c24da3900c6768e1770393",
       "version_major": 2,
       "version_minor": 0
      },
      "text/plain": [
       "VBox(children=(HBox(children=(Button(description='Load', icon='upload', style=ButtonStyle(), tooltip='Load the…"
      ]
     },
     "metadata": {},
     "output_type": "display_data"
    }
   ],
   "source": [
    "api_cs25.optimization_viewer(CONFIGURATION_FILE_MDO)"
   ]
  },
  {
   "cell_type": "code",
   "execution_count": 17,
   "metadata": {
    "jupyter": {
     "outputs_hidden": true
    }
   },
   "outputs": [
    {
     "name": "stderr",
     "output_type": "stream",
     "text": [
      "WARNING : Airfoil lift coefficient to theoretical lift coefficient ratio value outside of the range in Roskam's book, value clipped\n",
      "WARNING : Airfoil lift coefficient to theoretical lift coefficient ratio value outside of the range in Roskam's book, value clipped\n",
      "WARNING : Airfoil lift slope ratio value outside of the range in Roskam's book, value clipped\n",
      "WARNING : Looping on wing area with new value equal to [13.29996099]\n"
     ]
    },
    {
     "name": "stdout",
     "output_type": "stream",
     "text": [
      "NL: NLBGS 1 ; 12257205.4 1\n"
     ]
    },
    {
     "name": "stderr",
     "output_type": "stream",
     "text": [
      "WARNING : Airfoil lift slope ratio value outside of the range in Roskam's book, value clipped\n",
      "WARNING : Airfoil lift slope ratio value outside of the range in Roskam's book, value clipped\n",
      "WARNING : Looping on wing area with new value equal to [11.41827124]\n",
      "WARNING : Area ratio value outside of the range in Roskam's book, value clipped\n",
      "WARNING : Airfoil lift coefficient to theoretical lift coefficient ratio value outside of the range in Roskam's book, value clipped\n",
      "WARNING : Airfoil lift coefficient to theoretical lift coefficient ratio value outside of the range in Roskam's book, value clipped\n",
      "WARNING : Airfoil lift slope ratio value outside of the range in Roskam's book, value clipped\n"
     ]
    },
    {
     "name": "stdout",
     "output_type": "stream",
     "text": [
      "NL: NLBGS 2 ; 4233299.79 0.345372346\n"
     ]
    },
    {
     "name": "stderr",
     "output_type": "stream",
     "text": [
      "WARNING : Area ratio value outside of the range in Roskam's book, value clipped\n",
      "WARNING : Looping on wing area with new value equal to [13.172606]\n"
     ]
    },
    {
     "name": "stdout",
     "output_type": "stream",
     "text": [
      "NL: NLBGS 3 ; 10884883.1 0.888039544\n"
     ]
    },
    {
     "name": "stderr",
     "output_type": "stream",
     "text": [
      "WARNING : Looping on wing area with new value equal to [14.16572686]\n"
     ]
    },
    {
     "name": "stdout",
     "output_type": "stream",
     "text": [
      "NL: NLBGS 4 ; 8559938.51 0.698359718\n"
     ]
    },
    {
     "name": "stderr",
     "output_type": "stream",
     "text": [
      "WARNING : Looping on wing area with new value equal to [14.01294898]\n",
      "WARNING : Area ratio value outside of the range in Roskam's book, value clipped\n"
     ]
    },
    {
     "name": "stdout",
     "output_type": "stream",
     "text": [
      "NL: NLBGS 5 ; 1092555.38 0.0891357647\n"
     ]
    },
    {
     "name": "stderr",
     "output_type": "stream",
     "text": [
      "WARNING : Area ratio value outside of the range in Roskam's book, value clipped\n",
      "WARNING : Looping on wing area with new value equal to [13.69142762]\n",
      "WARNING : Area ratio value outside of the range in Roskam's book, value clipped\n"
     ]
    },
    {
     "name": "stdout",
     "output_type": "stream",
     "text": [
      "NL: NLBGS 6 ; 2037923.32 0.166263292\n"
     ]
    },
    {
     "name": "stderr",
     "output_type": "stream",
     "text": [
      "WARNING : Area ratio value outside of the range in Roskam's book, value clipped\n",
      "WARNING : Looping on wing area with new value equal to [13.86196101]\n",
      "WARNING : Area ratio value outside of the range in Roskam's book, value clipped\n"
     ]
    },
    {
     "name": "stdout",
     "output_type": "stream",
     "text": [
      "NL: NLBGS 7 ; 228067.511 0.0186068116\n"
     ]
    },
    {
     "name": "stderr",
     "output_type": "stream",
     "text": [
      "WARNING : Area ratio value outside of the range in Roskam's book, value clipped\n",
      "WARNING : Looping on wing area with new value equal to [13.96417002]\n",
      "WARNING : Area ratio value outside of the range in Roskam's book, value clipped\n"
     ]
    },
    {
     "name": "stdout",
     "output_type": "stream",
     "text": [
      "NL: NLBGS 8 ; 61636.9866 0.00502863292\n"
     ]
    },
    {
     "name": "stderr",
     "output_type": "stream",
     "text": [
      "WARNING : Area ratio value outside of the range in Roskam's book, value clipped\n",
      "WARNING : Looping on wing area with new value equal to [14.01153807]\n",
      "WARNING : Area ratio value outside of the range in Roskam's book, value clipped\n"
     ]
    },
    {
     "name": "stdout",
     "output_type": "stream",
     "text": [
      "NL: NLBGS 9 ; 120399.261 0.00982273343\n"
     ]
    },
    {
     "name": "stderr",
     "output_type": "stream",
     "text": [
      "WARNING : Area ratio value outside of the range in Roskam's book, value clipped\n",
      "WARNING : Looping on wing area with new value equal to [14.05814236]\n",
      "WARNING : Area ratio value outside of the range in Roskam's book, value clipped\n"
     ]
    },
    {
     "name": "stdout",
     "output_type": "stream",
     "text": [
      "NL: NLBGS 10 ; 73484.3348 0.00599519486\n"
     ]
    },
    {
     "name": "stderr",
     "output_type": "stream",
     "text": [
      "WARNING : Area ratio value outside of the range in Roskam's book, value clipped\n",
      "WARNING : Looping on wing area with new value equal to [14.0922948]\n",
      "WARNING : Area ratio value outside of the range in Roskam's book, value clipped\n"
     ]
    },
    {
     "name": "stdout",
     "output_type": "stream",
     "text": [
      "NL: NLBGS 11 ; 30505.3671 0.00248877016\n"
     ]
    },
    {
     "name": "stderr",
     "output_type": "stream",
     "text": [
      "WARNING : Area ratio value outside of the range in Roskam's book, value clipped\n",
      "WARNING : Looping on wing area with new value equal to [14.11229345]\n",
      "WARNING : Area ratio value outside of the range in Roskam's book, value clipped\n"
     ]
    },
    {
     "name": "stdout",
     "output_type": "stream",
     "text": [
      "NL: NLBGS 12 ; 18394.6371 0.00150072031\n"
     ]
    },
    {
     "name": "stderr",
     "output_type": "stream",
     "text": [
      "WARNING : Area ratio value outside of the range in Roskam's book, value clipped\n",
      "WARNING : Looping on wing area with new value equal to [14.12308597]\n"
     ]
    },
    {
     "name": "stdout",
     "output_type": "stream",
     "text": [
      "NL: NLBGS 13 ; 10947.5307 0.000893150627\n",
      "NL: NLBGS Converged\n"
     ]
    },
    {
     "name": "stderr",
     "output_type": "stream",
     "text": [
      "WARNING : Area ratio value outside of the range in Roskam's book, value clipped\n",
      "WARNING : Area ratio value outside of the range in Roskam's book, value clipped\n",
      "WARNING : Looping on wing area with new value equal to [14.12888121]\n",
      "WARNING : Area ratio value outside of the range in Roskam's book, value clipped\n"
     ]
    },
    {
     "name": "stdout",
     "output_type": "stream",
     "text": [
      "NL: NLBGS 1 ; 5607.50058 1\n"
     ]
    },
    {
     "name": "stderr",
     "output_type": "stream",
     "text": [
      "WARNING : Area ratio value outside of the range in Roskam's book, value clipped\n",
      "WARNING : Looping on wing area with new value equal to [14.13179929]\n",
      "WARNING : Area ratio value outside of the range in Roskam's book, value clipped\n"
     ]
    },
    {
     "name": "stdout",
     "output_type": "stream",
     "text": [
      "NL: NLBGS 2 ; 2676.01522 0.477220676\n"
     ]
    },
    {
     "name": "stderr",
     "output_type": "stream",
     "text": [
      "WARNING : Area ratio value outside of the range in Roskam's book, value clipped\n",
      "WARNING : Looping on wing area with new value equal to [14.13313002]\n",
      "WARNING : Area ratio value outside of the range in Roskam's book, value clipped\n"
     ]
    },
    {
     "name": "stdout",
     "output_type": "stream",
     "text": [
      "NL: NLBGS 3 ; 1263.86643 0.225388551\n"
     ]
    },
    {
     "name": "stderr",
     "output_type": "stream",
     "text": [
      "WARNING : Area ratio value outside of the range in Roskam's book, value clipped\n",
      "WARNING : Looping on wing area with new value equal to [14.13366575]\n",
      "WARNING : Area ratio value outside of the range in Roskam's book, value clipped\n"
     ]
    },
    {
     "name": "stdout",
     "output_type": "stream",
     "text": [
      "NL: NLBGS 4 ; 568.477245 0.101378009\n"
     ]
    },
    {
     "name": "stderr",
     "output_type": "stream",
     "text": [
      "WARNING : Area ratio value outside of the range in Roskam's book, value clipped\n",
      "WARNING : Looping on wing area with new value equal to [14.13383922]\n",
      "WARNING : Area ratio value outside of the range in Roskam's book, value clipped\n"
     ]
    },
    {
     "name": "stdout",
     "output_type": "stream",
     "text": [
      "NL: NLBGS 5 ; 254.243168 0.045339838\n"
     ]
    },
    {
     "name": "stderr",
     "output_type": "stream",
     "text": [
      "WARNING : Area ratio value outside of the range in Roskam's book, value clipped\n",
      "WARNING : Looping on wing area with new value equal to [14.13386274]\n",
      "WARNING : Area ratio value outside of the range in Roskam's book, value clipped\n"
     ]
    },
    {
     "name": "stdout",
     "output_type": "stream",
     "text": [
      "NL: NLBGS 6 ; 133.525554 0.0238119555\n"
     ]
    },
    {
     "name": "stderr",
     "output_type": "stream",
     "text": [
      "WARNING : Area ratio value outside of the range in Roskam's book, value clipped\n",
      "WARNING : Looping on wing area with new value equal to [14.13383519]\n",
      "WARNING : Area ratio value outside of the range in Roskam's book, value clipped\n"
     ]
    },
    {
     "name": "stdout",
     "output_type": "stream",
     "text": [
      "NL: NLBGS 7 ; 84.8985418 0.0151401753\n"
     ]
    },
    {
     "name": "stderr",
     "output_type": "stream",
     "text": [
      "WARNING : Area ratio value outside of the range in Roskam's book, value clipped\n",
      "WARNING : Looping on wing area with new value equal to [14.13379872]\n",
      "WARNING : Area ratio value outside of the range in Roskam's book, value clipped\n"
     ]
    },
    {
     "name": "stdout",
     "output_type": "stream",
     "text": [
      "NL: NLBGS 8 ; 57.2869641 0.0102161316\n"
     ]
    },
    {
     "name": "stderr",
     "output_type": "stream",
     "text": [
      "WARNING : Area ratio value outside of the range in Roskam's book, value clipped\n",
      "WARNING : Looping on wing area with new value equal to [14.13376846]\n",
      "WARNING : Area ratio value outside of the range in Roskam's book, value clipped\n"
     ]
    },
    {
     "name": "stdout",
     "output_type": "stream",
     "text": [
      "NL: NLBGS 9 ; 37.5734604 0.00670057183\n"
     ]
    },
    {
     "name": "stderr",
     "output_type": "stream",
     "text": [
      "WARNING : Area ratio value outside of the range in Roskam's book, value clipped\n",
      "WARNING : Looping on wing area with new value equal to [14.13374715]\n",
      "WARNING : Area ratio value outside of the range in Roskam's book, value clipped\n"
     ]
    },
    {
     "name": "stdout",
     "output_type": "stream",
     "text": [
      "NL: NLBGS 10 ; 23.782475 0.00424118992\n"
     ]
    },
    {
     "name": "stderr",
     "output_type": "stream",
     "text": [
      "WARNING : Area ratio value outside of the range in Roskam's book, value clipped\n",
      "WARNING : Looping on wing area with new value equal to [14.1337334]\n",
      "WARNING : Area ratio value outside of the range in Roskam's book, value clipped\n"
     ]
    },
    {
     "name": "stdout",
     "output_type": "stream",
     "text": [
      "NL: NLBGS 11 ; 13.9844855 0.00249388926\n"
     ]
    },
    {
     "name": "stderr",
     "output_type": "stream",
     "text": [
      "WARNING : Area ratio value outside of the range in Roskam's book, value clipped\n",
      "WARNING : Looping on wing area with new value equal to [14.13372543]\n",
      "WARNING : Area ratio value outside of the range in Roskam's book, value clipped\n"
     ]
    },
    {
     "name": "stdout",
     "output_type": "stream",
     "text": [
      "NL: NLBGS 12 ; 7.79254943 0.00138966538\n"
     ]
    },
    {
     "name": "stderr",
     "output_type": "stream",
     "text": [
      "WARNING : Area ratio value outside of the range in Roskam's book, value clipped\n",
      "WARNING : Looping on wing area with new value equal to [14.13372098]\n"
     ]
    },
    {
     "name": "stdout",
     "output_type": "stream",
     "text": [
      "NL: NLBGS 13 ; 4.25033837 0.000757973772\n",
      "NL: NLBGS Converged\n"
     ]
    },
    {
     "name": "stderr",
     "output_type": "stream",
     "text": [
      "WARNING : Ratio of span on fuselage depth outside of the range in Roskam's book, value clipped\n",
      "WARNING : Area ratio value outside of the range in Roskam's book, value clipped\n",
      "WARNING : Ratio of span on fuselage depth outside of the range in Roskam's book, value clipped\n",
      "WARNING : Area ratio value outside of the range in Roskam's book, value clipped\n",
      "WARNING : Looping on wing area with new value equal to [14.13371876]\n",
      "WARNING : Area ratio value outside of the range in Roskam's book, value clipped\n"
     ]
    },
    {
     "name": "stdout",
     "output_type": "stream",
     "text": [
      "NL: NLBGS 1 ; 494.68709 1\n"
     ]
    },
    {
     "name": "stderr",
     "output_type": "stream",
     "text": [
      "WARNING : Area ratio value outside of the range in Roskam's book, value clipped\n",
      "WARNING : Looping on wing area with new value equal to [14.31534798]\n",
      "WARNING : Area ratio value outside of the range in Roskam's book, value clipped\n"
     ]
    },
    {
     "name": "stdout",
     "output_type": "stream",
     "text": [
      "NL: NLBGS 2 ; 491397.902 993.350972\n"
     ]
    },
    {
     "name": "stderr",
     "output_type": "stream",
     "text": [
      "WARNING : Area ratio value outside of the range in Roskam's book, value clipped\n",
      "WARNING : Looping on wing area with new value equal to [14.28959482]\n",
      "WARNING : Area ratio value outside of the range in Roskam's book, value clipped\n"
     ]
    },
    {
     "name": "stdout",
     "output_type": "stream",
     "text": [
      "NL: NLBGS 3 ; 62978.7965 127.31037\n"
     ]
    },
    {
     "name": "stderr",
     "output_type": "stream",
     "text": [
      "WARNING : Area ratio value outside of the range in Roskam's book, value clipped\n",
      "WARNING : Looping on wing area with new value equal to [14.28372383]\n",
      "WARNING : Area ratio value outside of the range in Roskam's book, value clipped\n"
     ]
    },
    {
     "name": "stdout",
     "output_type": "stream",
     "text": [
      "NL: NLBGS 4 ; 92639.1028 187.268083\n"
     ]
    },
    {
     "name": "stderr",
     "output_type": "stream",
     "text": [
      "WARNING : Area ratio value outside of the range in Roskam's book, value clipped\n",
      "WARNING : Looping on wing area with new value equal to [14.29649781]\n",
      "WARNING : Area ratio value outside of the range in Roskam's book, value clipped\n"
     ]
    },
    {
     "name": "stdout",
     "output_type": "stream",
     "text": [
      "NL: NLBGS 5 ; 6006.03552 12.14108\n"
     ]
    },
    {
     "name": "stderr",
     "output_type": "stream",
     "text": [
      "WARNING : Area ratio value outside of the range in Roskam's book, value clipped\n",
      "WARNING : Looping on wing area with new value equal to [14.30522832]\n",
      "WARNING : Area ratio value outside of the range in Roskam's book, value clipped\n"
     ]
    },
    {
     "name": "stdout",
     "output_type": "stream",
     "text": [
      "NL: NLBGS 6 ; 4395.50352 8.88542193\n"
     ]
    },
    {
     "name": "stderr",
     "output_type": "stream",
     "text": [
      "WARNING : Area ratio value outside of the range in Roskam's book, value clipped\n",
      "WARNING : Looping on wing area with new value equal to [14.30901764]\n",
      "WARNING : Area ratio value outside of the range in Roskam's book, value clipped\n"
     ]
    },
    {
     "name": "stdout",
     "output_type": "stream",
     "text": [
      "NL: NLBGS 7 ; 5303.39583 10.720708\n"
     ]
    },
    {
     "name": "stderr",
     "output_type": "stream",
     "text": [
      "WARNING : Area ratio value outside of the range in Roskam's book, value clipped\n",
      "WARNING : Looping on wing area with new value equal to [14.31152027]\n",
      "WARNING : Area ratio value outside of the range in Roskam's book, value clipped\n"
     ]
    },
    {
     "name": "stdout",
     "output_type": "stream",
     "text": [
      "NL: NLBGS 8 ; 3095.91166 6.25832313\n"
     ]
    },
    {
     "name": "stderr",
     "output_type": "stream",
     "text": [
      "WARNING : Area ratio value outside of the range in Roskam's book, value clipped\n",
      "WARNING : Looping on wing area with new value equal to [14.31308509]\n",
      "WARNING : Area ratio value outside of the range in Roskam's book, value clipped\n"
     ]
    },
    {
     "name": "stdout",
     "output_type": "stream",
     "text": [
      "NL: NLBGS 9 ; 1222.59512 2.47145144\n"
     ]
    },
    {
     "name": "stderr",
     "output_type": "stream",
     "text": [
      "WARNING : Area ratio value outside of the range in Roskam's book, value clipped\n",
      "WARNING : Looping on wing area with new value equal to [14.31389829]\n",
      "WARNING : Area ratio value outside of the range in Roskam's book, value clipped\n"
     ]
    },
    {
     "name": "stdout",
     "output_type": "stream",
     "text": [
      "NL: NLBGS 10 ; 689.884943 1.39458853\n"
     ]
    },
    {
     "name": "stderr",
     "output_type": "stream",
     "text": [
      "WARNING : Area ratio value outside of the range in Roskam's book, value clipped\n",
      "WARNING : Looping on wing area with new value equal to [14.31428941]\n",
      "WARNING : Area ratio value outside of the range in Roskam's book, value clipped\n"
     ]
    },
    {
     "name": "stdout",
     "output_type": "stream",
     "text": [
      "NL: NLBGS 11 ; 372.287511 0.752571714\n"
     ]
    },
    {
     "name": "stderr",
     "output_type": "stream",
     "text": [
      "WARNING : Area ratio value outside of the range in Roskam's book, value clipped\n",
      "WARNING : Looping on wing area with new value equal to [14.3144763]\n",
      "WARNING : Area ratio value outside of the range in Roskam's book, value clipped\n"
     ]
    },
    {
     "name": "stdout",
     "output_type": "stream",
     "text": [
      "NL: NLBGS 12 ; 170.446872 0.344554923\n"
     ]
    },
    {
     "name": "stderr",
     "output_type": "stream",
     "text": [
      "WARNING : Area ratio value outside of the range in Roskam's book, value clipped\n",
      "WARNING : Looping on wing area with new value equal to [14.31455759]\n",
      "WARNING : Area ratio value outside of the range in Roskam's book, value clipped\n"
     ]
    },
    {
     "name": "stdout",
     "output_type": "stream",
     "text": [
      "NL: NLBGS 13 ; 75.6833929 0.152992456\n"
     ]
    },
    {
     "name": "stderr",
     "output_type": "stream",
     "text": [
      "WARNING : Area ratio value outside of the range in Roskam's book, value clipped\n",
      "WARNING : Looping on wing area with new value equal to [14.31458704]\n",
      "WARNING : Area ratio value outside of the range in Roskam's book, value clipped\n"
     ]
    },
    {
     "name": "stdout",
     "output_type": "stream",
     "text": [
      "NL: NLBGS 14 ; 33.8209297 0.0683683289\n"
     ]
    },
    {
     "name": "stderr",
     "output_type": "stream",
     "text": [
      "WARNING : Area ratio value outside of the range in Roskam's book, value clipped\n",
      "WARNING : Looping on wing area with new value equal to [14.31459446]\n",
      "WARNING : Area ratio value outside of the range in Roskam's book, value clipped\n"
     ]
    },
    {
     "name": "stdout",
     "output_type": "stream",
     "text": [
      "NL: NLBGS 15 ; 15.2926632 0.030913811\n"
     ]
    },
    {
     "name": "stderr",
     "output_type": "stream",
     "text": [
      "WARNING : Area ratio value outside of the range in Roskam's book, value clipped\n",
      "WARNING : Looping on wing area with new value equal to [14.31459379]\n",
      "WARNING : Area ratio value outside of the range in Roskam's book, value clipped\n"
     ]
    },
    {
     "name": "stdout",
     "output_type": "stream",
     "text": [
      "NL: NLBGS 16 ; 8.42442323 0.0170298021\n"
     ]
    },
    {
     "name": "stderr",
     "output_type": "stream",
     "text": [
      "WARNING : Area ratio value outside of the range in Roskam's book, value clipped\n",
      "WARNING : Looping on wing area with new value equal to [14.31459086]\n",
      "WARNING : Area ratio value outside of the range in Roskam's book, value clipped\n"
     ]
    },
    {
     "name": "stdout",
     "output_type": "stream",
     "text": [
      "NL: NLBGS 17 ; 5.60155408 0.0113234289\n"
     ]
    },
    {
     "name": "stderr",
     "output_type": "stream",
     "text": [
      "WARNING : Area ratio value outside of the range in Roskam's book, value clipped\n",
      "WARNING : Looping on wing area with new value equal to [14.31458815]\n",
      "WARNING : Area ratio value outside of the range in Roskam's book, value clipped\n"
     ]
    },
    {
     "name": "stdout",
     "output_type": "stream",
     "text": [
      "NL: NLBGS 18 ; 3.60153481 0.00728043016\n"
     ]
    },
    {
     "name": "stderr",
     "output_type": "stream",
     "text": [
      "WARNING : Area ratio value outside of the range in Roskam's book, value clipped\n",
      "WARNING : Looping on wing area with new value equal to [14.31458591]\n",
      "WARNING : Area ratio value outside of the range in Roskam's book, value clipped\n"
     ]
    },
    {
     "name": "stdout",
     "output_type": "stream",
     "text": [
      "NL: NLBGS 19 ; 2.25087481 0.00455009815\n"
     ]
    },
    {
     "name": "stderr",
     "output_type": "stream",
     "text": [
      "WARNING : Area ratio value outside of the range in Roskam's book, value clipped\n",
      "WARNING : Looping on wing area with new value equal to [14.31458445]\n",
      "WARNING : Area ratio value outside of the range in Roskam's book, value clipped\n"
     ]
    },
    {
     "name": "stdout",
     "output_type": "stream",
     "text": [
      "NL: NLBGS 20 ; 1.45247045 0.00293613979\n"
     ]
    },
    {
     "name": "stderr",
     "output_type": "stream",
     "text": [
      "WARNING : Area ratio value outside of the range in Roskam's book, value clipped\n",
      "WARNING : Looping on wing area with new value equal to [14.31458377]\n",
      "WARNING : Area ratio value outside of the range in Roskam's book, value clipped\n"
     ]
    },
    {
     "name": "stdout",
     "output_type": "stream",
     "text": [
      "NL: NLBGS 21 ; 0.998776086 0.00201900576\n"
     ]
    },
    {
     "name": "stderr",
     "output_type": "stream",
     "text": [
      "WARNING : Area ratio value outside of the range in Roskam's book, value clipped\n",
      "WARNING : Looping on wing area with new value equal to [14.31458323]\n"
     ]
    },
    {
     "name": "stdout",
     "output_type": "stream",
     "text": [
      "NL: NLBGS 22 ; 0.369190843 0.000746311862\n",
      "NL: NLBGS Converged\n"
     ]
    },
    {
     "name": "stderr",
     "output_type": "stream",
     "text": [
      "WARNING : Ratio of span on fuselage depth outside of the range in Roskam's book, value clipped\n",
      "WARNING : Area ratio value outside of the range in Roskam's book, value clipped\n",
      "WARNING : Ratio of span on fuselage depth outside of the range in Roskam's book, value clipped\n",
      "WARNING : Area ratio value outside of the range in Roskam's book, value clipped\n",
      "WARNING : Looping on wing area with new value equal to [14.31458297]\n",
      "WARNING : Ratio of span on fuselage depth outside of the range in Roskam's book, value clipped\n",
      "WARNING : Area ratio value outside of the range in Roskam's book, value clipped\n"
     ]
    },
    {
     "name": "stdout",
     "output_type": "stream",
     "text": [
      "NL: NLBGS 1 ; 580.188096 1\n"
     ]
    },
    {
     "name": "stderr",
     "output_type": "stream",
     "text": [
      "WARNING : Ratio of span on fuselage depth outside of the range in Roskam's book, value clipped\n",
      "WARNING : Area ratio value outside of the range in Roskam's book, value clipped\n",
      "WARNING : Looping on wing area with new value equal to [14.49886594]\n",
      "WARNING : Ratio of span on fuselage depth outside of the range in Roskam's book, value clipped\n",
      "WARNING : Area ratio value outside of the range in Roskam's book, value clipped\n"
     ]
    },
    {
     "name": "stdout",
     "output_type": "stream",
     "text": [
      "NL: NLBGS 2 ; 326110.839 562.077783\n"
     ]
    },
    {
     "name": "stderr",
     "output_type": "stream",
     "text": [
      "WARNING : Ratio of span on fuselage depth outside of the range in Roskam's book, value clipped\n",
      "WARNING : Area ratio value outside of the range in Roskam's book, value clipped\n",
      "WARNING : Looping on wing area with new value equal to [14.50612697]\n",
      "WARNING : Ratio of span on fuselage depth outside of the range in Roskam's book, value clipped\n",
      "WARNING : Area ratio value outside of the range in Roskam's book, value clipped\n"
     ]
    },
    {
     "name": "stdout",
     "output_type": "stream",
     "text": [
      "NL: NLBGS 3 ; 71098.9345 122.544628\n"
     ]
    },
    {
     "name": "stderr",
     "output_type": "stream",
     "text": [
      "WARNING : Ratio of span on fuselage depth outside of the range in Roskam's book, value clipped\n",
      "WARNING : Area ratio value outside of the range in Roskam's book, value clipped\n",
      "WARNING : Looping on wing area with new value equal to [14.51935464]\n",
      "WARNING : Ratio of span on fuselage depth outside of the range in Roskam's book, value clipped\n",
      "WARNING : Area ratio value outside of the range in Roskam's book, value clipped\n"
     ]
    },
    {
     "name": "stdout",
     "output_type": "stream",
     "text": [
      "NL: NLBGS 4 ; 75065.2852 129.380947\n"
     ]
    },
    {
     "name": "stderr",
     "output_type": "stream",
     "text": [
      "WARNING : Ratio of span on fuselage depth outside of the range in Roskam's book, value clipped\n",
      "WARNING : Area ratio value outside of the range in Roskam's book, value clipped\n",
      "WARNING : Looping on wing area with new value equal to [14.53702503]\n",
      "WARNING : Ratio of span on fuselage depth outside of the range in Roskam's book, value clipped\n",
      "WARNING : Area ratio value outside of the range in Roskam's book, value clipped\n"
     ]
    },
    {
     "name": "stdout",
     "output_type": "stream",
     "text": [
      "NL: NLBGS 5 ; 6866.54562 11.8350336\n"
     ]
    },
    {
     "name": "stderr",
     "output_type": "stream",
     "text": [
      "WARNING : Ratio of span on fuselage depth outside of the range in Roskam's book, value clipped\n",
      "WARNING : Area ratio value outside of the range in Roskam's book, value clipped\n",
      "WARNING : Looping on wing area with new value equal to [14.54553434]\n",
      "WARNING : Ratio of span on fuselage depth outside of the range in Roskam's book, value clipped\n",
      "WARNING : Area ratio value outside of the range in Roskam's book, value clipped\n"
     ]
    },
    {
     "name": "stdout",
     "output_type": "stream",
     "text": [
      "NL: NLBGS 6 ; 6401.57552 11.0336209\n"
     ]
    },
    {
     "name": "stderr",
     "output_type": "stream",
     "text": [
      "WARNING : Ratio of span on fuselage depth outside of the range in Roskam's book, value clipped\n",
      "WARNING : Area ratio value outside of the range in Roskam's book, value clipped\n",
      "WARNING : Looping on wing area with new value equal to [14.54906874]\n",
      "WARNING : Ratio of span on fuselage depth outside of the range in Roskam's book, value clipped\n",
      "WARNING : Area ratio value outside of the range in Roskam's book, value clipped\n"
     ]
    },
    {
     "name": "stdout",
     "output_type": "stream",
     "text": [
      "NL: NLBGS 7 ; 5263.70215 9.07240633\n"
     ]
    },
    {
     "name": "stderr",
     "output_type": "stream",
     "text": [
      "WARNING : Ratio of span on fuselage depth outside of the range in Roskam's book, value clipped\n",
      "WARNING : Area ratio value outside of the range in Roskam's book, value clipped\n",
      "WARNING : Looping on wing area with new value equal to [14.55134647]\n",
      "WARNING : Ratio of span on fuselage depth outside of the range in Roskam's book, value clipped\n",
      "WARNING : Area ratio value outside of the range in Roskam's book, value clipped\n"
     ]
    },
    {
     "name": "stdout",
     "output_type": "stream",
     "text": [
      "NL: NLBGS 8 ; 1911.16864 3.29405008\n"
     ]
    },
    {
     "name": "stderr",
     "output_type": "stream",
     "text": [
      "WARNING : Ratio of span on fuselage depth outside of the range in Roskam's book, value clipped\n",
      "WARNING : Area ratio value outside of the range in Roskam's book, value clipped\n",
      "WARNING : Looping on wing area with new value equal to [14.55252105]\n",
      "WARNING : Ratio of span on fuselage depth outside of the range in Roskam's book, value clipped\n",
      "WARNING : Area ratio value outside of the range in Roskam's book, value clipped\n"
     ]
    },
    {
     "name": "stdout",
     "output_type": "stream",
     "text": [
      "NL: NLBGS 9 ; 873.151974 1.50494638\n"
     ]
    },
    {
     "name": "stderr",
     "output_type": "stream",
     "text": [
      "WARNING : Ratio of span on fuselage depth outside of the range in Roskam's book, value clipped\n",
      "WARNING : Area ratio value outside of the range in Roskam's book, value clipped\n",
      "WARNING : Looping on wing area with new value equal to [14.553042]\n",
      "WARNING : Ratio of span on fuselage depth outside of the range in Roskam's book, value clipped\n",
      "WARNING : Area ratio value outside of the range in Roskam's book, value clipped\n"
     ]
    },
    {
     "name": "stdout",
     "output_type": "stream",
     "text": [
      "NL: NLBGS 10 ; 519.023274 0.8945776\n"
     ]
    },
    {
     "name": "stderr",
     "output_type": "stream",
     "text": [
      "WARNING : Ratio of span on fuselage depth outside of the range in Roskam's book, value clipped\n",
      "WARNING : Area ratio value outside of the range in Roskam's book, value clipped\n",
      "WARNING : Looping on wing area with new value equal to [14.55328501]\n",
      "WARNING : Ratio of span on fuselage depth outside of the range in Roskam's book, value clipped\n",
      "WARNING : Area ratio value outside of the range in Roskam's book, value clipped\n"
     ]
    },
    {
     "name": "stdout",
     "output_type": "stream",
     "text": [
      "NL: NLBGS 11 ; 235.154943 0.405308114\n"
     ]
    },
    {
     "name": "stderr",
     "output_type": "stream",
     "text": [
      "WARNING : Ratio of span on fuselage depth outside of the range in Roskam's book, value clipped\n",
      "WARNING : Area ratio value outside of the range in Roskam's book, value clipped\n",
      "WARNING : Looping on wing area with new value equal to [14.5533981]\n",
      "WARNING : Ratio of span on fuselage depth outside of the range in Roskam's book, value clipped\n",
      "WARNING : Area ratio value outside of the range in Roskam's book, value clipped\n"
     ]
    },
    {
     "name": "stdout",
     "output_type": "stream",
     "text": [
      "NL: NLBGS 12 ; 98.9959952 0.170627415\n"
     ]
    },
    {
     "name": "stderr",
     "output_type": "stream",
     "text": [
      "WARNING : Ratio of span on fuselage depth outside of the range in Roskam's book, value clipped\n",
      "WARNING : Area ratio value outside of the range in Roskam's book, value clipped\n",
      "WARNING : Looping on wing area with new value equal to [14.55344381]\n",
      "WARNING : Ratio of span on fuselage depth outside of the range in Roskam's book, value clipped\n",
      "WARNING : Area ratio value outside of the range in Roskam's book, value clipped\n"
     ]
    },
    {
     "name": "stdout",
     "output_type": "stream",
     "text": [
      "NL: NLBGS 13 ; 45.4618901 0.0783571577\n"
     ]
    },
    {
     "name": "stderr",
     "output_type": "stream",
     "text": [
      "WARNING : Ratio of span on fuselage depth outside of the range in Roskam's book, value clipped\n",
      "WARNING : Area ratio value outside of the range in Roskam's book, value clipped\n",
      "WARNING : Looping on wing area with new value equal to [14.55346059]\n",
      "WARNING : Ratio of span on fuselage depth outside of the range in Roskam's book, value clipped\n",
      "WARNING : Area ratio value outside of the range in Roskam's book, value clipped\n"
     ]
    },
    {
     "name": "stdout",
     "output_type": "stream",
     "text": [
      "NL: NLBGS 14 ; 18.9463256 0.0326554884\n"
     ]
    },
    {
     "name": "stderr",
     "output_type": "stream",
     "text": [
      "WARNING : Ratio of span on fuselage depth outside of the range in Roskam's book, value clipped\n",
      "WARNING : Area ratio value outside of the range in Roskam's book, value clipped\n",
      "WARNING : Looping on wing area with new value equal to [14.55346614]\n",
      "WARNING : Ratio of span on fuselage depth outside of the range in Roskam's book, value clipped\n",
      "WARNING : Area ratio value outside of the range in Roskam's book, value clipped\n"
     ]
    },
    {
     "name": "stdout",
     "output_type": "stream",
     "text": [
      "NL: NLBGS 15 ; 7.27390401 0.012537148\n"
     ]
    },
    {
     "name": "stderr",
     "output_type": "stream",
     "text": [
      "WARNING : Ratio of span on fuselage depth outside of the range in Roskam's book, value clipped\n",
      "WARNING : Area ratio value outside of the range in Roskam's book, value clipped\n",
      "WARNING : Looping on wing area with new value equal to [14.55346716]\n",
      "WARNING : Ratio of span on fuselage depth outside of the range in Roskam's book, value clipped\n",
      "WARNING : Area ratio value outside of the range in Roskam's book, value clipped\n"
     ]
    },
    {
     "name": "stdout",
     "output_type": "stream",
     "text": [
      "NL: NLBGS 16 ; 2.92692638 0.00504478874\n"
     ]
    },
    {
     "name": "stderr",
     "output_type": "stream",
     "text": [
      "WARNING : Ratio of span on fuselage depth outside of the range in Roskam's book, value clipped\n",
      "WARNING : Area ratio value outside of the range in Roskam's book, value clipped\n",
      "WARNING : Looping on wing area with new value equal to [14.55346686]\n",
      "WARNING : Ratio of span on fuselage depth outside of the range in Roskam's book, value clipped\n",
      "WARNING : Area ratio value outside of the range in Roskam's book, value clipped\n"
     ]
    },
    {
     "name": "stdout",
     "output_type": "stream",
     "text": [
      "NL: NLBGS 17 ; 1.47176117 0.00253669661\n"
     ]
    },
    {
     "name": "stderr",
     "output_type": "stream",
     "text": [
      "WARNING : Ratio of span on fuselage depth outside of the range in Roskam's book, value clipped\n",
      "WARNING : Area ratio value outside of the range in Roskam's book, value clipped\n",
      "WARNING : Looping on wing area with new value equal to [14.55346623]\n",
      "WARNING : Ratio of span on fuselage depth outside of the range in Roskam's book, value clipped\n",
      "WARNING : Area ratio value outside of the range in Roskam's book, value clipped\n"
     ]
    },
    {
     "name": "stdout",
     "output_type": "stream",
     "text": [
      "NL: NLBGS 18 ; 0.581900815 0.00100295201\n"
     ]
    },
    {
     "name": "stderr",
     "output_type": "stream",
     "text": [
      "WARNING : Ratio of span on fuselage depth outside of the range in Roskam's book, value clipped\n",
      "WARNING : Area ratio value outside of the range in Roskam's book, value clipped\n",
      "WARNING : Looping on wing area with new value equal to [14.55346572]\n"
     ]
    },
    {
     "name": "stdout",
     "output_type": "stream",
     "text": [
      "NL: NLBGS 19 ; 0.456372961 0.000786594838\n",
      "NL: NLBGS Converged\n"
     ]
    },
    {
     "name": "stderr",
     "output_type": "stream",
     "text": [
      "WARNING : Ratio of span on fuselage depth outside of the range in Roskam's book, value clipped\n",
      "WARNING : Area ratio value outside of the range in Roskam's book, value clipped\n",
      "WARNING : Ratio of span on fuselage depth outside of the range in Roskam's book, value clipped\n",
      "WARNING : Area ratio value outside of the range in Roskam's book, value clipped\n",
      "WARNING : Looping on wing area with new value equal to [14.55346537]\n",
      "WARNING : Ratio of span on fuselage depth outside of the range in Roskam's book, value clipped\n",
      "WARNING : Area ratio value outside of the range in Roskam's book, value clipped\n"
     ]
    },
    {
     "name": "stdout",
     "output_type": "stream",
     "text": [
      "NL: NLBGS 1 ; 298.214446 1\n"
     ]
    },
    {
     "name": "stderr",
     "output_type": "stream",
     "text": [
      "WARNING : Ratio of span on fuselage depth outside of the range in Roskam's book, value clipped\n",
      "WARNING : Area ratio value outside of the range in Roskam's book, value clipped\n",
      "WARNING : Looping on wing area with new value equal to [14.46043594]\n",
      "WARNING : Ratio of span on fuselage depth outside of the range in Roskam's book, value clipped\n",
      "WARNING : Area ratio value outside of the range in Roskam's book, value clipped\n"
     ]
    },
    {
     "name": "stdout",
     "output_type": "stream",
     "text": [
      "NL: NLBGS 2 ; 142702.345 478.522578\n"
     ]
    },
    {
     "name": "stderr",
     "output_type": "stream",
     "text": [
      "WARNING : Ratio of span on fuselage depth outside of the range in Roskam's book, value clipped\n",
      "WARNING : Area ratio value outside of the range in Roskam's book, value clipped\n",
      "WARNING : Looping on wing area with new value equal to [14.45305706]\n",
      "WARNING : Ratio of span on fuselage depth outside of the range in Roskam's book, value clipped\n",
      "WARNING : Area ratio value outside of the range in Roskam's book, value clipped\n"
     ]
    },
    {
     "name": "stdout",
     "output_type": "stream",
     "text": [
      "NL: NLBGS 3 ; 33401.535 112.005087\n"
     ]
    },
    {
     "name": "stderr",
     "output_type": "stream",
     "text": [
      "WARNING : Ratio of span on fuselage depth outside of the range in Roskam's book, value clipped\n",
      "WARNING : Area ratio value outside of the range in Roskam's book, value clipped\n",
      "WARNING : Looping on wing area with new value equal to [14.44556348]\n",
      "WARNING : Ratio of span on fuselage depth outside of the range in Roskam's book, value clipped\n",
      "WARNING : Area ratio value outside of the range in Roskam's book, value clipped\n"
     ]
    },
    {
     "name": "stdout",
     "output_type": "stream",
     "text": [
      "NL: NLBGS 4 ; 36992.3933 124.046282\n"
     ]
    },
    {
     "name": "stderr",
     "output_type": "stream",
     "text": [
      "WARNING : Ratio of span on fuselage depth outside of the range in Roskam's book, value clipped\n",
      "WARNING : Area ratio value outside of the range in Roskam's book, value clipped\n",
      "WARNING : Looping on wing area with new value equal to [14.43656373]\n",
      "WARNING : Ratio of span on fuselage depth outside of the range in Roskam's book, value clipped\n",
      "WARNING : Area ratio value outside of the range in Roskam's book, value clipped\n"
     ]
    },
    {
     "name": "stdout",
     "output_type": "stream",
     "text": [
      "NL: NLBGS 5 ; 3382.60796 11.3428709\n"
     ]
    },
    {
     "name": "stderr",
     "output_type": "stream",
     "text": [
      "WARNING : Ratio of span on fuselage depth outside of the range in Roskam's book, value clipped\n",
      "WARNING : Area ratio value outside of the range in Roskam's book, value clipped\n",
      "WARNING : Looping on wing area with new value equal to [14.43155488]\n",
      "WARNING : Ratio of span on fuselage depth outside of the range in Roskam's book, value clipped\n",
      "WARNING : Area ratio value outside of the range in Roskam's book, value clipped\n"
     ]
    },
    {
     "name": "stdout",
     "output_type": "stream",
     "text": [
      "NL: NLBGS 6 ; 3266.13259 10.952295\n"
     ]
    },
    {
     "name": "stderr",
     "output_type": "stream",
     "text": [
      "WARNING : Ratio of span on fuselage depth outside of the range in Roskam's book, value clipped\n",
      "WARNING : Area ratio value outside of the range in Roskam's book, value clipped\n",
      "WARNING : Looping on wing area with new value equal to [14.42942036]\n",
      "WARNING : Ratio of span on fuselage depth outside of the range in Roskam's book, value clipped\n",
      "WARNING : Area ratio value outside of the range in Roskam's book, value clipped\n"
     ]
    },
    {
     "name": "stdout",
     "output_type": "stream",
     "text": [
      "NL: NLBGS 7 ; 2569.78639 8.61724313\n"
     ]
    },
    {
     "name": "stderr",
     "output_type": "stream",
     "text": [
      "WARNING : Ratio of span on fuselage depth outside of the range in Roskam's book, value clipped\n",
      "WARNING : Area ratio value outside of the range in Roskam's book, value clipped\n",
      "WARNING : Looping on wing area with new value equal to [14.42821072]\n",
      "WARNING : Ratio of span on fuselage depth outside of the range in Roskam's book, value clipped\n",
      "WARNING : Area ratio value outside of the range in Roskam's book, value clipped\n"
     ]
    },
    {
     "name": "stdout",
     "output_type": "stream",
     "text": [
      "NL: NLBGS 8 ; 1179.51652 3.95526286\n"
     ]
    },
    {
     "name": "stderr",
     "output_type": "stream",
     "text": [
      "WARNING : Ratio of span on fuselage depth outside of the range in Roskam's book, value clipped\n",
      "WARNING : Area ratio value outside of the range in Roskam's book, value clipped\n",
      "WARNING : Looping on wing area with new value equal to [14.4275838]\n",
      "WARNING : Ratio of span on fuselage depth outside of the range in Roskam's book, value clipped\n",
      "WARNING : Area ratio value outside of the range in Roskam's book, value clipped\n"
     ]
    },
    {
     "name": "stdout",
     "output_type": "stream",
     "text": [
      "NL: NLBGS 9 ; 480.120137 1.60998283\n"
     ]
    },
    {
     "name": "stderr",
     "output_type": "stream",
     "text": [
      "WARNING : Ratio of span on fuselage depth outside of the range in Roskam's book, value clipped\n",
      "WARNING : Area ratio value outside of the range in Roskam's book, value clipped\n",
      "WARNING : Looping on wing area with new value equal to [14.42731249]\n",
      "WARNING : Ratio of span on fuselage depth outside of the range in Roskam's book, value clipped\n",
      "WARNING : Area ratio value outside of the range in Roskam's book, value clipped\n"
     ]
    },
    {
     "name": "stdout",
     "output_type": "stream",
     "text": [
      "NL: NLBGS 10 ; 249.548862 0.836810106\n"
     ]
    },
    {
     "name": "stderr",
     "output_type": "stream",
     "text": [
      "WARNING : Ratio of span on fuselage depth outside of the range in Roskam's book, value clipped\n",
      "WARNING : Area ratio value outside of the range in Roskam's book, value clipped\n",
      "WARNING : Looping on wing area with new value equal to [14.42720611]\n",
      "WARNING : Ratio of span on fuselage depth outside of the range in Roskam's book, value clipped\n",
      "WARNING : Area ratio value outside of the range in Roskam's book, value clipped\n"
     ]
    },
    {
     "name": "stdout",
     "output_type": "stream",
     "text": [
      "NL: NLBGS 11 ; 110.655285 0.371059439\n"
     ]
    },
    {
     "name": "stderr",
     "output_type": "stream",
     "text": [
      "WARNING : Ratio of span on fuselage depth outside of the range in Roskam's book, value clipped\n",
      "WARNING : Area ratio value outside of the range in Roskam's book, value clipped\n",
      "WARNING : Looping on wing area with new value equal to [14.42716881]\n",
      "WARNING : Ratio of span on fuselage depth outside of the range in Roskam's book, value clipped\n",
      "WARNING : Area ratio value outside of the range in Roskam's book, value clipped\n"
     ]
    },
    {
     "name": "stdout",
     "output_type": "stream",
     "text": [
      "NL: NLBGS 12 ; 45.8804521 0.153850535\n"
     ]
    },
    {
     "name": "stderr",
     "output_type": "stream",
     "text": [
      "WARNING : Ratio of span on fuselage depth outside of the range in Roskam's book, value clipped\n",
      "WARNING : Area ratio value outside of the range in Roskam's book, value clipped\n",
      "WARNING : Looping on wing area with new value equal to [14.42716154]\n",
      "WARNING : Ratio of span on fuselage depth outside of the range in Roskam's book, value clipped\n",
      "WARNING : Area ratio value outside of the range in Roskam's book, value clipped\n"
     ]
    },
    {
     "name": "stdout",
     "output_type": "stream",
     "text": [
      "NL: NLBGS 13 ; 23.0608064 0.0773296085\n"
     ]
    },
    {
     "name": "stderr",
     "output_type": "stream",
     "text": [
      "WARNING : Ratio of span on fuselage depth outside of the range in Roskam's book, value clipped\n",
      "WARNING : Area ratio value outside of the range in Roskam's book, value clipped\n",
      "WARNING : Looping on wing area with new value equal to [14.42716504]\n",
      "WARNING : Ratio of span on fuselage depth outside of the range in Roskam's book, value clipped\n",
      "WARNING : Area ratio value outside of the range in Roskam's book, value clipped\n"
     ]
    },
    {
     "name": "stdout",
     "output_type": "stream",
     "text": [
      "NL: NLBGS 14 ; 12.694589 0.0425686587\n"
     ]
    },
    {
     "name": "stderr",
     "output_type": "stream",
     "text": [
      "WARNING : Ratio of span on fuselage depth outside of the range in Roskam's book, value clipped\n",
      "WARNING : Area ratio value outside of the range in Roskam's book, value clipped\n",
      "WARNING : Looping on wing area with new value equal to [14.42717052]\n",
      "WARNING : Ratio of span on fuselage depth outside of the range in Roskam's book, value clipped\n",
      "WARNING : Area ratio value outside of the range in Roskam's book, value clipped\n"
     ]
    },
    {
     "name": "stdout",
     "output_type": "stream",
     "text": [
      "NL: NLBGS 15 ; 8.46417128 0.0283828345\n"
     ]
    },
    {
     "name": "stderr",
     "output_type": "stream",
     "text": [
      "WARNING : Ratio of span on fuselage depth outside of the range in Roskam's book, value clipped\n",
      "WARNING : Area ratio value outside of the range in Roskam's book, value clipped\n",
      "WARNING : Looping on wing area with new value equal to [14.42717532]\n",
      "WARNING : Ratio of span on fuselage depth outside of the range in Roskam's book, value clipped\n",
      "WARNING : Area ratio value outside of the range in Roskam's book, value clipped\n"
     ]
    },
    {
     "name": "stdout",
     "output_type": "stream",
     "text": [
      "NL: NLBGS 16 ; 5.49795887 0.0184362594\n"
     ]
    },
    {
     "name": "stderr",
     "output_type": "stream",
     "text": [
      "WARNING : Ratio of span on fuselage depth outside of the range in Roskam's book, value clipped\n",
      "WARNING : Area ratio value outside of the range in Roskam's book, value clipped\n",
      "WARNING : Looping on wing area with new value equal to [14.42717891]\n",
      "WARNING : Ratio of span on fuselage depth outside of the range in Roskam's book, value clipped\n",
      "WARNING : Area ratio value outside of the range in Roskam's book, value clipped\n"
     ]
    },
    {
     "name": "stdout",
     "output_type": "stream",
     "text": [
      "NL: NLBGS 17 ; 3.48441129 0.0116842471\n"
     ]
    },
    {
     "name": "stderr",
     "output_type": "stream",
     "text": [
      "WARNING : Ratio of span on fuselage depth outside of the range in Roskam's book, value clipped\n",
      "WARNING : Area ratio value outside of the range in Roskam's book, value clipped\n",
      "WARNING : Looping on wing area with new value equal to [14.42718099]\n",
      "WARNING : Ratio of span on fuselage depth outside of the range in Roskam's book, value clipped\n",
      "WARNING : Area ratio value outside of the range in Roskam's book, value clipped\n"
     ]
    },
    {
     "name": "stdout",
     "output_type": "stream",
     "text": [
      "NL: NLBGS 18 ; 2.02154746 0.00677883814\n"
     ]
    },
    {
     "name": "stderr",
     "output_type": "stream",
     "text": [
      "WARNING : Ratio of span on fuselage depth outside of the range in Roskam's book, value clipped\n",
      "WARNING : Area ratio value outside of the range in Roskam's book, value clipped\n",
      "WARNING : Looping on wing area with new value equal to [14.42718238]\n",
      "WARNING : Ratio of span on fuselage depth outside of the range in Roskam's book, value clipped\n",
      "WARNING : Area ratio value outside of the range in Roskam's book, value clipped\n"
     ]
    },
    {
     "name": "stdout",
     "output_type": "stream",
     "text": [
      "NL: NLBGS 19 ; 1.38882117 0.00465712239\n"
     ]
    },
    {
     "name": "stderr",
     "output_type": "stream",
     "text": [
      "WARNING : Ratio of span on fuselage depth outside of the range in Roskam's book, value clipped\n",
      "WARNING : Area ratio value outside of the range in Roskam's book, value clipped\n",
      "WARNING : Looping on wing area with new value equal to [14.42718317]\n",
      "WARNING : Ratio of span on fuselage depth outside of the range in Roskam's book, value clipped\n",
      "WARNING : Area ratio value outside of the range in Roskam's book, value clipped\n"
     ]
    },
    {
     "name": "stdout",
     "output_type": "stream",
     "text": [
      "NL: NLBGS 20 ; 0.540818545 0.00181352229\n"
     ]
    },
    {
     "name": "stderr",
     "output_type": "stream",
     "text": [
      "WARNING : Ratio of span on fuselage depth outside of the range in Roskam's book, value clipped\n",
      "WARNING : Area ratio value outside of the range in Roskam's book, value clipped\n",
      "WARNING : Looping on wing area with new value equal to [14.42718358]\n",
      "WARNING : Ratio of span on fuselage depth outside of the range in Roskam's book, value clipped\n",
      "WARNING : Area ratio value outside of the range in Roskam's book, value clipped\n"
     ]
    },
    {
     "name": "stdout",
     "output_type": "stream",
     "text": [
      "NL: NLBGS 21 ; 0.358473052 0.00120206468\n"
     ]
    },
    {
     "name": "stderr",
     "output_type": "stream",
     "text": [
      "WARNING : Ratio of span on fuselage depth outside of the range in Roskam's book, value clipped\n",
      "WARNING : Area ratio value outside of the range in Roskam's book, value clipped\n",
      "WARNING : Looping on wing area with new value equal to [14.42718378]\n"
     ]
    },
    {
     "name": "stdout",
     "output_type": "stream",
     "text": [
      "NL: NLBGS 22 ; 0.177555677 0.000595395961\n",
      "NL: NLBGS Converged\n"
     ]
    },
    {
     "name": "stderr",
     "output_type": "stream",
     "text": [
      "WARNING : Area ratio value outside of the range in Roskam's book, value clipped\n",
      "WARNING : Area ratio value outside of the range in Roskam's book, value clipped\n",
      "WARNING : Looping on wing area with new value equal to [14.42718389]\n",
      "WARNING : Area ratio value outside of the range in Roskam's book, value clipped\n"
     ]
    },
    {
     "name": "stdout",
     "output_type": "stream",
     "text": [
      "NL: NLBGS 1 ; 412.112654 1\n"
     ]
    },
    {
     "name": "stderr",
     "output_type": "stream",
     "text": [
      "WARNING : Area ratio value outside of the range in Roskam's book, value clipped\n",
      "WARNING : Looping on wing area with new value equal to [14.28897277]\n",
      "WARNING : Area ratio value outside of the range in Roskam's book, value clipped\n"
     ]
    },
    {
     "name": "stdout",
     "output_type": "stream",
     "text": [
      "NL: NLBGS 2 ; 276894.036 671.889187\n"
     ]
    },
    {
     "name": "stderr",
     "output_type": "stream",
     "text": [
      "WARNING : Area ratio value outside of the range in Roskam's book, value clipped\n",
      "WARNING : Looping on wing area with new value equal to [14.29064613]\n",
      "WARNING : Area ratio value outside of the range in Roskam's book, value clipped\n"
     ]
    },
    {
     "name": "stdout",
     "output_type": "stream",
     "text": [
      "NL: NLBGS 3 ; 47457.7195 115.157152\n"
     ]
    },
    {
     "name": "stderr",
     "output_type": "stream",
     "text": [
      "WARNING : Area ratio value outside of the range in Roskam's book, value clipped\n",
      "WARNING : Looping on wing area with new value equal to [14.28724536]\n",
      "WARNING : Area ratio value outside of the range in Roskam's book, value clipped\n"
     ]
    },
    {
     "name": "stdout",
     "output_type": "stream",
     "text": [
      "NL: NLBGS 4 ; 58952.6703 143.049891\n"
     ]
    },
    {
     "name": "stderr",
     "output_type": "stream",
     "text": [
      "WARNING : Area ratio value outside of the range in Roskam's book, value clipped\n",
      "WARNING : Looping on wing area with new value equal to [14.27639979]\n",
      "WARNING : Area ratio value outside of the range in Roskam's book, value clipped\n"
     ]
    },
    {
     "name": "stdout",
     "output_type": "stream",
     "text": [
      "NL: NLBGS 5 ; 7802.67211 18.9333475\n"
     ]
    },
    {
     "name": "stderr",
     "output_type": "stream",
     "text": [
      "WARNING : Area ratio value outside of the range in Roskam's book, value clipped\n",
      "WARNING : Looping on wing area with new value equal to [14.26929114]\n",
      "WARNING : Area ratio value outside of the range in Roskam's book, value clipped\n"
     ]
    },
    {
     "name": "stdout",
     "output_type": "stream",
     "text": [
      "NL: NLBGS 6 ; 3829.5655 9.29252101\n"
     ]
    },
    {
     "name": "stderr",
     "output_type": "stream",
     "text": [
      "WARNING : Area ratio value outside of the range in Roskam's book, value clipped\n",
      "WARNING : Looping on wing area with new value equal to [14.26628781]\n",
      "WARNING : Area ratio value outside of the range in Roskam's book, value clipped\n"
     ]
    },
    {
     "name": "stdout",
     "output_type": "stream",
     "text": [
      "NL: NLBGS 7 ; 3423.91455 8.30820047\n"
     ]
    },
    {
     "name": "stderr",
     "output_type": "stream",
     "text": [
      "WARNING : Area ratio value outside of the range in Roskam's book, value clipped\n",
      "WARNING : Looping on wing area with new value equal to [14.26462189]\n",
      "WARNING : Area ratio value outside of the range in Roskam's book, value clipped\n"
     ]
    },
    {
     "name": "stdout",
     "output_type": "stream",
     "text": [
      "NL: NLBGS 8 ; 1965.66383 4.76972451\n"
     ]
    },
    {
     "name": "stderr",
     "output_type": "stream",
     "text": [
      "WARNING : Area ratio value outside of the range in Roskam's book, value clipped\n",
      "WARNING : Looping on wing area with new value equal to [14.26368527]\n",
      "WARNING : Area ratio value outside of the range in Roskam's book, value clipped\n"
     ]
    },
    {
     "name": "stdout",
     "output_type": "stream",
     "text": [
      "NL: NLBGS 9 ; 761.818194 1.84856783\n"
     ]
    },
    {
     "name": "stderr",
     "output_type": "stream",
     "text": [
      "WARNING : Area ratio value outside of the range in Roskam's book, value clipped\n",
      "WARNING : Looping on wing area with new value equal to [14.26324033]\n",
      "WARNING : Area ratio value outside of the range in Roskam's book, value clipped\n"
     ]
    },
    {
     "name": "stdout",
     "output_type": "stream",
     "text": [
      "NL: NLBGS 10 ; 381.261375 0.925138724\n"
     ]
    },
    {
     "name": "stderr",
     "output_type": "stream",
     "text": [
      "WARNING : Area ratio value outside of the range in Roskam's book, value clipped\n",
      "WARNING : Looping on wing area with new value equal to [14.26305786]\n",
      "WARNING : Area ratio value outside of the range in Roskam's book, value clipped\n"
     ]
    },
    {
     "name": "stdout",
     "output_type": "stream",
     "text": [
      "NL: NLBGS 11 ; 184.240288 0.447062923\n"
     ]
    },
    {
     "name": "stderr",
     "output_type": "stream",
     "text": [
      "WARNING : Area ratio value outside of the range in Roskam's book, value clipped\n",
      "WARNING : Looping on wing area with new value equal to [14.26298901]\n",
      "WARNING : Area ratio value outside of the range in Roskam's book, value clipped\n"
     ]
    },
    {
     "name": "stdout",
     "output_type": "stream",
     "text": [
      "NL: NLBGS 12 ; 77.4664392 0.18797394\n"
     ]
    },
    {
     "name": "stderr",
     "output_type": "stream",
     "text": [
      "WARNING : Area ratio value outside of the range in Roskam's book, value clipped\n",
      "WARNING : Looping on wing area with new value equal to [14.26296953]\n",
      "WARNING : Area ratio value outside of the range in Roskam's book, value clipped\n"
     ]
    },
    {
     "name": "stdout",
     "output_type": "stream",
     "text": [
      "NL: NLBGS 13 ; 36.3171878 0.0881244178\n"
     ]
    },
    {
     "name": "stderr",
     "output_type": "stream",
     "text": [
      "WARNING : Area ratio value outside of the range in Roskam's book, value clipped\n",
      "WARNING : Looping on wing area with new value equal to [14.26296986]\n",
      "WARNING : Area ratio value outside of the range in Roskam's book, value clipped\n"
     ]
    },
    {
     "name": "stdout",
     "output_type": "stream",
     "text": [
      "NL: NLBGS 14 ; 20.2893654 0.0492325706\n"
     ]
    },
    {
     "name": "stderr",
     "output_type": "stream",
     "text": [
      "WARNING : Area ratio value outside of the range in Roskam's book, value clipped\n",
      "WARNING : Looping on wing area with new value equal to [14.2629761]\n",
      "WARNING : Area ratio value outside of the range in Roskam's book, value clipped\n"
     ]
    },
    {
     "name": "stdout",
     "output_type": "stream",
     "text": [
      "NL: NLBGS 15 ; 12.4675385 0.0302527436\n"
     ]
    },
    {
     "name": "stderr",
     "output_type": "stream",
     "text": [
      "WARNING : Area ratio value outside of the range in Roskam's book, value clipped\n",
      "WARNING : Looping on wing area with new value equal to [14.26298235]\n",
      "WARNING : Area ratio value outside of the range in Roskam's book, value clipped\n"
     ]
    },
    {
     "name": "stdout",
     "output_type": "stream",
     "text": [
      "NL: NLBGS 16 ; 8.53291664 0.0207053012\n"
     ]
    },
    {
     "name": "stderr",
     "output_type": "stream",
     "text": [
      "WARNING : Area ratio value outside of the range in Roskam's book, value clipped\n",
      "WARNING : Looping on wing area with new value equal to [14.26298734]\n",
      "WARNING : Area ratio value outside of the range in Roskam's book, value clipped\n"
     ]
    },
    {
     "name": "stdout",
     "output_type": "stream",
     "text": [
      "NL: NLBGS 17 ; 5.40354017 0.0131118036\n"
     ]
    },
    {
     "name": "stderr",
     "output_type": "stream",
     "text": [
      "WARNING : Area ratio value outside of the range in Roskam's book, value clipped\n",
      "WARNING : Looping on wing area with new value equal to [14.26299046]\n",
      "WARNING : Area ratio value outside of the range in Roskam's book, value clipped\n"
     ]
    },
    {
     "name": "stdout",
     "output_type": "stream",
     "text": [
      "NL: NLBGS 18 ; 3.2892493 0.00798143241\n"
     ]
    },
    {
     "name": "stderr",
     "output_type": "stream",
     "text": [
      "WARNING : Area ratio value outside of the range in Roskam's book, value clipped\n",
      "WARNING : Looping on wing area with new value equal to [14.26299254]\n",
      "WARNING : Area ratio value outside of the range in Roskam's book, value clipped\n"
     ]
    },
    {
     "name": "stdout",
     "output_type": "stream",
     "text": [
      "NL: NLBGS 19 ; 1.94182248 0.00471187298\n"
     ]
    },
    {
     "name": "stderr",
     "output_type": "stream",
     "text": [
      "WARNING : Area ratio value outside of the range in Roskam's book, value clipped\n",
      "WARNING : Looping on wing area with new value equal to [14.26299349]\n",
      "WARNING : Area ratio value outside of the range in Roskam's book, value clipped\n"
     ]
    },
    {
     "name": "stdout",
     "output_type": "stream",
     "text": [
      "NL: NLBGS 20 ; 1.13765079 0.0027605335\n"
     ]
    },
    {
     "name": "stderr",
     "output_type": "stream",
     "text": [
      "WARNING : Area ratio value outside of the range in Roskam's book, value clipped\n",
      "WARNING : Looping on wing area with new value equal to [14.26299415]\n",
      "WARNING : Area ratio value outside of the range in Roskam's book, value clipped\n"
     ]
    },
    {
     "name": "stdout",
     "output_type": "stream",
     "text": [
      "NL: NLBGS 21 ; 0.491902961 0.00119361285\n"
     ]
    },
    {
     "name": "stderr",
     "output_type": "stream",
     "text": [
      "WARNING : Area ratio value outside of the range in Roskam's book, value clipped\n",
      "WARNING : Looping on wing area with new value equal to [14.26299446]\n"
     ]
    },
    {
     "name": "stdout",
     "output_type": "stream",
     "text": [
      "NL: NLBGS 22 ; 0.245604908 0.00059596546\n",
      "NL: NLBGS Converged\n"
     ]
    },
    {
     "name": "stderr",
     "output_type": "stream",
     "text": [
      "WARNING : Ratio of span on fuselage depth outside of the range in Roskam's book, value clipped\n",
      "WARNING : Area ratio value outside of the range in Roskam's book, value clipped\n",
      "WARNING : Ratio of span on fuselage depth outside of the range in Roskam's book, value clipped\n",
      "WARNING : Area ratio value outside of the range in Roskam's book, value clipped\n",
      "WARNING : Looping on wing area with new value equal to [14.2629946]\n",
      "WARNING : Ratio of span on fuselage depth outside of the range in Roskam's book, value clipped\n",
      "WARNING : Area ratio value outside of the range in Roskam's book, value clipped\n"
     ]
    },
    {
     "name": "stdout",
     "output_type": "stream",
     "text": [
      "NL: NLBGS 1 ; 186.970479 1\n"
     ]
    },
    {
     "name": "stderr",
     "output_type": "stream",
     "text": [
      "WARNING : Ratio of span on fuselage depth outside of the range in Roskam's book, value clipped\n",
      "WARNING : Area ratio value outside of the range in Roskam's book, value clipped\n",
      "WARNING : Looping on wing area with new value equal to [14.32705779]\n",
      "WARNING : Ratio of span on fuselage depth outside of the range in Roskam's book, value clipped\n",
      "WARNING : Area ratio value outside of the range in Roskam's book, value clipped\n"
     ]
    },
    {
     "name": "stdout",
     "output_type": "stream",
     "text": [
      "NL: NLBGS 2 ; 141610.025 757.392425\n"
     ]
    },
    {
     "name": "stderr",
     "output_type": "stream",
     "text": [
      "WARNING : Ratio of span on fuselage depth outside of the range in Roskam's book, value clipped\n",
      "WARNING : Area ratio value outside of the range in Roskam's book, value clipped\n",
      "WARNING : Looping on wing area with new value equal to [14.32396342]\n",
      "WARNING : Ratio of span on fuselage depth outside of the range in Roskam's book, value clipped\n",
      "WARNING : Area ratio value outside of the range in Roskam's book, value clipped\n"
     ]
    },
    {
     "name": "stdout",
     "output_type": "stream",
     "text": [
      "NL: NLBGS 3 ; 22110.983 118.25922\n"
     ]
    },
    {
     "name": "stderr",
     "output_type": "stream",
     "text": [
      "WARNING : Ratio of span on fuselage depth outside of the range in Roskam's book, value clipped\n",
      "WARNING : Area ratio value outside of the range in Roskam's book, value clipped\n",
      "WARNING : Looping on wing area with new value equal to [14.32483942]\n",
      "WARNING : Ratio of span on fuselage depth outside of the range in Roskam's book, value clipped\n",
      "WARNING : Area ratio value outside of the range in Roskam's book, value clipped\n"
     ]
    },
    {
     "name": "stdout",
     "output_type": "stream",
     "text": [
      "NL: NLBGS 4 ; 29150.089 155.907441\n"
     ]
    },
    {
     "name": "stderr",
     "output_type": "stream",
     "text": [
      "WARNING : Ratio of span on fuselage depth outside of the range in Roskam's book, value clipped\n",
      "WARNING : Area ratio value outside of the range in Roskam's book, value clipped\n",
      "WARNING : Looping on wing area with new value equal to [14.32992308]\n",
      "WARNING : Ratio of span on fuselage depth outside of the range in Roskam's book, value clipped\n",
      "WARNING : Area ratio value outside of the range in Roskam's book, value clipped\n"
     ]
    },
    {
     "name": "stdout",
     "output_type": "stream",
     "text": [
      "NL: NLBGS 5 ; 1958.06228 10.4725745\n"
     ]
    },
    {
     "name": "stderr",
     "output_type": "stream",
     "text": [
      "WARNING : Ratio of span on fuselage depth outside of the range in Roskam's book, value clipped\n",
      "WARNING : Area ratio value outside of the range in Roskam's book, value clipped\n",
      "WARNING : Looping on wing area with new value equal to [14.33309102]\n",
      "WARNING : Ratio of span on fuselage depth outside of the range in Roskam's book, value clipped\n",
      "WARNING : Area ratio value outside of the range in Roskam's book, value clipped\n"
     ]
    },
    {
     "name": "stdout",
     "output_type": "stream",
     "text": [
      "NL: NLBGS 6 ; 1769.64416 9.46483191\n"
     ]
    },
    {
     "name": "stderr",
     "output_type": "stream",
     "text": [
      "WARNING : Ratio of span on fuselage depth outside of the range in Roskam's book, value clipped\n",
      "WARNING : Area ratio value outside of the range in Roskam's book, value clipped\n",
      "WARNING : Looping on wing area with new value equal to [14.33442746]\n",
      "WARNING : Ratio of span on fuselage depth outside of the range in Roskam's book, value clipped\n",
      "WARNING : Area ratio value outside of the range in Roskam's book, value clipped\n"
     ]
    },
    {
     "name": "stdout",
     "output_type": "stream",
     "text": [
      "NL: NLBGS 7 ; 1739.42254 9.30319345\n"
     ]
    },
    {
     "name": "stderr",
     "output_type": "stream",
     "text": [
      "WARNING : Ratio of span on fuselage depth outside of the range in Roskam's book, value clipped\n",
      "WARNING : Area ratio value outside of the range in Roskam's book, value clipped\n",
      "WARNING : Looping on wing area with new value equal to [14.33524409]\n",
      "WARNING : Ratio of span on fuselage depth outside of the range in Roskam's book, value clipped\n",
      "WARNING : Area ratio value outside of the range in Roskam's book, value clipped\n"
     ]
    },
    {
     "name": "stdout",
     "output_type": "stream",
     "text": [
      "NL: NLBGS 8 ; 932.494601 4.98738947\n"
     ]
    },
    {
     "name": "stderr",
     "output_type": "stream",
     "text": [
      "WARNING : Ratio of span on fuselage depth outside of the range in Roskam's book, value clipped\n",
      "WARNING : Area ratio value outside of the range in Roskam's book, value clipped\n",
      "WARNING : Looping on wing area with new value equal to [14.33571839]\n",
      "WARNING : Ratio of span on fuselage depth outside of the range in Roskam's book, value clipped\n",
      "WARNING : Area ratio value outside of the range in Roskam's book, value clipped\n"
     ]
    },
    {
     "name": "stdout",
     "output_type": "stream",
     "text": [
      "NL: NLBGS 9 ; 360.089773 1.92591779\n"
     ]
    },
    {
     "name": "stderr",
     "output_type": "stream",
     "text": [
      "WARNING : Ratio of span on fuselage depth outside of the range in Roskam's book, value clipped\n",
      "WARNING : Area ratio value outside of the range in Roskam's book, value clipped\n",
      "WARNING : Looping on wing area with new value equal to [14.33594799]\n",
      "WARNING : Ratio of span on fuselage depth outside of the range in Roskam's book, value clipped\n",
      "WARNING : Area ratio value outside of the range in Roskam's book, value clipped\n"
     ]
    },
    {
     "name": "stdout",
     "output_type": "stream",
     "text": [
      "NL: NLBGS 10 ; 197.271981 1.05509694\n"
     ]
    },
    {
     "name": "stderr",
     "output_type": "stream",
     "text": [
      "WARNING : Ratio of span on fuselage depth outside of the range in Roskam's book, value clipped\n",
      "WARNING : Area ratio value outside of the range in Roskam's book, value clipped\n",
      "WARNING : Looping on wing area with new value equal to [14.33604966]\n",
      "WARNING : Ratio of span on fuselage depth outside of the range in Roskam's book, value clipped\n",
      "WARNING : Area ratio value outside of the range in Roskam's book, value clipped\n"
     ]
    },
    {
     "name": "stdout",
     "output_type": "stream",
     "text": [
      "NL: NLBGS 11 ; 99.112511 0.530097111\n"
     ]
    },
    {
     "name": "stderr",
     "output_type": "stream",
     "text": [
      "WARNING : Ratio of span on fuselage depth outside of the range in Roskam's book, value clipped\n",
      "WARNING : Area ratio value outside of the range in Roskam's book, value clipped\n",
      "WARNING : Looping on wing area with new value equal to [14.33609386]\n",
      "WARNING : Ratio of span on fuselage depth outside of the range in Roskam's book, value clipped\n",
      "WARNING : Area ratio value outside of the range in Roskam's book, value clipped\n"
     ]
    },
    {
     "name": "stdout",
     "output_type": "stream",
     "text": [
      "NL: NLBGS 12 ; 42.4498194 0.227040223\n"
     ]
    },
    {
     "name": "stderr",
     "output_type": "stream",
     "text": [
      "WARNING : Ratio of span on fuselage depth outside of the range in Roskam's book, value clipped\n",
      "WARNING : Area ratio value outside of the range in Roskam's book, value clipped\n",
      "WARNING : Looping on wing area with new value equal to [14.33611034]\n",
      "WARNING : Ratio of span on fuselage depth outside of the range in Roskam's book, value clipped\n",
      "WARNING : Area ratio value outside of the range in Roskam's book, value clipped\n"
     ]
    },
    {
     "name": "stdout",
     "output_type": "stream",
     "text": [
      "NL: NLBGS 13 ; 18.8100305 0.10060428\n"
     ]
    },
    {
     "name": "stderr",
     "output_type": "stream",
     "text": [
      "WARNING : Ratio of span on fuselage depth outside of the range in Roskam's book, value clipped\n",
      "WARNING : Area ratio value outside of the range in Roskam's book, value clipped\n",
      "WARNING : Looping on wing area with new value equal to [14.3361143]\n",
      "WARNING : Ratio of span on fuselage depth outside of the range in Roskam's book, value clipped\n",
      "WARNING : Area ratio value outside of the range in Roskam's book, value clipped\n"
     ]
    },
    {
     "name": "stdout",
     "output_type": "stream",
     "text": [
      "NL: NLBGS 14 ; 9.08396515 0.0485850236\n"
     ]
    },
    {
     "name": "stderr",
     "output_type": "stream",
     "text": [
      "WARNING : Ratio of span on fuselage depth outside of the range in Roskam's book, value clipped\n",
      "WARNING : Area ratio value outside of the range in Roskam's book, value clipped\n",
      "WARNING : Looping on wing area with new value equal to [14.3361136]\n",
      "WARNING : Ratio of span on fuselage depth outside of the range in Roskam's book, value clipped\n",
      "WARNING : Area ratio value outside of the range in Roskam's book, value clipped\n"
     ]
    },
    {
     "name": "stdout",
     "output_type": "stream",
     "text": [
      "NL: NLBGS 15 ; 4.65829701 0.0249146123\n"
     ]
    },
    {
     "name": "stderr",
     "output_type": "stream",
     "text": [
      "WARNING : Ratio of span on fuselage depth outside of the range in Roskam's book, value clipped\n",
      "WARNING : Area ratio value outside of the range in Roskam's book, value clipped\n",
      "WARNING : Looping on wing area with new value equal to [14.33611188]\n",
      "WARNING : Ratio of span on fuselage depth outside of the range in Roskam's book, value clipped\n",
      "WARNING : Area ratio value outside of the range in Roskam's book, value clipped\n"
     ]
    },
    {
     "name": "stdout",
     "output_type": "stream",
     "text": [
      "NL: NLBGS 16 ; 2.80636055 0.0150096452\n"
     ]
    },
    {
     "name": "stderr",
     "output_type": "stream",
     "text": [
      "WARNING : Ratio of span on fuselage depth outside of the range in Roskam's book, value clipped\n",
      "WARNING : Area ratio value outside of the range in Roskam's book, value clipped\n",
      "WARNING : Looping on wing area with new value equal to [14.33611022]\n",
      "WARNING : Ratio of span on fuselage depth outside of the range in Roskam's book, value clipped\n",
      "WARNING : Area ratio value outside of the range in Roskam's book, value clipped\n"
     ]
    },
    {
     "name": "stdout",
     "output_type": "stream",
     "text": [
      "NL: NLBGS 17 ; 2.0994233 0.0112286352\n"
     ]
    },
    {
     "name": "stderr",
     "output_type": "stream",
     "text": [
      "WARNING : Ratio of span on fuselage depth outside of the range in Roskam's book, value clipped\n",
      "WARNING : Area ratio value outside of the range in Roskam's book, value clipped\n",
      "WARNING : Looping on wing area with new value equal to [14.33610919]\n",
      "WARNING : Ratio of span on fuselage depth outside of the range in Roskam's book, value clipped\n",
      "WARNING : Area ratio value outside of the range in Roskam's book, value clipped\n"
     ]
    },
    {
     "name": "stdout",
     "output_type": "stream",
     "text": [
      "NL: NLBGS 18 ; 1.40057254 0.00749087525\n"
     ]
    },
    {
     "name": "stderr",
     "output_type": "stream",
     "text": [
      "WARNING : Ratio of span on fuselage depth outside of the range in Roskam's book, value clipped\n",
      "WARNING : Area ratio value outside of the range in Roskam's book, value clipped\n",
      "WARNING : Looping on wing area with new value equal to [14.33610834]\n",
      "WARNING : Ratio of span on fuselage depth outside of the range in Roskam's book, value clipped\n",
      "WARNING : Area ratio value outside of the range in Roskam's book, value clipped\n"
     ]
    },
    {
     "name": "stdout",
     "output_type": "stream",
     "text": [
      "NL: NLBGS 19 ; 0.995127058 0.00532237528\n"
     ]
    },
    {
     "name": "stderr",
     "output_type": "stream",
     "text": [
      "WARNING : Ratio of span on fuselage depth outside of the range in Roskam's book, value clipped\n",
      "WARNING : Area ratio value outside of the range in Roskam's book, value clipped\n",
      "WARNING : Looping on wing area with new value equal to [14.33610783]\n",
      "WARNING : Ratio of span on fuselage depth outside of the range in Roskam's book, value clipped\n",
      "WARNING : Area ratio value outside of the range in Roskam's book, value clipped\n"
     ]
    },
    {
     "name": "stdout",
     "output_type": "stream",
     "text": [
      "NL: NLBGS 20 ; 0.326767881 0.00174769772\n"
     ]
    },
    {
     "name": "stderr",
     "output_type": "stream",
     "text": [
      "WARNING : Ratio of span on fuselage depth outside of the range in Roskam's book, value clipped\n",
      "WARNING : Area ratio value outside of the range in Roskam's book, value clipped\n",
      "WARNING : Looping on wing area with new value equal to [14.33610755]\n",
      "WARNING : Ratio of span on fuselage depth outside of the range in Roskam's book, value clipped\n",
      "WARNING : Area ratio value outside of the range in Roskam's book, value clipped\n"
     ]
    },
    {
     "name": "stdout",
     "output_type": "stream",
     "text": [
      "NL: NLBGS 21 ; 0.24461359 0.0013083006\n"
     ]
    },
    {
     "name": "stderr",
     "output_type": "stream",
     "text": [
      "WARNING : Ratio of span on fuselage depth outside of the range in Roskam's book, value clipped\n",
      "WARNING : Area ratio value outside of the range in Roskam's book, value clipped\n",
      "WARNING : Looping on wing area with new value equal to [14.33610741]\n"
     ]
    },
    {
     "name": "stdout",
     "output_type": "stream",
     "text": [
      "NL: NLBGS 22 ; 0.127827601 0.000683677987\n",
      "NL: NLBGS Converged\n"
     ]
    },
    {
     "name": "stderr",
     "output_type": "stream",
     "text": [
      "WARNING : Ratio of span on fuselage depth outside of the range in Roskam's book, value clipped\n",
      "WARNING : Area ratio value outside of the range in Roskam's book, value clipped\n",
      "WARNING : Ratio of span on fuselage depth outside of the range in Roskam's book, value clipped\n",
      "WARNING : Area ratio value outside of the range in Roskam's book, value clipped\n",
      "WARNING : Looping on wing area with new value equal to [14.33610733]\n",
      "WARNING : Ratio of span on fuselage depth outside of the range in Roskam's book, value clipped\n",
      "WARNING : Area ratio value outside of the range in Roskam's book, value clipped\n"
     ]
    },
    {
     "name": "stdout",
     "output_type": "stream",
     "text": [
      "NL: NLBGS 1 ; 55.3354917 1\n"
     ]
    },
    {
     "name": "stderr",
     "output_type": "stream",
     "text": [
      "WARNING : Ratio of span on fuselage depth outside of the range in Roskam's book, value clipped\n",
      "WARNING : Area ratio value outside of the range in Roskam's book, value clipped\n",
      "WARNING : Looping on wing area with new value equal to [14.35448915]\n",
      "WARNING : Ratio of span on fuselage depth outside of the range in Roskam's book, value clipped\n",
      "WARNING : Area ratio value outside of the range in Roskam's book, value clipped\n"
     ]
    },
    {
     "name": "stdout",
     "output_type": "stream",
     "text": [
      "NL: NLBGS 2 ; 37100.891 670.471877\n"
     ]
    },
    {
     "name": "stderr",
     "output_type": "stream",
     "text": [
      "WARNING : Ratio of span on fuselage depth outside of the range in Roskam's book, value clipped\n",
      "WARNING : Area ratio value outside of the range in Roskam's book, value clipped\n",
      "WARNING : Looping on wing area with new value equal to [14.35427776]\n",
      "WARNING : Ratio of span on fuselage depth outside of the range in Roskam's book, value clipped\n",
      "WARNING : Area ratio value outside of the range in Roskam's book, value clipped\n"
     ]
    },
    {
     "name": "stdout",
     "output_type": "stream",
     "text": [
      "NL: NLBGS 3 ; 6399.57037 115.650375\n"
     ]
    },
    {
     "name": "stderr",
     "output_type": "stream",
     "text": [
      "WARNING : Ratio of span on fuselage depth outside of the range in Roskam's book, value clipped\n",
      "WARNING : Area ratio value outside of the range in Roskam's book, value clipped\n",
      "WARNING : Looping on wing area with new value equal to [14.35485825]\n",
      "WARNING : Ratio of span on fuselage depth outside of the range in Roskam's book, value clipped\n",
      "WARNING : Area ratio value outside of the range in Roskam's book, value clipped\n"
     ]
    },
    {
     "name": "stdout",
     "output_type": "stream",
     "text": [
      "NL: NLBGS 4 ; 7960.76554 143.863645\n"
     ]
    },
    {
     "name": "stderr",
     "output_type": "stream",
     "text": [
      "WARNING : Ratio of span on fuselage depth outside of the range in Roskam's book, value clipped\n",
      "WARNING : Area ratio value outside of the range in Roskam's book, value clipped\n",
      "WARNING : Looping on wing area with new value equal to [14.35638155]\n",
      "WARNING : Ratio of span on fuselage depth outside of the range in Roskam's book, value clipped\n",
      "WARNING : Area ratio value outside of the range in Roskam's book, value clipped\n"
     ]
    },
    {
     "name": "stdout",
     "output_type": "stream",
     "text": [
      "NL: NLBGS 5 ; 509.900533 9.21471044\n"
     ]
    },
    {
     "name": "stderr",
     "output_type": "stream",
     "text": [
      "WARNING : Ratio of span on fuselage depth outside of the range in Roskam's book, value clipped\n",
      "WARNING : Area ratio value outside of the range in Roskam's book, value clipped\n",
      "WARNING : Looping on wing area with new value equal to [14.35728683]\n",
      "WARNING : Ratio of span on fuselage depth outside of the range in Roskam's book, value clipped\n",
      "WARNING : Area ratio value outside of the range in Roskam's book, value clipped\n"
     ]
    },
    {
     "name": "stdout",
     "output_type": "stream",
     "text": [
      "NL: NLBGS 6 ; 534.826022 9.6651535\n"
     ]
    },
    {
     "name": "stderr",
     "output_type": "stream",
     "text": [
      "WARNING : Ratio of span on fuselage depth outside of the range in Roskam's book, value clipped\n",
      "WARNING : Area ratio value outside of the range in Roskam's book, value clipped\n",
      "WARNING : Looping on wing area with new value equal to [14.35766352]\n",
      "WARNING : Ratio of span on fuselage depth outside of the range in Roskam's book, value clipped\n",
      "WARNING : Area ratio value outside of the range in Roskam's book, value clipped\n"
     ]
    },
    {
     "name": "stdout",
     "output_type": "stream",
     "text": [
      "NL: NLBGS 7 ; 485.300258 8.77014449\n"
     ]
    },
    {
     "name": "stderr",
     "output_type": "stream",
     "text": [
      "WARNING : Ratio of span on fuselage depth outside of the range in Roskam's book, value clipped\n",
      "WARNING : Area ratio value outside of the range in Roskam's book, value clipped\n",
      "WARNING : Looping on wing area with new value equal to [14.35788819]\n",
      "WARNING : Ratio of span on fuselage depth outside of the range in Roskam's book, value clipped\n",
      "WARNING : Area ratio value outside of the range in Roskam's book, value clipped\n"
     ]
    },
    {
     "name": "stdout",
     "output_type": "stream",
     "text": [
      "NL: NLBGS 8 ; 246.218864 4.44956494\n"
     ]
    },
    {
     "name": "stderr",
     "output_type": "stream",
     "text": [
      "WARNING : Ratio of span on fuselage depth outside of the range in Roskam's book, value clipped\n",
      "WARNING : Area ratio value outside of the range in Roskam's book, value clipped\n",
      "WARNING : Looping on wing area with new value equal to [14.35801429]\n",
      "WARNING : Ratio of span on fuselage depth outside of the range in Roskam's book, value clipped\n",
      "WARNING : Area ratio value outside of the range in Roskam's book, value clipped\n"
     ]
    },
    {
     "name": "stdout",
     "output_type": "stream",
     "text": [
      "NL: NLBGS 9 ; 94.5316628 1.70833691\n"
     ]
    },
    {
     "name": "stderr",
     "output_type": "stream",
     "text": [
      "WARNING : Ratio of span on fuselage depth outside of the range in Roskam's book, value clipped\n",
      "WARNING : Area ratio value outside of the range in Roskam's book, value clipped\n",
      "WARNING : Looping on wing area with new value equal to [14.35807304]\n",
      "WARNING : Ratio of span on fuselage depth outside of the range in Roskam's book, value clipped\n",
      "WARNING : Area ratio value outside of the range in Roskam's book, value clipped\n"
     ]
    },
    {
     "name": "stdout",
     "output_type": "stream",
     "text": [
      "NL: NLBGS 10 ; 51.271421 0.926555803\n"
     ]
    },
    {
     "name": "stderr",
     "output_type": "stream",
     "text": [
      "WARNING : Ratio of span on fuselage depth outside of the range in Roskam's book, value clipped\n",
      "WARNING : Area ratio value outside of the range in Roskam's book, value clipped\n",
      "WARNING : Looping on wing area with new value equal to [14.35809782]\n",
      "WARNING : Ratio of span on fuselage depth outside of the range in Roskam's book, value clipped\n",
      "WARNING : Area ratio value outside of the range in Roskam's book, value clipped\n"
     ]
    },
    {
     "name": "stdout",
     "output_type": "stream",
     "text": [
      "NL: NLBGS 11 ; 24.755137 0.447364543\n"
     ]
    },
    {
     "name": "stderr",
     "output_type": "stream",
     "text": [
      "WARNING : Ratio of span on fuselage depth outside of the range in Roskam's book, value clipped\n",
      "WARNING : Area ratio value outside of the range in Roskam's book, value clipped\n",
      "WARNING : Looping on wing area with new value equal to [14.35810807]\n",
      "WARNING : Ratio of span on fuselage depth outside of the range in Roskam's book, value clipped\n",
      "WARNING : Area ratio value outside of the range in Roskam's book, value clipped\n"
     ]
    },
    {
     "name": "stdout",
     "output_type": "stream",
     "text": [
      "NL: NLBGS 12 ; 10.2821281 0.185814343\n"
     ]
    },
    {
     "name": "stderr",
     "output_type": "stream",
     "text": [
      "WARNING : Ratio of span on fuselage depth outside of the range in Roskam's book, value clipped\n",
      "WARNING : Area ratio value outside of the range in Roskam's book, value clipped\n",
      "WARNING : Looping on wing area with new value equal to [14.35811145]\n",
      "WARNING : Ratio of span on fuselage depth outside of the range in Roskam's book, value clipped\n",
      "WARNING : Area ratio value outside of the range in Roskam's book, value clipped\n"
     ]
    },
    {
     "name": "stdout",
     "output_type": "stream",
     "text": [
      "NL: NLBGS 13 ; 4.6386537 0.083827821\n"
     ]
    },
    {
     "name": "stderr",
     "output_type": "stream",
     "text": [
      "WARNING : Ratio of span on fuselage depth outside of the range in Roskam's book, value clipped\n",
      "WARNING : Area ratio value outside of the range in Roskam's book, value clipped\n",
      "WARNING : Looping on wing area with new value equal to [14.35811199]\n",
      "WARNING : Ratio of span on fuselage depth outside of the range in Roskam's book, value clipped\n",
      "WARNING : Area ratio value outside of the range in Roskam's book, value clipped\n"
     ]
    },
    {
     "name": "stdout",
     "output_type": "stream",
     "text": [
      "NL: NLBGS 14 ; 2.50272621 0.0452282276\n"
     ]
    },
    {
     "name": "stderr",
     "output_type": "stream",
     "text": [
      "WARNING : Ratio of span on fuselage depth outside of the range in Roskam's book, value clipped\n",
      "WARNING : Area ratio value outside of the range in Roskam's book, value clipped\n",
      "WARNING : Looping on wing area with new value equal to [14.35811127]\n",
      "WARNING : Ratio of span on fuselage depth outside of the range in Roskam's book, value clipped\n",
      "WARNING : Area ratio value outside of the range in Roskam's book, value clipped\n"
     ]
    },
    {
     "name": "stdout",
     "output_type": "stream",
     "text": [
      "NL: NLBGS 15 ; 1.47003512 0.0265658635\n"
     ]
    },
    {
     "name": "stderr",
     "output_type": "stream",
     "text": [
      "WARNING : Ratio of span on fuselage depth outside of the range in Roskam's book, value clipped\n",
      "WARNING : Area ratio value outside of the range in Roskam's book, value clipped\n",
      "WARNING : Looping on wing area with new value equal to [14.35811085]\n",
      "WARNING : Ratio of span on fuselage depth outside of the range in Roskam's book, value clipped\n",
      "WARNING : Area ratio value outside of the range in Roskam's book, value clipped\n"
     ]
    },
    {
     "name": "stdout",
     "output_type": "stream",
     "text": [
      "NL: NLBGS 16 ; 0.601816227 0.0108757726\n"
     ]
    },
    {
     "name": "stderr",
     "output_type": "stream",
     "text": [
      "WARNING : Ratio of span on fuselage depth outside of the range in Roskam's book, value clipped\n",
      "WARNING : Area ratio value outside of the range in Roskam's book, value clipped\n",
      "WARNING : Looping on wing area with new value equal to [14.35811031]\n",
      "WARNING : Ratio of span on fuselage depth outside of the range in Roskam's book, value clipped\n",
      "WARNING : Area ratio value outside of the range in Roskam's book, value clipped\n"
     ]
    },
    {
     "name": "stdout",
     "output_type": "stream",
     "text": [
      "NL: NLBGS 17 ; 0.666230049 0.0120398324\n"
     ]
    },
    {
     "name": "stderr",
     "output_type": "stream",
     "text": [
      "WARNING : Ratio of span on fuselage depth outside of the range in Roskam's book, value clipped\n",
      "WARNING : Area ratio value outside of the range in Roskam's book, value clipped\n",
      "WARNING : Looping on wing area with new value equal to [14.35810995]\n",
      "WARNING : Ratio of span on fuselage depth outside of the range in Roskam's book, value clipped\n",
      "WARNING : Area ratio value outside of the range in Roskam's book, value clipped\n"
     ]
    },
    {
     "name": "stdout",
     "output_type": "stream",
     "text": [
      "NL: NLBGS 18 ; 0.595427232 0.0107603134\n"
     ]
    },
    {
     "name": "stderr",
     "output_type": "stream",
     "text": [
      "WARNING : Ratio of span on fuselage depth outside of the range in Roskam's book, value clipped\n",
      "WARNING : Area ratio value outside of the range in Roskam's book, value clipped\n",
      "WARNING : Looping on wing area with new value equal to [14.35810969]\n",
      "WARNING : Ratio of span on fuselage depth outside of the range in Roskam's book, value clipped\n",
      "WARNING : Area ratio value outside of the range in Roskam's book, value clipped\n"
     ]
    },
    {
     "name": "stdout",
     "output_type": "stream",
     "text": [
      "NL: NLBGS 19 ; 0.150680469 0.0027230348\n"
     ]
    },
    {
     "name": "stderr",
     "output_type": "stream",
     "text": [
      "WARNING : Ratio of span on fuselage depth outside of the range in Roskam's book, value clipped\n",
      "WARNING : Area ratio value outside of the range in Roskam's book, value clipped\n",
      "WARNING : Looping on wing area with new value equal to [14.35810956]\n",
      "WARNING : Ratio of span on fuselage depth outside of the range in Roskam's book, value clipped\n",
      "WARNING : Area ratio value outside of the range in Roskam's book, value clipped\n"
     ]
    },
    {
     "name": "stdout",
     "output_type": "stream",
     "text": [
      "NL: NLBGS 20 ; 0.111475354 0.00201453625\n"
     ]
    },
    {
     "name": "stderr",
     "output_type": "stream",
     "text": [
      "WARNING : Ratio of span on fuselage depth outside of the range in Roskam's book, value clipped\n",
      "WARNING : Area ratio value outside of the range in Roskam's book, value clipped\n",
      "WARNING : Looping on wing area with new value equal to [14.35810949]\n",
      "WARNING : Ratio of span on fuselage depth outside of the range in Roskam's book, value clipped\n",
      "WARNING : Area ratio value outside of the range in Roskam's book, value clipped\n"
     ]
    },
    {
     "name": "stdout",
     "output_type": "stream",
     "text": [
      "NL: NLBGS 21 ; 0.0677433411 0.00122422949\n"
     ]
    },
    {
     "name": "stderr",
     "output_type": "stream",
     "text": [
      "WARNING : Ratio of span on fuselage depth outside of the range in Roskam's book, value clipped\n",
      "WARNING : Area ratio value outside of the range in Roskam's book, value clipped\n",
      "WARNING : Looping on wing area with new value equal to [14.35810945]\n"
     ]
    },
    {
     "name": "stdout",
     "output_type": "stream",
     "text": [
      "NL: NLBGS 22 ; 0.0320001061 0.000578292613\n",
      "NL: NLBGS Converged\n",
      "Optimization Complete\n",
      "-----------------------------------\n"
     ]
    },
    {
     "name": "stderr",
     "output_type": "stream",
     "text": [
      "INFO    : Computation finished after 1019.21 seconds\n",
      "INFO    : Problem outputs written in D:\\fl.lutz\\FAST\\FAST-OAD\\FAST-GA\\src\\fastga\\notebooks\\tutorial\\workdir\\problem_outputs.xml\n"
     ]
    }
   ],
   "source": [
    "optim_problem = api_cs25.optimize_problem(CONFIGURATION_FILE_MDO, overwrite=True)"
   ]
  },
  {
   "cell_type": "markdown",
   "metadata": {},
   "source": [
    "Let's save these results:"
   ]
  },
  {
   "cell_type": "code",
   "execution_count": 18,
   "metadata": {},
   "outputs": [
    {
     "data": {
      "text/plain": [
       "'workdir\\\\problem_outputs_Beechcraft_800nm_mdo.xml'"
      ]
     },
     "execution_count": 18,
     "metadata": {},
     "output_type": "execute_result"
    }
   ],
   "source": [
    "OUTPUT_FILE = pth.join(WORK_FOLDER_PATH, 'problem_outputs.xml')\n",
    "CeRAS_OPT_OUTPUT_FILE = pth.join(WORK_FOLDER_PATH, 'problem_outputs_Beechcraft_800nm_mdo.xml')\n",
    "shutil.copy(OUTPUT_FILE, CeRAS_OPT_OUTPUT_FILE)"
   ]
  },
  {
   "cell_type": "markdown",
   "metadata": {},
   "source": [
    "The `optimizer_viewer` offers a convenient summary of the optimization result:"
   ]
  },
  {
   "cell_type": "code",
   "execution_count": 19,
   "metadata": {},
   "outputs": [
    {
     "data": {
      "application/vnd.jupyter.widget-view+json": {
       "model_id": "9424623e16a54aadb73806fb8ce9fc9f",
       "version_major": 2,
       "version_minor": 0
      },
      "text/plain": [
       "VBox(children=(HBox(children=(Button(description='Load', icon='upload', style=ButtonStyle(), tooltip='Load the…"
      ]
     },
     "metadata": {},
     "output_type": "display_data"
    }
   ],
   "source": [
    "api_cs25.optimization_viewer(CONFIGURATION_FILE_MDO)"
   ]
  },
  {
   "cell_type": "markdown",
   "metadata": {},
   "source": [
    "You can use the `VariableViewer` tool to see the optimization results for all variables of the system by loading the .xml output file:"
   ]
  },
  {
   "cell_type": "code",
   "execution_count": 20,
   "metadata": {},
   "outputs": [
    {
     "data": {
      "application/vnd.jupyter.widget-view+json": {
       "model_id": "3c2b62fa9611451a918ccaa84d32d2e7",
       "version_major": 2,
       "version_minor": 0
      },
      "text/plain": [
       "VBox(children=(HBox(children=(Button(description='Load', icon='upload', style=ButtonStyle(), tooltip='Load the…"
      ]
     },
     "metadata": {},
     "output_type": "display_data"
    }
   ],
   "source": [
    "RESULT_FILE = pth.join(WORK_FOLDER_PATH, 'problem_outputs.xml')\n",
    "api_cs25.variable_viewer(RESULT_FILE)"
   ]
  },
  {
   "cell_type": "code",
   "execution_count": null,
   "metadata": {},
   "outputs": [],
   "source": []
  }
 ],
 "metadata": {
  "kernelspec": {
   "display_name": "Python 3",
   "language": "python",
   "name": "python3"
  },
  "language_info": {
   "codemirror_mode": {
    "name": "ipython",
    "version": 3
   },
   "file_extension": ".py",
   "mimetype": "text/x-python",
   "name": "python",
   "nbconvert_exporter": "python",
   "pygments_lexer": "ipython3",
   "version": "3.8.10"
  }
 },
 "nbformat": 4,
 "nbformat_minor": 4
}
