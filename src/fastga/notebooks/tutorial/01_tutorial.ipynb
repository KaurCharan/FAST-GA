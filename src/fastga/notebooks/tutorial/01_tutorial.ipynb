{
 "cells": [
  {
   "cell_type": "markdown",
   "metadata": {},
   "source": [
    "<div class=\"row\">\n",
    "  <div class=\"column\">\n",
    "    <img src=\"./img/logo-onera.png\" width=\"200\">\n",
    "  </div>\n",
    "  <div class=\"column\">\n",
    "    <img src=\"./img/logo-ISAE_SUPAERO.png\" width=\"200\">\n",
    "  </div>\n",
    "</div>"
   ]
  },
  {
   "cell_type": "markdown",
   "metadata": {},
   "source": [
    "# FAST-OAD-GA Tutorial"
   ]
  },
  {
   "cell_type": "markdown",
   "metadata": {},
   "source": [
    "FAST-OAD-GA is an add-on package for [FAST-OAD framework](https://github.com/fast-aircraft-design/FAST-OAD) for performing rapid Overall Aircraft Design in the category General Aviation (GA). The computational core of FAST-OAD being based on the  [OpenMDAO framework](https://openmdao.org/)."
   ]
  },
  {
   "cell_type": "markdown",
   "metadata": {},
   "source": [
    "## 1. Setting up and analyzing the initial problem"
   ]
  },
  {
   "cell_type": "markdown",
   "metadata": {},
   "source": [
    "To organize our work, we propose to use two user folders `data/` and `workdir/`. For instance, in `data/` we store a XML file which describes the Beechcraft Duchess. In `workdir/`, we store files generated or modified by FAST-OAD."
   ]
  },
  {
   "cell_type": "code",
   "execution_count": 1,
   "metadata": {},
   "outputs": [
    {
     "name": "stderr",
     "output_type": "stream",
     "text": [
      "Failed to import module fastga.models.weight.mass_breakdown.unitary_tests.test_beechcraft_76.py\n",
      "Failed to import module fastga.models.performances.unitary_tests.test_beechcraft_76.py\n",
      "Failed to import module fastga.models.load_analysis.unitary_tests.test_beechcraft_76.py\n",
      "Failed to import module fastga.models.geometry.unitary_tests.test_beechcraft_76.py\n",
      "Failed to import module fastga.models.propulsion.fuel_propulsion.basicIC_engine.unitary_tests.test_openmdao_engine.py\n",
      "Failed to import module fastga.models.aerodynamics.unitary_tests.test_cirrus_sr22.py\n",
      "Failed to import module fastga.models.weight.cg.unitary_tests.test_cirrus_sr22.py\n",
      "Failed to import module fastga.models.geometry.unitary_tests.test_cirrus_sr22.py\n",
      "Failed to import module fastga.models.aerodynamics.unitary_tests.test_beechcraft_76.py\n",
      "Failed to import module fastga.models.handling_qualities.unitary_tests.test_beechcraft_76.py\n",
      "Failed to import module fastga.models.load_analysis.unitary_tests.test_cirrus_sr22.py\n",
      "Failed to import module fastga.models.performances.unitary_tests.test_cirrus_sr22.py\n",
      "Failed to import module fastga.models.weight.cg.unitary_tests.test_beechcraft_76.py\n",
      "Failed to import module fastga.models.weight.mass_breakdown.unitary_tests.test_cirrus_sr22.py\n",
      "Failed to import module fastga.models.loops.unitary_tests.test_wing_area.py\n",
      "Failed to import module fastga.models.handling_qualities.unitary_tests.test_cirrus_sr22.py\n"
     ]
    },
    {
     "data": {
      "text/html": [
       "<style>.container { width:95% !important; }</style>"
      ],
      "text/plain": [
       "<IPython.core.display.HTML object>"
      ]
     },
     "metadata": {},
     "output_type": "display_data"
    }
   ],
   "source": [
    "import os.path as pth\n",
    "import os\n",
    "import openmdao.api as om\n",
    "from fastoad import api as api_cs25\n",
    "from fastga.command import api as api_cs23\n",
    "import logging\n",
    "from fastoad.gui import VariableViewer\n",
    "import shutil\n",
    "\n",
    "# Define relative path\n",
    "DATA_FOLDER_PATH = 'data'\n",
    "WORK_FOLDER_PATH = 'workdir'\n",
    "\n",
    "# Remove work folder\n",
    "shutil.rmtree(WORK_FOLDER_PATH, ignore_errors=True)\n",
    "\n",
    "# Define files\n",
    "CONFIGURATION_FILE = pth.join(WORK_FOLDER_PATH, 'oad_process.yml')\n",
    "SOURCE_FILE = pth.join(DATA_FOLDER_PATH, 'beechcraft_76.xml')\n",
    "\n",
    "# For having log messages on screen\n",
    "logging.basicConfig(level=logging.INFO, format='%(levelname)-8s: %(message)s')\n",
    "\n",
    "# For using all screen width\n",
    "from IPython.core.display import display, HTML\n",
    "display(HTML(\"<style>.container { width:95% !important; }</style>\"))"
   ]
  },
  {
   "cell_type": "markdown",
   "metadata": {},
   "source": [
    "After defining a configuration file name, we can ask FAST-GA to generate a default configuration file based on the default OAD model implemented in the framework:"
   ]
  },
  {
   "cell_type": "code",
   "execution_count": 2,
   "metadata": {},
   "outputs": [
    {
     "name": "stderr",
     "output_type": "stream",
     "text": [
      "INFO    : Sample configuration written in workdir\\oad_process.yml\n"
     ]
    }
   ],
   "source": [
    "api_cs23.generate_configuration_file(CONFIGURATION_FILE, overwrite=True)"
   ]
  },
  {
   "cell_type": "markdown",
   "metadata": {},
   "source": [
    "You can now checkout the generated [configuration file](./workdir/oad_process.yml). In this configuration file, we have specified an input file name 'problem_inputs.xml'. We can ask FAST-OAD to generate the inputs of the default model with the CeRAS parameters as default values:"
   ]
  },
  {
   "cell_type": "code",
   "execution_count": 3,
   "metadata": {
    "scrolled": false
   },
   "outputs": [
    {
     "name": "stderr",
     "output_type": "stream",
     "text": [
      "INFO    : Problem inputs written in D:\\fl.lutz\\FAST\\FAST-OAD\\FAST-GA\\src\\fastga\\notebooks\\tutorial\\workdir\\problem_inputs.xml\n"
     ]
    },
    {
     "data": {
      "text/plain": [
       "'D:\\\\fl.lutz\\\\FAST\\\\FAST-OAD\\\\FAST-GA\\\\src\\\\fastga\\\\notebooks\\\\tutorial\\\\workdir\\\\problem_inputs.xml'"
      ]
     },
     "execution_count": 3,
     "metadata": {},
     "output_type": "execute_result"
    }
   ],
   "source": [
    "api_cs25.generate_inputs(CONFIGURATION_FILE, SOURCE_FILE, overwrite=True)"
   ]
  },
  {
   "cell_type": "markdown",
   "metadata": {},
   "source": [
    "You can now checkout the generated [input file](./workdir/problem_inputs.xml). As shown previously in the user file architecture, the values in this file can be modified by the user and will be considered by FAST-OAD when executing a computational process."
   ]
  },
  {
   "cell_type": "markdown",
   "metadata": {},
   "source": [
    "A useful feature that FAST-OAD provides is to list the outputs of the model defined in the configuration file:"
   ]
  },
  {
   "cell_type": "code",
   "execution_count": 4,
   "metadata": {},
   "outputs": [
    {
     "data": {
      "text/html": [
       "<table border=\"1\" class=\"dataframe\">\n",
       "  <thead>\n",
       "    <tr style=\"text-align: right;\">\n",
       "      <th>NAME</th>\n",
       "      <th>I/O</th>\n",
       "      <th>DESCRIPTION</th>\n",
       "    </tr>\n",
       "  </thead>\n",
       "  <tbody>\n",
       "    <tr>\n",
       "      <td>data:TLAR:NPAX_design</td>\n",
       "      <td>IN</td>\n",
       "      <td></td>\n",
       "    </tr>\n",
       "    <tr>\n",
       "      <td>data:TLAR:luggage_mass_design</td>\n",
       "      <td>IN</td>\n",
       "      <td></td>\n",
       "    </tr>\n",
       "    <tr>\n",
       "      <td>data:TLAR:range</td>\n",
       "      <td>IN</td>\n",
       "      <td>top-level requirement: design range</td>\n",
       "    </tr>\n",
       "    <tr>\n",
       "      <td>data:TLAR:v_approach</td>\n",
       "      <td>IN</td>\n",
       "      <td></td>\n",
       "    </tr>\n",
       "    <tr>\n",
       "      <td>data:TLAR:v_cruise</td>\n",
       "      <td>IN</td>\n",
       "      <td></td>\n",
       "    </tr>\n",
       "    <tr>\n",
       "      <td>data:TLAR:v_limit</td>\n",
       "      <td>IN</td>\n",
       "      <td></td>\n",
       "    </tr>\n",
       "    <tr>\n",
       "      <td>data:TLAR:v_max_sl</td>\n",
       "      <td>IN</td>\n",
       "      <td></td>\n",
       "    </tr>\n",
       "    <tr>\n",
       "      <td>data:aerodynamics:propeller:mach</td>\n",
       "      <td>IN</td>\n",
       "      <td>mach number used to compute the polar of the airfoil used in the propeller computation</td>\n",
       "    </tr>\n",
       "    <tr>\n",
       "      <td>data:aerodynamics:propeller:reynolds</td>\n",
       "      <td>IN</td>\n",
       "      <td>reynolds number used to compute the polar of the airfoil used in the propeller computation</td>\n",
       "    </tr>\n",
       "    <tr>\n",
       "      <td>data:geometry:cabin:aisle_width</td>\n",
       "      <td>IN</td>\n",
       "      <td>width of aisles</td>\n",
       "    </tr>\n",
       "    <tr>\n",
       "      <td>data:geometry:cabin:luggage:mass_max</td>\n",
       "      <td>IN</td>\n",
       "      <td></td>\n",
       "    </tr>\n",
       "    <tr>\n",
       "      <td>data:geometry:cabin:seats:passenger:NPAX_max</td>\n",
       "      <td>IN</td>\n",
       "      <td></td>\n",
       "    </tr>\n",
       "    <tr>\n",
       "      <td>data:geometry:cabin:seats:passenger:count_by_row</td>\n",
       "      <td>IN</td>\n",
       "      <td></td>\n",
       "    </tr>\n",
       "    <tr>\n",
       "      <td>data:geometry:cabin:seats:passenger:length</td>\n",
       "      <td>IN</td>\n",
       "      <td></td>\n",
       "    </tr>\n",
       "    <tr>\n",
       "      <td>data:geometry:cabin:seats:passenger:width</td>\n",
       "      <td>IN</td>\n",
       "      <td></td>\n",
       "    </tr>\n",
       "    <tr>\n",
       "      <td>data:geometry:cabin:seats:pilot:length</td>\n",
       "      <td>IN</td>\n",
       "      <td></td>\n",
       "    </tr>\n",
       "    <tr>\n",
       "      <td>data:geometry:cabin:seats:pilot:width</td>\n",
       "      <td>IN</td>\n",
       "      <td></td>\n",
       "    </tr>\n",
       "    <tr>\n",
       "      <td>data:geometry:flap:chord_ratio</td>\n",
       "      <td>IN</td>\n",
       "      <td>mean value of (flap chord)/(section chord)</td>\n",
       "    </tr>\n",
       "    <tr>\n",
       "      <td>data:geometry:flap:span_ratio</td>\n",
       "      <td>IN</td>\n",
       "      <td>ratio (width of flaps)/(total span)</td>\n",
       "    </tr>\n",
       "    <tr>\n",
       "      <td>data:geometry:flap_type</td>\n",
       "      <td>IN</td>\n",
       "      <td></td>\n",
       "    </tr>\n",
       "    <tr>\n",
       "      <td>data:geometry:has_T_tail</td>\n",
       "      <td>IN</td>\n",
       "      <td>0=horizontal tail is attached to fuselage / 1=horizontal tail is attached to top of vertical tail</td>\n",
       "    </tr>\n",
       "    <tr>\n",
       "      <td>data:geometry:horizontal_tail:MAC:at25percent:x:from_wingMAC25</td>\n",
       "      <td>IN</td>\n",
       "      <td>distance along X between 25% MAC of wing and 25% MAC of horizontal tail</td>\n",
       "    </tr>\n",
       "    <tr>\n",
       "      <td>data:geometry:horizontal_tail:aspect_ratio</td>\n",
       "      <td>IN</td>\n",
       "      <td>aspect ratio of horizontal tail</td>\n",
       "    </tr>\n",
       "    <tr>\n",
       "      <td>data:geometry:horizontal_tail:elevator_chord_ratio</td>\n",
       "      <td>IN</td>\n",
       "      <td></td>\n",
       "    </tr>\n",
       "    <tr>\n",
       "      <td>data:geometry:horizontal_tail:sweep_25</td>\n",
       "      <td>IN</td>\n",
       "      <td>sweep angle at 25% chord of horizontal tail</td>\n",
       "    </tr>\n",
       "    <tr>\n",
       "      <td>data:geometry:horizontal_tail:taper_ratio</td>\n",
       "      <td>IN</td>\n",
       "      <td>taper ratio of horizontal tail</td>\n",
       "    </tr>\n",
       "    <tr>\n",
       "      <td>data:geometry:horizontal_tail:thickness_ratio</td>\n",
       "      <td>IN</td>\n",
       "      <td>thickness ratio of horizontal tail</td>\n",
       "    </tr>\n",
       "    <tr>\n",
       "      <td>data:geometry:landing_gear:type</td>\n",
       "      <td>IN</td>\n",
       "      <td></td>\n",
       "    </tr>\n",
       "    <tr>\n",
       "      <td>data:geometry:propeller:blades_number</td>\n",
       "      <td>IN</td>\n",
       "      <td></td>\n",
       "    </tr>\n",
       "    <tr>\n",
       "      <td>data:geometry:propeller:chord_vect</td>\n",
       "      <td>IN</td>\n",
       "      <td></td>\n",
       "    </tr>\n",
       "    <tr>\n",
       "      <td>data:geometry:propeller:depth</td>\n",
       "      <td>IN</td>\n",
       "      <td></td>\n",
       "    </tr>\n",
       "    <tr>\n",
       "      <td>data:geometry:propeller:diameter</td>\n",
       "      <td>IN</td>\n",
       "      <td></td>\n",
       "    </tr>\n",
       "    <tr>\n",
       "      <td>data:geometry:propeller:hub_diameter</td>\n",
       "      <td>IN</td>\n",
       "      <td></td>\n",
       "    </tr>\n",
       "    <tr>\n",
       "      <td>data:geometry:propeller:radius_ratio_vect</td>\n",
       "      <td>IN</td>\n",
       "      <td></td>\n",
       "    </tr>\n",
       "    <tr>\n",
       "      <td>data:geometry:propeller:sweep_vect</td>\n",
       "      <td>IN</td>\n",
       "      <td></td>\n",
       "    </tr>\n",
       "    <tr>\n",
       "      <td>data:geometry:propeller:twist_vect</td>\n",
       "      <td>IN</td>\n",
       "      <td></td>\n",
       "    </tr>\n",
       "    <tr>\n",
       "      <td>data:geometry:propulsion:count</td>\n",
       "      <td>IN</td>\n",
       "      <td></td>\n",
       "    </tr>\n",
       "    <tr>\n",
       "      <td>data:geometry:propulsion:layout</td>\n",
       "      <td>IN</td>\n",
       "      <td>position of engines (1=under the wing / 2=rear fuselage)</td>\n",
       "    </tr>\n",
       "    <tr>\n",
       "      <td>data:geometry:propulsion:y_ratio</td>\n",
       "      <td>IN</td>\n",
       "      <td></td>\n",
       "    </tr>\n",
       "    <tr>\n",
       "      <td>data:geometry:vertical_tail:aspect_ratio</td>\n",
       "      <td>IN</td>\n",
       "      <td>aspect ratio of vertical tail</td>\n",
       "    </tr>\n",
       "    <tr>\n",
       "      <td>data:geometry:vertical_tail:max_thickness:x_ratio</td>\n",
       "      <td>IN</td>\n",
       "      <td></td>\n",
       "    </tr>\n",
       "    <tr>\n",
       "      <td>data:geometry:vertical_tail:rudder:chord_ratio</td>\n",
       "      <td>IN</td>\n",
       "      <td></td>\n",
       "    </tr>\n",
       "    <tr>\n",
       "      <td>data:geometry:vertical_tail:rudder:max_deflection</td>\n",
       "      <td>IN</td>\n",
       "      <td></td>\n",
       "    </tr>\n",
       "    <tr>\n",
       "      <td>data:geometry:vertical_tail:sweep_25</td>\n",
       "      <td>IN</td>\n",
       "      <td>sweep angle at 25% chord of vertical tail</td>\n",
       "    </tr>\n",
       "    <tr>\n",
       "      <td>data:geometry:vertical_tail:taper_ratio</td>\n",
       "      <td>IN</td>\n",
       "      <td>taper ratio of vertical tail</td>\n",
       "    </tr>\n",
       "    <tr>\n",
       "      <td>data:geometry:vertical_tail:thickness_ratio</td>\n",
       "      <td>IN</td>\n",
       "      <td>thickness ratio of vertical tail</td>\n",
       "    </tr>\n",
       "    <tr>\n",
       "      <td>data:geometry:wing:aspect_ratio</td>\n",
       "      <td>IN</td>\n",
       "      <td>wing aspect ratio</td>\n",
       "    </tr>\n",
       "    <tr>\n",
       "      <td>data:geometry:wing:kink:span_ratio</td>\n",
       "      <td>IN</td>\n",
       "      <td>ratio (Y-position of kink)/(semi-span)</td>\n",
       "    </tr>\n",
       "    <tr>\n",
       "      <td>data:geometry:wing:sweep_25</td>\n",
       "      <td>IN</td>\n",
       "      <td>sweep angle at 25% chord of wing</td>\n",
       "    </tr>\n",
       "    <tr>\n",
       "      <td>data:geometry:wing:taper_ratio</td>\n",
       "      <td>IN</td>\n",
       "      <td>taper ratio of wing</td>\n",
       "    </tr>\n",
       "    <tr>\n",
       "      <td>data:geometry:wing:thickness_ratio</td>\n",
       "      <td>IN</td>\n",
       "      <td>mean thickness ratio of wing</td>\n",
       "    </tr>\n",
       "    <tr>\n",
       "      <td>data:handling_qualities:static_margin:target</td>\n",
       "      <td>IN</td>\n",
       "      <td></td>\n",
       "    </tr>\n",
       "    <tr>\n",
       "      <td>data:mission:sizing:cs23:sizing_factor_ultimate</td>\n",
       "      <td>IN</td>\n",
       "      <td></td>\n",
       "    </tr>\n",
       "    <tr>\n",
       "      <td>data:mission:sizing:holding:fuel</td>\n",
       "      <td>IN</td>\n",
       "      <td>mass of consumed fuel during holding phase in sizing mission</td>\n",
       "    </tr>\n",
       "    <tr>\n",
       "      <td>data:mission:sizing:landing:elevator_angle</td>\n",
       "      <td>IN</td>\n",
       "      <td></td>\n",
       "    </tr>\n",
       "    <tr>\n",
       "      <td>data:mission:sizing:landing:flap_angle</td>\n",
       "      <td>IN</td>\n",
       "      <td>flap angle during landing phase in sizing mission</td>\n",
       "    </tr>\n",
       "    <tr>\n",
       "      <td>data:mission:sizing:landing:target_sideslip</td>\n",
       "      <td>IN</td>\n",
       "      <td></td>\n",
       "    </tr>\n",
       "    <tr>\n",
       "      <td>data:mission:sizing:main_route:climb:climb_rate:cruise_level</td>\n",
       "      <td>IN</td>\n",
       "      <td></td>\n",
       "    </tr>\n",
       "    <tr>\n",
       "      <td>data:mission:sizing:main_route:climb:climb_rate:sea_level</td>\n",
       "      <td>IN</td>\n",
       "      <td></td>\n",
       "    </tr>\n",
       "    <tr>\n",
       "      <td>data:mission:sizing:main_route:cruise:altitude</td>\n",
       "      <td>IN</td>\n",
       "      <td>altitude during cruise phase in sizing mission</td>\n",
       "    </tr>\n",
       "    <tr>\n",
       "      <td>data:mission:sizing:main_route:descent:descent_rate</td>\n",
       "      <td>IN</td>\n",
       "      <td></td>\n",
       "    </tr>\n",
       "    <tr>\n",
       "      <td>data:mission:sizing:main_route:reserve:duration</td>\n",
       "      <td>IN</td>\n",
       "      <td></td>\n",
       "    </tr>\n",
       "    <tr>\n",
       "      <td>data:mission:sizing:takeoff:elevator_angle</td>\n",
       "      <td>IN</td>\n",
       "      <td></td>\n",
       "    </tr>\n",
       "    <tr>\n",
       "      <td>data:mission:sizing:takeoff:flap_angle</td>\n",
       "      <td>IN</td>\n",
       "      <td>flap angle during takeoff phase in sizing mission</td>\n",
       "    </tr>\n",
       "    <tr>\n",
       "      <td>data:mission:sizing:takeoff:friction_coefficient_no_brake</td>\n",
       "      <td>IN</td>\n",
       "      <td>ground friction coefficient with no brake in sizing mission</td>\n",
       "    </tr>\n",
       "    <tr>\n",
       "      <td>data:mission:sizing:takeoff:thrust_rate</td>\n",
       "      <td>IN</td>\n",
       "      <td></td>\n",
       "    </tr>\n",
       "    <tr>\n",
       "      <td>data:mission:sizing:taxi_in:duration</td>\n",
       "      <td>IN</td>\n",
       "      <td>duration of taxi-in phase in sizing mission</td>\n",
       "    </tr>\n",
       "    <tr>\n",
       "      <td>data:mission:sizing:taxi_in:speed</td>\n",
       "      <td>IN</td>\n",
       "      <td>speed during taxi-in phase in sizing mission</td>\n",
       "    </tr>\n",
       "    <tr>\n",
       "      <td>data:mission:sizing:taxi_in:thrust_rate</td>\n",
       "      <td>IN</td>\n",
       "      <td>thrust rate (between 0.0 and 1.0) during taxi-in phase in sizing mission</td>\n",
       "    </tr>\n",
       "    <tr>\n",
       "      <td>data:mission:sizing:taxi_out:duration</td>\n",
       "      <td>IN</td>\n",
       "      <td>duration of taxi-out phase in sizing mission</td>\n",
       "    </tr>\n",
       "    <tr>\n",
       "      <td>data:mission:sizing:taxi_out:speed</td>\n",
       "      <td>IN</td>\n",
       "      <td>speed during taxi-out phase in sizing mission</td>\n",
       "    </tr>\n",
       "    <tr>\n",
       "      <td>data:mission:sizing:taxi_out:thrust_rate</td>\n",
       "      <td>IN</td>\n",
       "      <td>thrust rate (between 0.0 and 1.0) during taxi-out phase in sizing mission</td>\n",
       "    </tr>\n",
       "    <tr>\n",
       "      <td>data:propulsion:IC_engine:fuel_type</td>\n",
       "      <td>IN</td>\n",
       "      <td></td>\n",
       "    </tr>\n",
       "    <tr>\n",
       "      <td>data:propulsion:IC_engine:max_power</td>\n",
       "      <td>IN</td>\n",
       "      <td></td>\n",
       "    </tr>\n",
       "    <tr>\n",
       "      <td>data:propulsion:IC_engine:strokes_nb</td>\n",
       "      <td>IN</td>\n",
       "      <td></td>\n",
       "    </tr>\n",
       "    <tr>\n",
       "      <td>data:weight:airframe:fuselage:k_factor</td>\n",
       "      <td>IN</td>\n",
       "      <td></td>\n",
       "    </tr>\n",
       "    <tr>\n",
       "      <td>data:weight:airframe:horizontal_tail:k_factor</td>\n",
       "      <td>IN</td>\n",
       "      <td></td>\n",
       "    </tr>\n",
       "    <tr>\n",
       "      <td>data:weight:airframe:vertical_tail:k_factor</td>\n",
       "      <td>IN</td>\n",
       "      <td></td>\n",
       "    </tr>\n",
       "    <tr>\n",
       "      <td>data:weight:airframe:wing:k_factor</td>\n",
       "      <td>IN</td>\n",
       "      <td></td>\n",
       "    </tr>\n",
       "    <tr>\n",
       "      <td>data:weight:propulsion:tank:mass</td>\n",
       "      <td>IN</td>\n",
       "      <td>Mass of the propulsion system_inp_data:weight:propulsion:tank:mass</td>\n",
       "    </tr>\n",
       "    <tr>\n",
       "      <td>settings:handling_qualities:rudder:safety_margin</td>\n",
       "      <td>IN</td>\n",
       "      <td>Ratio of the total rudder deflection not used in the computation of the VT area to leave a safety margin</td>\n",
       "    </tr>\n",
       "    <tr>\n",
       "      <td>settings:weight:aircraft:CG:aft:MAC_position:margin</td>\n",
       "      <td>IN</td>\n",
       "      <td>Added margin for getting most aft CG position, as ratio of mean aerodynamic chord</td>\n",
       "    </tr>\n",
       "    <tr>\n",
       "      <td>settings:weight:aircraft:CG:fwd:MAC_position:margin</td>\n",
       "      <td>IN</td>\n",
       "      <td>Added margin for getting most fwd CG position, as ratio of mean aerodynamic chord</td>\n",
       "    </tr>\n",
       "    <tr>\n",
       "      <td>settings:weight:aircraft:CG:range</td>\n",
       "      <td>IN</td>\n",
       "      <td>distance between front position and aft position of CG, as ratio of mean aerodynamic chord (allows to have front position of CG, as currently, FAST-OAD estimates only the aft position of CG)</td>\n",
       "    </tr>\n",
       "    <tr>\n",
       "      <td>settings:weight:aircraft:payload:design_mass_per_passenger</td>\n",
       "      <td>IN</td>\n",
       "      <td>Design value of mass per passenger</td>\n",
       "    </tr>\n",
       "    <tr>\n",
       "      <td>settings:weight:aircraft:payload:max_mass_per_passenger</td>\n",
       "      <td>IN</td>\n",
       "      <td>Maximum value of mass per passenger</td>\n",
       "    </tr>\n",
       "    <tr>\n",
       "      <td>settings:weight:airframe:landing_gear:front:weight_ratio</td>\n",
       "      <td>IN</td>\n",
       "      <td>part of aircraft weight that is supported by front landing gear</td>\n",
       "    </tr>\n",
       "    <tr>\n",
       "      <td>data:aerodynamics:aircraft:cruise:CD0</td>\n",
       "      <td>OUT</td>\n",
       "      <td>profile drag coefficient for whole aircraft w.r.t. data:aerodynamics:aircraft:cruise:CL</td>\n",
       "    </tr>\n",
       "    <tr>\n",
       "      <td>data:aerodynamics:aircraft:cruise:L_D_max</td>\n",
       "      <td>OUT</td>\n",
       "      <td>max lift/drag ratio in cruise conditions</td>\n",
       "    </tr>\n",
       "    <tr>\n",
       "      <td>data:aerodynamics:aircraft:cruise:optimal_CD</td>\n",
       "      <td>OUT</td>\n",
       "      <td>drag coefficient at maximum lift/drag ratio in cruise conditions</td>\n",
       "    </tr>\n",
       "    <tr>\n",
       "      <td>data:aerodynamics:aircraft:cruise:optimal_CL</td>\n",
       "      <td>OUT</td>\n",
       "      <td>lift coefficient at maximum lift/drag ratio in cruise conditions</td>\n",
       "    </tr>\n",
       "    <tr>\n",
       "      <td>data:aerodynamics:aircraft:cruise:optimal_alpha</td>\n",
       "      <td>OUT</td>\n",
       "      <td>wing angle of attack at maximum lift/drag ratio in cruise conditions</td>\n",
       "    </tr>\n",
       "    <tr>\n",
       "      <td>data:aerodynamics:aircraft:landing:CL_max</td>\n",
       "      <td>OUT</td>\n",
       "      <td>maximum lift coefficient in landing conditions</td>\n",
       "    </tr>\n",
       "    <tr>\n",
       "      <td>data:aerodynamics:aircraft:low_speed:CD0</td>\n",
       "      <td>OUT</td>\n",
       "      <td>profile drag coefficient for whole aircraft in low speed conditions (no high-lift) w.r.t. data:aerodynamics:aircraft:low_speed:CL</td>\n",
       "    </tr>\n",
       "    <tr>\n",
       "      <td>data:aerodynamics:aircraft:mach_interpolation:CL_alpha_vector</td>\n",
       "      <td>OUT</td>\n",
       "      <td></td>\n",
       "    </tr>\n",
       "    <tr>\n",
       "      <td>data:aerodynamics:aircraft:mach_interpolation:mach_vector</td>\n",
       "      <td>OUT</td>\n",
       "      <td></td>\n",
       "    </tr>\n",
       "    <tr>\n",
       "      <td>data:aerodynamics:aircraft:takeoff:CL_max</td>\n",
       "      <td>OUT</td>\n",
       "      <td>maximum lift coefficient during take-off</td>\n",
       "    </tr>\n",
       "    <tr>\n",
       "      <td>data:aerodynamics:cruise:mach</td>\n",
       "      <td>OUT</td>\n",
       "      <td>mach number representative of high speed aerodynamics</td>\n",
       "    </tr>\n",
       "    <tr>\n",
       "      <td>data:aerodynamics:cruise:neutral_point:free_elevator_factor</td>\n",
       "      <td>OUT</td>\n",
       "      <td></td>\n",
       "    </tr>\n",
       "    <tr>\n",
       "      <td>data:aerodynamics:cruise:neutral_point:stick_fixed:x</td>\n",
       "      <td>OUT</td>\n",
       "      <td></td>\n",
       "    </tr>\n",
       "    <tr>\n",
       "      <td>data:aerodynamics:cruise:neutral_point:stick_free:x</td>\n",
       "      <td>OUT</td>\n",
       "      <td></td>\n",
       "    </tr>\n",
       "    <tr>\n",
       "      <td>data:aerodynamics:cruise:unit_reynolds</td>\n",
       "      <td>OUT</td>\n",
       "      <td>unitary reynolds number representative of high speed aerodynamics</td>\n",
       "    </tr>\n",
       "    <tr>\n",
       "      <td>data:aerodynamics:elevator:low_speed:CD_delta</td>\n",
       "      <td>OUT</td>\n",
       "      <td></td>\n",
       "    </tr>\n",
       "    <tr>\n",
       "      <td>data:aerodynamics:elevator:low_speed:CL_delta</td>\n",
       "      <td>OUT</td>\n",
       "      <td>derivative of horizontal tail lift coefficient with respect to elevator command</td>\n",
       "    </tr>\n",
       "    <tr>\n",
       "      <td>data:aerodynamics:flaps:landing:CD</td>\n",
       "      <td>OUT</td>\n",
       "      <td></td>\n",
       "    </tr>\n",
       "    <tr>\n",
       "      <td>data:aerodynamics:flaps:landing:CL</td>\n",
       "      <td>OUT</td>\n",
       "      <td></td>\n",
       "    </tr>\n",
       "    <tr>\n",
       "      <td>data:aerodynamics:flaps:landing:CL_max</td>\n",
       "      <td>OUT</td>\n",
       "      <td></td>\n",
       "    </tr>\n",
       "    <tr>\n",
       "      <td>data:aerodynamics:flaps:landing:CM</td>\n",
       "      <td>OUT</td>\n",
       "      <td></td>\n",
       "    </tr>\n",
       "    <tr>\n",
       "      <td>data:aerodynamics:flaps:takeoff:CD</td>\n",
       "      <td>OUT</td>\n",
       "      <td></td>\n",
       "    </tr>\n",
       "    <tr>\n",
       "      <td>data:aerodynamics:flaps:takeoff:CL</td>\n",
       "      <td>OUT</td>\n",
       "      <td></td>\n",
       "    </tr>\n",
       "    <tr>\n",
       "      <td>data:aerodynamics:flaps:takeoff:CL_max</td>\n",
       "      <td>OUT</td>\n",
       "      <td></td>\n",
       "    </tr>\n",
       "    <tr>\n",
       "      <td>data:aerodynamics:flaps:takeoff:CM</td>\n",
       "      <td>OUT</td>\n",
       "      <td></td>\n",
       "    </tr>\n",
       "    <tr>\n",
       "      <td>data:aerodynamics:fuselage:cruise:CD0</td>\n",
       "      <td>OUT</td>\n",
       "      <td>profile drag coefficient for fuselage w.r.t. data:aerodynamics:aircraft:cruise:CL</td>\n",
       "    </tr>\n",
       "    <tr>\n",
       "      <td>data:aerodynamics:fuselage:cruise:CnBeta</td>\n",
       "      <td>OUT</td>\n",
       "      <td>derivative of yawing moment against sideslip angle for fuselage in cruise conditions</td>\n",
       "    </tr>\n",
       "    <tr>\n",
       "      <td>data:aerodynamics:fuselage:low_speed:CD0</td>\n",
       "      <td>OUT</td>\n",
       "      <td>profile drag coefficient for fuselage w.r.t. data:aerodynamics:aircraft:low_speed:CL</td>\n",
       "    </tr>\n",
       "    <tr>\n",
       "      <td>data:aerodynamics:horizontal_tail:MAC:low_speed:reynolds</td>\n",
       "      <td>OUT</td>\n",
       "      <td>reynolds number at the horizontal tail mean aerodynamic chord in low speed conditions</td>\n",
       "    </tr>\n",
       "    <tr>\n",
       "      <td>data:aerodynamics:horizontal_tail:airfoil:CL_alpha</td>\n",
       "      <td>OUT</td>\n",
       "      <td>horizontal tail airfoil lift curve slope</td>\n",
       "    </tr>\n",
       "    <tr>\n",
       "      <td>data:aerodynamics:horizontal_tail:cruise:CD0</td>\n",
       "      <td>OUT</td>\n",
       "      <td>profile drag coefficient for horizontal tail in cruise conditions</td>\n",
       "    </tr>\n",
       "    <tr>\n",
       "      <td>data:aerodynamics:horizontal_tail:cruise:CDp</td>\n",
       "      <td>OUT</td>\n",
       "      <td></td>\n",
       "    </tr>\n",
       "    <tr>\n",
       "      <td>data:aerodynamics:horizontal_tail:cruise:CL</td>\n",
       "      <td>OUT</td>\n",
       "      <td></td>\n",
       "    </tr>\n",
       "    <tr>\n",
       "      <td>data:aerodynamics:horizontal_tail:cruise:CL0</td>\n",
       "      <td>OUT</td>\n",
       "      <td>lift coefficient of the horizontal tail when aircraft AOA is null in cruise conditions</td>\n",
       "    </tr>\n",
       "    <tr>\n",
       "      <td>data:aerodynamics:horizontal_tail:cruise:CL_alpha</td>\n",
       "      <td>OUT</td>\n",
       "      <td>derivative of lift coefficient of horizontal tail with respect to local angle of attack in cruise conditions</td>\n",
       "    </tr>\n",
       "    <tr>\n",
       "      <td>data:aerodynamics:horizontal_tail:cruise:CL_alpha_isolated</td>\n",
       "      <td>OUT</td>\n",
       "      <td>derivative of lift coefficient of horizontal tail with respect to local angle of attack in cruise conditions</td>\n",
       "    </tr>\n",
       "    <tr>\n",
       "      <td>data:aerodynamics:horizontal_tail:cruise:hinge_moment:CH_alpha</td>\n",
       "      <td>OUT</td>\n",
       "      <td>derivative of 3D hinge moment coefficient with respect to the local angle of attack in cruise conditions</td>\n",
       "    </tr>\n",
       "    <tr>\n",
       "      <td>data:aerodynamics:horizontal_tail:cruise:hinge_moment:CH_alpha_2D</td>\n",
       "      <td>OUT</td>\n",
       "      <td>derivative of 2D hinge moment coefficient with respect to the local angle of attack in cruise conditions</td>\n",
       "    </tr>\n",
       "    <tr>\n",
       "      <td>data:aerodynamics:horizontal_tail:cruise:hinge_moment:CH_delta</td>\n",
       "      <td>OUT</td>\n",
       "      <td>derivative of 3D hinge moment coefficient with respect to elevator deflection in cruise conditions</td>\n",
       "    </tr>\n",
       "    <tr>\n",
       "      <td>data:aerodynamics:horizontal_tail:cruise:hinge_moment:CH_delta_2D</td>\n",
       "      <td>OUT</td>\n",
       "      <td>derivative of 2D hinge moment coefficient with respect to elevator deflection in cruise conditions</td>\n",
       "    </tr>\n",
       "    <tr>\n",
       "      <td>data:aerodynamics:horizontal_tail:cruise:induced_drag_coefficient</td>\n",
       "      <td>OUT</td>\n",
       "      <td>coefficient to multiply by the lift coefficient squared to get induced drag in cruise conditions</td>\n",
       "    </tr>\n",
       "    <tr>\n",
       "      <td>data:aerodynamics:horizontal_tail:cruise:reynolds</td>\n",
       "      <td>OUT</td>\n",
       "      <td></td>\n",
       "    </tr>\n",
       "    <tr>\n",
       "      <td>data:aerodynamics:horizontal_tail:efficiency</td>\n",
       "      <td>OUT</td>\n",
       "      <td>ratio of dynamic pressure at the tail with respect to the free stream dynamic pressure</td>\n",
       "    </tr>\n",
       "    <tr>\n",
       "      <td>data:aerodynamics:horizontal_tail:low_speed:CD0</td>\n",
       "      <td>OUT</td>\n",
       "      <td>profile drag coefficient for horizontal tail in low speed conditions</td>\n",
       "    </tr>\n",
       "    <tr>\n",
       "      <td>data:aerodynamics:horizontal_tail:low_speed:CDp</td>\n",
       "      <td>OUT</td>\n",
       "      <td></td>\n",
       "    </tr>\n",
       "    <tr>\n",
       "      <td>data:aerodynamics:horizontal_tail:low_speed:CL</td>\n",
       "      <td>OUT</td>\n",
       "      <td></td>\n",
       "    </tr>\n",
       "    <tr>\n",
       "      <td>data:aerodynamics:horizontal_tail:low_speed:CL0</td>\n",
       "      <td>OUT</td>\n",
       "      <td>lift coefficient of the horizontal tail when aircraft AOA is null in low speed conditions</td>\n",
       "    </tr>\n",
       "    <tr>\n",
       "      <td>data:aerodynamics:horizontal_tail:low_speed:CL_alpha</td>\n",
       "      <td>OUT</td>\n",
       "      <td>derivative of lift coefficient of horizontal tail with respect to aircraft angle of attack in low speed conditions</td>\n",
       "    </tr>\n",
       "    <tr>\n",
       "      <td>data:aerodynamics:horizontal_tail:low_speed:CL_alpha_isolated</td>\n",
       "      <td>OUT</td>\n",
       "      <td>derivative of lift coefficient of horizontal tail with respect to local angle of attack in low speed conditions</td>\n",
       "    </tr>\n",
       "    <tr>\n",
       "      <td>data:aerodynamics:horizontal_tail:low_speed:CL_max_clean</td>\n",
       "      <td>OUT</td>\n",
       "      <td>maximum horizontal tail lift coefficient in low speed altitude</td>\n",
       "    </tr>\n",
       "    <tr>\n",
       "      <td>data:aerodynamics:horizontal_tail:low_speed:CL_min_clean</td>\n",
       "      <td>OUT</td>\n",
       "      <td>minimum horizontal tail lift coefficient in low speed altitude</td>\n",
       "    </tr>\n",
       "    <tr>\n",
       "      <td>data:aerodynamics:horizontal_tail:low_speed:CL_ref</td>\n",
       "      <td>OUT</td>\n",
       "      <td>reference horizontal tail lift coefficient corresponding to the lift repartition in CL_vector</td>\n",
       "    </tr>\n",
       "    <tr>\n",
       "      <td>data:aerodynamics:horizontal_tail:low_speed:CL_vector</td>\n",
       "      <td>OUT</td>\n",
       "      <td>horizontal tail lift coefficient repartition along the span corresponding to the lift coefficient in CL_ref</td>\n",
       "    </tr>\n",
       "    <tr>\n",
       "      <td>data:aerodynamics:horizontal_tail:low_speed:Y_vector</td>\n",
       "      <td>OUT</td>\n",
       "      <td>point along the span at which the lift repartition on the horizontal tail is sampled</td>\n",
       "    </tr>\n",
       "    <tr>\n",
       "      <td>data:aerodynamics:horizontal_tail:low_speed:clean:alpha_aircraft_max</td>\n",
       "      <td>OUT</td>\n",
       "      <td>positive aircraft angle of attack that gives a stalled horizontal tail</td>\n",
       "    </tr>\n",
       "    <tr>\n",
       "      <td>data:aerodynamics:horizontal_tail:low_speed:clean:alpha_aircraft_min</td>\n",
       "      <td>OUT</td>\n",
       "      <td>negative aircraft angle of attack that gives a stalled horizontal tail</td>\n",
       "    </tr>\n",
       "    <tr>\n",
       "      <td>data:aerodynamics:horizontal_tail:low_speed:induced_drag_coefficient</td>\n",
       "      <td>OUT</td>\n",
       "      <td>coefficient to multiply by the lift coefficient squared to get induced drag in cruise conditions</td>\n",
       "    </tr>\n",
       "    <tr>\n",
       "      <td>data:aerodynamics:horizontal_tail:low_speed:reynolds</td>\n",
       "      <td>OUT</td>\n",
       "      <td></td>\n",
       "    </tr>\n",
       "    <tr>\n",
       "      <td>data:aerodynamics:horizontal_tail:low_speed:root:CL_max_2D</td>\n",
       "      <td>OUT</td>\n",
       "      <td>maximum lift coefficient at the root section of the horizontal tail given with respect to the horizontal tail surface</td>\n",
       "    </tr>\n",
       "    <tr>\n",
       "      <td>data:aerodynamics:horizontal_tail:low_speed:root:CL_min_2D</td>\n",
       "      <td>OUT</td>\n",
       "      <td>minimum lift coefficient at the root section of the horizontal tail given with respect to the horizontal tail surface</td>\n",
       "    </tr>\n",
       "    <tr>\n",
       "      <td>data:aerodynamics:horizontal_tail:low_speed:tip:CL_max_2D</td>\n",
       "      <td>OUT</td>\n",
       "      <td>maximum lift coefficient at the tip section of the horizontal tail given with respect to the horizontal tail surface</td>\n",
       "    </tr>\n",
       "    <tr>\n",
       "      <td>data:aerodynamics:horizontal_tail:low_speed:tip:CL_min_2D</td>\n",
       "      <td>OUT</td>\n",
       "      <td>minimum lift coefficient at the tip section of the horizontal tail given with respect to the horizontal tail surface</td>\n",
       "    </tr>\n",
       "    <tr>\n",
       "      <td>data:aerodynamics:horizontal_tail:root:low_speed:reynolds</td>\n",
       "      <td>OUT</td>\n",
       "      <td>reynolds number at the horizontal tail root section in low speed conditions</td>\n",
       "    </tr>\n",
       "    <tr>\n",
       "      <td>data:aerodynamics:horizontal_tail:tip:low_speed:reynolds</td>\n",
       "      <td>OUT</td>\n",
       "      <td>reynolds number at the horizontal tail tip section in low speed conditions</td>\n",
       "    </tr>\n",
       "    <tr>\n",
       "      <td>data:aerodynamics:landing_gear:cruise:CD0</td>\n",
       "      <td>OUT</td>\n",
       "      <td>profile drag coefficient for landing gears in cruise conditions</td>\n",
       "    </tr>\n",
       "    <tr>\n",
       "      <td>data:aerodynamics:landing_gear:low_speed:CD0</td>\n",
       "      <td>OUT</td>\n",
       "      <td>profile drag coefficient for landing gears in low speed conditions</td>\n",
       "    </tr>\n",
       "    <tr>\n",
       "      <td>data:aerodynamics:low_speed:mach</td>\n",
       "      <td>OUT</td>\n",
       "      <td>mach number representative of low speed aerodynamics</td>\n",
       "    </tr>\n",
       "    <tr>\n",
       "      <td>data:aerodynamics:low_speed:unit_reynolds</td>\n",
       "      <td>OUT</td>\n",
       "      <td>unitary reynolds number representative of low speed aerodynamics</td>\n",
       "    </tr>\n",
       "    <tr>\n",
       "      <td>data:aerodynamics:nacelles:cruise:CD0</td>\n",
       "      <td>OUT</td>\n",
       "      <td>profile drag coefficient for nacelles in cruise conditions</td>\n",
       "    </tr>\n",
       "    <tr>\n",
       "      <td>data:aerodynamics:nacelles:low_speed:CD0</td>\n",
       "      <td>OUT</td>\n",
       "      <td>profile drag coefficient for nacelles in low speed conditions</td>\n",
       "    </tr>\n",
       "    <tr>\n",
       "      <td>data:aerodynamics:other:cruise:CD0</td>\n",
       "      <td>OUT</td>\n",
       "      <td>profile drag coefficient for other systems in cruise conditions</td>\n",
       "    </tr>\n",
       "    <tr>\n",
       "      <td>data:aerodynamics:other:low_speed:CD0</td>\n",
       "      <td>OUT</td>\n",
       "      <td>profile drag coefficient for other systems in low speed conditions</td>\n",
       "    </tr>\n",
       "    <tr>\n",
       "      <td>data:aerodynamics:propeller:cruise_level:efficiency</td>\n",
       "      <td>OUT</td>\n",
       "      <td>2D matrix containing the efficiencies of the propeller in different speed conditions and for different thrust requirement at cruise level</td>\n",
       "    </tr>\n",
       "    <tr>\n",
       "      <td>data:aerodynamics:propeller:cruise_level:speed</td>\n",
       "      <td>OUT</td>\n",
       "      <td>speed at which the efficiencies of the propeller at cruise level are computed</td>\n",
       "    </tr>\n",
       "    <tr>\n",
       "      <td>data:aerodynamics:propeller:cruise_level:thrust</td>\n",
       "      <td>OUT</td>\n",
       "      <td>thrust produced by the propeller at cruise level and for which the efficiencies are given</td>\n",
       "    </tr>\n",
       "    <tr>\n",
       "      <td>data:aerodynamics:propeller:cruise_level:thrust_limit</td>\n",
       "      <td>OUT</td>\n",
       "      <td>maximum thrust output of the propeller at cruise level for varying velocities</td>\n",
       "    </tr>\n",
       "    <tr>\n",
       "      <td>data:aerodynamics:propeller:sea_level:efficiency</td>\n",
       "      <td>OUT</td>\n",
       "      <td>2D matrix containing the efficiencies of the propeller in different speed conditions and for different thrust requirement at sea level</td>\n",
       "    </tr>\n",
       "    <tr>\n",
       "      <td>data:aerodynamics:propeller:sea_level:speed</td>\n",
       "      <td>OUT</td>\n",
       "      <td>speed at which the efficiencies of the propeller at sea level are computed</td>\n",
       "    </tr>\n",
       "    <tr>\n",
       "      <td>data:aerodynamics:propeller:sea_level:thrust</td>\n",
       "      <td>OUT</td>\n",
       "      <td>thrust produced by the propeller at sea level and for which the efficiencies are given</td>\n",
       "    </tr>\n",
       "    <tr>\n",
       "      <td>data:aerodynamics:propeller:sea_level:thrust_limit</td>\n",
       "      <td>OUT</td>\n",
       "      <td>maximum thrust output of the propeller at sea level for varying velocities</td>\n",
       "    </tr>\n",
       "    <tr>\n",
       "      <td>data:aerodynamics:rudder:low_speed:Cy_delta_r</td>\n",
       "      <td>OUT</td>\n",
       "      <td></td>\n",
       "    </tr>\n",
       "    <tr>\n",
       "      <td>data:aerodynamics:vertical_tail:MAC:low_speed:reynolds</td>\n",
       "      <td>OUT</td>\n",
       "      <td></td>\n",
       "    </tr>\n",
       "    <tr>\n",
       "      <td>data:aerodynamics:vertical_tail:airfoil:CL_alpha</td>\n",
       "      <td>OUT</td>\n",
       "      <td>horizontal tail airfoil lift curve slope</td>\n",
       "    </tr>\n",
       "    <tr>\n",
       "      <td>data:aerodynamics:vertical_tail:cruise:CD0</td>\n",
       "      <td>OUT</td>\n",
       "      <td>profile drag coefficient for vertical tail in cruise conditions</td>\n",
       "    </tr>\n",
       "    <tr>\n",
       "      <td>data:aerodynamics:vertical_tail:cruise:CL_alpha</td>\n",
       "      <td>OUT</td>\n",
       "      <td>derivative of lift coefficient of horizontal tail with respect to local \"angle of attack\" in cruise conditions</td>\n",
       "    </tr>\n",
       "    <tr>\n",
       "      <td>data:aerodynamics:vertical_tail:k_ar_effective</td>\n",
       "      <td>OUT</td>\n",
       "      <td>coefficient to multiply the vertical tail aspect ratio to get the effective aspect ratio which includes fuselage and horizontal tail end-plate effect</td>\n",
       "    </tr>\n",
       "    <tr>\n",
       "      <td>data:aerodynamics:vertical_tail:low_speed:CD0</td>\n",
       "      <td>OUT</td>\n",
       "      <td>profile drag coefficient for vertical tail in low speed conditions</td>\n",
       "    </tr>\n",
       "    <tr>\n",
       "      <td>data:aerodynamics:vertical_tail:low_speed:CL_alpha</td>\n",
       "      <td>OUT</td>\n",
       "      <td></td>\n",
       "    </tr>\n",
       "    <tr>\n",
       "      <td>data:aerodynamics:wing:MAC:low_speed:reynolds</td>\n",
       "      <td>OUT</td>\n",
       "      <td></td>\n",
       "    </tr>\n",
       "    <tr>\n",
       "      <td>data:aerodynamics:wing:airfoil:CL_alpha</td>\n",
       "      <td>OUT</td>\n",
       "      <td></td>\n",
       "    </tr>\n",
       "    <tr>\n",
       "      <td>data:aerodynamics:wing:cruise:CD0</td>\n",
       "      <td>OUT</td>\n",
       "      <td>profile drag coefficient for wing w.r.t. data:aerodynamics:aircraft:cruise:CL</td>\n",
       "    </tr>\n",
       "    <tr>\n",
       "      <td>data:aerodynamics:wing:cruise:CDp</td>\n",
       "      <td>OUT</td>\n",
       "      <td></td>\n",
       "    </tr>\n",
       "    <tr>\n",
       "      <td>data:aerodynamics:wing:cruise:CL</td>\n",
       "      <td>OUT</td>\n",
       "      <td></td>\n",
       "    </tr>\n",
       "    <tr>\n",
       "      <td>data:aerodynamics:wing:cruise:CL0_clean</td>\n",
       "      <td>OUT</td>\n",
       "      <td></td>\n",
       "    </tr>\n",
       "    <tr>\n",
       "      <td>data:aerodynamics:wing:cruise:CL_alpha</td>\n",
       "      <td>OUT</td>\n",
       "      <td></td>\n",
       "    </tr>\n",
       "    <tr>\n",
       "      <td>data:aerodynamics:wing:cruise:CM0_clean</td>\n",
       "      <td>OUT</td>\n",
       "      <td></td>\n",
       "    </tr>\n",
       "    <tr>\n",
       "      <td>data:aerodynamics:wing:cruise:induced_drag_coefficient</td>\n",
       "      <td>OUT</td>\n",
       "      <td></td>\n",
       "    </tr>\n",
       "    <tr>\n",
       "      <td>data:aerodynamics:wing:cruise:reynolds</td>\n",
       "      <td>OUT</td>\n",
       "      <td>Reynolds number based on wing mean aerodynamic chord in cruise conditions</td>\n",
       "    </tr>\n",
       "    <tr>\n",
       "      <td>data:aerodynamics:wing:low_speed:CD0</td>\n",
       "      <td>OUT</td>\n",
       "      <td>profile drag coefficient for wing w.r.t. data:aerodynamics:aircraft:low_speed:CL</td>\n",
       "    </tr>\n",
       "    <tr>\n",
       "      <td>data:aerodynamics:wing:low_speed:CDp</td>\n",
       "      <td>OUT</td>\n",
       "      <td></td>\n",
       "    </tr>\n",
       "    <tr>\n",
       "      <td>data:aerodynamics:wing:low_speed:CL</td>\n",
       "      <td>OUT</td>\n",
       "      <td></td>\n",
       "    </tr>\n",
       "    <tr>\n",
       "      <td>data:aerodynamics:wing:low_speed:CL0_clean</td>\n",
       "      <td>OUT</td>\n",
       "      <td></td>\n",
       "    </tr>\n",
       "    <tr>\n",
       "      <td>data:aerodynamics:wing:low_speed:CL_alpha</td>\n",
       "      <td>OUT</td>\n",
       "      <td></td>\n",
       "    </tr>\n",
       "    <tr>\n",
       "      <td>data:aerodynamics:wing:low_speed:CL_max_clean</td>\n",
       "      <td>OUT</td>\n",
       "      <td>wing maximum lift coefficient for positive angle of attack</td>\n",
       "    </tr>\n",
       "    <tr>\n",
       "      <td>data:aerodynamics:wing:low_speed:CL_min_clean</td>\n",
       "      <td>OUT</td>\n",
       "      <td>wing maximum lift coefficient for negative angle of attack</td>\n",
       "    </tr>\n",
       "    <tr>\n",
       "      <td>data:aerodynamics:wing:low_speed:CL_vector</td>\n",
       "      <td>OUT</td>\n",
       "      <td></td>\n",
       "    </tr>\n",
       "    <tr>\n",
       "      <td>data:aerodynamics:wing:low_speed:CM0_clean</td>\n",
       "      <td>OUT</td>\n",
       "      <td></td>\n",
       "    </tr>\n",
       "    <tr>\n",
       "      <td>data:aerodynamics:wing:low_speed:Y_vector</td>\n",
       "      <td>OUT</td>\n",
       "      <td></td>\n",
       "    </tr>\n",
       "    <tr>\n",
       "      <td>data:aerodynamics:wing:low_speed:chord_vector</td>\n",
       "      <td>OUT</td>\n",
       "      <td></td>\n",
       "    </tr>\n",
       "    <tr>\n",
       "      <td>data:aerodynamics:wing:low_speed:induced_drag_coefficient</td>\n",
       "      <td>OUT</td>\n",
       "      <td></td>\n",
       "    </tr>\n",
       "    <tr>\n",
       "      <td>data:aerodynamics:wing:low_speed:reynolds</td>\n",
       "      <td>OUT</td>\n",
       "      <td>Reynolds number based on wing mean aerodynamic chord in low speed conditions</td>\n",
       "    </tr>\n",
       "    <tr>\n",
       "      <td>data:aerodynamics:wing:low_speed:root:CL_max_2D</td>\n",
       "      <td>OUT</td>\n",
       "      <td>wing root chord airfoil maximum lift coefficient for positive angle of attack</td>\n",
       "    </tr>\n",
       "    <tr>\n",
       "      <td>data:aerodynamics:wing:low_speed:root:CL_min_2D</td>\n",
       "      <td>OUT</td>\n",
       "      <td>wing root chord airfoil maximum lift coefficient for negative angle of attack</td>\n",
       "    </tr>\n",
       "    <tr>\n",
       "      <td>data:aerodynamics:wing:low_speed:tip:CL_max_2D</td>\n",
       "      <td>OUT</td>\n",
       "      <td>wing tip chord airfoil maximum lift coefficient for positive angle of attack</td>\n",
       "    </tr>\n",
       "    <tr>\n",
       "      <td>data:aerodynamics:wing:low_speed:tip:CL_min_2D</td>\n",
       "      <td>OUT</td>\n",
       "      <td>wing tip chord airfoil maximum lift coefficient for negative angle of attack</td>\n",
       "    </tr>\n",
       "    <tr>\n",
       "      <td>data:aerodynamics:wing:root:low_speed:reynolds</td>\n",
       "      <td>OUT</td>\n",
       "      <td>wing root chord reynolds in low speed conditions</td>\n",
       "    </tr>\n",
       "    <tr>\n",
       "      <td>data:aerodynamics:wing:tip:low_speed:reynolds</td>\n",
       "      <td>OUT</td>\n",
       "      <td>wing tip chord reynolds in low speed conditions</td>\n",
       "    </tr>\n",
       "    <tr>\n",
       "      <td>data:constraints:horizontal_tail:landing</td>\n",
       "      <td>OUT</td>\n",
       "      <td>margin on the horizontal tail area with respect to the landing constraint</td>\n",
       "    </tr>\n",
       "    <tr>\n",
       "      <td>data:constraints:horizontal_tail:takeoff_rotation</td>\n",
       "      <td>OUT</td>\n",
       "      <td>margin on the horizontal tail area with respect to the takeoff rotation constraint</td>\n",
       "    </tr>\n",
       "    <tr>\n",
       "      <td>data:constraints:vertical_tail:crosswind_landing</td>\n",
       "      <td>OUT</td>\n",
       "      <td>margin on the vertical tail area with respect to the constraint due to crosswind landing</td>\n",
       "    </tr>\n",
       "    <tr>\n",
       "      <td>data:constraints:vertical_tail:engine_out_climb</td>\n",
       "      <td>OUT</td>\n",
       "      <td>margin on the vertical tail area with respect to the climb with one engine out condition</td>\n",
       "    </tr>\n",
       "    <tr>\n",
       "      <td>data:constraints:vertical_tail:engine_out_landing</td>\n",
       "      <td>OUT</td>\n",
       "      <td>margin on the vertical tail area with respect to the landing with one engine out condition</td>\n",
       "    </tr>\n",
       "    <tr>\n",
       "      <td>data:constraints:vertical_tail:engine_out_takeoff</td>\n",
       "      <td>OUT</td>\n",
       "      <td>margin on the vertical tail area with respect to the takeoff with one engine out condition</td>\n",
       "    </tr>\n",
       "    <tr>\n",
       "      <td>data:constraints:vertical_tail:target_cruise_stability</td>\n",
       "      <td>OUT</td>\n",
       "      <td>margin on the vertical tail area with respect to the cruise stability constraint</td>\n",
       "    </tr>\n",
       "    <tr>\n",
       "      <td>data:constraints:wing:additional_CL_capacity</td>\n",
       "      <td>OUT</td>\n",
       "      <td></td>\n",
       "    </tr>\n",
       "    <tr>\n",
       "      <td>data:constraints:wing:additional_fuel_capacity</td>\n",
       "      <td>OUT</td>\n",
       "      <td></td>\n",
       "    </tr>\n",
       "    <tr>\n",
       "      <td>data:geometry:aircraft:wet_area</td>\n",
       "      <td>OUT</td>\n",
       "      <td>aircraft total wet area</td>\n",
       "    </tr>\n",
       "    <tr>\n",
       "      <td>data:geometry:cabin:NPAX</td>\n",
       "      <td>OUT</td>\n",
       "      <td></td>\n",
       "    </tr>\n",
       "    <tr>\n",
       "      <td>data:geometry:cabin:length</td>\n",
       "      <td>OUT</td>\n",
       "      <td>cabin length</td>\n",
       "    </tr>\n",
       "    <tr>\n",
       "      <td>data:geometry:fuselage:PAX_length</td>\n",
       "      <td>OUT</td>\n",
       "      <td>length of passenger-dedicated zone</td>\n",
       "    </tr>\n",
       "    <tr>\n",
       "      <td>data:geometry:fuselage:front_length</td>\n",
       "      <td>OUT</td>\n",
       "      <td>length of front non-cylindrical part of the fuselage</td>\n",
       "    </tr>\n",
       "    <tr>\n",
       "      <td>data:geometry:fuselage:length</td>\n",
       "      <td>OUT</td>\n",
       "      <td>total fuselage length</td>\n",
       "    </tr>\n",
       "    <tr>\n",
       "      <td>data:geometry:fuselage:luggage_length</td>\n",
       "      <td>OUT</td>\n",
       "      <td></td>\n",
       "    </tr>\n",
       "    <tr>\n",
       "      <td>data:geometry:fuselage:maximum_height</td>\n",
       "      <td>OUT</td>\n",
       "      <td>maximum fuselage height</td>\n",
       "    </tr>\n",
       "    <tr>\n",
       "      <td>data:geometry:fuselage:maximum_width</td>\n",
       "      <td>OUT</td>\n",
       "      <td>maximum fuselage width</td>\n",
       "    </tr>\n",
       "    <tr>\n",
       "      <td>data:geometry:fuselage:rear_length</td>\n",
       "      <td>OUT</td>\n",
       "      <td>length of rear non-cylindrical part of the fuselage</td>\n",
       "    </tr>\n",
       "    <tr>\n",
       "      <td>data:geometry:fuselage:wet_area</td>\n",
       "      <td>OUT</td>\n",
       "      <td>fuselage wet area</td>\n",
       "    </tr>\n",
       "    <tr>\n",
       "      <td>data:geometry:horizontal_tail:MAC:at25percent:x:local</td>\n",
       "      <td>OUT</td>\n",
       "      <td>X-position of the 25% of mean aerodynamic chord of horizontal tail w.r.t. leading edge of root chord</td>\n",
       "    </tr>\n",
       "    <tr>\n",
       "      <td>data:geometry:horizontal_tail:MAC:length</td>\n",
       "      <td>OUT</td>\n",
       "      <td>mean aerodynamic chord length of horizontal tail</td>\n",
       "    </tr>\n",
       "    <tr>\n",
       "      <td>data:geometry:horizontal_tail:MAC:y</td>\n",
       "      <td>OUT</td>\n",
       "      <td>Y-position of mean aerodynamic chord of horizontal tail</td>\n",
       "    </tr>\n",
       "    <tr>\n",
       "      <td>data:geometry:horizontal_tail:area</td>\n",
       "      <td>OUT</td>\n",
       "      <td>horizontal tail area</td>\n",
       "    </tr>\n",
       "    <tr>\n",
       "      <td>data:geometry:horizontal_tail:root:chord</td>\n",
       "      <td>OUT</td>\n",
       "      <td>chord length at root of horizontal tail</td>\n",
       "    </tr>\n",
       "    <tr>\n",
       "      <td>data:geometry:horizontal_tail:span</td>\n",
       "      <td>OUT</td>\n",
       "      <td>horizontal tail span</td>\n",
       "    </tr>\n",
       "    <tr>\n",
       "      <td>data:geometry:horizontal_tail:sweep_0</td>\n",
       "      <td>OUT</td>\n",
       "      <td>sweep angle at leading edge of horizontal tail</td>\n",
       "    </tr>\n",
       "    <tr>\n",
       "      <td>data:geometry:horizontal_tail:sweep_100</td>\n",
       "      <td>OUT</td>\n",
       "      <td>sweep angle at trailing edge of horizontal tail</td>\n",
       "    </tr>\n",
       "    <tr>\n",
       "      <td>data:geometry:horizontal_tail:tip:chord</td>\n",
       "      <td>OUT</td>\n",
       "      <td>chord length at tip of horizontal tail</td>\n",
       "    </tr>\n",
       "    <tr>\n",
       "      <td>data:geometry:horizontal_tail:wet_area</td>\n",
       "      <td>OUT</td>\n",
       "      <td>wet area of horizontal tail</td>\n",
       "    </tr>\n",
       "    <tr>\n",
       "      <td>data:geometry:horizontal_tail:z:from_wingMAC25</td>\n",
       "      <td>OUT</td>\n",
       "      <td>Z-position of the horizontal tail w.r.t. 25% MAC of wing Z-position</td>\n",
       "    </tr>\n",
       "    <tr>\n",
       "      <td>data:geometry:landing_gear:height</td>\n",
       "      <td>OUT</td>\n",
       "      <td>height of landing gear</td>\n",
       "    </tr>\n",
       "    <tr>\n",
       "      <td>data:geometry:plane:length</td>\n",
       "      <td>OUT</td>\n",
       "      <td></td>\n",
       "    </tr>\n",
       "    <tr>\n",
       "      <td>data:geometry:propulsion:nacelle:height</td>\n",
       "      <td>OUT</td>\n",
       "      <td></td>\n",
       "    </tr>\n",
       "    <tr>\n",
       "      <td>data:geometry:propulsion:nacelle:length</td>\n",
       "      <td>OUT</td>\n",
       "      <td>nacelle length</td>\n",
       "    </tr>\n",
       "    <tr>\n",
       "      <td>data:geometry:propulsion:nacelle:wet_area</td>\n",
       "      <td>OUT</td>\n",
       "      <td></td>\n",
       "    </tr>\n",
       "    <tr>\n",
       "      <td>data:geometry:propulsion:nacelle:width</td>\n",
       "      <td>OUT</td>\n",
       "      <td></td>\n",
       "    </tr>\n",
       "    <tr>\n",
       "      <td>data:geometry:propulsion:nacelle:x</td>\n",
       "      <td>OUT</td>\n",
       "      <td></td>\n",
       "    </tr>\n",
       "    <tr>\n",
       "      <td>data:geometry:propulsion:nacelle:y</td>\n",
       "      <td>OUT</td>\n",
       "      <td>Y-position of nacelle center</td>\n",
       "    </tr>\n",
       "    <tr>\n",
       "      <td>data:geometry:propulsion:propeller:depth</td>\n",
       "      <td>OUT</td>\n",
       "      <td></td>\n",
       "    </tr>\n",
       "    <tr>\n",
       "      <td>data:geometry:propulsion:propeller:diameter</td>\n",
       "      <td>OUT</td>\n",
       "      <td></td>\n",
       "    </tr>\n",
       "    <tr>\n",
       "      <td>data:geometry:vertical_tail:MAC:at25percent:x:from_wingMAC25</td>\n",
       "      <td>OUT</td>\n",
       "      <td>distance along X between 25% MAC of wing and 25% MAC of vertical tail</td>\n",
       "    </tr>\n",
       "    <tr>\n",
       "      <td>data:geometry:vertical_tail:MAC:at25percent:x:local</td>\n",
       "      <td>OUT</td>\n",
       "      <td>X-position of the 25% of mean aerodynamic chord of vertical tail w.r.t. leading edge of root chord</td>\n",
       "    </tr>\n",
       "    <tr>\n",
       "      <td>data:geometry:vertical_tail:MAC:length</td>\n",
       "      <td>OUT</td>\n",
       "      <td>mean aerodynamic chord length of vertical tail</td>\n",
       "    </tr>\n",
       "    <tr>\n",
       "      <td>data:geometry:vertical_tail:MAC:z</td>\n",
       "      <td>OUT</td>\n",
       "      <td>Z-position of mean aerodynamic chord of vertical tail</td>\n",
       "    </tr>\n",
       "    <tr>\n",
       "      <td>data:geometry:vertical_tail:area</td>\n",
       "      <td>OUT</td>\n",
       "      <td>vertical tail area</td>\n",
       "    </tr>\n",
       "    <tr>\n",
       "      <td>data:geometry:vertical_tail:root:chord</td>\n",
       "      <td>OUT</td>\n",
       "      <td>chord length at root of vertical tail</td>\n",
       "    </tr>\n",
       "    <tr>\n",
       "      <td>data:geometry:vertical_tail:span</td>\n",
       "      <td>OUT</td>\n",
       "      <td>vertical tail span</td>\n",
       "    </tr>\n",
       "    <tr>\n",
       "      <td>data:geometry:vertical_tail:sweep_0</td>\n",
       "      <td>OUT</td>\n",
       "      <td>sweep angle at leading edge of vertical tail</td>\n",
       "    </tr>\n",
       "    <tr>\n",
       "      <td>data:geometry:vertical_tail:sweep_100</td>\n",
       "      <td>OUT</td>\n",
       "      <td>sweep angle at trailing edge of vertical tail</td>\n",
       "    </tr>\n",
       "    <tr>\n",
       "      <td>data:geometry:vertical_tail:tip:chord</td>\n",
       "      <td>OUT</td>\n",
       "      <td>chord length at tip of vertical tail</td>\n",
       "    </tr>\n",
       "    <tr>\n",
       "      <td>data:geometry:vertical_tail:wet_area</td>\n",
       "      <td>OUT</td>\n",
       "      <td>wet area of vertical tail</td>\n",
       "    </tr>\n",
       "    <tr>\n",
       "      <td>data:geometry:wing:MAC:at25percent:x</td>\n",
       "      <td>OUT</td>\n",
       "      <td>X-position of the 25% of mean aerodynamic chord of wing w.r.t. aircraft nose (drives position of wing along fuselage)</td>\n",
       "    </tr>\n",
       "    <tr>\n",
       "      <td>data:geometry:wing:MAC:leading_edge:x:local</td>\n",
       "      <td>OUT</td>\n",
       "      <td>X-position of leading edge of mean aerodynamic chord w.r.t. leading edge of root chord</td>\n",
       "    </tr>\n",
       "    <tr>\n",
       "      <td>data:geometry:wing:MAC:length</td>\n",
       "      <td>OUT</td>\n",
       "      <td>length of mean aerodynamic chord of wing</td>\n",
       "    </tr>\n",
       "    <tr>\n",
       "      <td>data:geometry:wing:MAC:y</td>\n",
       "      <td>OUT</td>\n",
       "      <td>Y-position of mean aerodynamic chord of wing</td>\n",
       "    </tr>\n",
       "    <tr>\n",
       "      <td>data:geometry:wing:area</td>\n",
       "      <td>OUT</td>\n",
       "      <td>wing reference area</td>\n",
       "    </tr>\n",
       "    <tr>\n",
       "      <td>data:geometry:wing:b_50</td>\n",
       "      <td>OUT</td>\n",
       "      <td>actual length between root and tip along 50% of chord</td>\n",
       "    </tr>\n",
       "    <tr>\n",
       "      <td>data:geometry:wing:kink:chord</td>\n",
       "      <td>OUT</td>\n",
       "      <td>chord length at wing kink</td>\n",
       "    </tr>\n",
       "    <tr>\n",
       "      <td>data:geometry:wing:kink:leading_edge:x:local</td>\n",
       "      <td>OUT</td>\n",
       "      <td>X-position of leading edge at wing kink w.r.t. leading edge of root chord</td>\n",
       "    </tr>\n",
       "    <tr>\n",
       "      <td>data:geometry:wing:kink:thickness_ratio</td>\n",
       "      <td>OUT</td>\n",
       "      <td>thickness ratio at wing kink</td>\n",
       "    </tr>\n",
       "    <tr>\n",
       "      <td>data:geometry:wing:kink:y</td>\n",
       "      <td>OUT</td>\n",
       "      <td>Y-position of wing kink</td>\n",
       "    </tr>\n",
       "    <tr>\n",
       "      <td>data:geometry:wing:outer_area</td>\n",
       "      <td>OUT</td>\n",
       "      <td>wing area outside of fuselage</td>\n",
       "    </tr>\n",
       "    <tr>\n",
       "      <td>data:geometry:wing:root:chord</td>\n",
       "      <td>OUT</td>\n",
       "      <td>chord length at wing root</td>\n",
       "    </tr>\n",
       "    <tr>\n",
       "      <td>data:geometry:wing:root:thickness_ratio</td>\n",
       "      <td>OUT</td>\n",
       "      <td>thickness ratio at wing root</td>\n",
       "    </tr>\n",
       "    <tr>\n",
       "      <td>data:geometry:wing:root:virtual_chord</td>\n",
       "      <td>OUT</td>\n",
       "      <td>virtual chord length at wing root if sweep angle of trailing edge of outer wing part was on the whole wing (no kink)</td>\n",
       "    </tr>\n",
       "    <tr>\n",
       "      <td>data:geometry:wing:root:y</td>\n",
       "      <td>OUT</td>\n",
       "      <td>Y-position of wing root</td>\n",
       "    </tr>\n",
       "    <tr>\n",
       "      <td>data:geometry:wing:span</td>\n",
       "      <td>OUT</td>\n",
       "      <td>wing span</td>\n",
       "    </tr>\n",
       "    <tr>\n",
       "      <td>data:geometry:wing:sweep_0</td>\n",
       "      <td>OUT</td>\n",
       "      <td>sweep angle at leading edge of wing</td>\n",
       "    </tr>\n",
       "    <tr>\n",
       "      <td>data:geometry:wing:sweep_100_inner</td>\n",
       "      <td>OUT</td>\n",
       "      <td>sweep angle at trailing edge of wing (inner side of the kink)</td>\n",
       "    </tr>\n",
       "    <tr>\n",
       "      <td>data:geometry:wing:sweep_100_outer</td>\n",
       "      <td>OUT</td>\n",
       "      <td>sweep angle at trailing edge of wing (outer side of the kink)</td>\n",
       "    </tr>\n",
       "    <tr>\n",
       "      <td>data:geometry:wing:tip:chord</td>\n",
       "      <td>OUT</td>\n",
       "      <td>chord length at wing tip</td>\n",
       "    </tr>\n",
       "    <tr>\n",
       "      <td>data:geometry:wing:tip:leading_edge:x:local</td>\n",
       "      <td>OUT</td>\n",
       "      <td>X-position of leading edge at wing tip w.r.t. leading edge of root chord</td>\n",
       "    </tr>\n",
       "    <tr>\n",
       "      <td>data:geometry:wing:tip:thickness_ratio</td>\n",
       "      <td>OUT</td>\n",
       "      <td>thickness ratio at wing tip</td>\n",
       "    </tr>\n",
       "    <tr>\n",
       "      <td>data:geometry:wing:tip:y</td>\n",
       "      <td>OUT</td>\n",
       "      <td>Y-position of wing tip</td>\n",
       "    </tr>\n",
       "    <tr>\n",
       "      <td>data:geometry:wing:wet_area</td>\n",
       "      <td>OUT</td>\n",
       "      <td>wet area of wing</td>\n",
       "    </tr>\n",
       "    <tr>\n",
       "      <td>data:handling_qualities:stick_fixed_static_margin</td>\n",
       "      <td>OUT</td>\n",
       "      <td>stick fixed static margin</td>\n",
       "    </tr>\n",
       "    <tr>\n",
       "      <td>data:handling_qualities:stick_free_static_margin</td>\n",
       "      <td>OUT</td>\n",
       "      <td>stick free static margin</td>\n",
       "    </tr>\n",
       "    <tr>\n",
       "      <td>data:mission:sizing:fuel</td>\n",
       "      <td>OUT</td>\n",
       "      <td>consumed fuel mass during whole mission</td>\n",
       "    </tr>\n",
       "    <tr>\n",
       "      <td>data:mission:sizing:initial_climb:fuel</td>\n",
       "      <td>OUT</td>\n",
       "      <td>mass of consumed fuel during initial climb phase in sizing mission</td>\n",
       "    </tr>\n",
       "    <tr>\n",
       "      <td>data:mission:sizing:main_route:climb:distance</td>\n",
       "      <td>OUT</td>\n",
       "      <td>covered ground distance during climb phase</td>\n",
       "    </tr>\n",
       "    <tr>\n",
       "      <td>data:mission:sizing:main_route:climb:duration</td>\n",
       "      <td>OUT</td>\n",
       "      <td>duration of climb phase in sizing mission</td>\n",
       "    </tr>\n",
       "    <tr>\n",
       "      <td>data:mission:sizing:main_route:climb:fuel</td>\n",
       "      <td>OUT</td>\n",
       "      <td>mass of consumed fuel during climb phase in sizing mission</td>\n",
       "    </tr>\n",
       "    <tr>\n",
       "      <td>data:mission:sizing:main_route:climb:v_cas</td>\n",
       "      <td>OUT</td>\n",
       "      <td></td>\n",
       "    </tr>\n",
       "    <tr>\n",
       "      <td>data:mission:sizing:main_route:cruise:distance</td>\n",
       "      <td>OUT</td>\n",
       "      <td>covered ground distance during cruise phase</td>\n",
       "    </tr>\n",
       "    <tr>\n",
       "      <td>data:mission:sizing:main_route:cruise:duration</td>\n",
       "      <td>OUT</td>\n",
       "      <td>duration of cruise phase in sizing mission</td>\n",
       "    </tr>\n",
       "    <tr>\n",
       "      <td>data:mission:sizing:main_route:cruise:fuel</td>\n",
       "      <td>OUT</td>\n",
       "      <td>mass of consumed fuel during cruise phase in sizing mission</td>\n",
       "    </tr>\n",
       "    <tr>\n",
       "      <td>data:mission:sizing:main_route:descent:distance</td>\n",
       "      <td>OUT</td>\n",
       "      <td>covered ground distance during descent phase</td>\n",
       "    </tr>\n",
       "    <tr>\n",
       "      <td>data:mission:sizing:main_route:descent:duration</td>\n",
       "      <td>OUT</td>\n",
       "      <td>duration of descent phase in sizing mission</td>\n",
       "    </tr>\n",
       "    <tr>\n",
       "      <td>data:mission:sizing:main_route:descent:fuel</td>\n",
       "      <td>OUT</td>\n",
       "      <td>mass of consumed fuel during descent phase in sizing mission</td>\n",
       "    </tr>\n",
       "    <tr>\n",
       "      <td>data:mission:sizing:main_route:reserve:fuel</td>\n",
       "      <td>OUT</td>\n",
       "      <td></td>\n",
       "    </tr>\n",
       "    <tr>\n",
       "      <td>data:mission:sizing:takeoff:TOFL</td>\n",
       "      <td>OUT</td>\n",
       "      <td>TakeOff Field Length in sizing mission</td>\n",
       "    </tr>\n",
       "    <tr>\n",
       "      <td>data:mission:sizing:takeoff:V2</td>\n",
       "      <td>OUT</td>\n",
       "      <td>safety speed before reaching 35 feet height in sizing mission</td>\n",
       "    </tr>\n",
       "    <tr>\n",
       "      <td>data:mission:sizing:takeoff:VLOF</td>\n",
       "      <td>OUT</td>\n",
       "      <td>lift-off speed in sizing mission</td>\n",
       "    </tr>\n",
       "    <tr>\n",
       "      <td>data:mission:sizing:takeoff:VR</td>\n",
       "      <td>OUT</td>\n",
       "      <td>rotation speed in sizing mission</td>\n",
       "    </tr>\n",
       "    <tr>\n",
       "      <td>data:mission:sizing:takeoff:climb_gradient</td>\n",
       "      <td>OUT</td>\n",
       "      <td></td>\n",
       "    </tr>\n",
       "    <tr>\n",
       "      <td>data:mission:sizing:takeoff:duration</td>\n",
       "      <td>OUT</td>\n",
       "      <td>duration of takeoff phase in sizing mission</td>\n",
       "    </tr>\n",
       "    <tr>\n",
       "      <td>data:mission:sizing:takeoff:fuel</td>\n",
       "      <td>OUT</td>\n",
       "      <td>mass of consumed fuel during takeoff phase in sizing mission</td>\n",
       "    </tr>\n",
       "    <tr>\n",
       "      <td>data:mission:sizing:takeoff:ground_roll</td>\n",
       "      <td>OUT</td>\n",
       "      <td></td>\n",
       "    </tr>\n",
       "    <tr>\n",
       "      <td>data:mission:sizing:taxi_in:fuel</td>\n",
       "      <td>OUT</td>\n",
       "      <td>mass of consumed fuel during taxi-in phase in sizing mission</td>\n",
       "    </tr>\n",
       "    <tr>\n",
       "      <td>data:mission:sizing:taxi_out:fuel</td>\n",
       "      <td>OUT</td>\n",
       "      <td>mass of consumed fuel during taxi-out phase in sizing mission</td>\n",
       "    </tr>\n",
       "    <tr>\n",
       "      <td>data:weight:aircraft:CG:aft:MAC_position</td>\n",
       "      <td>OUT</td>\n",
       "      <td>most aft X-position of center of gravity as ratio of mean aerodynamic chord</td>\n",
       "    </tr>\n",
       "    <tr>\n",
       "      <td>data:weight:aircraft:CG:aft:x</td>\n",
       "      <td>OUT</td>\n",
       "      <td>most aft X-position of aircraft center of gravity</td>\n",
       "    </tr>\n",
       "    <tr>\n",
       "      <td>data:weight:aircraft:CG:flight_condition:max:MAC_position</td>\n",
       "      <td>OUT</td>\n",
       "      <td></td>\n",
       "    </tr>\n",
       "    <tr>\n",
       "      <td>data:weight:aircraft:CG:flight_condition:min:MAC_position</td>\n",
       "      <td>OUT</td>\n",
       "      <td></td>\n",
       "    </tr>\n",
       "    <tr>\n",
       "      <td>data:weight:aircraft:CG:fwd:MAC_position</td>\n",
       "      <td>OUT</td>\n",
       "      <td></td>\n",
       "    </tr>\n",
       "    <tr>\n",
       "      <td>data:weight:aircraft:CG:fwd:x</td>\n",
       "      <td>OUT</td>\n",
       "      <td></td>\n",
       "    </tr>\n",
       "    <tr>\n",
       "      <td>data:weight:aircraft:CG:ground_condition:max:MAC_position</td>\n",
       "      <td>OUT</td>\n",
       "      <td></td>\n",
       "    </tr>\n",
       "    <tr>\n",
       "      <td>data:weight:aircraft:CG:ground_condition:min:MAC_position</td>\n",
       "      <td>OUT</td>\n",
       "      <td></td>\n",
       "    </tr>\n",
       "    <tr>\n",
       "      <td>data:weight:aircraft:MFW</td>\n",
       "      <td>OUT</td>\n",
       "      <td>maximum fuel weight</td>\n",
       "    </tr>\n",
       "    <tr>\n",
       "      <td>data:weight:aircraft:MLW</td>\n",
       "      <td>OUT</td>\n",
       "      <td>maximum landing weight</td>\n",
       "    </tr>\n",
       "    <tr>\n",
       "      <td>data:weight:aircraft:MTOW</td>\n",
       "      <td>OUT</td>\n",
       "      <td>maximum takeoff weight</td>\n",
       "    </tr>\n",
       "    <tr>\n",
       "      <td>data:weight:aircraft:MZFW</td>\n",
       "      <td>OUT</td>\n",
       "      <td>maximum zero fuel weight</td>\n",
       "    </tr>\n",
       "    <tr>\n",
       "      <td>data:weight:aircraft:OWE</td>\n",
       "      <td>OUT</td>\n",
       "      <td>Mass of aircraft</td>\n",
       "    </tr>\n",
       "    <tr>\n",
       "      <td>data:weight:aircraft:ZFW</td>\n",
       "      <td>OUT</td>\n",
       "      <td>aircraft mass with payload, without fuel</td>\n",
       "    </tr>\n",
       "    <tr>\n",
       "      <td>data:weight:aircraft:empty:CG:MAC_position</td>\n",
       "      <td>OUT</td>\n",
       "      <td>X-position of center of gravity as ratio of mean aerodynamic chord for empty aircraft</td>\n",
       "    </tr>\n",
       "    <tr>\n",
       "      <td>data:weight:aircraft:in_flight_variation:fixed_mass_comp:equivalent_moment</td>\n",
       "      <td>OUT</td>\n",
       "      <td></td>\n",
       "    </tr>\n",
       "    <tr>\n",
       "      <td>data:weight:aircraft:in_flight_variation:fixed_mass_comp:mass</td>\n",
       "      <td>OUT</td>\n",
       "      <td></td>\n",
       "    </tr>\n",
       "    <tr>\n",
       "      <td>data:weight:aircraft:max_payload</td>\n",
       "      <td>OUT</td>\n",
       "      <td>max payload weight</td>\n",
       "    </tr>\n",
       "    <tr>\n",
       "      <td>data:weight:aircraft:payload</td>\n",
       "      <td>OUT</td>\n",
       "      <td>design payload weight</td>\n",
       "    </tr>\n",
       "    <tr>\n",
       "      <td>data:weight:aircraft_empty:CG:x</td>\n",
       "      <td>OUT</td>\n",
       "      <td>X-position center of gravity of empty aircraft</td>\n",
       "    </tr>\n",
       "    <tr>\n",
       "      <td>data:weight:aircraft_empty:CG:z</td>\n",
       "      <td>OUT</td>\n",
       "      <td></td>\n",
       "    </tr>\n",
       "    <tr>\n",
       "      <td>data:weight:aircraft_empty:mass</td>\n",
       "      <td>OUT</td>\n",
       "      <td>mass of empty aircraft (=OWE - mass of crew)</td>\n",
       "    </tr>\n",
       "    <tr>\n",
       "      <td>data:weight:airframe:flight_controls:CG:x</td>\n",
       "      <td>OUT</td>\n",
       "      <td>flight controls (A4): X-position of center of gravity</td>\n",
       "    </tr>\n",
       "    <tr>\n",
       "      <td>data:weight:airframe:flight_controls:mass</td>\n",
       "      <td>OUT</td>\n",
       "      <td>flight controls (A4): total mass</td>\n",
       "    </tr>\n",
       "    <tr>\n",
       "      <td>data:weight:airframe:fuselage:CG:x</td>\n",
       "      <td>OUT</td>\n",
       "      <td>fuselage (A2): X-position of center of gravity</td>\n",
       "    </tr>\n",
       "    <tr>\n",
       "      <td>data:weight:airframe:fuselage:mass</td>\n",
       "      <td>OUT</td>\n",
       "      <td>fuselage (A2): total mass</td>\n",
       "    </tr>\n",
       "    <tr>\n",
       "      <td>data:weight:airframe:horizontal_tail:CG:x</td>\n",
       "      <td>OUT</td>\n",
       "      <td>horizontal tail (A31): X-position of center of gravity</td>\n",
       "    </tr>\n",
       "    <tr>\n",
       "      <td>data:weight:airframe:horizontal_tail:mass</td>\n",
       "      <td>OUT</td>\n",
       "      <td>horizontal tail (A31): mass</td>\n",
       "    </tr>\n",
       "    <tr>\n",
       "      <td>data:weight:airframe:landing_gear:front:CG:x</td>\n",
       "      <td>OUT</td>\n",
       "      <td>front landing gear (A52): X-position of center of gravity</td>\n",
       "    </tr>\n",
       "    <tr>\n",
       "      <td>data:weight:airframe:landing_gear:front:mass</td>\n",
       "      <td>OUT</td>\n",
       "      <td>front landing gear (A52): mass</td>\n",
       "    </tr>\n",
       "    <tr>\n",
       "      <td>data:weight:airframe:landing_gear:main:CG:x</td>\n",
       "      <td>OUT</td>\n",
       "      <td>main landing gear (A51): X-position of center of gravity</td>\n",
       "    </tr>\n",
       "    <tr>\n",
       "      <td>data:weight:airframe:landing_gear:main:mass</td>\n",
       "      <td>OUT</td>\n",
       "      <td>main landing gear (A51): mass</td>\n",
       "    </tr>\n",
       "    <tr>\n",
       "      <td>data:weight:airframe:mass</td>\n",
       "      <td>OUT</td>\n",
       "      <td>Mass of airframe</td>\n",
       "    </tr>\n",
       "    <tr>\n",
       "      <td>data:weight:airframe:vertical_tail:CG:x</td>\n",
       "      <td>OUT</td>\n",
       "      <td>vertical tail (A32): X-position of center of gravity</td>\n",
       "    </tr>\n",
       "    <tr>\n",
       "      <td>data:weight:airframe:vertical_tail:mass</td>\n",
       "      <td>OUT</td>\n",
       "      <td>vertical tail (A32): mass</td>\n",
       "    </tr>\n",
       "    <tr>\n",
       "      <td>data:weight:airframe:wing:CG:x</td>\n",
       "      <td>OUT</td>\n",
       "      <td>wing (A1): X-position of center of gravity</td>\n",
       "    </tr>\n",
       "    <tr>\n",
       "      <td>data:weight:airframe:wing:mass</td>\n",
       "      <td>OUT</td>\n",
       "      <td>wing (A1): total mass</td>\n",
       "    </tr>\n",
       "    <tr>\n",
       "      <td>data:weight:furniture:mass</td>\n",
       "      <td>OUT</td>\n",
       "      <td>Mass of aircraft furniture</td>\n",
       "    </tr>\n",
       "    <tr>\n",
       "      <td>data:weight:furniture:passenger_seats:CG:x</td>\n",
       "      <td>OUT</td>\n",
       "      <td>passenger seats (D2): X-position of center of gravity</td>\n",
       "    </tr>\n",
       "    <tr>\n",
       "      <td>data:weight:furniture:passenger_seats:mass</td>\n",
       "      <td>OUT</td>\n",
       "      <td>passenger seats (D2): mass</td>\n",
       "    </tr>\n",
       "    <tr>\n",
       "      <td>data:weight:payload:PAX:CG:x</td>\n",
       "      <td>OUT</td>\n",
       "      <td>passengers: X-position of center of gravity</td>\n",
       "    </tr>\n",
       "    <tr>\n",
       "      <td>data:weight:payload:front_fret:CG:x</td>\n",
       "      <td>OUT</td>\n",
       "      <td>front fret: X-position of center of gravity</td>\n",
       "    </tr>\n",
       "    <tr>\n",
       "      <td>data:weight:payload:rear_fret:CG:x</td>\n",
       "      <td>OUT</td>\n",
       "      <td>rear fret: X-position of center of gravity</td>\n",
       "    </tr>\n",
       "    <tr>\n",
       "      <td>data:weight:propulsion:engine:CG:x</td>\n",
       "      <td>OUT</td>\n",
       "      <td>engine (B1): X-position of center of gravity</td>\n",
       "    </tr>\n",
       "    <tr>\n",
       "      <td>data:weight:propulsion:engine:CG:z</td>\n",
       "      <td>OUT</td>\n",
       "      <td></td>\n",
       "    </tr>\n",
       "    <tr>\n",
       "      <td>data:weight:propulsion:engine:mass</td>\n",
       "      <td>OUT</td>\n",
       "      <td>engine (B1): mass</td>\n",
       "    </tr>\n",
       "    <tr>\n",
       "      <td>data:weight:propulsion:fuel_lines:CG:x</td>\n",
       "      <td>OUT</td>\n",
       "      <td>fuel lines (B2): X-position of center of gravity</td>\n",
       "    </tr>\n",
       "    <tr>\n",
       "      <td>data:weight:propulsion:fuel_lines:mass</td>\n",
       "      <td>OUT</td>\n",
       "      <td>fuel lines (B2): mass</td>\n",
       "    </tr>\n",
       "    <tr>\n",
       "      <td>data:weight:propulsion:mass</td>\n",
       "      <td>OUT</td>\n",
       "      <td>Mass of the propulsion system</td>\n",
       "    </tr>\n",
       "    <tr>\n",
       "      <td>data:weight:propulsion:tank:CG:x</td>\n",
       "      <td>OUT</td>\n",
       "      <td></td>\n",
       "    </tr>\n",
       "    <tr>\n",
       "      <td>data:weight:propulsion:unusable_fuel:mass</td>\n",
       "      <td>OUT</td>\n",
       "      <td></td>\n",
       "    </tr>\n",
       "    <tr>\n",
       "      <td>data:weight:systems:life_support:air_conditioning:CG:x</td>\n",
       "      <td>OUT</td>\n",
       "      <td>air conditioning (C2): X-position of center of gravity</td>\n",
       "    </tr>\n",
       "    <tr>\n",
       "      <td>data:weight:systems:life_support:air_conditioning:mass</td>\n",
       "      <td>OUT</td>\n",
       "      <td>air conditioning (C2): mass</td>\n",
       "    </tr>\n",
       "    <tr>\n",
       "      <td>data:weight:systems:life_support:de_icing:mass</td>\n",
       "      <td>OUT</td>\n",
       "      <td>de-icing system mass</td>\n",
       "    </tr>\n",
       "    <tr>\n",
       "      <td>data:weight:systems:life_support:fixed_oxygen:mass</td>\n",
       "      <td>OUT</td>\n",
       "      <td>oxygen system mass</td>\n",
       "    </tr>\n",
       "    <tr>\n",
       "      <td>data:weight:systems:life_support:insulation:mass</td>\n",
       "      <td>OUT</td>\n",
       "      <td>insulation (C21): mass</td>\n",
       "    </tr>\n",
       "    <tr>\n",
       "      <td>data:weight:systems:life_support:internal_lighting:mass</td>\n",
       "      <td>OUT</td>\n",
       "      <td>lightning mass</td>\n",
       "    </tr>\n",
       "    <tr>\n",
       "      <td>data:weight:systems:life_support:seat_installation:mass</td>\n",
       "      <td>OUT</td>\n",
       "      <td>life support embedded in seat mass</td>\n",
       "    </tr>\n",
       "    <tr>\n",
       "      <td>data:weight:systems:life_support:security_kits:mass</td>\n",
       "      <td>OUT</td>\n",
       "      <td>security kits mass</td>\n",
       "    </tr>\n",
       "    <tr>\n",
       "      <td>data:weight:systems:mass</td>\n",
       "      <td>OUT</td>\n",
       "      <td>Mass of aircraft systems</td>\n",
       "    </tr>\n",
       "    <tr>\n",
       "      <td>data:weight:systems:navigation:CG:x</td>\n",
       "      <td>OUT</td>\n",
       "      <td>navigation (C3): X-position of center of gravity</td>\n",
       "    </tr>\n",
       "    <tr>\n",
       "      <td>data:weight:systems:navigation:mass</td>\n",
       "      <td>OUT</td>\n",
       "      <td>navigation (C3): mass</td>\n",
       "    </tr>\n",
       "    <tr>\n",
       "      <td>data:weight:systems:power:electric_systems:CG:x</td>\n",
       "      <td>OUT</td>\n",
       "      <td>power (C1): X-position of center of gravity</td>\n",
       "    </tr>\n",
       "    <tr>\n",
       "      <td>data:weight:systems:power:electric_systems:mass</td>\n",
       "      <td>OUT</td>\n",
       "      <td>power (C1): mass</td>\n",
       "    </tr>\n",
       "    <tr>\n",
       "      <td>data:weight:systems:power:hydraulic_systems:CG:x</td>\n",
       "      <td>OUT</td>\n",
       "      <td>power (C1): X-position of center of gravity</td>\n",
       "    </tr>\n",
       "    <tr>\n",
       "      <td>data:weight:systems:power:hydraulic_systems:mass</td>\n",
       "      <td>OUT</td>\n",
       "      <td>power (C1): mass</td>\n",
       "    </tr>\n",
       "    <tr>\n",
       "      <td>xfoil:horizontal_tail:CL</td>\n",
       "      <td>OUT</td>\n",
       "      <td></td>\n",
       "    </tr>\n",
       "    <tr>\n",
       "      <td>xfoil:horizontal_tail:alpha</td>\n",
       "      <td>OUT</td>\n",
       "      <td></td>\n",
       "    </tr>\n",
       "    <tr>\n",
       "      <td>xfoil:vertical_tail:CL</td>\n",
       "      <td>OUT</td>\n",
       "      <td></td>\n",
       "    </tr>\n",
       "    <tr>\n",
       "      <td>xfoil:vertical_tail:alpha</td>\n",
       "      <td>OUT</td>\n",
       "      <td></td>\n",
       "    </tr>\n",
       "    <tr>\n",
       "      <td>xfoil:wing:CL</td>\n",
       "      <td>OUT</td>\n",
       "      <td></td>\n",
       "    </tr>\n",
       "    <tr>\n",
       "      <td>xfoil:wing:alpha</td>\n",
       "      <td>OUT</td>\n",
       "      <td></td>\n",
       "    </tr>\n",
       "  </tbody>\n",
       "</table>"
      ],
      "text/plain": [
       "<IPython.core.display.HTML object>"
      ]
     },
     "metadata": {},
     "output_type": "display_data"
    }
   ],
   "source": [
    "api_cs25.list_variables(CONFIGURATION_FILE)"
   ]
  },
  {
   "cell_type": "markdown",
   "metadata": {},
   "source": [
    "Another useful feature is to list the modules of the model defined in the configuration file:"
   ]
  },
  {
   "cell_type": "code",
   "execution_count": 5,
   "metadata": {},
   "outputs": [
    {
     "data": {
      "text/html": [
       "<table>\n",
       "<tbody>\n",
       "<tr><td>AVAILABLE MODULE IDENTIFIERS                           </td><td>MODULE PATH                                                                                                                  </td></tr>\n",
       "<tr><td>fastga.aerodynamics.highspeed.legacy                   </td><td>D:\\fl.lutz\\FAST\\FAST-OAD\\FAST-GA\\src\\fastga\\models\\aerodynamics\\aerodynamics_high_speed.py                                   </td></tr>\n",
       "<tr><td>fastga.aerodynamics.legacy                             </td><td>D:\\fl.lutz\\FAST\\FAST-OAD\\FAST-GA\\src\\fastga\\models\\aerodynamics\\aerodynamics.py                                              </td></tr>\n",
       "<tr><td>fastga.aerodynamics.load_factor                        </td><td>D:\\fl.lutz\\FAST\\FAST-OAD\\FAST-GA\\src\\fastga\\models\\aerodynamics\\load_factor.py                                               </td></tr>\n",
       "<tr><td>fastga.aerodynamics.lowspeed.legacy                    </td><td>D:\\fl.lutz\\FAST\\FAST-OAD\\FAST-GA\\src\\fastga\\models\\aerodynamics\\aerodynamics_low_speed.py                                    </td></tr>\n",
       "<tr><td>fastga.aerodynamics.propeller                          </td><td>D:\\fl.lutz\\FAST\\FAST-OAD\\FAST-GA\\src\\fastga\\models\\aerodynamics\\components\\compute_propeller_aero.py                         </td></tr>\n",
       "<tr><td>fastga.geometry.alternate                              </td><td>D:\\fl.lutz\\FAST\\FAST-OAD\\FAST-GA\\src\\fastga\\models\\geometry\\geometry.py                                                      </td></tr>\n",
       "<tr><td>fastga.geometry.legacy                                 </td><td>D:\\fl.lutz\\FAST\\FAST-OAD\\FAST-GA\\src\\fastga\\models\\geometry\\geometry.py                                                      </td></tr>\n",
       "<tr><td>fastga.handling_qualities.all_handling_qualities       </td><td>D:\\fl.lutz\\FAST\\FAST-OAD\\FAST-GA\\src\\fastga\\models\\handling_qualities\\handling_qualities.py                                  </td></tr>\n",
       "<tr><td>fastga.handling_qualities.static_margin                </td><td>D:\\fl.lutz\\FAST\\FAST-OAD\\FAST-GA\\src\\fastga\\models\\handling_qualities\\compute_static_margin.py                               </td></tr>\n",
       "<tr><td>fastga.handling_qualities.tail_sizing                  </td><td>D:\\fl.lutz\\FAST\\FAST-OAD\\FAST-GA\\src\\fastga\\models\\handling_qualities\\tail_sizing\\update_tail_areas.py                       </td></tr>\n",
       "<tr><td>fastga.loads.legacy                                    </td><td>D:\\fl.lutz\\FAST\\FAST-OAD\\FAST-GA\\src\\fastga\\models\\load_analysis\\loads.py                                                    </td></tr>\n",
       "<tr><td>fastga.loop.mtow                                       </td><td>D:\\fl.lutz\\FAST\\FAST-OAD\\FAST-GA\\src\\fastga\\models\\weight\\mass_breakdown\\update_mtow.py                                      </td></tr>\n",
       "<tr><td>fastga.loop.wing_area                                  </td><td>D:\\fl.lutz\\FAST\\FAST-OAD\\FAST-GA\\src\\fastga\\models\\loops\\update_wing_area.py                                                 </td></tr>\n",
       "<tr><td>fastga.loop.wing_position                              </td><td>D:\\fl.lutz\\FAST\\FAST-OAD\\FAST-GA\\src\\fastga\\models\\loops\\update_wing_position.py                                             </td></tr>\n",
       "<tr><td>fastga.performances.mission                            </td><td>D:\\fl.lutz\\FAST\\FAST-OAD\\FAST-GA\\src\\fastga\\models\\performances\\mission.py                                                   </td></tr>\n",
       "<tr><td>fastga.weight.legacy                                   </td><td>D:\\fl.lutz\\FAST\\FAST-OAD\\FAST-GA\\src\\fastga\\models\\weight\\weight.py                                                          </td></tr>\n",
       "<tr><td>fastoad.aerodynamics.highspeed.legacy                  </td><td>c:\\users\\fl.lutz\\anaconda3\\envs\\fast-ga\\lib\\site-packages\\fastoad\\models\\aerodynamics\\aerodynamics_high_speed.py             </td></tr>\n",
       "<tr><td>fastoad.aerodynamics.landing.legacy                    </td><td>c:\\users\\fl.lutz\\anaconda3\\envs\\fast-ga\\lib\\site-packages\\fastoad\\models\\aerodynamics\\aerodynamics_landing.py                </td></tr>\n",
       "<tr><td>fastoad.aerodynamics.lowspeed.legacy                   </td><td>c:\\users\\fl.lutz\\anaconda3\\envs\\fast-ga\\lib\\site-packages\\fastoad\\models\\aerodynamics\\aerodynamics_low_speed.py              </td></tr>\n",
       "<tr><td>fastoad.aerodynamics.takeoff.legacy                    </td><td>c:\\users\\fl.lutz\\anaconda3\\envs\\fast-ga\\lib\\site-packages\\fastoad\\models\\aerodynamics\\aerodynamics_takeoff.py                </td></tr>\n",
       "<tr><td>fastoad.geometry.legacy                                </td><td>c:\\users\\fl.lutz\\anaconda3\\envs\\fast-ga\\lib\\site-packages\\fastoad\\models\\geometry\\geometry.py                                </td></tr>\n",
       "<tr><td>fastoad.handling_qualities.static_margin               </td><td>c:\\users\\fl.lutz\\anaconda3\\envs\\fast-ga\\lib\\site-packages\\fastoad\\models\\handling_qualities\\compute_static_margin.py         </td></tr>\n",
       "<tr><td>fastoad.handling_qualities.tail_sizing                 </td><td>c:\\users\\fl.lutz\\anaconda3\\envs\\fast-ga\\lib\\site-packages\\fastoad\\models\\handling_qualities\\tail_sizing\\compute_tail_areas.py</td></tr>\n",
       "<tr><td>fastoad.loop.wing_area                                 </td><td>c:\\users\\fl.lutz\\anaconda3\\envs\\fast-ga\\lib\\site-packages\\fastoad\\models\\loops\\compute_wing_area.py                          </td></tr>\n",
       "<tr><td>fastoad.loop.wing_position                             </td><td>c:\\users\\fl.lutz\\anaconda3\\envs\\fast-ga\\lib\\site-packages\\fastoad\\models\\loops\\compute_wing_position.py                      </td></tr>\n",
       "<tr><td>fastoad.mass_performances.compute_MTOW                 </td><td>c:\\users\\fl.lutz\\anaconda3\\envs\\fast-ga\\lib\\site-packages\\fastoad\\models\\performances\\mission\\openmdao\\link_mtow.py          </td></tr>\n",
       "<tr><td>fastoad.performances.mission                           </td><td>c:\\users\\fl.lutz\\anaconda3\\envs\\fast-ga\\lib\\site-packages\\fastoad\\models\\performances\\mission\\openmdao\\mission.py            </td></tr>\n",
       "<tr><td>fastoad.weight.legacy                                  </td><td>c:\\users\\fl.lutz\\anaconda3\\envs\\fast-ga\\lib\\site-packages\\fastoad\\models\\weight\\weight.py                                    </td></tr>\n",
       "<tr><td>AVAILABLE PROPULSION WRAPPER IDENTIFIERS               </td><td>MODULE PATH                                                                                                                  </td></tr>\n",
       "<tr><td>fastga.wrapper.propulsion.basicIC_engine               </td><td>D:\\fl.lutz\\FAST\\FAST-OAD\\FAST-GA\\src\\fastga\\models\\propulsion\\fuel_propulsion\\basicIC_engine\\openmdao.py                     </td></tr>\n",
       "<tr><td>fastoad.wrapper.propulsion.rubber_engine               </td><td>c:\\users\\fl.lutz\\anaconda3\\envs\\fast-ga\\lib\\site-packages\\fastoad\\models\\propulsion\\fuel_propulsion\\rubber_engine\\openmdao.py</td></tr>\n",
       "<tr><td>test.wrapper.aerodynamics.beechcraft.dummy_engine      </td><td>D:\\fl.lutz\\FAST\\FAST-OAD\\FAST-GA\\src\\fastga\\models\\aerodynamics\\unitary_tests\\dummy_engines.py                               </td></tr>\n",
       "<tr><td>test.wrapper.aerodynamics.cirrus.dummy_engine          </td><td>D:\\fl.lutz\\FAST\\FAST-OAD\\FAST-GA\\src\\fastga\\models\\aerodynamics\\unitary_tests\\dummy_engines.py                               </td></tr>\n",
       "<tr><td>test.wrapper.cg.beechcraft.dummy_engine                </td><td>D:\\fl.lutz\\FAST\\FAST-OAD\\FAST-GA\\src\\fastga\\models\\weight\\cg\\unitary_tests\\dummy_engines.py                                  </td></tr>\n",
       "<tr><td>test.wrapper.cg.cirrus.dummy_engine                    </td><td>D:\\fl.lutz\\FAST\\FAST-OAD\\FAST-GA\\src\\fastga\\models\\weight\\cg\\unitary_tests\\dummy_engines.py                                  </td></tr>\n",
       "<tr><td>test.wrapper.geometry.beechcraft.dummy_engine          </td><td>D:\\fl.lutz\\FAST\\FAST-OAD\\FAST-GA\\src\\fastga\\models\\geometry\\unitary_tests\\dummy_engines.py                                   </td></tr>\n",
       "<tr><td>test.wrapper.geometry.cirrus.dummy_engine              </td><td>D:\\fl.lutz\\FAST\\FAST-OAD\\FAST-GA\\src\\fastga\\models\\geometry\\unitary_tests\\dummy_engines.py                                   </td></tr>\n",
       "<tr><td>test.wrapper.handling_qualities.beechcraft.dummy_engine</td><td>D:\\fl.lutz\\FAST\\FAST-OAD\\FAST-GA\\src\\fastga\\models\\handling_qualities\\unitary_tests\\dummy_engines.py                         </td></tr>\n",
       "<tr><td>test.wrapper.handling_qualities.cirrus.dummy_engine    </td><td>D:\\fl.lutz\\FAST\\FAST-OAD\\FAST-GA\\src\\fastga\\models\\handling_qualities\\unitary_tests\\dummy_engines.py                         </td></tr>\n",
       "<tr><td>test.wrapper.load_analysis.beechcraft.dummy_engine     </td><td>D:\\fl.lutz\\FAST\\FAST-OAD\\FAST-GA\\src\\fastga\\models\\load_analysis\\unitary_tests\\dummy_engines.py                              </td></tr>\n",
       "<tr><td>test.wrapper.load_analysis.cirrus.dummy_engine         </td><td>D:\\fl.lutz\\FAST\\FAST-OAD\\FAST-GA\\src\\fastga\\models\\load_analysis\\unitary_tests\\dummy_engines.py                              </td></tr>\n",
       "<tr><td>test.wrapper.mass_breakdown.beechcraft.dummy_engine    </td><td>D:\\fl.lutz\\FAST\\FAST-OAD\\FAST-GA\\src\\fastga\\models\\weight\\mass_breakdown\\unitary_tests\\dummy_engines.py                      </td></tr>\n",
       "<tr><td>test.wrapper.mass_breakdown.cirrus.dummy_engine        </td><td>D:\\fl.lutz\\FAST\\FAST-OAD\\FAST-GA\\src\\fastga\\models\\weight\\mass_breakdown\\unitary_tests\\dummy_engines.py                      </td></tr>\n",
       "<tr><td>test.wrapper.performances.beechcraft.dummy_engine      </td><td>D:\\fl.lutz\\FAST\\FAST-OAD\\FAST-GA\\src\\fastga\\models\\performances\\unitary_tests\\dummy_engines.py                               </td></tr>\n",
       "<tr><td>test.wrapper.performances.cirrus.dummy_engine          </td><td>D:\\fl.lutz\\FAST\\FAST-OAD\\FAST-GA\\src\\fastga\\models\\performances\\unitary_tests\\dummy_engines.py                               </td></tr>\n",
       "</tbody>\n",
       "</table>"
      ],
      "text/plain": [
       "<IPython.core.display.HTML object>"
      ]
     },
     "metadata": {},
     "output_type": "display_data"
    }
   ],
   "source": [
    "api_cs25.list_modules(CONFIGURATION_FILE)"
   ]
  },
  {
   "cell_type": "markdown",
   "metadata": {},
   "source": [
    "Another useful feature is the [N2 diagram](http://openmdao.org/twodocs/versions/latest/basic_guide/make_n2.html) visualization available in OpenMDAO to see the structure of the model:"
   ]
  },
  {
   "cell_type": "code",
   "execution_count": 6,
   "metadata": {},
   "outputs": [
    {
     "name": "stderr",
     "output_type": "stream",
     "text": [
      "INFO    : N2 diagram written in D:\\fl.lutz\\FAST\\FAST-OAD\\FAST-GA\\src\\fastga\\notebooks\\tutorial\\workdir\\n2.html\n"
     ]
    },
    {
     "data": {
      "text/html": [
       "\n",
       "        <iframe\n",
       "            width=\"100%\"\n",
       "            height=\"500px\"\n",
       "            src=\"workdir\\n2.html\"\n",
       "            frameborder=\"0\"\n",
       "            allowfullscreen\n",
       "        ></iframe>\n",
       "        "
      ],
      "text/plain": [
       "<IPython.lib.display.IFrame at 0x1f6d372e190>"
      ]
     },
     "execution_count": 6,
     "metadata": {},
     "output_type": "execute_result"
    }
   ],
   "source": [
    "N2_FILE = pth.join(WORK_FOLDER_PATH, 'n2.html')\n",
    "api_cs25.write_n2(CONFIGURATION_FILE, N2_FILE, overwrite=True)\n",
    "from IPython.display import IFrame\n",
    "IFrame(src=N2_FILE, width='100%', height='500px')"
   ]
  },
  {
   "cell_type": "markdown",
   "metadata": {},
   "source": [
    "Alternatively, you can create a [WhatsOpt](https://github.com/OneraHub/WhatsOpt-Doc#whatsopt-documentation) account to generate the XDSM of the problem. If your account is created, you may uncomment next lines and run them (this should take ~ 1 min):"
   ]
  },
  {
   "cell_type": "code",
   "execution_count": 7,
   "metadata": {},
   "outputs": [],
   "source": [
    "# XDSM_FILE = pth.join(WORK_FOLDER_PATH, 'xdsm.html')\n",
    "# api_cs25.write_xdsm(CONFIGURATION_FILE, XDSM_FILE, overwrite=True)\n",
    "# from IPython.display import IFrame\n",
    "# IFrame(src=XDSM_FILE, width='100%', height='500px')"
   ]
  },
  {
   "cell_type": "markdown",
   "metadata": {},
   "source": [
    "## 2. Running your first MDA"
   ]
  },
  {
   "cell_type": "markdown",
   "metadata": {},
   "source": [
    "### Beechcraft\n",
    "Here we run an MDA, that is solving the multidisciplinary couplings using the different nested solvers in the model, without running the optimization problem even if it is defined in the configuration file."
   ]
  },
  {
   "cell_type": "code",
   "execution_count": 8,
   "metadata": {},
   "outputs": [
    {
     "name": "stderr",
     "output_type": "stream",
     "text": [
      "c:\\users\\fl.lutz\\anaconda3\\envs\\fast-ga\\lib\\site-packages\\scipy\\optimize\\minpack.py:175: RuntimeWarning: The iteration is not making good progress, as measured by the \n",
      "  improvement from the last five Jacobian evaluations.\n",
      "  warnings.warn(msg, RuntimeWarning)\n"
     ]
    },
    {
     "name": "stdout",
     "output_type": "stream",
     "text": [
      "\n",
      "===============\n",
      "aircraft_sizing\n",
      "===============\n"
     ]
    },
    {
     "name": "stderr",
     "output_type": "stream",
     "text": [
      "D:\\fl.lutz\\FAST\\FAST-OAD\\FAST-GA\\src\\fastga\\models\\geometry\\geom_components\\nacelle\\compute_nacelle.py:96: UserWarning: Engine count and engine position do not match, change value in the xml\n",
      "  warnings.warn(\"Engine count and engine position do not match, change value in the xml\")\n",
      "WARNING : Airfoil lift coefficient to theoretical lift coefficient ratio value outside of the range in Roskam's book, value clipped\n",
      "WARNING : Airfoil lift coefficient to theoretical lift coefficient ratio value outside of the range in Roskam's book, value clipped\n",
      "WARNING : Airfoil lift slope ratio value outside of the range in Roskam's book, value clipped\n",
      "WARNING : Chord ratio value outside of the range in Roskam's book, value clipped\n",
      "WARNING : Chord ratio value outside of the range in Roskam's book, value clipped\n",
      "WARNING : Chord ratio value outside of the range in Roskam's book, value clipped\n",
      "WARNING : Chord ratio value outside of the range in Roskam's book, value clipped\n",
      "INFO    : Entering mission computation\n",
      "INFO    : Entering mission computation\n",
      "INFO    : Entering mission computation\n",
      "WARNING : Looping on wing area with new value equal to [14.03086421]\n",
      "D:\\fl.lutz\\FAST\\FAST-OAD\\FAST-GA\\src\\fastga\\models\\geometry\\geom_components\\nacelle\\compute_nacelle.py:96: UserWarning: Engine count and engine position do not match, change value in the xml\n",
      "  warnings.warn(\"Engine count and engine position do not match, change value in the xml\")\n"
     ]
    },
    {
     "name": "stdout",
     "output_type": "stream",
     "text": [
      "NL: NLBGS 1 ; 12869313.4 1\n"
     ]
    },
    {
     "name": "stderr",
     "output_type": "stream",
     "text": [
      "WARNING : Chord ratio value outside of the range in Roskam's book, value clipped\n",
      "WARNING : Chord ratio value outside of the range in Roskam's book, value clipped\n",
      "WARNING : Chord ratio value outside of the range in Roskam's book, value clipped\n",
      "WARNING : Chord ratio value outside of the range in Roskam's book, value clipped\n",
      "INFO    : Entering mission computation\n",
      "INFO    : Entering mission computation\n",
      "INFO    : Entering mission computation\n",
      "WARNING : Looping on wing area with new value equal to [12.30205852]\n",
      "D:\\fl.lutz\\FAST\\FAST-OAD\\FAST-GA\\src\\fastga\\models\\geometry\\geom_components\\nacelle\\compute_nacelle.py:96: UserWarning: Engine count and engine position do not match, change value in the xml\n",
      "  warnings.warn(\"Engine count and engine position do not match, change value in the xml\")\n"
     ]
    },
    {
     "name": "stdout",
     "output_type": "stream",
     "text": [
      "NL: NLBGS 2 ; 4661321.03 0.36220433\n"
     ]
    },
    {
     "name": "stderr",
     "output_type": "stream",
     "text": [
      "WARNING : Chord ratio value outside of the range in Roskam's book, value clipped\n",
      "WARNING : Chord ratio value outside of the range in Roskam's book, value clipped\n",
      "WARNING : Chord ratio value outside of the range in Roskam's book, value clipped\n",
      "WARNING : Chord ratio value outside of the range in Roskam's book, value clipped\n",
      "INFO    : Entering mission computation\n",
      "INFO    : Entering mission computation\n",
      "INFO    : Entering mission computation\n",
      "WARNING : Looping on wing area with new value equal to [14.45554347]\n",
      "D:\\fl.lutz\\FAST\\FAST-OAD\\FAST-GA\\src\\fastga\\models\\geometry\\geom_components\\nacelle\\compute_nacelle.py:96: UserWarning: Engine count and engine position do not match, change value in the xml\n",
      "  warnings.warn(\"Engine count and engine position do not match, change value in the xml\")\n"
     ]
    },
    {
     "name": "stdout",
     "output_type": "stream",
     "text": [
      "NL: NLBGS 3 ; 2410155.1 0.18727923\n"
     ]
    },
    {
     "name": "stderr",
     "output_type": "stream",
     "text": [
      "WARNING : Chord ratio value outside of the range in Roskam's book, value clipped\n",
      "WARNING : Chord ratio value outside of the range in Roskam's book, value clipped\n",
      "WARNING : Chord ratio value outside of the range in Roskam's book, value clipped\n",
      "WARNING : Chord ratio value outside of the range in Roskam's book, value clipped\n",
      "INFO    : Entering mission computation\n",
      "INFO    : Entering mission computation\n",
      "INFO    : Entering mission computation\n",
      "WARNING : Looping on wing area with new value equal to [14.80291881]\n",
      "D:\\fl.lutz\\FAST\\FAST-OAD\\FAST-GA\\src\\fastga\\models\\geometry\\geom_components\\nacelle\\compute_nacelle.py:96: UserWarning: Engine count and engine position do not match, change value in the xml\n",
      "  warnings.warn(\"Engine count and engine position do not match, change value in the xml\")\n",
      "WARNING : Area ratio value outside of the range in Roskam's book, value clipped\n"
     ]
    },
    {
     "name": "stdout",
     "output_type": "stream",
     "text": [
      "NL: NLBGS 4 ; 1162469.17 0.0903287636\n"
     ]
    },
    {
     "name": "stderr",
     "output_type": "stream",
     "text": [
      "WARNING : Chord ratio value outside of the range in Roskam's book, value clipped\n",
      "WARNING : Chord ratio value outside of the range in Roskam's book, value clipped\n",
      "WARNING : Chord ratio value outside of the range in Roskam's book, value clipped\n",
      "WARNING : Chord ratio value outside of the range in Roskam's book, value clipped\n",
      "WARNING : Area ratio value outside of the range in Roskam's book, value clipped\n",
      "INFO    : Entering mission computation\n",
      "INFO    : Entering mission computation\n",
      "INFO    : Entering mission computation\n",
      "WARNING : Looping on wing area with new value equal to [15.07116463]\n",
      "D:\\fl.lutz\\FAST\\FAST-OAD\\FAST-GA\\src\\fastga\\models\\geometry\\geom_components\\nacelle\\compute_nacelle.py:96: UserWarning: Engine count and engine position do not match, change value in the xml\n",
      "  warnings.warn(\"Engine count and engine position do not match, change value in the xml\")\n",
      "WARNING : Area ratio value outside of the range in Roskam's book, value clipped\n"
     ]
    },
    {
     "name": "stdout",
     "output_type": "stream",
     "text": [
      "NL: NLBGS 5 ; 1142806.48 0.0888008902\n"
     ]
    },
    {
     "name": "stderr",
     "output_type": "stream",
     "text": [
      "WARNING : Chord ratio value outside of the range in Roskam's book, value clipped\n",
      "WARNING : Chord ratio value outside of the range in Roskam's book, value clipped\n",
      "WARNING : Chord ratio value outside of the range in Roskam's book, value clipped\n",
      "WARNING : Chord ratio value outside of the range in Roskam's book, value clipped\n",
      "WARNING : Area ratio value outside of the range in Roskam's book, value clipped\n",
      "INFO    : Entering mission computation\n",
      "INFO    : Entering mission computation\n",
      "INFO    : Entering mission computation\n",
      "WARNING : Looping on wing area with new value equal to [15.33347441]\n",
      "D:\\fl.lutz\\FAST\\FAST-OAD\\FAST-GA\\src\\fastga\\models\\geometry\\geom_components\\nacelle\\compute_nacelle.py:96: UserWarning: Engine count and engine position do not match, change value in the xml\n",
      "  warnings.warn(\"Engine count and engine position do not match, change value in the xml\")\n"
     ]
    },
    {
     "name": "stdout",
     "output_type": "stream",
     "text": [
      "NL: NLBGS 6 ; 381448.785 0.0296401816\n"
     ]
    },
    {
     "name": "stderr",
     "output_type": "stream",
     "text": [
      "WARNING : Area ratio value outside of the range in Roskam's book, value clipped\n",
      "WARNING : Chord ratio value outside of the range in Roskam's book, value clipped\n",
      "WARNING : Chord ratio value outside of the range in Roskam's book, value clipped\n",
      "WARNING : Chord ratio value outside of the range in Roskam's book, value clipped\n",
      "WARNING : Chord ratio value outside of the range in Roskam's book, value clipped\n",
      "WARNING : Area ratio value outside of the range in Roskam's book, value clipped\n",
      "INFO    : Entering mission computation\n",
      "INFO    : Entering mission computation\n",
      "INFO    : Entering mission computation\n",
      "WARNING : Looping on wing area with new value equal to [15.50066407]\n",
      "D:\\fl.lutz\\FAST\\FAST-OAD\\FAST-GA\\src\\fastga\\models\\geometry\\geom_components\\nacelle\\compute_nacelle.py:96: UserWarning: Engine count and engine position do not match, change value in the xml\n",
      "  warnings.warn(\"Engine count and engine position do not match, change value in the xml\")\n",
      "WARNING : Area ratio value outside of the range in Roskam's book, value clipped\n"
     ]
    },
    {
     "name": "stdout",
     "output_type": "stream",
     "text": [
      "NL: NLBGS 7 ; 148108.624 0.0115086656\n"
     ]
    },
    {
     "name": "stderr",
     "output_type": "stream",
     "text": [
      "WARNING : Chord ratio value outside of the range in Roskam's book, value clipped\n",
      "WARNING : Chord ratio value outside of the range in Roskam's book, value clipped\n",
      "WARNING : Chord ratio value outside of the range in Roskam's book, value clipped\n",
      "WARNING : Chord ratio value outside of the range in Roskam's book, value clipped\n",
      "WARNING : Area ratio value outside of the range in Roskam's book, value clipped\n",
      "INFO    : Entering mission computation\n",
      "INFO    : Entering mission computation\n",
      "INFO    : Entering mission computation\n",
      "WARNING : Looping on wing area with new value equal to [15.58824796]\n",
      "D:\\fl.lutz\\FAST\\FAST-OAD\\FAST-GA\\src\\fastga\\models\\geometry\\geom_components\\nacelle\\compute_nacelle.py:96: UserWarning: Engine count and engine position do not match, change value in the xml\n",
      "  warnings.warn(\"Engine count and engine position do not match, change value in the xml\")\n",
      "WARNING : Area ratio value outside of the range in Roskam's book, value clipped\n"
     ]
    },
    {
     "name": "stdout",
     "output_type": "stream",
     "text": [
      "NL: NLBGS 8 ; 98056.7653 0.00761942479\n"
     ]
    },
    {
     "name": "stderr",
     "output_type": "stream",
     "text": [
      "WARNING : Chord ratio value outside of the range in Roskam's book, value clipped\n",
      "WARNING : Chord ratio value outside of the range in Roskam's book, value clipped\n",
      "WARNING : Chord ratio value outside of the range in Roskam's book, value clipped\n",
      "WARNING : Chord ratio value outside of the range in Roskam's book, value clipped\n",
      "WARNING : Area ratio value outside of the range in Roskam's book, value clipped\n",
      "INFO    : Entering mission computation\n",
      "INFO    : Entering mission computation\n",
      "INFO    : Entering mission computation\n",
      "WARNING : Looping on wing area with new value equal to [15.6315559]\n",
      "D:\\fl.lutz\\FAST\\FAST-OAD\\FAST-GA\\src\\fastga\\models\\geometry\\geom_components\\nacelle\\compute_nacelle.py:96: UserWarning: Engine count and engine position do not match, change value in the xml\n",
      "  warnings.warn(\"Engine count and engine position do not match, change value in the xml\")\n",
      "WARNING : Area ratio value outside of the range in Roskam's book, value clipped\n"
     ]
    },
    {
     "name": "stdout",
     "output_type": "stream",
     "text": [
      "NL: NLBGS 9 ; 56715.7601 0.00440705409\n"
     ]
    },
    {
     "name": "stderr",
     "output_type": "stream",
     "text": [
      "WARNING : Chord ratio value outside of the range in Roskam's book, value clipped\n",
      "WARNING : Chord ratio value outside of the range in Roskam's book, value clipped\n",
      "WARNING : Chord ratio value outside of the range in Roskam's book, value clipped\n",
      "WARNING : Chord ratio value outside of the range in Roskam's book, value clipped\n",
      "WARNING : Area ratio value outside of the range in Roskam's book, value clipped\n",
      "INFO    : Entering mission computation\n",
      "INFO    : Entering mission computation\n",
      "INFO    : Entering mission computation\n",
      "WARNING : Looping on wing area with new value equal to [15.65676281]\n",
      "D:\\fl.lutz\\FAST\\FAST-OAD\\FAST-GA\\src\\fastga\\models\\geometry\\geom_components\\nacelle\\compute_nacelle.py:96: UserWarning: Engine count and engine position do not match, change value in the xml\n",
      "  warnings.warn(\"Engine count and engine position do not match, change value in the xml\")\n",
      "WARNING : Area ratio value outside of the range in Roskam's book, value clipped\n"
     ]
    },
    {
     "name": "stdout",
     "output_type": "stream",
     "text": [
      "NL: NLBGS 10 ; 26699.5567 0.00207466831\n"
     ]
    },
    {
     "name": "stderr",
     "output_type": "stream",
     "text": [
      "WARNING : Chord ratio value outside of the range in Roskam's book, value clipped\n",
      "WARNING : Chord ratio value outside of the range in Roskam's book, value clipped\n",
      "WARNING : Chord ratio value outside of the range in Roskam's book, value clipped\n",
      "WARNING : Chord ratio value outside of the range in Roskam's book, value clipped\n",
      "WARNING : Area ratio value outside of the range in Roskam's book, value clipped\n",
      "INFO    : Entering mission computation\n",
      "INFO    : Entering mission computation\n",
      "INFO    : Entering mission computation\n",
      "WARNING : Looping on wing area with new value equal to [15.67142869]\n"
     ]
    },
    {
     "name": "stdout",
     "output_type": "stream",
     "text": [
      "NL: NLBGS 11 ; 12360.3765 0.000960453459\n",
      "NL: NLBGS Converged\n"
     ]
    },
    {
     "name": "stderr",
     "output_type": "stream",
     "text": [
      "INFO    : Computation finished after 551.9 seconds\n",
      "INFO    : Problem outputs written in D:\\fl.lutz\\FAST\\FAST-OAD\\FAST-GA\\src\\fastga\\notebooks\\tutorial\\workdir\\problem_outputs.xml\n"
     ]
    }
   ],
   "source": [
    "eval_problem = api_cs25.evaluate_problem(CONFIGURATION_FILE, overwrite=True)"
   ]
  },
  {
   "cell_type": "markdown",
   "metadata": {},
   "source": [
    "Let's save these results. We will use them in the next workbook, that shows some post-processing utilities."
   ]
  },
  {
   "cell_type": "code",
   "execution_count": 9,
   "metadata": {},
   "outputs": [
    {
     "data": {
      "text/plain": [
       "'workdir\\\\problem_outputs_Beechcraft_800nm_mda.xml'"
      ]
     },
     "execution_count": 9,
     "metadata": {},
     "output_type": "execute_result"
    }
   ],
   "source": [
    "OUTPUT_FILE = pth.join(WORK_FOLDER_PATH, 'problem_outputs.xml')\n",
    "Beechcraft_OUTPUT_FILE = pth.join(WORK_FOLDER_PATH, 'problem_outputs_Beechcraft_800nm_mda.xml')\n",
    "shutil.copy(OUTPUT_FILE, Beechcraft_OUTPUT_FILE)"
   ]
  },
  {
   "cell_type": "markdown",
   "metadata": {},
   "source": [
    "The `variable-viewer` provides a way to inspect the content of the XML file. The dropdown lists above the table allow to filter the displayed variable."
   ]
  },
  {
   "cell_type": "code",
   "execution_count": 10,
   "metadata": {},
   "outputs": [
    {
     "data": {
      "application/vnd.jupyter.widget-view+json": {
       "model_id": "ca4619b9bf3345848a298a157c309edd",
       "version_major": 2,
       "version_minor": 0
      },
      "text/plain": [
       "VBox(children=(HBox(children=(Button(description='Load', icon='upload', style=ButtonStyle(), tooltip='Load the…"
      ]
     },
     "metadata": {},
     "output_type": "display_data"
    }
   ],
   "source": [
    "api_cs25.variable_viewer(OUTPUT_FILE)"
   ]
  },
  {
   "cell_type": "markdown",
   "metadata": {},
   "source": [
    "In particular, you may inspect the `data:handling_qualities:static_margin` variable.\n",
    "You will see that its value is equal to the value we set as the target meaning the MDA process converged correctly."
   ]
  },
  {
   "cell_type": "markdown",
   "metadata": {},
   "source": [
    "### Beechcraft for 1000 nm range\n",
    "Here we run an MDA but we change one of the Top Level Aircraft Requirement (TLAR): the range. We choose a 1000 nm range instead of 800 nm for the Beechcraft. For that we use the `VariableViewer` tool on the input file to change the range (do not forget to save!). Just like this:\n",
    "![variable_viewer](./img/variable_viewer_change_range.gif)"
   ]
  },
  {
   "cell_type": "code",
   "execution_count": 11,
   "metadata": {
    "scrolled": true
   },
   "outputs": [
    {
     "data": {
      "application/vnd.jupyter.widget-view+json": {
       "model_id": "0a67d910bac942a2b0709fb2be79a1d8",
       "version_major": 2,
       "version_minor": 0
      },
      "text/plain": [
       "VBox(children=(HBox(children=(Button(description='Load', icon='upload', style=ButtonStyle(), tooltip='Load the…"
      ]
     },
     "metadata": {},
     "output_type": "display_data"
    }
   ],
   "source": [
    "INPUT_FILE = pth.join(WORK_FOLDER_PATH, 'problem_inputs.xml')\n",
    "api_cs25.variable_viewer(INPUT_FILE)"
   ]
  },
  {
   "cell_type": "markdown",
   "metadata": {},
   "source": [
    "Now that the range has been changed, we run again the MDA."
   ]
  },
  {
   "cell_type": "code",
   "execution_count": 12,
   "metadata": {},
   "outputs": [
    {
     "name": "stderr",
     "output_type": "stream",
     "text": [
      "c:\\users\\fl.lutz\\anaconda3\\envs\\fast-ga\\lib\\site-packages\\scipy\\optimize\\minpack.py:175: RuntimeWarning: The iteration is not making good progress, as measured by the \n",
      "  improvement from the last five Jacobian evaluations.\n",
      "  warnings.warn(msg, RuntimeWarning)\n",
      "D:\\fl.lutz\\FAST\\FAST-OAD\\FAST-GA\\src\\fastga\\models\\geometry\\geom_components\\nacelle\\compute_nacelle.py:96: UserWarning: Engine count and engine position do not match, change value in the xml\n",
      "  warnings.warn(\"Engine count and engine position do not match, change value in the xml\")\n",
      "WARNING : Airfoil lift coefficient to theoretical lift coefficient ratio value outside of the range in Roskam's book, value clipped\n",
      "WARNING : Airfoil lift coefficient to theoretical lift coefficient ratio value outside of the range in Roskam's book, value clipped\n",
      "WARNING : Airfoil lift slope ratio value outside of the range in Roskam's book, value clipped\n"
     ]
    },
    {
     "name": "stdout",
     "output_type": "stream",
     "text": [
      "\n",
      "===============\n",
      "aircraft_sizing\n",
      "===============\n"
     ]
    },
    {
     "name": "stderr",
     "output_type": "stream",
     "text": [
      "WARNING : Chord ratio value outside of the range in Roskam's book, value clipped\n",
      "WARNING : Chord ratio value outside of the range in Roskam's book, value clipped\n",
      "WARNING : Chord ratio value outside of the range in Roskam's book, value clipped\n",
      "WARNING : Chord ratio value outside of the range in Roskam's book, value clipped\n",
      "INFO    : Entering mission computation\n",
      "INFO    : Entering mission computation\n",
      "INFO    : Entering mission computation\n",
      "WARNING : Looping on wing area with new value equal to [14.03086421]\n",
      "D:\\fl.lutz\\FAST\\FAST-OAD\\FAST-GA\\src\\fastga\\models\\geometry\\geom_components\\nacelle\\compute_nacelle.py:96: UserWarning: Engine count and engine position do not match, change value in the xml\n",
      "  warnings.warn(\"Engine count and engine position do not match, change value in the xml\")\n"
     ]
    },
    {
     "name": "stdout",
     "output_type": "stream",
     "text": [
      "NL: NLBGS 1 ; 12914287.7 1\n"
     ]
    },
    {
     "name": "stderr",
     "output_type": "stream",
     "text": [
      "WARNING : Chord ratio value outside of the range in Roskam's book, value clipped\n",
      "WARNING : Chord ratio value outside of the range in Roskam's book, value clipped\n",
      "WARNING : Chord ratio value outside of the range in Roskam's book, value clipped\n",
      "WARNING : Chord ratio value outside of the range in Roskam's book, value clipped\n",
      "INFO    : Entering mission computation\n",
      "INFO    : Entering mission computation\n",
      "INFO    : Entering mission computation\n",
      "WARNING : Looping on wing area with new value equal to [12.30205852]\n",
      "D:\\fl.lutz\\FAST\\FAST-OAD\\FAST-GA\\src\\fastga\\models\\geometry\\geom_components\\nacelle\\compute_nacelle.py:96: UserWarning: Engine count and engine position do not match, change value in the xml\n",
      "  warnings.warn(\"Engine count and engine position do not match, change value in the xml\")\n"
     ]
    },
    {
     "name": "stdout",
     "output_type": "stream",
     "text": [
      "NL: NLBGS 2 ; 4661319.89 0.360942857\n"
     ]
    },
    {
     "name": "stderr",
     "output_type": "stream",
     "text": [
      "WARNING : Chord ratio value outside of the range in Roskam's book, value clipped\n",
      "WARNING : Chord ratio value outside of the range in Roskam's book, value clipped\n",
      "WARNING : Chord ratio value outside of the range in Roskam's book, value clipped\n",
      "WARNING : Chord ratio value outside of the range in Roskam's book, value clipped\n",
      "INFO    : Entering mission computation\n",
      "INFO    : Entering mission computation\n",
      "INFO    : Entering mission computation\n",
      "WARNING : Looping on wing area with new value equal to [14.84995146]\n",
      "D:\\fl.lutz\\FAST\\FAST-OAD\\FAST-GA\\src\\fastga\\models\\geometry\\geom_components\\nacelle\\compute_nacelle.py:96: UserWarning: Engine count and engine position do not match, change value in the xml\n",
      "  warnings.warn(\"Engine count and engine position do not match, change value in the xml\")\n"
     ]
    },
    {
     "name": "stdout",
     "output_type": "stream",
     "text": [
      "NL: NLBGS 3 ; 2423259.97 0.187641784\n"
     ]
    },
    {
     "name": "stderr",
     "output_type": "stream",
     "text": [
      "WARNING : Chord ratio value outside of the range in Roskam's book, value clipped\n",
      "WARNING : Chord ratio value outside of the range in Roskam's book, value clipped\n",
      "WARNING : Chord ratio value outside of the range in Roskam's book, value clipped\n",
      "WARNING : Chord ratio value outside of the range in Roskam's book, value clipped\n",
      "INFO    : Entering mission computation\n",
      "INFO    : Entering mission computation\n",
      "INFO    : Entering mission computation\n",
      "WARNING : Looping on wing area with new value equal to [15.22059682]\n",
      "D:\\fl.lutz\\FAST\\FAST-OAD\\FAST-GA\\src\\fastga\\models\\geometry\\geom_components\\nacelle\\compute_nacelle.py:96: UserWarning: Engine count and engine position do not match, change value in the xml\n",
      "  warnings.warn(\"Engine count and engine position do not match, change value in the xml\")\n",
      "WARNING : Area ratio value outside of the range in Roskam's book, value clipped\n"
     ]
    },
    {
     "name": "stdout",
     "output_type": "stream",
     "text": [
      "NL: NLBGS 4 ; 1240545.17 0.0960598993\n"
     ]
    },
    {
     "name": "stderr",
     "output_type": "stream",
     "text": [
      "WARNING : Chord ratio value outside of the range in Roskam's book, value clipped\n",
      "WARNING : Chord ratio value outside of the range in Roskam's book, value clipped\n",
      "WARNING : Chord ratio value outside of the range in Roskam's book, value clipped\n",
      "WARNING : Chord ratio value outside of the range in Roskam's book, value clipped\n",
      "WARNING : Area ratio value outside of the range in Roskam's book, value clipped\n",
      "INFO    : Entering mission computation\n",
      "INFO    : Entering mission computation\n",
      "INFO    : Entering mission computation\n",
      "WARNING : Looping on wing area with new value equal to [15.61929635]\n",
      "D:\\fl.lutz\\FAST\\FAST-OAD\\FAST-GA\\src\\fastga\\models\\geometry\\geom_components\\nacelle\\compute_nacelle.py:96: UserWarning: Engine count and engine position do not match, change value in the xml\n",
      "  warnings.warn(\"Engine count and engine position do not match, change value in the xml\")\n",
      "WARNING : Area ratio value outside of the range in Roskam's book, value clipped\n"
     ]
    },
    {
     "name": "stdout",
     "output_type": "stream",
     "text": [
      "NL: NLBGS 5 ; 1300889.48 0.100732577\n"
     ]
    },
    {
     "name": "stderr",
     "output_type": "stream",
     "text": [
      "WARNING : Chord ratio value outside of the range in Roskam's book, value clipped\n",
      "WARNING : Chord ratio value outside of the range in Roskam's book, value clipped\n",
      "WARNING : Chord ratio value outside of the range in Roskam's book, value clipped\n",
      "WARNING : Chord ratio value outside of the range in Roskam's book, value clipped\n",
      "WARNING : Area ratio value outside of the range in Roskam's book, value clipped\n",
      "INFO    : Entering mission computation\n",
      "INFO    : Entering mission computation\n",
      "INFO    : Entering mission computation\n",
      "WARNING : Looping on wing area with new value equal to [15.91981835]\n",
      "D:\\fl.lutz\\FAST\\FAST-OAD\\FAST-GA\\src\\fastga\\models\\geometry\\geom_components\\nacelle\\compute_nacelle.py:96: UserWarning: Engine count and engine position do not match, change value in the xml\n",
      "  warnings.warn(\"Engine count and engine position do not match, change value in the xml\")\n",
      "WARNING : Area ratio value outside of the range in Roskam's book, value clipped\n"
     ]
    },
    {
     "name": "stdout",
     "output_type": "stream",
     "text": [
      "NL: NLBGS 6 ; 372532.051 0.028846504\n"
     ]
    },
    {
     "name": "stderr",
     "output_type": "stream",
     "text": [
      "WARNING : Chord ratio value outside of the range in Roskam's book, value clipped\n",
      "WARNING : Chord ratio value outside of the range in Roskam's book, value clipped\n",
      "WARNING : Chord ratio value outside of the range in Roskam's book, value clipped\n",
      "WARNING : Chord ratio value outside of the range in Roskam's book, value clipped\n",
      "WARNING : Area ratio value outside of the range in Roskam's book, value clipped\n",
      "INFO    : Entering mission computation\n",
      "INFO    : Entering mission computation\n",
      "INFO    : Entering mission computation\n",
      "WARNING : Looping on wing area with new value equal to [16.12092268]\n",
      "D:\\fl.lutz\\FAST\\FAST-OAD\\FAST-GA\\src\\fastga\\models\\geometry\\geom_components\\nacelle\\compute_nacelle.py:96: UserWarning: Engine count and engine position do not match, change value in the xml\n",
      "  warnings.warn(\"Engine count and engine position do not match, change value in the xml\")\n",
      "WARNING : Area ratio value outside of the range in Roskam's book, value clipped\n"
     ]
    },
    {
     "name": "stdout",
     "output_type": "stream",
     "text": [
      "NL: NLBGS 7 ; 189404.745 0.0146662944\n"
     ]
    },
    {
     "name": "stderr",
     "output_type": "stream",
     "text": [
      "WARNING : Chord ratio value outside of the range in Roskam's book, value clipped\n",
      "WARNING : Chord ratio value outside of the range in Roskam's book, value clipped\n",
      "WARNING : Chord ratio value outside of the range in Roskam's book, value clipped\n",
      "WARNING : Chord ratio value outside of the range in Roskam's book, value clipped\n",
      "WARNING : Area ratio value outside of the range in Roskam's book, value clipped\n",
      "INFO    : Entering mission computation\n",
      "INFO    : Entering mission computation\n",
      "INFO    : Entering mission computation\n",
      "WARNING : Looping on wing area with new value equal to [16.23314576]\n",
      "D:\\fl.lutz\\FAST\\FAST-OAD\\FAST-GA\\src\\fastga\\models\\geometry\\geom_components\\nacelle\\compute_nacelle.py:96: UserWarning: Engine count and engine position do not match, change value in the xml\n",
      "  warnings.warn(\"Engine count and engine position do not match, change value in the xml\")\n",
      "WARNING : Area ratio value outside of the range in Roskam's book, value clipped\n"
     ]
    },
    {
     "name": "stdout",
     "output_type": "stream",
     "text": [
      "NL: NLBGS 8 ; 117373.442 0.00908865013\n"
     ]
    },
    {
     "name": "stderr",
     "output_type": "stream",
     "text": [
      "WARNING : Chord ratio value outside of the range in Roskam's book, value clipped\n",
      "WARNING : Chord ratio value outside of the range in Roskam's book, value clipped\n",
      "WARNING : Chord ratio value outside of the range in Roskam's book, value clipped\n",
      "WARNING : Chord ratio value outside of the range in Roskam's book, value clipped\n",
      "WARNING : Area ratio value outside of the range in Roskam's book, value clipped\n",
      "INFO    : Entering mission computation\n",
      "INFO    : Entering mission computation\n",
      "INFO    : Entering mission computation\n",
      "WARNING : Looping on wing area with new value equal to [16.29537846]\n",
      "D:\\fl.lutz\\FAST\\FAST-OAD\\FAST-GA\\src\\fastga\\models\\geometry\\geom_components\\nacelle\\compute_nacelle.py:96: UserWarning: Engine count and engine position do not match, change value in the xml\n",
      "  warnings.warn(\"Engine count and engine position do not match, change value in the xml\")\n",
      "WARNING : Area ratio value outside of the range in Roskam's book, value clipped\n"
     ]
    },
    {
     "name": "stdout",
     "output_type": "stream",
     "text": [
      "NL: NLBGS 9 ; 70259.2082 0.00544042459\n"
     ]
    },
    {
     "name": "stderr",
     "output_type": "stream",
     "text": [
      "WARNING : Chord ratio value outside of the range in Roskam's book, value clipped\n",
      "WARNING : Chord ratio value outside of the range in Roskam's book, value clipped\n",
      "WARNING : Chord ratio value outside of the range in Roskam's book, value clipped\n",
      "WARNING : Chord ratio value outside of the range in Roskam's book, value clipped\n",
      "WARNING : Area ratio value outside of the range in Roskam's book, value clipped\n",
      "INFO    : Entering mission computation\n",
      "INFO    : Entering mission computation\n",
      "INFO    : Entering mission computation\n",
      "WARNING : Looping on wing area with new value equal to [16.32670927]\n",
      "D:\\fl.lutz\\FAST\\FAST-OAD\\FAST-GA\\src\\fastga\\models\\geometry\\geom_components\\nacelle\\compute_nacelle.py:96: UserWarning: Engine count and engine position do not match, change value in the xml\n",
      "  warnings.warn(\"Engine count and engine position do not match, change value in the xml\")\n",
      "WARNING : Area ratio value outside of the range in Roskam's book, value clipped\n"
     ]
    },
    {
     "name": "stdout",
     "output_type": "stream",
     "text": [
      "NL: NLBGS 10 ; 36481.5356 0.00282489724\n"
     ]
    },
    {
     "name": "stderr",
     "output_type": "stream",
     "text": [
      "WARNING : Chord ratio value outside of the range in Roskam's book, value clipped\n",
      "WARNING : Chord ratio value outside of the range in Roskam's book, value clipped\n",
      "WARNING : Chord ratio value outside of the range in Roskam's book, value clipped\n",
      "WARNING : Chord ratio value outside of the range in Roskam's book, value clipped\n",
      "WARNING : Area ratio value outside of the range in Roskam's book, value clipped\n",
      "INFO    : Entering mission computation\n",
      "INFO    : Entering mission computation\n",
      "INFO    : Entering mission computation\n",
      "WARNING : Looping on wing area with new value equal to [16.34556311]\n",
      "D:\\fl.lutz\\FAST\\FAST-OAD\\FAST-GA\\src\\fastga\\models\\geometry\\geom_components\\nacelle\\compute_nacelle.py:96: UserWarning: Engine count and engine position do not match, change value in the xml\n",
      "  warnings.warn(\"Engine count and engine position do not match, change value in the xml\")\n",
      "WARNING : Area ratio value outside of the range in Roskam's book, value clipped\n"
     ]
    },
    {
     "name": "stdout",
     "output_type": "stream",
     "text": [
      "NL: NLBGS 11 ; 17503.5583 0.00135536382\n"
     ]
    },
    {
     "name": "stderr",
     "output_type": "stream",
     "text": [
      "WARNING : Chord ratio value outside of the range in Roskam's book, value clipped\n",
      "WARNING : Chord ratio value outside of the range in Roskam's book, value clipped\n",
      "WARNING : Chord ratio value outside of the range in Roskam's book, value clipped\n",
      "WARNING : Chord ratio value outside of the range in Roskam's book, value clipped\n",
      "WARNING : Area ratio value outside of the range in Roskam's book, value clipped\n",
      "INFO    : Entering mission computation\n",
      "INFO    : Entering mission computation\n",
      "INFO    : Entering mission computation\n",
      "WARNING : Looping on wing area with new value equal to [16.35154236]\n"
     ]
    },
    {
     "name": "stdout",
     "output_type": "stream",
     "text": [
      "NL: NLBGS 12 ; 8669.98981 0.000671348667\n",
      "NL: NLBGS Converged\n"
     ]
    },
    {
     "name": "stderr",
     "output_type": "stream",
     "text": [
      "INFO    : Computation finished after 534.28 seconds\n",
      "INFO    : Problem outputs written in D:\\fl.lutz\\FAST\\FAST-OAD\\FAST-GA\\src\\fastga\\notebooks\\tutorial\\workdir\\problem_outputs.xml\n"
     ]
    }
   ],
   "source": [
    "eval_problem = api_cs25.evaluate_problem(CONFIGURATION_FILE, overwrite=True)"
   ]
  },
  {
   "cell_type": "markdown",
   "metadata": {},
   "source": [
    "Let's save again these new results, for post-processing them in next notebook."
   ]
  },
  {
   "cell_type": "code",
   "execution_count": 13,
   "metadata": {},
   "outputs": [
    {
     "data": {
      "text/plain": [
       "'workdir\\\\problem_outputs_Beechcraft_1000nm_mda.xml'"
      ]
     },
     "execution_count": 13,
     "metadata": {},
     "output_type": "execute_result"
    }
   ],
   "source": [
    "OUTPUT_FILE = pth.join(WORK_FOLDER_PATH, 'problem_outputs.xml')\n",
    "Beechcraft_1000nm_OUTPUT_FILE = pth.join(WORK_FOLDER_PATH, 'problem_outputs_Beechcraft_1000nm_mda.xml')\n",
    "shutil.copy(OUTPUT_FILE, Beechcraft_1000nm_OUTPUT_FILE)"
   ]
  },
  {
   "cell_type": "markdown",
   "metadata": {},
   "source": [
    "## 3. Running your first MDO\n",
    "\n",
    "## Beechcraft 800 nm optimization\n",
    "\n",
    "As seen earlier, the current aircraft configuration is estimated with a fixed distance between the wing aerodynamic center and the horizontal tail aerodynamic center. We will unlock this parameter using a simple optimization problem that will move horizontal tail position in order to minimize the mission consumption. \n",
    "\n",
    "The default configuration file defines this optimization problem that aims at:\n",
    "- minimizing the fuel consumption for the mission (objective),\n",
    "- with respect to the distance between the wing and the tail aerodynamic center (design variables): by extension the horizontal tail to wing distance,\n",
    "- subject to no additional constraint.\n",
    "\n",
    "However, running the MDO with the propeller performance estimation will take a very long time. Consequently, and since the propeller won't change from one MDO loop to another, we decided to use a different .yml file for the probleme definition and reuse the propeller performance map computed in the MDA's hence why the input file will be the output file of a previous MDA.\n",
    "\n",
    "*(This run should take approximately 20 minutes)*"
   ]
  },
  {
   "cell_type": "code",
   "execution_count": 14,
   "metadata": {},
   "outputs": [
    {
     "data": {
      "text/plain": [
       "'workdir\\\\oad_process_mdo.yml'"
      ]
     },
     "execution_count": 14,
     "metadata": {},
     "output_type": "execute_result"
    }
   ],
   "source": [
    "CONFIGURATION_FILE_MDO = pth.join(WORK_FOLDER_PATH, 'oad_process_mdo.yml')\n",
    "SOURCE_FILE_MDO = pth.join(WORK_FOLDER_PATH, 'problem_outputs_Beechcraft_800nm_mda.xml')\n",
    "shutil.copy(pth.join(DATA_FOLDER_PATH, 'fastga_mdo.yml'), CONFIGURATION_FILE_MDO)"
   ]
  },
  {
   "cell_type": "code",
   "execution_count": 15,
   "metadata": {},
   "outputs": [
    {
     "name": "stderr",
     "output_type": "stream",
     "text": [
      "INFO    : Problem inputs written in D:\\fl.lutz\\FAST\\FAST-OAD\\FAST-GA\\src\\fastga\\notebooks\\tutorial\\workdir\\problem_inputs.xml\n"
     ]
    },
    {
     "data": {
      "text/plain": [
       "'D:\\\\fl.lutz\\\\FAST\\\\FAST-OAD\\\\FAST-GA\\\\src\\\\fastga\\\\notebooks\\\\tutorial\\\\workdir\\\\problem_inputs.xml'"
      ]
     },
     "execution_count": 15,
     "metadata": {},
     "output_type": "execute_result"
    }
   ],
   "source": [
    "# Set back the inputs from the reference Beechcraft 800 nm\n",
    "api_cs25.generate_inputs(CONFIGURATION_FILE_MDO, SOURCE_FILE_MDO, overwrite=True)"
   ]
  },
  {
   "cell_type": "markdown",
   "metadata": {},
   "source": [
    "To visualize and edit the optimization problem definition (present in the configuration file .toml) you can use the `optimization_viewer` tool. If design variables or constraints have active bounds they are yellow whereas they are red if they are violated. Modifiying the `Initial Value` will modify the input file defined in the configuration file .toml whereas `Value` corresponds to the value found in the output file defined in the configuration file (here it is the 800 nm MDA run)."
   ]
  },
  {
   "cell_type": "code",
   "execution_count": 16,
   "metadata": {},
   "outputs": [
    {
     "data": {
      "application/vnd.jupyter.widget-view+json": {
       "model_id": "baa0a4888d7c400e9911b7c3b252ffaa",
       "version_major": 2,
       "version_minor": 0
      },
      "text/plain": [
       "VBox(children=(HBox(children=(Button(description='Load', icon='upload', style=ButtonStyle(), tooltip='Load the…"
      ]
     },
     "metadata": {},
     "output_type": "display_data"
    }
   ],
   "source": [
    "api_cs25.optimization_viewer(CONFIGURATION_FILE_MDO)"
   ]
  },
  {
   "cell_type": "code",
   "execution_count": 17,
   "metadata": {
    "jupyter": {
     "outputs_hidden": true
    }
   },
   "outputs": [
    {
     "name": "stderr",
     "output_type": "stream",
     "text": [
      "D:\\fl.lutz\\FAST\\FAST-OAD\\FAST-GA\\src\\fastga\\models\\geometry\\geom_components\\nacelle\\compute_nacelle.py:96: UserWarning: Engine count and engine position do not match, change value in the xml\n",
      "  warnings.warn(\"Engine count and engine position do not match, change value in the xml\")\n",
      "WARNING : Airfoil lift coefficient to theoretical lift coefficient ratio value outside of the range in Roskam's book, value clipped\n",
      "WARNING : Airfoil lift coefficient to theoretical lift coefficient ratio value outside of the range in Roskam's book, value clipped\n",
      "WARNING : Airfoil lift slope ratio value outside of the range in Roskam's book, value clipped\n",
      "WARNING : Chord ratio value outside of the range in Roskam's book, value clipped\n",
      "WARNING : Chord ratio value outside of the range in Roskam's book, value clipped\n",
      "WARNING : Chord ratio value outside of the range in Roskam's book, value clipped\n",
      "WARNING : Chord ratio value outside of the range in Roskam's book, value clipped\n",
      "INFO    : Entering mission computation\n",
      "INFO    : Entering mission computation\n",
      "INFO    : Entering mission computation\n",
      "WARNING : Looping on wing area with new value equal to [14.03086421]\n",
      "D:\\fl.lutz\\FAST\\FAST-OAD\\FAST-GA\\src\\fastga\\models\\geometry\\geom_components\\nacelle\\compute_nacelle.py:96: UserWarning: Engine count and engine position do not match, change value in the xml\n",
      "  warnings.warn(\"Engine count and engine position do not match, change value in the xml\")\n"
     ]
    },
    {
     "name": "stdout",
     "output_type": "stream",
     "text": [
      "NL: NLBGS 1 ; 12869313.4 1\n"
     ]
    },
    {
     "name": "stderr",
     "output_type": "stream",
     "text": [
      "WARNING : Chord ratio value outside of the range in Roskam's book, value clipped\n",
      "WARNING : Chord ratio value outside of the range in Roskam's book, value clipped\n",
      "WARNING : Chord ratio value outside of the range in Roskam's book, value clipped\n",
      "WARNING : Chord ratio value outside of the range in Roskam's book, value clipped\n",
      "INFO    : Entering mission computation\n",
      "INFO    : Entering mission computation\n",
      "INFO    : Entering mission computation\n",
      "WARNING : Looping on wing area with new value equal to [12.30205852]\n",
      "D:\\fl.lutz\\FAST\\FAST-OAD\\FAST-GA\\src\\fastga\\models\\geometry\\geom_components\\nacelle\\compute_nacelle.py:96: UserWarning: Engine count and engine position do not match, change value in the xml\n",
      "  warnings.warn(\"Engine count and engine position do not match, change value in the xml\")\n"
     ]
    },
    {
     "name": "stdout",
     "output_type": "stream",
     "text": [
      "NL: NLBGS 2 ; 4661321.03 0.36220433\n"
     ]
    },
    {
     "name": "stderr",
     "output_type": "stream",
     "text": [
      "WARNING : Chord ratio value outside of the range in Roskam's book, value clipped\n",
      "WARNING : Chord ratio value outside of the range in Roskam's book, value clipped\n",
      "WARNING : Chord ratio value outside of the range in Roskam's book, value clipped\n",
      "WARNING : Chord ratio value outside of the range in Roskam's book, value clipped\n",
      "INFO    : Entering mission computation\n",
      "INFO    : Entering mission computation\n",
      "INFO    : Entering mission computation\n",
      "WARNING : Looping on wing area with new value equal to [14.45554347]\n",
      "D:\\fl.lutz\\FAST\\FAST-OAD\\FAST-GA\\src\\fastga\\models\\geometry\\geom_components\\nacelle\\compute_nacelle.py:96: UserWarning: Engine count and engine position do not match, change value in the xml\n",
      "  warnings.warn(\"Engine count and engine position do not match, change value in the xml\")\n"
     ]
    },
    {
     "name": "stdout",
     "output_type": "stream",
     "text": [
      "NL: NLBGS 3 ; 2410155.1 0.18727923\n"
     ]
    },
    {
     "name": "stderr",
     "output_type": "stream",
     "text": [
      "WARNING : Chord ratio value outside of the range in Roskam's book, value clipped\n",
      "WARNING : Chord ratio value outside of the range in Roskam's book, value clipped\n",
      "WARNING : Chord ratio value outside of the range in Roskam's book, value clipped\n",
      "WARNING : Chord ratio value outside of the range in Roskam's book, value clipped\n",
      "INFO    : Entering mission computation\n",
      "INFO    : Entering mission computation\n",
      "INFO    : Entering mission computation\n",
      "WARNING : Looping on wing area with new value equal to [14.80291881]\n",
      "D:\\fl.lutz\\FAST\\FAST-OAD\\FAST-GA\\src\\fastga\\models\\geometry\\geom_components\\nacelle\\compute_nacelle.py:96: UserWarning: Engine count and engine position do not match, change value in the xml\n",
      "  warnings.warn(\"Engine count and engine position do not match, change value in the xml\")\n",
      "WARNING : Area ratio value outside of the range in Roskam's book, value clipped\n"
     ]
    },
    {
     "name": "stdout",
     "output_type": "stream",
     "text": [
      "NL: NLBGS 4 ; 1162469.17 0.0903287636\n"
     ]
    },
    {
     "name": "stderr",
     "output_type": "stream",
     "text": [
      "WARNING : Chord ratio value outside of the range in Roskam's book, value clipped\n",
      "WARNING : Chord ratio value outside of the range in Roskam's book, value clipped\n",
      "WARNING : Chord ratio value outside of the range in Roskam's book, value clipped\n",
      "WARNING : Chord ratio value outside of the range in Roskam's book, value clipped\n",
      "WARNING : Area ratio value outside of the range in Roskam's book, value clipped\n",
      "INFO    : Entering mission computation\n",
      "INFO    : Entering mission computation\n",
      "INFO    : Entering mission computation\n",
      "WARNING : Looping on wing area with new value equal to [15.07116463]\n",
      "D:\\fl.lutz\\FAST\\FAST-OAD\\FAST-GA\\src\\fastga\\models\\geometry\\geom_components\\nacelle\\compute_nacelle.py:96: UserWarning: Engine count and engine position do not match, change value in the xml\n",
      "  warnings.warn(\"Engine count and engine position do not match, change value in the xml\")\n",
      "WARNING : Area ratio value outside of the range in Roskam's book, value clipped\n"
     ]
    },
    {
     "name": "stdout",
     "output_type": "stream",
     "text": [
      "NL: NLBGS 5 ; 1142806.48 0.0888008902\n"
     ]
    },
    {
     "name": "stderr",
     "output_type": "stream",
     "text": [
      "WARNING : Chord ratio value outside of the range in Roskam's book, value clipped\n",
      "WARNING : Chord ratio value outside of the range in Roskam's book, value clipped\n",
      "WARNING : Chord ratio value outside of the range in Roskam's book, value clipped\n",
      "WARNING : Chord ratio value outside of the range in Roskam's book, value clipped\n",
      "WARNING : Area ratio value outside of the range in Roskam's book, value clipped\n",
      "INFO    : Entering mission computation\n",
      "INFO    : Entering mission computation\n",
      "INFO    : Entering mission computation\n",
      "WARNING : Looping on wing area with new value equal to [15.33347441]\n",
      "D:\\fl.lutz\\FAST\\FAST-OAD\\FAST-GA\\src\\fastga\\models\\geometry\\geom_components\\nacelle\\compute_nacelle.py:96: UserWarning: Engine count and engine position do not match, change value in the xml\n",
      "  warnings.warn(\"Engine count and engine position do not match, change value in the xml\")\n",
      "WARNING : Area ratio value outside of the range in Roskam's book, value clipped\n"
     ]
    },
    {
     "name": "stdout",
     "output_type": "stream",
     "text": [
      "NL: NLBGS 6 ; 381448.785 0.0296401816\n"
     ]
    },
    {
     "name": "stderr",
     "output_type": "stream",
     "text": [
      "WARNING : Chord ratio value outside of the range in Roskam's book, value clipped\n",
      "WARNING : Chord ratio value outside of the range in Roskam's book, value clipped\n",
      "WARNING : Chord ratio value outside of the range in Roskam's book, value clipped\n",
      "WARNING : Chord ratio value outside of the range in Roskam's book, value clipped\n",
      "WARNING : Area ratio value outside of the range in Roskam's book, value clipped\n",
      "INFO    : Entering mission computation\n",
      "INFO    : Entering mission computation\n",
      "INFO    : Entering mission computation\n",
      "WARNING : Looping on wing area with new value equal to [15.50066407]\n",
      "D:\\fl.lutz\\FAST\\FAST-OAD\\FAST-GA\\src\\fastga\\models\\geometry\\geom_components\\nacelle\\compute_nacelle.py:96: UserWarning: Engine count and engine position do not match, change value in the xml\n",
      "  warnings.warn(\"Engine count and engine position do not match, change value in the xml\")\n",
      "WARNING : Area ratio value outside of the range in Roskam's book, value clipped\n"
     ]
    },
    {
     "name": "stdout",
     "output_type": "stream",
     "text": [
      "NL: NLBGS 7 ; 148108.624 0.0115086656\n"
     ]
    },
    {
     "name": "stderr",
     "output_type": "stream",
     "text": [
      "WARNING : Chord ratio value outside of the range in Roskam's book, value clipped\n",
      "WARNING : Chord ratio value outside of the range in Roskam's book, value clipped\n",
      "WARNING : Chord ratio value outside of the range in Roskam's book, value clipped\n",
      "WARNING : Chord ratio value outside of the range in Roskam's book, value clipped\n",
      "WARNING : Area ratio value outside of the range in Roskam's book, value clipped\n",
      "INFO    : Entering mission computation\n",
      "INFO    : Entering mission computation\n",
      "INFO    : Entering mission computation\n",
      "WARNING : Looping on wing area with new value equal to [15.58824796]\n",
      "D:\\fl.lutz\\FAST\\FAST-OAD\\FAST-GA\\src\\fastga\\models\\geometry\\geom_components\\nacelle\\compute_nacelle.py:96: UserWarning: Engine count and engine position do not match, change value in the xml\n",
      "  warnings.warn(\"Engine count and engine position do not match, change value in the xml\")\n",
      "WARNING : Area ratio value outside of the range in Roskam's book, value clipped\n"
     ]
    },
    {
     "name": "stdout",
     "output_type": "stream",
     "text": [
      "NL: NLBGS 8 ; 98056.7653 0.00761942479\n"
     ]
    },
    {
     "name": "stderr",
     "output_type": "stream",
     "text": [
      "WARNING : Chord ratio value outside of the range in Roskam's book, value clipped\n",
      "WARNING : Chord ratio value outside of the range in Roskam's book, value clipped\n",
      "WARNING : Chord ratio value outside of the range in Roskam's book, value clipped\n",
      "WARNING : Chord ratio value outside of the range in Roskam's book, value clipped\n",
      "WARNING : Area ratio value outside of the range in Roskam's book, value clipped\n",
      "INFO    : Entering mission computation\n",
      "INFO    : Entering mission computation\n",
      "INFO    : Entering mission computation\n",
      "WARNING : Looping on wing area with new value equal to [15.6315559]\n",
      "D:\\fl.lutz\\FAST\\FAST-OAD\\FAST-GA\\src\\fastga\\models\\geometry\\geom_components\\nacelle\\compute_nacelle.py:96: UserWarning: Engine count and engine position do not match, change value in the xml\n",
      "  warnings.warn(\"Engine count and engine position do not match, change value in the xml\")\n",
      "WARNING : Area ratio value outside of the range in Roskam's book, value clipped\n"
     ]
    },
    {
     "name": "stdout",
     "output_type": "stream",
     "text": [
      "NL: NLBGS 9 ; 56715.7601 0.00440705409\n"
     ]
    },
    {
     "name": "stderr",
     "output_type": "stream",
     "text": [
      "WARNING : Chord ratio value outside of the range in Roskam's book, value clipped\n",
      "WARNING : Chord ratio value outside of the range in Roskam's book, value clipped\n",
      "WARNING : Chord ratio value outside of the range in Roskam's book, value clipped\n",
      "WARNING : Chord ratio value outside of the range in Roskam's book, value clipped\n",
      "WARNING : Area ratio value outside of the range in Roskam's book, value clipped\n",
      "INFO    : Entering mission computation\n",
      "INFO    : Entering mission computation\n",
      "INFO    : Entering mission computation\n",
      "WARNING : Looping on wing area with new value equal to [15.65676281]\n",
      "D:\\fl.lutz\\FAST\\FAST-OAD\\FAST-GA\\src\\fastga\\models\\geometry\\geom_components\\nacelle\\compute_nacelle.py:96: UserWarning: Engine count and engine position do not match, change value in the xml\n",
      "  warnings.warn(\"Engine count and engine position do not match, change value in the xml\")\n",
      "WARNING : Area ratio value outside of the range in Roskam's book, value clipped\n"
     ]
    },
    {
     "name": "stdout",
     "output_type": "stream",
     "text": [
      "NL: NLBGS 10 ; 26699.5567 0.00207466831\n"
     ]
    },
    {
     "name": "stderr",
     "output_type": "stream",
     "text": [
      "WARNING : Chord ratio value outside of the range in Roskam's book, value clipped\n",
      "WARNING : Chord ratio value outside of the range in Roskam's book, value clipped\n",
      "WARNING : Chord ratio value outside of the range in Roskam's book, value clipped\n",
      "WARNING : Chord ratio value outside of the range in Roskam's book, value clipped\n",
      "WARNING : Area ratio value outside of the range in Roskam's book, value clipped\n",
      "INFO    : Entering mission computation\n",
      "INFO    : Entering mission computation\n",
      "INFO    : Entering mission computation\n",
      "WARNING : Looping on wing area with new value equal to [15.67142869]\n"
     ]
    },
    {
     "name": "stdout",
     "output_type": "stream",
     "text": [
      "NL: NLBGS 11 ; 12360.3765 0.000960453459\n",
      "NL: NLBGS Converged\n"
     ]
    },
    {
     "name": "stderr",
     "output_type": "stream",
     "text": [
      "D:\\fl.lutz\\FAST\\FAST-OAD\\FAST-GA\\src\\fastga\\models\\geometry\\geom_components\\nacelle\\compute_nacelle.py:96: UserWarning: Engine count and engine position do not match, change value in the xml\n",
      "  warnings.warn(\"Engine count and engine position do not match, change value in the xml\")\n",
      "WARNING : Area ratio value outside of the range in Roskam's book, value clipped\n",
      "WARNING : Chord ratio value outside of the range in Roskam's book, value clipped\n",
      "WARNING : Chord ratio value outside of the range in Roskam's book, value clipped\n",
      "WARNING : Chord ratio value outside of the range in Roskam's book, value clipped\n",
      "WARNING : Chord ratio value outside of the range in Roskam's book, value clipped\n",
      "WARNING : Area ratio value outside of the range in Roskam's book, value clipped\n",
      "INFO    : Entering mission computation\n",
      "INFO    : Entering mission computation\n",
      "INFO    : Entering mission computation\n",
      "WARNING : Looping on wing area with new value equal to [15.67769442]\n",
      "D:\\fl.lutz\\FAST\\FAST-OAD\\FAST-GA\\src\\fastga\\models\\geometry\\geom_components\\nacelle\\compute_nacelle.py:96: UserWarning: Engine count and engine position do not match, change value in the xml\n",
      "  warnings.warn(\"Engine count and engine position do not match, change value in the xml\")\n",
      "WARNING : Area ratio value outside of the range in Roskam's book, value clipped\n"
     ]
    },
    {
     "name": "stdout",
     "output_type": "stream",
     "text": [
      "NL: NLBGS 1 ; 6226.48404 1\n"
     ]
    },
    {
     "name": "stderr",
     "output_type": "stream",
     "text": [
      "WARNING : Chord ratio value outside of the range in Roskam's book, value clipped\n",
      "WARNING : Chord ratio value outside of the range in Roskam's book, value clipped\n",
      "WARNING : Chord ratio value outside of the range in Roskam's book, value clipped\n",
      "WARNING : Chord ratio value outside of the range in Roskam's book, value clipped\n",
      "WARNING : Area ratio value outside of the range in Roskam's book, value clipped\n",
      "INFO    : Entering mission computation\n",
      "INFO    : Entering mission computation\n",
      "INFO    : Entering mission computation\n",
      "WARNING : Looping on wing area with new value equal to [15.68022939]\n",
      "D:\\fl.lutz\\FAST\\FAST-OAD\\FAST-GA\\src\\fastga\\models\\geometry\\geom_components\\nacelle\\compute_nacelle.py:96: UserWarning: Engine count and engine position do not match, change value in the xml\n",
      "  warnings.warn(\"Engine count and engine position do not match, change value in the xml\")\n",
      "WARNING : Area ratio value outside of the range in Roskam's book, value clipped\n"
     ]
    },
    {
     "name": "stdout",
     "output_type": "stream",
     "text": [
      "NL: NLBGS 2 ; 3023.34798 0.485562633\n"
     ]
    },
    {
     "name": "stderr",
     "output_type": "stream",
     "text": [
      "WARNING : Chord ratio value outside of the range in Roskam's book, value clipped\n",
      "WARNING : Chord ratio value outside of the range in Roskam's book, value clipped\n",
      "WARNING : Chord ratio value outside of the range in Roskam's book, value clipped\n",
      "WARNING : Chord ratio value outside of the range in Roskam's book, value clipped\n",
      "WARNING : Area ratio value outside of the range in Roskam's book, value clipped\n",
      "INFO    : Entering mission computation\n",
      "INFO    : Entering mission computation\n",
      "INFO    : Entering mission computation\n",
      "WARNING : Looping on wing area with new value equal to [15.68105884]\n",
      "D:\\fl.lutz\\FAST\\FAST-OAD\\FAST-GA\\src\\fastga\\models\\geometry\\geom_components\\nacelle\\compute_nacelle.py:96: UserWarning: Engine count and engine position do not match, change value in the xml\n",
      "  warnings.warn(\"Engine count and engine position do not match, change value in the xml\")\n",
      "WARNING : Area ratio value outside of the range in Roskam's book, value clipped\n"
     ]
    },
    {
     "name": "stdout",
     "output_type": "stream",
     "text": [
      "NL: NLBGS 3 ; 1105.80427 0.177596901\n"
     ]
    },
    {
     "name": "stderr",
     "output_type": "stream",
     "text": [
      "WARNING : Chord ratio value outside of the range in Roskam's book, value clipped\n",
      "WARNING : Chord ratio value outside of the range in Roskam's book, value clipped\n",
      "WARNING : Chord ratio value outside of the range in Roskam's book, value clipped\n",
      "WARNING : Chord ratio value outside of the range in Roskam's book, value clipped\n",
      "WARNING : Area ratio value outside of the range in Roskam's book, value clipped\n",
      "INFO    : Entering mission computation\n",
      "INFO    : Entering mission computation\n",
      "INFO    : Entering mission computation\n",
      "WARNING : Looping on wing area with new value equal to [15.6812832]\n",
      "D:\\fl.lutz\\FAST\\FAST-OAD\\FAST-GA\\src\\fastga\\models\\geometry\\geom_components\\nacelle\\compute_nacelle.py:96: UserWarning: Engine count and engine position do not match, change value in the xml\n",
      "  warnings.warn(\"Engine count and engine position do not match, change value in the xml\")\n",
      "WARNING : Area ratio value outside of the range in Roskam's book, value clipped\n"
     ]
    },
    {
     "name": "stdout",
     "output_type": "stream",
     "text": [
      "NL: NLBGS 4 ; 523.234612 0.0840337193\n"
     ]
    },
    {
     "name": "stderr",
     "output_type": "stream",
     "text": [
      "WARNING : Chord ratio value outside of the range in Roskam's book, value clipped\n",
      "WARNING : Chord ratio value outside of the range in Roskam's book, value clipped\n",
      "WARNING : Chord ratio value outside of the range in Roskam's book, value clipped\n",
      "WARNING : Chord ratio value outside of the range in Roskam's book, value clipped\n",
      "WARNING : Area ratio value outside of the range in Roskam's book, value clipped\n",
      "INFO    : Entering mission computation\n",
      "INFO    : Entering mission computation\n",
      "INFO    : Entering mission computation\n",
      "WARNING : Looping on wing area with new value equal to [15.68121605]\n",
      "D:\\fl.lutz\\FAST\\FAST-OAD\\FAST-GA\\src\\fastga\\models\\geometry\\geom_components\\nacelle\\compute_nacelle.py:96: UserWarning: Engine count and engine position do not match, change value in the xml\n",
      "  warnings.warn(\"Engine count and engine position do not match, change value in the xml\")\n",
      "WARNING : Area ratio value outside of the range in Roskam's book, value clipped\n"
     ]
    },
    {
     "name": "stdout",
     "output_type": "stream",
     "text": [
      "NL: NLBGS 5 ; 414.904286 0.066635405\n"
     ]
    },
    {
     "name": "stderr",
     "output_type": "stream",
     "text": [
      "WARNING : Chord ratio value outside of the range in Roskam's book, value clipped\n",
      "WARNING : Chord ratio value outside of the range in Roskam's book, value clipped\n",
      "WARNING : Chord ratio value outside of the range in Roskam's book, value clipped\n",
      "WARNING : Chord ratio value outside of the range in Roskam's book, value clipped\n",
      "WARNING : Area ratio value outside of the range in Roskam's book, value clipped\n",
      "INFO    : Entering mission computation\n",
      "INFO    : Entering mission computation\n",
      "INFO    : Entering mission computation\n",
      "WARNING : Looping on wing area with new value equal to [15.6810769]\n",
      "D:\\fl.lutz\\FAST\\FAST-OAD\\FAST-GA\\src\\fastga\\models\\geometry\\geom_components\\nacelle\\compute_nacelle.py:96: UserWarning: Engine count and engine position do not match, change value in the xml\n",
      "  warnings.warn(\"Engine count and engine position do not match, change value in the xml\")\n",
      "WARNING : Area ratio value outside of the range in Roskam's book, value clipped\n"
     ]
    },
    {
     "name": "stdout",
     "output_type": "stream",
     "text": [
      "NL: NLBGS 6 ; 289.643167 0.0465179329\n"
     ]
    },
    {
     "name": "stderr",
     "output_type": "stream",
     "text": [
      "WARNING : Chord ratio value outside of the range in Roskam's book, value clipped\n",
      "WARNING : Chord ratio value outside of the range in Roskam's book, value clipped\n",
      "WARNING : Chord ratio value outside of the range in Roskam's book, value clipped\n",
      "WARNING : Chord ratio value outside of the range in Roskam's book, value clipped\n",
      "WARNING : Area ratio value outside of the range in Roskam's book, value clipped\n",
      "INFO    : Entering mission computation\n",
      "INFO    : Entering mission computation\n",
      "INFO    : Entering mission computation\n",
      "WARNING : Looping on wing area with new value equal to [15.68094582]\n",
      "D:\\fl.lutz\\FAST\\FAST-OAD\\FAST-GA\\src\\fastga\\models\\geometry\\geom_components\\nacelle\\compute_nacelle.py:96: UserWarning: Engine count and engine position do not match, change value in the xml\n",
      "  warnings.warn(\"Engine count and engine position do not match, change value in the xml\")\n",
      "WARNING : Area ratio value outside of the range in Roskam's book, value clipped\n"
     ]
    },
    {
     "name": "stdout",
     "output_type": "stream",
     "text": [
      "NL: NLBGS 7 ; 206.217747 0.0331194532\n"
     ]
    },
    {
     "name": "stderr",
     "output_type": "stream",
     "text": [
      "WARNING : Chord ratio value outside of the range in Roskam's book, value clipped\n",
      "WARNING : Chord ratio value outside of the range in Roskam's book, value clipped\n",
      "WARNING : Chord ratio value outside of the range in Roskam's book, value clipped\n",
      "WARNING : Chord ratio value outside of the range in Roskam's book, value clipped\n",
      "WARNING : Area ratio value outside of the range in Roskam's book, value clipped\n",
      "INFO    : Entering mission computation\n",
      "INFO    : Entering mission computation\n",
      "INFO    : Entering mission computation\n",
      "WARNING : Looping on wing area with new value equal to [15.68084678]\n",
      "D:\\fl.lutz\\FAST\\FAST-OAD\\FAST-GA\\src\\fastga\\models\\geometry\\geom_components\\nacelle\\compute_nacelle.py:96: UserWarning: Engine count and engine position do not match, change value in the xml\n",
      "  warnings.warn(\"Engine count and engine position do not match, change value in the xml\")\n",
      "WARNING : Area ratio value outside of the range in Roskam's book, value clipped\n"
     ]
    },
    {
     "name": "stdout",
     "output_type": "stream",
     "text": [
      "NL: NLBGS 8 ; 138.514607 0.022246039\n"
     ]
    },
    {
     "name": "stderr",
     "output_type": "stream",
     "text": [
      "WARNING : Chord ratio value outside of the range in Roskam's book, value clipped\n",
      "WARNING : Chord ratio value outside of the range in Roskam's book, value clipped\n",
      "WARNING : Chord ratio value outside of the range in Roskam's book, value clipped\n",
      "WARNING : Chord ratio value outside of the range in Roskam's book, value clipped\n",
      "WARNING : Area ratio value outside of the range in Roskam's book, value clipped\n",
      "INFO    : Entering mission computation\n",
      "INFO    : Entering mission computation\n",
      "INFO    : Entering mission computation\n",
      "WARNING : Looping on wing area with new value equal to [15.68077909]\n",
      "D:\\fl.lutz\\FAST\\FAST-OAD\\FAST-GA\\src\\fastga\\models\\geometry\\geom_components\\nacelle\\compute_nacelle.py:96: UserWarning: Engine count and engine position do not match, change value in the xml\n",
      "  warnings.warn(\"Engine count and engine position do not match, change value in the xml\")\n",
      "WARNING : Area ratio value outside of the range in Roskam's book, value clipped\n"
     ]
    },
    {
     "name": "stdout",
     "output_type": "stream",
     "text": [
      "NL: NLBGS 9 ; 87.8840088 0.0141145482\n"
     ]
    },
    {
     "name": "stderr",
     "output_type": "stream",
     "text": [
      "WARNING : Chord ratio value outside of the range in Roskam's book, value clipped\n",
      "WARNING : Chord ratio value outside of the range in Roskam's book, value clipped\n",
      "WARNING : Chord ratio value outside of the range in Roskam's book, value clipped\n",
      "WARNING : Chord ratio value outside of the range in Roskam's book, value clipped\n",
      "WARNING : Area ratio value outside of the range in Roskam's book, value clipped\n",
      "INFO    : Entering mission computation\n",
      "INFO    : Entering mission computation\n",
      "INFO    : Entering mission computation\n",
      "WARNING : Looping on wing area with new value equal to [15.6807358]\n",
      "D:\\fl.lutz\\FAST\\FAST-OAD\\FAST-GA\\src\\fastga\\models\\geometry\\geom_components\\nacelle\\compute_nacelle.py:96: UserWarning: Engine count and engine position do not match, change value in the xml\n",
      "  warnings.warn(\"Engine count and engine position do not match, change value in the xml\")\n",
      "WARNING : Area ratio value outside of the range in Roskam's book, value clipped\n"
     ]
    },
    {
     "name": "stdout",
     "output_type": "stream",
     "text": [
      "NL: NLBGS 10 ; 53.072305 0.00852363946\n"
     ]
    },
    {
     "name": "stderr",
     "output_type": "stream",
     "text": [
      "WARNING : Chord ratio value outside of the range in Roskam's book, value clipped\n",
      "WARNING : Chord ratio value outside of the range in Roskam's book, value clipped\n",
      "WARNING : Chord ratio value outside of the range in Roskam's book, value clipped\n",
      "WARNING : Chord ratio value outside of the range in Roskam's book, value clipped\n",
      "WARNING : Area ratio value outside of the range in Roskam's book, value clipped\n",
      "INFO    : Entering mission computation\n",
      "INFO    : Entering mission computation\n",
      "INFO    : Entering mission computation\n",
      "WARNING : Looping on wing area with new value equal to [15.68070959]\n",
      "D:\\fl.lutz\\FAST\\FAST-OAD\\FAST-GA\\src\\fastga\\models\\geometry\\geom_components\\nacelle\\compute_nacelle.py:96: UserWarning: Engine count and engine position do not match, change value in the xml\n",
      "  warnings.warn(\"Engine count and engine position do not match, change value in the xml\")\n",
      "WARNING : Area ratio value outside of the range in Roskam's book, value clipped\n"
     ]
    },
    {
     "name": "stdout",
     "output_type": "stream",
     "text": [
      "NL: NLBGS 11 ; 30.7212328 0.00493396155\n"
     ]
    },
    {
     "name": "stderr",
     "output_type": "stream",
     "text": [
      "WARNING : Chord ratio value outside of the range in Roskam's book, value clipped\n",
      "WARNING : Chord ratio value outside of the range in Roskam's book, value clipped\n",
      "WARNING : Chord ratio value outside of the range in Roskam's book, value clipped\n",
      "WARNING : Chord ratio value outside of the range in Roskam's book, value clipped\n",
      "WARNING : Area ratio value outside of the range in Roskam's book, value clipped\n",
      "INFO    : Entering mission computation\n",
      "INFO    : Entering mission computation\n",
      "INFO    : Entering mission computation\n",
      "WARNING : Looping on wing area with new value equal to [15.68069444]\n",
      "D:\\fl.lutz\\FAST\\FAST-OAD\\FAST-GA\\src\\fastga\\models\\geometry\\geom_components\\nacelle\\compute_nacelle.py:96: UserWarning: Engine count and engine position do not match, change value in the xml\n",
      "  warnings.warn(\"Engine count and engine position do not match, change value in the xml\")\n",
      "WARNING : Area ratio value outside of the range in Roskam's book, value clipped\n"
     ]
    },
    {
     "name": "stdout",
     "output_type": "stream",
     "text": [
      "NL: NLBGS 12 ; 17.1721917 0.00275792752\n"
     ]
    },
    {
     "name": "stderr",
     "output_type": "stream",
     "text": [
      "WARNING : Chord ratio value outside of the range in Roskam's book, value clipped\n",
      "WARNING : Chord ratio value outside of the range in Roskam's book, value clipped\n",
      "WARNING : Chord ratio value outside of the range in Roskam's book, value clipped\n",
      "WARNING : Chord ratio value outside of the range in Roskam's book, value clipped\n",
      "WARNING : Area ratio value outside of the range in Roskam's book, value clipped\n",
      "INFO    : Entering mission computation\n",
      "INFO    : Entering mission computation\n",
      "INFO    : Entering mission computation\n",
      "WARNING : Looping on wing area with new value equal to [15.68068608]\n",
      "D:\\fl.lutz\\FAST\\FAST-OAD\\FAST-GA\\src\\fastga\\models\\geometry\\geom_components\\nacelle\\compute_nacelle.py:96: UserWarning: Engine count and engine position do not match, change value in the xml\n",
      "  warnings.warn(\"Engine count and engine position do not match, change value in the xml\")\n",
      "WARNING : Area ratio value outside of the range in Roskam's book, value clipped\n"
     ]
    },
    {
     "name": "stdout",
     "output_type": "stream",
     "text": [
      "NL: NLBGS 13 ; 9.18403638 0.00147499557\n"
     ]
    },
    {
     "name": "stderr",
     "output_type": "stream",
     "text": [
      "WARNING : Chord ratio value outside of the range in Roskam's book, value clipped\n",
      "WARNING : Chord ratio value outside of the range in Roskam's book, value clipped\n",
      "WARNING : Chord ratio value outside of the range in Roskam's book, value clipped\n",
      "WARNING : Chord ratio value outside of the range in Roskam's book, value clipped\n",
      "WARNING : Area ratio value outside of the range in Roskam's book, value clipped\n",
      "INFO    : Entering mission computation\n",
      "INFO    : Entering mission computation\n",
      "INFO    : Entering mission computation\n",
      "WARNING : Looping on wing area with new value equal to [15.68068163]\n"
     ]
    },
    {
     "name": "stdout",
     "output_type": "stream",
     "text": [
      "NL: NLBGS 14 ; 4.83211484 0.000776058336\n",
      "NL: NLBGS Converged\n"
     ]
    },
    {
     "name": "stderr",
     "output_type": "stream",
     "text": [
      "D:\\fl.lutz\\FAST\\FAST-OAD\\FAST-GA\\src\\fastga\\models\\geometry\\geom_components\\nacelle\\compute_nacelle.py:96: UserWarning: Engine count and engine position do not match, change value in the xml\n",
      "  warnings.warn(\"Engine count and engine position do not match, change value in the xml\")\n",
      "WARNING : Ratio of span on fuselage depth outside of the range in Roskam's book, value clipped\n",
      "WARNING : Area ratio value outside of the range in Roskam's book, value clipped\n",
      "WARNING : Chord ratio value outside of the range in Roskam's book, value clipped\n",
      "WARNING : Chord ratio value outside of the range in Roskam's book, value clipped\n",
      "WARNING : Chord ratio value outside of the range in Roskam's book, value clipped\n",
      "WARNING : Chord ratio value outside of the range in Roskam's book, value clipped\n",
      "WARNING : Ratio of span on fuselage depth outside of the range in Roskam's book, value clipped\n",
      "WARNING : Area ratio value outside of the range in Roskam's book, value clipped\n",
      "INFO    : Entering mission computation\n",
      "INFO    : Entering mission computation\n",
      "INFO    : Entering mission computation\n",
      "WARNING : Looping on wing area with new value equal to [15.68067944]\n",
      "D:\\fl.lutz\\FAST\\FAST-OAD\\FAST-GA\\src\\fastga\\models\\geometry\\geom_components\\nacelle\\compute_nacelle.py:96: UserWarning: Engine count and engine position do not match, change value in the xml\n",
      "  warnings.warn(\"Engine count and engine position do not match, change value in the xml\")\n",
      "WARNING : Ratio of span on fuselage depth outside of the range in Roskam's book, value clipped\n",
      "WARNING : Area ratio value outside of the range in Roskam's book, value clipped\n"
     ]
    },
    {
     "name": "stdout",
     "output_type": "stream",
     "text": [
      "NL: NLBGS 1 ; 823.507428 1\n"
     ]
    },
    {
     "name": "stderr",
     "output_type": "stream",
     "text": [
      "WARNING : Chord ratio value outside of the range in Roskam's book, value clipped\n",
      "WARNING : Chord ratio value outside of the range in Roskam's book, value clipped\n",
      "WARNING : Chord ratio value outside of the range in Roskam's book, value clipped\n",
      "WARNING : Chord ratio value outside of the range in Roskam's book, value clipped\n",
      "WARNING : Ratio of span on fuselage depth outside of the range in Roskam's book, value clipped\n",
      "WARNING : Area ratio value outside of the range in Roskam's book, value clipped\n",
      "INFO    : Entering mission computation\n",
      "INFO    : Entering mission computation\n",
      "INFO    : Entering mission computation\n",
      "WARNING : Looping on wing area with new value equal to [15.87815666]\n",
      "D:\\fl.lutz\\FAST\\FAST-OAD\\FAST-GA\\src\\fastga\\models\\geometry\\geom_components\\nacelle\\compute_nacelle.py:96: UserWarning: Engine count and engine position do not match, change value in the xml\n",
      "  warnings.warn(\"Engine count and engine position do not match, change value in the xml\")\n",
      "WARNING : Ratio of span on fuselage depth outside of the range in Roskam's book, value clipped\n",
      "WARNING : Area ratio value outside of the range in Roskam's book, value clipped\n"
     ]
    },
    {
     "name": "stdout",
     "output_type": "stream",
     "text": [
      "NL: NLBGS 2 ; 744864.596 904.502583\n"
     ]
    },
    {
     "name": "stderr",
     "output_type": "stream",
     "text": [
      "WARNING : Chord ratio value outside of the range in Roskam's book, value clipped\n",
      "WARNING : Chord ratio value outside of the range in Roskam's book, value clipped\n",
      "WARNING : Chord ratio value outside of the range in Roskam's book, value clipped\n",
      "WARNING : Chord ratio value outside of the range in Roskam's book, value clipped\n",
      "WARNING : Ratio of span on fuselage depth outside of the range in Roskam's book, value clipped\n",
      "WARNING : Area ratio value outside of the range in Roskam's book, value clipped\n",
      "INFO    : Entering mission computation\n",
      "INFO    : Entering mission computation\n",
      "INFO    : Entering mission computation\n",
      "WARNING : Looping on wing area with new value equal to [15.83085535]\n",
      "D:\\fl.lutz\\FAST\\FAST-OAD\\FAST-GA\\src\\fastga\\models\\geometry\\geom_components\\nacelle\\compute_nacelle.py:96: UserWarning: Engine count and engine position do not match, change value in the xml\n",
      "  warnings.warn(\"Engine count and engine position do not match, change value in the xml\")\n",
      "WARNING : Ratio of span on fuselage depth outside of the range in Roskam's book, value clipped\n",
      "WARNING : Area ratio value outside of the range in Roskam's book, value clipped\n"
     ]
    },
    {
     "name": "stdout",
     "output_type": "stream",
     "text": [
      "NL: NLBGS 3 ; 81636.0311 99.1321127\n"
     ]
    },
    {
     "name": "stderr",
     "output_type": "stream",
     "text": [
      "WARNING : Chord ratio value outside of the range in Roskam's book, value clipped\n",
      "WARNING : Chord ratio value outside of the range in Roskam's book, value clipped\n",
      "WARNING : Chord ratio value outside of the range in Roskam's book, value clipped\n",
      "WARNING : Chord ratio value outside of the range in Roskam's book, value clipped\n",
      "WARNING : Ratio of span on fuselage depth outside of the range in Roskam's book, value clipped\n",
      "WARNING : Area ratio value outside of the range in Roskam's book, value clipped\n",
      "INFO    : Entering mission computation\n",
      "INFO    : Entering mission computation\n",
      "INFO    : Entering mission computation\n",
      "WARNING : Looping on wing area with new value equal to [15.82578384]\n",
      "D:\\fl.lutz\\FAST\\FAST-OAD\\FAST-GA\\src\\fastga\\models\\geometry\\geom_components\\nacelle\\compute_nacelle.py:96: UserWarning: Engine count and engine position do not match, change value in the xml\n",
      "  warnings.warn(\"Engine count and engine position do not match, change value in the xml\")\n",
      "WARNING : Ratio of span on fuselage depth outside of the range in Roskam's book, value clipped\n",
      "WARNING : Area ratio value outside of the range in Roskam's book, value clipped\n"
     ]
    },
    {
     "name": "stdout",
     "output_type": "stream",
     "text": [
      "NL: NLBGS 4 ; 112040.777 136.053147\n"
     ]
    },
    {
     "name": "stderr",
     "output_type": "stream",
     "text": [
      "WARNING : Chord ratio value outside of the range in Roskam's book, value clipped\n",
      "WARNING : Chord ratio value outside of the range in Roskam's book, value clipped\n",
      "WARNING : Chord ratio value outside of the range in Roskam's book, value clipped\n",
      "WARNING : Chord ratio value outside of the range in Roskam's book, value clipped\n",
      "WARNING : Ratio of span on fuselage depth outside of the range in Roskam's book, value clipped\n",
      "WARNING : Area ratio value outside of the range in Roskam's book, value clipped\n",
      "INFO    : Entering mission computation\n",
      "INFO    : Entering mission computation\n",
      "INFO    : Entering mission computation\n",
      "WARNING : Looping on wing area with new value equal to [15.83853626]\n",
      "D:\\fl.lutz\\FAST\\FAST-OAD\\FAST-GA\\src\\fastga\\models\\geometry\\geom_components\\nacelle\\compute_nacelle.py:96: UserWarning: Engine count and engine position do not match, change value in the xml\n",
      "  warnings.warn(\"Engine count and engine position do not match, change value in the xml\")\n",
      "WARNING : Ratio of span on fuselage depth outside of the range in Roskam's book, value clipped\n",
      "WARNING : Area ratio value outside of the range in Roskam's book, value clipped\n"
     ]
    },
    {
     "name": "stdout",
     "output_type": "stream",
     "text": [
      "NL: NLBGS 5 ; 29329.6247 35.6154951\n"
     ]
    },
    {
     "name": "stderr",
     "output_type": "stream",
     "text": [
      "WARNING : Chord ratio value outside of the range in Roskam's book, value clipped\n",
      "WARNING : Chord ratio value outside of the range in Roskam's book, value clipped\n",
      "WARNING : Chord ratio value outside of the range in Roskam's book, value clipped\n",
      "WARNING : Chord ratio value outside of the range in Roskam's book, value clipped\n",
      "WARNING : Ratio of span on fuselage depth outside of the range in Roskam's book, value clipped\n",
      "WARNING : Area ratio value outside of the range in Roskam's book, value clipped\n",
      "INFO    : Entering mission computation\n",
      "INFO    : Entering mission computation\n",
      "INFO    : Entering mission computation\n",
      "WARNING : Looping on wing area with new value equal to [15.85116777]\n",
      "D:\\fl.lutz\\FAST\\FAST-OAD\\FAST-GA\\src\\fastga\\models\\geometry\\geom_components\\nacelle\\compute_nacelle.py:96: UserWarning: Engine count and engine position do not match, change value in the xml\n",
      "  warnings.warn(\"Engine count and engine position do not match, change value in the xml\")\n",
      "WARNING : Ratio of span on fuselage depth outside of the range in Roskam's book, value clipped\n",
      "WARNING : Area ratio value outside of the range in Roskam's book, value clipped\n"
     ]
    },
    {
     "name": "stdout",
     "output_type": "stream",
     "text": [
      "NL: NLBGS 6 ; 12943.9029 15.7180159\n"
     ]
    },
    {
     "name": "stderr",
     "output_type": "stream",
     "text": [
      "WARNING : Chord ratio value outside of the range in Roskam's book, value clipped\n",
      "WARNING : Chord ratio value outside of the range in Roskam's book, value clipped\n",
      "WARNING : Chord ratio value outside of the range in Roskam's book, value clipped\n",
      "WARNING : Chord ratio value outside of the range in Roskam's book, value clipped\n",
      "WARNING : Ratio of span on fuselage depth outside of the range in Roskam's book, value clipped\n",
      "WARNING : Area ratio value outside of the range in Roskam's book, value clipped\n",
      "INFO    : Entering mission computation\n",
      "INFO    : Entering mission computation\n",
      "INFO    : Entering mission computation\n",
      "WARNING : Looping on wing area with new value equal to [15.85903147]\n",
      "D:\\fl.lutz\\FAST\\FAST-OAD\\FAST-GA\\src\\fastga\\models\\geometry\\geom_components\\nacelle\\compute_nacelle.py:96: UserWarning: Engine count and engine position do not match, change value in the xml\n",
      "  warnings.warn(\"Engine count and engine position do not match, change value in the xml\")\n",
      "WARNING : Ratio of span on fuselage depth outside of the range in Roskam's book, value clipped\n",
      "WARNING : Area ratio value outside of the range in Roskam's book, value clipped\n"
     ]
    },
    {
     "name": "stdout",
     "output_type": "stream",
     "text": [
      "NL: NLBGS 7 ; 9825.30076 11.9310409\n"
     ]
    },
    {
     "name": "stderr",
     "output_type": "stream",
     "text": [
      "WARNING : Chord ratio value outside of the range in Roskam's book, value clipped\n",
      "WARNING : Chord ratio value outside of the range in Roskam's book, value clipped\n",
      "WARNING : Chord ratio value outside of the range in Roskam's book, value clipped\n",
      "WARNING : Chord ratio value outside of the range in Roskam's book, value clipped\n",
      "WARNING : Ratio of span on fuselage depth outside of the range in Roskam's book, value clipped\n",
      "WARNING : Area ratio value outside of the range in Roskam's book, value clipped\n",
      "INFO    : Entering mission computation\n",
      "INFO    : Entering mission computation\n",
      "INFO    : Entering mission computation\n",
      "WARNING : Looping on wing area with new value equal to [15.86414398]\n",
      "D:\\fl.lutz\\FAST\\FAST-OAD\\FAST-GA\\src\\fastga\\models\\geometry\\geom_components\\nacelle\\compute_nacelle.py:96: UserWarning: Engine count and engine position do not match, change value in the xml\n",
      "  warnings.warn(\"Engine count and engine position do not match, change value in the xml\")\n",
      "WARNING : Ratio of span on fuselage depth outside of the range in Roskam's book, value clipped\n",
      "WARNING : Area ratio value outside of the range in Roskam's book, value clipped\n"
     ]
    },
    {
     "name": "stdout",
     "output_type": "stream",
     "text": [
      "NL: NLBGS 8 ; 6574.45096 7.983475\n"
     ]
    },
    {
     "name": "stderr",
     "output_type": "stream",
     "text": [
      "WARNING : Chord ratio value outside of the range in Roskam's book, value clipped\n",
      "WARNING : Chord ratio value outside of the range in Roskam's book, value clipped\n",
      "WARNING : Chord ratio value outside of the range in Roskam's book, value clipped\n",
      "WARNING : Chord ratio value outside of the range in Roskam's book, value clipped\n",
      "WARNING : Ratio of span on fuselage depth outside of the range in Roskam's book, value clipped\n",
      "WARNING : Area ratio value outside of the range in Roskam's book, value clipped\n",
      "INFO    : Entering mission computation\n",
      "INFO    : Entering mission computation\n",
      "INFO    : Entering mission computation\n",
      "WARNING : Looping on wing area with new value equal to [15.86728723]\n",
      "D:\\fl.lutz\\FAST\\FAST-OAD\\FAST-GA\\src\\fastga\\models\\geometry\\geom_components\\nacelle\\compute_nacelle.py:96: UserWarning: Engine count and engine position do not match, change value in the xml\n",
      "  warnings.warn(\"Engine count and engine position do not match, change value in the xml\")\n"
     ]
    },
    {
     "name": "stdout",
     "output_type": "stream",
     "text": [
      "NL: NLBGS 9 ; 3627.91779 4.40544634\n"
     ]
    },
    {
     "name": "stderr",
     "output_type": "stream",
     "text": [
      "WARNING : Ratio of span on fuselage depth outside of the range in Roskam's book, value clipped\n",
      "WARNING : Area ratio value outside of the range in Roskam's book, value clipped\n",
      "WARNING : Chord ratio value outside of the range in Roskam's book, value clipped\n",
      "WARNING : Chord ratio value outside of the range in Roskam's book, value clipped\n",
      "WARNING : Chord ratio value outside of the range in Roskam's book, value clipped\n",
      "WARNING : Chord ratio value outside of the range in Roskam's book, value clipped\n",
      "WARNING : Ratio of span on fuselage depth outside of the range in Roskam's book, value clipped\n",
      "WARNING : Area ratio value outside of the range in Roskam's book, value clipped\n",
      "INFO    : Entering mission computation\n",
      "INFO    : Entering mission computation\n",
      "INFO    : Entering mission computation\n",
      "WARNING : Looping on wing area with new value equal to [15.86910815]\n",
      "D:\\fl.lutz\\FAST\\FAST-OAD\\FAST-GA\\src\\fastga\\models\\geometry\\geom_components\\nacelle\\compute_nacelle.py:96: UserWarning: Engine count and engine position do not match, change value in the xml\n",
      "  warnings.warn(\"Engine count and engine position do not match, change value in the xml\")\n",
      "WARNING : Ratio of span on fuselage depth outside of the range in Roskam's book, value clipped\n",
      "WARNING : Area ratio value outside of the range in Roskam's book, value clipped\n"
     ]
    },
    {
     "name": "stdout",
     "output_type": "stream",
     "text": [
      "NL: NLBGS 10 ; 1982.91819 2.40789351\n"
     ]
    },
    {
     "name": "stderr",
     "output_type": "stream",
     "text": [
      "WARNING : Chord ratio value outside of the range in Roskam's book, value clipped\n",
      "WARNING : Chord ratio value outside of the range in Roskam's book, value clipped\n",
      "WARNING : Chord ratio value outside of the range in Roskam's book, value clipped\n",
      "WARNING : Chord ratio value outside of the range in Roskam's book, value clipped\n",
      "WARNING : Ratio of span on fuselage depth outside of the range in Roskam's book, value clipped\n",
      "WARNING : Area ratio value outside of the range in Roskam's book, value clipped\n",
      "INFO    : Entering mission computation\n",
      "INFO    : Entering mission computation\n",
      "INFO    : Entering mission computation\n",
      "WARNING : Looping on wing area with new value equal to [15.87013708]\n",
      "D:\\fl.lutz\\FAST\\FAST-OAD\\FAST-GA\\src\\fastga\\models\\geometry\\geom_components\\nacelle\\compute_nacelle.py:96: UserWarning: Engine count and engine position do not match, change value in the xml\n",
      "  warnings.warn(\"Engine count and engine position do not match, change value in the xml\")\n",
      "WARNING : Ratio of span on fuselage depth outside of the range in Roskam's book, value clipped\n",
      "WARNING : Area ratio value outside of the range in Roskam's book, value clipped\n"
     ]
    },
    {
     "name": "stdout",
     "output_type": "stream",
     "text": [
      "NL: NLBGS 11 ; 1061.92964 1.28952042\n"
     ]
    },
    {
     "name": "stderr",
     "output_type": "stream",
     "text": [
      "WARNING : Chord ratio value outside of the range in Roskam's book, value clipped\n",
      "WARNING : Chord ratio value outside of the range in Roskam's book, value clipped\n",
      "WARNING : Chord ratio value outside of the range in Roskam's book, value clipped\n",
      "WARNING : Chord ratio value outside of the range in Roskam's book, value clipped\n",
      "WARNING : Ratio of span on fuselage depth outside of the range in Roskam's book, value clipped\n",
      "WARNING : Area ratio value outside of the range in Roskam's book, value clipped\n",
      "INFO    : Entering mission computation\n",
      "INFO    : Entering mission computation\n",
      "INFO    : Entering mission computation\n",
      "WARNING : Looping on wing area with new value equal to [15.87068972]\n",
      "D:\\fl.lutz\\FAST\\FAST-OAD\\FAST-GA\\src\\fastga\\models\\geometry\\geom_components\\nacelle\\compute_nacelle.py:96: UserWarning: Engine count and engine position do not match, change value in the xml\n",
      "  warnings.warn(\"Engine count and engine position do not match, change value in the xml\")\n",
      "WARNING : Ratio of span on fuselage depth outside of the range in Roskam's book, value clipped\n",
      "WARNING : Area ratio value outside of the range in Roskam's book, value clipped\n"
     ]
    },
    {
     "name": "stdout",
     "output_type": "stream",
     "text": [
      "NL: NLBGS 12 ; 551.257363 0.66940181\n"
     ]
    },
    {
     "name": "stderr",
     "output_type": "stream",
     "text": [
      "WARNING : Chord ratio value outside of the range in Roskam's book, value clipped\n",
      "WARNING : Chord ratio value outside of the range in Roskam's book, value clipped\n",
      "WARNING : Chord ratio value outside of the range in Roskam's book, value clipped\n",
      "WARNING : Chord ratio value outside of the range in Roskam's book, value clipped\n",
      "WARNING : Ratio of span on fuselage depth outside of the range in Roskam's book, value clipped\n",
      "WARNING : Area ratio value outside of the range in Roskam's book, value clipped\n",
      "INFO    : Entering mission computation\n",
      "INFO    : Entering mission computation\n",
      "INFO    : Entering mission computation\n",
      "WARNING : Looping on wing area with new value equal to [15.87097615]\n",
      "D:\\fl.lutz\\FAST\\FAST-OAD\\FAST-GA\\src\\fastga\\models\\geometry\\geom_components\\nacelle\\compute_nacelle.py:96: UserWarning: Engine count and engine position do not match, change value in the xml\n",
      "  warnings.warn(\"Engine count and engine position do not match, change value in the xml\")\n",
      "WARNING : Ratio of span on fuselage depth outside of the range in Roskam's book, value clipped\n",
      "WARNING : Area ratio value outside of the range in Roskam's book, value clipped\n"
     ]
    },
    {
     "name": "stdout",
     "output_type": "stream",
     "text": [
      "NL: NLBGS 13 ; 278.911494 0.338687284\n"
     ]
    },
    {
     "name": "stderr",
     "output_type": "stream",
     "text": [
      "WARNING : Chord ratio value outside of the range in Roskam's book, value clipped\n",
      "WARNING : Chord ratio value outside of the range in Roskam's book, value clipped\n",
      "WARNING : Chord ratio value outside of the range in Roskam's book, value clipped\n",
      "WARNING : Chord ratio value outside of the range in Roskam's book, value clipped\n",
      "WARNING : Ratio of span on fuselage depth outside of the range in Roskam's book, value clipped\n",
      "WARNING : Area ratio value outside of the range in Roskam's book, value clipped\n",
      "INFO    : Entering mission computation\n",
      "INFO    : Entering mission computation\n",
      "INFO    : Entering mission computation\n",
      "WARNING : Looping on wing area with new value equal to [15.87109724]\n",
      "D:\\fl.lutz\\FAST\\FAST-OAD\\FAST-GA\\src\\fastga\\models\\geometry\\geom_components\\nacelle\\compute_nacelle.py:96: UserWarning: Engine count and engine position do not match, change value in the xml\n",
      "  warnings.warn(\"Engine count and engine position do not match, change value in the xml\")\n",
      "WARNING : Ratio of span on fuselage depth outside of the range in Roskam's book, value clipped\n",
      "WARNING : Area ratio value outside of the range in Roskam's book, value clipped\n"
     ]
    },
    {
     "name": "stdout",
     "output_type": "stream",
     "text": [
      "NL: NLBGS 14 ; 135.109653 0.164066101\n"
     ]
    },
    {
     "name": "stderr",
     "output_type": "stream",
     "text": [
      "WARNING : Chord ratio value outside of the range in Roskam's book, value clipped\n",
      "WARNING : Chord ratio value outside of the range in Roskam's book, value clipped\n",
      "WARNING : Chord ratio value outside of the range in Roskam's book, value clipped\n",
      "WARNING : Chord ratio value outside of the range in Roskam's book, value clipped\n",
      "WARNING : Ratio of span on fuselage depth outside of the range in Roskam's book, value clipped\n",
      "WARNING : Area ratio value outside of the range in Roskam's book, value clipped\n",
      "INFO    : Entering mission computation\n",
      "INFO    : Entering mission computation\n",
      "INFO    : Entering mission computation\n",
      "WARNING : Looping on wing area with new value equal to [15.87116027]\n",
      "D:\\fl.lutz\\FAST\\FAST-OAD\\FAST-GA\\src\\fastga\\models\\geometry\\geom_components\\nacelle\\compute_nacelle.py:96: UserWarning: Engine count and engine position do not match, change value in the xml\n",
      "  warnings.warn(\"Engine count and engine position do not match, change value in the xml\")\n",
      "WARNING : Ratio of span on fuselage depth outside of the range in Roskam's book, value clipped\n",
      "WARNING : Area ratio value outside of the range in Roskam's book, value clipped\n"
     ]
    },
    {
     "name": "stdout",
     "output_type": "stream",
     "text": [
      "NL: NLBGS 15 ; 58.0570448 0.0704997221\n"
     ]
    },
    {
     "name": "stderr",
     "output_type": "stream",
     "text": [
      "WARNING : Chord ratio value outside of the range in Roskam's book, value clipped\n",
      "WARNING : Chord ratio value outside of the range in Roskam's book, value clipped\n",
      "WARNING : Chord ratio value outside of the range in Roskam's book, value clipped\n",
      "WARNING : Chord ratio value outside of the range in Roskam's book, value clipped\n",
      "WARNING : Ratio of span on fuselage depth outside of the range in Roskam's book, value clipped\n",
      "WARNING : Area ratio value outside of the range in Roskam's book, value clipped\n",
      "INFO    : Entering mission computation\n",
      "INFO    : Entering mission computation\n",
      "INFO    : Entering mission computation\n",
      "WARNING : Looping on wing area with new value equal to [15.87118675]\n",
      "D:\\fl.lutz\\FAST\\FAST-OAD\\FAST-GA\\src\\fastga\\models\\geometry\\geom_components\\nacelle\\compute_nacelle.py:96: UserWarning: Engine count and engine position do not match, change value in the xml\n",
      "  warnings.warn(\"Engine count and engine position do not match, change value in the xml\")\n",
      "WARNING : Ratio of span on fuselage depth outside of the range in Roskam's book, value clipped\n",
      "WARNING : Area ratio value outside of the range in Roskam's book, value clipped\n"
     ]
    },
    {
     "name": "stdout",
     "output_type": "stream",
     "text": [
      "NL: NLBGS 16 ; 23.7293459 0.028814975\n"
     ]
    },
    {
     "name": "stderr",
     "output_type": "stream",
     "text": [
      "WARNING : Chord ratio value outside of the range in Roskam's book, value clipped\n",
      "WARNING : Chord ratio value outside of the range in Roskam's book, value clipped\n",
      "WARNING : Chord ratio value outside of the range in Roskam's book, value clipped\n",
      "WARNING : Chord ratio value outside of the range in Roskam's book, value clipped\n",
      "WARNING : Ratio of span on fuselage depth outside of the range in Roskam's book, value clipped\n",
      "WARNING : Area ratio value outside of the range in Roskam's book, value clipped\n",
      "INFO    : Entering mission computation\n",
      "INFO    : Entering mission computation\n",
      "INFO    : Entering mission computation\n",
      "WARNING : Looping on wing area with new value equal to [15.87119693]\n",
      "D:\\fl.lutz\\FAST\\FAST-OAD\\FAST-GA\\src\\fastga\\models\\geometry\\geom_components\\nacelle\\compute_nacelle.py:96: UserWarning: Engine count and engine position do not match, change value in the xml\n",
      "  warnings.warn(\"Engine count and engine position do not match, change value in the xml\")\n",
      "WARNING : Ratio of span on fuselage depth outside of the range in Roskam's book, value clipped\n",
      "WARNING : Area ratio value outside of the range in Roskam's book, value clipped\n"
     ]
    },
    {
     "name": "stdout",
     "output_type": "stream",
     "text": [
      "NL: NLBGS 17 ; 10.35028 0.0125685326\n"
     ]
    },
    {
     "name": "stderr",
     "output_type": "stream",
     "text": [
      "WARNING : Chord ratio value outside of the range in Roskam's book, value clipped\n",
      "WARNING : Chord ratio value outside of the range in Roskam's book, value clipped\n",
      "WARNING : Chord ratio value outside of the range in Roskam's book, value clipped\n",
      "WARNING : Chord ratio value outside of the range in Roskam's book, value clipped\n",
      "WARNING : Ratio of span on fuselage depth outside of the range in Roskam's book, value clipped\n",
      "WARNING : Area ratio value outside of the range in Roskam's book, value clipped\n",
      "INFO    : Entering mission computation\n",
      "INFO    : Entering mission computation\n",
      "INFO    : Entering mission computation\n",
      "WARNING : Looping on wing area with new value equal to [15.87119972]\n",
      "D:\\fl.lutz\\FAST\\FAST-OAD\\FAST-GA\\src\\fastga\\models\\geometry\\geom_components\\nacelle\\compute_nacelle.py:96: UserWarning: Engine count and engine position do not match, change value in the xml\n",
      "  warnings.warn(\"Engine count and engine position do not match, change value in the xml\")\n",
      "WARNING : Ratio of span on fuselage depth outside of the range in Roskam's book, value clipped\n",
      "WARNING : Area ratio value outside of the range in Roskam's book, value clipped\n"
     ]
    },
    {
     "name": "stdout",
     "output_type": "stream",
     "text": [
      "NL: NLBGS 18 ; 4.75363983 0.00577243103\n"
     ]
    },
    {
     "name": "stderr",
     "output_type": "stream",
     "text": [
      "WARNING : Chord ratio value outside of the range in Roskam's book, value clipped\n",
      "WARNING : Chord ratio value outside of the range in Roskam's book, value clipped\n",
      "WARNING : Chord ratio value outside of the range in Roskam's book, value clipped\n",
      "WARNING : Chord ratio value outside of the range in Roskam's book, value clipped\n",
      "WARNING : Ratio of span on fuselage depth outside of the range in Roskam's book, value clipped\n",
      "WARNING : Area ratio value outside of the range in Roskam's book, value clipped\n",
      "INFO    : Entering mission computation\n",
      "INFO    : Entering mission computation\n",
      "INFO    : Entering mission computation\n",
      "WARNING : Looping on wing area with new value equal to [15.8712]\n",
      "D:\\fl.lutz\\FAST\\FAST-OAD\\FAST-GA\\src\\fastga\\models\\geometry\\geom_components\\nacelle\\compute_nacelle.py:96: UserWarning: Engine count and engine position do not match, change value in the xml\n",
      "  warnings.warn(\"Engine count and engine position do not match, change value in the xml\")\n",
      "WARNING : Ratio of span on fuselage depth outside of the range in Roskam's book, value clipped\n",
      "WARNING : Area ratio value outside of the range in Roskam's book, value clipped\n"
     ]
    },
    {
     "name": "stdout",
     "output_type": "stream",
     "text": [
      "NL: NLBGS 19 ; 2.63316317 0.00319749778\n"
     ]
    },
    {
     "name": "stderr",
     "output_type": "stream",
     "text": [
      "WARNING : Chord ratio value outside of the range in Roskam's book, value clipped\n",
      "WARNING : Chord ratio value outside of the range in Roskam's book, value clipped\n",
      "WARNING : Chord ratio value outside of the range in Roskam's book, value clipped\n",
      "WARNING : Chord ratio value outside of the range in Roskam's book, value clipped\n",
      "WARNING : Ratio of span on fuselage depth outside of the range in Roskam's book, value clipped\n",
      "WARNING : Area ratio value outside of the range in Roskam's book, value clipped\n",
      "INFO    : Entering mission computation\n",
      "INFO    : Entering mission computation\n",
      "INFO    : Entering mission computation\n",
      "WARNING : Looping on wing area with new value equal to [15.87119936]\n",
      "D:\\fl.lutz\\FAST\\FAST-OAD\\FAST-GA\\src\\fastga\\models\\geometry\\geom_components\\nacelle\\compute_nacelle.py:96: UserWarning: Engine count and engine position do not match, change value in the xml\n",
      "  warnings.warn(\"Engine count and engine position do not match, change value in the xml\")\n",
      "WARNING : Ratio of span on fuselage depth outside of the range in Roskam's book, value clipped\n",
      "WARNING : Area ratio value outside of the range in Roskam's book, value clipped\n"
     ]
    },
    {
     "name": "stdout",
     "output_type": "stream",
     "text": [
      "NL: NLBGS 20 ; 1.93174281 0.00234575032\n"
     ]
    },
    {
     "name": "stderr",
     "output_type": "stream",
     "text": [
      "WARNING : Chord ratio value outside of the range in Roskam's book, value clipped\n",
      "WARNING : Chord ratio value outside of the range in Roskam's book, value clipped\n",
      "WARNING : Chord ratio value outside of the range in Roskam's book, value clipped\n",
      "WARNING : Chord ratio value outside of the range in Roskam's book, value clipped\n",
      "WARNING : Ratio of span on fuselage depth outside of the range in Roskam's book, value clipped\n",
      "WARNING : Area ratio value outside of the range in Roskam's book, value clipped\n",
      "INFO    : Entering mission computation\n",
      "INFO    : Entering mission computation\n",
      "INFO    : Entering mission computation\n",
      "WARNING : Looping on wing area with new value equal to [15.87119862]\n",
      "D:\\fl.lutz\\FAST\\FAST-OAD\\FAST-GA\\src\\fastga\\models\\geometry\\geom_components\\nacelle\\compute_nacelle.py:96: UserWarning: Engine count and engine position do not match, change value in the xml\n",
      "  warnings.warn(\"Engine count and engine position do not match, change value in the xml\")\n",
      "WARNING : Ratio of span on fuselage depth outside of the range in Roskam's book, value clipped\n",
      "WARNING : Area ratio value outside of the range in Roskam's book, value clipped\n"
     ]
    },
    {
     "name": "stdout",
     "output_type": "stream",
     "text": [
      "NL: NLBGS 21 ; 1.40162286 0.00170201605\n"
     ]
    },
    {
     "name": "stderr",
     "output_type": "stream",
     "text": [
      "WARNING : Chord ratio value outside of the range in Roskam's book, value clipped\n",
      "WARNING : Chord ratio value outside of the range in Roskam's book, value clipped\n",
      "WARNING : Chord ratio value outside of the range in Roskam's book, value clipped\n",
      "WARNING : Chord ratio value outside of the range in Roskam's book, value clipped\n",
      "WARNING : Ratio of span on fuselage depth outside of the range in Roskam's book, value clipped\n",
      "WARNING : Area ratio value outside of the range in Roskam's book, value clipped\n",
      "INFO    : Entering mission computation\n",
      "INFO    : Entering mission computation\n",
      "INFO    : Entering mission computation\n",
      "WARNING : Looping on wing area with new value equal to [15.87119801]\n"
     ]
    },
    {
     "name": "stdout",
     "output_type": "stream",
     "text": [
      "NL: NLBGS 22 ; 0.759026143 0.000921699207\n",
      "NL: NLBGS Converged\n"
     ]
    },
    {
     "name": "stderr",
     "output_type": "stream",
     "text": [
      "D:\\fl.lutz\\FAST\\FAST-OAD\\FAST-GA\\src\\fastga\\models\\geometry\\geom_components\\nacelle\\compute_nacelle.py:96: UserWarning: Engine count and engine position do not match, change value in the xml\n",
      "  warnings.warn(\"Engine count and engine position do not match, change value in the xml\")\n",
      "WARNING : Ratio of span on fuselage depth outside of the range in Roskam's book, value clipped\n",
      "WARNING : Area ratio value outside of the range in Roskam's book, value clipped\n",
      "WARNING : Chord ratio value outside of the range in Roskam's book, value clipped\n",
      "WARNING : Chord ratio value outside of the range in Roskam's book, value clipped\n",
      "WARNING : Chord ratio value outside of the range in Roskam's book, value clipped\n",
      "WARNING : Chord ratio value outside of the range in Roskam's book, value clipped\n",
      "WARNING : Ratio of span on fuselage depth outside of the range in Roskam's book, value clipped\n",
      "WARNING : Area ratio value outside of the range in Roskam's book, value clipped\n",
      "INFO    : Entering mission computation\n",
      "INFO    : Entering mission computation\n",
      "INFO    : Entering mission computation\n",
      "WARNING : Looping on wing area with new value equal to [15.8711976]\n",
      "D:\\fl.lutz\\FAST\\FAST-OAD\\FAST-GA\\src\\fastga\\models\\geometry\\geom_components\\nacelle\\compute_nacelle.py:96: UserWarning: Engine count and engine position do not match, change value in the xml\n",
      "  warnings.warn(\"Engine count and engine position do not match, change value in the xml\")\n",
      "WARNING : Ratio of span on fuselage depth outside of the range in Roskam's book, value clipped\n",
      "WARNING : Area ratio value outside of the range in Roskam's book, value clipped\n"
     ]
    },
    {
     "name": "stdout",
     "output_type": "stream",
     "text": [
      "NL: NLBGS 1 ; 708.633818 1\n"
     ]
    },
    {
     "name": "stderr",
     "output_type": "stream",
     "text": [
      "WARNING : Chord ratio value outside of the range in Roskam's book, value clipped\n",
      "WARNING : Chord ratio value outside of the range in Roskam's book, value clipped\n",
      "WARNING : Chord ratio value outside of the range in Roskam's book, value clipped\n",
      "WARNING : Chord ratio value outside of the range in Roskam's book, value clipped\n",
      "WARNING : Ratio of span on fuselage depth outside of the range in Roskam's book, value clipped\n",
      "WARNING : Area ratio value outside of the range in Roskam's book, value clipped\n",
      "INFO    : Entering mission computation\n",
      "INFO    : Entering mission computation\n",
      "INFO    : Entering mission computation\n",
      "WARNING : Looping on wing area with new value equal to [16.07164524]\n",
      "D:\\fl.lutz\\FAST\\FAST-OAD\\FAST-GA\\src\\fastga\\models\\geometry\\geom_components\\nacelle\\compute_nacelle.py:96: UserWarning: Engine count and engine position do not match, change value in the xml\n",
      "  warnings.warn(\"Engine count and engine position do not match, change value in the xml\")\n",
      "WARNING : Ratio of span on fuselage depth outside of the range in Roskam's book, value clipped\n",
      "WARNING : Area ratio value outside of the range in Roskam's book, value clipped\n"
     ]
    },
    {
     "name": "stdout",
     "output_type": "stream",
     "text": [
      "NL: NLBGS 2 ; 550913.075 777.429839\n"
     ]
    },
    {
     "name": "stderr",
     "output_type": "stream",
     "text": [
      "WARNING : Chord ratio value outside of the range in Roskam's book, value clipped\n",
      "WARNING : Chord ratio value outside of the range in Roskam's book, value clipped\n",
      "WARNING : Chord ratio value outside of the range in Roskam's book, value clipped\n",
      "WARNING : Chord ratio value outside of the range in Roskam's book, value clipped\n",
      "WARNING : Ratio of span on fuselage depth outside of the range in Roskam's book, value clipped\n",
      "WARNING : Area ratio value outside of the range in Roskam's book, value clipped\n",
      "INFO    : Entering mission computation\n",
      "INFO    : Entering mission computation\n",
      "INFO    : Entering mission computation\n",
      "WARNING : Looping on wing area with new value equal to [16.06392266]\n",
      "D:\\fl.lutz\\FAST\\FAST-OAD\\FAST-GA\\src\\fastga\\models\\geometry\\geom_components\\nacelle\\compute_nacelle.py:96: UserWarning: Engine count and engine position do not match, change value in the xml\n",
      "  warnings.warn(\"Engine count and engine position do not match, change value in the xml\")\n",
      "WARNING : Ratio of span on fuselage depth outside of the range in Roskam's book, value clipped\n",
      "WARNING : Area ratio value outside of the range in Roskam's book, value clipped\n"
     ]
    },
    {
     "name": "stdout",
     "output_type": "stream",
     "text": [
      "NL: NLBGS 3 ; 64985.2827 91.7050261\n"
     ]
    },
    {
     "name": "stderr",
     "output_type": "stream",
     "text": [
      "WARNING : Chord ratio value outside of the range in Roskam's book, value clipped\n",
      "WARNING : Chord ratio value outside of the range in Roskam's book, value clipped\n",
      "WARNING : Chord ratio value outside of the range in Roskam's book, value clipped\n",
      "WARNING : Chord ratio value outside of the range in Roskam's book, value clipped\n",
      "WARNING : Ratio of span on fuselage depth outside of the range in Roskam's book, value clipped\n",
      "WARNING : Area ratio value outside of the range in Roskam's book, value clipped\n",
      "INFO    : Entering mission computation\n",
      "INFO    : Entering mission computation\n",
      "INFO    : Entering mission computation\n",
      "WARNING : Looping on wing area with new value equal to [16.08250075]\n",
      "D:\\fl.lutz\\FAST\\FAST-OAD\\FAST-GA\\src\\fastga\\models\\geometry\\geom_components\\nacelle\\compute_nacelle.py:96: UserWarning: Engine count and engine position do not match, change value in the xml\n",
      "  warnings.warn(\"Engine count and engine position do not match, change value in the xml\")\n",
      "WARNING : Ratio of span on fuselage depth outside of the range in Roskam's book, value clipped\n",
      "WARNING : Area ratio value outside of the range in Roskam's book, value clipped\n"
     ]
    },
    {
     "name": "stdout",
     "output_type": "stream",
     "text": [
      "NL: NLBGS 4 ; 109089.996 153.944101\n"
     ]
    },
    {
     "name": "stderr",
     "output_type": "stream",
     "text": [
      "WARNING : Chord ratio value outside of the range in Roskam's book, value clipped\n",
      "WARNING : Chord ratio value outside of the range in Roskam's book, value clipped\n",
      "WARNING : Chord ratio value outside of the range in Roskam's book, value clipped\n",
      "WARNING : Chord ratio value outside of the range in Roskam's book, value clipped\n",
      "WARNING : Ratio of span on fuselage depth outside of the range in Roskam's book, value clipped\n",
      "WARNING : Area ratio value outside of the range in Roskam's book, value clipped\n",
      "INFO    : Entering mission computation\n",
      "INFO    : Entering mission computation\n",
      "INFO    : Entering mission computation\n",
      "WARNING : Looping on wing area with new value equal to [16.1053035]\n",
      "D:\\fl.lutz\\FAST\\FAST-OAD\\FAST-GA\\src\\fastga\\models\\geometry\\geom_components\\nacelle\\compute_nacelle.py:96: UserWarning: Engine count and engine position do not match, change value in the xml\n",
      "  warnings.warn(\"Engine count and engine position do not match, change value in the xml\")\n",
      "WARNING : Ratio of span on fuselage depth outside of the range in Roskam's book, value clipped\n",
      "WARNING : Area ratio value outside of the range in Roskam's book, value clipped\n"
     ]
    },
    {
     "name": "stdout",
     "output_type": "stream",
     "text": [
      "NL: NLBGS 5 ; 34445.5685 48.6084176\n"
     ]
    },
    {
     "name": "stderr",
     "output_type": "stream",
     "text": [
      "WARNING : Chord ratio value outside of the range in Roskam's book, value clipped\n",
      "WARNING : Chord ratio value outside of the range in Roskam's book, value clipped\n",
      "WARNING : Chord ratio value outside of the range in Roskam's book, value clipped\n",
      "WARNING : Chord ratio value outside of the range in Roskam's book, value clipped\n",
      "WARNING : Ratio of span on fuselage depth outside of the range in Roskam's book, value clipped\n",
      "WARNING : Area ratio value outside of the range in Roskam's book, value clipped\n",
      "INFO    : Entering mission computation\n",
      "INFO    : Entering mission computation\n",
      "INFO    : Entering mission computation\n",
      "WARNING : Looping on wing area with new value equal to [16.12528593]\n",
      "D:\\fl.lutz\\FAST\\FAST-OAD\\FAST-GA\\src\\fastga\\models\\geometry\\geom_components\\nacelle\\compute_nacelle.py:96: UserWarning: Engine count and engine position do not match, change value in the xml\n",
      "  warnings.warn(\"Engine count and engine position do not match, change value in the xml\")\n",
      "WARNING : Ratio of span on fuselage depth outside of the range in Roskam's book, value clipped\n",
      "WARNING : Area ratio value outside of the range in Roskam's book, value clipped\n"
     ]
    },
    {
     "name": "stdout",
     "output_type": "stream",
     "text": [
      "NL: NLBGS 6 ; 19278.8714 27.2056891\n"
     ]
    },
    {
     "name": "stderr",
     "output_type": "stream",
     "text": [
      "WARNING : Chord ratio value outside of the range in Roskam's book, value clipped\n",
      "WARNING : Chord ratio value outside of the range in Roskam's book, value clipped\n",
      "WARNING : Chord ratio value outside of the range in Roskam's book, value clipped\n",
      "WARNING : Chord ratio value outside of the range in Roskam's book, value clipped\n",
      "WARNING : Ratio of span on fuselage depth outside of the range in Roskam's book, value clipped\n",
      "WARNING : Area ratio value outside of the range in Roskam's book, value clipped\n",
      "INFO    : Entering mission computation\n",
      "INFO    : Entering mission computation\n",
      "INFO    : Entering mission computation\n",
      "WARNING : Looping on wing area with new value equal to [16.13686876]\n",
      "D:\\fl.lutz\\FAST\\FAST-OAD\\FAST-GA\\src\\fastga\\models\\geometry\\geom_components\\nacelle\\compute_nacelle.py:96: UserWarning: Engine count and engine position do not match, change value in the xml\n",
      "  warnings.warn(\"Engine count and engine position do not match, change value in the xml\")\n",
      "WARNING : Ratio of span on fuselage depth outside of the range in Roskam's book, value clipped\n",
      "WARNING : Area ratio value outside of the range in Roskam's book, value clipped\n"
     ]
    },
    {
     "name": "stdout",
     "output_type": "stream",
     "text": [
      "NL: NLBGS 7 ; 13306.3408 18.7774566\n"
     ]
    },
    {
     "name": "stderr",
     "output_type": "stream",
     "text": [
      "WARNING : Chord ratio value outside of the range in Roskam's book, value clipped\n",
      "WARNING : Chord ratio value outside of the range in Roskam's book, value clipped\n",
      "WARNING : Chord ratio value outside of the range in Roskam's book, value clipped\n",
      "WARNING : Chord ratio value outside of the range in Roskam's book, value clipped\n",
      "WARNING : Ratio of span on fuselage depth outside of the range in Roskam's book, value clipped\n",
      "WARNING : Area ratio value outside of the range in Roskam's book, value clipped\n",
      "INFO    : Entering mission computation\n",
      "INFO    : Entering mission computation\n",
      "INFO    : Entering mission computation\n",
      "WARNING : Looping on wing area with new value equal to [16.14377646]\n",
      "D:\\fl.lutz\\FAST\\FAST-OAD\\FAST-GA\\src\\fastga\\models\\geometry\\geom_components\\nacelle\\compute_nacelle.py:96: UserWarning: Engine count and engine position do not match, change value in the xml\n",
      "  warnings.warn(\"Engine count and engine position do not match, change value in the xml\")\n",
      "WARNING : Ratio of span on fuselage depth outside of the range in Roskam's book, value clipped\n",
      "WARNING : Area ratio value outside of the range in Roskam's book, value clipped\n"
     ]
    },
    {
     "name": "stdout",
     "output_type": "stream",
     "text": [
      "NL: NLBGS 8 ; 9029.53679 12.7421759\n"
     ]
    },
    {
     "name": "stderr",
     "output_type": "stream",
     "text": [
      "WARNING : Chord ratio value outside of the range in Roskam's book, value clipped\n",
      "WARNING : Chord ratio value outside of the range in Roskam's book, value clipped\n",
      "WARNING : Chord ratio value outside of the range in Roskam's book, value clipped\n",
      "WARNING : Chord ratio value outside of the range in Roskam's book, value clipped\n",
      "WARNING : Ratio of span on fuselage depth outside of the range in Roskam's book, value clipped\n",
      "WARNING : Area ratio value outside of the range in Roskam's book, value clipped\n",
      "INFO    : Entering mission computation\n",
      "INFO    : Entering mission computation\n",
      "INFO    : Entering mission computation\n",
      "WARNING : Looping on wing area with new value equal to [16.14815228]\n",
      "D:\\fl.lutz\\FAST\\FAST-OAD\\FAST-GA\\src\\fastga\\models\\geometry\\geom_components\\nacelle\\compute_nacelle.py:96: UserWarning: Engine count and engine position do not match, change value in the xml\n",
      "  warnings.warn(\"Engine count and engine position do not match, change value in the xml\")\n",
      "WARNING : Ratio of span on fuselage depth outside of the range in Roskam's book, value clipped\n",
      "WARNING : Area ratio value outside of the range in Roskam's book, value clipped\n"
     ]
    },
    {
     "name": "stdout",
     "output_type": "stream",
     "text": [
      "NL: NLBGS 9 ; 4641.50447 6.54993362\n"
     ]
    },
    {
     "name": "stderr",
     "output_type": "stream",
     "text": [
      "WARNING : Chord ratio value outside of the range in Roskam's book, value clipped\n",
      "WARNING : Chord ratio value outside of the range in Roskam's book, value clipped\n",
      "WARNING : Chord ratio value outside of the range in Roskam's book, value clipped\n",
      "WARNING : Chord ratio value outside of the range in Roskam's book, value clipped\n",
      "WARNING : Ratio of span on fuselage depth outside of the range in Roskam's book, value clipped\n",
      "WARNING : Area ratio value outside of the range in Roskam's book, value clipped\n",
      "INFO    : Entering mission computation\n",
      "INFO    : Entering mission computation\n",
      "INFO    : Entering mission computation\n",
      "WARNING : Looping on wing area with new value equal to [16.15051861]\n",
      "D:\\fl.lutz\\FAST\\FAST-OAD\\FAST-GA\\src\\fastga\\models\\geometry\\geom_components\\nacelle\\compute_nacelle.py:96: UserWarning: Engine count and engine position do not match, change value in the xml\n",
      "  warnings.warn(\"Engine count and engine position do not match, change value in the xml\")\n",
      "WARNING : Ratio of span on fuselage depth outside of the range in Roskam's book, value clipped\n",
      "WARNING : Area ratio value outside of the range in Roskam's book, value clipped\n"
     ]
    },
    {
     "name": "stdout",
     "output_type": "stream",
     "text": [
      "NL: NLBGS 10 ; 2438.84713 3.44161832\n"
     ]
    },
    {
     "name": "stderr",
     "output_type": "stream",
     "text": [
      "WARNING : Chord ratio value outside of the range in Roskam's book, value clipped\n",
      "WARNING : Chord ratio value outside of the range in Roskam's book, value clipped\n",
      "WARNING : Chord ratio value outside of the range in Roskam's book, value clipped\n",
      "WARNING : Chord ratio value outside of the range in Roskam's book, value clipped\n",
      "WARNING : Ratio of span on fuselage depth outside of the range in Roskam's book, value clipped\n",
      "WARNING : Area ratio value outside of the range in Roskam's book, value clipped\n",
      "INFO    : Entering mission computation\n",
      "INFO    : Entering mission computation\n",
      "INFO    : Entering mission computation\n",
      "WARNING : Looping on wing area with new value equal to [16.15184778]\n",
      "D:\\fl.lutz\\FAST\\FAST-OAD\\FAST-GA\\src\\fastga\\models\\geometry\\geom_components\\nacelle\\compute_nacelle.py:96: UserWarning: Engine count and engine position do not match, change value in the xml\n",
      "  warnings.warn(\"Engine count and engine position do not match, change value in the xml\")\n",
      "WARNING : Ratio of span on fuselage depth outside of the range in Roskam's book, value clipped\n",
      "WARNING : Area ratio value outside of the range in Roskam's book, value clipped\n"
     ]
    },
    {
     "name": "stdout",
     "output_type": "stream",
     "text": [
      "NL: NLBGS 11 ; 1315.55373 1.85646479\n"
     ]
    },
    {
     "name": "stderr",
     "output_type": "stream",
     "text": [
      "WARNING : Chord ratio value outside of the range in Roskam's book, value clipped\n",
      "WARNING : Chord ratio value outside of the range in Roskam's book, value clipped\n",
      "WARNING : Chord ratio value outside of the range in Roskam's book, value clipped\n",
      "WARNING : Chord ratio value outside of the range in Roskam's book, value clipped\n",
      "WARNING : Ratio of span on fuselage depth outside of the range in Roskam's book, value clipped\n",
      "WARNING : Area ratio value outside of the range in Roskam's book, value clipped\n",
      "INFO    : Entering mission computation\n",
      "INFO    : Entering mission computation\n",
      "INFO    : Entering mission computation\n",
      "WARNING : Looping on wing area with new value equal to [16.15249606]\n",
      "D:\\fl.lutz\\FAST\\FAST-OAD\\FAST-GA\\src\\fastga\\models\\geometry\\geom_components\\nacelle\\compute_nacelle.py:96: UserWarning: Engine count and engine position do not match, change value in the xml\n",
      "  warnings.warn(\"Engine count and engine position do not match, change value in the xml\")\n",
      "WARNING : Ratio of span on fuselage depth outside of the range in Roskam's book, value clipped\n",
      "WARNING : Area ratio value outside of the range in Roskam's book, value clipped\n"
     ]
    },
    {
     "name": "stdout",
     "output_type": "stream",
     "text": [
      "NL: NLBGS 12 ; 651.907151 0.919949252\n"
     ]
    },
    {
     "name": "stderr",
     "output_type": "stream",
     "text": [
      "WARNING : Chord ratio value outside of the range in Roskam's book, value clipped\n",
      "WARNING : Chord ratio value outside of the range in Roskam's book, value clipped\n",
      "WARNING : Chord ratio value outside of the range in Roskam's book, value clipped\n",
      "WARNING : Chord ratio value outside of the range in Roskam's book, value clipped\n",
      "WARNING : Ratio of span on fuselage depth outside of the range in Roskam's book, value clipped\n",
      "WARNING : Area ratio value outside of the range in Roskam's book, value clipped\n",
      "INFO    : Entering mission computation\n",
      "INFO    : Entering mission computation\n",
      "INFO    : Entering mission computation\n",
      "WARNING : Looping on wing area with new value equal to [16.15283866]\n",
      "D:\\fl.lutz\\FAST\\FAST-OAD\\FAST-GA\\src\\fastga\\models\\geometry\\geom_components\\nacelle\\compute_nacelle.py:96: UserWarning: Engine count and engine position do not match, change value in the xml\n",
      "  warnings.warn(\"Engine count and engine position do not match, change value in the xml\")\n",
      "WARNING : Ratio of span on fuselage depth outside of the range in Roskam's book, value clipped\n",
      "WARNING : Area ratio value outside of the range in Roskam's book, value clipped\n"
     ]
    },
    {
     "name": "stdout",
     "output_type": "stream",
     "text": [
      "NL: NLBGS 13 ; 310.863817 0.438680471\n"
     ]
    },
    {
     "name": "stderr",
     "output_type": "stream",
     "text": [
      "WARNING : Chord ratio value outside of the range in Roskam's book, value clipped\n",
      "WARNING : Chord ratio value outside of the range in Roskam's book, value clipped\n",
      "WARNING : Chord ratio value outside of the range in Roskam's book, value clipped\n",
      "WARNING : Chord ratio value outside of the range in Roskam's book, value clipped\n",
      "WARNING : Ratio of span on fuselage depth outside of the range in Roskam's book, value clipped\n",
      "WARNING : Area ratio value outside of the range in Roskam's book, value clipped\n",
      "INFO    : Entering mission computation\n",
      "INFO    : Entering mission computation\n",
      "INFO    : Entering mission computation\n",
      "WARNING : Looping on wing area with new value equal to [16.15299959]\n",
      "D:\\fl.lutz\\FAST\\FAST-OAD\\FAST-GA\\src\\fastga\\models\\geometry\\geom_components\\nacelle\\compute_nacelle.py:96: UserWarning: Engine count and engine position do not match, change value in the xml\n",
      "  warnings.warn(\"Engine count and engine position do not match, change value in the xml\")\n",
      "WARNING : Ratio of span on fuselage depth outside of the range in Roskam's book, value clipped\n",
      "WARNING : Area ratio value outside of the range in Roskam's book, value clipped\n"
     ]
    },
    {
     "name": "stdout",
     "output_type": "stream",
     "text": [
      "NL: NLBGS 14 ; 137.738328 0.194371655\n"
     ]
    },
    {
     "name": "stderr",
     "output_type": "stream",
     "text": [
      "WARNING : Chord ratio value outside of the range in Roskam's book, value clipped\n",
      "WARNING : Chord ratio value outside of the range in Roskam's book, value clipped\n",
      "WARNING : Chord ratio value outside of the range in Roskam's book, value clipped\n",
      "WARNING : Chord ratio value outside of the range in Roskam's book, value clipped\n",
      "WARNING : Ratio of span on fuselage depth outside of the range in Roskam's book, value clipped\n",
      "WARNING : Area ratio value outside of the range in Roskam's book, value clipped\n",
      "INFO    : Entering mission computation\n",
      "INFO    : Entering mission computation\n",
      "INFO    : Entering mission computation\n",
      "WARNING : Looping on wing area with new value equal to [16.15307071]\n",
      "D:\\fl.lutz\\FAST\\FAST-OAD\\FAST-GA\\src\\fastga\\models\\geometry\\geom_components\\nacelle\\compute_nacelle.py:96: UserWarning: Engine count and engine position do not match, change value in the xml\n",
      "  warnings.warn(\"Engine count and engine position do not match, change value in the xml\")\n",
      "WARNING : Ratio of span on fuselage depth outside of the range in Roskam's book, value clipped\n",
      "WARNING : Area ratio value outside of the range in Roskam's book, value clipped\n"
     ]
    },
    {
     "name": "stdout",
     "output_type": "stream",
     "text": [
      "NL: NLBGS 15 ; 61.1456182 0.0862866217\n"
     ]
    },
    {
     "name": "stderr",
     "output_type": "stream",
     "text": [
      "WARNING : Chord ratio value outside of the range in Roskam's book, value clipped\n",
      "WARNING : Chord ratio value outside of the range in Roskam's book, value clipped\n",
      "WARNING : Chord ratio value outside of the range in Roskam's book, value clipped\n",
      "WARNING : Chord ratio value outside of the range in Roskam's book, value clipped\n",
      "WARNING : Ratio of span on fuselage depth outside of the range in Roskam's book, value clipped\n",
      "WARNING : Area ratio value outside of the range in Roskam's book, value clipped\n",
      "INFO    : Entering mission computation\n",
      "INFO    : Entering mission computation\n",
      "INFO    : Entering mission computation\n",
      "WARNING : Looping on wing area with new value equal to [16.1530985]\n",
      "D:\\fl.lutz\\FAST\\FAST-OAD\\FAST-GA\\src\\fastga\\models\\geometry\\geom_components\\nacelle\\compute_nacelle.py:96: UserWarning: Engine count and engine position do not match, change value in the xml\n",
      "  warnings.warn(\"Engine count and engine position do not match, change value in the xml\")\n",
      "WARNING : Ratio of span on fuselage depth outside of the range in Roskam's book, value clipped\n",
      "WARNING : Area ratio value outside of the range in Roskam's book, value clipped\n"
     ]
    },
    {
     "name": "stdout",
     "output_type": "stream",
     "text": [
      "NL: NLBGS 16 ; 25.9273414 0.0365877845\n"
     ]
    },
    {
     "name": "stderr",
     "output_type": "stream",
     "text": [
      "WARNING : Chord ratio value outside of the range in Roskam's book, value clipped\n",
      "WARNING : Chord ratio value outside of the range in Roskam's book, value clipped\n",
      "WARNING : Chord ratio value outside of the range in Roskam's book, value clipped\n",
      "WARNING : Chord ratio value outside of the range in Roskam's book, value clipped\n",
      "WARNING : Ratio of span on fuselage depth outside of the range in Roskam's book, value clipped\n",
      "WARNING : Area ratio value outside of the range in Roskam's book, value clipped\n",
      "INFO    : Entering mission computation\n",
      "INFO    : Entering mission computation\n",
      "INFO    : Entering mission computation\n",
      "WARNING : Looping on wing area with new value equal to [16.15310673]\n",
      "D:\\fl.lutz\\FAST\\FAST-OAD\\FAST-GA\\src\\fastga\\models\\geometry\\geom_components\\nacelle\\compute_nacelle.py:96: UserWarning: Engine count and engine position do not match, change value in the xml\n",
      "  warnings.warn(\"Engine count and engine position do not match, change value in the xml\")\n",
      "WARNING : Ratio of span on fuselage depth outside of the range in Roskam's book, value clipped\n",
      "WARNING : Area ratio value outside of the range in Roskam's book, value clipped\n"
     ]
    },
    {
     "name": "stdout",
     "output_type": "stream",
     "text": [
      "NL: NLBGS 17 ; 12.6188432 0.0178072834\n"
     ]
    },
    {
     "name": "stderr",
     "output_type": "stream",
     "text": [
      "WARNING : Chord ratio value outside of the range in Roskam's book, value clipped\n",
      "WARNING : Chord ratio value outside of the range in Roskam's book, value clipped\n",
      "WARNING : Chord ratio value outside of the range in Roskam's book, value clipped\n",
      "WARNING : Chord ratio value outside of the range in Roskam's book, value clipped\n",
      "WARNING : Ratio of span on fuselage depth outside of the range in Roskam's book, value clipped\n",
      "WARNING : Area ratio value outside of the range in Roskam's book, value clipped\n",
      "INFO    : Entering mission computation\n",
      "INFO    : Entering mission computation\n",
      "INFO    : Entering mission computation\n",
      "WARNING : Looping on wing area with new value equal to [16.15310729]\n",
      "D:\\fl.lutz\\FAST\\FAST-OAD\\FAST-GA\\src\\fastga\\models\\geometry\\geom_components\\nacelle\\compute_nacelle.py:96: UserWarning: Engine count and engine position do not match, change value in the xml\n",
      "  warnings.warn(\"Engine count and engine position do not match, change value in the xml\")\n",
      "WARNING : Ratio of span on fuselage depth outside of the range in Roskam's book, value clipped\n",
      "WARNING : Area ratio value outside of the range in Roskam's book, value clipped\n"
     ]
    },
    {
     "name": "stdout",
     "output_type": "stream",
     "text": [
      "NL: NLBGS 18 ; 8.04931433 0.0113589193\n"
     ]
    },
    {
     "name": "stderr",
     "output_type": "stream",
     "text": [
      "WARNING : Chord ratio value outside of the range in Roskam's book, value clipped\n",
      "WARNING : Chord ratio value outside of the range in Roskam's book, value clipped\n",
      "WARNING : Chord ratio value outside of the range in Roskam's book, value clipped\n",
      "WARNING : Chord ratio value outside of the range in Roskam's book, value clipped\n",
      "WARNING : Ratio of span on fuselage depth outside of the range in Roskam's book, value clipped\n",
      "WARNING : Area ratio value outside of the range in Roskam's book, value clipped\n",
      "INFO    : Entering mission computation\n",
      "INFO    : Entering mission computation\n",
      "INFO    : Entering mission computation\n",
      "WARNING : Looping on wing area with new value equal to [16.15310532]\n",
      "D:\\fl.lutz\\FAST\\FAST-OAD\\FAST-GA\\src\\fastga\\models\\geometry\\geom_components\\nacelle\\compute_nacelle.py:96: UserWarning: Engine count and engine position do not match, change value in the xml\n",
      "  warnings.warn(\"Engine count and engine position do not match, change value in the xml\")\n",
      "WARNING : Ratio of span on fuselage depth outside of the range in Roskam's book, value clipped\n",
      "WARNING : Area ratio value outside of the range in Roskam's book, value clipped\n"
     ]
    },
    {
     "name": "stdout",
     "output_type": "stream",
     "text": [
      "NL: NLBGS 19 ; 6.12228962 0.00863956737\n"
     ]
    },
    {
     "name": "stderr",
     "output_type": "stream",
     "text": [
      "WARNING : Chord ratio value outside of the range in Roskam's book, value clipped\n",
      "WARNING : Chord ratio value outside of the range in Roskam's book, value clipped\n",
      "WARNING : Chord ratio value outside of the range in Roskam's book, value clipped\n",
      "WARNING : Chord ratio value outside of the range in Roskam's book, value clipped\n",
      "WARNING : Ratio of span on fuselage depth outside of the range in Roskam's book, value clipped\n",
      "WARNING : Area ratio value outside of the range in Roskam's book, value clipped\n",
      "INFO    : Entering mission computation\n",
      "INFO    : Entering mission computation\n",
      "INFO    : Entering mission computation\n",
      "WARNING : Looping on wing area with new value equal to [16.15310291]\n",
      "D:\\fl.lutz\\FAST\\FAST-OAD\\FAST-GA\\src\\fastga\\models\\geometry\\geom_components\\nacelle\\compute_nacelle.py:96: UserWarning: Engine count and engine position do not match, change value in the xml\n",
      "  warnings.warn(\"Engine count and engine position do not match, change value in the xml\")\n",
      "WARNING : Ratio of span on fuselage depth outside of the range in Roskam's book, value clipped\n",
      "WARNING : Area ratio value outside of the range in Roskam's book, value clipped\n"
     ]
    },
    {
     "name": "stdout",
     "output_type": "stream",
     "text": [
      "NL: NLBGS 20 ; 4.12246738 0.00581748609\n"
     ]
    },
    {
     "name": "stderr",
     "output_type": "stream",
     "text": [
      "WARNING : Chord ratio value outside of the range in Roskam's book, value clipped\n",
      "WARNING : Chord ratio value outside of the range in Roskam's book, value clipped\n",
      "WARNING : Chord ratio value outside of the range in Roskam's book, value clipped\n",
      "WARNING : Chord ratio value outside of the range in Roskam's book, value clipped\n",
      "WARNING : Ratio of span on fuselage depth outside of the range in Roskam's book, value clipped\n",
      "WARNING : Area ratio value outside of the range in Roskam's book, value clipped\n",
      "INFO    : Entering mission computation\n",
      "INFO    : Entering mission computation\n",
      "INFO    : Entering mission computation\n",
      "WARNING : Looping on wing area with new value equal to [16.15310114]\n",
      "D:\\fl.lutz\\FAST\\FAST-OAD\\FAST-GA\\src\\fastga\\models\\geometry\\geom_components\\nacelle\\compute_nacelle.py:96: UserWarning: Engine count and engine position do not match, change value in the xml\n",
      "  warnings.warn(\"Engine count and engine position do not match, change value in the xml\")\n",
      "WARNING : Ratio of span on fuselage depth outside of the range in Roskam's book, value clipped\n",
      "WARNING : Area ratio value outside of the range in Roskam's book, value clipped\n"
     ]
    },
    {
     "name": "stdout",
     "output_type": "stream",
     "text": [
      "NL: NLBGS 21 ; 2.89028758 0.00407867576\n"
     ]
    },
    {
     "name": "stderr",
     "output_type": "stream",
     "text": [
      "WARNING : Chord ratio value outside of the range in Roskam's book, value clipped\n",
      "WARNING : Chord ratio value outside of the range in Roskam's book, value clipped\n",
      "WARNING : Chord ratio value outside of the range in Roskam's book, value clipped\n",
      "WARNING : Chord ratio value outside of the range in Roskam's book, value clipped\n",
      "WARNING : Ratio of span on fuselage depth outside of the range in Roskam's book, value clipped\n",
      "WARNING : Area ratio value outside of the range in Roskam's book, value clipped\n",
      "INFO    : Entering mission computation\n",
      "INFO    : Entering mission computation\n",
      "INFO    : Entering mission computation\n",
      "WARNING : Looping on wing area with new value equal to [16.15309969]\n",
      "D:\\fl.lutz\\FAST\\FAST-OAD\\FAST-GA\\src\\fastga\\models\\geometry\\geom_components\\nacelle\\compute_nacelle.py:96: UserWarning: Engine count and engine position do not match, change value in the xml\n",
      "  warnings.warn(\"Engine count and engine position do not match, change value in the xml\")\n",
      "WARNING : Ratio of span on fuselage depth outside of the range in Roskam's book, value clipped\n",
      "WARNING : Area ratio value outside of the range in Roskam's book, value clipped\n"
     ]
    },
    {
     "name": "stdout",
     "output_type": "stream",
     "text": [
      "NL: NLBGS 22 ; 1.87651811 0.00264807869\n"
     ]
    },
    {
     "name": "stderr",
     "output_type": "stream",
     "text": [
      "WARNING : Chord ratio value outside of the range in Roskam's book, value clipped\n",
      "WARNING : Chord ratio value outside of the range in Roskam's book, value clipped\n",
      "WARNING : Chord ratio value outside of the range in Roskam's book, value clipped\n",
      "WARNING : Chord ratio value outside of the range in Roskam's book, value clipped\n",
      "WARNING : Ratio of span on fuselage depth outside of the range in Roskam's book, value clipped\n",
      "WARNING : Area ratio value outside of the range in Roskam's book, value clipped\n",
      "INFO    : Entering mission computation\n",
      "INFO    : Entering mission computation\n",
      "INFO    : Entering mission computation\n",
      "WARNING : Looping on wing area with new value equal to [16.15309873]\n",
      "D:\\fl.lutz\\FAST\\FAST-OAD\\FAST-GA\\src\\fastga\\models\\geometry\\geom_components\\nacelle\\compute_nacelle.py:96: UserWarning: Engine count and engine position do not match, change value in the xml\n",
      "  warnings.warn(\"Engine count and engine position do not match, change value in the xml\")\n",
      "WARNING : Ratio of span on fuselage depth outside of the range in Roskam's book, value clipped\n",
      "WARNING : Area ratio value outside of the range in Roskam's book, value clipped\n"
     ]
    },
    {
     "name": "stdout",
     "output_type": "stream",
     "text": [
      "NL: NLBGS 23 ; 0.996738844 0.00140656404\n"
     ]
    },
    {
     "name": "stderr",
     "output_type": "stream",
     "text": [
      "WARNING : Chord ratio value outside of the range in Roskam's book, value clipped\n",
      "WARNING : Chord ratio value outside of the range in Roskam's book, value clipped\n",
      "WARNING : Chord ratio value outside of the range in Roskam's book, value clipped\n",
      "WARNING : Chord ratio value outside of the range in Roskam's book, value clipped\n",
      "WARNING : Ratio of span on fuselage depth outside of the range in Roskam's book, value clipped\n",
      "WARNING : Area ratio value outside of the range in Roskam's book, value clipped\n",
      "INFO    : Entering mission computation\n",
      "INFO    : Entering mission computation\n",
      "INFO    : Entering mission computation\n",
      "WARNING : Looping on wing area with new value equal to [16.15309814]\n"
     ]
    },
    {
     "name": "stdout",
     "output_type": "stream",
     "text": [
      "NL: NLBGS 24 ; 0.689630675 0.000973183409\n",
      "NL: NLBGS Converged\n"
     ]
    },
    {
     "name": "stderr",
     "output_type": "stream",
     "text": [
      "D:\\fl.lutz\\FAST\\FAST-OAD\\FAST-GA\\src\\fastga\\models\\geometry\\geom_components\\nacelle\\compute_nacelle.py:96: UserWarning: Engine count and engine position do not match, change value in the xml\n",
      "  warnings.warn(\"Engine count and engine position do not match, change value in the xml\")\n",
      "WARNING : Ratio of span on fuselage depth outside of the range in Roskam's book, value clipped\n",
      "WARNING : Area ratio value outside of the range in Roskam's book, value clipped\n",
      "WARNING : Chord ratio value outside of the range in Roskam's book, value clipped\n",
      "WARNING : Chord ratio value outside of the range in Roskam's book, value clipped\n",
      "WARNING : Chord ratio value outside of the range in Roskam's book, value clipped\n",
      "WARNING : Chord ratio value outside of the range in Roskam's book, value clipped\n",
      "WARNING : Ratio of span on fuselage depth outside of the range in Roskam's book, value clipped\n",
      "WARNING : Area ratio value outside of the range in Roskam's book, value clipped\n",
      "INFO    : Entering mission computation\n",
      "INFO    : Entering mission computation\n",
      "INFO    : Entering mission computation\n",
      "WARNING : Looping on wing area with new value equal to [16.15309778]\n",
      "D:\\fl.lutz\\FAST\\FAST-OAD\\FAST-GA\\src\\fastga\\models\\geometry\\geom_components\\nacelle\\compute_nacelle.py:96: UserWarning: Engine count and engine position do not match, change value in the xml\n",
      "  warnings.warn(\"Engine count and engine position do not match, change value in the xml\")\n",
      "WARNING : Ratio of span on fuselage depth outside of the range in Roskam's book, value clipped\n",
      "WARNING : Area ratio value outside of the range in Roskam's book, value clipped\n"
     ]
    },
    {
     "name": "stdout",
     "output_type": "stream",
     "text": [
      "NL: NLBGS 1 ; 338.561012 1\n"
     ]
    },
    {
     "name": "stderr",
     "output_type": "stream",
     "text": [
      "WARNING : Chord ratio value outside of the range in Roskam's book, value clipped\n",
      "WARNING : Chord ratio value outside of the range in Roskam's book, value clipped\n",
      "WARNING : Chord ratio value outside of the range in Roskam's book, value clipped\n",
      "WARNING : Chord ratio value outside of the range in Roskam's book, value clipped\n",
      "WARNING : Ratio of span on fuselage depth outside of the range in Roskam's book, value clipped\n",
      "WARNING : Area ratio value outside of the range in Roskam's book, value clipped\n",
      "INFO    : Entering mission computation\n",
      "INFO    : Entering mission computation\n",
      "INFO    : Entering mission computation\n",
      "WARNING : Looping on wing area with new value equal to [16.05174074]\n",
      "D:\\fl.lutz\\FAST\\FAST-OAD\\FAST-GA\\src\\fastga\\models\\geometry\\geom_components\\nacelle\\compute_nacelle.py:96: UserWarning: Engine count and engine position do not match, change value in the xml\n",
      "  warnings.warn(\"Engine count and engine position do not match, change value in the xml\")\n",
      "WARNING : Ratio of span on fuselage depth outside of the range in Roskam's book, value clipped\n",
      "WARNING : Area ratio value outside of the range in Roskam's book, value clipped\n"
     ]
    },
    {
     "name": "stdout",
     "output_type": "stream",
     "text": [
      "NL: NLBGS 2 ; 260769.444 770.228806\n"
     ]
    },
    {
     "name": "stderr",
     "output_type": "stream",
     "text": [
      "WARNING : Chord ratio value outside of the range in Roskam's book, value clipped\n",
      "WARNING : Chord ratio value outside of the range in Roskam's book, value clipped\n",
      "WARNING : Chord ratio value outside of the range in Roskam's book, value clipped\n",
      "WARNING : Chord ratio value outside of the range in Roskam's book, value clipped\n",
      "WARNING : Ratio of span on fuselage depth outside of the range in Roskam's book, value clipped\n",
      "WARNING : Area ratio value outside of the range in Roskam's book, value clipped\n",
      "INFO    : Entering mission computation\n",
      "INFO    : Entering mission computation\n",
      "INFO    : Entering mission computation\n",
      "WARNING : Looping on wing area with new value equal to [16.05054851]\n",
      "D:\\fl.lutz\\FAST\\FAST-OAD\\FAST-GA\\src\\fastga\\models\\geometry\\geom_components\\nacelle\\compute_nacelle.py:96: UserWarning: Engine count and engine position do not match, change value in the xml\n",
      "  warnings.warn(\"Engine count and engine position do not match, change value in the xml\")\n",
      "WARNING : Ratio of span on fuselage depth outside of the range in Roskam's book, value clipped\n",
      "WARNING : Area ratio value outside of the range in Roskam's book, value clipped\n"
     ]
    },
    {
     "name": "stdout",
     "output_type": "stream",
     "text": [
      "NL: NLBGS 3 ; 34458.3609 101.778881\n"
     ]
    },
    {
     "name": "stderr",
     "output_type": "stream",
     "text": [
      "WARNING : Chord ratio value outside of the range in Roskam's book, value clipped\n",
      "WARNING : Chord ratio value outside of the range in Roskam's book, value clipped\n",
      "WARNING : Chord ratio value outside of the range in Roskam's book, value clipped\n",
      "WARNING : Chord ratio value outside of the range in Roskam's book, value clipped\n",
      "WARNING : Ratio of span on fuselage depth outside of the range in Roskam's book, value clipped\n",
      "WARNING : Area ratio value outside of the range in Roskam's book, value clipped\n",
      "INFO    : Entering mission computation\n",
      "INFO    : Entering mission computation\n",
      "INFO    : Entering mission computation\n",
      "WARNING : Looping on wing area with new value equal to [16.03940343]\n",
      "D:\\fl.lutz\\FAST\\FAST-OAD\\FAST-GA\\src\\fastga\\models\\geometry\\geom_components\\nacelle\\compute_nacelle.py:96: UserWarning: Engine count and engine position do not match, change value in the xml\n",
      "  warnings.warn(\"Engine count and engine position do not match, change value in the xml\")\n",
      "WARNING : Ratio of span on fuselage depth outside of the range in Roskam's book, value clipped\n",
      "WARNING : Area ratio value outside of the range in Roskam's book, value clipped\n"
     ]
    },
    {
     "name": "stdout",
     "output_type": "stream",
     "text": [
      "NL: NLBGS 4 ; 60533.6178 178.796777\n"
     ]
    },
    {
     "name": "stderr",
     "output_type": "stream",
     "text": [
      "WARNING : Chord ratio value outside of the range in Roskam's book, value clipped\n",
      "WARNING : Chord ratio value outside of the range in Roskam's book, value clipped\n",
      "WARNING : Chord ratio value outside of the range in Roskam's book, value clipped\n",
      "WARNING : Chord ratio value outside of the range in Roskam's book, value clipped\n",
      "WARNING : Ratio of span on fuselage depth outside of the range in Roskam's book, value clipped\n",
      "WARNING : Area ratio value outside of the range in Roskam's book, value clipped\n",
      "INFO    : Entering mission computation\n",
      "INFO    : Entering mission computation\n",
      "INFO    : Entering mission computation\n",
      "WARNING : Looping on wing area with new value equal to [16.02539979]\n",
      "D:\\fl.lutz\\FAST\\FAST-OAD\\FAST-GA\\src\\fastga\\models\\geometry\\geom_components\\nacelle\\compute_nacelle.py:96: UserWarning: Engine count and engine position do not match, change value in the xml\n",
      "  warnings.warn(\"Engine count and engine position do not match, change value in the xml\")\n",
      "WARNING : Ratio of span on fuselage depth outside of the range in Roskam's book, value clipped\n",
      "WARNING : Area ratio value outside of the range in Roskam's book, value clipped\n"
     ]
    },
    {
     "name": "stdout",
     "output_type": "stream",
     "text": [
      "NL: NLBGS 5 ; 21139.8555 62.4403128\n"
     ]
    },
    {
     "name": "stderr",
     "output_type": "stream",
     "text": [
      "WARNING : Chord ratio value outside of the range in Roskam's book, value clipped\n",
      "WARNING : Chord ratio value outside of the range in Roskam's book, value clipped\n",
      "WARNING : Chord ratio value outside of the range in Roskam's book, value clipped\n",
      "WARNING : Chord ratio value outside of the range in Roskam's book, value clipped\n",
      "WARNING : Ratio of span on fuselage depth outside of the range in Roskam's book, value clipped\n",
      "WARNING : Area ratio value outside of the range in Roskam's book, value clipped\n",
      "INFO    : Entering mission computation\n",
      "INFO    : Entering mission computation\n",
      "INFO    : Entering mission computation\n",
      "WARNING : Looping on wing area with new value equal to [16.01465331]\n",
      "D:\\fl.lutz\\FAST\\FAST-OAD\\FAST-GA\\src\\fastga\\models\\geometry\\geom_components\\nacelle\\compute_nacelle.py:96: UserWarning: Engine count and engine position do not match, change value in the xml\n",
      "  warnings.warn(\"Engine count and engine position do not match, change value in the xml\")\n",
      "WARNING : Ratio of span on fuselage depth outside of the range in Roskam's book, value clipped\n",
      "WARNING : Area ratio value outside of the range in Roskam's book, value clipped\n"
     ]
    },
    {
     "name": "stdout",
     "output_type": "stream",
     "text": [
      "NL: NLBGS 6 ; 12008.0879 35.4680174\n"
     ]
    },
    {
     "name": "stderr",
     "output_type": "stream",
     "text": [
      "WARNING : Chord ratio value outside of the range in Roskam's book, value clipped\n",
      "WARNING : Chord ratio value outside of the range in Roskam's book, value clipped\n",
      "WARNING : Chord ratio value outside of the range in Roskam's book, value clipped\n",
      "WARNING : Chord ratio value outside of the range in Roskam's book, value clipped\n",
      "WARNING : Ratio of span on fuselage depth outside of the range in Roskam's book, value clipped\n",
      "WARNING : Area ratio value outside of the range in Roskam's book, value clipped\n",
      "INFO    : Entering mission computation\n",
      "INFO    : Entering mission computation\n",
      "INFO    : Entering mission computation\n",
      "WARNING : Looping on wing area with new value equal to [16.00806304]\n",
      "D:\\fl.lutz\\FAST\\FAST-OAD\\FAST-GA\\src\\fastga\\models\\geometry\\geom_components\\nacelle\\compute_nacelle.py:96: UserWarning: Engine count and engine position do not match, change value in the xml\n",
      "  warnings.warn(\"Engine count and engine position do not match, change value in the xml\")\n",
      "WARNING : Ratio of span on fuselage depth outside of the range in Roskam's book, value clipped\n",
      "WARNING : Area ratio value outside of the range in Roskam's book, value clipped\n"
     ]
    },
    {
     "name": "stdout",
     "output_type": "stream",
     "text": [
      "NL: NLBGS 7 ; 8268.67398 24.4229953\n"
     ]
    },
    {
     "name": "stderr",
     "output_type": "stream",
     "text": [
      "WARNING : Chord ratio value outside of the range in Roskam's book, value clipped\n",
      "WARNING : Chord ratio value outside of the range in Roskam's book, value clipped\n",
      "WARNING : Chord ratio value outside of the range in Roskam's book, value clipped\n",
      "WARNING : Chord ratio value outside of the range in Roskam's book, value clipped\n",
      "WARNING : Ratio of span on fuselage depth outside of the range in Roskam's book, value clipped\n",
      "WARNING : Area ratio value outside of the range in Roskam's book, value clipped\n",
      "INFO    : Entering mission computation\n",
      "INFO    : Entering mission computation\n",
      "INFO    : Entering mission computation\n",
      "WARNING : Looping on wing area with new value equal to [16.00127178]\n",
      "D:\\fl.lutz\\FAST\\FAST-OAD\\FAST-GA\\src\\fastga\\models\\geometry\\geom_components\\nacelle\\compute_nacelle.py:96: UserWarning: Engine count and engine position do not match, change value in the xml\n",
      "  warnings.warn(\"Engine count and engine position do not match, change value in the xml\")\n",
      "WARNING : Ratio of span on fuselage depth outside of the range in Roskam's book, value clipped\n",
      "WARNING : Area ratio value outside of the range in Roskam's book, value clipped\n"
     ]
    },
    {
     "name": "stdout",
     "output_type": "stream",
     "text": [
      "NL: NLBGS 8 ; 5124.18504 15.1351894\n"
     ]
    },
    {
     "name": "stderr",
     "output_type": "stream",
     "text": [
      "WARNING : Chord ratio value outside of the range in Roskam's book, value clipped\n",
      "WARNING : Chord ratio value outside of the range in Roskam's book, value clipped\n",
      "WARNING : Chord ratio value outside of the range in Roskam's book, value clipped\n",
      "WARNING : Chord ratio value outside of the range in Roskam's book, value clipped\n",
      "WARNING : Ratio of span on fuselage depth outside of the range in Roskam's book, value clipped\n",
      "WARNING : Area ratio value outside of the range in Roskam's book, value clipped\n",
      "INFO    : Entering mission computation\n",
      "INFO    : Entering mission computation\n",
      "INFO    : Entering mission computation\n",
      "WARNING : Looping on wing area with new value equal to [15.9974238]\n",
      "D:\\fl.lutz\\FAST\\FAST-OAD\\FAST-GA\\src\\fastga\\models\\geometry\\geom_components\\nacelle\\compute_nacelle.py:96: UserWarning: Engine count and engine position do not match, change value in the xml\n",
      "  warnings.warn(\"Engine count and engine position do not match, change value in the xml\")\n",
      "WARNING : Ratio of span on fuselage depth outside of the range in Roskam's book, value clipped\n",
      "WARNING : Area ratio value outside of the range in Roskam's book, value clipped\n"
     ]
    },
    {
     "name": "stdout",
     "output_type": "stream",
     "text": [
      "NL: NLBGS 9 ; 3259.145 9.62646286\n"
     ]
    },
    {
     "name": "stderr",
     "output_type": "stream",
     "text": [
      "WARNING : Chord ratio value outside of the range in Roskam's book, value clipped\n",
      "WARNING : Chord ratio value outside of the range in Roskam's book, value clipped\n",
      "WARNING : Chord ratio value outside of the range in Roskam's book, value clipped\n",
      "WARNING : Chord ratio value outside of the range in Roskam's book, value clipped\n",
      "WARNING : Ratio of span on fuselage depth outside of the range in Roskam's book, value clipped\n",
      "WARNING : Area ratio value outside of the range in Roskam's book, value clipped\n",
      "INFO    : Entering mission computation\n",
      "INFO    : Entering mission computation\n",
      "INFO    : Entering mission computation\n",
      "WARNING : Looping on wing area with new value equal to [15.99533875]\n",
      "D:\\fl.lutz\\FAST\\FAST-OAD\\FAST-GA\\src\\fastga\\models\\geometry\\geom_components\\nacelle\\compute_nacelle.py:96: UserWarning: Engine count and engine position do not match, change value in the xml\n",
      "  warnings.warn(\"Engine count and engine position do not match, change value in the xml\")\n",
      "WARNING : Ratio of span on fuselage depth outside of the range in Roskam's book, value clipped\n"
     ]
    },
    {
     "name": "stdout",
     "output_type": "stream",
     "text": [
      "NL: NLBGS 10 ; 2414.76455 7.13243542\n"
     ]
    },
    {
     "name": "stderr",
     "output_type": "stream",
     "text": [
      "WARNING : Area ratio value outside of the range in Roskam's book, value clipped\n",
      "WARNING : Chord ratio value outside of the range in Roskam's book, value clipped\n",
      "WARNING : Chord ratio value outside of the range in Roskam's book, value clipped\n",
      "WARNING : Chord ratio value outside of the range in Roskam's book, value clipped\n",
      "WARNING : Chord ratio value outside of the range in Roskam's book, value clipped\n",
      "WARNING : Ratio of span on fuselage depth outside of the range in Roskam's book, value clipped\n",
      "WARNING : Area ratio value outside of the range in Roskam's book, value clipped\n",
      "INFO    : Entering mission computation\n",
      "INFO    : Entering mission computation\n",
      "INFO    : Entering mission computation\n",
      "WARNING : Looping on wing area with new value equal to [15.99485966]\n",
      "D:\\fl.lutz\\FAST\\FAST-OAD\\FAST-GA\\src\\fastga\\models\\geometry\\geom_components\\nacelle\\compute_nacelle.py:96: UserWarning: Engine count and engine position do not match, change value in the xml\n",
      "  warnings.warn(\"Engine count and engine position do not match, change value in the xml\")\n",
      "WARNING : Ratio of span on fuselage depth outside of the range in Roskam's book, value clipped\n",
      "WARNING : Area ratio value outside of the range in Roskam's book, value clipped\n"
     ]
    },
    {
     "name": "stdout",
     "output_type": "stream",
     "text": [
      "NL: NLBGS 11 ; 1311.96266 3.87511443\n"
     ]
    },
    {
     "name": "stderr",
     "output_type": "stream",
     "text": [
      "WARNING : Chord ratio value outside of the range in Roskam's book, value clipped\n",
      "WARNING : Chord ratio value outside of the range in Roskam's book, value clipped\n",
      "WARNING : Chord ratio value outside of the range in Roskam's book, value clipped\n",
      "WARNING : Chord ratio value outside of the range in Roskam's book, value clipped\n",
      "WARNING : Ratio of span on fuselage depth outside of the range in Roskam's book, value clipped\n",
      "WARNING : Area ratio value outside of the range in Roskam's book, value clipped\n",
      "INFO    : Entering mission computation\n",
      "INFO    : Entering mission computation\n",
      "INFO    : Entering mission computation\n",
      "WARNING : Looping on wing area with new value equal to [15.99435064]\n",
      "D:\\fl.lutz\\FAST\\FAST-OAD\\FAST-GA\\src\\fastga\\models\\geometry\\geom_components\\nacelle\\compute_nacelle.py:96: UserWarning: Engine count and engine position do not match, change value in the xml\n",
      "  warnings.warn(\"Engine count and engine position do not match, change value in the xml\")\n",
      "WARNING : Ratio of span on fuselage depth outside of the range in Roskam's book, value clipped\n",
      "WARNING : Area ratio value outside of the range in Roskam's book, value clipped\n"
     ]
    },
    {
     "name": "stdout",
     "output_type": "stream",
     "text": [
      "NL: NLBGS 12 ; 562.397639 1.66114118\n"
     ]
    },
    {
     "name": "stderr",
     "output_type": "stream",
     "text": [
      "WARNING : Chord ratio value outside of the range in Roskam's book, value clipped\n",
      "WARNING : Chord ratio value outside of the range in Roskam's book, value clipped\n",
      "WARNING : Chord ratio value outside of the range in Roskam's book, value clipped\n",
      "WARNING : Chord ratio value outside of the range in Roskam's book, value clipped\n",
      "WARNING : Ratio of span on fuselage depth outside of the range in Roskam's book, value clipped\n",
      "WARNING : Area ratio value outside of the range in Roskam's book, value clipped\n",
      "INFO    : Entering mission computation\n",
      "INFO    : Entering mission computation\n",
      "INFO    : Entering mission computation\n",
      "WARNING : Looping on wing area with new value equal to [15.99408487]\n",
      "D:\\fl.lutz\\FAST\\FAST-OAD\\FAST-GA\\src\\fastga\\models\\geometry\\geom_components\\nacelle\\compute_nacelle.py:96: UserWarning: Engine count and engine position do not match, change value in the xml\n",
      "  warnings.warn(\"Engine count and engine position do not match, change value in the xml\")\n",
      "WARNING : Ratio of span on fuselage depth outside of the range in Roskam's book, value clipped\n",
      "WARNING : Area ratio value outside of the range in Roskam's book, value clipped\n"
     ]
    },
    {
     "name": "stdout",
     "output_type": "stream",
     "text": [
      "NL: NLBGS 13 ; 171.011789 0.505113651\n"
     ]
    },
    {
     "name": "stderr",
     "output_type": "stream",
     "text": [
      "WARNING : Chord ratio value outside of the range in Roskam's book, value clipped\n",
      "WARNING : Chord ratio value outside of the range in Roskam's book, value clipped\n",
      "WARNING : Chord ratio value outside of the range in Roskam's book, value clipped\n",
      "WARNING : Chord ratio value outside of the range in Roskam's book, value clipped\n",
      "WARNING : Ratio of span on fuselage depth outside of the range in Roskam's book, value clipped\n",
      "WARNING : Area ratio value outside of the range in Roskam's book, value clipped\n",
      "INFO    : Entering mission computation\n",
      "INFO    : Entering mission computation\n",
      "INFO    : Entering mission computation\n",
      "WARNING : Looping on wing area with new value equal to [15.99396961]\n",
      "D:\\fl.lutz\\FAST\\FAST-OAD\\FAST-GA\\src\\fastga\\models\\geometry\\geom_components\\nacelle\\compute_nacelle.py:96: UserWarning: Engine count and engine position do not match, change value in the xml\n",
      "  warnings.warn(\"Engine count and engine position do not match, change value in the xml\")\n",
      "WARNING : Ratio of span on fuselage depth outside of the range in Roskam's book, value clipped\n",
      "WARNING : Area ratio value outside of the range in Roskam's book, value clipped\n"
     ]
    },
    {
     "name": "stdout",
     "output_type": "stream",
     "text": [
      "NL: NLBGS 14 ; 104.138815 0.307592462\n"
     ]
    },
    {
     "name": "stderr",
     "output_type": "stream",
     "text": [
      "WARNING : Chord ratio value outside of the range in Roskam's book, value clipped\n",
      "WARNING : Chord ratio value outside of the range in Roskam's book, value clipped\n",
      "WARNING : Chord ratio value outside of the range in Roskam's book, value clipped\n",
      "WARNING : Chord ratio value outside of the range in Roskam's book, value clipped\n",
      "WARNING : Ratio of span on fuselage depth outside of the range in Roskam's book, value clipped\n",
      "WARNING : Area ratio value outside of the range in Roskam's book, value clipped\n",
      "INFO    : Entering mission computation\n",
      "INFO    : Entering mission computation\n",
      "INFO    : Entering mission computation\n",
      "WARNING : Looping on wing area with new value equal to [15.99392092]\n",
      "D:\\fl.lutz\\FAST\\FAST-OAD\\FAST-GA\\src\\fastga\\models\\geometry\\geom_components\\nacelle\\compute_nacelle.py:96: UserWarning: Engine count and engine position do not match, change value in the xml\n",
      "  warnings.warn(\"Engine count and engine position do not match, change value in the xml\")\n",
      "WARNING : Ratio of span on fuselage depth outside of the range in Roskam's book, value clipped\n",
      "WARNING : Area ratio value outside of the range in Roskam's book, value clipped\n"
     ]
    },
    {
     "name": "stdout",
     "output_type": "stream",
     "text": [
      "NL: NLBGS 15 ; 47.9375112 0.141591942\n"
     ]
    },
    {
     "name": "stderr",
     "output_type": "stream",
     "text": [
      "WARNING : Chord ratio value outside of the range in Roskam's book, value clipped\n",
      "WARNING : Chord ratio value outside of the range in Roskam's book, value clipped\n",
      "WARNING : Chord ratio value outside of the range in Roskam's book, value clipped\n",
      "WARNING : Chord ratio value outside of the range in Roskam's book, value clipped\n",
      "WARNING : Ratio of span on fuselage depth outside of the range in Roskam's book, value clipped\n",
      "WARNING : Area ratio value outside of the range in Roskam's book, value clipped\n",
      "INFO    : Entering mission computation\n",
      "INFO    : Entering mission computation\n",
      "INFO    : Entering mission computation\n",
      "WARNING : Looping on wing area with new value equal to [15.99390111]\n",
      "D:\\fl.lutz\\FAST\\FAST-OAD\\FAST-GA\\src\\fastga\\models\\geometry\\geom_components\\nacelle\\compute_nacelle.py:96: UserWarning: Engine count and engine position do not match, change value in the xml\n",
      "  warnings.warn(\"Engine count and engine position do not match, change value in the xml\")\n"
     ]
    },
    {
     "name": "stdout",
     "output_type": "stream",
     "text": [
      "NL: NLBGS 16 ; 18.4461192 0.0544838848\n"
     ]
    },
    {
     "name": "stderr",
     "output_type": "stream",
     "text": [
      "WARNING : Ratio of span on fuselage depth outside of the range in Roskam's book, value clipped\n",
      "WARNING : Area ratio value outside of the range in Roskam's book, value clipped\n",
      "WARNING : Chord ratio value outside of the range in Roskam's book, value clipped\n",
      "WARNING : Chord ratio value outside of the range in Roskam's book, value clipped\n",
      "WARNING : Chord ratio value outside of the range in Roskam's book, value clipped\n",
      "WARNING : Chord ratio value outside of the range in Roskam's book, value clipped\n",
      "WARNING : Ratio of span on fuselage depth outside of the range in Roskam's book, value clipped\n",
      "WARNING : Area ratio value outside of the range in Roskam's book, value clipped\n",
      "INFO    : Entering mission computation\n",
      "INFO    : Entering mission computation\n",
      "INFO    : Entering mission computation\n",
      "WARNING : Looping on wing area with new value equal to [15.99389534]\n",
      "D:\\fl.lutz\\FAST\\FAST-OAD\\FAST-GA\\src\\fastga\\models\\geometry\\geom_components\\nacelle\\compute_nacelle.py:96: UserWarning: Engine count and engine position do not match, change value in the xml\n",
      "  warnings.warn(\"Engine count and engine position do not match, change value in the xml\")\n",
      "WARNING : Ratio of span on fuselage depth outside of the range in Roskam's book, value clipped\n",
      "WARNING : Area ratio value outside of the range in Roskam's book, value clipped\n"
     ]
    },
    {
     "name": "stdout",
     "output_type": "stream",
     "text": [
      "NL: NLBGS 17 ; 9.74277262 0.028777007\n"
     ]
    },
    {
     "name": "stderr",
     "output_type": "stream",
     "text": [
      "WARNING : Chord ratio value outside of the range in Roskam's book, value clipped\n",
      "WARNING : Chord ratio value outside of the range in Roskam's book, value clipped\n",
      "WARNING : Chord ratio value outside of the range in Roskam's book, value clipped\n",
      "WARNING : Chord ratio value outside of the range in Roskam's book, value clipped\n",
      "WARNING : Ratio of span on fuselage depth outside of the range in Roskam's book, value clipped\n",
      "WARNING : Area ratio value outside of the range in Roskam's book, value clipped\n",
      "INFO    : Entering mission computation\n",
      "INFO    : Entering mission computation\n",
      "INFO    : Entering mission computation\n",
      "WARNING : Looping on wing area with new value equal to [15.99389511]\n",
      "D:\\fl.lutz\\FAST\\FAST-OAD\\FAST-GA\\src\\fastga\\models\\geometry\\geom_components\\nacelle\\compute_nacelle.py:96: UserWarning: Engine count and engine position do not match, change value in the xml\n",
      "  warnings.warn(\"Engine count and engine position do not match, change value in the xml\")\n",
      "WARNING : Ratio of span on fuselage depth outside of the range in Roskam's book, value clipped\n",
      "WARNING : Area ratio value outside of the range in Roskam's book, value clipped\n"
     ]
    },
    {
     "name": "stdout",
     "output_type": "stream",
     "text": [
      "NL: NLBGS 18 ; 6.19845107 0.0183082247\n"
     ]
    },
    {
     "name": "stderr",
     "output_type": "stream",
     "text": [
      "WARNING : Chord ratio value outside of the range in Roskam's book, value clipped\n",
      "WARNING : Chord ratio value outside of the range in Roskam's book, value clipped\n",
      "WARNING : Chord ratio value outside of the range in Roskam's book, value clipped\n",
      "WARNING : Chord ratio value outside of the range in Roskam's book, value clipped\n",
      "WARNING : Ratio of span on fuselage depth outside of the range in Roskam's book, value clipped\n",
      "WARNING : Area ratio value outside of the range in Roskam's book, value clipped\n",
      "INFO    : Entering mission computation\n",
      "INFO    : Entering mission computation\n",
      "INFO    : Entering mission computation\n",
      "WARNING : Looping on wing area with new value equal to [15.99389678]\n",
      "D:\\fl.lutz\\FAST\\FAST-OAD\\FAST-GA\\src\\fastga\\models\\geometry\\geom_components\\nacelle\\compute_nacelle.py:96: UserWarning: Engine count and engine position do not match, change value in the xml\n",
      "  warnings.warn(\"Engine count and engine position do not match, change value in the xml\")\n",
      "WARNING : Ratio of span on fuselage depth outside of the range in Roskam's book, value clipped\n",
      "WARNING : Area ratio value outside of the range in Roskam's book, value clipped\n"
     ]
    },
    {
     "name": "stdout",
     "output_type": "stream",
     "text": [
      "NL: NLBGS 19 ; 4.76566946 0.0140762501\n"
     ]
    },
    {
     "name": "stderr",
     "output_type": "stream",
     "text": [
      "WARNING : Chord ratio value outside of the range in Roskam's book, value clipped\n",
      "WARNING : Chord ratio value outside of the range in Roskam's book, value clipped\n",
      "WARNING : Chord ratio value outside of the range in Roskam's book, value clipped\n",
      "WARNING : Chord ratio value outside of the range in Roskam's book, value clipped\n",
      "WARNING : Ratio of span on fuselage depth outside of the range in Roskam's book, value clipped\n",
      "WARNING : Area ratio value outside of the range in Roskam's book, value clipped\n",
      "INFO    : Entering mission computation\n",
      "INFO    : Entering mission computation\n",
      "INFO    : Entering mission computation\n",
      "WARNING : Looping on wing area with new value equal to [15.99389868]\n",
      "D:\\fl.lutz\\FAST\\FAST-OAD\\FAST-GA\\src\\fastga\\models\\geometry\\geom_components\\nacelle\\compute_nacelle.py:96: UserWarning: Engine count and engine position do not match, change value in the xml\n",
      "  warnings.warn(\"Engine count and engine position do not match, change value in the xml\")\n",
      "WARNING : Ratio of span on fuselage depth outside of the range in Roskam's book, value clipped\n",
      "WARNING : Area ratio value outside of the range in Roskam's book, value clipped\n"
     ]
    },
    {
     "name": "stdout",
     "output_type": "stream",
     "text": [
      "NL: NLBGS 20 ; 3.29607165 0.00973553226\n"
     ]
    },
    {
     "name": "stderr",
     "output_type": "stream",
     "text": [
      "WARNING : Chord ratio value outside of the range in Roskam's book, value clipped\n",
      "WARNING : Chord ratio value outside of the range in Roskam's book, value clipped\n",
      "WARNING : Chord ratio value outside of the range in Roskam's book, value clipped\n",
      "WARNING : Chord ratio value outside of the range in Roskam's book, value clipped\n",
      "WARNING : Ratio of span on fuselage depth outside of the range in Roskam's book, value clipped\n",
      "WARNING : Area ratio value outside of the range in Roskam's book, value clipped\n",
      "INFO    : Entering mission computation\n",
      "INFO    : Entering mission computation\n",
      "INFO    : Entering mission computation\n",
      "WARNING : Looping on wing area with new value equal to [15.99390025]\n",
      "D:\\fl.lutz\\FAST\\FAST-OAD\\FAST-GA\\src\\fastga\\models\\geometry\\geom_components\\nacelle\\compute_nacelle.py:96: UserWarning: Engine count and engine position do not match, change value in the xml\n",
      "  warnings.warn(\"Engine count and engine position do not match, change value in the xml\")\n",
      "WARNING : Ratio of span on fuselage depth outside of the range in Roskam's book, value clipped\n",
      "WARNING : Area ratio value outside of the range in Roskam's book, value clipped\n"
     ]
    },
    {
     "name": "stdout",
     "output_type": "stream",
     "text": [
      "NL: NLBGS 21 ; 2.27992135 0.0067341521\n"
     ]
    },
    {
     "name": "stderr",
     "output_type": "stream",
     "text": [
      "WARNING : Chord ratio value outside of the range in Roskam's book, value clipped\n",
      "WARNING : Chord ratio value outside of the range in Roskam's book, value clipped\n",
      "WARNING : Chord ratio value outside of the range in Roskam's book, value clipped\n",
      "WARNING : Chord ratio value outside of the range in Roskam's book, value clipped\n",
      "WARNING : Ratio of span on fuselage depth outside of the range in Roskam's book, value clipped\n",
      "WARNING : Area ratio value outside of the range in Roskam's book, value clipped\n",
      "INFO    : Entering mission computation\n",
      "INFO    : Entering mission computation\n",
      "INFO    : Entering mission computation\n",
      "WARNING : Looping on wing area with new value equal to [15.99390138]\n",
      "D:\\fl.lutz\\FAST\\FAST-OAD\\FAST-GA\\src\\fastga\\models\\geometry\\geom_components\\nacelle\\compute_nacelle.py:96: UserWarning: Engine count and engine position do not match, change value in the xml\n",
      "  warnings.warn(\"Engine count and engine position do not match, change value in the xml\")\n",
      "WARNING : Ratio of span on fuselage depth outside of the range in Roskam's book, value clipped\n",
      "WARNING : Area ratio value outside of the range in Roskam's book, value clipped\n"
     ]
    },
    {
     "name": "stdout",
     "output_type": "stream",
     "text": [
      "NL: NLBGS 22 ; 1.41982549 0.00419370642\n"
     ]
    },
    {
     "name": "stderr",
     "output_type": "stream",
     "text": [
      "WARNING : Chord ratio value outside of the range in Roskam's book, value clipped\n",
      "WARNING : Chord ratio value outside of the range in Roskam's book, value clipped\n",
      "WARNING : Chord ratio value outside of the range in Roskam's book, value clipped\n",
      "WARNING : Chord ratio value outside of the range in Roskam's book, value clipped\n",
      "WARNING : Ratio of span on fuselage depth outside of the range in Roskam's book, value clipped\n",
      "WARNING : Area ratio value outside of the range in Roskam's book, value clipped\n",
      "INFO    : Entering mission computation\n",
      "INFO    : Entering mission computation\n",
      "INFO    : Entering mission computation\n",
      "WARNING : Looping on wing area with new value equal to [15.99390214]\n",
      "D:\\fl.lutz\\FAST\\FAST-OAD\\FAST-GA\\src\\fastga\\models\\geometry\\geom_components\\nacelle\\compute_nacelle.py:96: UserWarning: Engine count and engine position do not match, change value in the xml\n",
      "  warnings.warn(\"Engine count and engine position do not match, change value in the xml\")\n",
      "WARNING : Ratio of span on fuselage depth outside of the range in Roskam's book, value clipped\n",
      "WARNING : Area ratio value outside of the range in Roskam's book, value clipped\n"
     ]
    },
    {
     "name": "stdout",
     "output_type": "stream",
     "text": [
      "NL: NLBGS 23 ; 0.963892849 0.0028470285\n"
     ]
    },
    {
     "name": "stderr",
     "output_type": "stream",
     "text": [
      "WARNING : Chord ratio value outside of the range in Roskam's book, value clipped\n",
      "WARNING : Chord ratio value outside of the range in Roskam's book, value clipped\n",
      "WARNING : Chord ratio value outside of the range in Roskam's book, value clipped\n",
      "WARNING : Chord ratio value outside of the range in Roskam's book, value clipped\n",
      "WARNING : Ratio of span on fuselage depth outside of the range in Roskam's book, value clipped\n",
      "WARNING : Area ratio value outside of the range in Roskam's book, value clipped\n",
      "INFO    : Entering mission computation\n",
      "INFO    : Entering mission computation\n",
      "INFO    : Entering mission computation\n",
      "WARNING : Looping on wing area with new value equal to [15.99390262]\n",
      "D:\\fl.lutz\\FAST\\FAST-OAD\\FAST-GA\\src\\fastga\\models\\geometry\\geom_components\\nacelle\\compute_nacelle.py:96: UserWarning: Engine count and engine position do not match, change value in the xml\n",
      "  warnings.warn(\"Engine count and engine position do not match, change value in the xml\")\n",
      "WARNING : Ratio of span on fuselage depth outside of the range in Roskam's book, value clipped\n",
      "WARNING : Area ratio value outside of the range in Roskam's book, value clipped\n"
     ]
    },
    {
     "name": "stdout",
     "output_type": "stream",
     "text": [
      "NL: NLBGS 24 ; 0.442074231 0.00130574465\n"
     ]
    },
    {
     "name": "stderr",
     "output_type": "stream",
     "text": [
      "WARNING : Chord ratio value outside of the range in Roskam's book, value clipped\n",
      "WARNING : Chord ratio value outside of the range in Roskam's book, value clipped\n",
      "WARNING : Chord ratio value outside of the range in Roskam's book, value clipped\n",
      "WARNING : Chord ratio value outside of the range in Roskam's book, value clipped\n",
      "WARNING : Ratio of span on fuselage depth outside of the range in Roskam's book, value clipped\n",
      "WARNING : Area ratio value outside of the range in Roskam's book, value clipped\n",
      "INFO    : Entering mission computation\n",
      "INFO    : Entering mission computation\n",
      "INFO    : Entering mission computation\n",
      "WARNING : Looping on wing area with new value equal to [15.9939029]\n"
     ]
    },
    {
     "name": "stdout",
     "output_type": "stream",
     "text": [
      "NL: NLBGS 25 ; 0.325159464 0.000960416153\n",
      "NL: NLBGS Converged\n"
     ]
    },
    {
     "name": "stderr",
     "output_type": "stream",
     "text": [
      "D:\\fl.lutz\\FAST\\FAST-OAD\\FAST-GA\\src\\fastga\\models\\geometry\\geom_components\\nacelle\\compute_nacelle.py:96: UserWarning: Engine count and engine position do not match, change value in the xml\n",
      "  warnings.warn(\"Engine count and engine position do not match, change value in the xml\")\n",
      "WARNING : Ratio of span on fuselage depth outside of the range in Roskam's book, value clipped\n",
      "WARNING : Area ratio value outside of the range in Roskam's book, value clipped\n",
      "WARNING : Chord ratio value outside of the range in Roskam's book, value clipped\n",
      "WARNING : Chord ratio value outside of the range in Roskam's book, value clipped\n",
      "WARNING : Chord ratio value outside of the range in Roskam's book, value clipped\n",
      "WARNING : Chord ratio value outside of the range in Roskam's book, value clipped\n",
      "WARNING : Ratio of span on fuselage depth outside of the range in Roskam's book, value clipped\n",
      "WARNING : Area ratio value outside of the range in Roskam's book, value clipped\n",
      "INFO    : Entering mission computation\n",
      "INFO    : Entering mission computation\n",
      "INFO    : Entering mission computation\n",
      "WARNING : Looping on wing area with new value equal to [15.99390307]\n",
      "D:\\fl.lutz\\FAST\\FAST-OAD\\FAST-GA\\src\\fastga\\models\\geometry\\geom_components\\nacelle\\compute_nacelle.py:96: UserWarning: Engine count and engine position do not match, change value in the xml\n",
      "  warnings.warn(\"Engine count and engine position do not match, change value in the xml\")\n",
      "WARNING : Ratio of span on fuselage depth outside of the range in Roskam's book, value clipped\n",
      "WARNING : Area ratio value outside of the range in Roskam's book, value clipped\n"
     ]
    },
    {
     "name": "stdout",
     "output_type": "stream",
     "text": [
      "NL: NLBGS 1 ; 340.06422 1\n"
     ]
    },
    {
     "name": "stderr",
     "output_type": "stream",
     "text": [
      "WARNING : Chord ratio value outside of the range in Roskam's book, value clipped\n",
      "WARNING : Chord ratio value outside of the range in Roskam's book, value clipped\n",
      "WARNING : Chord ratio value outside of the range in Roskam's book, value clipped\n",
      "WARNING : Chord ratio value outside of the range in Roskam's book, value clipped\n",
      "WARNING : Ratio of span on fuselage depth outside of the range in Roskam's book, value clipped\n",
      "WARNING : Area ratio value outside of the range in Roskam's book, value clipped\n",
      "INFO    : Entering mission computation\n",
      "INFO    : Entering mission computation\n",
      "INFO    : Entering mission computation\n",
      "WARNING : Looping on wing area with new value equal to [16.09473442]\n",
      "D:\\fl.lutz\\FAST\\FAST-OAD\\FAST-GA\\src\\fastga\\models\\geometry\\geom_components\\nacelle\\compute_nacelle.py:96: UserWarning: Engine count and engine position do not match, change value in the xml\n",
      "  warnings.warn(\"Engine count and engine position do not match, change value in the xml\")\n",
      "WARNING : Ratio of span on fuselage depth outside of the range in Roskam's book, value clipped\n",
      "WARNING : Area ratio value outside of the range in Roskam's book, value clipped\n"
     ]
    },
    {
     "name": "stdout",
     "output_type": "stream",
     "text": [
      "NL: NLBGS 2 ; 258214.82 759.31193\n"
     ]
    },
    {
     "name": "stderr",
     "output_type": "stream",
     "text": [
      "WARNING : Chord ratio value outside of the range in Roskam's book, value clipped\n",
      "WARNING : Chord ratio value outside of the range in Roskam's book, value clipped\n",
      "WARNING : Chord ratio value outside of the range in Roskam's book, value clipped\n",
      "WARNING : Chord ratio value outside of the range in Roskam's book, value clipped\n",
      "WARNING : Ratio of span on fuselage depth outside of the range in Roskam's book, value clipped\n",
      "WARNING : Area ratio value outside of the range in Roskam's book, value clipped\n",
      "INFO    : Entering mission computation\n",
      "INFO    : Entering mission computation\n",
      "INFO    : Entering mission computation\n",
      "WARNING : Looping on wing area with new value equal to [16.09676733]\n",
      "D:\\fl.lutz\\FAST\\FAST-OAD\\FAST-GA\\src\\fastga\\models\\geometry\\geom_components\\nacelle\\compute_nacelle.py:96: UserWarning: Engine count and engine position do not match, change value in the xml\n",
      "  warnings.warn(\"Engine count and engine position do not match, change value in the xml\")\n",
      "WARNING : Ratio of span on fuselage depth outside of the range in Roskam's book, value clipped\n",
      "WARNING : Area ratio value outside of the range in Roskam's book, value clipped\n"
     ]
    },
    {
     "name": "stdout",
     "output_type": "stream",
     "text": [
      "NL: NLBGS 3 ; 34829.2564 102.419644\n"
     ]
    },
    {
     "name": "stderr",
     "output_type": "stream",
     "text": [
      "WARNING : Chord ratio value outside of the range in Roskam's book, value clipped\n",
      "WARNING : Chord ratio value outside of the range in Roskam's book, value clipped\n",
      "WARNING : Chord ratio value outside of the range in Roskam's book, value clipped\n",
      "WARNING : Chord ratio value outside of the range in Roskam's book, value clipped\n",
      "WARNING : Ratio of span on fuselage depth outside of the range in Roskam's book, value clipped\n",
      "WARNING : Area ratio value outside of the range in Roskam's book, value clipped\n",
      "INFO    : Entering mission computation\n",
      "INFO    : Entering mission computation\n",
      "INFO    : Entering mission computation\n",
      "WARNING : Looping on wing area with new value equal to [16.1090058]\n",
      "D:\\fl.lutz\\FAST\\FAST-OAD\\FAST-GA\\src\\fastga\\models\\geometry\\geom_components\\nacelle\\compute_nacelle.py:96: UserWarning: Engine count and engine position do not match, change value in the xml\n",
      "  warnings.warn(\"Engine count and engine position do not match, change value in the xml\")\n",
      "WARNING : Ratio of span on fuselage depth outside of the range in Roskam's book, value clipped\n",
      "WARNING : Area ratio value outside of the range in Roskam's book, value clipped\n"
     ]
    },
    {
     "name": "stdout",
     "output_type": "stream",
     "text": [
      "NL: NLBGS 4 ; 59078.6454 173.727907\n"
     ]
    },
    {
     "name": "stderr",
     "output_type": "stream",
     "text": [
      "WARNING : Chord ratio value outside of the range in Roskam's book, value clipped\n",
      "WARNING : Chord ratio value outside of the range in Roskam's book, value clipped\n",
      "WARNING : Chord ratio value outside of the range in Roskam's book, value clipped\n",
      "WARNING : Chord ratio value outside of the range in Roskam's book, value clipped\n",
      "WARNING : Ratio of span on fuselage depth outside of the range in Roskam's book, value clipped\n",
      "WARNING : Area ratio value outside of the range in Roskam's book, value clipped\n",
      "INFO    : Entering mission computation\n",
      "INFO    : Entering mission computation\n",
      "INFO    : Entering mission computation\n",
      "WARNING : Looping on wing area with new value equal to [16.12325802]\n",
      "D:\\fl.lutz\\FAST\\FAST-OAD\\FAST-GA\\src\\fastga\\models\\geometry\\geom_components\\nacelle\\compute_nacelle.py:96: UserWarning: Engine count and engine position do not match, change value in the xml\n",
      "  warnings.warn(\"Engine count and engine position do not match, change value in the xml\")\n",
      "WARNING : Ratio of span on fuselage depth outside of the range in Roskam's book, value clipped\n",
      "WARNING : Area ratio value outside of the range in Roskam's book, value clipped\n"
     ]
    },
    {
     "name": "stdout",
     "output_type": "stream",
     "text": [
      "NL: NLBGS 5 ; 20613.7997 60.6173732\n"
     ]
    },
    {
     "name": "stderr",
     "output_type": "stream",
     "text": [
      "WARNING : Chord ratio value outside of the range in Roskam's book, value clipped\n",
      "WARNING : Chord ratio value outside of the range in Roskam's book, value clipped\n",
      "WARNING : Chord ratio value outside of the range in Roskam's book, value clipped\n",
      "WARNING : Chord ratio value outside of the range in Roskam's book, value clipped\n",
      "WARNING : Ratio of span on fuselage depth outside of the range in Roskam's book, value clipped\n",
      "WARNING : Area ratio value outside of the range in Roskam's book, value clipped\n",
      "INFO    : Entering mission computation\n",
      "INFO    : Entering mission computation\n",
      "INFO    : Entering mission computation\n",
      "WARNING : Looping on wing area with new value equal to [16.13594802]\n",
      "D:\\fl.lutz\\FAST\\FAST-OAD\\FAST-GA\\src\\fastga\\models\\geometry\\geom_components\\nacelle\\compute_nacelle.py:96: UserWarning: Engine count and engine position do not match, change value in the xml\n",
      "  warnings.warn(\"Engine count and engine position do not match, change value in the xml\")\n",
      "WARNING : Ratio of span on fuselage depth outside of the range in Roskam's book, value clipped\n",
      "WARNING : Area ratio value outside of the range in Roskam's book, value clipped\n"
     ]
    },
    {
     "name": "stdout",
     "output_type": "stream",
     "text": [
      "NL: NLBGS 6 ; 11662.0281 34.293605\n"
     ]
    },
    {
     "name": "stderr",
     "output_type": "stream",
     "text": [
      "WARNING : Chord ratio value outside of the range in Roskam's book, value clipped\n",
      "WARNING : Chord ratio value outside of the range in Roskam's book, value clipped\n",
      "WARNING : Chord ratio value outside of the range in Roskam's book, value clipped\n",
      "WARNING : Chord ratio value outside of the range in Roskam's book, value clipped\n",
      "WARNING : Ratio of span on fuselage depth outside of the range in Roskam's book, value clipped\n",
      "WARNING : Area ratio value outside of the range in Roskam's book, value clipped\n",
      "INFO    : Entering mission computation\n",
      "INFO    : Entering mission computation\n",
      "INFO    : Entering mission computation\n",
      "WARNING : Looping on wing area with new value equal to [16.14299649]\n",
      "D:\\fl.lutz\\FAST\\FAST-OAD\\FAST-GA\\src\\fastga\\models\\geometry\\geom_components\\nacelle\\compute_nacelle.py:96: UserWarning: Engine count and engine position do not match, change value in the xml\n",
      "  warnings.warn(\"Engine count and engine position do not match, change value in the xml\")\n",
      "WARNING : Ratio of span on fuselage depth outside of the range in Roskam's book, value clipped\n",
      "WARNING : Area ratio value outside of the range in Roskam's book, value clipped\n"
     ]
    },
    {
     "name": "stdout",
     "output_type": "stream",
     "text": [
      "NL: NLBGS 7 ; 8398.62038 24.6971598\n"
     ]
    },
    {
     "name": "stderr",
     "output_type": "stream",
     "text": [
      "WARNING : Chord ratio value outside of the range in Roskam's book, value clipped\n",
      "WARNING : Chord ratio value outside of the range in Roskam's book, value clipped\n",
      "WARNING : Chord ratio value outside of the range in Roskam's book, value clipped\n",
      "WARNING : Chord ratio value outside of the range in Roskam's book, value clipped\n",
      "WARNING : Ratio of span on fuselage depth outside of the range in Roskam's book, value clipped\n",
      "WARNING : Area ratio value outside of the range in Roskam's book, value clipped\n",
      "INFO    : Entering mission computation\n",
      "INFO    : Entering mission computation\n",
      "INFO    : Entering mission computation\n",
      "WARNING : Looping on wing area with new value equal to [16.14749482]\n",
      "D:\\fl.lutz\\FAST\\FAST-OAD\\FAST-GA\\src\\fastga\\models\\geometry\\geom_components\\nacelle\\compute_nacelle.py:96: UserWarning: Engine count and engine position do not match, change value in the xml\n",
      "  warnings.warn(\"Engine count and engine position do not match, change value in the xml\")\n",
      "WARNING : Ratio of span on fuselage depth outside of the range in Roskam's book, value clipped\n",
      "WARNING : Area ratio value outside of the range in Roskam's book, value clipped\n"
     ]
    },
    {
     "name": "stdout",
     "output_type": "stream",
     "text": [
      "NL: NLBGS 8 ; 5351.09629 15.7355463\n"
     ]
    },
    {
     "name": "stderr",
     "output_type": "stream",
     "text": [
      "WARNING : Chord ratio value outside of the range in Roskam's book, value clipped\n",
      "WARNING : Chord ratio value outside of the range in Roskam's book, value clipped\n",
      "WARNING : Chord ratio value outside of the range in Roskam's book, value clipped\n",
      "WARNING : Chord ratio value outside of the range in Roskam's book, value clipped\n",
      "WARNING : Ratio of span on fuselage depth outside of the range in Roskam's book, value clipped\n",
      "WARNING : Area ratio value outside of the range in Roskam's book, value clipped\n",
      "INFO    : Entering mission computation\n",
      "INFO    : Entering mission computation\n",
      "INFO    : Entering mission computation\n",
      "WARNING : Looping on wing area with new value equal to [16.1500525]\n",
      "D:\\fl.lutz\\FAST\\FAST-OAD\\FAST-GA\\src\\fastga\\models\\geometry\\geom_components\\nacelle\\compute_nacelle.py:96: UserWarning: Engine count and engine position do not match, change value in the xml\n",
      "  warnings.warn(\"Engine count and engine position do not match, change value in the xml\")\n",
      "WARNING : Ratio of span on fuselage depth outside of the range in Roskam's book, value clipped\n",
      "WARNING : Area ratio value outside of the range in Roskam's book, value clipped\n"
     ]
    },
    {
     "name": "stdout",
     "output_type": "stream",
     "text": [
      "NL: NLBGS 9 ; 2806.25793 8.25214109\n"
     ]
    },
    {
     "name": "stderr",
     "output_type": "stream",
     "text": [
      "WARNING : Chord ratio value outside of the range in Roskam's book, value clipped\n",
      "WARNING : Chord ratio value outside of the range in Roskam's book, value clipped\n",
      "WARNING : Chord ratio value outside of the range in Roskam's book, value clipped\n",
      "WARNING : Chord ratio value outside of the range in Roskam's book, value clipped\n",
      "WARNING : Ratio of span on fuselage depth outside of the range in Roskam's book, value clipped\n",
      "WARNING : Area ratio value outside of the range in Roskam's book, value clipped\n",
      "INFO    : Entering mission computation\n",
      "INFO    : Entering mission computation\n",
      "INFO    : Entering mission computation\n",
      "WARNING : Looping on wing area with new value equal to [16.15155285]\n",
      "D:\\fl.lutz\\FAST\\FAST-OAD\\FAST-GA\\src\\fastga\\models\\geometry\\geom_components\\nacelle\\compute_nacelle.py:96: UserWarning: Engine count and engine position do not match, change value in the xml\n",
      "  warnings.warn(\"Engine count and engine position do not match, change value in the xml\")\n",
      "WARNING : Ratio of span on fuselage depth outside of the range in Roskam's book, value clipped\n"
     ]
    },
    {
     "name": "stdout",
     "output_type": "stream",
     "text": [
      "NL: NLBGS 10 ; 1517.22838 4.4615937\n"
     ]
    },
    {
     "name": "stderr",
     "output_type": "stream",
     "text": [
      "WARNING : Area ratio value outside of the range in Roskam's book, value clipped\n",
      "WARNING : Chord ratio value outside of the range in Roskam's book, value clipped\n",
      "WARNING : Chord ratio value outside of the range in Roskam's book, value clipped\n",
      "WARNING : Chord ratio value outside of the range in Roskam's book, value clipped\n",
      "WARNING : Chord ratio value outside of the range in Roskam's book, value clipped\n",
      "WARNING : Ratio of span on fuselage depth outside of the range in Roskam's book, value clipped\n",
      "WARNING : Area ratio value outside of the range in Roskam's book, value clipped\n",
      "INFO    : Entering mission computation\n",
      "INFO    : Entering mission computation\n",
      "INFO    : Entering mission computation\n",
      "WARNING : Looping on wing area with new value equal to [16.15236331]\n",
      "D:\\fl.lutz\\FAST\\FAST-OAD\\FAST-GA\\src\\fastga\\models\\geometry\\geom_components\\nacelle\\compute_nacelle.py:96: UserWarning: Engine count and engine position do not match, change value in the xml\n",
      "  warnings.warn(\"Engine count and engine position do not match, change value in the xml\")\n",
      "WARNING : Ratio of span on fuselage depth outside of the range in Roskam's book, value clipped\n",
      "WARNING : Area ratio value outside of the range in Roskam's book, value clipped\n"
     ]
    },
    {
     "name": "stdout",
     "output_type": "stream",
     "text": [
      "NL: NLBGS 11 ; 783.226493 2.3031723\n"
     ]
    },
    {
     "name": "stderr",
     "output_type": "stream",
     "text": [
      "WARNING : Chord ratio value outside of the range in Roskam's book, value clipped\n",
      "WARNING : Chord ratio value outside of the range in Roskam's book, value clipped\n",
      "WARNING : Chord ratio value outside of the range in Roskam's book, value clipped\n",
      "WARNING : Chord ratio value outside of the range in Roskam's book, value clipped\n",
      "WARNING : Ratio of span on fuselage depth outside of the range in Roskam's book, value clipped\n",
      "WARNING : Area ratio value outside of the range in Roskam's book, value clipped\n",
      "INFO    : Entering mission computation\n",
      "INFO    : Entering mission computation\n",
      "INFO    : Entering mission computation\n",
      "WARNING : Looping on wing area with new value equal to [16.15274326]\n",
      "D:\\fl.lutz\\FAST\\FAST-OAD\\FAST-GA\\src\\fastga\\models\\geometry\\geom_components\\nacelle\\compute_nacelle.py:96: UserWarning: Engine count and engine position do not match, change value in the xml\n",
      "  warnings.warn(\"Engine count and engine position do not match, change value in the xml\")\n",
      "WARNING : Ratio of span on fuselage depth outside of the range in Roskam's book, value clipped\n",
      "WARNING : Area ratio value outside of the range in Roskam's book, value clipped\n"
     ]
    },
    {
     "name": "stdout",
     "output_type": "stream",
     "text": [
      "NL: NLBGS 12 ; 403.38203 1.18619368\n"
     ]
    },
    {
     "name": "stderr",
     "output_type": "stream",
     "text": [
      "WARNING : Chord ratio value outside of the range in Roskam's book, value clipped\n",
      "WARNING : Chord ratio value outside of the range in Roskam's book, value clipped\n",
      "WARNING : Chord ratio value outside of the range in Roskam's book, value clipped\n",
      "WARNING : Chord ratio value outside of the range in Roskam's book, value clipped\n",
      "WARNING : Ratio of span on fuselage depth outside of the range in Roskam's book, value clipped\n",
      "WARNING : Area ratio value outside of the range in Roskam's book, value clipped\n",
      "INFO    : Entering mission computation\n",
      "INFO    : Entering mission computation\n",
      "INFO    : Entering mission computation\n",
      "WARNING : Looping on wing area with new value equal to [16.15294788]\n",
      "D:\\fl.lutz\\FAST\\FAST-OAD\\FAST-GA\\src\\fastga\\models\\geometry\\geom_components\\nacelle\\compute_nacelle.py:96: UserWarning: Engine count and engine position do not match, change value in the xml\n",
      "  warnings.warn(\"Engine count and engine position do not match, change value in the xml\")\n",
      "WARNING : Ratio of span on fuselage depth outside of the range in Roskam's book, value clipped\n",
      "WARNING : Area ratio value outside of the range in Roskam's book, value clipped\n"
     ]
    },
    {
     "name": "stdout",
     "output_type": "stream",
     "text": [
      "NL: NLBGS 13 ; 185.614736 0.545822597\n"
     ]
    },
    {
     "name": "stderr",
     "output_type": "stream",
     "text": [
      "WARNING : Chord ratio value outside of the range in Roskam's book, value clipped\n",
      "WARNING : Chord ratio value outside of the range in Roskam's book, value clipped\n",
      "WARNING : Chord ratio value outside of the range in Roskam's book, value clipped\n",
      "WARNING : Chord ratio value outside of the range in Roskam's book, value clipped\n",
      "WARNING : Ratio of span on fuselage depth outside of the range in Roskam's book, value clipped\n",
      "WARNING : Area ratio value outside of the range in Roskam's book, value clipped\n",
      "INFO    : Entering mission computation\n",
      "INFO    : Entering mission computation\n",
      "INFO    : Entering mission computation\n",
      "WARNING : Looping on wing area with new value equal to [16.15304276]\n",
      "D:\\fl.lutz\\FAST\\FAST-OAD\\FAST-GA\\src\\fastga\\models\\geometry\\geom_components\\nacelle\\compute_nacelle.py:96: UserWarning: Engine count and engine position do not match, change value in the xml\n",
      "  warnings.warn(\"Engine count and engine position do not match, change value in the xml\")\n",
      "WARNING : Ratio of span on fuselage depth outside of the range in Roskam's book, value clipped\n",
      "WARNING : Area ratio value outside of the range in Roskam's book, value clipped\n"
     ]
    },
    {
     "name": "stdout",
     "output_type": "stream",
     "text": [
      "NL: NLBGS 14 ; 79.7142118 0.234409288\n"
     ]
    },
    {
     "name": "stderr",
     "output_type": "stream",
     "text": [
      "WARNING : Chord ratio value outside of the range in Roskam's book, value clipped\n",
      "WARNING : Chord ratio value outside of the range in Roskam's book, value clipped\n",
      "WARNING : Chord ratio value outside of the range in Roskam's book, value clipped\n",
      "WARNING : Chord ratio value outside of the range in Roskam's book, value clipped\n",
      "WARNING : Ratio of span on fuselage depth outside of the range in Roskam's book, value clipped\n",
      "WARNING : Area ratio value outside of the range in Roskam's book, value clipped\n",
      "INFO    : Entering mission computation\n",
      "INFO    : Entering mission computation\n",
      "INFO    : Entering mission computation\n",
      "WARNING : Looping on wing area with new value equal to [16.15308417]\n",
      "D:\\fl.lutz\\FAST\\FAST-OAD\\FAST-GA\\src\\fastga\\models\\geometry\\geom_components\\nacelle\\compute_nacelle.py:96: UserWarning: Engine count and engine position do not match, change value in the xml\n",
      "  warnings.warn(\"Engine count and engine position do not match, change value in the xml\")\n",
      "WARNING : Ratio of span on fuselage depth outside of the range in Roskam's book, value clipped\n",
      "WARNING : Area ratio value outside of the range in Roskam's book, value clipped\n"
     ]
    },
    {
     "name": "stdout",
     "output_type": "stream",
     "text": [
      "NL: NLBGS 15 ; 35.5648596 0.104582774\n"
     ]
    },
    {
     "name": "stderr",
     "output_type": "stream",
     "text": [
      "WARNING : Chord ratio value outside of the range in Roskam's book, value clipped\n",
      "WARNING : Chord ratio value outside of the range in Roskam's book, value clipped\n",
      "WARNING : Chord ratio value outside of the range in Roskam's book, value clipped\n",
      "WARNING : Chord ratio value outside of the range in Roskam's book, value clipped\n",
      "WARNING : Ratio of span on fuselage depth outside of the range in Roskam's book, value clipped\n",
      "WARNING : Area ratio value outside of the range in Roskam's book, value clipped\n",
      "INFO    : Entering mission computation\n",
      "INFO    : Entering mission computation\n",
      "INFO    : Entering mission computation\n",
      "WARNING : Looping on wing area with new value equal to [16.15309967]\n",
      "D:\\fl.lutz\\FAST\\FAST-OAD\\FAST-GA\\src\\fastga\\models\\geometry\\geom_components\\nacelle\\compute_nacelle.py:96: UserWarning: Engine count and engine position do not match, change value in the xml\n",
      "  warnings.warn(\"Engine count and engine position do not match, change value in the xml\")\n",
      "WARNING : Ratio of span on fuselage depth outside of the range in Roskam's book, value clipped\n",
      "WARNING : Area ratio value outside of the range in Roskam's book, value clipped\n"
     ]
    },
    {
     "name": "stdout",
     "output_type": "stream",
     "text": [
      "NL: NLBGS 16 ; 15.2382843 0.0448100195\n"
     ]
    },
    {
     "name": "stderr",
     "output_type": "stream",
     "text": [
      "WARNING : Chord ratio value outside of the range in Roskam's book, value clipped\n",
      "WARNING : Chord ratio value outside of the range in Roskam's book, value clipped\n",
      "WARNING : Chord ratio value outside of the range in Roskam's book, value clipped\n",
      "WARNING : Chord ratio value outside of the range in Roskam's book, value clipped\n",
      "WARNING : Ratio of span on fuselage depth outside of the range in Roskam's book, value clipped\n",
      "WARNING : Area ratio value outside of the range in Roskam's book, value clipped\n",
      "INFO    : Entering mission computation\n",
      "INFO    : Entering mission computation\n",
      "INFO    : Entering mission computation\n",
      "WARNING : Looping on wing area with new value equal to [16.153104]\n",
      "D:\\fl.lutz\\FAST\\FAST-OAD\\FAST-GA\\src\\fastga\\models\\geometry\\geom_components\\nacelle\\compute_nacelle.py:96: UserWarning: Engine count and engine position do not match, change value in the xml\n",
      "  warnings.warn(\"Engine count and engine position do not match, change value in the xml\")\n",
      "WARNING : Ratio of span on fuselage depth outside of the range in Roskam's book, value clipped\n",
      "WARNING : Area ratio value outside of the range in Roskam's book, value clipped\n"
     ]
    },
    {
     "name": "stdout",
     "output_type": "stream",
     "text": [
      "NL: NLBGS 17 ; 7.70601835 0.0226604797\n"
     ]
    },
    {
     "name": "stderr",
     "output_type": "stream",
     "text": [
      "WARNING : Chord ratio value outside of the range in Roskam's book, value clipped\n",
      "WARNING : Chord ratio value outside of the range in Roskam's book, value clipped\n",
      "WARNING : Chord ratio value outside of the range in Roskam's book, value clipped\n",
      "WARNING : Chord ratio value outside of the range in Roskam's book, value clipped\n",
      "WARNING : Ratio of span on fuselage depth outside of the range in Roskam's book, value clipped\n",
      "WARNING : Area ratio value outside of the range in Roskam's book, value clipped\n",
      "INFO    : Entering mission computation\n",
      "INFO    : Entering mission computation\n",
      "INFO    : Entering mission computation\n",
      "WARNING : Looping on wing area with new value equal to [16.15310402]\n",
      "D:\\fl.lutz\\FAST\\FAST-OAD\\FAST-GA\\src\\fastga\\models\\geometry\\geom_components\\nacelle\\compute_nacelle.py:96: UserWarning: Engine count and engine position do not match, change value in the xml\n",
      "  warnings.warn(\"Engine count and engine position do not match, change value in the xml\")\n",
      "WARNING : Ratio of span on fuselage depth outside of the range in Roskam's book, value clipped\n",
      "WARNING : Area ratio value outside of the range in Roskam's book, value clipped\n"
     ]
    },
    {
     "name": "stdout",
     "output_type": "stream",
     "text": [
      "NL: NLBGS 18 ; 5.18713238 0.0152533906\n"
     ]
    },
    {
     "name": "stderr",
     "output_type": "stream",
     "text": [
      "WARNING : Chord ratio value outside of the range in Roskam's book, value clipped\n",
      "WARNING : Chord ratio value outside of the range in Roskam's book, value clipped\n",
      "WARNING : Chord ratio value outside of the range in Roskam's book, value clipped\n",
      "WARNING : Chord ratio value outside of the range in Roskam's book, value clipped\n",
      "WARNING : Ratio of span on fuselage depth outside of the range in Roskam's book, value clipped\n",
      "WARNING : Area ratio value outside of the range in Roskam's book, value clipped\n",
      "INFO    : Entering mission computation\n",
      "INFO    : Entering mission computation\n",
      "INFO    : Entering mission computation\n",
      "WARNING : Looping on wing area with new value equal to [16.15310257]\n",
      "D:\\fl.lutz\\FAST\\FAST-OAD\\FAST-GA\\src\\fastga\\models\\geometry\\geom_components\\nacelle\\compute_nacelle.py:96: UserWarning: Engine count and engine position do not match, change value in the xml\n",
      "  warnings.warn(\"Engine count and engine position do not match, change value in the xml\")\n",
      "WARNING : Ratio of span on fuselage depth outside of the range in Roskam's book, value clipped\n",
      "WARNING : Area ratio value outside of the range in Roskam's book, value clipped\n"
     ]
    },
    {
     "name": "stdout",
     "output_type": "stream",
     "text": [
      "NL: NLBGS 19 ; 3.81446039 0.0112168825\n"
     ]
    },
    {
     "name": "stderr",
     "output_type": "stream",
     "text": [
      "WARNING : Chord ratio value outside of the range in Roskam's book, value clipped\n",
      "WARNING : Chord ratio value outside of the range in Roskam's book, value clipped\n",
      "WARNING : Chord ratio value outside of the range in Roskam's book, value clipped\n",
      "WARNING : Chord ratio value outside of the range in Roskam's book, value clipped\n",
      "WARNING : Ratio of span on fuselage depth outside of the range in Roskam's book, value clipped\n",
      "WARNING : Area ratio value outside of the range in Roskam's book, value clipped\n",
      "INFO    : Entering mission computation\n",
      "INFO    : Entering mission computation\n",
      "INFO    : Entering mission computation\n",
      "WARNING : Looping on wing area with new value equal to [16.153101]\n",
      "D:\\fl.lutz\\FAST\\FAST-OAD\\FAST-GA\\src\\fastga\\models\\geometry\\geom_components\\nacelle\\compute_nacelle.py:96: UserWarning: Engine count and engine position do not match, change value in the xml\n",
      "  warnings.warn(\"Engine count and engine position do not match, change value in the xml\")\n",
      "WARNING : Ratio of span on fuselage depth outside of the range in Roskam's book, value clipped\n",
      "WARNING : Area ratio value outside of the range in Roskam's book, value clipped\n"
     ]
    },
    {
     "name": "stdout",
     "output_type": "stream",
     "text": [
      "NL: NLBGS 20 ; 2.6986754 0.00793578165\n"
     ]
    },
    {
     "name": "stderr",
     "output_type": "stream",
     "text": [
      "WARNING : Chord ratio value outside of the range in Roskam's book, value clipped\n",
      "WARNING : Chord ratio value outside of the range in Roskam's book, value clipped\n",
      "WARNING : Chord ratio value outside of the range in Roskam's book, value clipped\n",
      "WARNING : Chord ratio value outside of the range in Roskam's book, value clipped\n",
      "WARNING : Ratio of span on fuselage depth outside of the range in Roskam's book, value clipped\n",
      "WARNING : Area ratio value outside of the range in Roskam's book, value clipped\n",
      "INFO    : Entering mission computation\n",
      "INFO    : Entering mission computation\n",
      "INFO    : Entering mission computation\n",
      "WARNING : Looping on wing area with new value equal to [16.15309972]\n",
      "D:\\fl.lutz\\FAST\\FAST-OAD\\FAST-GA\\src\\fastga\\models\\geometry\\geom_components\\nacelle\\compute_nacelle.py:96: UserWarning: Engine count and engine position do not match, change value in the xml\n",
      "  warnings.warn(\"Engine count and engine position do not match, change value in the xml\")\n"
     ]
    },
    {
     "name": "stdout",
     "output_type": "stream",
     "text": [
      "NL: NLBGS 21 ; 1.74847657 0.00514160697\n"
     ]
    },
    {
     "name": "stderr",
     "output_type": "stream",
     "text": [
      "WARNING : Ratio of span on fuselage depth outside of the range in Roskam's book, value clipped\n",
      "WARNING : Area ratio value outside of the range in Roskam's book, value clipped\n",
      "WARNING : Chord ratio value outside of the range in Roskam's book, value clipped\n",
      "WARNING : Chord ratio value outside of the range in Roskam's book, value clipped\n",
      "WARNING : Chord ratio value outside of the range in Roskam's book, value clipped\n",
      "WARNING : Chord ratio value outside of the range in Roskam's book, value clipped\n",
      "WARNING : Ratio of span on fuselage depth outside of the range in Roskam's book, value clipped\n",
      "WARNING : Area ratio value outside of the range in Roskam's book, value clipped\n",
      "INFO    : Entering mission computation\n",
      "INFO    : Entering mission computation\n",
      "INFO    : Entering mission computation\n",
      "WARNING : Looping on wing area with new value equal to [16.15309881]\n",
      "D:\\fl.lutz\\FAST\\FAST-OAD\\FAST-GA\\src\\fastga\\models\\geometry\\geom_components\\nacelle\\compute_nacelle.py:96: UserWarning: Engine count and engine position do not match, change value in the xml\n",
      "  warnings.warn(\"Engine count and engine position do not match, change value in the xml\")\n",
      "WARNING : Ratio of span on fuselage depth outside of the range in Roskam's book, value clipped\n",
      "WARNING : Area ratio value outside of the range in Roskam's book, value clipped\n"
     ]
    },
    {
     "name": "stdout",
     "output_type": "stream",
     "text": [
      "NL: NLBGS 22 ; 1.05112023 0.00309094626\n"
     ]
    },
    {
     "name": "stderr",
     "output_type": "stream",
     "text": [
      "WARNING : Chord ratio value outside of the range in Roskam's book, value clipped\n",
      "WARNING : Chord ratio value outside of the range in Roskam's book, value clipped\n",
      "WARNING : Chord ratio value outside of the range in Roskam's book, value clipped\n",
      "WARNING : Chord ratio value outside of the range in Roskam's book, value clipped\n",
      "WARNING : Ratio of span on fuselage depth outside of the range in Roskam's book, value clipped\n",
      "WARNING : Area ratio value outside of the range in Roskam's book, value clipped\n",
      "INFO    : Entering mission computation\n",
      "INFO    : Entering mission computation\n",
      "INFO    : Entering mission computation\n",
      "WARNING : Looping on wing area with new value equal to [16.15309821]\n",
      "D:\\fl.lutz\\FAST\\FAST-OAD\\FAST-GA\\src\\fastga\\models\\geometry\\geom_components\\nacelle\\compute_nacelle.py:96: UserWarning: Engine count and engine position do not match, change value in the xml\n",
      "  warnings.warn(\"Engine count and engine position do not match, change value in the xml\")\n",
      "WARNING : Ratio of span on fuselage depth outside of the range in Roskam's book, value clipped\n",
      "WARNING : Area ratio value outside of the range in Roskam's book, value clipped\n"
     ]
    },
    {
     "name": "stdout",
     "output_type": "stream",
     "text": [
      "NL: NLBGS 23 ; 0.732842076 0.00215501083\n"
     ]
    },
    {
     "name": "stderr",
     "output_type": "stream",
     "text": [
      "WARNING : Chord ratio value outside of the range in Roskam's book, value clipped\n",
      "WARNING : Chord ratio value outside of the range in Roskam's book, value clipped\n",
      "WARNING : Chord ratio value outside of the range in Roskam's book, value clipped\n",
      "WARNING : Chord ratio value outside of the range in Roskam's book, value clipped\n",
      "WARNING : Ratio of span on fuselage depth outside of the range in Roskam's book, value clipped\n",
      "WARNING : Area ratio value outside of the range in Roskam's book, value clipped\n",
      "INFO    : Entering mission computation\n",
      "INFO    : Entering mission computation\n",
      "INFO    : Entering mission computation\n",
      "WARNING : Looping on wing area with new value equal to [16.15309784]\n"
     ]
    },
    {
     "name": "stdout",
     "output_type": "stream",
     "text": [
      "NL: NLBGS 24 ; 0.307882992 0.000905367201\n",
      "NL: NLBGS Converged\n"
     ]
    },
    {
     "name": "stderr",
     "output_type": "stream",
     "text": [
      "D:\\fl.lutz\\FAST\\FAST-OAD\\FAST-GA\\src\\fastga\\models\\geometry\\geom_components\\nacelle\\compute_nacelle.py:96: UserWarning: Engine count and engine position do not match, change value in the xml\n",
      "  warnings.warn(\"Engine count and engine position do not match, change value in the xml\")\n",
      "WARNING : Ratio of span on fuselage depth outside of the range in Roskam's book, value clipped\n",
      "WARNING : Area ratio value outside of the range in Roskam's book, value clipped\n",
      "WARNING : Chord ratio value outside of the range in Roskam's book, value clipped\n",
      "WARNING : Chord ratio value outside of the range in Roskam's book, value clipped\n",
      "WARNING : Chord ratio value outside of the range in Roskam's book, value clipped\n",
      "WARNING : Chord ratio value outside of the range in Roskam's book, value clipped\n",
      "WARNING : Ratio of span on fuselage depth outside of the range in Roskam's book, value clipped\n",
      "WARNING : Area ratio value outside of the range in Roskam's book, value clipped\n",
      "INFO    : Entering mission computation\n",
      "INFO    : Entering mission computation\n",
      "INFO    : Entering mission computation\n",
      "WARNING : Looping on wing area with new value equal to [16.15309762]\n",
      "D:\\fl.lutz\\FAST\\FAST-OAD\\FAST-GA\\src\\fastga\\models\\geometry\\geom_components\\nacelle\\compute_nacelle.py:96: UserWarning: Engine count and engine position do not match, change value in the xml\n",
      "  warnings.warn(\"Engine count and engine position do not match, change value in the xml\")\n",
      "WARNING : Ratio of span on fuselage depth outside of the range in Roskam's book, value clipped\n",
      "WARNING : Area ratio value outside of the range in Roskam's book, value clipped\n"
     ]
    },
    {
     "name": "stdout",
     "output_type": "stream",
     "text": [
      "NL: NLBGS 1 ; 171.826205 1\n"
     ]
    },
    {
     "name": "stderr",
     "output_type": "stream",
     "text": [
      "WARNING : Chord ratio value outside of the range in Roskam's book, value clipped\n",
      "WARNING : Chord ratio value outside of the range in Roskam's book, value clipped\n",
      "WARNING : Chord ratio value outside of the range in Roskam's book, value clipped\n",
      "WARNING : Chord ratio value outside of the range in Roskam's book, value clipped\n",
      "WARNING : Ratio of span on fuselage depth outside of the range in Roskam's book, value clipped\n",
      "WARNING : Area ratio value outside of the range in Roskam's book, value clipped\n",
      "INFO    : Entering mission computation\n",
      "INFO    : Entering mission computation\n",
      "INFO    : Entering mission computation\n",
      "WARNING : Looping on wing area with new value equal to [16.10235939]\n",
      "D:\\fl.lutz\\FAST\\FAST-OAD\\FAST-GA\\src\\fastga\\models\\geometry\\geom_components\\nacelle\\compute_nacelle.py:96: UserWarning: Engine count and engine position do not match, change value in the xml\n",
      "  warnings.warn(\"Engine count and engine position do not match, change value in the xml\")\n",
      "WARNING : Ratio of span on fuselage depth outside of the range in Roskam's book, value clipped\n",
      "WARNING : Area ratio value outside of the range in Roskam's book, value clipped\n"
     ]
    },
    {
     "name": "stdout",
     "output_type": "stream",
     "text": [
      "NL: NLBGS 2 ; 126264.75 734.839893\n"
     ]
    },
    {
     "name": "stderr",
     "output_type": "stream",
     "text": [
      "WARNING : Chord ratio value outside of the range in Roskam's book, value clipped\n",
      "WARNING : Chord ratio value outside of the range in Roskam's book, value clipped\n",
      "WARNING : Chord ratio value outside of the range in Roskam's book, value clipped\n",
      "WARNING : Chord ratio value outside of the range in Roskam's book, value clipped\n",
      "WARNING : Ratio of span on fuselage depth outside of the range in Roskam's book, value clipped\n",
      "WARNING : Area ratio value outside of the range in Roskam's book, value clipped\n",
      "INFO    : Entering mission computation\n",
      "INFO    : Entering mission computation\n",
      "INFO    : Entering mission computation\n",
      "WARNING : Looping on wing area with new value equal to [16.10244061]\n",
      "D:\\fl.lutz\\FAST\\FAST-OAD\\FAST-GA\\src\\fastga\\models\\geometry\\geom_components\\nacelle\\compute_nacelle.py:96: UserWarning: Engine count and engine position do not match, change value in the xml\n",
      "  warnings.warn(\"Engine count and engine position do not match, change value in the xml\")\n",
      "WARNING : Ratio of span on fuselage depth outside of the range in Roskam's book, value clipped\n",
      "WARNING : Area ratio value outside of the range in Roskam's book, value clipped\n"
     ]
    },
    {
     "name": "stdout",
     "output_type": "stream",
     "text": [
      "NL: NLBGS 3 ; 17841.4156 103.834078\n"
     ]
    },
    {
     "name": "stderr",
     "output_type": "stream",
     "text": [
      "WARNING : Chord ratio value outside of the range in Roskam's book, value clipped\n",
      "WARNING : Chord ratio value outside of the range in Roskam's book, value clipped\n",
      "WARNING : Chord ratio value outside of the range in Roskam's book, value clipped\n",
      "WARNING : Chord ratio value outside of the range in Roskam's book, value clipped\n",
      "WARNING : Ratio of span on fuselage depth outside of the range in Roskam's book, value clipped\n",
      "WARNING : Area ratio value outside of the range in Roskam's book, value clipped\n",
      "INFO    : Entering mission computation\n",
      "INFO    : Entering mission computation\n",
      "INFO    : Entering mission computation\n",
      "WARNING : Looping on wing area with new value equal to [16.09513316]\n",
      "D:\\fl.lutz\\FAST\\FAST-OAD\\FAST-GA\\src\\fastga\\models\\geometry\\geom_components\\nacelle\\compute_nacelle.py:96: UserWarning: Engine count and engine position do not match, change value in the xml\n",
      "  warnings.warn(\"Engine count and engine position do not match, change value in the xml\")\n",
      "WARNING : Ratio of span on fuselage depth outside of the range in Roskam's book, value clipped\n",
      "WARNING : Area ratio value outside of the range in Roskam's book, value clipped\n"
     ]
    },
    {
     "name": "stdout",
     "output_type": "stream",
     "text": [
      "NL: NLBGS 4 ; 29916.3868 174.108407\n"
     ]
    },
    {
     "name": "stderr",
     "output_type": "stream",
     "text": [
      "WARNING : Chord ratio value outside of the range in Roskam's book, value clipped\n",
      "WARNING : Chord ratio value outside of the range in Roskam's book, value clipped\n",
      "WARNING : Chord ratio value outside of the range in Roskam's book, value clipped\n",
      "WARNING : Chord ratio value outside of the range in Roskam's book, value clipped\n",
      "WARNING : Ratio of span on fuselage depth outside of the range in Roskam's book, value clipped\n",
      "WARNING : Area ratio value outside of the range in Roskam's book, value clipped\n",
      "INFO    : Entering mission computation\n",
      "INFO    : Entering mission computation\n",
      "INFO    : Entering mission computation\n",
      "WARNING : Looping on wing area with new value equal to [16.08782239]\n",
      "D:\\fl.lutz\\FAST\\FAST-OAD\\FAST-GA\\src\\fastga\\models\\geometry\\geom_components\\nacelle\\compute_nacelle.py:96: UserWarning: Engine count and engine position do not match, change value in the xml\n",
      "  warnings.warn(\"Engine count and engine position do not match, change value in the xml\")\n",
      "WARNING : Ratio of span on fuselage depth outside of the range in Roskam's book, value clipped\n"
     ]
    },
    {
     "name": "stdout",
     "output_type": "stream",
     "text": [
      "NL: NLBGS 5 ; 9976.84523 58.0635837\n"
     ]
    },
    {
     "name": "stderr",
     "output_type": "stream",
     "text": [
      "WARNING : Area ratio value outside of the range in Roskam's book, value clipped\n",
      "WARNING : Chord ratio value outside of the range in Roskam's book, value clipped\n",
      "WARNING : Chord ratio value outside of the range in Roskam's book, value clipped\n",
      "WARNING : Chord ratio value outside of the range in Roskam's book, value clipped\n",
      "WARNING : Chord ratio value outside of the range in Roskam's book, value clipped\n",
      "WARNING : Ratio of span on fuselage depth outside of the range in Roskam's book, value clipped\n",
      "WARNING : Area ratio value outside of the range in Roskam's book, value clipped\n",
      "INFO    : Entering mission computation\n",
      "INFO    : Entering mission computation\n",
      "INFO    : Entering mission computation\n",
      "WARNING : Looping on wing area with new value equal to [16.08241209]\n",
      "D:\\fl.lutz\\FAST\\FAST-OAD\\FAST-GA\\src\\fastga\\models\\geometry\\geom_components\\nacelle\\compute_nacelle.py:96: UserWarning: Engine count and engine position do not match, change value in the xml\n",
      "  warnings.warn(\"Engine count and engine position do not match, change value in the xml\")\n"
     ]
    },
    {
     "name": "stdout",
     "output_type": "stream",
     "text": [
      "NL: NLBGS 6 ; 6149.42754 35.7886479\n"
     ]
    },
    {
     "name": "stderr",
     "output_type": "stream",
     "text": [
      "WARNING : Ratio of span on fuselage depth outside of the range in Roskam's book, value clipped\n",
      "WARNING : Area ratio value outside of the range in Roskam's book, value clipped\n",
      "WARNING : Chord ratio value outside of the range in Roskam's book, value clipped\n",
      "WARNING : Chord ratio value outside of the range in Roskam's book, value clipped\n",
      "WARNING : Chord ratio value outside of the range in Roskam's book, value clipped\n",
      "WARNING : Chord ratio value outside of the range in Roskam's book, value clipped\n",
      "WARNING : Ratio of span on fuselage depth outside of the range in Roskam's book, value clipped\n",
      "WARNING : Area ratio value outside of the range in Roskam's book, value clipped\n",
      "INFO    : Entering mission computation\n",
      "INFO    : Entering mission computation\n",
      "INFO    : Entering mission computation\n",
      "WARNING : Looping on wing area with new value equal to [16.07912376]\n",
      "D:\\fl.lutz\\FAST\\FAST-OAD\\FAST-GA\\src\\fastga\\models\\geometry\\geom_components\\nacelle\\compute_nacelle.py:96: UserWarning: Engine count and engine position do not match, change value in the xml\n",
      "  warnings.warn(\"Engine count and engine position do not match, change value in the xml\")\n",
      "WARNING : Ratio of span on fuselage depth outside of the range in Roskam's book, value clipped\n",
      "WARNING : Area ratio value outside of the range in Roskam's book, value clipped\n"
     ]
    },
    {
     "name": "stdout",
     "output_type": "stream",
     "text": [
      "NL: NLBGS 7 ; 4059.57164 23.6260333\n"
     ]
    },
    {
     "name": "stderr",
     "output_type": "stream",
     "text": [
      "WARNING : Chord ratio value outside of the range in Roskam's book, value clipped\n",
      "WARNING : Chord ratio value outside of the range in Roskam's book, value clipped\n",
      "WARNING : Chord ratio value outside of the range in Roskam's book, value clipped\n",
      "WARNING : Chord ratio value outside of the range in Roskam's book, value clipped\n",
      "WARNING : Ratio of span on fuselage depth outside of the range in Roskam's book, value clipped\n",
      "WARNING : Area ratio value outside of the range in Roskam's book, value clipped\n",
      "INFO    : Entering mission computation\n",
      "INFO    : Entering mission computation\n",
      "INFO    : Entering mission computation\n",
      "WARNING : Looping on wing area with new value equal to [16.07713214]\n",
      "D:\\fl.lutz\\FAST\\FAST-OAD\\FAST-GA\\src\\fastga\\models\\geometry\\geom_components\\nacelle\\compute_nacelle.py:96: UserWarning: Engine count and engine position do not match, change value in the xml\n",
      "  warnings.warn(\"Engine count and engine position do not match, change value in the xml\")\n"
     ]
    },
    {
     "name": "stdout",
     "output_type": "stream",
     "text": [
      "NL: NLBGS 8 ; 2454.97093 14.2875234\n"
     ]
    },
    {
     "name": "stderr",
     "output_type": "stream",
     "text": [
      "WARNING : Ratio of span on fuselage depth outside of the range in Roskam's book, value clipped\n",
      "WARNING : Area ratio value outside of the range in Roskam's book, value clipped\n",
      "WARNING : Chord ratio value outside of the range in Roskam's book, value clipped\n",
      "WARNING : Chord ratio value outside of the range in Roskam's book, value clipped\n",
      "WARNING : Chord ratio value outside of the range in Roskam's book, value clipped\n",
      "WARNING : Chord ratio value outside of the range in Roskam's book, value clipped\n",
      "WARNING : Ratio of span on fuselage depth outside of the range in Roskam's book, value clipped\n",
      "WARNING : Area ratio value outside of the range in Roskam's book, value clipped\n",
      "INFO    : Entering mission computation\n",
      "INFO    : Entering mission computation\n",
      "INFO    : Entering mission computation\n",
      "WARNING : Looping on wing area with new value equal to [16.07596946]\n",
      "D:\\fl.lutz\\FAST\\FAST-OAD\\FAST-GA\\src\\fastga\\models\\geometry\\geom_components\\nacelle\\compute_nacelle.py:96: UserWarning: Engine count and engine position do not match, change value in the xml\n",
      "  warnings.warn(\"Engine count and engine position do not match, change value in the xml\")\n",
      "WARNING : Ratio of span on fuselage depth outside of the range in Roskam's book, value clipped\n",
      "WARNING : Area ratio value outside of the range in Roskam's book, value clipped\n"
     ]
    },
    {
     "name": "stdout",
     "output_type": "stream",
     "text": [
      "NL: NLBGS 9 ; 1329.66509 7.73843021\n"
     ]
    },
    {
     "name": "stderr",
     "output_type": "stream",
     "text": [
      "WARNING : Chord ratio value outside of the range in Roskam's book, value clipped\n",
      "WARNING : Chord ratio value outside of the range in Roskam's book, value clipped\n",
      "WARNING : Chord ratio value outside of the range in Roskam's book, value clipped\n",
      "WARNING : Chord ratio value outside of the range in Roskam's book, value clipped\n",
      "WARNING : Ratio of span on fuselage depth outside of the range in Roskam's book, value clipped\n",
      "WARNING : Area ratio value outside of the range in Roskam's book, value clipped\n",
      "INFO    : Entering mission computation\n",
      "INFO    : Entering mission computation\n",
      "INFO    : Entering mission computation\n",
      "WARNING : Looping on wing area with new value equal to [16.07527728]\n",
      "D:\\fl.lutz\\FAST\\FAST-OAD\\FAST-GA\\src\\fastga\\models\\geometry\\geom_components\\nacelle\\compute_nacelle.py:96: UserWarning: Engine count and engine position do not match, change value in the xml\n",
      "  warnings.warn(\"Engine count and engine position do not match, change value in the xml\")\n",
      "WARNING : Ratio of span on fuselage depth outside of the range in Roskam's book, value clipped\n",
      "WARNING : Area ratio value outside of the range in Roskam's book, value clipped\n"
     ]
    },
    {
     "name": "stdout",
     "output_type": "stream",
     "text": [
      "NL: NLBGS 10 ; 703.670168 4.09524362\n"
     ]
    },
    {
     "name": "stderr",
     "output_type": "stream",
     "text": [
      "WARNING : Chord ratio value outside of the range in Roskam's book, value clipped\n",
      "WARNING : Chord ratio value outside of the range in Roskam's book, value clipped\n",
      "WARNING : Chord ratio value outside of the range in Roskam's book, value clipped\n",
      "WARNING : Chord ratio value outside of the range in Roskam's book, value clipped\n",
      "WARNING : Ratio of span on fuselage depth outside of the range in Roskam's book, value clipped\n",
      "WARNING : Area ratio value outside of the range in Roskam's book, value clipped\n",
      "INFO    : Entering mission computation\n",
      "INFO    : Entering mission computation\n",
      "INFO    : Entering mission computation\n",
      "WARNING : Looping on wing area with new value equal to [16.07489789]\n",
      "D:\\fl.lutz\\FAST\\FAST-OAD\\FAST-GA\\src\\fastga\\models\\geometry\\geom_components\\nacelle\\compute_nacelle.py:96: UserWarning: Engine count and engine position do not match, change value in the xml\n",
      "  warnings.warn(\"Engine count and engine position do not match, change value in the xml\")\n",
      "WARNING : Ratio of span on fuselage depth outside of the range in Roskam's book, value clipped\n",
      "WARNING : Area ratio value outside of the range in Roskam's book, value clipped\n"
     ]
    },
    {
     "name": "stdout",
     "output_type": "stream",
     "text": [
      "NL: NLBGS 11 ; 368.805932 2.14638933\n"
     ]
    },
    {
     "name": "stderr",
     "output_type": "stream",
     "text": [
      "WARNING : Chord ratio value outside of the range in Roskam's book, value clipped\n",
      "WARNING : Chord ratio value outside of the range in Roskam's book, value clipped\n",
      "WARNING : Chord ratio value outside of the range in Roskam's book, value clipped\n",
      "WARNING : Chord ratio value outside of the range in Roskam's book, value clipped\n",
      "WARNING : Ratio of span on fuselage depth outside of the range in Roskam's book, value clipped\n",
      "WARNING : Area ratio value outside of the range in Roskam's book, value clipped\n",
      "INFO    : Entering mission computation\n",
      "INFO    : Entering mission computation\n",
      "INFO    : Entering mission computation\n",
      "WARNING : Looping on wing area with new value equal to [16.07469593]\n",
      "D:\\fl.lutz\\FAST\\FAST-OAD\\FAST-GA\\src\\fastga\\models\\geometry\\geom_components\\nacelle\\compute_nacelle.py:96: UserWarning: Engine count and engine position do not match, change value in the xml\n",
      "  warnings.warn(\"Engine count and engine position do not match, change value in the xml\")\n",
      "WARNING : Ratio of span on fuselage depth outside of the range in Roskam's book, value clipped\n",
      "WARNING : Area ratio value outside of the range in Roskam's book, value clipped\n"
     ]
    },
    {
     "name": "stdout",
     "output_type": "stream",
     "text": [
      "NL: NLBGS 12 ; 193.41482 1.12564216\n"
     ]
    },
    {
     "name": "stderr",
     "output_type": "stream",
     "text": [
      "WARNING : Chord ratio value outside of the range in Roskam's book, value clipped\n",
      "WARNING : Chord ratio value outside of the range in Roskam's book, value clipped\n",
      "WARNING : Chord ratio value outside of the range in Roskam's book, value clipped\n",
      "WARNING : Chord ratio value outside of the range in Roskam's book, value clipped\n",
      "WARNING : Ratio of span on fuselage depth outside of the range in Roskam's book, value clipped\n",
      "WARNING : Area ratio value outside of the range in Roskam's book, value clipped\n",
      "INFO    : Entering mission computation\n",
      "INFO    : Entering mission computation\n",
      "INFO    : Entering mission computation\n",
      "WARNING : Looping on wing area with new value equal to [16.07459279]\n",
      "D:\\fl.lutz\\FAST\\FAST-OAD\\FAST-GA\\src\\fastga\\models\\geometry\\geom_components\\nacelle\\compute_nacelle.py:96: UserWarning: Engine count and engine position do not match, change value in the xml\n",
      "  warnings.warn(\"Engine count and engine position do not match, change value in the xml\")\n",
      "WARNING : Ratio of span on fuselage depth outside of the range in Roskam's book, value clipped\n",
      "WARNING : Area ratio value outside of the range in Roskam's book, value clipped\n"
     ]
    },
    {
     "name": "stdout",
     "output_type": "stream",
     "text": [
      "NL: NLBGS 13 ; 95.2251364 0.554194493\n"
     ]
    },
    {
     "name": "stderr",
     "output_type": "stream",
     "text": [
      "WARNING : Chord ratio value outside of the range in Roskam's book, value clipped\n",
      "WARNING : Chord ratio value outside of the range in Roskam's book, value clipped\n",
      "WARNING : Chord ratio value outside of the range in Roskam's book, value clipped\n",
      "WARNING : Chord ratio value outside of the range in Roskam's book, value clipped\n",
      "WARNING : Ratio of span on fuselage depth outside of the range in Roskam's book, value clipped\n",
      "WARNING : Area ratio value outside of the range in Roskam's book, value clipped\n",
      "INFO    : Entering mission computation\n",
      "INFO    : Entering mission computation\n",
      "INFO    : Entering mission computation\n",
      "WARNING : Looping on wing area with new value equal to [16.0745423]\n",
      "D:\\fl.lutz\\FAST\\FAST-OAD\\FAST-GA\\src\\fastga\\models\\geometry\\geom_components\\nacelle\\compute_nacelle.py:96: UserWarning: Engine count and engine position do not match, change value in the xml\n",
      "  warnings.warn(\"Engine count and engine position do not match, change value in the xml\")\n"
     ]
    },
    {
     "name": "stdout",
     "output_type": "stream",
     "text": [
      "NL: NLBGS 14 ; 44.6915732 0.260097541\n"
     ]
    },
    {
     "name": "stderr",
     "output_type": "stream",
     "text": [
      "WARNING : Ratio of span on fuselage depth outside of the range in Roskam's book, value clipped\n",
      "WARNING : Area ratio value outside of the range in Roskam's book, value clipped\n",
      "WARNING : Chord ratio value outside of the range in Roskam's book, value clipped\n",
      "WARNING : Chord ratio value outside of the range in Roskam's book, value clipped\n",
      "WARNING : Chord ratio value outside of the range in Roskam's book, value clipped\n",
      "WARNING : Chord ratio value outside of the range in Roskam's book, value clipped\n",
      "WARNING : Ratio of span on fuselage depth outside of the range in Roskam's book, value clipped\n",
      "WARNING : Area ratio value outside of the range in Roskam's book, value clipped\n",
      "INFO    : Entering mission computation\n",
      "INFO    : Entering mission computation\n",
      "INFO    : Entering mission computation\n",
      "WARNING : Looping on wing area with new value equal to [16.07451942]\n",
      "D:\\fl.lutz\\FAST\\FAST-OAD\\FAST-GA\\src\\fastga\\models\\geometry\\geom_components\\nacelle\\compute_nacelle.py:96: UserWarning: Engine count and engine position do not match, change value in the xml\n",
      "  warnings.warn(\"Engine count and engine position do not match, change value in the xml\")\n",
      "WARNING : Ratio of span on fuselage depth outside of the range in Roskam's book, value clipped\n",
      "WARNING : Area ratio value outside of the range in Roskam's book, value clipped\n"
     ]
    },
    {
     "name": "stdout",
     "output_type": "stream",
     "text": [
      "NL: NLBGS 15 ; 19.8459243 0.115499986\n"
     ]
    },
    {
     "name": "stderr",
     "output_type": "stream",
     "text": [
      "WARNING : Chord ratio value outside of the range in Roskam's book, value clipped\n",
      "WARNING : Chord ratio value outside of the range in Roskam's book, value clipped\n",
      "WARNING : Chord ratio value outside of the range in Roskam's book, value clipped\n",
      "WARNING : Chord ratio value outside of the range in Roskam's book, value clipped\n",
      "WARNING : Ratio of span on fuselage depth outside of the range in Roskam's book, value clipped\n",
      "WARNING : Area ratio value outside of the range in Roskam's book, value clipped\n",
      "INFO    : Entering mission computation\n",
      "INFO    : Entering mission computation\n",
      "INFO    : Entering mission computation\n",
      "WARNING : Looping on wing area with new value equal to [16.07450977]\n",
      "D:\\fl.lutz\\FAST\\FAST-OAD\\FAST-GA\\src\\fastga\\models\\geometry\\geom_components\\nacelle\\compute_nacelle.py:96: UserWarning: Engine count and engine position do not match, change value in the xml\n",
      "  warnings.warn(\"Engine count and engine position do not match, change value in the xml\")\n",
      "WARNING : Ratio of span on fuselage depth outside of the range in Roskam's book, value clipped\n",
      "WARNING : Area ratio value outside of the range in Roskam's book, value clipped\n"
     ]
    },
    {
     "name": "stdout",
     "output_type": "stream",
     "text": [
      "NL: NLBGS 16 ; 8.43059891 0.0490646868\n"
     ]
    },
    {
     "name": "stderr",
     "output_type": "stream",
     "text": [
      "WARNING : Chord ratio value outside of the range in Roskam's book, value clipped\n",
      "WARNING : Chord ratio value outside of the range in Roskam's book, value clipped\n",
      "WARNING : Chord ratio value outside of the range in Roskam's book, value clipped\n",
      "WARNING : Chord ratio value outside of the range in Roskam's book, value clipped\n",
      "WARNING : Ratio of span on fuselage depth outside of the range in Roskam's book, value clipped\n",
      "WARNING : Area ratio value outside of the range in Roskam's book, value clipped\n",
      "INFO    : Entering mission computation\n",
      "INFO    : Entering mission computation\n",
      "INFO    : Entering mission computation\n",
      "WARNING : Looping on wing area with new value equal to [16.07450665]\n",
      "D:\\fl.lutz\\FAST\\FAST-OAD\\FAST-GA\\src\\fastga\\models\\geometry\\geom_components\\nacelle\\compute_nacelle.py:96: UserWarning: Engine count and engine position do not match, change value in the xml\n",
      "  warnings.warn(\"Engine count and engine position do not match, change value in the xml\")\n",
      "WARNING : Ratio of span on fuselage depth outside of the range in Roskam's book, value clipped\n"
     ]
    },
    {
     "name": "stdout",
     "output_type": "stream",
     "text": [
      "NL: NLBGS 17 ; 3.85933325 0.0224606791\n"
     ]
    },
    {
     "name": "stderr",
     "output_type": "stream",
     "text": [
      "WARNING : Area ratio value outside of the range in Roskam's book, value clipped\n",
      "WARNING : Chord ratio value outside of the range in Roskam's book, value clipped\n",
      "WARNING : Chord ratio value outside of the range in Roskam's book, value clipped\n",
      "WARNING : Chord ratio value outside of the range in Roskam's book, value clipped\n",
      "WARNING : Chord ratio value outside of the range in Roskam's book, value clipped\n",
      "WARNING : Ratio of span on fuselage depth outside of the range in Roskam's book, value clipped\n",
      "WARNING : Area ratio value outside of the range in Roskam's book, value clipped\n",
      "INFO    : Entering mission computation\n",
      "INFO    : Entering mission computation\n",
      "INFO    : Entering mission computation\n",
      "WARNING : Looping on wing area with new value equal to [16.07450598]\n",
      "D:\\fl.lutz\\FAST\\FAST-OAD\\FAST-GA\\src\\fastga\\models\\geometry\\geom_components\\nacelle\\compute_nacelle.py:96: UserWarning: Engine count and engine position do not match, change value in the xml\n",
      "  warnings.warn(\"Engine count and engine position do not match, change value in the xml\")\n",
      "WARNING : Ratio of span on fuselage depth outside of the range in Roskam's book, value clipped\n",
      "WARNING : Area ratio value outside of the range in Roskam's book, value clipped\n"
     ]
    },
    {
     "name": "stdout",
     "output_type": "stream",
     "text": [
      "NL: NLBGS 18 ; 2.08531474 0.0121361858\n"
     ]
    },
    {
     "name": "stderr",
     "output_type": "stream",
     "text": [
      "WARNING : Chord ratio value outside of the range in Roskam's book, value clipped\n",
      "WARNING : Chord ratio value outside of the range in Roskam's book, value clipped\n",
      "WARNING : Chord ratio value outside of the range in Roskam's book, value clipped\n",
      "WARNING : Chord ratio value outside of the range in Roskam's book, value clipped\n",
      "WARNING : Ratio of span on fuselage depth outside of the range in Roskam's book, value clipped\n",
      "WARNING : Area ratio value outside of the range in Roskam's book, value clipped\n",
      "INFO    : Entering mission computation\n",
      "INFO    : Entering mission computation\n",
      "INFO    : Entering mission computation\n",
      "WARNING : Looping on wing area with new value equal to [16.07450632]\n",
      "D:\\fl.lutz\\FAST\\FAST-OAD\\FAST-GA\\src\\fastga\\models\\geometry\\geom_components\\nacelle\\compute_nacelle.py:96: UserWarning: Engine count and engine position do not match, change value in the xml\n",
      "  warnings.warn(\"Engine count and engine position do not match, change value in the xml\")\n",
      "WARNING : Ratio of span on fuselage depth outside of the range in Roskam's book, value clipped\n",
      "WARNING : Area ratio value outside of the range in Roskam's book, value clipped\n"
     ]
    },
    {
     "name": "stdout",
     "output_type": "stream",
     "text": [
      "NL: NLBGS 19 ; 1.80818484 0.0105233357\n"
     ]
    },
    {
     "name": "stderr",
     "output_type": "stream",
     "text": [
      "WARNING : Chord ratio value outside of the range in Roskam's book, value clipped\n",
      "WARNING : Chord ratio value outside of the range in Roskam's book, value clipped\n",
      "WARNING : Chord ratio value outside of the range in Roskam's book, value clipped\n",
      "WARNING : Chord ratio value outside of the range in Roskam's book, value clipped\n",
      "WARNING : Ratio of span on fuselage depth outside of the range in Roskam's book, value clipped\n",
      "WARNING : Area ratio value outside of the range in Roskam's book, value clipped\n",
      "INFO    : Entering mission computation\n",
      "INFO    : Entering mission computation\n",
      "INFO    : Entering mission computation\n",
      "WARNING : Looping on wing area with new value equal to [16.07450691]\n",
      "D:\\fl.lutz\\FAST\\FAST-OAD\\FAST-GA\\src\\fastga\\models\\geometry\\geom_components\\nacelle\\compute_nacelle.py:96: UserWarning: Engine count and engine position do not match, change value in the xml\n",
      "  warnings.warn(\"Engine count and engine position do not match, change value in the xml\")\n",
      "WARNING : Ratio of span on fuselage depth outside of the range in Roskam's book, value clipped\n",
      "WARNING : Area ratio value outside of the range in Roskam's book, value clipped\n"
     ]
    },
    {
     "name": "stdout",
     "output_type": "stream",
     "text": [
      "NL: NLBGS 20 ; 1.13523961 0.00660690614\n"
     ]
    },
    {
     "name": "stderr",
     "output_type": "stream",
     "text": [
      "WARNING : Chord ratio value outside of the range in Roskam's book, value clipped\n",
      "WARNING : Chord ratio value outside of the range in Roskam's book, value clipped\n",
      "WARNING : Chord ratio value outside of the range in Roskam's book, value clipped\n",
      "WARNING : Chord ratio value outside of the range in Roskam's book, value clipped\n",
      "WARNING : Ratio of span on fuselage depth outside of the range in Roskam's book, value clipped\n",
      "WARNING : Area ratio value outside of the range in Roskam's book, value clipped\n",
      "INFO    : Entering mission computation\n",
      "INFO    : Entering mission computation\n",
      "INFO    : Entering mission computation\n",
      "WARNING : Looping on wing area with new value equal to [16.07450744]\n",
      "D:\\fl.lutz\\FAST\\FAST-OAD\\FAST-GA\\src\\fastga\\models\\geometry\\geom_components\\nacelle\\compute_nacelle.py:96: UserWarning: Engine count and engine position do not match, change value in the xml\n",
      "  warnings.warn(\"Engine count and engine position do not match, change value in the xml\")\n",
      "WARNING : Ratio of span on fuselage depth outside of the range in Roskam's book, value clipped\n",
      "WARNING : Area ratio value outside of the range in Roskam's book, value clipped\n"
     ]
    },
    {
     "name": "stdout",
     "output_type": "stream",
     "text": [
      "NL: NLBGS 21 ; 0.866877055 0.00504508062\n"
     ]
    },
    {
     "name": "stderr",
     "output_type": "stream",
     "text": [
      "WARNING : Chord ratio value outside of the range in Roskam's book, value clipped\n",
      "WARNING : Chord ratio value outside of the range in Roskam's book, value clipped\n",
      "WARNING : Chord ratio value outside of the range in Roskam's book, value clipped\n",
      "WARNING : Chord ratio value outside of the range in Roskam's book, value clipped\n",
      "WARNING : Ratio of span on fuselage depth outside of the range in Roskam's book, value clipped\n",
      "WARNING : Area ratio value outside of the range in Roskam's book, value clipped\n",
      "INFO    : Entering mission computation\n",
      "INFO    : Entering mission computation\n",
      "INFO    : Entering mission computation\n",
      "WARNING : Looping on wing area with new value equal to [16.07450785]\n",
      "D:\\fl.lutz\\FAST\\FAST-OAD\\FAST-GA\\src\\fastga\\models\\geometry\\geom_components\\nacelle\\compute_nacelle.py:96: UserWarning: Engine count and engine position do not match, change value in the xml\n",
      "  warnings.warn(\"Engine count and engine position do not match, change value in the xml\")\n",
      "WARNING : Ratio of span on fuselage depth outside of the range in Roskam's book, value clipped\n",
      "WARNING : Area ratio value outside of the range in Roskam's book, value clipped\n"
     ]
    },
    {
     "name": "stdout",
     "output_type": "stream",
     "text": [
      "NL: NLBGS 22 ; 0.426853687 0.00248421763\n"
     ]
    },
    {
     "name": "stderr",
     "output_type": "stream",
     "text": [
      "WARNING : Chord ratio value outside of the range in Roskam's book, value clipped\n",
      "WARNING : Chord ratio value outside of the range in Roskam's book, value clipped\n",
      "WARNING : Chord ratio value outside of the range in Roskam's book, value clipped\n",
      "WARNING : Chord ratio value outside of the range in Roskam's book, value clipped\n",
      "WARNING : Ratio of span on fuselage depth outside of the range in Roskam's book, value clipped\n",
      "WARNING : Area ratio value outside of the range in Roskam's book, value clipped\n",
      "INFO    : Entering mission computation\n",
      "INFO    : Entering mission computation\n",
      "INFO    : Entering mission computation\n",
      "WARNING : Looping on wing area with new value equal to [16.07450812]\n",
      "D:\\fl.lutz\\FAST\\FAST-OAD\\FAST-GA\\src\\fastga\\models\\geometry\\geom_components\\nacelle\\compute_nacelle.py:96: UserWarning: Engine count and engine position do not match, change value in the xml\n",
      "  warnings.warn(\"Engine count and engine position do not match, change value in the xml\")\n",
      "WARNING : Ratio of span on fuselage depth outside of the range in Roskam's book, value clipped\n",
      "WARNING : Area ratio value outside of the range in Roskam's book, value clipped\n"
     ]
    },
    {
     "name": "stdout",
     "output_type": "stream",
     "text": [
      "NL: NLBGS 23 ; 0.351367334 0.00204489958\n"
     ]
    },
    {
     "name": "stderr",
     "output_type": "stream",
     "text": [
      "WARNING : Chord ratio value outside of the range in Roskam's book, value clipped\n",
      "WARNING : Chord ratio value outside of the range in Roskam's book, value clipped\n",
      "WARNING : Chord ratio value outside of the range in Roskam's book, value clipped\n",
      "WARNING : Chord ratio value outside of the range in Roskam's book, value clipped\n",
      "WARNING : Ratio of span on fuselage depth outside of the range in Roskam's book, value clipped\n",
      "WARNING : Area ratio value outside of the range in Roskam's book, value clipped\n",
      "INFO    : Entering mission computation\n",
      "INFO    : Entering mission computation\n",
      "INFO    : Entering mission computation\n",
      "WARNING : Looping on wing area with new value equal to [16.07450829]\n",
      "D:\\fl.lutz\\FAST\\FAST-OAD\\FAST-GA\\src\\fastga\\models\\geometry\\geom_components\\nacelle\\compute_nacelle.py:96: UserWarning: Engine count and engine position do not match, change value in the xml\n",
      "  warnings.warn(\"Engine count and engine position do not match, change value in the xml\")\n",
      "WARNING : Ratio of span on fuselage depth outside of the range in Roskam's book, value clipped\n",
      "WARNING : Area ratio value outside of the range in Roskam's book, value clipped\n"
     ]
    },
    {
     "name": "stdout",
     "output_type": "stream",
     "text": [
      "NL: NLBGS 24 ; 0.22710439 0.00132170987\n"
     ]
    },
    {
     "name": "stderr",
     "output_type": "stream",
     "text": [
      "WARNING : Chord ratio value outside of the range in Roskam's book, value clipped\n",
      "WARNING : Chord ratio value outside of the range in Roskam's book, value clipped\n",
      "WARNING : Chord ratio value outside of the range in Roskam's book, value clipped\n",
      "WARNING : Chord ratio value outside of the range in Roskam's book, value clipped\n",
      "WARNING : Ratio of span on fuselage depth outside of the range in Roskam's book, value clipped\n",
      "WARNING : Area ratio value outside of the range in Roskam's book, value clipped\n",
      "INFO    : Entering mission computation\n",
      "INFO    : Entering mission computation\n",
      "INFO    : Entering mission computation\n",
      "WARNING : Looping on wing area with new value equal to [16.07450842]\n"
     ]
    },
    {
     "name": "stdout",
     "output_type": "stream",
     "text": [
      "NL: NLBGS 25 ; 0.127730111 0.00074336805\n",
      "NL: NLBGS Converged\n"
     ]
    },
    {
     "name": "stderr",
     "output_type": "stream",
     "text": [
      "D:\\fl.lutz\\FAST\\FAST-OAD\\FAST-GA\\src\\fastga\\models\\geometry\\geom_components\\nacelle\\compute_nacelle.py:96: UserWarning: Engine count and engine position do not match, change value in the xml\n",
      "  warnings.warn(\"Engine count and engine position do not match, change value in the xml\")\n",
      "WARNING : Ratio of span on fuselage depth outside of the range in Roskam's book, value clipped\n",
      "WARNING : Area ratio value outside of the range in Roskam's book, value clipped\n",
      "WARNING : Chord ratio value outside of the range in Roskam's book, value clipped\n",
      "WARNING : Chord ratio value outside of the range in Roskam's book, value clipped\n",
      "WARNING : Chord ratio value outside of the range in Roskam's book, value clipped\n",
      "WARNING : Chord ratio value outside of the range in Roskam's book, value clipped\n",
      "WARNING : Ratio of span on fuselage depth outside of the range in Roskam's book, value clipped\n",
      "WARNING : Area ratio value outside of the range in Roskam's book, value clipped\n",
      "INFO    : Entering mission computation\n",
      "INFO    : Entering mission computation\n",
      "INFO    : Entering mission computation\n",
      "WARNING : Looping on wing area with new value equal to [16.07450848]\n",
      "D:\\fl.lutz\\FAST\\FAST-OAD\\FAST-GA\\src\\fastga\\models\\geometry\\geom_components\\nacelle\\compute_nacelle.py:96: UserWarning: Engine count and engine position do not match, change value in the xml\n",
      "  warnings.warn(\"Engine count and engine position do not match, change value in the xml\")\n",
      "WARNING : Ratio of span on fuselage depth outside of the range in Roskam's book, value clipped\n",
      "WARNING : Area ratio value outside of the range in Roskam's book, value clipped\n"
     ]
    },
    {
     "name": "stdout",
     "output_type": "stream",
     "text": [
      "NL: NLBGS 1 ; 238.305492 1\n"
     ]
    },
    {
     "name": "stderr",
     "output_type": "stream",
     "text": [
      "WARNING : Chord ratio value outside of the range in Roskam's book, value clipped\n",
      "WARNING : Chord ratio value outside of the range in Roskam's book, value clipped\n",
      "WARNING : Chord ratio value outside of the range in Roskam's book, value clipped\n",
      "WARNING : Chord ratio value outside of the range in Roskam's book, value clipped\n",
      "WARNING : Ratio of span on fuselage depth outside of the range in Roskam's book, value clipped\n",
      "WARNING : Area ratio value outside of the range in Roskam's book, value clipped\n",
      "INFO    : Entering mission computation\n",
      "INFO    : Entering mission computation\n",
      "INFO    : Entering mission computation\n",
      "WARNING : Looping on wing area with new value equal to [16.00385728]\n",
      "D:\\fl.lutz\\FAST\\FAST-OAD\\FAST-GA\\src\\fastga\\models\\geometry\\geom_components\\nacelle\\compute_nacelle.py:96: UserWarning: Engine count and engine position do not match, change value in the xml\n",
      "  warnings.warn(\"Engine count and engine position do not match, change value in the xml\")\n",
      "WARNING : Ratio of span on fuselage depth outside of the range in Roskam's book, value clipped\n",
      "WARNING : Area ratio value outside of the range in Roskam's book, value clipped\n"
     ]
    },
    {
     "name": "stdout",
     "output_type": "stream",
     "text": [
      "NL: NLBGS 2 ; 189869.941 796.750166\n"
     ]
    },
    {
     "name": "stderr",
     "output_type": "stream",
     "text": [
      "WARNING : Chord ratio value outside of the range in Roskam's book, value clipped\n",
      "WARNING : Chord ratio value outside of the range in Roskam's book, value clipped\n",
      "WARNING : Chord ratio value outside of the range in Roskam's book, value clipped\n",
      "WARNING : Chord ratio value outside of the range in Roskam's book, value clipped\n",
      "WARNING : Ratio of span on fuselage depth outside of the range in Roskam's book, value clipped\n",
      "WARNING : Area ratio value outside of the range in Roskam's book, value clipped\n",
      "INFO    : Entering mission computation\n",
      "INFO    : Entering mission computation\n",
      "INFO    : Entering mission computation\n",
      "WARNING : Looping on wing area with new value equal to [16.00355481]\n",
      "D:\\fl.lutz\\FAST\\FAST-OAD\\FAST-GA\\src\\fastga\\models\\geometry\\geom_components\\nacelle\\compute_nacelle.py:96: UserWarning: Engine count and engine position do not match, change value in the xml\n",
      "  warnings.warn(\"Engine count and engine position do not match, change value in the xml\")\n",
      "WARNING : Ratio of span on fuselage depth outside of the range in Roskam's book, value clipped\n",
      "WARNING : Area ratio value outside of the range in Roskam's book, value clipped\n"
     ]
    },
    {
     "name": "stdout",
     "output_type": "stream",
     "text": [
      "NL: NLBGS 3 ; 23086.8117 96.8790585\n"
     ]
    },
    {
     "name": "stderr",
     "output_type": "stream",
     "text": [
      "WARNING : Chord ratio value outside of the range in Roskam's book, value clipped\n",
      "WARNING : Chord ratio value outside of the range in Roskam's book, value clipped\n",
      "WARNING : Chord ratio value outside of the range in Roskam's book, value clipped\n",
      "WARNING : Chord ratio value outside of the range in Roskam's book, value clipped\n",
      "WARNING : Ratio of span on fuselage depth outside of the range in Roskam's book, value clipped\n",
      "WARNING : Area ratio value outside of the range in Roskam's book, value clipped\n",
      "INFO    : Entering mission computation\n",
      "INFO    : Entering mission computation\n",
      "INFO    : Entering mission computation\n",
      "WARNING : Looping on wing area with new value equal to [15.99773178]\n",
      "D:\\fl.lutz\\FAST\\FAST-OAD\\FAST-GA\\src\\fastga\\models\\geometry\\geom_components\\nacelle\\compute_nacelle.py:96: UserWarning: Engine count and engine position do not match, change value in the xml\n",
      "  warnings.warn(\"Engine count and engine position do not match, change value in the xml\")\n",
      "WARNING : Ratio of span on fuselage depth outside of the range in Roskam's book, value clipped\n",
      "WARNING : Area ratio value outside of the range in Roskam's book, value clipped\n"
     ]
    },
    {
     "name": "stdout",
     "output_type": "stream",
     "text": [
      "NL: NLBGS 4 ; 41885.4589 175.763716\n"
     ]
    },
    {
     "name": "stderr",
     "output_type": "stream",
     "text": [
      "WARNING : Chord ratio value outside of the range in Roskam's book, value clipped\n",
      "WARNING : Chord ratio value outside of the range in Roskam's book, value clipped\n",
      "WARNING : Chord ratio value outside of the range in Roskam's book, value clipped\n",
      "WARNING : Chord ratio value outside of the range in Roskam's book, value clipped\n",
      "WARNING : Ratio of span on fuselage depth outside of the range in Roskam's book, value clipped\n",
      "WARNING : Area ratio value outside of the range in Roskam's book, value clipped\n",
      "INFO    : Entering mission computation\n",
      "INFO    : Entering mission computation\n",
      "INFO    : Entering mission computation\n",
      "WARNING : Looping on wing area with new value equal to [15.98865699]\n",
      "D:\\fl.lutz\\FAST\\FAST-OAD\\FAST-GA\\src\\fastga\\models\\geometry\\geom_components\\nacelle\\compute_nacelle.py:96: UserWarning: Engine count and engine position do not match, change value in the xml\n",
      "  warnings.warn(\"Engine count and engine position do not match, change value in the xml\")\n",
      "WARNING : Ratio of span on fuselage depth outside of the range in Roskam's book, value clipped\n",
      "WARNING : Area ratio value outside of the range in Roskam's book, value clipped\n"
     ]
    },
    {
     "name": "stdout",
     "output_type": "stream",
     "text": [
      "NL: NLBGS 5 ; 15015.1855 63.0081388\n"
     ]
    },
    {
     "name": "stderr",
     "output_type": "stream",
     "text": [
      "WARNING : Chord ratio value outside of the range in Roskam's book, value clipped\n",
      "WARNING : Chord ratio value outside of the range in Roskam's book, value clipped\n",
      "WARNING : Chord ratio value outside of the range in Roskam's book, value clipped\n",
      "WARNING : Chord ratio value outside of the range in Roskam's book, value clipped\n",
      "WARNING : Ratio of span on fuselage depth outside of the range in Roskam's book, value clipped\n",
      "WARNING : Area ratio value outside of the range in Roskam's book, value clipped\n",
      "INFO    : Entering mission computation\n",
      "INFO    : Entering mission computation\n",
      "INFO    : Entering mission computation\n",
      "WARNING : Looping on wing area with new value equal to [15.97908369]\n",
      "D:\\fl.lutz\\FAST\\FAST-OAD\\FAST-GA\\src\\fastga\\models\\geometry\\geom_components\\nacelle\\compute_nacelle.py:96: UserWarning: Engine count and engine position do not match, change value in the xml\n",
      "  warnings.warn(\"Engine count and engine position do not match, change value in the xml\")\n",
      "WARNING : Ratio of span on fuselage depth outside of the range in Roskam's book, value clipped\n",
      "WARNING : Area ratio value outside of the range in Roskam's book, value clipped\n"
     ]
    },
    {
     "name": "stdout",
     "output_type": "stream",
     "text": [
      "NL: NLBGS 6 ; 7047.09357 29.5716792\n"
     ]
    },
    {
     "name": "stderr",
     "output_type": "stream",
     "text": [
      "WARNING : Chord ratio value outside of the range in Roskam's book, value clipped\n",
      "WARNING : Chord ratio value outside of the range in Roskam's book, value clipped\n",
      "WARNING : Chord ratio value outside of the range in Roskam's book, value clipped\n",
      "WARNING : Chord ratio value outside of the range in Roskam's book, value clipped\n",
      "WARNING : Ratio of span on fuselage depth outside of the range in Roskam's book, value clipped\n",
      "WARNING : Area ratio value outside of the range in Roskam's book, value clipped\n",
      "INFO    : Entering mission computation\n",
      "INFO    : Entering mission computation\n",
      "INFO    : Entering mission computation\n",
      "WARNING : Looping on wing area with new value equal to [15.97428988]\n",
      "D:\\fl.lutz\\FAST\\FAST-OAD\\FAST-GA\\src\\fastga\\models\\geometry\\geom_components\\nacelle\\compute_nacelle.py:96: UserWarning: Engine count and engine position do not match, change value in the xml\n",
      "  warnings.warn(\"Engine count and engine position do not match, change value in the xml\")\n",
      "WARNING : Ratio of span on fuselage depth outside of the range in Roskam's book, value clipped\n",
      "WARNING : Area ratio value outside of the range in Roskam's book, value clipped\n"
     ]
    },
    {
     "name": "stdout",
     "output_type": "stream",
     "text": [
      "NL: NLBGS 7 ; 5104.06621 21.4181644\n"
     ]
    },
    {
     "name": "stderr",
     "output_type": "stream",
     "text": [
      "WARNING : Chord ratio value outside of the range in Roskam's book, value clipped\n",
      "WARNING : Chord ratio value outside of the range in Roskam's book, value clipped\n",
      "WARNING : Chord ratio value outside of the range in Roskam's book, value clipped\n",
      "WARNING : Chord ratio value outside of the range in Roskam's book, value clipped\n",
      "WARNING : Ratio of span on fuselage depth outside of the range in Roskam's book, value clipped\n",
      "WARNING : Area ratio value outside of the range in Roskam's book, value clipped\n",
      "INFO    : Entering mission computation\n",
      "INFO    : Entering mission computation\n",
      "INFO    : Entering mission computation\n",
      "WARNING : Looping on wing area with new value equal to [15.9712747]\n",
      "D:\\fl.lutz\\FAST\\FAST-OAD\\FAST-GA\\src\\fastga\\models\\geometry\\geom_components\\nacelle\\compute_nacelle.py:96: UserWarning: Engine count and engine position do not match, change value in the xml\n",
      "  warnings.warn(\"Engine count and engine position do not match, change value in the xml\")\n",
      "WARNING : Ratio of span on fuselage depth outside of the range in Roskam's book, value clipped\n"
     ]
    },
    {
     "name": "stdout",
     "output_type": "stream",
     "text": [
      "NL: NLBGS 8 ; 3653.23774 15.330061\n"
     ]
    },
    {
     "name": "stderr",
     "output_type": "stream",
     "text": [
      "WARNING : Area ratio value outside of the range in Roskam's book, value clipped\n",
      "WARNING : Chord ratio value outside of the range in Roskam's book, value clipped\n",
      "WARNING : Chord ratio value outside of the range in Roskam's book, value clipped\n",
      "WARNING : Chord ratio value outside of the range in Roskam's book, value clipped\n",
      "WARNING : Chord ratio value outside of the range in Roskam's book, value clipped\n",
      "WARNING : Ratio of span on fuselage depth outside of the range in Roskam's book, value clipped\n",
      "WARNING : Area ratio value outside of the range in Roskam's book, value clipped\n",
      "INFO    : Entering mission computation\n",
      "INFO    : Entering mission computation\n",
      "INFO    : Entering mission computation\n",
      "WARNING : Looping on wing area with new value equal to [15.96954237]\n",
      "D:\\fl.lutz\\FAST\\FAST-OAD\\FAST-GA\\src\\fastga\\models\\geometry\\geom_components\\nacelle\\compute_nacelle.py:96: UserWarning: Engine count and engine position do not match, change value in the xml\n",
      "  warnings.warn(\"Engine count and engine position do not match, change value in the xml\")\n",
      "WARNING : Ratio of span on fuselage depth outside of the range in Roskam's book, value clipped\n",
      "WARNING : Area ratio value outside of the range in Roskam's book, value clipped\n"
     ]
    },
    {
     "name": "stdout",
     "output_type": "stream",
     "text": [
      "NL: NLBGS 9 ; 1848.98391 7.7588808\n"
     ]
    },
    {
     "name": "stderr",
     "output_type": "stream",
     "text": [
      "WARNING : Chord ratio value outside of the range in Roskam's book, value clipped\n",
      "WARNING : Chord ratio value outside of the range in Roskam's book, value clipped\n",
      "WARNING : Chord ratio value outside of the range in Roskam's book, value clipped\n",
      "WARNING : Chord ratio value outside of the range in Roskam's book, value clipped\n",
      "WARNING : Ratio of span on fuselage depth outside of the range in Roskam's book, value clipped\n",
      "WARNING : Area ratio value outside of the range in Roskam's book, value clipped\n",
      "INFO    : Entering mission computation\n",
      "INFO    : Entering mission computation\n",
      "INFO    : Entering mission computation\n",
      "WARNING : Looping on wing area with new value equal to [15.96861685]\n",
      "D:\\fl.lutz\\FAST\\FAST-OAD\\FAST-GA\\src\\fastga\\models\\geometry\\geom_components\\nacelle\\compute_nacelle.py:96: UserWarning: Engine count and engine position do not match, change value in the xml\n",
      "  warnings.warn(\"Engine count and engine position do not match, change value in the xml\")\n"
     ]
    },
    {
     "name": "stdout",
     "output_type": "stream",
     "text": [
      "NL: NLBGS 10 ; 974.986269 4.09132941\n"
     ]
    },
    {
     "name": "stderr",
     "output_type": "stream",
     "text": [
      "WARNING : Ratio of span on fuselage depth outside of the range in Roskam's book, value clipped\n",
      "WARNING : Area ratio value outside of the range in Roskam's book, value clipped\n",
      "WARNING : Chord ratio value outside of the range in Roskam's book, value clipped\n",
      "WARNING : Chord ratio value outside of the range in Roskam's book, value clipped\n",
      "WARNING : Chord ratio value outside of the range in Roskam's book, value clipped\n",
      "WARNING : Chord ratio value outside of the range in Roskam's book, value clipped\n",
      "WARNING : Ratio of span on fuselage depth outside of the range in Roskam's book, value clipped\n",
      "WARNING : Area ratio value outside of the range in Roskam's book, value clipped\n",
      "INFO    : Entering mission computation\n",
      "INFO    : Entering mission computation\n",
      "INFO    : Entering mission computation\n",
      "WARNING : Looping on wing area with new value equal to [15.96811182]\n",
      "D:\\fl.lutz\\FAST\\FAST-OAD\\FAST-GA\\src\\fastga\\models\\geometry\\geom_components\\nacelle\\compute_nacelle.py:96: UserWarning: Engine count and engine position do not match, change value in the xml\n",
      "  warnings.warn(\"Engine count and engine position do not match, change value in the xml\")\n",
      "WARNING : Ratio of span on fuselage depth outside of the range in Roskam's book, value clipped\n",
      "WARNING : Area ratio value outside of the range in Roskam's book, value clipped\n"
     ]
    },
    {
     "name": "stdout",
     "output_type": "stream",
     "text": [
      "NL: NLBGS 11 ; 491.669349 2.06318933\n"
     ]
    },
    {
     "name": "stderr",
     "output_type": "stream",
     "text": [
      "WARNING : Chord ratio value outside of the range in Roskam's book, value clipped\n",
      "WARNING : Chord ratio value outside of the range in Roskam's book, value clipped\n",
      "WARNING : Chord ratio value outside of the range in Roskam's book, value clipped\n",
      "WARNING : Chord ratio value outside of the range in Roskam's book, value clipped\n",
      "WARNING : Ratio of span on fuselage depth outside of the range in Roskam's book, value clipped\n",
      "WARNING : Area ratio value outside of the range in Roskam's book, value clipped\n",
      "INFO    : Entering mission computation\n",
      "INFO    : Entering mission computation\n",
      "INFO    : Entering mission computation\n",
      "WARNING : Looping on wing area with new value equal to [15.96785561]\n",
      "D:\\fl.lutz\\FAST\\FAST-OAD\\FAST-GA\\src\\fastga\\models\\geometry\\geom_components\\nacelle\\compute_nacelle.py:96: UserWarning: Engine count and engine position do not match, change value in the xml\n",
      "  warnings.warn(\"Engine count and engine position do not match, change value in the xml\")\n",
      "WARNING : Ratio of span on fuselage depth outside of the range in Roskam's book, value clipped\n",
      "WARNING : Area ratio value outside of the range in Roskam's book, value clipped\n"
     ]
    },
    {
     "name": "stdout",
     "output_type": "stream",
     "text": [
      "NL: NLBGS 12 ; 238.040466 0.998887872\n"
     ]
    },
    {
     "name": "stderr",
     "output_type": "stream",
     "text": [
      "WARNING : Chord ratio value outside of the range in Roskam's book, value clipped\n",
      "WARNING : Chord ratio value outside of the range in Roskam's book, value clipped\n",
      "WARNING : Chord ratio value outside of the range in Roskam's book, value clipped\n",
      "WARNING : Chord ratio value outside of the range in Roskam's book, value clipped\n",
      "WARNING : Ratio of span on fuselage depth outside of the range in Roskam's book, value clipped\n",
      "WARNING : Area ratio value outside of the range in Roskam's book, value clipped\n",
      "INFO    : Entering mission computation\n",
      "INFO    : Entering mission computation\n",
      "INFO    : Entering mission computation\n",
      "WARNING : Looping on wing area with new value equal to [15.96773058]\n",
      "D:\\fl.lutz\\FAST\\FAST-OAD\\FAST-GA\\src\\fastga\\models\\geometry\\geom_components\\nacelle\\compute_nacelle.py:96: UserWarning: Engine count and engine position do not match, change value in the xml\n",
      "  warnings.warn(\"Engine count and engine position do not match, change value in the xml\")\n",
      "WARNING : Ratio of span on fuselage depth outside of the range in Roskam's book, value clipped\n",
      "WARNING : Area ratio value outside of the range in Roskam's book, value clipped\n"
     ]
    },
    {
     "name": "stdout",
     "output_type": "stream",
     "text": [
      "NL: NLBGS 13 ; 114.485604 0.480415296\n"
     ]
    },
    {
     "name": "stderr",
     "output_type": "stream",
     "text": [
      "WARNING : Chord ratio value outside of the range in Roskam's book, value clipped\n",
      "WARNING : Chord ratio value outside of the range in Roskam's book, value clipped\n",
      "WARNING : Chord ratio value outside of the range in Roskam's book, value clipped\n",
      "WARNING : Chord ratio value outside of the range in Roskam's book, value clipped\n",
      "WARNING : Ratio of span on fuselage depth outside of the range in Roskam's book, value clipped\n",
      "WARNING : Area ratio value outside of the range in Roskam's book, value clipped\n",
      "INFO    : Entering mission computation\n",
      "INFO    : Entering mission computation\n",
      "INFO    : Entering mission computation\n",
      "WARNING : Looping on wing area with new value equal to [15.96767302]\n",
      "D:\\fl.lutz\\FAST\\FAST-OAD\\FAST-GA\\src\\fastga\\models\\geometry\\geom_components\\nacelle\\compute_nacelle.py:96: UserWarning: Engine count and engine position do not match, change value in the xml\n",
      "  warnings.warn(\"Engine count and engine position do not match, change value in the xml\")\n",
      "WARNING : Ratio of span on fuselage depth outside of the range in Roskam's book, value clipped\n",
      "WARNING : Area ratio value outside of the range in Roskam's book, value clipped\n"
     ]
    },
    {
     "name": "stdout",
     "output_type": "stream",
     "text": [
      "NL: NLBGS 14 ; 52.0865148 0.21857035\n"
     ]
    },
    {
     "name": "stderr",
     "output_type": "stream",
     "text": [
      "WARNING : Chord ratio value outside of the range in Roskam's book, value clipped\n",
      "WARNING : Chord ratio value outside of the range in Roskam's book, value clipped\n",
      "WARNING : Chord ratio value outside of the range in Roskam's book, value clipped\n",
      "WARNING : Chord ratio value outside of the range in Roskam's book, value clipped\n",
      "WARNING : Ratio of span on fuselage depth outside of the range in Roskam's book, value clipped\n",
      "WARNING : Area ratio value outside of the range in Roskam's book, value clipped\n",
      "INFO    : Entering mission computation\n",
      "INFO    : Entering mission computation\n",
      "INFO    : Entering mission computation\n",
      "WARNING : Looping on wing area with new value equal to [15.96764804]\n",
      "D:\\fl.lutz\\FAST\\FAST-OAD\\FAST-GA\\src\\fastga\\models\\geometry\\geom_components\\nacelle\\compute_nacelle.py:96: UserWarning: Engine count and engine position do not match, change value in the xml\n",
      "  warnings.warn(\"Engine count and engine position do not match, change value in the xml\")\n",
      "WARNING : Ratio of span on fuselage depth outside of the range in Roskam's book, value clipped\n",
      "WARNING : Area ratio value outside of the range in Roskam's book, value clipped\n"
     ]
    },
    {
     "name": "stdout",
     "output_type": "stream",
     "text": [
      "NL: NLBGS 15 ; 22.5474097 0.094615569\n"
     ]
    },
    {
     "name": "stderr",
     "output_type": "stream",
     "text": [
      "WARNING : Chord ratio value outside of the range in Roskam's book, value clipped\n",
      "WARNING : Chord ratio value outside of the range in Roskam's book, value clipped\n",
      "WARNING : Chord ratio value outside of the range in Roskam's book, value clipped\n",
      "WARNING : Chord ratio value outside of the range in Roskam's book, value clipped\n",
      "WARNING : Ratio of span on fuselage depth outside of the range in Roskam's book, value clipped\n",
      "WARNING : Area ratio value outside of the range in Roskam's book, value clipped\n",
      "INFO    : Entering mission computation\n",
      "INFO    : Entering mission computation\n",
      "INFO    : Entering mission computation\n",
      "WARNING : Looping on wing area with new value equal to [15.96763837]\n",
      "D:\\fl.lutz\\FAST\\FAST-OAD\\FAST-GA\\src\\fastga\\models\\geometry\\geom_components\\nacelle\\compute_nacelle.py:96: UserWarning: Engine count and engine position do not match, change value in the xml\n",
      "  warnings.warn(\"Engine count and engine position do not match, change value in the xml\")\n",
      "WARNING : Ratio of span on fuselage depth outside of the range in Roskam's book, value clipped\n",
      "WARNING : Area ratio value outside of the range in Roskam's book, value clipped\n"
     ]
    },
    {
     "name": "stdout",
     "output_type": "stream",
     "text": [
      "NL: NLBGS 16 ; 9.48737206 0.0398118061\n"
     ]
    },
    {
     "name": "stderr",
     "output_type": "stream",
     "text": [
      "WARNING : Chord ratio value outside of the range in Roskam's book, value clipped\n",
      "WARNING : Chord ratio value outside of the range in Roskam's book, value clipped\n",
      "WARNING : Chord ratio value outside of the range in Roskam's book, value clipped\n",
      "WARNING : Chord ratio value outside of the range in Roskam's book, value clipped\n",
      "WARNING : Ratio of span on fuselage depth outside of the range in Roskam's book, value clipped\n",
      "WARNING : Area ratio value outside of the range in Roskam's book, value clipped\n",
      "INFO    : Entering mission computation\n",
      "INFO    : Entering mission computation\n",
      "INFO    : Entering mission computation\n",
      "WARNING : Looping on wing area with new value equal to [15.96763536]\n",
      "D:\\fl.lutz\\FAST\\FAST-OAD\\FAST-GA\\src\\fastga\\models\\geometry\\geom_components\\nacelle\\compute_nacelle.py:96: UserWarning: Engine count and engine position do not match, change value in the xml\n",
      "  warnings.warn(\"Engine count and engine position do not match, change value in the xml\")\n",
      "WARNING : Ratio of span on fuselage depth outside of the range in Roskam's book, value clipped\n",
      "WARNING : Area ratio value outside of the range in Roskam's book, value clipped\n"
     ]
    },
    {
     "name": "stdout",
     "output_type": "stream",
     "text": [
      "NL: NLBGS 17 ; 4.29950989 0.0180420092\n"
     ]
    },
    {
     "name": "stderr",
     "output_type": "stream",
     "text": [
      "WARNING : Chord ratio value outside of the range in Roskam's book, value clipped\n",
      "WARNING : Chord ratio value outside of the range in Roskam's book, value clipped\n",
      "WARNING : Chord ratio value outside of the range in Roskam's book, value clipped\n",
      "WARNING : Chord ratio value outside of the range in Roskam's book, value clipped\n",
      "WARNING : Ratio of span on fuselage depth outside of the range in Roskam's book, value clipped\n",
      "WARNING : Area ratio value outside of the range in Roskam's book, value clipped\n",
      "INFO    : Entering mission computation\n",
      "INFO    : Entering mission computation\n",
      "INFO    : Entering mission computation\n",
      "WARNING : Looping on wing area with new value equal to [15.96763493]\n",
      "D:\\fl.lutz\\FAST\\FAST-OAD\\FAST-GA\\src\\fastga\\models\\geometry\\geom_components\\nacelle\\compute_nacelle.py:96: UserWarning: Engine count and engine position do not match, change value in the xml\n",
      "  warnings.warn(\"Engine count and engine position do not match, change value in the xml\")\n",
      "WARNING : Ratio of span on fuselage depth outside of the range in Roskam's book, value clipped\n",
      "WARNING : Area ratio value outside of the range in Roskam's book, value clipped\n"
     ]
    },
    {
     "name": "stdout",
     "output_type": "stream",
     "text": [
      "NL: NLBGS 18 ; 2.39903481 0.0100670563\n"
     ]
    },
    {
     "name": "stderr",
     "output_type": "stream",
     "text": [
      "WARNING : Chord ratio value outside of the range in Roskam's book, value clipped\n",
      "WARNING : Chord ratio value outside of the range in Roskam's book, value clipped\n",
      "WARNING : Chord ratio value outside of the range in Roskam's book, value clipped\n",
      "WARNING : Chord ratio value outside of the range in Roskam's book, value clipped\n",
      "WARNING : Ratio of span on fuselage depth outside of the range in Roskam's book, value clipped\n",
      "WARNING : Area ratio value outside of the range in Roskam's book, value clipped\n",
      "INFO    : Entering mission computation\n",
      "INFO    : Entering mission computation\n",
      "INFO    : Entering mission computation\n",
      "WARNING : Looping on wing area with new value equal to [15.96763537]\n",
      "D:\\fl.lutz\\FAST\\FAST-OAD\\FAST-GA\\src\\fastga\\models\\geometry\\geom_components\\nacelle\\compute_nacelle.py:96: UserWarning: Engine count and engine position do not match, change value in the xml\n",
      "  warnings.warn(\"Engine count and engine position do not match, change value in the xml\")\n",
      "WARNING : Ratio of span on fuselage depth outside of the range in Roskam's book, value clipped\n",
      "WARNING : Area ratio value outside of the range in Roskam's book, value clipped\n"
     ]
    },
    {
     "name": "stdout",
     "output_type": "stream",
     "text": [
      "NL: NLBGS 19 ; 1.75192966 0.00735161259\n"
     ]
    },
    {
     "name": "stderr",
     "output_type": "stream",
     "text": [
      "WARNING : Chord ratio value outside of the range in Roskam's book, value clipped\n",
      "WARNING : Chord ratio value outside of the range in Roskam's book, value clipped\n",
      "WARNING : Chord ratio value outside of the range in Roskam's book, value clipped\n",
      "WARNING : Chord ratio value outside of the range in Roskam's book, value clipped\n",
      "WARNING : Ratio of span on fuselage depth outside of the range in Roskam's book, value clipped\n",
      "WARNING : Area ratio value outside of the range in Roskam's book, value clipped\n",
      "INFO    : Entering mission computation\n",
      "INFO    : Entering mission computation\n",
      "INFO    : Entering mission computation\n",
      "WARNING : Looping on wing area with new value equal to [15.96763597]\n",
      "D:\\fl.lutz\\FAST\\FAST-OAD\\FAST-GA\\src\\fastga\\models\\geometry\\geom_components\\nacelle\\compute_nacelle.py:96: UserWarning: Engine count and engine position do not match, change value in the xml\n",
      "  warnings.warn(\"Engine count and engine position do not match, change value in the xml\")\n",
      "WARNING : Ratio of span on fuselage depth outside of the range in Roskam's book, value clipped\n",
      "WARNING : Area ratio value outside of the range in Roskam's book, value clipped\n"
     ]
    },
    {
     "name": "stdout",
     "output_type": "stream",
     "text": [
      "NL: NLBGS 20 ; 1.00985795 0.00423766125\n"
     ]
    },
    {
     "name": "stderr",
     "output_type": "stream",
     "text": [
      "WARNING : Chord ratio value outside of the range in Roskam's book, value clipped\n",
      "WARNING : Chord ratio value outside of the range in Roskam's book, value clipped\n",
      "WARNING : Chord ratio value outside of the range in Roskam's book, value clipped\n",
      "WARNING : Chord ratio value outside of the range in Roskam's book, value clipped\n",
      "WARNING : Ratio of span on fuselage depth outside of the range in Roskam's book, value clipped\n",
      "WARNING : Area ratio value outside of the range in Roskam's book, value clipped\n",
      "INFO    : Entering mission computation\n",
      "INFO    : Entering mission computation\n",
      "INFO    : Entering mission computation\n",
      "WARNING : Looping on wing area with new value equal to [15.96763646]\n",
      "D:\\fl.lutz\\FAST\\FAST-OAD\\FAST-GA\\src\\fastga\\models\\geometry\\geom_components\\nacelle\\compute_nacelle.py:96: UserWarning: Engine count and engine position do not match, change value in the xml\n",
      "  warnings.warn(\"Engine count and engine position do not match, change value in the xml\")\n",
      "WARNING : Ratio of span on fuselage depth outside of the range in Roskam's book, value clipped\n",
      "WARNING : Area ratio value outside of the range in Roskam's book, value clipped\n"
     ]
    },
    {
     "name": "stdout",
     "output_type": "stream",
     "text": [
      "NL: NLBGS 21 ; 0.730813528 0.0030667087\n"
     ]
    },
    {
     "name": "stderr",
     "output_type": "stream",
     "text": [
      "WARNING : Chord ratio value outside of the range in Roskam's book, value clipped\n",
      "WARNING : Chord ratio value outside of the range in Roskam's book, value clipped\n",
      "WARNING : Chord ratio value outside of the range in Roskam's book, value clipped\n",
      "WARNING : Chord ratio value outside of the range in Roskam's book, value clipped\n",
      "WARNING : Ratio of span on fuselage depth outside of the range in Roskam's book, value clipped\n",
      "WARNING : Area ratio value outside of the range in Roskam's book, value clipped\n",
      "INFO    : Entering mission computation\n",
      "INFO    : Entering mission computation\n",
      "INFO    : Entering mission computation\n",
      "WARNING : Looping on wing area with new value equal to [15.96763681]\n",
      "D:\\fl.lutz\\FAST\\FAST-OAD\\FAST-GA\\src\\fastga\\models\\geometry\\geom_components\\nacelle\\compute_nacelle.py:96: UserWarning: Engine count and engine position do not match, change value in the xml\n",
      "  warnings.warn(\"Engine count and engine position do not match, change value in the xml\")\n",
      "WARNING : Ratio of span on fuselage depth outside of the range in Roskam's book, value clipped\n",
      "WARNING : Area ratio value outside of the range in Roskam's book, value clipped\n"
     ]
    },
    {
     "name": "stdout",
     "output_type": "stream",
     "text": [
      "NL: NLBGS 22 ; 0.317634649 0.0013328885\n"
     ]
    },
    {
     "name": "stderr",
     "output_type": "stream",
     "text": [
      "WARNING : Chord ratio value outside of the range in Roskam's book, value clipped\n",
      "WARNING : Chord ratio value outside of the range in Roskam's book, value clipped\n",
      "WARNING : Chord ratio value outside of the range in Roskam's book, value clipped\n",
      "WARNING : Chord ratio value outside of the range in Roskam's book, value clipped\n",
      "WARNING : Ratio of span on fuselage depth outside of the range in Roskam's book, value clipped\n",
      "WARNING : Area ratio value outside of the range in Roskam's book, value clipped\n",
      "INFO    : Entering mission computation\n",
      "INFO    : Entering mission computation\n",
      "INFO    : Entering mission computation\n",
      "WARNING : Looping on wing area with new value equal to [15.96763703]\n",
      "D:\\fl.lutz\\FAST\\FAST-OAD\\FAST-GA\\src\\fastga\\models\\geometry\\geom_components\\nacelle\\compute_nacelle.py:96: UserWarning: Engine count and engine position do not match, change value in the xml\n",
      "  warnings.warn(\"Engine count and engine position do not match, change value in the xml\")\n",
      "WARNING : Ratio of span on fuselage depth outside of the range in Roskam's book, value clipped\n",
      "WARNING : Area ratio value outside of the range in Roskam's book, value clipped\n"
     ]
    },
    {
     "name": "stdout",
     "output_type": "stream",
     "text": [
      "NL: NLBGS 23 ; 0.265756987 0.00111519455\n"
     ]
    },
    {
     "name": "stderr",
     "output_type": "stream",
     "text": [
      "WARNING : Chord ratio value outside of the range in Roskam's book, value clipped\n",
      "WARNING : Chord ratio value outside of the range in Roskam's book, value clipped\n",
      "WARNING : Chord ratio value outside of the range in Roskam's book, value clipped\n",
      "WARNING : Chord ratio value outside of the range in Roskam's book, value clipped\n",
      "WARNING : Ratio of span on fuselage depth outside of the range in Roskam's book, value clipped\n",
      "WARNING : Area ratio value outside of the range in Roskam's book, value clipped\n",
      "INFO    : Entering mission computation\n",
      "INFO    : Entering mission computation\n",
      "INFO    : Entering mission computation\n",
      "WARNING : Looping on wing area with new value equal to [15.96763716]\n"
     ]
    },
    {
     "name": "stdout",
     "output_type": "stream",
     "text": [
      "NL: NLBGS 24 ; 0.167365334 0.000702314213\n",
      "NL: NLBGS Converged\n"
     ]
    },
    {
     "name": "stderr",
     "output_type": "stream",
     "text": [
      "D:\\fl.lutz\\FAST\\FAST-OAD\\FAST-GA\\src\\fastga\\models\\geometry\\geom_components\\nacelle\\compute_nacelle.py:96: UserWarning: Engine count and engine position do not match, change value in the xml\n",
      "  warnings.warn(\"Engine count and engine position do not match, change value in the xml\")\n",
      "WARNING : Ratio of span on fuselage depth outside of the range in Roskam's book, value clipped\n",
      "WARNING : Area ratio value outside of the range in Roskam's book, value clipped\n",
      "WARNING : Chord ratio value outside of the range in Roskam's book, value clipped\n",
      "WARNING : Chord ratio value outside of the range in Roskam's book, value clipped\n",
      "WARNING : Chord ratio value outside of the range in Roskam's book, value clipped\n",
      "WARNING : Chord ratio value outside of the range in Roskam's book, value clipped\n",
      "WARNING : Ratio of span on fuselage depth outside of the range in Roskam's book, value clipped\n",
      "WARNING : Area ratio value outside of the range in Roskam's book, value clipped\n",
      "INFO    : Entering mission computation\n",
      "INFO    : Entering mission computation\n",
      "INFO    : Entering mission computation\n",
      "WARNING : Looping on wing area with new value equal to [15.96763724]\n",
      "D:\\fl.lutz\\FAST\\FAST-OAD\\FAST-GA\\src\\fastga\\models\\geometry\\geom_components\\nacelle\\compute_nacelle.py:96: UserWarning: Engine count and engine position do not match, change value in the xml\n",
      "  warnings.warn(\"Engine count and engine position do not match, change value in the xml\")\n",
      "WARNING : Ratio of span on fuselage depth outside of the range in Roskam's book, value clipped\n",
      "WARNING : Area ratio value outside of the range in Roskam's book, value clipped\n"
     ]
    },
    {
     "name": "stdout",
     "output_type": "stream",
     "text": [
      "NL: NLBGS 1 ; 72.4671734 1\n"
     ]
    },
    {
     "name": "stderr",
     "output_type": "stream",
     "text": [
      "WARNING : Chord ratio value outside of the range in Roskam's book, value clipped\n",
      "WARNING : Chord ratio value outside of the range in Roskam's book, value clipped\n",
      "WARNING : Chord ratio value outside of the range in Roskam's book, value clipped\n",
      "WARNING : Chord ratio value outside of the range in Roskam's book, value clipped\n",
      "WARNING : Ratio of span on fuselage depth outside of the range in Roskam's book, value clipped\n",
      "WARNING : Area ratio value outside of the range in Roskam's book, value clipped\n",
      "INFO    : Entering mission computation\n",
      "INFO    : Entering mission computation\n",
      "INFO    : Entering mission computation\n",
      "WARNING : Looping on wing area with new value equal to [15.94756292]\n",
      "D:\\fl.lutz\\FAST\\FAST-OAD\\FAST-GA\\src\\fastga\\models\\geometry\\geom_components\\nacelle\\compute_nacelle.py:96: UserWarning: Engine count and engine position do not match, change value in the xml\n",
      "  warnings.warn(\"Engine count and engine position do not match, change value in the xml\")\n",
      "WARNING : Ratio of span on fuselage depth outside of the range in Roskam's book, value clipped\n",
      "WARNING : Area ratio value outside of the range in Roskam's book, value clipped\n"
     ]
    },
    {
     "name": "stdout",
     "output_type": "stream",
     "text": [
      "NL: NLBGS 2 ; 57225.5464 789.675432\n"
     ]
    },
    {
     "name": "stderr",
     "output_type": "stream",
     "text": [
      "WARNING : Chord ratio value outside of the range in Roskam's book, value clipped\n",
      "WARNING : Chord ratio value outside of the range in Roskam's book, value clipped\n",
      "WARNING : Chord ratio value outside of the range in Roskam's book, value clipped\n",
      "WARNING : Chord ratio value outside of the range in Roskam's book, value clipped\n",
      "WARNING : Ratio of span on fuselage depth outside of the range in Roskam's book, value clipped\n",
      "WARNING : Area ratio value outside of the range in Roskam's book, value clipped\n",
      "INFO    : Entering mission computation\n",
      "INFO    : Entering mission computation\n",
      "INFO    : Entering mission computation\n",
      "WARNING : Looping on wing area with new value equal to [15.94924272]\n",
      "D:\\fl.lutz\\FAST\\FAST-OAD\\FAST-GA\\src\\fastga\\models\\geometry\\geom_components\\nacelle\\compute_nacelle.py:96: UserWarning: Engine count and engine position do not match, change value in the xml\n",
      "  warnings.warn(\"Engine count and engine position do not match, change value in the xml\")\n",
      "WARNING : Ratio of span on fuselage depth outside of the range in Roskam's book, value clipped\n",
      "WARNING : Area ratio value outside of the range in Roskam's book, value clipped\n"
     ]
    },
    {
     "name": "stdout",
     "output_type": "stream",
     "text": [
      "NL: NLBGS 3 ; 6798.01988 93.808266\n"
     ]
    },
    {
     "name": "stderr",
     "output_type": "stream",
     "text": [
      "WARNING : Chord ratio value outside of the range in Roskam's book, value clipped\n",
      "WARNING : Chord ratio value outside of the range in Roskam's book, value clipped\n",
      "WARNING : Chord ratio value outside of the range in Roskam's book, value clipped\n",
      "WARNING : Chord ratio value outside of the range in Roskam's book, value clipped\n",
      "WARNING : Ratio of span on fuselage depth outside of the range in Roskam's book, value clipped\n",
      "WARNING : Area ratio value outside of the range in Roskam's book, value clipped\n",
      "INFO    : Entering mission computation\n",
      "INFO    : Entering mission computation\n",
      "INFO    : Entering mission computation\n",
      "WARNING : Looping on wing area with new value equal to [15.94812679]\n",
      "D:\\fl.lutz\\FAST\\FAST-OAD\\FAST-GA\\src\\fastga\\models\\geometry\\geom_components\\nacelle\\compute_nacelle.py:96: UserWarning: Engine count and engine position do not match, change value in the xml\n",
      "  warnings.warn(\"Engine count and engine position do not match, change value in the xml\")\n",
      "WARNING : Ratio of span on fuselage depth outside of the range in Roskam's book, value clipped\n",
      "WARNING : Area ratio value outside of the range in Roskam's book, value clipped\n"
     ]
    },
    {
     "name": "stdout",
     "output_type": "stream",
     "text": [
      "NL: NLBGS 4 ; 10340.822 142.696638\n"
     ]
    },
    {
     "name": "stderr",
     "output_type": "stream",
     "text": [
      "WARNING : Chord ratio value outside of the range in Roskam's book, value clipped\n",
      "WARNING : Chord ratio value outside of the range in Roskam's book, value clipped\n",
      "WARNING : Chord ratio value outside of the range in Roskam's book, value clipped\n",
      "WARNING : Chord ratio value outside of the range in Roskam's book, value clipped\n",
      "WARNING : Ratio of span on fuselage depth outside of the range in Roskam's book, value clipped\n",
      "WARNING : Area ratio value outside of the range in Roskam's book, value clipped\n",
      "INFO    : Entering mission computation\n",
      "INFO    : Entering mission computation\n",
      "INFO    : Entering mission computation\n",
      "WARNING : Looping on wing area with new value equal to [15.94628742]\n",
      "D:\\fl.lutz\\FAST\\FAST-OAD\\FAST-GA\\src\\fastga\\models\\geometry\\geom_components\\nacelle\\compute_nacelle.py:96: UserWarning: Engine count and engine position do not match, change value in the xml\n",
      "  warnings.warn(\"Engine count and engine position do not match, change value in the xml\")\n",
      "WARNING : Ratio of span on fuselage depth outside of the range in Roskam's book, value clipped\n",
      "WARNING : Area ratio value outside of the range in Roskam's book, value clipped\n"
     ]
    },
    {
     "name": "stdout",
     "output_type": "stream",
     "text": [
      "NL: NLBGS 5 ; 3047.908 42.059154\n"
     ]
    },
    {
     "name": "stderr",
     "output_type": "stream",
     "text": [
      "WARNING : Chord ratio value outside of the range in Roskam's book, value clipped\n",
      "WARNING : Chord ratio value outside of the range in Roskam's book, value clipped\n",
      "WARNING : Chord ratio value outside of the range in Roskam's book, value clipped\n",
      "WARNING : Chord ratio value outside of the range in Roskam's book, value clipped\n",
      "WARNING : Ratio of span on fuselage depth outside of the range in Roskam's book, value clipped\n",
      "WARNING : Area ratio value outside of the range in Roskam's book, value clipped\n",
      "INFO    : Entering mission computation\n",
      "INFO    : Entering mission computation\n",
      "INFO    : Entering mission computation\n",
      "WARNING : Looping on wing area with new value equal to [15.94479442]\n",
      "D:\\fl.lutz\\FAST\\FAST-OAD\\FAST-GA\\src\\fastga\\models\\geometry\\geom_components\\nacelle\\compute_nacelle.py:96: UserWarning: Engine count and engine position do not match, change value in the xml\n",
      "  warnings.warn(\"Engine count and engine position do not match, change value in the xml\")\n",
      "WARNING : Ratio of span on fuselage depth outside of the range in Roskam's book, value clipped\n",
      "WARNING : Area ratio value outside of the range in Roskam's book, value clipped\n"
     ]
    },
    {
     "name": "stdout",
     "output_type": "stream",
     "text": [
      "NL: NLBGS 6 ; 1491.49579 20.5816748\n"
     ]
    },
    {
     "name": "stderr",
     "output_type": "stream",
     "text": [
      "WARNING : Chord ratio value outside of the range in Roskam's book, value clipped\n",
      "WARNING : Chord ratio value outside of the range in Roskam's book, value clipped\n",
      "WARNING : Chord ratio value outside of the range in Roskam's book, value clipped\n",
      "WARNING : Chord ratio value outside of the range in Roskam's book, value clipped\n",
      "WARNING : Ratio of span on fuselage depth outside of the range in Roskam's book, value clipped\n",
      "WARNING : Area ratio value outside of the range in Roskam's book, value clipped\n",
      "INFO    : Entering mission computation\n",
      "INFO    : Entering mission computation\n",
      "INFO    : Entering mission computation\n",
      "WARNING : Looping on wing area with new value equal to [15.94391498]\n",
      "D:\\fl.lutz\\FAST\\FAST-OAD\\FAST-GA\\src\\fastga\\models\\geometry\\geom_components\\nacelle\\compute_nacelle.py:96: UserWarning: Engine count and engine position do not match, change value in the xml\n",
      "  warnings.warn(\"Engine count and engine position do not match, change value in the xml\")\n",
      "WARNING : Ratio of span on fuselage depth outside of the range in Roskam's book, value clipped\n",
      "WARNING : Area ratio value outside of the range in Roskam's book, value clipped\n"
     ]
    },
    {
     "name": "stdout",
     "output_type": "stream",
     "text": [
      "NL: NLBGS 7 ; 1011.79736 13.9621474\n"
     ]
    },
    {
     "name": "stderr",
     "output_type": "stream",
     "text": [
      "WARNING : Chord ratio value outside of the range in Roskam's book, value clipped\n",
      "WARNING : Chord ratio value outside of the range in Roskam's book, value clipped\n",
      "WARNING : Chord ratio value outside of the range in Roskam's book, value clipped\n",
      "WARNING : Chord ratio value outside of the range in Roskam's book, value clipped\n",
      "WARNING : Ratio of span on fuselage depth outside of the range in Roskam's book, value clipped\n",
      "WARNING : Area ratio value outside of the range in Roskam's book, value clipped\n",
      "INFO    : Entering mission computation\n",
      "INFO    : Entering mission computation\n",
      "INFO    : Entering mission computation\n",
      "WARNING : Looping on wing area with new value equal to [15.94337635]\n",
      "D:\\fl.lutz\\FAST\\FAST-OAD\\FAST-GA\\src\\fastga\\models\\geometry\\geom_components\\nacelle\\compute_nacelle.py:96: UserWarning: Engine count and engine position do not match, change value in the xml\n",
      "  warnings.warn(\"Engine count and engine position do not match, change value in the xml\")\n",
      "WARNING : Ratio of span on fuselage depth outside of the range in Roskam's book, value clipped\n",
      "WARNING : Area ratio value outside of the range in Roskam's book, value clipped\n"
     ]
    },
    {
     "name": "stdout",
     "output_type": "stream",
     "text": [
      "NL: NLBGS 8 ; 635.084672 8.76375664\n"
     ]
    },
    {
     "name": "stderr",
     "output_type": "stream",
     "text": [
      "WARNING : Chord ratio value outside of the range in Roskam's book, value clipped\n",
      "WARNING : Chord ratio value outside of the range in Roskam's book, value clipped\n",
      "WARNING : Chord ratio value outside of the range in Roskam's book, value clipped\n",
      "WARNING : Chord ratio value outside of the range in Roskam's book, value clipped\n",
      "WARNING : Ratio of span on fuselage depth outside of the range in Roskam's book, value clipped\n",
      "WARNING : Area ratio value outside of the range in Roskam's book, value clipped\n",
      "INFO    : Entering mission computation\n",
      "INFO    : Entering mission computation\n",
      "INFO    : Entering mission computation\n",
      "WARNING : Looping on wing area with new value equal to [15.94305994]\n",
      "D:\\fl.lutz\\FAST\\FAST-OAD\\FAST-GA\\src\\fastga\\models\\geometry\\geom_components\\nacelle\\compute_nacelle.py:96: UserWarning: Engine count and engine position do not match, change value in the xml\n",
      "  warnings.warn(\"Engine count and engine position do not match, change value in the xml\")\n",
      "WARNING : Ratio of span on fuselage depth outside of the range in Roskam's book, value clipped\n",
      "WARNING : Area ratio value outside of the range in Roskam's book, value clipped\n"
     ]
    },
    {
     "name": "stdout",
     "output_type": "stream",
     "text": [
      "NL: NLBGS 9 ; 339.040339 4.67853683\n"
     ]
    },
    {
     "name": "stderr",
     "output_type": "stream",
     "text": [
      "WARNING : Chord ratio value outside of the range in Roskam's book, value clipped\n",
      "WARNING : Chord ratio value outside of the range in Roskam's book, value clipped\n",
      "WARNING : Chord ratio value outside of the range in Roskam's book, value clipped\n",
      "WARNING : Chord ratio value outside of the range in Roskam's book, value clipped\n",
      "WARNING : Ratio of span on fuselage depth outside of the range in Roskam's book, value clipped\n",
      "WARNING : Area ratio value outside of the range in Roskam's book, value clipped\n",
      "INFO    : Entering mission computation\n",
      "INFO    : Entering mission computation\n",
      "INFO    : Entering mission computation\n",
      "WARNING : Looping on wing area with new value equal to [15.94288211]\n",
      "D:\\fl.lutz\\FAST\\FAST-OAD\\FAST-GA\\src\\fastga\\models\\geometry\\geom_components\\nacelle\\compute_nacelle.py:96: UserWarning: Engine count and engine position do not match, change value in the xml\n",
      "  warnings.warn(\"Engine count and engine position do not match, change value in the xml\")\n",
      "WARNING : Ratio of span on fuselage depth outside of the range in Roskam's book, value clipped\n",
      "WARNING : Area ratio value outside of the range in Roskam's book, value clipped\n"
     ]
    },
    {
     "name": "stdout",
     "output_type": "stream",
     "text": [
      "NL: NLBGS 10 ; 179.526756 2.47735281\n"
     ]
    },
    {
     "name": "stderr",
     "output_type": "stream",
     "text": [
      "WARNING : Chord ratio value outside of the range in Roskam's book, value clipped\n",
      "WARNING : Chord ratio value outside of the range in Roskam's book, value clipped\n",
      "WARNING : Chord ratio value outside of the range in Roskam's book, value clipped\n",
      "WARNING : Chord ratio value outside of the range in Roskam's book, value clipped\n",
      "WARNING : Ratio of span on fuselage depth outside of the range in Roskam's book, value clipped\n",
      "WARNING : Area ratio value outside of the range in Roskam's book, value clipped\n",
      "INFO    : Entering mission computation\n",
      "INFO    : Entering mission computation\n",
      "INFO    : Entering mission computation\n",
      "WARNING : Looping on wing area with new value equal to [15.9427872]\n",
      "D:\\fl.lutz\\FAST\\FAST-OAD\\FAST-GA\\src\\fastga\\models\\geometry\\geom_components\\nacelle\\compute_nacelle.py:96: UserWarning: Engine count and engine position do not match, change value in the xml\n",
      "  warnings.warn(\"Engine count and engine position do not match, change value in the xml\")\n",
      "WARNING : Ratio of span on fuselage depth outside of the range in Roskam's book, value clipped\n",
      "WARNING : Area ratio value outside of the range in Roskam's book, value clipped\n"
     ]
    },
    {
     "name": "stdout",
     "output_type": "stream",
     "text": [
      "NL: NLBGS 11 ; 93.4903905 1.29010676\n"
     ]
    },
    {
     "name": "stderr",
     "output_type": "stream",
     "text": [
      "WARNING : Chord ratio value outside of the range in Roskam's book, value clipped\n",
      "WARNING : Chord ratio value outside of the range in Roskam's book, value clipped\n",
      "WARNING : Chord ratio value outside of the range in Roskam's book, value clipped\n",
      "WARNING : Chord ratio value outside of the range in Roskam's book, value clipped\n",
      "WARNING : Ratio of span on fuselage depth outside of the range in Roskam's book, value clipped\n",
      "WARNING : Area ratio value outside of the range in Roskam's book, value clipped\n",
      "INFO    : Entering mission computation\n",
      "INFO    : Entering mission computation\n",
      "INFO    : Entering mission computation\n",
      "WARNING : Looping on wing area with new value equal to [15.94273827]\n",
      "D:\\fl.lutz\\FAST\\FAST-OAD\\FAST-GA\\src\\fastga\\models\\geometry\\geom_components\\nacelle\\compute_nacelle.py:96: UserWarning: Engine count and engine position do not match, change value in the xml\n",
      "  warnings.warn(\"Engine count and engine position do not match, change value in the xml\")\n",
      "WARNING : Ratio of span on fuselage depth outside of the range in Roskam's book, value clipped\n",
      "WARNING : Area ratio value outside of the range in Roskam's book, value clipped\n"
     ]
    },
    {
     "name": "stdout",
     "output_type": "stream",
     "text": [
      "NL: NLBGS 12 ; 46.9928401 0.64847072\n"
     ]
    },
    {
     "name": "stderr",
     "output_type": "stream",
     "text": [
      "WARNING : Chord ratio value outside of the range in Roskam's book, value clipped\n",
      "WARNING : Chord ratio value outside of the range in Roskam's book, value clipped\n",
      "WARNING : Chord ratio value outside of the range in Roskam's book, value clipped\n",
      "WARNING : Chord ratio value outside of the range in Roskam's book, value clipped\n",
      "WARNING : Ratio of span on fuselage depth outside of the range in Roskam's book, value clipped\n",
      "WARNING : Area ratio value outside of the range in Roskam's book, value clipped\n",
      "INFO    : Entering mission computation\n",
      "INFO    : Entering mission computation\n",
      "INFO    : Entering mission computation\n",
      "WARNING : Looping on wing area with new value equal to [15.94271402]\n",
      "D:\\fl.lutz\\FAST\\FAST-OAD\\FAST-GA\\src\\fastga\\models\\geometry\\geom_components\\nacelle\\compute_nacelle.py:96: UserWarning: Engine count and engine position do not match, change value in the xml\n",
      "  warnings.warn(\"Engine count and engine position do not match, change value in the xml\")\n",
      "WARNING : Ratio of span on fuselage depth outside of the range in Roskam's book, value clipped\n",
      "WARNING : Area ratio value outside of the range in Roskam's book, value clipped\n"
     ]
    },
    {
     "name": "stdout",
     "output_type": "stream",
     "text": [
      "NL: NLBGS 13 ; 22.6192133 0.312130475\n"
     ]
    },
    {
     "name": "stderr",
     "output_type": "stream",
     "text": [
      "WARNING : Chord ratio value outside of the range in Roskam's book, value clipped\n",
      "WARNING : Chord ratio value outside of the range in Roskam's book, value clipped\n",
      "WARNING : Chord ratio value outside of the range in Roskam's book, value clipped\n",
      "WARNING : Chord ratio value outside of the range in Roskam's book, value clipped\n",
      "WARNING : Ratio of span on fuselage depth outside of the range in Roskam's book, value clipped\n",
      "WARNING : Area ratio value outside of the range in Roskam's book, value clipped\n",
      "INFO    : Entering mission computation\n",
      "INFO    : Entering mission computation\n",
      "INFO    : Entering mission computation\n",
      "WARNING : Looping on wing area with new value equal to [15.94270245]\n",
      "D:\\fl.lutz\\FAST\\FAST-OAD\\FAST-GA\\src\\fastga\\models\\geometry\\geom_components\\nacelle\\compute_nacelle.py:96: UserWarning: Engine count and engine position do not match, change value in the xml\n",
      "  warnings.warn(\"Engine count and engine position do not match, change value in the xml\")\n",
      "WARNING : Ratio of span on fuselage depth outside of the range in Roskam's book, value clipped\n",
      "WARNING : Area ratio value outside of the range in Roskam's book, value clipped\n"
     ]
    },
    {
     "name": "stdout",
     "output_type": "stream",
     "text": [
      "NL: NLBGS 14 ; 10.3211774 0.142425555\n"
     ]
    },
    {
     "name": "stderr",
     "output_type": "stream",
     "text": [
      "WARNING : Chord ratio value outside of the range in Roskam's book, value clipped\n",
      "WARNING : Chord ratio value outside of the range in Roskam's book, value clipped\n",
      "WARNING : Chord ratio value outside of the range in Roskam's book, value clipped\n",
      "WARNING : Chord ratio value outside of the range in Roskam's book, value clipped\n",
      "WARNING : Ratio of span on fuselage depth outside of the range in Roskam's book, value clipped\n",
      "WARNING : Area ratio value outside of the range in Roskam's book, value clipped\n",
      "INFO    : Entering mission computation\n",
      "INFO    : Entering mission computation\n",
      "INFO    : Entering mission computation\n",
      "WARNING : Looping on wing area with new value equal to [15.9426975]\n",
      "D:\\fl.lutz\\FAST\\FAST-OAD\\FAST-GA\\src\\fastga\\models\\geometry\\geom_components\\nacelle\\compute_nacelle.py:96: UserWarning: Engine count and engine position do not match, change value in the xml\n",
      "  warnings.warn(\"Engine count and engine position do not match, change value in the xml\")\n",
      "WARNING : Ratio of span on fuselage depth outside of the range in Roskam's book, value clipped\n",
      "WARNING : Area ratio value outside of the range in Roskam's book, value clipped\n"
     ]
    },
    {
     "name": "stdout",
     "output_type": "stream",
     "text": [
      "NL: NLBGS 15 ; 4.55709682 0.062884981\n"
     ]
    },
    {
     "name": "stderr",
     "output_type": "stream",
     "text": [
      "WARNING : Chord ratio value outside of the range in Roskam's book, value clipped\n",
      "WARNING : Chord ratio value outside of the range in Roskam's book, value clipped\n",
      "WARNING : Chord ratio value outside of the range in Roskam's book, value clipped\n",
      "WARNING : Chord ratio value outside of the range in Roskam's book, value clipped\n",
      "WARNING : Ratio of span on fuselage depth outside of the range in Roskam's book, value clipped\n",
      "WARNING : Area ratio value outside of the range in Roskam's book, value clipped\n",
      "INFO    : Entering mission computation\n",
      "INFO    : Entering mission computation\n",
      "INFO    : Entering mission computation\n",
      "WARNING : Looping on wing area with new value equal to [15.94269553]\n",
      "D:\\fl.lutz\\FAST\\FAST-OAD\\FAST-GA\\src\\fastga\\models\\geometry\\geom_components\\nacelle\\compute_nacelle.py:96: UserWarning: Engine count and engine position do not match, change value in the xml\n",
      "  warnings.warn(\"Engine count and engine position do not match, change value in the xml\")\n",
      "WARNING : Ratio of span on fuselage depth outside of the range in Roskam's book, value clipped\n",
      "WARNING : Area ratio value outside of the range in Roskam's book, value clipped\n"
     ]
    },
    {
     "name": "stdout",
     "output_type": "stream",
     "text": [
      "NL: NLBGS 16 ; 1.938348 0.0267479455\n"
     ]
    },
    {
     "name": "stderr",
     "output_type": "stream",
     "text": [
      "WARNING : Chord ratio value outside of the range in Roskam's book, value clipped\n",
      "WARNING : Chord ratio value outside of the range in Roskam's book, value clipped\n",
      "WARNING : Chord ratio value outside of the range in Roskam's book, value clipped\n",
      "WARNING : Chord ratio value outside of the range in Roskam's book, value clipped\n",
      "WARNING : Ratio of span on fuselage depth outside of the range in Roskam's book, value clipped\n",
      "WARNING : Area ratio value outside of the range in Roskam's book, value clipped\n",
      "INFO    : Entering mission computation\n",
      "INFO    : Entering mission computation\n",
      "INFO    : Entering mission computation\n",
      "WARNING : Looping on wing area with new value equal to [15.94269481]\n",
      "D:\\fl.lutz\\FAST\\FAST-OAD\\FAST-GA\\src\\fastga\\models\\geometry\\geom_components\\nacelle\\compute_nacelle.py:96: UserWarning: Engine count and engine position do not match, change value in the xml\n",
      "  warnings.warn(\"Engine count and engine position do not match, change value in the xml\")\n",
      "WARNING : Ratio of span on fuselage depth outside of the range in Roskam's book, value clipped\n",
      "WARNING : Area ratio value outside of the range in Roskam's book, value clipped\n"
     ]
    },
    {
     "name": "stdout",
     "output_type": "stream",
     "text": [
      "NL: NLBGS 17 ; 0.811874339 0.0112033394\n"
     ]
    },
    {
     "name": "stderr",
     "output_type": "stream",
     "text": [
      "WARNING : Chord ratio value outside of the range in Roskam's book, value clipped\n",
      "WARNING : Chord ratio value outside of the range in Roskam's book, value clipped\n",
      "WARNING : Chord ratio value outside of the range in Roskam's book, value clipped\n",
      "WARNING : Chord ratio value outside of the range in Roskam's book, value clipped\n",
      "WARNING : Ratio of span on fuselage depth outside of the range in Roskam's book, value clipped\n",
      "WARNING : Area ratio value outside of the range in Roskam's book, value clipped\n",
      "INFO    : Entering mission computation\n",
      "INFO    : Entering mission computation\n",
      "INFO    : Entering mission computation\n",
      "WARNING : Looping on wing area with new value equal to [15.94269466]\n",
      "D:\\fl.lutz\\FAST\\FAST-OAD\\FAST-GA\\src\\fastga\\models\\geometry\\geom_components\\nacelle\\compute_nacelle.py:96: UserWarning: Engine count and engine position do not match, change value in the xml\n",
      "  warnings.warn(\"Engine count and engine position do not match, change value in the xml\")\n",
      "WARNING : Ratio of span on fuselage depth outside of the range in Roskam's book, value clipped\n",
      "WARNING : Area ratio value outside of the range in Roskam's book, value clipped\n"
     ]
    },
    {
     "name": "stdout",
     "output_type": "stream",
     "text": [
      "NL: NLBGS 18 ; 0.50510053 0.00697005977\n"
     ]
    },
    {
     "name": "stderr",
     "output_type": "stream",
     "text": [
      "WARNING : Chord ratio value outside of the range in Roskam's book, value clipped\n",
      "WARNING : Chord ratio value outside of the range in Roskam's book, value clipped\n",
      "WARNING : Chord ratio value outside of the range in Roskam's book, value clipped\n",
      "WARNING : Chord ratio value outside of the range in Roskam's book, value clipped\n",
      "WARNING : Ratio of span on fuselage depth outside of the range in Roskam's book, value clipped\n",
      "WARNING : Area ratio value outside of the range in Roskam's book, value clipped\n",
      "INFO    : Entering mission computation\n",
      "INFO    : Entering mission computation\n",
      "INFO    : Entering mission computation\n",
      "INFO    : Entering mission computation\n",
      "WARNING : Looping on wing area with new value equal to [15.94269472]\n",
      "D:\\fl.lutz\\FAST\\FAST-OAD\\FAST-GA\\src\\fastga\\models\\geometry\\geom_components\\nacelle\\compute_nacelle.py:96: UserWarning: Engine count and engine position do not match, change value in the xml\n",
      "  warnings.warn(\"Engine count and engine position do not match, change value in the xml\")\n",
      "WARNING : Ratio of span on fuselage depth outside of the range in Roskam's book, value clipped\n",
      "WARNING : Area ratio value outside of the range in Roskam's book, value clipped\n"
     ]
    },
    {
     "name": "stdout",
     "output_type": "stream",
     "text": [
      "NL: NLBGS 19 ; 0.327779837 0.0045231492\n"
     ]
    },
    {
     "name": "stderr",
     "output_type": "stream",
     "text": [
      "WARNING : Chord ratio value outside of the range in Roskam's book, value clipped\n",
      "WARNING : Chord ratio value outside of the range in Roskam's book, value clipped\n",
      "WARNING : Chord ratio value outside of the range in Roskam's book, value clipped\n",
      "WARNING : Chord ratio value outside of the range in Roskam's book, value clipped\n",
      "WARNING : Ratio of span on fuselage depth outside of the range in Roskam's book, value clipped\n",
      "WARNING : Area ratio value outside of the range in Roskam's book, value clipped\n",
      "INFO    : Entering mission computation\n",
      "INFO    : Entering mission computation\n",
      "INFO    : Entering mission computation\n",
      "INFO    : Entering mission computation\n",
      "INFO    : Entering mission computation\n",
      "INFO    : Entering mission computation\n",
      "INFO    : Entering mission computation\n",
      "INFO    : Entering mission computation\n",
      "INFO    : Entering mission computation\n",
      "INFO    : Entering mission computation\n",
      "INFO    : Entering mission computation\n",
      "INFO    : Entering mission computation\n",
      "INFO    : Entering mission computation\n",
      "INFO    : Entering mission computation\n",
      "INFO    : Entering mission computation\n",
      "INFO    : Entering mission computation\n",
      "INFO    : Entering mission computation\n",
      "INFO    : Entering mission computation\n",
      "INFO    : Entering mission computation\n",
      "INFO    : Entering mission computation\n",
      "INFO    : Entering mission computation\n",
      "INFO    : Entering mission computation\n",
      "INFO    : Entering mission computation\n",
      "INFO    : Entering mission computation\n",
      "INFO    : Entering mission computation\n",
      "INFO    : Entering mission computation\n",
      "INFO    : Entering mission computation\n",
      "INFO    : Entering mission computation\n",
      "INFO    : Entering mission computation\n",
      "INFO    : Entering mission computation\n",
      "INFO    : Entering mission computation\n",
      "INFO    : Entering mission computation\n",
      "INFO    : Entering mission computation\n",
      "INFO    : Entering mission computation\n",
      "INFO    : Entering mission computation\n",
      "INFO    : Entering mission computation\n",
      "INFO    : Entering mission computation\n",
      "INFO    : Entering mission computation\n",
      "INFO    : Entering mission computation\n",
      "INFO    : Entering mission computation\n",
      "INFO    : Entering mission computation\n",
      "INFO    : Entering mission computation\n",
      "INFO    : Entering mission computation\n",
      "INFO    : Entering mission computation\n",
      "INFO    : Entering mission computation\n",
      "INFO    : Entering mission computation\n",
      "INFO    : Entering mission computation\n",
      "INFO    : Entering mission computation\n",
      "INFO    : Entering mission computation\n",
      "INFO    : Entering mission computation\n",
      "INFO    : Entering mission computation\n",
      "INFO    : Entering mission computation\n",
      "INFO    : Entering mission computation\n",
      "INFO    : Entering mission computation\n",
      "INFO    : Entering mission computation\n",
      "INFO    : Entering mission computation\n",
      "INFO    : Entering mission computation\n",
      "INFO    : Entering mission computation\n",
      "INFO    : Entering mission computation\n",
      "INFO    : Entering mission computation\n",
      "INFO    : Entering mission computation\n",
      "INFO    : Entering mission computation\n",
      "INFO    : Entering mission computation\n",
      "INFO    : Entering mission computation\n",
      "INFO    : Entering mission computation\n",
      "INFO    : Entering mission computation\n",
      "INFO    : Entering mission computation\n",
      "INFO    : Entering mission computation\n",
      "INFO    : Entering mission computation\n",
      "INFO    : Entering mission computation\n",
      "INFO    : Entering mission computation\n",
      "INFO    : Entering mission computation\n",
      "INFO    : Entering mission computation\n",
      "INFO    : Entering mission computation\n",
      "INFO    : Entering mission computation\n",
      "INFO    : Entering mission computation\n",
      "INFO    : Entering mission computation\n",
      "INFO    : Entering mission computation\n",
      "INFO    : Entering mission computation\n",
      "INFO    : Entering mission computation\n",
      "INFO    : Entering mission computation\n",
      "INFO    : Entering mission computation\n",
      "INFO    : Entering mission computation\n",
      "INFO    : Entering mission computation\n",
      "INFO    : Entering mission computation\n",
      "INFO    : Entering mission computation\n",
      "INFO    : Entering mission computation\n",
      "INFO    : Entering mission computation\n",
      "INFO    : Entering mission computation\n",
      "INFO    : Entering mission computation\n",
      "INFO    : Entering mission computation\n",
      "INFO    : Entering mission computation\n",
      "INFO    : Entering mission computation\n",
      "INFO    : Entering mission computation\n",
      "INFO    : Entering mission computation\n",
      "INFO    : Entering mission computation\n",
      "INFO    : Entering mission computation\n",
      "INFO    : Entering mission computation\n",
      "INFO    : Entering mission computation\n",
      "INFO    : Entering mission computation\n",
      "WARNING : Looping on wing area with new value equal to [15.94269482]\n"
     ]
    },
    {
     "name": "stdout",
     "output_type": "stream",
     "text": [
      "|  NL: NLBGSSolver 'NL: NLBGS' on system 'performance' failed to converge in 100 iterations.\n",
      "NL: NLBGS 20 ; 0.212615303 0.00293395331\n"
     ]
    },
    {
     "name": "stderr",
     "output_type": "stream",
     "text": [
      "D:\\fl.lutz\\FAST\\FAST-OAD\\FAST-GA\\src\\fastga\\models\\geometry\\geom_components\\nacelle\\compute_nacelle.py:96: UserWarning: Engine count and engine position do not match, change value in the xml\n",
      "  warnings.warn(\"Engine count and engine position do not match, change value in the xml\")\n",
      "WARNING : Ratio of span on fuselage depth outside of the range in Roskam's book, value clipped\n",
      "WARNING : Area ratio value outside of the range in Roskam's book, value clipped\n",
      "WARNING : Chord ratio value outside of the range in Roskam's book, value clipped\n",
      "WARNING : Chord ratio value outside of the range in Roskam's book, value clipped\n",
      "WARNING : Chord ratio value outside of the range in Roskam's book, value clipped\n",
      "WARNING : Chord ratio value outside of the range in Roskam's book, value clipped\n",
      "WARNING : Ratio of span on fuselage depth outside of the range in Roskam's book, value clipped\n",
      "WARNING : Area ratio value outside of the range in Roskam's book, value clipped\n",
      "INFO    : Entering mission computation\n",
      "INFO    : Entering mission computation\n",
      "INFO    : Entering mission computation\n",
      "INFO    : Entering mission computation\n",
      "WARNING : Looping on wing area with new value equal to [15.94269491]\n",
      "D:\\fl.lutz\\FAST\\FAST-OAD\\FAST-GA\\src\\fastga\\models\\geometry\\geom_components\\nacelle\\compute_nacelle.py:96: UserWarning: Engine count and engine position do not match, change value in the xml\n",
      "  warnings.warn(\"Engine count and engine position do not match, change value in the xml\")\n",
      "WARNING : Ratio of span on fuselage depth outside of the range in Roskam's book, value clipped\n",
      "WARNING : Area ratio value outside of the range in Roskam's book, value clipped\n"
     ]
    },
    {
     "name": "stdout",
     "output_type": "stream",
     "text": [
      "NL: NLBGS 21 ; 0.13610186 0.00187811742\n"
     ]
    },
    {
     "name": "stderr",
     "output_type": "stream",
     "text": [
      "WARNING : Chord ratio value outside of the range in Roskam's book, value clipped\n",
      "WARNING : Chord ratio value outside of the range in Roskam's book, value clipped\n",
      "WARNING : Chord ratio value outside of the range in Roskam's book, value clipped\n",
      "WARNING : Chord ratio value outside of the range in Roskam's book, value clipped\n",
      "WARNING : Ratio of span on fuselage depth outside of the range in Roskam's book, value clipped\n",
      "WARNING : Area ratio value outside of the range in Roskam's book, value clipped\n",
      "INFO    : Entering mission computation\n",
      "INFO    : Entering mission computation\n",
      "INFO    : Entering mission computation\n",
      "WARNING : Looping on wing area with new value equal to [15.94269498]\n",
      "D:\\fl.lutz\\FAST\\FAST-OAD\\FAST-GA\\src\\fastga\\models\\geometry\\geom_components\\nacelle\\compute_nacelle.py:96: UserWarning: Engine count and engine position do not match, change value in the xml\n",
      "  warnings.warn(\"Engine count and engine position do not match, change value in the xml\")\n",
      "WARNING : Ratio of span on fuselage depth outside of the range in Roskam's book, value clipped\n",
      "WARNING : Area ratio value outside of the range in Roskam's book, value clipped\n"
     ]
    },
    {
     "name": "stdout",
     "output_type": "stream",
     "text": [
      "NL: NLBGS 22 ; 0.0820824791 0.00113268498\n"
     ]
    },
    {
     "name": "stderr",
     "output_type": "stream",
     "text": [
      "WARNING : Chord ratio value outside of the range in Roskam's book, value clipped\n",
      "WARNING : Chord ratio value outside of the range in Roskam's book, value clipped\n",
      "WARNING : Chord ratio value outside of the range in Roskam's book, value clipped\n",
      "WARNING : Chord ratio value outside of the range in Roskam's book, value clipped\n",
      "WARNING : Ratio of span on fuselage depth outside of the range in Roskam's book, value clipped\n",
      "WARNING : Area ratio value outside of the range in Roskam's book, value clipped\n",
      "INFO    : Entering mission computation\n",
      "INFO    : Entering mission computation\n",
      "INFO    : Entering mission computation\n",
      "INFO    : Entering mission computation\n",
      "WARNING : Looping on wing area with new value equal to [15.94269502]\n"
     ]
    },
    {
     "name": "stdout",
     "output_type": "stream",
     "text": [
      "NL: NLBGS 23 ; 0.0493222344 0.000680614851\n",
      "NL: NLBGS Converged\n",
      "Optimization Complete\n",
      "-----------------------------------\n"
     ]
    },
    {
     "name": "stderr",
     "output_type": "stream",
     "text": [
      "INFO    : Computation finished after 4009.69 seconds\n",
      "INFO    : Problem outputs written in D:\\fl.lutz\\FAST\\FAST-OAD\\FAST-GA\\src\\fastga\\notebooks\\tutorial\\workdir\\problem_outputs.xml\n"
     ]
    }
   ],
   "source": [
    "optim_problem = api_cs25.optimize_problem(CONFIGURATION_FILE_MDO, overwrite=True)"
   ]
  },
  {
   "cell_type": "markdown",
   "metadata": {},
   "source": [
    "Let's save these results:"
   ]
  },
  {
   "cell_type": "code",
   "execution_count": 18,
   "metadata": {},
   "outputs": [
    {
     "data": {
      "text/plain": [
       "'workdir\\\\problem_outputs_Beechcraft_800nm_mdo.xml'"
      ]
     },
     "execution_count": 18,
     "metadata": {},
     "output_type": "execute_result"
    }
   ],
   "source": [
    "OUTPUT_FILE = pth.join(WORK_FOLDER_PATH, 'problem_outputs.xml')\n",
    "CeRAS_OPT_OUTPUT_FILE = pth.join(WORK_FOLDER_PATH, 'problem_outputs_Beechcraft_800nm_mdo.xml')\n",
    "shutil.copy(OUTPUT_FILE, CeRAS_OPT_OUTPUT_FILE)"
   ]
  },
  {
   "cell_type": "markdown",
   "metadata": {},
   "source": [
    "The `optimizer_viewer` offers a convenient summary of the optimization result:"
   ]
  },
  {
   "cell_type": "code",
   "execution_count": 19,
   "metadata": {},
   "outputs": [
    {
     "data": {
      "application/vnd.jupyter.widget-view+json": {
       "model_id": "dd10270b49dc4f5781a2d8ff79b3d420",
       "version_major": 2,
       "version_minor": 0
      },
      "text/plain": [
       "VBox(children=(HBox(children=(Button(description='Load', icon='upload', style=ButtonStyle(), tooltip='Load the…"
      ]
     },
     "metadata": {},
     "output_type": "display_data"
    }
   ],
   "source": [
    "api_cs25.optimization_viewer(CONFIGURATION_FILE_MDO)"
   ]
  },
  {
   "cell_type": "markdown",
   "metadata": {},
   "source": [
    "You can use the `VariableViewer` tool to see the optimization results for all variables of the system by loading the .xml output file:"
   ]
  },
  {
   "cell_type": "code",
   "execution_count": 20,
   "metadata": {},
   "outputs": [
    {
     "data": {
      "application/vnd.jupyter.widget-view+json": {
       "model_id": "ed61fb9ab3c84610a95b9d748e942799",
       "version_major": 2,
       "version_minor": 0
      },
      "text/plain": [
       "VBox(children=(HBox(children=(Button(description='Load', icon='upload', style=ButtonStyle(), tooltip='Load the…"
      ]
     },
     "metadata": {},
     "output_type": "display_data"
    }
   ],
   "source": [
    "RESULT_FILE = pth.join(WORK_FOLDER_PATH, 'problem_outputs.xml')\n",
    "api_cs25.variable_viewer(RESULT_FILE)"
   ]
  },
  {
   "cell_type": "code",
   "execution_count": null,
   "metadata": {},
   "outputs": [],
   "source": []
  }
 ],
 "metadata": {
  "kernelspec": {
   "display_name": "Python 3",
   "language": "python",
   "name": "python3"
  },
  "language_info": {
   "codemirror_mode": {
    "name": "ipython",
    "version": 3
   },
   "file_extension": ".py",
   "mimetype": "text/x-python",
   "name": "python",
   "nbconvert_exporter": "python",
   "pygments_lexer": "ipython3",
   "version": "3.8.10"
  }
 },
 "nbformat": 4,
 "nbformat_minor": 4
}
