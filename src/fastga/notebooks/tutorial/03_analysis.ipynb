{
 "cells": [
  {
   "cell_type": "markdown",
   "metadata": {},
   "source": [
    "<div class=\"row\">\n",
    "  <div class=\"column\">\n",
    "    <img src=\"./img/logo-onera.png\" width=\"200\">\n",
    "  </div>\n",
    "  <div class=\"column\">\n",
    "    <img src=\"./img/logo-ISAE_SUPAERO.png\" width=\"200\">\n",
    "  </div>\n",
    "</div>"
   ]
  },
  {
   "cell_type": "markdown",
   "metadata": {},
   "source": [
    "# FAST-OAD-GA Analysis mode Tutorial\n",
    "\n",
    "FAST-OAD-GA is an add-on package for [FAST-OAD framework](https://github.com/fast-aircraft-design/FAST-OAD) for performing rapid Overall Aircraft Design in the category General Aviation (GA). The computational core of FAST-OAD being based on the  [OpenMDAO framework](https://openmdao.org/).\n",
    "\n",
    "This notebook will show you the basic step to perform an aircraft analysis based on core models.\n",
    "\n",
    "To organize our work, we propose to use two user folders `data/` and `workdir/`. In `data/` we store the XML file which describes the aircraft to analyse, here the Beechcraft Duchess. In `workdir/`, we store files generated or modified by FAST-OAD-(GA)."
   ]
  },
  {
   "cell_type": "code",
   "execution_count": 1,
   "metadata": {
    "scrolled": true
   },
   "outputs": [
    {
     "name": "stderr",
     "output_type": "stream",
     "text": [
      "Failed to import module fastga.models.performances.unitary_tests.test_cirrus_sr22.py\n",
      "Failed to import module fastga.models.handling_qualities.unitary_tests.test_beechcraft_76.py\n",
      "Failed to import module fastga.models.aerodynamics.unitary_tests.test_beechcraft_76.py\n",
      "Failed to import module fastga.models.weight.cg.unitary_tests.test_beechcraft_76.py\n",
      "Failed to import module fastga.models.weight.mass_breakdown.unitary_tests.test_cirrus_sr22.py\n",
      "Failed to import module fastga.models.geometry.unitary_tests.test_beechcraft_76.py\n",
      "Failed to import module fastga.models.aerodynamics.unitary_tests.test_cirrus_sr22.py\n",
      "Failed to import module fastga.models.handling_qualities.unitary_tests.test_cirrus_sr22.py\n",
      "Failed to import module fastga.models.load_analysis.unitary_tests.test_beechcraft_76.py\n",
      "Failed to import module fastga.models.loops.unitary_tests.test_wing_area.py\n",
      "Failed to import module fastga.models.geometry.unitary_tests.test_cirrus_sr22.py\n",
      "Failed to import module fastga.models.weight.cg.unitary_tests.test_cirrus_sr22.py\n",
      "Failed to import module fastga.models.performances.unitary_tests.test_beechcraft_76.py\n",
      "Failed to import module fastga.models.propulsion.fuel_propulsion.basicIC_engine.unitary_tests.test_openmdao_engine.py\n",
      "Failed to import module fastga.models.load_analysis.unitary_tests.test_cirrus_sr22.py\n",
      "Failed to import module fastga.models.weight.mass_breakdown.unitary_tests.test_beechcraft_76.py\n"
     ]
    }
   ],
   "source": [
    "import os.path as pth\n",
    "import os\n",
    "import openmdao.api as om\n",
    "from fastoad import api as api_cs25\n",
    "from fastga.command import api as api_cs23\n",
    "import logging\n",
    "from fastoad.gui import VariableViewer\n",
    "import shutil\n",
    "\n",
    "# Define relative path\n",
    "DATA_FOLDER_PATH = 'data'\n",
    "WORK_FOLDER_PATH = 'workdir'\n",
    "\n",
    "# Final file names\n",
    "AIRCRAFT1_FILE = pth.join(WORK_FOLDER_PATH, 'geometry_reference.xml')\n",
    "AIRCRAFT2_FILE = pth.join(WORK_FOLDER_PATH, 'geometry_long_wing.xml')"
   ]
  },
  {
   "cell_type": "code",
   "execution_count": 2,
   "metadata": {},
   "outputs": [],
   "source": [
    "# Clear work folder\n",
    "shutil.rmtree(WORK_FOLDER_PATH, ignore_errors=True)\n",
    "os.mkdir(WORK_FOLDER_PATH)\n",
    "\n",
    "# For using all screen width\n",
    "#from IPython.core.display import display, HTML\n",
    "#display(HTML(\"<style>.container { width:95% !important; }</style>\"))"
   ]
  },
  {
   "cell_type": "markdown",
   "metadata": {},
   "source": [
    "## 1. Read, modify and save different aircraft geometry configurations\n",
    "\n",
    "In this paragraph we will first run the geometry module on the reference aircraft to derive primary parameters into the detailed geometry set.\n",
    "\n",
    "**This is done in four steps:**\n",
    "1. copy the [reference aircraft file](./data/reference_aircraft.xml) to workdir under geometry_inputs.xml name,\n",
    "2. copy the [geometry.toml file](./data/geometry.toml) to workdir,\n",
    "3. run process,\n",
    "4. save output file under the specific name: geometry_reference.xml."
   ]
  },
  {
   "cell_type": "code",
   "execution_count": 3,
   "metadata": {},
   "outputs": [
    {
     "name": "stderr",
     "output_type": "stream",
     "text": [
      "Error visiting fastga.models.aerodynamics.external.openvsp.compute_aero_slipstream_x57: Error installing bundle fastga.models.aerodynamics.external.openvsp.compute_aero_slipstream_x57: No module named 'fastga.models.aerodynamics.external.openvsp.compute_aero_slipstream_x57'\n",
      "Error visiting fastga.models.aerodynamics.external.openvsp.compute_vn: Error installing bundle fastga.models.aerodynamics.external.openvsp.compute_vn: No module named 'fastga.models.aerodynamics.external.openvsp.compute_vn'\n",
      "Error visiting fastga.models.aerodynamics.external.vlm.compute_vn: Error installing bundle fastga.models.aerodynamics.external.vlm.compute_vn: No module named 'fastga.models.aerodynamics.external.vlm.compute_vn'\n",
      "Error visiting fastga.models.aerodynamics.lift_equilibrium: Error installing bundle fastga.models.aerodynamics.lift_equilibrium: No module named 'fastga.models.aerodynamics.lift_equilibrium'\n",
      "Error visiting fastga.models.aerodynamics.unitary_tests.test_beechcraft_76: Error installing bundle fastga.models.aerodynamics.unitary_tests.test_beechcraft_76: No module named 'tests.testing_utilities'\n",
      "Error visiting fastga.models.aerodynamics.unitary_tests.test_cirrus_sr22: Error installing bundle fastga.models.aerodynamics.unitary_tests.test_cirrus_sr22: No module named 'tests.testing_utilities'\n",
      "Error visiting fastga.models.aerodynamics.unitary_tests.test_slipstream_x57: Error installing bundle fastga.models.aerodynamics.unitary_tests.test_slipstream_x57: No module named 'fastga.models.aerodynamics.unitary_tests.test_slipstream_x57'\n",
      "Error visiting fastga.models.geometry.unitary_tests.test_beechcraft_76: Error installing bundle fastga.models.geometry.unitary_tests.test_beechcraft_76: No module named 'tests.testing_utilities'\n",
      "Error visiting fastga.models.geometry.unitary_tests.test_cirrus_sr22: Error installing bundle fastga.models.geometry.unitary_tests.test_cirrus_sr22: No module named 'tests.testing_utilities'\n",
      "Error visiting fastga.models.handling_qualities.unitary_tests.test_beechcraft_76: Error installing bundle fastga.models.handling_qualities.unitary_tests.test_beechcraft_76: No module named 'tests.testing_utilities'\n",
      "Error visiting fastga.models.handling_qualities.unitary_tests.test_cirrus_sr22: Error installing bundle fastga.models.handling_qualities.unitary_tests.test_cirrus_sr22: No module named 'tests.testing_utilities'\n",
      "Error visiting fastga.models.load_analysis.aerodynamic_loads_x57: Error installing bundle fastga.models.load_analysis.aerodynamic_loads_x57: No module named 'fastga.models.load_analysis.aerodynamic_loads_x57'\n",
      "Error visiting fastga.models.load_analysis.aerostructural_loads_x57: Error installing bundle fastga.models.load_analysis.aerostructural_loads_x57: No module named 'fastga.models.load_analysis.aerostructural_loads_x57'\n",
      "Error visiting fastga.models.load_analysis.loads_x57: Error installing bundle fastga.models.load_analysis.loads_x57: No module named 'fastga.models.load_analysis.loads_x57'\n",
      "Error visiting fastga.models.load_analysis.structural_loads_x57: Error installing bundle fastga.models.load_analysis.structural_loads_x57: No module named 'fastga.models.load_analysis.structural_loads_x57'\n",
      "Error visiting fastga.models.load_analysis.unitary_tests.test_beechcraft_76: Error installing bundle fastga.models.load_analysis.unitary_tests.test_beechcraft_76: No module named 'tests.testing_utilities'\n",
      "Error visiting fastga.models.load_analysis.unitary_tests.test_cirrus_sr22: Error installing bundle fastga.models.load_analysis.unitary_tests.test_cirrus_sr22: No module named 'tests.testing_utilities'\n",
      "Error visiting fastga.models.load_analysis.unitary_tests.test_maxwell_x57: Error installing bundle fastga.models.load_analysis.unitary_tests.test_maxwell_x57: No module named 'fastga.models.load_analysis.unitary_tests.test_maxwell_x57'\n",
      "Error visiting fastga.models.loops.unitary_tests.test_wing_area: Error installing bundle fastga.models.loops.unitary_tests.test_wing_area: No module named 'tests.testing_utilities'\n",
      "Error visiting fastga.models.performances.unitary_tests.test_beechcraft_76: Error installing bundle fastga.models.performances.unitary_tests.test_beechcraft_76: No module named 'tests.testing_utilities'\n",
      "Error visiting fastga.models.performances.unitary_tests.test_cirrus_sr22: Error installing bundle fastga.models.performances.unitary_tests.test_cirrus_sr22: No module named 'tests.testing_utilities'\n",
      "Error visiting fastga.models.propulsion.fuel_propulsion.basicIC_engine.basicIC_engineOM: Error installing bundle fastga.models.propulsion.fuel_propulsion.basicIC_engine.basicIC_engineOM: No module named 'fastga.models.propulsion.fuel_propulsion.basicIC_engine.basicIC_engineOM'\n",
      "Error visiting fastga.models.propulsion.fuel_propulsion.basicIC_engine.unitary_tests.test_openmdao_engine: Error installing bundle fastga.models.propulsion.fuel_propulsion.basicIC_engine.unitary_tests.test_openmdao_engine: No module named 'tests.testing_utilities'\n",
      "Error visiting fastga.models.weight.cg.unitary_tests.test_beechcraft_76: Error installing bundle fastga.models.weight.cg.unitary_tests.test_beechcraft_76: No module named 'tests.testing_utilities'\n",
      "Error visiting fastga.models.weight.cg.unitary_tests.test_cirrus_sr22: Error installing bundle fastga.models.weight.cg.unitary_tests.test_cirrus_sr22: No module named 'tests.testing_utilities'\n",
      "Error visiting fastga.models.weight.mass_breakdown.unitary_tests.test_beechcraft_76: Error installing bundle fastga.models.weight.mass_breakdown.unitary_tests.test_beechcraft_76: No module named 'tests.testing_utilities'\n",
      "Error visiting fastga.models.weight.mass_breakdown.unitary_tests.test_cirrus_sr22: Error installing bundle fastga.models.weight.mass_breakdown.unitary_tests.test_cirrus_sr22: No module named 'tests.testing_utilities'\n",
      "Error visiting fastga.utils.physics.atmosphere: Error installing bundle fastga.utils.physics.atmosphere: No module named 'fastga.utils.physics.atmosphere'\n",
      "Error visiting fastga.utils.physics.tests.test_atmosphere: Error installing bundle fastga.utils.physics.tests.test_atmosphere: No module named 'fastga.utils.physics.tests.test_atmosphere'\n",
      "Failed to import module fastga.utils.physics.tests.test_atmosphere\n",
      "Failed to import module fastga.models.handling_qualities.unitary_tests.test_cirrus_sr22\n",
      "Failed to import module fastga.models.aerodynamics.lift_equilibrium\n",
      "Failed to import module fastga.models.load_analysis.unitary_tests.test_cirrus_sr22\n",
      "Failed to import module fastga.models.weight.cg.unitary_tests.test_beechcraft_76\n",
      "Failed to import module fastga.models.aerodynamics.unitary_tests.test_cirrus_sr22\n",
      "Failed to import module fastga.models.load_analysis.loads_x57\n",
      "Failed to import module fastga.models.geometry.unitary_tests.test_beechcraft_76\n",
      "Failed to import module fastga.models.loops.unitary_tests.test_wing_area\n",
      "Failed to import module fastga.utils.physics.atmosphere\n",
      "Failed to import module fastga.models.geometry.unitary_tests.test_cirrus_sr22\n",
      "Failed to import module fastga.models.performances.unitary_tests.test_cirrus_sr22\n",
      "Failed to import module fastga.models.performances.unitary_tests.test_beechcraft_76\n",
      "Failed to import module fastga.models.load_analysis.unitary_tests.test_maxwell_x57\n",
      "Failed to import module fastga.models.aerodynamics.external.vlm.compute_vn\n",
      "Failed to import module fastga.models.propulsion.fuel_propulsion.basicIC_engine.unitary_tests.test_openmdao_engine\n",
      "Failed to import module fastga.models.weight.mass_breakdown.unitary_tests.test_beechcraft_76\n",
      "Failed to import module fastga.models.aerodynamics.unitary_tests.test_beechcraft_76\n",
      "Failed to import module fastga.models.handling_qualities.unitary_tests.test_beechcraft_76\n",
      "Failed to import module fastga.models.aerodynamics.external.openvsp.compute_vn\n",
      "Failed to import module fastga.models.aerodynamics.unitary_tests.test_slipstream_x57\n",
      "Failed to import module fastga.models.propulsion.fuel_propulsion.basicIC_engine.basicIC_engineOM\n",
      "Failed to import module fastga.models.load_analysis.structural_loads_x57\n",
      "Failed to import module fastga.models.weight.mass_breakdown.unitary_tests.test_cirrus_sr22\n",
      "Failed to import module fastga.models.aerodynamics.external.openvsp.compute_aero_slipstream_x57\n",
      "Failed to import module fastga.models.load_analysis.unitary_tests.test_beechcraft_76\n"
     ]
    },
    {
     "name": "stderr",
     "output_type": "stream",
     "text": [
      "Failed to import module fastga.models.load_analysis.aerodynamic_loads_x57\n",
      "Failed to import module fastga.models.load_analysis.aerostructural_loads_x57\n",
      "Failed to import module fastga.models.weight.cg.unitary_tests.test_cirrus_sr22\n"
     ]
    },
    {
     "data": {
      "application/vnd.jupyter.widget-view+json": {
       "model_id": "d9dae4a502f245a297f152d355d235e7",
       "version_major": 2,
       "version_minor": 0
      },
      "text/plain": [
       "VBox(children=(HBox(children=(Button(description='Load', icon='upload', style=ButtonStyle(), tooltip='Load the…"
      ]
     },
     "metadata": {},
     "output_type": "display_data"
    }
   ],
   "source": [
    "# Copy the reference geometry file (limited input parameters) as input file (name specified in .toml)\n",
    "shutil.copy(pth.join(DATA_FOLDER_PATH, 'reference_aircraft.xml'), pth.join(WORK_FOLDER_PATH, 'geometry_inputs.xml'))\n",
    "\n",
    "# Copy the .toml process file to the workdir\n",
    "CONFIGURATION_FILE = pth.join(WORK_FOLDER_PATH, 'geometry.yml')\n",
    "shutil.copy(pth.join(DATA_FOLDER_PATH, 'geometry.yml'), CONFIGURATION_FILE)\n",
    "\n",
    "# Launch an evaluation to obtain the output file (name specified in the .toml)\n",
    "eval_problem = api_cs25.evaluate_problem(CONFIGURATION_FILE, overwrite=True)\n",
    "\n",
    "# Copy this file to a different name to avoid an overwritte when computing secong geometry\n",
    "shutil.copy(pth.join(WORK_FOLDER_PATH, 'geometry_outputs.xml'), AIRCRAFT1_FILE)\n",
    "\n",
    "# Open viewer\n",
    "api_cs25.variable_viewer(AIRCRAFT1_FILE)"
   ]
  },
  {
   "cell_type": "markdown",
   "metadata": {},
   "source": [
    "**This process can be done using the api generate block analysis method to get this working such as a python function:**\n",
    "1. Same as previous, copy the reference aircraft but already into the aircraft name (same file used all along the process: overwritten)\n",
    "2. Import the Geometry module\n",
    "3. Generate a block analysis based on this model\n",
    "\n",
    "We are going to apply it to the second geometry."
   ]
  },
  {
   "cell_type": "code",
   "execution_count": 4,
   "metadata": {},
   "outputs": [],
   "source": [
    "from fastga.models.geometry.geometry import GeometryFixedTailDistance\n",
    "\n",
    "# Copy reference aircraft file\n",
    "shutil.copy(pth.join(DATA_FOLDER_PATH, 'reference_aircraft.xml'), AIRCRAFT2_FILE)\n",
    "\n",
    "# Define the wing primary geometry parameters name as a list\n",
    "var_inputs = [\"data:geometry:wing:area\", \"data:geometry:wing:aspect_ratio\", \"data:geometry:wing:taper_ratio\"]\n",
    "\n",
    "# Declare function\n",
    "compute_geometry = api_cs23.generate_block_analysis(\n",
    "        GeometryFixedTailDistance(propulsion_id=\"fastga.wrapper.propulsion.basicIC_engine\"),\n",
    "        var_inputs,\n",
    "        str(AIRCRAFT2_FILE),\n",
    "        True,\n",
    "    )"
   ]
  },
  {
   "cell_type": "markdown",
   "metadata": {},
   "source": [
    "Consider we want to generate a second aircraft geometry modifying the wing by an increase of 15% of the spanwithout changing the first part of the wing.\n",
    "\n",
    "**We have the following relationships:**\n",
    "\n",
    "$virtualChord=\\frac{area}{2*y_{2}+(y_{4}-y_{2})*(1+taperRatio)}$\n",
    "\n",
    "$aspectRatio=\\frac{span^2}{area}$\n",
    "\n",
    "With $y_{2}$ the y-position of the root chord and $y_{4}$ the y-position of the tip chord.\n",
    "\n",
    "**Meaning:**\n",
    "\n",
    "$\\frac{area}{area_{ref}}=\\frac{2*y_{2}+(y_{4}-y_{2})*(1+taperRatio)}{2*y_{2,ref}+(y_{4,ref}-y_{2,ref})*(1+taperRatio_{ref})}\\implies{}area=\\frac{2*y_{2,ref}+(\\lambda*y_{4,ref}-y_{2,ref})*(1+taperRatio)}{2*y_{2,ref}+(y_{4,ref}-y_{2,ref})*(1+taperRatio_{ref})}*area_{ref}$\n",
    "\n",
    "With $\\lambda$=1.15.\n",
    "\n",
    "**With $y_{2}=0.599$, $y_{4}=6.182$ we can find the primary parameters to generate second aicraft:**"
   ]
  },
  {
   "cell_type": "code",
   "execution_count": 5,
   "metadata": {},
   "outputs": [
    {
     "name": "stdout",
     "output_type": "stream",
     "text": [
      "area=19.3315\n",
      "aspect_ratio=9.083667956573466\n",
      "taper_ratio=1.0\n"
     ]
    }
   ],
   "source": [
    "# Define reference aircraft values\n",
    "span_old = 11.523\n",
    "taper_ratio_old = 1.0\n",
    "area_old = 16.81\n",
    "y2_ref = 2.881\n",
    "y4_ref = 5.7615\n",
    "\n",
    "# Define functions\n",
    "taper_func = lambda lamb: lamb * taper_ratio_old + (1 - lamb)\n",
    "area_func = lambda taper_ratio_new, lamb : (2*y2_ref + (lamb*y4_ref-y2_ref)*(1+taper_ratio_new))/(2*y2_ref + (y4_ref-y2_ref)*(1+taper_ratio_old)) * area_old\n",
    "\n",
    "# Calculate parameters\n",
    "taper_ratio_new = taper_func(1.15)\n",
    "area = area_func(taper_ratio_new, 1.15)\n",
    "\n",
    "# Print results\n",
    "print(\"area=\" + str(area))\n",
    "print(\"aspect_ratio=\" + str((span_old*1.15)**2/area))\n",
    "print(\"taper_ratio=\" + str(taper_ratio_new))"
   ]
  },
  {
   "cell_type": "markdown",
   "metadata": {},
   "source": [
    "Now we can use the previously created function to calculate the long wing aircraft."
   ]
  },
  {
   "cell_type": "code",
   "execution_count": 8,
   "metadata": {
    "scrolled": false
   },
   "outputs": [
    {
     "data": {
      "application/vnd.jupyter.widget-view+json": {
       "model_id": "3967142f8e6b4f8b98e08e76390effad",
       "version_major": 2,
       "version_minor": 0
      },
      "text/plain": [
       "VBox(children=(HBox(children=(Button(description='Load', icon='upload', style=ButtonStyle(), tooltip='Load the…"
      ]
     },
     "metadata": {},
     "output_type": "display_data"
    }
   ],
   "source": [
    "# Compute geometry\n",
    "inputs_dict = {\"data:geometry:wing:area\": (19.3315, \"m**2\"), \"data:geometry:wing:aspect_ratio\": (9.083, None), \"data:geometry:wing:taper_ratio\": (1.0, None)}\n",
    "outputs_dict = compute_geometry(inputs_dict)\n",
    "\n",
    "# Open viewer\n",
    "api_cs25.variable_viewer(AIRCRAFT2_FILE)"
   ]
  },
  {
   "cell_type": "markdown",
   "metadata": {},
   "source": [
    "We will finish by visualizing the two generated geometries before performing other calculation/analysis steps."
   ]
  },
  {
   "cell_type": "code",
   "execution_count": 9,
   "metadata": {
    "scrolled": false
   },
   "outputs": [
    {
     "data": {
      "application/vnd.plotly.v1+json": {
       "config": {
        "plotlyServerURL": "https://plot.ly"
       },
       "data": [
        {
         "mode": "lines+markers",
         "name": "reference aircraft",
         "type": "scatter",
         "uid": "66a35356-5eb2-411a-aad0-646a4bc630d3",
         "x": [
          0,
          -0.29945,
          -0.5989,
          -0.5989,
          -0.29945,
          0,
          0,
          -0.5989,
          0,
          -5.7616811348772154,
          -5.7616811348772154,
          0,
          -0.5989,
          0,
          0,
          0,
          -1.8172506706560876,
          -1.8172506706560876,
          0,
          0,
          0,
          0.29945,
          0.5989,
          0.5989,
          0.29945,
          0,
          0,
          0.5989,
          0,
          5.7616811348772154,
          5.7616811348772154,
          0,
          0.5989,
          0,
          0,
          0,
          1.8172506706560876,
          1.8172506706560876,
          0,
          0
         ],
         "y": [
          0,
          0,
          1.87292,
          4.7696746536799175,
          8.147863543225034,
          8.147863543225034,
          2.2770376434734234,
          2.2770376434734234,
          2.2770376434734234,
          2.2770376434734234,
          3.7208870695797294,
          3.7208870695797294,
          3.7208870695797294,
          3.7208870695797294,
          2.2770376434734234,
          7.374462727049407,
          7.501537272950594,
          8.448021997250638,
          8.32094745134945,
          7.374462727049407,
          0,
          0,
          1.87292,
          4.7696746536799175,
          8.147863543225034,
          8.147863543225034,
          2.2770376434734234,
          2.2770376434734234,
          2.2770376434734234,
          2.2770376434734234,
          3.7208870695797294,
          3.7208870695797294,
          3.7208870695797294,
          3.7208870695797294,
          2.2770376434734234,
          7.374462727049407,
          7.501537272950594,
          8.448021997250638,
          8.32094745134945,
          7.374462727049407
         ]
        },
        {
         "mode": "lines+markers",
         "name": "long wing aircraft",
         "type": "scatter",
         "uid": "22d71bf4-ffd0-4c21-945e-99e44921f0fe",
         "x": [
          0,
          -0.29945,
          -0.5989,
          -0.5989,
          -0.29945,
          0,
          0,
          -0.5989,
          0,
          -6.625481388170975,
          -6.625481388170975,
          0,
          -0.5989,
          0,
          0,
          0,
          -1.8172506706560876,
          -1.8172506706560876,
          0,
          0,
          0,
          0.29945,
          0.5989,
          0.5989,
          0.29945,
          0,
          0,
          0.5989,
          0,
          6.625481388170975,
          6.625481388170975,
          0,
          0.5989,
          0,
          0,
          0,
          1.8172506706560876,
          1.8172506706560876,
          0,
          0
         ],
         "y": [
          0,
          0,
          1.87292,
          4.7696746536799175,
          8.147863543225034,
          8.147863543225034,
          2.2732812183105264,
          2.2732812183105264,
          2.2732812183105264,
          2.2732812183105264,
          3.7321563450684203,
          3.7321563450684203,
          3.7321563450684203,
          3.7321563450684203,
          2.2732812183105264,
          7.374462727049407,
          7.501537272950594,
          8.448021997250638,
          8.32094745134945,
          7.374462727049407,
          0,
          0,
          1.87292,
          4.7696746536799175,
          8.147863543225034,
          8.147863543225034,
          2.2732812183105264,
          2.2732812183105264,
          2.2732812183105264,
          2.2732812183105264,
          3.7321563450684203,
          3.7321563450684203,
          3.7321563450684203,
          3.7321563450684203,
          2.2732812183105264,
          7.374462727049407,
          7.501537272950594,
          8.448021997250638,
          8.32094745134945,
          7.374462727049407
         ]
        }
       ],
       "layout": {
        "template": {
         "data": {
          "bar": [
           {
            "error_x": {
             "color": "#2a3f5f"
            },
            "error_y": {
             "color": "#2a3f5f"
            },
            "marker": {
             "line": {
              "color": "#E5ECF6",
              "width": 0.5
             }
            },
            "type": "bar"
           }
          ],
          "barpolar": [
           {
            "marker": {
             "line": {
              "color": "#E5ECF6",
              "width": 0.5
             }
            },
            "type": "barpolar"
           }
          ],
          "carpet": [
           {
            "aaxis": {
             "endlinecolor": "#2a3f5f",
             "gridcolor": "white",
             "linecolor": "white",
             "minorgridcolor": "white",
             "startlinecolor": "#2a3f5f"
            },
            "baxis": {
             "endlinecolor": "#2a3f5f",
             "gridcolor": "white",
             "linecolor": "white",
             "minorgridcolor": "white",
             "startlinecolor": "#2a3f5f"
            },
            "type": "carpet"
           }
          ],
          "choropleth": [
           {
            "colorbar": {
             "outlinewidth": 0,
             "ticks": ""
            },
            "type": "choropleth"
           }
          ],
          "contour": [
           {
            "colorbar": {
             "outlinewidth": 0,
             "ticks": ""
            },
            "colorscale": [
             [
              0,
              "#0d0887"
             ],
             [
              0.1111111111111111,
              "#46039f"
             ],
             [
              0.2222222222222222,
              "#7201a8"
             ],
             [
              0.3333333333333333,
              "#9c179e"
             ],
             [
              0.4444444444444444,
              "#bd3786"
             ],
             [
              0.5555555555555556,
              "#d8576b"
             ],
             [
              0.6666666666666666,
              "#ed7953"
             ],
             [
              0.7777777777777778,
              "#fb9f3a"
             ],
             [
              0.8888888888888888,
              "#fdca26"
             ],
             [
              1,
              "#f0f921"
             ]
            ],
            "type": "contour"
           }
          ],
          "contourcarpet": [
           {
            "colorbar": {
             "outlinewidth": 0,
             "ticks": ""
            },
            "type": "contourcarpet"
           }
          ],
          "heatmap": [
           {
            "colorbar": {
             "outlinewidth": 0,
             "ticks": ""
            },
            "colorscale": [
             [
              0,
              "#0d0887"
             ],
             [
              0.1111111111111111,
              "#46039f"
             ],
             [
              0.2222222222222222,
              "#7201a8"
             ],
             [
              0.3333333333333333,
              "#9c179e"
             ],
             [
              0.4444444444444444,
              "#bd3786"
             ],
             [
              0.5555555555555556,
              "#d8576b"
             ],
             [
              0.6666666666666666,
              "#ed7953"
             ],
             [
              0.7777777777777778,
              "#fb9f3a"
             ],
             [
              0.8888888888888888,
              "#fdca26"
             ],
             [
              1,
              "#f0f921"
             ]
            ],
            "type": "heatmap"
           }
          ],
          "heatmapgl": [
           {
            "colorbar": {
             "outlinewidth": 0,
             "ticks": ""
            },
            "colorscale": [
             [
              0,
              "#0d0887"
             ],
             [
              0.1111111111111111,
              "#46039f"
             ],
             [
              0.2222222222222222,
              "#7201a8"
             ],
             [
              0.3333333333333333,
              "#9c179e"
             ],
             [
              0.4444444444444444,
              "#bd3786"
             ],
             [
              0.5555555555555556,
              "#d8576b"
             ],
             [
              0.6666666666666666,
              "#ed7953"
             ],
             [
              0.7777777777777778,
              "#fb9f3a"
             ],
             [
              0.8888888888888888,
              "#fdca26"
             ],
             [
              1,
              "#f0f921"
             ]
            ],
            "type": "heatmapgl"
           }
          ],
          "histogram": [
           {
            "marker": {
             "colorbar": {
              "outlinewidth": 0,
              "ticks": ""
             }
            },
            "type": "histogram"
           }
          ],
          "histogram2d": [
           {
            "colorbar": {
             "outlinewidth": 0,
             "ticks": ""
            },
            "colorscale": [
             [
              0,
              "#0d0887"
             ],
             [
              0.1111111111111111,
              "#46039f"
             ],
             [
              0.2222222222222222,
              "#7201a8"
             ],
             [
              0.3333333333333333,
              "#9c179e"
             ],
             [
              0.4444444444444444,
              "#bd3786"
             ],
             [
              0.5555555555555556,
              "#d8576b"
             ],
             [
              0.6666666666666666,
              "#ed7953"
             ],
             [
              0.7777777777777778,
              "#fb9f3a"
             ],
             [
              0.8888888888888888,
              "#fdca26"
             ],
             [
              1,
              "#f0f921"
             ]
            ],
            "type": "histogram2d"
           }
          ],
          "histogram2dcontour": [
           {
            "colorbar": {
             "outlinewidth": 0,
             "ticks": ""
            },
            "colorscale": [
             [
              0,
              "#0d0887"
             ],
             [
              0.1111111111111111,
              "#46039f"
             ],
             [
              0.2222222222222222,
              "#7201a8"
             ],
             [
              0.3333333333333333,
              "#9c179e"
             ],
             [
              0.4444444444444444,
              "#bd3786"
             ],
             [
              0.5555555555555556,
              "#d8576b"
             ],
             [
              0.6666666666666666,
              "#ed7953"
             ],
             [
              0.7777777777777778,
              "#fb9f3a"
             ],
             [
              0.8888888888888888,
              "#fdca26"
             ],
             [
              1,
              "#f0f921"
             ]
            ],
            "type": "histogram2dcontour"
           }
          ],
          "mesh3d": [
           {
            "colorbar": {
             "outlinewidth": 0,
             "ticks": ""
            },
            "type": "mesh3d"
           }
          ],
          "parcoords": [
           {
            "line": {
             "colorbar": {
              "outlinewidth": 0,
              "ticks": ""
             }
            },
            "type": "parcoords"
           }
          ],
          "pie": [
           {
            "automargin": true,
            "type": "pie"
           }
          ],
          "scatter": [
           {
            "marker": {
             "colorbar": {
              "outlinewidth": 0,
              "ticks": ""
             }
            },
            "type": "scatter"
           }
          ],
          "scatter3d": [
           {
            "line": {
             "colorbar": {
              "outlinewidth": 0,
              "ticks": ""
             }
            },
            "marker": {
             "colorbar": {
              "outlinewidth": 0,
              "ticks": ""
             }
            },
            "type": "scatter3d"
           }
          ],
          "scattercarpet": [
           {
            "marker": {
             "colorbar": {
              "outlinewidth": 0,
              "ticks": ""
             }
            },
            "type": "scattercarpet"
           }
          ],
          "scattergeo": [
           {
            "marker": {
             "colorbar": {
              "outlinewidth": 0,
              "ticks": ""
             }
            },
            "type": "scattergeo"
           }
          ],
          "scattergl": [
           {
            "marker": {
             "colorbar": {
              "outlinewidth": 0,
              "ticks": ""
             }
            },
            "type": "scattergl"
           }
          ],
          "scattermapbox": [
           {
            "marker": {
             "colorbar": {
              "outlinewidth": 0,
              "ticks": ""
             }
            },
            "type": "scattermapbox"
           }
          ],
          "scatterpolar": [
           {
            "marker": {
             "colorbar": {
              "outlinewidth": 0,
              "ticks": ""
             }
            },
            "type": "scatterpolar"
           }
          ],
          "scatterpolargl": [
           {
            "marker": {
             "colorbar": {
              "outlinewidth": 0,
              "ticks": ""
             }
            },
            "type": "scatterpolargl"
           }
          ],
          "scatterternary": [
           {
            "marker": {
             "colorbar": {
              "outlinewidth": 0,
              "ticks": ""
             }
            },
            "type": "scatterternary"
           }
          ],
          "surface": [
           {
            "colorbar": {
             "outlinewidth": 0,
             "ticks": ""
            },
            "colorscale": [
             [
              0,
              "#0d0887"
             ],
             [
              0.1111111111111111,
              "#46039f"
             ],
             [
              0.2222222222222222,
              "#7201a8"
             ],
             [
              0.3333333333333333,
              "#9c179e"
             ],
             [
              0.4444444444444444,
              "#bd3786"
             ],
             [
              0.5555555555555556,
              "#d8576b"
             ],
             [
              0.6666666666666666,
              "#ed7953"
             ],
             [
              0.7777777777777778,
              "#fb9f3a"
             ],
             [
              0.8888888888888888,
              "#fdca26"
             ],
             [
              1,
              "#f0f921"
             ]
            ],
            "type": "surface"
           }
          ],
          "table": [
           {
            "cells": {
             "fill": {
              "color": "#EBF0F8"
             },
             "line": {
              "color": "white"
             }
            },
            "header": {
             "fill": {
              "color": "#C8D4E3"
             },
             "line": {
              "color": "white"
             }
            },
            "type": "table"
           }
          ]
         },
         "layout": {
          "annotationdefaults": {
           "arrowcolor": "#2a3f5f",
           "arrowhead": 0,
           "arrowwidth": 1
          },
          "autotypenumbers": "strict",
          "coloraxis": {
           "colorbar": {
            "outlinewidth": 0,
            "ticks": ""
           }
          },
          "colorscale": {
           "diverging": [
            [
             0,
             "#8e0152"
            ],
            [
             0.1,
             "#c51b7d"
            ],
            [
             0.2,
             "#de77ae"
            ],
            [
             0.3,
             "#f1b6da"
            ],
            [
             0.4,
             "#fde0ef"
            ],
            [
             0.5,
             "#f7f7f7"
            ],
            [
             0.6,
             "#e6f5d0"
            ],
            [
             0.7,
             "#b8e186"
            ],
            [
             0.8,
             "#7fbc41"
            ],
            [
             0.9,
             "#4d9221"
            ],
            [
             1,
             "#276419"
            ]
           ],
           "sequential": [
            [
             0,
             "#0d0887"
            ],
            [
             0.1111111111111111,
             "#46039f"
            ],
            [
             0.2222222222222222,
             "#7201a8"
            ],
            [
             0.3333333333333333,
             "#9c179e"
            ],
            [
             0.4444444444444444,
             "#bd3786"
            ],
            [
             0.5555555555555556,
             "#d8576b"
            ],
            [
             0.6666666666666666,
             "#ed7953"
            ],
            [
             0.7777777777777778,
             "#fb9f3a"
            ],
            [
             0.8888888888888888,
             "#fdca26"
            ],
            [
             1,
             "#f0f921"
            ]
           ],
           "sequentialminus": [
            [
             0,
             "#0d0887"
            ],
            [
             0.1111111111111111,
             "#46039f"
            ],
            [
             0.2222222222222222,
             "#7201a8"
            ],
            [
             0.3333333333333333,
             "#9c179e"
            ],
            [
             0.4444444444444444,
             "#bd3786"
            ],
            [
             0.5555555555555556,
             "#d8576b"
            ],
            [
             0.6666666666666666,
             "#ed7953"
            ],
            [
             0.7777777777777778,
             "#fb9f3a"
            ],
            [
             0.8888888888888888,
             "#fdca26"
            ],
            [
             1,
             "#f0f921"
            ]
           ]
          },
          "colorway": [
           "#636efa",
           "#EF553B",
           "#00cc96",
           "#ab63fa",
           "#FFA15A",
           "#19d3f3",
           "#FF6692",
           "#B6E880",
           "#FF97FF",
           "#FECB52"
          ],
          "font": {
           "color": "#2a3f5f"
          },
          "geo": {
           "bgcolor": "white",
           "lakecolor": "white",
           "landcolor": "#E5ECF6",
           "showlakes": true,
           "showland": true,
           "subunitcolor": "white"
          },
          "hoverlabel": {
           "align": "left"
          },
          "hovermode": "closest",
          "mapbox": {
           "style": "light"
          },
          "paper_bgcolor": "white",
          "plot_bgcolor": "#E5ECF6",
          "polar": {
           "angularaxis": {
            "gridcolor": "white",
            "linecolor": "white",
            "ticks": ""
           },
           "bgcolor": "#E5ECF6",
           "radialaxis": {
            "gridcolor": "white",
            "linecolor": "white",
            "ticks": ""
           }
          },
          "scene": {
           "xaxis": {
            "backgroundcolor": "#E5ECF6",
            "gridcolor": "white",
            "gridwidth": 2,
            "linecolor": "white",
            "showbackground": true,
            "ticks": "",
            "zerolinecolor": "white"
           },
           "yaxis": {
            "backgroundcolor": "#E5ECF6",
            "gridcolor": "white",
            "gridwidth": 2,
            "linecolor": "white",
            "showbackground": true,
            "ticks": "",
            "zerolinecolor": "white"
           },
           "zaxis": {
            "backgroundcolor": "#E5ECF6",
            "gridcolor": "white",
            "gridwidth": 2,
            "linecolor": "white",
            "showbackground": true,
            "ticks": "",
            "zerolinecolor": "white"
           }
          },
          "shapedefaults": {
           "line": {
            "color": "#2a3f5f"
           }
          },
          "ternary": {
           "aaxis": {
            "gridcolor": "white",
            "linecolor": "white",
            "ticks": ""
           },
           "baxis": {
            "gridcolor": "white",
            "linecolor": "white",
            "ticks": ""
           },
           "bgcolor": "#E5ECF6",
           "caxis": {
            "gridcolor": "white",
            "linecolor": "white",
            "ticks": ""
           }
          },
          "title": {
           "x": 0.05
          },
          "xaxis": {
           "automargin": true,
           "gridcolor": "white",
           "linecolor": "white",
           "ticks": "",
           "title": {
            "standoff": 15
           },
           "zerolinecolor": "white",
           "zerolinewidth": 2
          },
          "yaxis": {
           "automargin": true,
           "gridcolor": "white",
           "linecolor": "white",
           "ticks": "",
           "title": {
            "standoff": 15
           },
           "zerolinecolor": "white",
           "zerolinewidth": 2
          }
         }
        },
        "title": {
         "text": "Aircraft Geometry",
         "x": 0.5
        },
        "xaxis": {
         "title": {
          "text": "y"
         }
        },
        "yaxis": {
         "scaleanchor": "x",
         "scaleratio": 1,
         "title": {
          "text": "x"
         }
        }
       }
      },
      "text/html": [
       "<div>                            <div id=\"d09b9649-4fe3-4c76-83f7-d5e37a360c3e\" class=\"plotly-graph-div\" style=\"height:525px; width:100%;\"></div>            <script type=\"text/javascript\">                require([\"plotly\"], function(Plotly) {                    window.PLOTLYENV=window.PLOTLYENV || {};                                    if (document.getElementById(\"d09b9649-4fe3-4c76-83f7-d5e37a360c3e\")) {                    Plotly.newPlot(                        \"d09b9649-4fe3-4c76-83f7-d5e37a360c3e\",                        [{\"mode\": \"lines+markers\", \"name\": \"reference aircraft\", \"type\": \"scatter\", \"uid\": \"66a35356-5eb2-411a-aad0-646a4bc630d3\", \"x\": [-0.0, -0.29945, -0.5989, -0.5989, -0.29945, -0.0, -0.0, -0.5989, -0.0, -5.7616811348772154, -5.7616811348772154, -0.0, -0.5989, -0.0, -0.0, -0.0, -1.8172506706560876, -1.8172506706560876, -0.0, -0.0, 0.0, 0.29945, 0.5989, 0.5989, 0.29945, 0.0, 0.0, 0.5989, 0.0, 5.7616811348772154, 5.7616811348772154, 0.0, 0.5989, 0.0, 0.0, 0.0, 1.8172506706560876, 1.8172506706560876, 0.0, 0.0], \"y\": [0.0, 0.0, 1.87292, 4.7696746536799175, 8.147863543225034, 8.147863543225034, 2.2770376434734234, 2.2770376434734234, 2.2770376434734234, 2.2770376434734234, 3.7208870695797294, 3.7208870695797294, 3.7208870695797294, 3.7208870695797294, 2.2770376434734234, 7.374462727049407, 7.501537272950594, 8.448021997250638, 8.32094745134945, 7.374462727049407, 0.0, 0.0, 1.87292, 4.7696746536799175, 8.147863543225034, 8.147863543225034, 2.2770376434734234, 2.2770376434734234, 2.2770376434734234, 2.2770376434734234, 3.7208870695797294, 3.7208870695797294, 3.7208870695797294, 3.7208870695797294, 2.2770376434734234, 7.374462727049407, 7.501537272950594, 8.448021997250638, 8.32094745134945, 7.374462727049407]}, {\"mode\": \"lines+markers\", \"name\": \"long wing aircraft\", \"type\": \"scatter\", \"uid\": \"22d71bf4-ffd0-4c21-945e-99e44921f0fe\", \"x\": [-0.0, -0.29945, -0.5989, -0.5989, -0.29945, -0.0, -0.0, -0.5989, -0.0, -6.625481388170975, -6.625481388170975, -0.0, -0.5989, -0.0, -0.0, -0.0, -1.8172506706560876, -1.8172506706560876, -0.0, -0.0, 0.0, 0.29945, 0.5989, 0.5989, 0.29945, 0.0, 0.0, 0.5989, 0.0, 6.625481388170975, 6.625481388170975, 0.0, 0.5989, 0.0, 0.0, 0.0, 1.8172506706560876, 1.8172506706560876, 0.0, 0.0], \"y\": [0.0, 0.0, 1.87292, 4.7696746536799175, 8.147863543225034, 8.147863543225034, 2.2732812183105264, 2.2732812183105264, 2.2732812183105264, 2.2732812183105264, 3.7321563450684203, 3.7321563450684203, 3.7321563450684203, 3.7321563450684203, 2.2732812183105264, 7.374462727049407, 7.501537272950594, 8.448021997250638, 8.32094745134945, 7.374462727049407, 0.0, 0.0, 1.87292, 4.7696746536799175, 8.147863543225034, 8.147863543225034, 2.2732812183105264, 2.2732812183105264, 2.2732812183105264, 2.2732812183105264, 3.7321563450684203, 3.7321563450684203, 3.7321563450684203, 3.7321563450684203, 2.2732812183105264, 7.374462727049407, 7.501537272950594, 8.448021997250638, 8.32094745134945, 7.374462727049407]}],                        {\"template\": {\"data\": {\"bar\": [{\"error_x\": {\"color\": \"#2a3f5f\"}, \"error_y\": {\"color\": \"#2a3f5f\"}, \"marker\": {\"line\": {\"color\": \"#E5ECF6\", \"width\": 0.5}}, \"type\": \"bar\"}], \"barpolar\": [{\"marker\": {\"line\": {\"color\": \"#E5ECF6\", \"width\": 0.5}}, \"type\": \"barpolar\"}], \"carpet\": [{\"aaxis\": {\"endlinecolor\": \"#2a3f5f\", \"gridcolor\": \"white\", \"linecolor\": \"white\", \"minorgridcolor\": \"white\", \"startlinecolor\": \"#2a3f5f\"}, \"baxis\": {\"endlinecolor\": \"#2a3f5f\", \"gridcolor\": \"white\", \"linecolor\": \"white\", \"minorgridcolor\": \"white\", \"startlinecolor\": \"#2a3f5f\"}, \"type\": \"carpet\"}], \"choropleth\": [{\"colorbar\": {\"outlinewidth\": 0, \"ticks\": \"\"}, \"type\": \"choropleth\"}], \"contour\": [{\"colorbar\": {\"outlinewidth\": 0, \"ticks\": \"\"}, \"colorscale\": [[0.0, \"#0d0887\"], [0.1111111111111111, \"#46039f\"], [0.2222222222222222, \"#7201a8\"], [0.3333333333333333, \"#9c179e\"], [0.4444444444444444, \"#bd3786\"], [0.5555555555555556, \"#d8576b\"], [0.6666666666666666, \"#ed7953\"], [0.7777777777777778, \"#fb9f3a\"], [0.8888888888888888, \"#fdca26\"], [1.0, \"#f0f921\"]], \"type\": \"contour\"}], \"contourcarpet\": [{\"colorbar\": {\"outlinewidth\": 0, \"ticks\": \"\"}, \"type\": \"contourcarpet\"}], \"heatmap\": [{\"colorbar\": {\"outlinewidth\": 0, \"ticks\": \"\"}, \"colorscale\": [[0.0, \"#0d0887\"], [0.1111111111111111, \"#46039f\"], [0.2222222222222222, \"#7201a8\"], [0.3333333333333333, \"#9c179e\"], [0.4444444444444444, \"#bd3786\"], [0.5555555555555556, \"#d8576b\"], [0.6666666666666666, \"#ed7953\"], [0.7777777777777778, \"#fb9f3a\"], [0.8888888888888888, \"#fdca26\"], [1.0, \"#f0f921\"]], \"type\": \"heatmap\"}], \"heatmapgl\": [{\"colorbar\": {\"outlinewidth\": 0, \"ticks\": \"\"}, \"colorscale\": [[0.0, \"#0d0887\"], [0.1111111111111111, \"#46039f\"], [0.2222222222222222, \"#7201a8\"], [0.3333333333333333, \"#9c179e\"], [0.4444444444444444, \"#bd3786\"], [0.5555555555555556, \"#d8576b\"], [0.6666666666666666, \"#ed7953\"], [0.7777777777777778, \"#fb9f3a\"], [0.8888888888888888, \"#fdca26\"], [1.0, \"#f0f921\"]], \"type\": \"heatmapgl\"}], \"histogram\": [{\"marker\": {\"colorbar\": {\"outlinewidth\": 0, \"ticks\": \"\"}}, \"type\": \"histogram\"}], \"histogram2d\": [{\"colorbar\": {\"outlinewidth\": 0, \"ticks\": \"\"}, \"colorscale\": [[0.0, \"#0d0887\"], [0.1111111111111111, \"#46039f\"], [0.2222222222222222, \"#7201a8\"], [0.3333333333333333, \"#9c179e\"], [0.4444444444444444, \"#bd3786\"], [0.5555555555555556, \"#d8576b\"], [0.6666666666666666, \"#ed7953\"], [0.7777777777777778, \"#fb9f3a\"], [0.8888888888888888, \"#fdca26\"], [1.0, \"#f0f921\"]], \"type\": \"histogram2d\"}], \"histogram2dcontour\": [{\"colorbar\": {\"outlinewidth\": 0, \"ticks\": \"\"}, \"colorscale\": [[0.0, \"#0d0887\"], [0.1111111111111111, \"#46039f\"], [0.2222222222222222, \"#7201a8\"], [0.3333333333333333, \"#9c179e\"], [0.4444444444444444, \"#bd3786\"], [0.5555555555555556, \"#d8576b\"], [0.6666666666666666, \"#ed7953\"], [0.7777777777777778, \"#fb9f3a\"], [0.8888888888888888, \"#fdca26\"], [1.0, \"#f0f921\"]], \"type\": \"histogram2dcontour\"}], \"mesh3d\": [{\"colorbar\": {\"outlinewidth\": 0, \"ticks\": \"\"}, \"type\": \"mesh3d\"}], \"parcoords\": [{\"line\": {\"colorbar\": {\"outlinewidth\": 0, \"ticks\": \"\"}}, \"type\": \"parcoords\"}], \"pie\": [{\"automargin\": true, \"type\": \"pie\"}], \"scatter\": [{\"marker\": {\"colorbar\": {\"outlinewidth\": 0, \"ticks\": \"\"}}, \"type\": \"scatter\"}], \"scatter3d\": [{\"line\": {\"colorbar\": {\"outlinewidth\": 0, \"ticks\": \"\"}}, \"marker\": {\"colorbar\": {\"outlinewidth\": 0, \"ticks\": \"\"}}, \"type\": \"scatter3d\"}], \"scattercarpet\": [{\"marker\": {\"colorbar\": {\"outlinewidth\": 0, \"ticks\": \"\"}}, \"type\": \"scattercarpet\"}], \"scattergeo\": [{\"marker\": {\"colorbar\": {\"outlinewidth\": 0, \"ticks\": \"\"}}, \"type\": \"scattergeo\"}], \"scattergl\": [{\"marker\": {\"colorbar\": {\"outlinewidth\": 0, \"ticks\": \"\"}}, \"type\": \"scattergl\"}], \"scattermapbox\": [{\"marker\": {\"colorbar\": {\"outlinewidth\": 0, \"ticks\": \"\"}}, \"type\": \"scattermapbox\"}], \"scatterpolar\": [{\"marker\": {\"colorbar\": {\"outlinewidth\": 0, \"ticks\": \"\"}}, \"type\": \"scatterpolar\"}], \"scatterpolargl\": [{\"marker\": {\"colorbar\": {\"outlinewidth\": 0, \"ticks\": \"\"}}, \"type\": \"scatterpolargl\"}], \"scatterternary\": [{\"marker\": {\"colorbar\": {\"outlinewidth\": 0, \"ticks\": \"\"}}, \"type\": \"scatterternary\"}], \"surface\": [{\"colorbar\": {\"outlinewidth\": 0, \"ticks\": \"\"}, \"colorscale\": [[0.0, \"#0d0887\"], [0.1111111111111111, \"#46039f\"], [0.2222222222222222, \"#7201a8\"], [0.3333333333333333, \"#9c179e\"], [0.4444444444444444, \"#bd3786\"], [0.5555555555555556, \"#d8576b\"], [0.6666666666666666, \"#ed7953\"], [0.7777777777777778, \"#fb9f3a\"], [0.8888888888888888, \"#fdca26\"], [1.0, \"#f0f921\"]], \"type\": \"surface\"}], \"table\": [{\"cells\": {\"fill\": {\"color\": \"#EBF0F8\"}, \"line\": {\"color\": \"white\"}}, \"header\": {\"fill\": {\"color\": \"#C8D4E3\"}, \"line\": {\"color\": \"white\"}}, \"type\": \"table\"}]}, \"layout\": {\"annotationdefaults\": {\"arrowcolor\": \"#2a3f5f\", \"arrowhead\": 0, \"arrowwidth\": 1}, \"autotypenumbers\": \"strict\", \"coloraxis\": {\"colorbar\": {\"outlinewidth\": 0, \"ticks\": \"\"}}, \"colorscale\": {\"diverging\": [[0, \"#8e0152\"], [0.1, \"#c51b7d\"], [0.2, \"#de77ae\"], [0.3, \"#f1b6da\"], [0.4, \"#fde0ef\"], [0.5, \"#f7f7f7\"], [0.6, \"#e6f5d0\"], [0.7, \"#b8e186\"], [0.8, \"#7fbc41\"], [0.9, \"#4d9221\"], [1, \"#276419\"]], \"sequential\": [[0.0, \"#0d0887\"], [0.1111111111111111, \"#46039f\"], [0.2222222222222222, \"#7201a8\"], [0.3333333333333333, \"#9c179e\"], [0.4444444444444444, \"#bd3786\"], [0.5555555555555556, \"#d8576b\"], [0.6666666666666666, \"#ed7953\"], [0.7777777777777778, \"#fb9f3a\"], [0.8888888888888888, \"#fdca26\"], [1.0, \"#f0f921\"]], \"sequentialminus\": [[0.0, \"#0d0887\"], [0.1111111111111111, \"#46039f\"], [0.2222222222222222, \"#7201a8\"], [0.3333333333333333, \"#9c179e\"], [0.4444444444444444, \"#bd3786\"], [0.5555555555555556, \"#d8576b\"], [0.6666666666666666, \"#ed7953\"], [0.7777777777777778, \"#fb9f3a\"], [0.8888888888888888, \"#fdca26\"], [1.0, \"#f0f921\"]]}, \"colorway\": [\"#636efa\", \"#EF553B\", \"#00cc96\", \"#ab63fa\", \"#FFA15A\", \"#19d3f3\", \"#FF6692\", \"#B6E880\", \"#FF97FF\", \"#FECB52\"], \"font\": {\"color\": \"#2a3f5f\"}, \"geo\": {\"bgcolor\": \"white\", \"lakecolor\": \"white\", \"landcolor\": \"#E5ECF6\", \"showlakes\": true, \"showland\": true, \"subunitcolor\": \"white\"}, \"hoverlabel\": {\"align\": \"left\"}, \"hovermode\": \"closest\", \"mapbox\": {\"style\": \"light\"}, \"paper_bgcolor\": \"white\", \"plot_bgcolor\": \"#E5ECF6\", \"polar\": {\"angularaxis\": {\"gridcolor\": \"white\", \"linecolor\": \"white\", \"ticks\": \"\"}, \"bgcolor\": \"#E5ECF6\", \"radialaxis\": {\"gridcolor\": \"white\", \"linecolor\": \"white\", \"ticks\": \"\"}}, \"scene\": {\"xaxis\": {\"backgroundcolor\": \"#E5ECF6\", \"gridcolor\": \"white\", \"gridwidth\": 2, \"linecolor\": \"white\", \"showbackground\": true, \"ticks\": \"\", \"zerolinecolor\": \"white\"}, \"yaxis\": {\"backgroundcolor\": \"#E5ECF6\", \"gridcolor\": \"white\", \"gridwidth\": 2, \"linecolor\": \"white\", \"showbackground\": true, \"ticks\": \"\", \"zerolinecolor\": \"white\"}, \"zaxis\": {\"backgroundcolor\": \"#E5ECF6\", \"gridcolor\": \"white\", \"gridwidth\": 2, \"linecolor\": \"white\", \"showbackground\": true, \"ticks\": \"\", \"zerolinecolor\": \"white\"}}, \"shapedefaults\": {\"line\": {\"color\": \"#2a3f5f\"}}, \"ternary\": {\"aaxis\": {\"gridcolor\": \"white\", \"linecolor\": \"white\", \"ticks\": \"\"}, \"baxis\": {\"gridcolor\": \"white\", \"linecolor\": \"white\", \"ticks\": \"\"}, \"bgcolor\": \"#E5ECF6\", \"caxis\": {\"gridcolor\": \"white\", \"linecolor\": \"white\", \"ticks\": \"\"}}, \"title\": {\"x\": 0.05}, \"xaxis\": {\"automargin\": true, \"gridcolor\": \"white\", \"linecolor\": \"white\", \"ticks\": \"\", \"title\": {\"standoff\": 15}, \"zerolinecolor\": \"white\", \"zerolinewidth\": 2}, \"yaxis\": {\"automargin\": true, \"gridcolor\": \"white\", \"linecolor\": \"white\", \"ticks\": \"\", \"title\": {\"standoff\": 15}, \"zerolinecolor\": \"white\", \"zerolinewidth\": 2}}}, \"title\": {\"text\": \"Aircraft Geometry\", \"x\": 0.5}, \"xaxis\": {\"title\": {\"text\": \"y\"}}, \"yaxis\": {\"scaleanchor\": \"x\", \"scaleratio\": 1, \"title\": {\"text\": \"x\"}}},                        {\"responsive\": true}                    ).then(function(){\n",
       "                            \n",
       "var gd = document.getElementById('d09b9649-4fe3-4c76-83f7-d5e37a360c3e');\n",
       "var x = new MutationObserver(function (mutations, observer) {{\n",
       "        var display = window.getComputedStyle(gd).display;\n",
       "        if (!display || display === 'none') {{\n",
       "            console.log([gd, 'removed!']);\n",
       "            Plotly.purge(gd);\n",
       "            observer.disconnect();\n",
       "        }}\n",
       "}});\n",
       "\n",
       "// Listen for the removal of the full notebook cells\n",
       "var notebookContainer = gd.closest('#notebook-container');\n",
       "if (notebookContainer) {{\n",
       "    x.observe(notebookContainer, {childList: true});\n",
       "}}\n",
       "\n",
       "// Listen for the clearing of the current output cell\n",
       "var outputEl = gd.closest('.output');\n",
       "if (outputEl) {{\n",
       "    x.observe(outputEl, {childList: true});\n",
       "}}\n",
       "\n",
       "                        })                };                });            </script>        </div>"
      ]
     },
     "metadata": {},
     "output_type": "display_data"
    }
   ],
   "source": [
    "from fastoad.gui import aircraft_geometry_plot\n",
    "\n",
    "fig = aircraft_geometry_plot(pth.join(WORK_FOLDER_PATH, 'geometry_reference.xml'), name='reference aircraft')\n",
    "fig = aircraft_geometry_plot(pth.join(WORK_FOLDER_PATH, 'geometry_long_wing.xml'), name='long wing aircraft', fig=fig)\n",
    "fig.show()"
   ]
  },
  {
   "cell_type": "markdown",
   "metadata": {},
   "source": [
    "## 2. Performing aerodynamic analysis\n",
    "In this chapter we will see how to perform a V-N analysis on both aricraft versions.\n",
    "\n",
    "To do so, we will launch first the calculation of low-speed coefficients using the same technique as previously mentionned on geometry (on both aircraft files)."
   ]
  },
  {
   "cell_type": "code",
   "execution_count": 10,
   "metadata": {},
   "outputs": [],
   "source": [
    "from fastga.models.aerodynamics.aerodynamics import Aerodynamics\n",
    "\n",
    "# Declare function on 1st geometry file\n",
    "compute_aero1 = api_cs23.generate_block_analysis(\n",
    "        Aerodynamics(\n",
    "            propulsion_id=\"fastga.wrapper.propulsion.basicIC_engine\",\n",
    "            use_openvsp=True,\n",
    "            compute_mach_interpolation=True,\n",
    "            compute_slipstream_low_speed=False,\n",
    "            compute_slipstream_cruise=False,\n",
    "        ),\n",
    "        [],\n",
    "        str(AIRCRAFT1_FILE),\n",
    "        True,\n",
    "    )\n",
    "\n",
    "\n",
    "# Declare function on 2nd geometry file\n",
    "compute_aero2 = api_cs23.generate_block_analysis(\n",
    "        Aerodynamics(\n",
    "            propulsion_id=\"fastga.wrapper.propulsion.basicIC_engine\",\n",
    "            use_openvsp=True,\n",
    "            compute_mach_interpolation=True,\n",
    "            compute_slipstream_low_speed=False,\n",
    "            compute_slipstream_cruise=False,\n",
    "        ),\n",
    "        [],\n",
    "        str(AIRCRAFT2_FILE),\n",
    "        True,\n",
    "    )"
   ]
  },
  {
   "cell_type": "code",
   "execution_count": 9,
   "metadata": {},
   "outputs": [
    {
     "name": "stderr",
     "output_type": "stream",
     "text": [
      "Chord ratio value outside of the range in Roskam's book, value clipped\n",
      "Chord ratio value outside of the range in Roskam's book, value clipped\n",
      "Chord ratio value outside of the range in Roskam's book, value clipped\n",
      "Chord ratio value outside of the range in Roskam's book, value clipped\n",
      "Chord ratio value outside of the range in Roskam's book, value clipped\n",
      "Chord ratio value outside of the range in Roskam's book, value clipped\n",
      "Chord ratio value outside of the range in Roskam's book, value clipped\n",
      "Chord ratio value outside of the range in Roskam's book, value clipped\n"
     ]
    },
    {
     "data": {
      "application/vnd.jupyter.widget-view+json": {
       "model_id": "98f665d7bcd74f13a2c077b3c941ccc6",
       "version_major": 2,
       "version_minor": 0
      },
      "text/plain": [
       "VBox(children=(HBox(children=(Button(description='Load', icon='upload', style=ButtonStyle(), tooltip='Load the…"
      ]
     },
     "metadata": {},
     "output_type": "display_data"
    }
   ],
   "source": [
    "# Compute both aircraft designs\n",
    "result1 = compute_aero1({})\n",
    "result2 = compute_aero2({})\n",
    "\n",
    "# Open viewer\n",
    "api_cs25.variable_viewer(AIRCRAFT2_FILE)"
   ]
  },
  {
   "cell_type": "markdown",
   "metadata": {},
   "source": [
    "Then, we will compute the V-N diagram point for both aircraft."
   ]
  },
  {
   "cell_type": "code",
   "execution_count": 13,
   "metadata": {},
   "outputs": [],
   "source": [
    "from fastga.models.aerodynamics.components.compute_vn import ComputeVNAndVH\n",
    "\n",
    "# Define the design mass speed and altitude taken as inputs for V-N diagram\n",
    "var_inputs = [\"data:weight:aircraft:MTOW\", \"data:TLAR:v_cruise\", \"data:mission:sizing:main_route:cruise:altitude\"]\n",
    "\n",
    "# Declare function on 1st geometry file\n",
    "compute_geometry1 = api_cs23.generate_block_analysis(\n",
    "        ComputeVNAndVH(\n",
    "            propulsion_id=\"fastga.wrapper.propulsion.basicIC_engine\",\n",
    "        ),\n",
    "        var_inputs,\n",
    "        str(AIRCRAFT1_FILE),\n",
    "        True,\n",
    "    )\n",
    "\n",
    "# Declare function on 2nd geometry file\n",
    "compute_geometry2 = api_cs23.generate_block_analysis(\n",
    "        ComputeVNAndVH(\n",
    "            propulsion_id=\"fastga.wrapper.propulsion.basicIC_engine\",\n",
    "        ),\n",
    "        var_inputs,\n",
    "        str(AIRCRAFT2_FILE),\n",
    "        True,\n",
    "    )"
   ]
  },
  {
   "cell_type": "code",
   "execution_count": 14,
   "metadata": {},
   "outputs": [],
   "source": [
    "# Compute both aircraft designs using similar input parameters\n",
    "inputs_dict = {\"data:weight:aircraft:MTOW\": (1700.0, \"kg\"), \"data:TLAR:v_cruise\": (158, \"kn\"), \"data:mission:sizing:main_route:cruise:altitude\": (8000.0, \"ft\")}\n",
    "\n",
    "result1 = compute_geometry1(inputs_dict)\n",
    "result2 = compute_geometry2(inputs_dict)"
   ]
  },
  {
   "cell_type": "markdown",
   "metadata": {},
   "source": [
    "Now, we are gona plot the results for both aicrafts."
   ]
  },
  {
   "cell_type": "code",
   "execution_count": 15,
   "metadata": {},
   "outputs": [
    {
     "data": {
      "application/vnd.plotly.v1+json": {
       "config": {
        "plotlyServerURL": "https://plot.ly"
       },
       "data": [
        {
         "mode": "lines",
         "name": "reference aircraft - maneuver",
         "type": "scatter",
         "uid": "cda02214-7845-470b-b278-03db8a379329",
         "x": [
          32.889020682336664,
          36.358296624141566,
          39.827572565946475,
          43.29684850775138,
          46.76612444955628,
          50.23540039136118,
          53.70467633316609,
          57.17395227497099,
          60.643228216775896,
          64.1125041585808,
          108.51379675683795,
          108.51379675683795,
          77.54195309295464,
          45.28234126018306,
          45.28234126018306,
          44.33195098202664,
          43.38156070387022,
          42.43117042571381,
          41.48078014755739,
          40.53038986940097,
          39.57999959124455,
          38.62960931308814,
          37.67921903493172,
          36.7288287567753,
          36.7288287567753,
          32.889020682336664,
          32.889020682336664
         ],
         "y": [
          1,
          1.222095579054181,
          1.4664450411225953,
          1.733048386205241,
          2.0219056143021192,
          2.3330167254132306,
          2.6663817195385744,
          3.02200059667815,
          3.3998733568319586,
          3.7999999999999994,
          3.8,
          0,
          -1.52,
          -1.52,
          -1.52,
          -1.4568657383888977,
          -1.3950705977361266,
          -1.334614578041687,
          -1.275497679305578,
          -1.2177199015278002,
          -1.1612812447083534,
          -1.106181708847238,
          -1.0524212939444535,
          -1,
          0,
          0,
          1
         ]
        },
        {
         "mode": "markers",
         "name": "reference aircraft - maneuver [points]",
         "type": "scatter",
         "uid": "1bc6d41b-cc9b-4713-bf88-6fc59515ba6e",
         "x": [
          32.889020682336664,
          64.1125041585808,
          108.51379675683795,
          108.51379675683795,
          77.54195309295464,
          45.28234126018306,
          36.7288287567753
         ],
         "y": [
          1,
          3.8,
          3.8,
          0,
          -1.52,
          -1.52,
          -1
         ]
        },
        {
         "mode": "lines+markers",
         "name": "reference aircraft - gust",
         "type": "scatter",
         "uid": "4420e6e0-5336-472b-b13e-06b87e6bb3bd",
         "x": [
          0,
          77.54195309295464,
          108.51379675683795,
          108.51379675683795,
          77.54195309295464,
          0
         ],
         "y": [
          0,
          3.8,
          2.9460590321682893,
          -0.9460590321682896,
          -1.7372876929302823,
          0
         ]
        }
       ],
       "layout": {
        "template": {
         "data": {
          "bar": [
           {
            "error_x": {
             "color": "#2a3f5f"
            },
            "error_y": {
             "color": "#2a3f5f"
            },
            "marker": {
             "line": {
              "color": "#E5ECF6",
              "width": 0.5
             }
            },
            "type": "bar"
           }
          ],
          "barpolar": [
           {
            "marker": {
             "line": {
              "color": "#E5ECF6",
              "width": 0.5
             }
            },
            "type": "barpolar"
           }
          ],
          "carpet": [
           {
            "aaxis": {
             "endlinecolor": "#2a3f5f",
             "gridcolor": "white",
             "linecolor": "white",
             "minorgridcolor": "white",
             "startlinecolor": "#2a3f5f"
            },
            "baxis": {
             "endlinecolor": "#2a3f5f",
             "gridcolor": "white",
             "linecolor": "white",
             "minorgridcolor": "white",
             "startlinecolor": "#2a3f5f"
            },
            "type": "carpet"
           }
          ],
          "choropleth": [
           {
            "colorbar": {
             "outlinewidth": 0,
             "ticks": ""
            },
            "type": "choropleth"
           }
          ],
          "contour": [
           {
            "colorbar": {
             "outlinewidth": 0,
             "ticks": ""
            },
            "colorscale": [
             [
              0,
              "#0d0887"
             ],
             [
              0.1111111111111111,
              "#46039f"
             ],
             [
              0.2222222222222222,
              "#7201a8"
             ],
             [
              0.3333333333333333,
              "#9c179e"
             ],
             [
              0.4444444444444444,
              "#bd3786"
             ],
             [
              0.5555555555555556,
              "#d8576b"
             ],
             [
              0.6666666666666666,
              "#ed7953"
             ],
             [
              0.7777777777777778,
              "#fb9f3a"
             ],
             [
              0.8888888888888888,
              "#fdca26"
             ],
             [
              1,
              "#f0f921"
             ]
            ],
            "type": "contour"
           }
          ],
          "contourcarpet": [
           {
            "colorbar": {
             "outlinewidth": 0,
             "ticks": ""
            },
            "type": "contourcarpet"
           }
          ],
          "heatmap": [
           {
            "colorbar": {
             "outlinewidth": 0,
             "ticks": ""
            },
            "colorscale": [
             [
              0,
              "#0d0887"
             ],
             [
              0.1111111111111111,
              "#46039f"
             ],
             [
              0.2222222222222222,
              "#7201a8"
             ],
             [
              0.3333333333333333,
              "#9c179e"
             ],
             [
              0.4444444444444444,
              "#bd3786"
             ],
             [
              0.5555555555555556,
              "#d8576b"
             ],
             [
              0.6666666666666666,
              "#ed7953"
             ],
             [
              0.7777777777777778,
              "#fb9f3a"
             ],
             [
              0.8888888888888888,
              "#fdca26"
             ],
             [
              1,
              "#f0f921"
             ]
            ],
            "type": "heatmap"
           }
          ],
          "heatmapgl": [
           {
            "colorbar": {
             "outlinewidth": 0,
             "ticks": ""
            },
            "colorscale": [
             [
              0,
              "#0d0887"
             ],
             [
              0.1111111111111111,
              "#46039f"
             ],
             [
              0.2222222222222222,
              "#7201a8"
             ],
             [
              0.3333333333333333,
              "#9c179e"
             ],
             [
              0.4444444444444444,
              "#bd3786"
             ],
             [
              0.5555555555555556,
              "#d8576b"
             ],
             [
              0.6666666666666666,
              "#ed7953"
             ],
             [
              0.7777777777777778,
              "#fb9f3a"
             ],
             [
              0.8888888888888888,
              "#fdca26"
             ],
             [
              1,
              "#f0f921"
             ]
            ],
            "type": "heatmapgl"
           }
          ],
          "histogram": [
           {
            "marker": {
             "colorbar": {
              "outlinewidth": 0,
              "ticks": ""
             }
            },
            "type": "histogram"
           }
          ],
          "histogram2d": [
           {
            "colorbar": {
             "outlinewidth": 0,
             "ticks": ""
            },
            "colorscale": [
             [
              0,
              "#0d0887"
             ],
             [
              0.1111111111111111,
              "#46039f"
             ],
             [
              0.2222222222222222,
              "#7201a8"
             ],
             [
              0.3333333333333333,
              "#9c179e"
             ],
             [
              0.4444444444444444,
              "#bd3786"
             ],
             [
              0.5555555555555556,
              "#d8576b"
             ],
             [
              0.6666666666666666,
              "#ed7953"
             ],
             [
              0.7777777777777778,
              "#fb9f3a"
             ],
             [
              0.8888888888888888,
              "#fdca26"
             ],
             [
              1,
              "#f0f921"
             ]
            ],
            "type": "histogram2d"
           }
          ],
          "histogram2dcontour": [
           {
            "colorbar": {
             "outlinewidth": 0,
             "ticks": ""
            },
            "colorscale": [
             [
              0,
              "#0d0887"
             ],
             [
              0.1111111111111111,
              "#46039f"
             ],
             [
              0.2222222222222222,
              "#7201a8"
             ],
             [
              0.3333333333333333,
              "#9c179e"
             ],
             [
              0.4444444444444444,
              "#bd3786"
             ],
             [
              0.5555555555555556,
              "#d8576b"
             ],
             [
              0.6666666666666666,
              "#ed7953"
             ],
             [
              0.7777777777777778,
              "#fb9f3a"
             ],
             [
              0.8888888888888888,
              "#fdca26"
             ],
             [
              1,
              "#f0f921"
             ]
            ],
            "type": "histogram2dcontour"
           }
          ],
          "mesh3d": [
           {
            "colorbar": {
             "outlinewidth": 0,
             "ticks": ""
            },
            "type": "mesh3d"
           }
          ],
          "parcoords": [
           {
            "line": {
             "colorbar": {
              "outlinewidth": 0,
              "ticks": ""
             }
            },
            "type": "parcoords"
           }
          ],
          "pie": [
           {
            "automargin": true,
            "type": "pie"
           }
          ],
          "scatter": [
           {
            "marker": {
             "colorbar": {
              "outlinewidth": 0,
              "ticks": ""
             }
            },
            "type": "scatter"
           }
          ],
          "scatter3d": [
           {
            "line": {
             "colorbar": {
              "outlinewidth": 0,
              "ticks": ""
             }
            },
            "marker": {
             "colorbar": {
              "outlinewidth": 0,
              "ticks": ""
             }
            },
            "type": "scatter3d"
           }
          ],
          "scattercarpet": [
           {
            "marker": {
             "colorbar": {
              "outlinewidth": 0,
              "ticks": ""
             }
            },
            "type": "scattercarpet"
           }
          ],
          "scattergeo": [
           {
            "marker": {
             "colorbar": {
              "outlinewidth": 0,
              "ticks": ""
             }
            },
            "type": "scattergeo"
           }
          ],
          "scattergl": [
           {
            "marker": {
             "colorbar": {
              "outlinewidth": 0,
              "ticks": ""
             }
            },
            "type": "scattergl"
           }
          ],
          "scattermapbox": [
           {
            "marker": {
             "colorbar": {
              "outlinewidth": 0,
              "ticks": ""
             }
            },
            "type": "scattermapbox"
           }
          ],
          "scatterpolar": [
           {
            "marker": {
             "colorbar": {
              "outlinewidth": 0,
              "ticks": ""
             }
            },
            "type": "scatterpolar"
           }
          ],
          "scatterpolargl": [
           {
            "marker": {
             "colorbar": {
              "outlinewidth": 0,
              "ticks": ""
             }
            },
            "type": "scatterpolargl"
           }
          ],
          "scatterternary": [
           {
            "marker": {
             "colorbar": {
              "outlinewidth": 0,
              "ticks": ""
             }
            },
            "type": "scatterternary"
           }
          ],
          "surface": [
           {
            "colorbar": {
             "outlinewidth": 0,
             "ticks": ""
            },
            "colorscale": [
             [
              0,
              "#0d0887"
             ],
             [
              0.1111111111111111,
              "#46039f"
             ],
             [
              0.2222222222222222,
              "#7201a8"
             ],
             [
              0.3333333333333333,
              "#9c179e"
             ],
             [
              0.4444444444444444,
              "#bd3786"
             ],
             [
              0.5555555555555556,
              "#d8576b"
             ],
             [
              0.6666666666666666,
              "#ed7953"
             ],
             [
              0.7777777777777778,
              "#fb9f3a"
             ],
             [
              0.8888888888888888,
              "#fdca26"
             ],
             [
              1,
              "#f0f921"
             ]
            ],
            "type": "surface"
           }
          ],
          "table": [
           {
            "cells": {
             "fill": {
              "color": "#EBF0F8"
             },
             "line": {
              "color": "white"
             }
            },
            "header": {
             "fill": {
              "color": "#C8D4E3"
             },
             "line": {
              "color": "white"
             }
            },
            "type": "table"
           }
          ]
         },
         "layout": {
          "annotationdefaults": {
           "arrowcolor": "#2a3f5f",
           "arrowhead": 0,
           "arrowwidth": 1
          },
          "autotypenumbers": "strict",
          "coloraxis": {
           "colorbar": {
            "outlinewidth": 0,
            "ticks": ""
           }
          },
          "colorscale": {
           "diverging": [
            [
             0,
             "#8e0152"
            ],
            [
             0.1,
             "#c51b7d"
            ],
            [
             0.2,
             "#de77ae"
            ],
            [
             0.3,
             "#f1b6da"
            ],
            [
             0.4,
             "#fde0ef"
            ],
            [
             0.5,
             "#f7f7f7"
            ],
            [
             0.6,
             "#e6f5d0"
            ],
            [
             0.7,
             "#b8e186"
            ],
            [
             0.8,
             "#7fbc41"
            ],
            [
             0.9,
             "#4d9221"
            ],
            [
             1,
             "#276419"
            ]
           ],
           "sequential": [
            [
             0,
             "#0d0887"
            ],
            [
             0.1111111111111111,
             "#46039f"
            ],
            [
             0.2222222222222222,
             "#7201a8"
            ],
            [
             0.3333333333333333,
             "#9c179e"
            ],
            [
             0.4444444444444444,
             "#bd3786"
            ],
            [
             0.5555555555555556,
             "#d8576b"
            ],
            [
             0.6666666666666666,
             "#ed7953"
            ],
            [
             0.7777777777777778,
             "#fb9f3a"
            ],
            [
             0.8888888888888888,
             "#fdca26"
            ],
            [
             1,
             "#f0f921"
            ]
           ],
           "sequentialminus": [
            [
             0,
             "#0d0887"
            ],
            [
             0.1111111111111111,
             "#46039f"
            ],
            [
             0.2222222222222222,
             "#7201a8"
            ],
            [
             0.3333333333333333,
             "#9c179e"
            ],
            [
             0.4444444444444444,
             "#bd3786"
            ],
            [
             0.5555555555555556,
             "#d8576b"
            ],
            [
             0.6666666666666666,
             "#ed7953"
            ],
            [
             0.7777777777777778,
             "#fb9f3a"
            ],
            [
             0.8888888888888888,
             "#fdca26"
            ],
            [
             1,
             "#f0f921"
            ]
           ]
          },
          "colorway": [
           "#636efa",
           "#EF553B",
           "#00cc96",
           "#ab63fa",
           "#FFA15A",
           "#19d3f3",
           "#FF6692",
           "#B6E880",
           "#FF97FF",
           "#FECB52"
          ],
          "font": {
           "color": "#2a3f5f"
          },
          "geo": {
           "bgcolor": "white",
           "lakecolor": "white",
           "landcolor": "#E5ECF6",
           "showlakes": true,
           "showland": true,
           "subunitcolor": "white"
          },
          "hoverlabel": {
           "align": "left"
          },
          "hovermode": "closest",
          "mapbox": {
           "style": "light"
          },
          "paper_bgcolor": "white",
          "plot_bgcolor": "#E5ECF6",
          "polar": {
           "angularaxis": {
            "gridcolor": "white",
            "linecolor": "white",
            "ticks": ""
           },
           "bgcolor": "#E5ECF6",
           "radialaxis": {
            "gridcolor": "white",
            "linecolor": "white",
            "ticks": ""
           }
          },
          "scene": {
           "xaxis": {
            "backgroundcolor": "#E5ECF6",
            "gridcolor": "white",
            "gridwidth": 2,
            "linecolor": "white",
            "showbackground": true,
            "ticks": "",
            "zerolinecolor": "white"
           },
           "yaxis": {
            "backgroundcolor": "#E5ECF6",
            "gridcolor": "white",
            "gridwidth": 2,
            "linecolor": "white",
            "showbackground": true,
            "ticks": "",
            "zerolinecolor": "white"
           },
           "zaxis": {
            "backgroundcolor": "#E5ECF6",
            "gridcolor": "white",
            "gridwidth": 2,
            "linecolor": "white",
            "showbackground": true,
            "ticks": "",
            "zerolinecolor": "white"
           }
          },
          "shapedefaults": {
           "line": {
            "color": "#2a3f5f"
           }
          },
          "ternary": {
           "aaxis": {
            "gridcolor": "white",
            "linecolor": "white",
            "ticks": ""
           },
           "baxis": {
            "gridcolor": "white",
            "linecolor": "white",
            "ticks": ""
           },
           "bgcolor": "#E5ECF6",
           "caxis": {
            "gridcolor": "white",
            "linecolor": "white",
            "ticks": ""
           }
          },
          "title": {
           "x": 0.05
          },
          "xaxis": {
           "automargin": true,
           "gridcolor": "white",
           "linecolor": "white",
           "ticks": "",
           "title": {
            "standoff": 15
           },
           "zerolinecolor": "white",
           "zerolinewidth": 2
          },
          "yaxis": {
           "automargin": true,
           "gridcolor": "white",
           "linecolor": "white",
           "ticks": "",
           "title": {
            "standoff": 15
           },
           "zerolinecolor": "white",
           "zerolinewidth": 2
          }
         }
        },
        "title": {
         "text": "Evolution Diagram",
         "x": 0.5
        },
        "xaxis": {
         "range": [
          0,
          119.36517643252175
         ],
         "title": {
          "text": "speed [m/s]"
         }
        },
        "yaxis": {
         "range": [
          -1.9110164622233106,
          4.18
         ],
         "title": {
          "text": "load [g]"
         }
        }
       }
      },
      "text/html": [
       "<div>                            <div id=\"8fed1c6e-b72f-4f41-b57a-f4b402290017\" class=\"plotly-graph-div\" style=\"height:525px; width:100%;\"></div>            <script type=\"text/javascript\">                require([\"plotly\"], function(Plotly) {                    window.PLOTLYENV=window.PLOTLYENV || {};                                    if (document.getElementById(\"8fed1c6e-b72f-4f41-b57a-f4b402290017\")) {                    Plotly.newPlot(                        \"8fed1c6e-b72f-4f41-b57a-f4b402290017\",                        [{\"mode\": \"lines\", \"name\": \"reference aircraft - maneuver\", \"type\": \"scatter\", \"uid\": \"cda02214-7845-470b-b278-03db8a379329\", \"x\": [32.889020682336664, 36.358296624141566, 39.827572565946475, 43.29684850775138, 46.76612444955628, 50.23540039136118, 53.70467633316609, 57.17395227497099, 60.643228216775896, 64.1125041585808, 108.51379675683795, 108.51379675683795, 77.54195309295464, 45.28234126018306, 45.28234126018306, 44.33195098202664, 43.38156070387022, 42.43117042571381, 41.48078014755739, 40.53038986940097, 39.57999959124455, 38.62960931308814, 37.67921903493172, 36.7288287567753, 36.7288287567753, 32.889020682336664, 32.889020682336664], \"y\": [1.0, 1.222095579054181, 1.4664450411225953, 1.733048386205241, 2.0219056143021192, 2.3330167254132306, 2.6663817195385744, 3.02200059667815, 3.3998733568319586, 3.7999999999999994, 3.8, 0.0, -1.52, -1.52, -1.52, -1.4568657383888977, -1.3950705977361266, -1.334614578041687, -1.275497679305578, -1.2177199015278002, -1.1612812447083534, -1.106181708847238, -1.0524212939444535, -1.0, 0.0, 0.0, 1.0]}, {\"mode\": \"markers\", \"name\": \"reference aircraft - maneuver [points]\", \"type\": \"scatter\", \"uid\": \"1bc6d41b-cc9b-4713-bf88-6fc59515ba6e\", \"x\": [32.889020682336664, 64.1125041585808, 108.51379675683795, 108.51379675683795, 77.54195309295464, 45.28234126018306, 36.7288287567753], \"y\": [1.0, 3.8, 3.8, 0.0, -1.52, -1.52, -1.0]}, {\"mode\": \"lines+markers\", \"name\": \"reference aircraft - gust\", \"type\": \"scatter\", \"uid\": \"4420e6e0-5336-472b-b13e-06b87e6bb3bd\", \"x\": [0.0, 77.54195309295464, 108.51379675683795, 108.51379675683795, 77.54195309295464, 0.0], \"y\": [0.0, 3.8, 2.9460590321682893, -0.9460590321682896, -1.7372876929302823, 0.0]}],                        {\"template\": {\"data\": {\"bar\": [{\"error_x\": {\"color\": \"#2a3f5f\"}, \"error_y\": {\"color\": \"#2a3f5f\"}, \"marker\": {\"line\": {\"color\": \"#E5ECF6\", \"width\": 0.5}}, \"type\": \"bar\"}], \"barpolar\": [{\"marker\": {\"line\": {\"color\": \"#E5ECF6\", \"width\": 0.5}}, \"type\": \"barpolar\"}], \"carpet\": [{\"aaxis\": {\"endlinecolor\": \"#2a3f5f\", \"gridcolor\": \"white\", \"linecolor\": \"white\", \"minorgridcolor\": \"white\", \"startlinecolor\": \"#2a3f5f\"}, \"baxis\": {\"endlinecolor\": \"#2a3f5f\", \"gridcolor\": \"white\", \"linecolor\": \"white\", \"minorgridcolor\": \"white\", \"startlinecolor\": \"#2a3f5f\"}, \"type\": \"carpet\"}], \"choropleth\": [{\"colorbar\": {\"outlinewidth\": 0, \"ticks\": \"\"}, \"type\": \"choropleth\"}], \"contour\": [{\"colorbar\": {\"outlinewidth\": 0, \"ticks\": \"\"}, \"colorscale\": [[0.0, \"#0d0887\"], [0.1111111111111111, \"#46039f\"], [0.2222222222222222, \"#7201a8\"], [0.3333333333333333, \"#9c179e\"], [0.4444444444444444, \"#bd3786\"], [0.5555555555555556, \"#d8576b\"], [0.6666666666666666, \"#ed7953\"], [0.7777777777777778, \"#fb9f3a\"], [0.8888888888888888, \"#fdca26\"], [1.0, \"#f0f921\"]], \"type\": \"contour\"}], \"contourcarpet\": [{\"colorbar\": {\"outlinewidth\": 0, \"ticks\": \"\"}, \"type\": \"contourcarpet\"}], \"heatmap\": [{\"colorbar\": {\"outlinewidth\": 0, \"ticks\": \"\"}, \"colorscale\": [[0.0, \"#0d0887\"], [0.1111111111111111, \"#46039f\"], [0.2222222222222222, \"#7201a8\"], [0.3333333333333333, \"#9c179e\"], [0.4444444444444444, \"#bd3786\"], [0.5555555555555556, \"#d8576b\"], [0.6666666666666666, \"#ed7953\"], [0.7777777777777778, \"#fb9f3a\"], [0.8888888888888888, \"#fdca26\"], [1.0, \"#f0f921\"]], \"type\": \"heatmap\"}], \"heatmapgl\": [{\"colorbar\": {\"outlinewidth\": 0, \"ticks\": \"\"}, \"colorscale\": [[0.0, \"#0d0887\"], [0.1111111111111111, \"#46039f\"], [0.2222222222222222, \"#7201a8\"], [0.3333333333333333, \"#9c179e\"], [0.4444444444444444, \"#bd3786\"], [0.5555555555555556, \"#d8576b\"], [0.6666666666666666, \"#ed7953\"], [0.7777777777777778, \"#fb9f3a\"], [0.8888888888888888, \"#fdca26\"], [1.0, \"#f0f921\"]], \"type\": \"heatmapgl\"}], \"histogram\": [{\"marker\": {\"colorbar\": {\"outlinewidth\": 0, \"ticks\": \"\"}}, \"type\": \"histogram\"}], \"histogram2d\": [{\"colorbar\": {\"outlinewidth\": 0, \"ticks\": \"\"}, \"colorscale\": [[0.0, \"#0d0887\"], [0.1111111111111111, \"#46039f\"], [0.2222222222222222, \"#7201a8\"], [0.3333333333333333, \"#9c179e\"], [0.4444444444444444, \"#bd3786\"], [0.5555555555555556, \"#d8576b\"], [0.6666666666666666, \"#ed7953\"], [0.7777777777777778, \"#fb9f3a\"], [0.8888888888888888, \"#fdca26\"], [1.0, \"#f0f921\"]], \"type\": \"histogram2d\"}], \"histogram2dcontour\": [{\"colorbar\": {\"outlinewidth\": 0, \"ticks\": \"\"}, \"colorscale\": [[0.0, \"#0d0887\"], [0.1111111111111111, \"#46039f\"], [0.2222222222222222, \"#7201a8\"], [0.3333333333333333, \"#9c179e\"], [0.4444444444444444, \"#bd3786\"], [0.5555555555555556, \"#d8576b\"], [0.6666666666666666, \"#ed7953\"], [0.7777777777777778, \"#fb9f3a\"], [0.8888888888888888, \"#fdca26\"], [1.0, \"#f0f921\"]], \"type\": \"histogram2dcontour\"}], \"mesh3d\": [{\"colorbar\": {\"outlinewidth\": 0, \"ticks\": \"\"}, \"type\": \"mesh3d\"}], \"parcoords\": [{\"line\": {\"colorbar\": {\"outlinewidth\": 0, \"ticks\": \"\"}}, \"type\": \"parcoords\"}], \"pie\": [{\"automargin\": true, \"type\": \"pie\"}], \"scatter\": [{\"marker\": {\"colorbar\": {\"outlinewidth\": 0, \"ticks\": \"\"}}, \"type\": \"scatter\"}], \"scatter3d\": [{\"line\": {\"colorbar\": {\"outlinewidth\": 0, \"ticks\": \"\"}}, \"marker\": {\"colorbar\": {\"outlinewidth\": 0, \"ticks\": \"\"}}, \"type\": \"scatter3d\"}], \"scattercarpet\": [{\"marker\": {\"colorbar\": {\"outlinewidth\": 0, \"ticks\": \"\"}}, \"type\": \"scattercarpet\"}], \"scattergeo\": [{\"marker\": {\"colorbar\": {\"outlinewidth\": 0, \"ticks\": \"\"}}, \"type\": \"scattergeo\"}], \"scattergl\": [{\"marker\": {\"colorbar\": {\"outlinewidth\": 0, \"ticks\": \"\"}}, \"type\": \"scattergl\"}], \"scattermapbox\": [{\"marker\": {\"colorbar\": {\"outlinewidth\": 0, \"ticks\": \"\"}}, \"type\": \"scattermapbox\"}], \"scatterpolar\": [{\"marker\": {\"colorbar\": {\"outlinewidth\": 0, \"ticks\": \"\"}}, \"type\": \"scatterpolar\"}], \"scatterpolargl\": [{\"marker\": {\"colorbar\": {\"outlinewidth\": 0, \"ticks\": \"\"}}, \"type\": \"scatterpolargl\"}], \"scatterternary\": [{\"marker\": {\"colorbar\": {\"outlinewidth\": 0, \"ticks\": \"\"}}, \"type\": \"scatterternary\"}], \"surface\": [{\"colorbar\": {\"outlinewidth\": 0, \"ticks\": \"\"}, \"colorscale\": [[0.0, \"#0d0887\"], [0.1111111111111111, \"#46039f\"], [0.2222222222222222, \"#7201a8\"], [0.3333333333333333, \"#9c179e\"], [0.4444444444444444, \"#bd3786\"], [0.5555555555555556, \"#d8576b\"], [0.6666666666666666, \"#ed7953\"], [0.7777777777777778, \"#fb9f3a\"], [0.8888888888888888, \"#fdca26\"], [1.0, \"#f0f921\"]], \"type\": \"surface\"}], \"table\": [{\"cells\": {\"fill\": {\"color\": \"#EBF0F8\"}, \"line\": {\"color\": \"white\"}}, \"header\": {\"fill\": {\"color\": \"#C8D4E3\"}, \"line\": {\"color\": \"white\"}}, \"type\": \"table\"}]}, \"layout\": {\"annotationdefaults\": {\"arrowcolor\": \"#2a3f5f\", \"arrowhead\": 0, \"arrowwidth\": 1}, \"autotypenumbers\": \"strict\", \"coloraxis\": {\"colorbar\": {\"outlinewidth\": 0, \"ticks\": \"\"}}, \"colorscale\": {\"diverging\": [[0, \"#8e0152\"], [0.1, \"#c51b7d\"], [0.2, \"#de77ae\"], [0.3, \"#f1b6da\"], [0.4, \"#fde0ef\"], [0.5, \"#f7f7f7\"], [0.6, \"#e6f5d0\"], [0.7, \"#b8e186\"], [0.8, \"#7fbc41\"], [0.9, \"#4d9221\"], [1, \"#276419\"]], \"sequential\": [[0.0, \"#0d0887\"], [0.1111111111111111, \"#46039f\"], [0.2222222222222222, \"#7201a8\"], [0.3333333333333333, \"#9c179e\"], [0.4444444444444444, \"#bd3786\"], [0.5555555555555556, \"#d8576b\"], [0.6666666666666666, \"#ed7953\"], [0.7777777777777778, \"#fb9f3a\"], [0.8888888888888888, \"#fdca26\"], [1.0, \"#f0f921\"]], \"sequentialminus\": [[0.0, \"#0d0887\"], [0.1111111111111111, \"#46039f\"], [0.2222222222222222, \"#7201a8\"], [0.3333333333333333, \"#9c179e\"], [0.4444444444444444, \"#bd3786\"], [0.5555555555555556, \"#d8576b\"], [0.6666666666666666, \"#ed7953\"], [0.7777777777777778, \"#fb9f3a\"], [0.8888888888888888, \"#fdca26\"], [1.0, \"#f0f921\"]]}, \"colorway\": [\"#636efa\", \"#EF553B\", \"#00cc96\", \"#ab63fa\", \"#FFA15A\", \"#19d3f3\", \"#FF6692\", \"#B6E880\", \"#FF97FF\", \"#FECB52\"], \"font\": {\"color\": \"#2a3f5f\"}, \"geo\": {\"bgcolor\": \"white\", \"lakecolor\": \"white\", \"landcolor\": \"#E5ECF6\", \"showlakes\": true, \"showland\": true, \"subunitcolor\": \"white\"}, \"hoverlabel\": {\"align\": \"left\"}, \"hovermode\": \"closest\", \"mapbox\": {\"style\": \"light\"}, \"paper_bgcolor\": \"white\", \"plot_bgcolor\": \"#E5ECF6\", \"polar\": {\"angularaxis\": {\"gridcolor\": \"white\", \"linecolor\": \"white\", \"ticks\": \"\"}, \"bgcolor\": \"#E5ECF6\", \"radialaxis\": {\"gridcolor\": \"white\", \"linecolor\": \"white\", \"ticks\": \"\"}}, \"scene\": {\"xaxis\": {\"backgroundcolor\": \"#E5ECF6\", \"gridcolor\": \"white\", \"gridwidth\": 2, \"linecolor\": \"white\", \"showbackground\": true, \"ticks\": \"\", \"zerolinecolor\": \"white\"}, \"yaxis\": {\"backgroundcolor\": \"#E5ECF6\", \"gridcolor\": \"white\", \"gridwidth\": 2, \"linecolor\": \"white\", \"showbackground\": true, \"ticks\": \"\", \"zerolinecolor\": \"white\"}, \"zaxis\": {\"backgroundcolor\": \"#E5ECF6\", \"gridcolor\": \"white\", \"gridwidth\": 2, \"linecolor\": \"white\", \"showbackground\": true, \"ticks\": \"\", \"zerolinecolor\": \"white\"}}, \"shapedefaults\": {\"line\": {\"color\": \"#2a3f5f\"}}, \"ternary\": {\"aaxis\": {\"gridcolor\": \"white\", \"linecolor\": \"white\", \"ticks\": \"\"}, \"baxis\": {\"gridcolor\": \"white\", \"linecolor\": \"white\", \"ticks\": \"\"}, \"bgcolor\": \"#E5ECF6\", \"caxis\": {\"gridcolor\": \"white\", \"linecolor\": \"white\", \"ticks\": \"\"}}, \"title\": {\"x\": 0.05}, \"xaxis\": {\"automargin\": true, \"gridcolor\": \"white\", \"linecolor\": \"white\", \"ticks\": \"\", \"title\": {\"standoff\": 15}, \"zerolinecolor\": \"white\", \"zerolinewidth\": 2}, \"yaxis\": {\"automargin\": true, \"gridcolor\": \"white\", \"linecolor\": \"white\", \"ticks\": \"\", \"title\": {\"standoff\": 15}, \"zerolinecolor\": \"white\", \"zerolinewidth\": 2}}}, \"title\": {\"text\": \"Evolution Diagram\", \"x\": 0.5}, \"xaxis\": {\"range\": [0.0, 119.36517643252175], \"title\": {\"text\": \"speed [m/s]\"}}, \"yaxis\": {\"range\": [-1.9110164622233106, 4.18], \"title\": {\"text\": \"load [g]\"}}},                        {\"responsive\": true}                    ).then(function(){\n",
       "                            \n",
       "var gd = document.getElementById('8fed1c6e-b72f-4f41-b57a-f4b402290017');\n",
       "var x = new MutationObserver(function (mutations, observer) {{\n",
       "        var display = window.getComputedStyle(gd).display;\n",
       "        if (!display || display === 'none') {{\n",
       "            console.log([gd, 'removed!']);\n",
       "            Plotly.purge(gd);\n",
       "            observer.disconnect();\n",
       "        }}\n",
       "}});\n",
       "\n",
       "// Listen for the removal of the full notebook cells\n",
       "var notebookContainer = gd.closest('#notebook-container');\n",
       "if (notebookContainer) {{\n",
       "    x.observe(notebookContainer, {childList: true});\n",
       "}}\n",
       "\n",
       "// Listen for the clearing of the current output cell\n",
       "var outputEl = gd.closest('.output');\n",
       "if (outputEl) {{\n",
       "    x.observe(outputEl, {childList: true});\n",
       "}}\n",
       "\n",
       "                        })                };                });            </script>        </div>"
      ]
     },
     "metadata": {},
     "output_type": "display_data"
    }
   ],
   "source": [
    "from fastga.utils.postprocessing.analysis_and_plots import evolution_diagram\n",
    "\n",
    "fig = evolution_diagram(pth.join(WORK_FOLDER_PATH, 'geometry_reference.xml'), name='reference aircraft')\n",
    "# fig = evolution_diagram(pth.join(WORK_FOLDER_PATH, 'geometry_long_wing.xml'), name='long wing aircraft', fig=fig)\n",
    "fig.show()"
   ]
  },
  {
   "cell_type": "code",
   "execution_count": null,
   "metadata": {},
   "outputs": [],
   "source": []
  }
 ],
 "metadata": {
  "kernelspec": {
   "display_name": "Python 3",
   "language": "python",
   "name": "python3"
  },
  "language_info": {
   "codemirror_mode": {
    "name": "ipython",
    "version": 3
   },
   "file_extension": ".py",
   "mimetype": "text/x-python",
   "name": "python",
   "nbconvert_exporter": "python",
   "pygments_lexer": "ipython3",
   "version": "3.8.10"
  }
 },
 "nbformat": 4,
 "nbformat_minor": 4
}
